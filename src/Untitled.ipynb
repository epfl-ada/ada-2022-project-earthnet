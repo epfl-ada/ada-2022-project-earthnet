{
 "cells": [
  {
   "cell_type": "markdown",
   "id": "f1df1fb8-ace6-4cc4-8577-5386fcab6f03",
   "metadata": {},
   "source": [
    "# Observational study"
   ]
  },
  {
   "cell_type": "markdown",
   "id": "a71cd0b4-738a-4799-afcb-8c36b2c857e0",
   "metadata": {},
   "source": [
    "The goal of the present project is to define a valid metric to evaluate the impact of actors on movies. Specifically, distilling actors careers to a single number, the *star score*. Identifying the latter implies the need to identify truly successful actors, namely actors that had the highest positive impact on movies, in terms of revenues and ratings. Given the presence of multiple confounders, such as the affinity of actors with  particulare genres, genres or the preference of directors for specific actors, an observational study is carried out to limit the influence of unobserved covariates."
   ]
  },
  {
   "cell_type": "code",
   "execution_count": 2,
   "id": "10b8e2d0-eb55-4467-b318-0b10732a10eb",
   "metadata": {},
   "outputs": [],
   "source": [
    "import pandas as pd\n",
    "import numpy as np\n",
    "import matplotlib.pyplot as plt\n",
    "import matplotlib.patheffects as pe\n",
    "%matplotlib inline\n",
    "import seaborn as sns\n",
    "from scipy import stats\n",
    "import statsmodels.api as sm\n",
    "import re\n",
    "import warnings\n",
    "warnings.filterwarnings('ignore')"
   ]
  },
  {
   "cell_type": "code",
   "execution_count": 3,
   "id": "696797e7-4041-4043-8b5d-63cc4bd66a08",
   "metadata": {},
   "outputs": [],
   "source": [
    "kaggle = pd.read_csv('../data/kaggle_movies_metadata.csv')"
   ]
  },
  {
   "cell_type": "code",
   "execution_count": 5,
   "id": "75a2a313-133f-4b01-8bd6-5386d27d9169",
   "metadata": {},
   "outputs": [
    {
     "data": {
      "text/plain": [
       "Index(['adult', 'belongs_to_collection', 'budget', 'genres', 'homepage', 'id',\n",
       "       'imdb_id', 'original_language', 'original_title', 'overview',\n",
       "       'popularity', 'poster_path', 'production_companies',\n",
       "       'production_countries', 'release_date', 'revenue', 'runtime',\n",
       "       'spoken_languages', 'status', 'tagline', 'title', 'video',\n",
       "       'vote_average', 'vote_count'],\n",
       "      dtype='object')"
      ]
     },
     "execution_count": 5,
     "metadata": {},
     "output_type": "execute_result"
    }
   ],
   "source": [
    "kaggle.columns"
   ]
  },
  {
   "cell_type": "code",
   "execution_count": null,
   "id": "7f007632-f5c2-4923-b3dc-e7a628dd88a8",
   "metadata": {},
   "outputs": [],
   "source": []
  }
 ],
 "metadata": {
  "kernelspec": {
   "display_name": "Python [conda env:ada] *",
   "language": "python",
   "name": "conda-env-ada-py"
  },
  "language_info": {
   "codemirror_mode": {
    "name": "ipython",
    "version": 3
   },
   "file_extension": ".py",
   "mimetype": "text/x-python",
   "name": "python",
   "nbconvert_exporter": "python",
   "pygments_lexer": "ipython3",
   "version": "3.8.13"
  }
 },
 "nbformat": 4,
 "nbformat_minor": 5
}
