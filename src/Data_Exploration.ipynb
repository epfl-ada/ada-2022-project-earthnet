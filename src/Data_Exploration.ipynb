{
 "cells": [
  {
   "cell_type": "code",
   "execution_count": 1,
   "id": "19090070-5197-49ff-8f03-8614ac2b8d20",
   "metadata": {},
   "outputs": [],
   "source": [
    "#imports\n",
    "import pandas as pd\n",
    "import numpy as np\n",
    "import matplotlib.pyplot as plt\n",
    "%matplotlib inline\n",
    "import seaborn as sns\n",
    "import tarfile\n",
    "import math\n",
    "from scipy import stats\n",
    "import statsmodels.formula.api as smf"
   ]
  },
  {
   "cell_type": "code",
   "execution_count": 2,
   "id": "e7ba8fc2-dbb2-47dd-903e-6887aeb9233b",
   "metadata": {},
   "outputs": [
    {
     "name": "stdout",
     "output_type": "stream",
     "text": [
      "['MovieSummaries', 'MovieSummaries/tvtropes.clusters.txt', 'MovieSummaries/name.clusters.txt', 'MovieSummaries/plot_summaries.txt', 'MovieSummaries/README.txt', 'MovieSummaries/movie.metadata.tsv', 'MovieSummaries/character.metadata.tsv']\n"
     ]
    }
   ],
   "source": [
    "filename = \"MovieSummaries.tar.gz\"\n",
    "ds = tarfile.open(filename)\n",
    "print(ds.getnames())\n",
    "tf = tarfile.open(filename)\n",
    "tf.extractall('MS_decomp')"
   ]
  },
  {
   "cell_type": "code",
   "execution_count": 3,
   "id": "a4c76619-b89a-4c9a-9080-5512916eb498",
   "metadata": {},
   "outputs": [],
   "source": [
    "movie = pd.read_csv('./MS_decomp/MovieSummaries/'+'movie.metadata.tsv', \n",
    "                 sep='\\t',\n",
    "                 names=['Wikipedia_movie_ID',\n",
    "                        'Freebase_movie_ID',\n",
    "                        'Movie_name',\n",
    "                        'Movie_release_date',\n",
    "                        'Movie_box_office_revenue',\n",
    "                        'Movie_runtime',\n",
    "                        'Movie_languages',\n",
    "                        'Movie_countries',\n",
    "                        'Movie_genres'],\n",
    "                 header=None)"
   ]
  },
  {
   "cell_type": "code",
   "execution_count": 4,
   "id": "c3050431-37cc-4f29-879a-d1eaed881804",
   "metadata": {},
   "outputs": [],
   "source": [
    "character = pd.read_csv('./MS_decomp/MovieSummaries/'+'character.metadata.tsv', \n",
    "                 sep='\\t',\n",
    "                 names=['Wikipedia_movie_ID',\n",
    "                        'Freebase_movie_ID',\n",
    "                        'Movie_release_date',\n",
    "                        'Character_name',\n",
    "                        'Actor_date_of_birth',\n",
    "                        'Actor_gender',\n",
    "                        'Actor_height',\n",
    "                        'Actor_ethnicity',\n",
    "                        'Actor_name',\n",
    "                        'Actor_age_at_movie_release',\n",
    "                        'Freebase_character/actor_map_ID',\n",
    "                        'Freebase_character_ID',\n",
    "                        'Freebase_actor_ID'],\n",
    "                 header=None)"
   ]
  },
  {
   "cell_type": "code",
   "execution_count": 5,
   "id": "5b91d7ed-8314-43e5-910d-4d4146a70277",
   "metadata": {},
   "outputs": [],
   "source": [
    "plots = pd.read_csv('./MS_decomp/MovieSummaries/'+'plot_summaries.txt', \n",
    "                 sep='\\t',\n",
    "                 names=['Wikipedia_movie_ID',\n",
    "                        'Summary'],\n",
    "                 header=None)"
   ]
  },
  {
   "cell_type": "code",
   "execution_count": 6,
   "id": "60f351d2-eac1-4c94-a1a2-72cebb0ec19b",
   "metadata": {},
   "outputs": [
    {
     "data": {
      "text/html": [
       "<div>\n",
       "<style scoped>\n",
       "    .dataframe tbody tr th:only-of-type {\n",
       "        vertical-align: middle;\n",
       "    }\n",
       "\n",
       "    .dataframe tbody tr th {\n",
       "        vertical-align: top;\n",
       "    }\n",
       "\n",
       "    .dataframe thead th {\n",
       "        text-align: right;\n",
       "    }\n",
       "</style>\n",
       "<table border=\"1\" class=\"dataframe\">\n",
       "  <thead>\n",
       "    <tr style=\"text-align: right;\">\n",
       "      <th></th>\n",
       "      <th>Wikipedia_movie_ID</th>\n",
       "      <th>Freebase_movie_ID</th>\n",
       "      <th>Movie_name</th>\n",
       "      <th>Movie_release_date</th>\n",
       "      <th>Movie_box_office_revenue</th>\n",
       "      <th>Movie_runtime</th>\n",
       "      <th>Movie_languages</th>\n",
       "      <th>Movie_countries</th>\n",
       "      <th>Movie_genres</th>\n",
       "    </tr>\n",
       "  </thead>\n",
       "  <tbody>\n",
       "    <tr>\n",
       "      <th>0</th>\n",
       "      <td>975900</td>\n",
       "      <td>/m/03vyhn</td>\n",
       "      <td>Ghosts of Mars</td>\n",
       "      <td>2001-08-24</td>\n",
       "      <td>14010832.0</td>\n",
       "      <td>98.0</td>\n",
       "      <td>{\"/m/02h40lc\": \"English Language\"}</td>\n",
       "      <td>{\"/m/09c7w0\": \"United States of America\"}</td>\n",
       "      <td>{\"/m/01jfsb\": \"Thriller\", \"/m/06n90\": \"Science...</td>\n",
       "    </tr>\n",
       "    <tr>\n",
       "      <th>1</th>\n",
       "      <td>3196793</td>\n",
       "      <td>/m/08yl5d</td>\n",
       "      <td>Getting Away with Murder: The JonBenét Ramsey ...</td>\n",
       "      <td>2000-02-16</td>\n",
       "      <td>NaN</td>\n",
       "      <td>95.0</td>\n",
       "      <td>{\"/m/02h40lc\": \"English Language\"}</td>\n",
       "      <td>{\"/m/09c7w0\": \"United States of America\"}</td>\n",
       "      <td>{\"/m/02n4kr\": \"Mystery\", \"/m/03bxz7\": \"Biograp...</td>\n",
       "    </tr>\n",
       "    <tr>\n",
       "      <th>2</th>\n",
       "      <td>28463795</td>\n",
       "      <td>/m/0crgdbh</td>\n",
       "      <td>Brun bitter</td>\n",
       "      <td>1988</td>\n",
       "      <td>NaN</td>\n",
       "      <td>83.0</td>\n",
       "      <td>{\"/m/05f_3\": \"Norwegian Language\"}</td>\n",
       "      <td>{\"/m/05b4w\": \"Norway\"}</td>\n",
       "      <td>{\"/m/0lsxr\": \"Crime Fiction\", \"/m/07s9rl0\": \"D...</td>\n",
       "    </tr>\n",
       "  </tbody>\n",
       "</table>\n",
       "</div>"
      ],
      "text/plain": [
       "   Wikipedia_movie_ID Freebase_movie_ID  \\\n",
       "0              975900         /m/03vyhn   \n",
       "1             3196793         /m/08yl5d   \n",
       "2            28463795        /m/0crgdbh   \n",
       "\n",
       "                                          Movie_name Movie_release_date  \\\n",
       "0                                     Ghosts of Mars         2001-08-24   \n",
       "1  Getting Away with Murder: The JonBenét Ramsey ...         2000-02-16   \n",
       "2                                        Brun bitter               1988   \n",
       "\n",
       "   Movie_box_office_revenue  Movie_runtime  \\\n",
       "0                14010832.0           98.0   \n",
       "1                       NaN           95.0   \n",
       "2                       NaN           83.0   \n",
       "\n",
       "                      Movie_languages  \\\n",
       "0  {\"/m/02h40lc\": \"English Language\"}   \n",
       "1  {\"/m/02h40lc\": \"English Language\"}   \n",
       "2  {\"/m/05f_3\": \"Norwegian Language\"}   \n",
       "\n",
       "                             Movie_countries  \\\n",
       "0  {\"/m/09c7w0\": \"United States of America\"}   \n",
       "1  {\"/m/09c7w0\": \"United States of America\"}   \n",
       "2                     {\"/m/05b4w\": \"Norway\"}   \n",
       "\n",
       "                                        Movie_genres  \n",
       "0  {\"/m/01jfsb\": \"Thriller\", \"/m/06n90\": \"Science...  \n",
       "1  {\"/m/02n4kr\": \"Mystery\", \"/m/03bxz7\": \"Biograp...  \n",
       "2  {\"/m/0lsxr\": \"Crime Fiction\", \"/m/07s9rl0\": \"D...  "
      ]
     },
     "execution_count": 6,
     "metadata": {},
     "output_type": "execute_result"
    }
   ],
   "source": [
    "movie.head(3)"
   ]
  },
  {
   "cell_type": "code",
   "execution_count": 7,
   "id": "32230aa7-26cc-41a2-a159-174aef4bed1a",
   "metadata": {},
   "outputs": [
    {
     "data": {
      "text/html": [
       "<div>\n",
       "<style scoped>\n",
       "    .dataframe tbody tr th:only-of-type {\n",
       "        vertical-align: middle;\n",
       "    }\n",
       "\n",
       "    .dataframe tbody tr th {\n",
       "        vertical-align: top;\n",
       "    }\n",
       "\n",
       "    .dataframe thead th {\n",
       "        text-align: right;\n",
       "    }\n",
       "</style>\n",
       "<table border=\"1\" class=\"dataframe\">\n",
       "  <thead>\n",
       "    <tr style=\"text-align: right;\">\n",
       "      <th></th>\n",
       "      <th>Wikipedia_movie_ID</th>\n",
       "      <th>Freebase_movie_ID</th>\n",
       "      <th>Movie_release_date</th>\n",
       "      <th>Character_name</th>\n",
       "      <th>Actor_date_of_birth</th>\n",
       "      <th>Actor_gender</th>\n",
       "      <th>Actor_height</th>\n",
       "      <th>Actor_ethnicity</th>\n",
       "      <th>Actor_name</th>\n",
       "      <th>Actor_age_at_movie_release</th>\n",
       "      <th>Freebase_character/actor_map_ID</th>\n",
       "      <th>Freebase_character_ID</th>\n",
       "      <th>Freebase_actor_ID</th>\n",
       "    </tr>\n",
       "  </thead>\n",
       "  <tbody>\n",
       "    <tr>\n",
       "      <th>0</th>\n",
       "      <td>975900</td>\n",
       "      <td>/m/03vyhn</td>\n",
       "      <td>2001-08-24</td>\n",
       "      <td>Akooshay</td>\n",
       "      <td>1958-08-26</td>\n",
       "      <td>F</td>\n",
       "      <td>1.620</td>\n",
       "      <td>NaN</td>\n",
       "      <td>Wanda De Jesus</td>\n",
       "      <td>42.0</td>\n",
       "      <td>/m/0bgchxw</td>\n",
       "      <td>/m/0bgcj3x</td>\n",
       "      <td>/m/03wcfv7</td>\n",
       "    </tr>\n",
       "    <tr>\n",
       "      <th>1</th>\n",
       "      <td>975900</td>\n",
       "      <td>/m/03vyhn</td>\n",
       "      <td>2001-08-24</td>\n",
       "      <td>Lieutenant Melanie Ballard</td>\n",
       "      <td>1974-08-15</td>\n",
       "      <td>F</td>\n",
       "      <td>1.780</td>\n",
       "      <td>/m/044038p</td>\n",
       "      <td>Natasha Henstridge</td>\n",
       "      <td>27.0</td>\n",
       "      <td>/m/0jys3m</td>\n",
       "      <td>/m/0bgchn4</td>\n",
       "      <td>/m/0346l4</td>\n",
       "    </tr>\n",
       "    <tr>\n",
       "      <th>2</th>\n",
       "      <td>975900</td>\n",
       "      <td>/m/03vyhn</td>\n",
       "      <td>2001-08-24</td>\n",
       "      <td>Desolation Williams</td>\n",
       "      <td>1969-06-15</td>\n",
       "      <td>M</td>\n",
       "      <td>1.727</td>\n",
       "      <td>/m/0x67</td>\n",
       "      <td>Ice Cube</td>\n",
       "      <td>32.0</td>\n",
       "      <td>/m/0jys3g</td>\n",
       "      <td>/m/0bgchn_</td>\n",
       "      <td>/m/01vw26l</td>\n",
       "    </tr>\n",
       "  </tbody>\n",
       "</table>\n",
       "</div>"
      ],
      "text/plain": [
       "   Wikipedia_movie_ID Freebase_movie_ID Movie_release_date  \\\n",
       "0              975900         /m/03vyhn         2001-08-24   \n",
       "1              975900         /m/03vyhn         2001-08-24   \n",
       "2              975900         /m/03vyhn         2001-08-24   \n",
       "\n",
       "               Character_name Actor_date_of_birth Actor_gender  Actor_height  \\\n",
       "0                    Akooshay          1958-08-26            F         1.620   \n",
       "1  Lieutenant Melanie Ballard          1974-08-15            F         1.780   \n",
       "2         Desolation Williams          1969-06-15            M         1.727   \n",
       "\n",
       "  Actor_ethnicity          Actor_name  Actor_age_at_movie_release  \\\n",
       "0             NaN      Wanda De Jesus                        42.0   \n",
       "1      /m/044038p  Natasha Henstridge                        27.0   \n",
       "2         /m/0x67            Ice Cube                        32.0   \n",
       "\n",
       "  Freebase_character/actor_map_ID Freebase_character_ID Freebase_actor_ID  \n",
       "0                      /m/0bgchxw            /m/0bgcj3x        /m/03wcfv7  \n",
       "1                       /m/0jys3m            /m/0bgchn4         /m/0346l4  \n",
       "2                       /m/0jys3g            /m/0bgchn_        /m/01vw26l  "
      ]
     },
     "execution_count": 7,
     "metadata": {},
     "output_type": "execute_result"
    }
   ],
   "source": [
    "character.head(3)"
   ]
  },
  {
   "cell_type": "code",
   "execution_count": 8,
   "id": "cc444adb-3a63-4541-be1b-1ecddf3ef65e",
   "metadata": {},
   "outputs": [
    {
     "data": {
      "text/html": [
       "<div>\n",
       "<style scoped>\n",
       "    .dataframe tbody tr th:only-of-type {\n",
       "        vertical-align: middle;\n",
       "    }\n",
       "\n",
       "    .dataframe tbody tr th {\n",
       "        vertical-align: top;\n",
       "    }\n",
       "\n",
       "    .dataframe thead th {\n",
       "        text-align: right;\n",
       "    }\n",
       "</style>\n",
       "<table border=\"1\" class=\"dataframe\">\n",
       "  <thead>\n",
       "    <tr style=\"text-align: right;\">\n",
       "      <th></th>\n",
       "      <th>Wikipedia_movie_ID</th>\n",
       "      <th>Summary</th>\n",
       "    </tr>\n",
       "  </thead>\n",
       "  <tbody>\n",
       "    <tr>\n",
       "      <th>0</th>\n",
       "      <td>23890098</td>\n",
       "      <td>Shlykov, a hard-working taxi driver and Lyosha...</td>\n",
       "    </tr>\n",
       "    <tr>\n",
       "      <th>1</th>\n",
       "      <td>31186339</td>\n",
       "      <td>The nation of Panem consists of a wealthy Capi...</td>\n",
       "    </tr>\n",
       "    <tr>\n",
       "      <th>2</th>\n",
       "      <td>20663735</td>\n",
       "      <td>Poovalli Induchoodan  is sentenced for six yea...</td>\n",
       "    </tr>\n",
       "  </tbody>\n",
       "</table>\n",
       "</div>"
      ],
      "text/plain": [
       "   Wikipedia_movie_ID                                            Summary\n",
       "0            23890098  Shlykov, a hard-working taxi driver and Lyosha...\n",
       "1            31186339  The nation of Panem consists of a wealthy Capi...\n",
       "2            20663735  Poovalli Induchoodan  is sentenced for six yea..."
      ]
     },
     "execution_count": 8,
     "metadata": {},
     "output_type": "execute_result"
    }
   ],
   "source": [
    "plots.head(3)"
   ]
  },
  {
   "cell_type": "markdown",
   "id": "f4bebba0-70c9-420e-bd72-7ae65773b9e6",
   "metadata": {},
   "source": [
    "# Data cleaning"
   ]
  },
  {
   "cell_type": "code",
   "execution_count": 9,
   "id": "84d77ed8-58ef-4717-aaf8-fa425639df40",
   "metadata": {},
   "outputs": [],
   "source": [
    "#move release dates and actor birth dates to datetime format and keep only release year\n",
    "character.Movie_release_date = pd.to_datetime(character['Movie_release_date'],\n",
    "                                              errors='coerce').dt.year\n",
    "\n",
    "movie.Movie_release_date = pd.to_datetime(movie['Movie_release_date'],\n",
    "                                              errors='coerce').dt.year"
   ]
  },
  {
   "cell_type": "code",
   "execution_count": 10,
   "id": "e1a7bd7d-6e7a-4229-b84d-efdb2c24fcfe",
   "metadata": {},
   "outputs": [],
   "source": [
    "#sort dataframes by ascending release year\n",
    "character.sort_values(by=['Movie_release_date'], ascending=True, inplace=True)\n",
    "\n",
    "movie.sort_values(by=['Movie_release_date'], ascending=True, inplace=True)"
   ]
  },
  {
   "cell_type": "code",
   "execution_count": 11,
   "id": "b51a7b43-f6ac-4641-9213-7325b3149267",
   "metadata": {},
   "outputs": [],
   "source": [
    "#merge dataframes\n",
    "ds = pd.merge(movie,character)"
   ]
  },
  {
   "cell_type": "code",
   "execution_count": 12,
   "id": "2e4e0398-423a-4f68-9e7c-02402724a201",
   "metadata": {},
   "outputs": [],
   "source": [
    "#find movies without box office and filter them out\n",
    "bad_ids = ds.loc[ds['Movie_box_office_revenue'].isnull()].index\n",
    "ds_filt = ds.drop(bad_ids)"
   ]
  },
  {
   "cell_type": "code",
   "execution_count": 13,
   "id": "f86d53ce-fcef-460e-9238-89f81b0055f1",
   "metadata": {},
   "outputs": [],
   "source": [
    "#sort dataframe by movie release date\n",
    "#ds_filt.sort_values(by=['Movie_release_date'], ascending=True, inplace=True)"
   ]
  },
  {
   "cell_type": "code",
   "execution_count": 14,
   "id": "9220c741-6942-4e3a-86cc-302e8710d320",
   "metadata": {},
   "outputs": [
    {
     "data": {
      "text/plain": [
       "101028"
      ]
     },
     "execution_count": 14,
     "metadata": {},
     "output_type": "execute_result"
    }
   ],
   "source": [
    "len(ds_filt)"
   ]
  },
  {
   "cell_type": "markdown",
   "id": "3ba4140a-73fd-485c-bc73-b4d50e9dbd45",
   "metadata": {},
   "source": [
    "## Preliminary results on the impact of one actor"
   ]
  },
  {
   "cell_type": "code",
   "execution_count": 17,
   "id": "f9e37e50-61fd-4b46-8e54-6db02add285c",
   "metadata": {},
   "outputs": [],
   "source": [
    "#slice the character dataframe to get only Leonardo Di Caprio movies\n",
    "nc = pd.DataFrame(ds_filt.query(\"Actor_name == 'Leonardo DiCaprio'\")).reset_index(drop=True)"
   ]
  },
  {
   "cell_type": "code",
   "execution_count": 18,
   "id": "f992ae4d-7f80-4220-88f0-ea7c63d946a2",
   "metadata": {},
   "outputs": [
    {
     "name": "stdout",
     "output_type": "stream",
     "text": [
      "Leonardo Di Caprio starred in 22 movies\n"
     ]
    }
   ],
   "source": [
    "#number of movies Leonardo Di Caprio starred in\n",
    "print('Leonardo Di Caprio starred in ' + str(len(nc)) + ' movies')"
   ]
  },
  {
   "cell_type": "code",
   "execution_count": 19,
   "id": "2026d915-d91c-444e-82ef-a3530c77f49b",
   "metadata": {},
   "outputs": [
    {
     "data": {
      "text/html": [
       "<div>\n",
       "<style scoped>\n",
       "    .dataframe tbody tr th:only-of-type {\n",
       "        vertical-align: middle;\n",
       "    }\n",
       "\n",
       "    .dataframe tbody tr th {\n",
       "        vertical-align: top;\n",
       "    }\n",
       "\n",
       "    .dataframe thead th {\n",
       "        text-align: right;\n",
       "    }\n",
       "</style>\n",
       "<table border=\"1\" class=\"dataframe\">\n",
       "  <thead>\n",
       "    <tr style=\"text-align: right;\">\n",
       "      <th></th>\n",
       "      <th>Wikipedia_movie_ID</th>\n",
       "      <th>Freebase_movie_ID</th>\n",
       "      <th>Movie_name</th>\n",
       "      <th>Movie_release_date</th>\n",
       "      <th>Movie_box_office_revenue</th>\n",
       "      <th>Movie_runtime</th>\n",
       "      <th>Movie_languages</th>\n",
       "      <th>Movie_countries</th>\n",
       "      <th>Movie_genres</th>\n",
       "      <th>Character_name</th>\n",
       "      <th>Actor_date_of_birth</th>\n",
       "      <th>Actor_gender</th>\n",
       "      <th>Actor_height</th>\n",
       "      <th>Actor_ethnicity</th>\n",
       "      <th>Actor_name</th>\n",
       "      <th>Actor_age_at_movie_release</th>\n",
       "      <th>Freebase_character/actor_map_ID</th>\n",
       "      <th>Freebase_character_ID</th>\n",
       "      <th>Freebase_actor_ID</th>\n",
       "    </tr>\n",
       "  </thead>\n",
       "  <tbody>\n",
       "    <tr>\n",
       "      <th>0</th>\n",
       "      <td>656608</td>\n",
       "      <td>/m/0306c6</td>\n",
       "      <td>What's Eating Gilbert Grape</td>\n",
       "      <td>1993.0</td>\n",
       "      <td>10032765.0</td>\n",
       "      <td>117.0</td>\n",
       "      <td>{\"/m/02h40lc\": \"English Language\"}</td>\n",
       "      <td>{\"/m/09c7w0\": \"United States of America\"}</td>\n",
       "      <td>{\"/m/0219x_\": \"Indie\", \"/m/0clz1b\": \"Slice of ...</td>\n",
       "      <td>Arnie Grape</td>\n",
       "      <td>1974-11-11</td>\n",
       "      <td>M</td>\n",
       "      <td>1.83</td>\n",
       "      <td>/m/09kr66</td>\n",
       "      <td>Leonardo DiCaprio</td>\n",
       "      <td>NaN</td>\n",
       "      <td>/m/0k7_65</td>\n",
       "      <td>/m/02nwr_8</td>\n",
       "      <td>/m/0dvmd</td>\n",
       "    </tr>\n",
       "    <tr>\n",
       "      <th>1</th>\n",
       "      <td>6417754</td>\n",
       "      <td>/m/0g4lfl</td>\n",
       "      <td>This Boy's Life</td>\n",
       "      <td>1993.0</td>\n",
       "      <td>4104962.0</td>\n",
       "      <td>114.0</td>\n",
       "      <td>{\"/m/02h40lc\": \"English Language\"}</td>\n",
       "      <td>{\"/m/09c7w0\": \"United States of America\"}</td>\n",
       "      <td>{\"/m/02h8pkk\": \"Family Drama\", \"/m/04xvlr\": \"P...</td>\n",
       "      <td>Tobias \"Toby\" Wolff</td>\n",
       "      <td>1974-11-11</td>\n",
       "      <td>M</td>\n",
       "      <td>1.83</td>\n",
       "      <td>/m/09kr66</td>\n",
       "      <td>Leonardo DiCaprio</td>\n",
       "      <td>18.0</td>\n",
       "      <td>/m/0k71hy</td>\n",
       "      <td>/m/04gdr_7</td>\n",
       "      <td>/m/0dvmd</td>\n",
       "    </tr>\n",
       "    <tr>\n",
       "      <th>2</th>\n",
       "      <td>740824</td>\n",
       "      <td>/m/037c_d</td>\n",
       "      <td>The Quick and the Dead</td>\n",
       "      <td>1995.0</td>\n",
       "      <td>18636537.0</td>\n",
       "      <td>105.0</td>\n",
       "      <td>{\"/m/02h40lc\": \"English Language\"}</td>\n",
       "      <td>{\"/m/09c7w0\": \"United States of America\", \"/m/...</td>\n",
       "      <td>{\"/m/01jfsb\": \"Thriller\", \"/m/0gw5n2f\": \"Japan...</td>\n",
       "      <td>Fee \"The Kid\" Herod</td>\n",
       "      <td>1974-11-11</td>\n",
       "      <td>M</td>\n",
       "      <td>1.83</td>\n",
       "      <td>/m/09kr66</td>\n",
       "      <td>Leonardo DiCaprio</td>\n",
       "      <td>20.0</td>\n",
       "      <td>/m/02vby_g</td>\n",
       "      <td>/m/04gdr_y</td>\n",
       "      <td>/m/0dvmd</td>\n",
       "    </tr>\n",
       "  </tbody>\n",
       "</table>\n",
       "</div>"
      ],
      "text/plain": [
       "   Wikipedia_movie_ID Freebase_movie_ID                   Movie_name  \\\n",
       "0              656608         /m/0306c6  What's Eating Gilbert Grape   \n",
       "1             6417754         /m/0g4lfl              This Boy's Life   \n",
       "2              740824         /m/037c_d       The Quick and the Dead   \n",
       "\n",
       "   Movie_release_date  Movie_box_office_revenue  Movie_runtime  \\\n",
       "0              1993.0                10032765.0          117.0   \n",
       "1              1993.0                 4104962.0          114.0   \n",
       "2              1995.0                18636537.0          105.0   \n",
       "\n",
       "                      Movie_languages  \\\n",
       "0  {\"/m/02h40lc\": \"English Language\"}   \n",
       "1  {\"/m/02h40lc\": \"English Language\"}   \n",
       "2  {\"/m/02h40lc\": \"English Language\"}   \n",
       "\n",
       "                                     Movie_countries  \\\n",
       "0          {\"/m/09c7w0\": \"United States of America\"}   \n",
       "1          {\"/m/09c7w0\": \"United States of America\"}   \n",
       "2  {\"/m/09c7w0\": \"United States of America\", \"/m/...   \n",
       "\n",
       "                                        Movie_genres       Character_name  \\\n",
       "0  {\"/m/0219x_\": \"Indie\", \"/m/0clz1b\": \"Slice of ...          Arnie Grape   \n",
       "1  {\"/m/02h8pkk\": \"Family Drama\", \"/m/04xvlr\": \"P...  Tobias \"Toby\" Wolff   \n",
       "2  {\"/m/01jfsb\": \"Thriller\", \"/m/0gw5n2f\": \"Japan...  Fee \"The Kid\" Herod   \n",
       "\n",
       "  Actor_date_of_birth Actor_gender  Actor_height Actor_ethnicity  \\\n",
       "0          1974-11-11            M          1.83       /m/09kr66   \n",
       "1          1974-11-11            M          1.83       /m/09kr66   \n",
       "2          1974-11-11            M          1.83       /m/09kr66   \n",
       "\n",
       "          Actor_name  Actor_age_at_movie_release  \\\n",
       "0  Leonardo DiCaprio                         NaN   \n",
       "1  Leonardo DiCaprio                        18.0   \n",
       "2  Leonardo DiCaprio                        20.0   \n",
       "\n",
       "  Freebase_character/actor_map_ID Freebase_character_ID Freebase_actor_ID  \n",
       "0                       /m/0k7_65            /m/02nwr_8          /m/0dvmd  \n",
       "1                       /m/0k71hy            /m/04gdr_7          /m/0dvmd  \n",
       "2                      /m/02vby_g            /m/04gdr_y          /m/0dvmd  "
      ]
     },
     "execution_count": 19,
     "metadata": {},
     "output_type": "execute_result"
    }
   ],
   "source": [
    "nc.head(3)"
   ]
  },
  {
   "cell_type": "markdown",
   "id": "772ff3d6-be45-476c-99eb-552287a8df47",
   "metadata": {},
   "source": [
    "As a preliminary analysis, we plot the distribution of box office revenues for Leonardo Di Caprio movies to see the type of distribution. From the histogram below, we observe that most of the movies have a low box office revenue (skewed distribution); the goal is to verify if there is a correlation between the 'experience' of the actor (number of times he has starred in the movie) and the revenue. "
   ]
  },
  {
   "cell_type": "markdown",
   "id": "1fa5b02a-eaf1-4b12-ad71-6cd25ba4caf1",
   "metadata": {},
   "source": [
    "From the box plot below it is possible to distinguish the median and the quartiles of the distribution. A couple of outliers make it difficult to visualize the distribution properly. To correctly read the data, we proceed to remove them."
   ]
  },
  {
   "cell_type": "code",
   "execution_count": 20,
   "id": "8dd0c3a5-f71f-45ca-b293-77d3bf9638a8",
   "metadata": {},
   "outputs": [
    {
     "data": {
      "image/png": "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\n",
      "text/plain": [
       "<Figure size 800x300 with 2 Axes>"
      ]
     },
     "metadata": {},
     "output_type": "display_data"
    }
   ],
   "source": [
    "#plot distribution\n",
    "fig, ax = plt.subplots(1,2, figsize=(8,3), sharey = True)\n",
    "\n",
    "sbplt = ax[0]\n",
    "sbplt.hist(nc.Movie_box_office_revenue, bins=15, orientation='horizontal')\n",
    "sbplt.set_title('Histogram')\n",
    "\n",
    "sbplt = ax[1]\n",
    "sbplt.boxplot(nc.Movie_box_office_revenue)\n",
    "sbplt.set_title('Box plot')\n",
    "    \n",
    "fig.tight_layout()\n",
    "fig.text(0,0.3, \"Box office revenue\", rotation = 90)\n",
    "plt.show()"
   ]
  },
  {
   "cell_type": "code",
   "execution_count": 21,
   "id": "1dbcf1d5-0774-4291-a116-7a7387ecb492",
   "metadata": {},
   "outputs": [
    {
     "name": "stdout",
     "output_type": "stream",
     "text": [
      "The new number of movies considered is 20\n"
     ]
    }
   ],
   "source": [
    "#remove outliers\n",
    "nc.query('Movie_box_office_revenue < 0.5e9', inplace=True)\n",
    "nc.reset_index(inplace=True, drop=True)\n",
    "print('The new number of movies considered is ' + str(len(nc)))"
   ]
  },
  {
   "cell_type": "markdown",
   "id": "3ece1318-aa99-431b-a99f-12473af3b176",
   "metadata": {},
   "source": [
    "In this case, the distribution is way more readable. Most of the movies are in the low box office part"
   ]
  },
  {
   "cell_type": "code",
   "execution_count": 22,
   "id": "4760fceb-0806-4d2c-a09b-b29499200019",
   "metadata": {},
   "outputs": [
    {
     "name": "stdout",
     "output_type": "stream",
     "text": [
      "The median is 131.3261425 M$\n",
      "The first quartile is 16.485594 M$\n",
      "The third quartile is 198.76474275 M$\n"
     ]
    }
   ],
   "source": [
    "#some stats\n",
    "print('The median is ' + str(np.median(nc.Movie_box_office_revenue)/1e6) + ' M$')\n",
    "print('The first quartile is ' + str(np.quantile(nc.Movie_box_office_revenue,0.25)/1e6) + ' M$')\n",
    "print('The third quartile is ' + str(np.quantile(nc.Movie_box_office_revenue,0.75)/1e6) + ' M$')"
   ]
  },
  {
   "cell_type": "code",
   "execution_count": 23,
   "id": "bdaadfe5-a04c-4e08-ac6c-04e02c5248d3",
   "metadata": {},
   "outputs": [
    {
     "data": {
      "image/png": "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\n",
      "text/plain": [
       "<Figure size 800x300 with 2 Axes>"
      ]
     },
     "metadata": {},
     "output_type": "display_data"
    }
   ],
   "source": [
    "#plot again\n",
    "\n",
    "fig, ax = plt.subplots(1,2, figsize=(8,3), sharey = True)\n",
    "\n",
    "sbplt = ax[0]\n",
    "sbplt.hist(nc.Movie_box_office_revenue, bins=10, orientation='horizontal')\n",
    "sbplt.set_title('Histogram')\n",
    "\n",
    "sbplt = ax[1]\n",
    "sbplt.boxplot(nc.Movie_box_office_revenue)\n",
    "sbplt.set_title('Box plot')\n",
    "    \n",
    "fig.tight_layout()\n",
    "fig.text(0,0.3, \"Box office revenue\", rotation = 90)\n",
    "plt.show()"
   ]
  },
  {
   "cell_type": "markdown",
   "id": "55c29fb0-cd07-4270-aab2-3da9e1b954b6",
   "metadata": {},
   "source": [
    "### Actor's experience"
   ]
  },
  {
   "cell_type": "code",
   "execution_count": 24,
   "id": "88c5709a-b712-430d-91bb-637b2f8022da",
   "metadata": {},
   "outputs": [],
   "source": [
    "#series with number of times the actor starred before (related to dataframe)\n",
    "#in reality there are more movies\n",
    "exp = np.zeros(len(nc)) \n",
    "t = 1\n",
    "for i in range(len(nc)):\n",
    "    exp[i] = t\n",
    "    t += 1"
   ]
  },
  {
   "cell_type": "code",
   "execution_count": 25,
   "id": "5a773f92-d10b-4f6c-b59a-82768d0324f5",
   "metadata": {},
   "outputs": [],
   "source": [
    "nc['experience'] = exp #add to dataframe"
   ]
  },
  {
   "cell_type": "code",
   "execution_count": 26,
   "id": "c0ab6aa2-e849-4610-91c4-1703f3f9373a",
   "metadata": {},
   "outputs": [
    {
     "data": {
      "text/plain": [
       "PearsonRResult(statistic=0.5934248237363671, pvalue=0.00581203585134971)"
      ]
     },
     "execution_count": 26,
     "metadata": {},
     "output_type": "execute_result"
    }
   ],
   "source": [
    "#is there a correlation between experience and box office revenue??\n",
    "stats.pearsonr(nc['experience'],nc['Movie_box_office_revenue']) #pearson correlation"
   ]
  },
  {
   "cell_type": "code",
   "execution_count": 27,
   "id": "4ecc081f-8b00-447a-9dc9-327377dc40fe",
   "metadata": {},
   "outputs": [
    {
     "data": {
      "text/plain": [
       "SpearmanrResult(correlation=0.6265513793971837, pvalue=0.0031167519062784994)"
      ]
     },
     "execution_count": 27,
     "metadata": {},
     "output_type": "execute_result"
    }
   ],
   "source": [
    "stats.spearmanr(nc['experience'],nc['Movie_box_office_revenue'])"
   ]
  },
  {
   "cell_type": "markdown",
   "id": "16d9b256-7a9f-4fbc-ac4e-21e3a4bd1060",
   "metadata": {},
   "source": [
    "Applying the Pearson and Spearman relation, we obtain a positive correlation of **0.59** and **0.63**, respectively. This seems to lead to a link between experience and box office revenue."
   ]
  },
  {
   "cell_type": "code",
   "execution_count": 28,
   "id": "b6202a24-fb1e-4c1c-9630-9ffee4f0e4ad",
   "metadata": {},
   "outputs": [
    {
     "data": {
      "image/png": "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\n",
      "text/plain": [
       "<Figure size 500x500 with 1 Axes>"
      ]
     },
     "metadata": {},
     "output_type": "display_data"
    }
   ],
   "source": [
    "#plot linear correlation\n",
    "sns.lmplot(x='experience',y='Movie_box_office_revenue', data=nc)\n",
    "plt.show()"
   ]
  },
  {
   "cell_type": "markdown",
   "id": "2f0bf1e2-cfad-4839-b041-07b40ad6537d",
   "metadata": {},
   "source": [
    "### Regression analysis"
   ]
  },
  {
   "cell_type": "markdown",
   "id": "bf00d335-dcda-4ead-b397-0a094db7f30c",
   "metadata": {},
   "source": [
    "To understand a bit better the influence of the other parameters on the box office revenue, a model of the revenue based on multiple factors can be tested. The factors taken into consideration are:\n",
    "- Movie runtime;\n",
    "- Experience."
   ]
  },
  {
   "cell_type": "code",
   "execution_count": 29,
   "id": "67898aa1-fd16-4b70-a1a5-59b2b781ee20",
   "metadata": {},
   "outputs": [],
   "source": [
    "#copy dataframe\n",
    "nc_reg = nc.copy()"
   ]
  },
  {
   "cell_type": "code",
   "execution_count": 30,
   "id": "1df458a5-dfa2-4289-94a5-c242b1296e02",
   "metadata": {},
   "outputs": [],
   "source": [
    "#logarithmic scaling of continuous variables\n",
    "nc_reg['Movie_box_office_revenue'] = np.log(nc_reg['Movie_box_office_revenue'])\n",
    "#nc_reg['Movie_runtime'] = np.log(nc_reg['Movie_runtime'])\n",
    "#nc_reg['Movie_release_date'] = np.log(nc_reg['Movie_release_date'])\n",
    "#nc_reg['experience'] = np.log(nc_reg['experience'])"
   ]
  },
  {
   "cell_type": "code",
   "execution_count": 31,
   "id": "383d6667-6f3a-4031-884b-1850bc168910",
   "metadata": {},
   "outputs": [],
   "source": [
    "#standardize continuous variables\n",
    "#nc_reg['Movie_box_office_revenue'] = (nc_reg['Movie_box_office_revenue'] - nc_reg['Movie_box_office_revenue'].mean())/nc_reg['Movie_box_office_revenue'].std()\n",
    "#nc['Movie_release_date'] = (nc['Movie_release_date'] - nc['Movie_release_date'].mean())/nc['Movie_release_date'].std()\n",
    "#nc['Actor_age_at_movie_release'] = (nc['Actor_age_at_movie_release'] - nc['Actor_age_at_movie_release'].mean())/nc['Actor_age_at_movie_release'].std()\n",
    "#nc['experience'] = (nc['experience'] - nc['experience'].mean())/nc['experience'].std()"
   ]
  },
  {
   "cell_type": "code",
   "execution_count": 32,
   "id": "6267c5b7-11c4-4cd1-8b4f-7ff7817558b7",
   "metadata": {},
   "outputs": [
    {
     "name": "stdout",
     "output_type": "stream",
     "text": [
      "                               OLS Regression Results                               \n",
      "====================================================================================\n",
      "Dep. Variable:     Movie_box_office_revenue   R-squared:                       0.524\n",
      "Model:                                  OLS   Adj. R-squared:                  0.468\n",
      "Method:                       Least Squares   F-statistic:                     9.360\n",
      "Date:                      Wed, 16 Nov 2022   Prob (F-statistic):            0.00182\n",
      "Time:                              22:41:16   Log-Likelihood:                -33.936\n",
      "No. Observations:                        20   AIC:                             73.87\n",
      "Df Residuals:                            17   BIC:                             76.86\n",
      "Df Model:                                 2                                         \n",
      "Covariance Type:                  nonrobust                                         \n",
      "=================================================================================\n",
      "                    coef    std err          t      P>|t|      [0.025      0.975]\n",
      "---------------------------------------------------------------------------------\n",
      "Intercept        11.9754      1.967      6.087      0.000       7.825      16.126\n",
      "Movie_runtime     0.0315      0.016      1.921      0.072      -0.003       0.066\n",
      "experience        0.1738      0.060      2.918      0.010       0.048       0.300\n",
      "==============================================================================\n",
      "Omnibus:                        2.657   Durbin-Watson:                   1.969\n",
      "Prob(Omnibus):                  0.265   Jarque-Bera (JB):                1.565\n",
      "Skew:                          -0.684   Prob(JB):                        0.457\n",
      "Kurtosis:                       3.077   Cond. No.                         792.\n",
      "==============================================================================\n",
      "\n",
      "Notes:\n",
      "[1] Standard Errors assume that the covariance matrix of the errors is correctly specified.\n"
     ]
    }
   ],
   "source": [
    "mod = smf.ols(formula='Movie_box_office_revenue ~  Movie_runtime +  experience', data=nc_reg)\n",
    "\n",
    "res = mod.fit()\n",
    "print(res.summary())"
   ]
  },
  {
   "cell_type": "markdown",
   "id": "8cbefe86-aa2a-4330-b78f-eca6683a13b8",
   "metadata": {},
   "source": [
    "From the results, it is possible to get interesting information. The R squared is **0.52**, meaning more than half of the variance is explained. The movie runtime (**C=0.03**) and the experience of the actor (**C=0.174**) positively influence the revenue, even if only the latter is statistically significant (**P < 5%**).\n",
    "A confounder that could naively lead us to overestimate the statistical significance of the actor's experience is inflation. Indeed, over the years the value of money changes; for a proper evaluation, an inflation correction has to be done."
   ]
  },
  {
   "cell_type": "code",
   "execution_count": 33,
   "id": "3336486f-101f-4f82-aea8-ec5e9f98e6cf",
   "metadata": {},
   "outputs": [],
   "source": [
    "#take inflation into account\n",
    "#https://liberalarts.oregonstate.edu/spp/polisci/faculty-staff/robert-sahr/inflation-conversion-factors-years-1774-estimated-2024-dollars-recent-years/individual-year-conversion-factor-table-0\n",
    "cf = pd.read_csv('inflation_correction.csv')\n",
    "cf.query('Year > 1969', inplace=True)\n",
    "cf.reset_index(drop=True, inplace=True)\n",
    "#cf['Year'] = pd.to_datetime(pd.Series(cf.Year)).dt.year #convert to datetime format"
   ]
  },
  {
   "cell_type": "code",
   "execution_count": 34,
   "id": "998a1ba2-b371-4c17-a387-4c7efeeeb825",
   "metadata": {},
   "outputs": [
    {
     "data": {
      "text/html": [
       "<div>\n",
       "<style scoped>\n",
       "    .dataframe tbody tr th:only-of-type {\n",
       "        vertical-align: middle;\n",
       "    }\n",
       "\n",
       "    .dataframe tbody tr th {\n",
       "        vertical-align: top;\n",
       "    }\n",
       "\n",
       "    .dataframe thead th {\n",
       "        text-align: right;\n",
       "    }\n",
       "</style>\n",
       "<table border=\"1\" class=\"dataframe\">\n",
       "  <thead>\n",
       "    <tr style=\"text-align: right;\">\n",
       "      <th></th>\n",
       "      <th>Year</th>\n",
       "      <th>CF</th>\n",
       "    </tr>\n",
       "  </thead>\n",
       "  <tbody>\n",
       "    <tr>\n",
       "      <th>0</th>\n",
       "      <td>1970.0</td>\n",
       "      <td>0.16</td>\n",
       "    </tr>\n",
       "    <tr>\n",
       "      <th>1</th>\n",
       "      <td>1971.0</td>\n",
       "      <td>0.17</td>\n",
       "    </tr>\n",
       "    <tr>\n",
       "      <th>2</th>\n",
       "      <td>1972.0</td>\n",
       "      <td>0.17</td>\n",
       "    </tr>\n",
       "  </tbody>\n",
       "</table>\n",
       "</div>"
      ],
      "text/plain": [
       "     Year    CF\n",
       "0  1970.0  0.16\n",
       "1  1971.0  0.17\n",
       "2  1972.0  0.17"
      ]
     },
     "execution_count": 34,
     "metadata": {},
     "output_type": "execute_result"
    }
   ],
   "source": [
    "cf.head(3)"
   ]
  },
  {
   "cell_type": "code",
   "execution_count": 35,
   "id": "d1a28c96-13b7-4dca-a826-1d60217928c6",
   "metadata": {},
   "outputs": [],
   "source": [
    "#function to compute inflation for a certain year\n",
    "def infl(year):\n",
    "    inf = cf['CF'][cf['Year'] == year]\n",
    "    return inf"
   ]
  },
  {
   "cell_type": "code",
   "execution_count": 36,
   "id": "5c1ff1f6-f6e7-4b88-887c-728d46b17d63",
   "metadata": {},
   "outputs": [],
   "source": [
    "#compute inflation for dataframe rows and add column\n",
    "infl_corr = np.zeros(len(nc))\n",
    "for i in range(len(nc)):\n",
    "    infl_corr[i] = infl(nc['Movie_release_date'][i])\n",
    "nc['CF'] = infl_corr"
   ]
  },
  {
   "cell_type": "code",
   "execution_count": 37,
   "id": "55159c64-f9f8-477f-8f9d-05d55fa7f178",
   "metadata": {},
   "outputs": [],
   "source": [
    "#add inflation corrected box office revenue\n",
    "nc['inflation_revenue'] = nc['Movie_box_office_revenue']/nc['CF']"
   ]
  },
  {
   "cell_type": "code",
   "execution_count": 38,
   "id": "86274d39-e4f0-4587-98d9-486e2f1fa21a",
   "metadata": {},
   "outputs": [
    {
     "data": {
      "text/html": [
       "<div>\n",
       "<style scoped>\n",
       "    .dataframe tbody tr th:only-of-type {\n",
       "        vertical-align: middle;\n",
       "    }\n",
       "\n",
       "    .dataframe tbody tr th {\n",
       "        vertical-align: top;\n",
       "    }\n",
       "\n",
       "    .dataframe thead th {\n",
       "        text-align: right;\n",
       "    }\n",
       "</style>\n",
       "<table border=\"1\" class=\"dataframe\">\n",
       "  <thead>\n",
       "    <tr style=\"text-align: right;\">\n",
       "      <th></th>\n",
       "      <th>Wikipedia_movie_ID</th>\n",
       "      <th>Freebase_movie_ID</th>\n",
       "      <th>Movie_name</th>\n",
       "      <th>Movie_release_date</th>\n",
       "      <th>Movie_box_office_revenue</th>\n",
       "      <th>Movie_runtime</th>\n",
       "      <th>Movie_languages</th>\n",
       "      <th>Movie_countries</th>\n",
       "      <th>Movie_genres</th>\n",
       "      <th>Character_name</th>\n",
       "      <th>...</th>\n",
       "      <th>Actor_height</th>\n",
       "      <th>Actor_ethnicity</th>\n",
       "      <th>Actor_name</th>\n",
       "      <th>Actor_age_at_movie_release</th>\n",
       "      <th>Freebase_character/actor_map_ID</th>\n",
       "      <th>Freebase_character_ID</th>\n",
       "      <th>Freebase_actor_ID</th>\n",
       "      <th>experience</th>\n",
       "      <th>CF</th>\n",
       "      <th>inflation_revenue</th>\n",
       "    </tr>\n",
       "  </thead>\n",
       "  <tbody>\n",
       "    <tr>\n",
       "      <th>0</th>\n",
       "      <td>656608</td>\n",
       "      <td>/m/0306c6</td>\n",
       "      <td>What's Eating Gilbert Grape</td>\n",
       "      <td>1993.0</td>\n",
       "      <td>10032765.0</td>\n",
       "      <td>117.0</td>\n",
       "      <td>{\"/m/02h40lc\": \"English Language\"}</td>\n",
       "      <td>{\"/m/09c7w0\": \"United States of America\"}</td>\n",
       "      <td>{\"/m/0219x_\": \"Indie\", \"/m/0clz1b\": \"Slice of ...</td>\n",
       "      <td>Arnie Grape</td>\n",
       "      <td>...</td>\n",
       "      <td>1.83</td>\n",
       "      <td>/m/09kr66</td>\n",
       "      <td>Leonardo DiCaprio</td>\n",
       "      <td>NaN</td>\n",
       "      <td>/m/0k7_65</td>\n",
       "      <td>/m/02nwr_8</td>\n",
       "      <td>/m/0dvmd</td>\n",
       "      <td>1.0</td>\n",
       "      <td>0.60</td>\n",
       "      <td>1.672128e+07</td>\n",
       "    </tr>\n",
       "    <tr>\n",
       "      <th>1</th>\n",
       "      <td>6417754</td>\n",
       "      <td>/m/0g4lfl</td>\n",
       "      <td>This Boy's Life</td>\n",
       "      <td>1993.0</td>\n",
       "      <td>4104962.0</td>\n",
       "      <td>114.0</td>\n",
       "      <td>{\"/m/02h40lc\": \"English Language\"}</td>\n",
       "      <td>{\"/m/09c7w0\": \"United States of America\"}</td>\n",
       "      <td>{\"/m/02h8pkk\": \"Family Drama\", \"/m/04xvlr\": \"P...</td>\n",
       "      <td>Tobias \"Toby\" Wolff</td>\n",
       "      <td>...</td>\n",
       "      <td>1.83</td>\n",
       "      <td>/m/09kr66</td>\n",
       "      <td>Leonardo DiCaprio</td>\n",
       "      <td>18.0</td>\n",
       "      <td>/m/0k71hy</td>\n",
       "      <td>/m/04gdr_7</td>\n",
       "      <td>/m/0dvmd</td>\n",
       "      <td>2.0</td>\n",
       "      <td>0.60</td>\n",
       "      <td>6.841603e+06</td>\n",
       "    </tr>\n",
       "    <tr>\n",
       "      <th>2</th>\n",
       "      <td>740824</td>\n",
       "      <td>/m/037c_d</td>\n",
       "      <td>The Quick and the Dead</td>\n",
       "      <td>1995.0</td>\n",
       "      <td>18636537.0</td>\n",
       "      <td>105.0</td>\n",
       "      <td>{\"/m/02h40lc\": \"English Language\"}</td>\n",
       "      <td>{\"/m/09c7w0\": \"United States of America\", \"/m/...</td>\n",
       "      <td>{\"/m/01jfsb\": \"Thriller\", \"/m/0gw5n2f\": \"Japan...</td>\n",
       "      <td>Fee \"The Kid\" Herod</td>\n",
       "      <td>...</td>\n",
       "      <td>1.83</td>\n",
       "      <td>/m/09kr66</td>\n",
       "      <td>Leonardo DiCaprio</td>\n",
       "      <td>20.0</td>\n",
       "      <td>/m/02vby_g</td>\n",
       "      <td>/m/04gdr_y</td>\n",
       "      <td>/m/0dvmd</td>\n",
       "      <td>3.0</td>\n",
       "      <td>0.64</td>\n",
       "      <td>2.911959e+07</td>\n",
       "    </tr>\n",
       "  </tbody>\n",
       "</table>\n",
       "<p>3 rows × 22 columns</p>\n",
       "</div>"
      ],
      "text/plain": [
       "   Wikipedia_movie_ID Freebase_movie_ID                   Movie_name  \\\n",
       "0              656608         /m/0306c6  What's Eating Gilbert Grape   \n",
       "1             6417754         /m/0g4lfl              This Boy's Life   \n",
       "2              740824         /m/037c_d       The Quick and the Dead   \n",
       "\n",
       "   Movie_release_date  Movie_box_office_revenue  Movie_runtime  \\\n",
       "0              1993.0                10032765.0          117.0   \n",
       "1              1993.0                 4104962.0          114.0   \n",
       "2              1995.0                18636537.0          105.0   \n",
       "\n",
       "                      Movie_languages  \\\n",
       "0  {\"/m/02h40lc\": \"English Language\"}   \n",
       "1  {\"/m/02h40lc\": \"English Language\"}   \n",
       "2  {\"/m/02h40lc\": \"English Language\"}   \n",
       "\n",
       "                                     Movie_countries  \\\n",
       "0          {\"/m/09c7w0\": \"United States of America\"}   \n",
       "1          {\"/m/09c7w0\": \"United States of America\"}   \n",
       "2  {\"/m/09c7w0\": \"United States of America\", \"/m/...   \n",
       "\n",
       "                                        Movie_genres       Character_name  \\\n",
       "0  {\"/m/0219x_\": \"Indie\", \"/m/0clz1b\": \"Slice of ...          Arnie Grape   \n",
       "1  {\"/m/02h8pkk\": \"Family Drama\", \"/m/04xvlr\": \"P...  Tobias \"Toby\" Wolff   \n",
       "2  {\"/m/01jfsb\": \"Thriller\", \"/m/0gw5n2f\": \"Japan...  Fee \"The Kid\" Herod   \n",
       "\n",
       "   ... Actor_height Actor_ethnicity         Actor_name  \\\n",
       "0  ...         1.83       /m/09kr66  Leonardo DiCaprio   \n",
       "1  ...         1.83       /m/09kr66  Leonardo DiCaprio   \n",
       "2  ...         1.83       /m/09kr66  Leonardo DiCaprio   \n",
       "\n",
       "  Actor_age_at_movie_release Freebase_character/actor_map_ID  \\\n",
       "0                        NaN                       /m/0k7_65   \n",
       "1                       18.0                       /m/0k71hy   \n",
       "2                       20.0                      /m/02vby_g   \n",
       "\n",
       "   Freebase_character_ID Freebase_actor_ID experience    CF  inflation_revenue  \n",
       "0             /m/02nwr_8          /m/0dvmd        1.0  0.60       1.672128e+07  \n",
       "1             /m/04gdr_7          /m/0dvmd        2.0  0.60       6.841603e+06  \n",
       "2             /m/04gdr_y          /m/0dvmd        3.0  0.64       2.911959e+07  \n",
       "\n",
       "[3 rows x 22 columns]"
      ]
     },
     "execution_count": 38,
     "metadata": {},
     "output_type": "execute_result"
    }
   ],
   "source": [
    "nc.head(3)"
   ]
  },
  {
   "cell_type": "code",
   "execution_count": 39,
   "id": "ea9ac845-c71d-428b-80a7-c926900fa1d7",
   "metadata": {},
   "outputs": [
    {
     "data": {
      "image/png": "iVBORw0KGgoAAAANSUhEUgAAAjsAAAGwCAYAAABPSaTdAAAAOXRFWHRTb2Z0d2FyZQBNYXRwbG90bGliIHZlcnNpb24zLjUuMiwgaHR0cHM6Ly9tYXRwbG90bGliLm9yZy8qNh9FAAAACXBIWXMAAA9hAAAPYQGoP6dpAACfq0lEQVR4nOzdd3zV9fX48de9N8nN3hsCISSMsIciS7Y4UbFVf07UYq2rVi3WWhVqnXVV/dZateKoYqvirgjIFNkEmSGBhATI3vPmjs/vj8+9NwlJIDe5yR05z8cjDy733nzuAUJy7vt93udoFEVREEIIIYTwUlpXByCEEEII0ZMk2RFCCCGEV5NkRwghhBBeTZIdIYQQQng1SXaEEEII4dUk2RFCCCGEV5NkRwghhBBezcfVAbgDi8XCqVOnCAkJQaPRuDocIYQQQnSCoijU1NSQmJiIVtvx+o0kO8CpU6dISkpydRhCCCGE6IL8/Hz69+/f4eOS7AAhISGA+pcVGhrq4miEEEII0RnV1dUkJSXZf453RJIdsG9dhYaGSrIjhBBCeJizlaBIgbIQQgghvJokO0IIIYTwapLsCCGEEMKrSc2OEEJ4KbPZjNFodHUYQnSZr68vOp2u29eRZEcIIbyMoigUFhZSWVnp6lCE6Lbw8HDi4+O71QdPkh0hhPAytkQnNjaWwMBAaZYqPJKiKNTX11NcXAxAQkJCl68lyY4QQngRs9lsT3SioqJcHY4Q3RIQEABAcXExsbGxXd7SkgJlIYTwIrYancDAQBdHIoRz2L6Wu1N/JsmOEEJ4Idm6Et7CGV/LkuwIIYQQwqtJsiOEEEIIrybJjhBCCI9UWFjIvHnzCAoKIjw8HFC3PD7//PNuX9tZ1/F2M2fO5L777nN1GGclp7GEEF6tyWRBowFfnby3c2eLFi2isrLSoQTjpZdeoqCggIyMDMLCwrr0ukuXLuXzzz8nIyOj1f0FBQVERER06ZreaP369cyaNYuKigp7Ygnw2Wef4evr67rAOkmSHSGE16qqNzLnxQ2kxgax4vbJrg5HONnRo0eZMGECaWlpTr92fHy806/Z08xmMxqNBq22dWLf1NSEn59fj7xmZGRkj1zX2eStjhDCa609XERprYH9J6tdHYrLKIpCfZPJJR+KonQ57pkzZ3LvvfeyZMkSIiMjiY+PZ+nSpfbHk5OT+fTTT3nvvffQaDQsWrSo3es89NBDDBkyhMDAQFJSUnj00UftR5iXL1/OsmXL2Lt3LxqNBo1Gw/Lly4G221j79u1j9uzZBAQEEBUVxe23305tba398UWLFnHFFVfw/PPPk5CQQFRUFHfddddZj0t/+eWXTJw4EX9/f6Kjo1m4cKH9sYqKCm666SYiIiIIDAzkoosuIisry/748uXLCQ8P5+uvvyY9PR29Xs/x48dJTk7mL3/5C4sWLSIsLIzFixcDsGXLFs4//3wCAgJISkri3nvvpa6uzn49g8HAkiVLSEpKQq/Xk5aWxttvv01ubi6zZs0CICIiotXf9+nbWJ2NedWqVQwfPpzg4GAuvPBCCgoKzvj31F2ysiOE8FprDxW7OgSXazCaSX9slUte++Cf5xPo1/UfM++++y73338/27Zt46effmLRokVMnTqVefPmsWPHDm666SZCQ0P529/+Zm8+d7qQkBCWL19OYmIi+/btY/HixYSEhLBkyRKuueYa9u/fz3fffceaNWsA2t0Oq6+v58ILL+S8885jx44dFBcX86tf/Yq7777bnhwBrFu3joSEBNatW0d2djbXXHMNY8eOtScbp/vmm29YuHAhjzzyCO+//z5NTU1888039scXLVpEVlYWX375JaGhoTz00ENcfPHFHDx40L51VF9fz9NPP81bb71FVFQUsbGxAPz1r3/l0Ucf5U9/+hOgJmvz58/niSee4O2336akpIS7776bu+++m3feeQeAm266iZ9++olXXnmFMWPGkJOTQ2lpKUlJSXz66adcddVVZGZmEhoa2uHfd2djfv7553n//ffRarXccMMNPPjgg/z73//u8GuhuyTZEUJ4pSaThQ1HSlwdhuiG0aNH8/jjjwOQlpbGa6+9xtq1a5k3bx4xMTHo9XoCAgLOuOVk+2EP6mrQAw88wMcff8ySJUsICAggODgYHx+fM17j3//+Nw0NDbz33nsEBQUB8Nprr3HZZZfx7LPPEhcXB6irHq+99ho6nY5hw4ZxySWXsHbt2g6TnSeffJJrr72WZcuW2e8bM2YMgD1h+PHHH5kyZYo9jqSkJD7//HN++ctfAmqjvb///e/2z7OZPXs2Dz74oP33N910E9ddd519FSYtLY1XXnmFGTNm8Prrr5OXl8d//vMfVq9ezdy5cwFISUmxf75tuyo2NrZVzU5LjsT8j3/8g8GDBwNw99138+c//7nDv39nkGRHCOGVtuWUUWswuToMlwvw1XHwz/Nd9trdMXr06Fa/T0hIsM9J6qxPPvmEl19+mezsbGprazGZTISGhjp0jUOHDjFmzBh7ogMwdepULBYLmZmZ9mRnxIgRrcYZJCQksG/fvg6vm5GR0WEidOjQIXx8fJg0aZL9vqioKIYOHcqhQ4fs9/n5+bX5ewKYOHFiq9/v2rWL7OzsVqsniqJgsVjIyclh37596HQ6ZsyY0WG8Z9PZmAMDA+2JDnTt39VRkuwIIbzSmoNFrg7BLWg0mm5tJbnS6ad8NBoNFoul05+/detW+8rJ/PnzCQsLY8WKFbzwwgsOxaEoSoddfFve72i8HW0F2V6zM7EEBAS0G1vLxAzAYrHw61//mnvvvbfNcwcMGEB2dnaHsXRWZ2Nu7++pO/VdnSEFykIIr6MoCmukXqfP+/HHHxk4cCCPPPIIEydOJC0tjePHj7d6jp+fH2az+YzXSU9PJyMjo1Ux748//ohWq2XIkCFdjm/06NGsXbu2w9c0mUxs27bNfl9ZWRlHjhxh+PDhDr/W+PHjOXDgAKmpqW0+/Pz8GDVqFBaLhQ0bNrT7+bbTXGf6u3J2zM4kyY4QwuscLqzhZGWDq8MQLpaamkpeXh4rVqzg6NGjvPLKK6xcubLVc5KTk8nJySEjI4PS0lIMBkOb61x//fX4+/tz8803s3//ftatW8c999zDjTfeaN/C6orHH3+cjz76iMcff5xDhw6xb98+nnvuOUCtqbn88stZvHgxmzdvZu/evdxwww3069ePyy+/3OHXeuihh/jpp5+46667yMjIsNfX3HPPPfa/h5tvvplbb72Vzz//nJycHNavX89//vMfAAYOHIhGo+Hrr7+mpKSk1Uk0G2fH7EyS7AghvI5tCys1NtjFkQhXuvzyy/nd737H3XffzdixY9myZQuPPvpoq+dcddVVXHjhhcyaNYuYmBg++uijNtcJDAxk1apVlJeXc8455/CLX/yCOXPm8Nprr3UrvpkzZ/Lf//6XL7/8krFjxzJ79uxWqyLvvPMOEyZM4NJLL2Xy5MkoisK3337bpSZ+o0ePZsOGDWRlZTF9+nTGjRvHo48+SkJCgv05r7/+Or/4xS+48847GTZsGIsXL7avZvXr149ly5bxhz/8gbi4OO6+++52X8eZMTuTRunpjTIPUF1dTVhYGFVVVQ4Xrgkh3M/l//cje/MruWPGYP6x4SjBeh/2L3NNkW5va2xsJCcnh0GDBuHv7+/qcITotjN9TXf257es7AghvEpxdSN78ysBmD0s1rXBCCHcgiQ7Qgiv8sNhtTB5TFI4sSF6F0cjhHAHkuwIIbzKmkNqvc5cWdURQlhJsiOE8BoNTWY2Z5cCMDe966dkhBDeRZIdIYTX+DG7lEajhX7hAQyLD3F1OEIINyHJjhDCa6w9bN3CGh7bYcdbIUTfI8mOEMIrWCzNXZNlC0sI0ZIkO0IIr7DvZBUlNQaC9T5MGhTl6nCEEG5Ekh0hhFewncKaMSQGPx/51ibat3TpUsaOHevqMEQvk+8IQgivYNvCmjNcjpx7okWLFqHRaNBoNPj4+DBgwAB+85vfUFFR4erQhBeQZEcI4fFOVNRzqKAarQZmDZVkx1NdeOGFFBQUkJuby1tvvcVXX33FnXfe6dKYFEXBZDK5NAbRfZLsCCE8nq1r8sSBkUQE+bk4GtFVer2e+Ph4+vfvzwUXXMA111zD999/3+o577zzDsOHD8ff359hw4bx97//vdXjDz30EEOGDCEwMJCUlBQeffRRjEZjp2NYv349Go2GVatWMXHiRPR6PZs2bUJRFJ577jlSUlIICAhgzJgxfPLJJwBYLBb69+/PP/7xj1bX2r17NxqNhmPHjgFQVVXF7bffTmxsLKGhocyePZu9e/fan2/bYnv//fdJTk4mLCyMa6+9lpqaGvtzkpOTefnll1u9ztixY1m6dKn992d7nb7Ix9UBCCFEd622Tjmfmy6rOm0oChjrXfPavoHQxRYAx44d47vvvms1LfvNN9/k8ccf57XXXmPcuHHs2bOHxYsXExQUxM033wxASEgIy5cvJzExkX379rF48WJCQkJYsmSJQ6+/ZMkSnn/+eVJSUggPD+dPf/oTn332Ga+//jppaWls3LiRG264gZiYGGbMmMG1117Lv//9b+644w77NT788EMmT55MSkoKiqJwySWXEBkZybfffktYWBhvvPEGc+bM4ciRI0RGRgJw9OhRPv/8c77++msqKiq4+uqreeaZZ3jyySc7FXdnX6evkWRHCOHRahqNbD1WBsCc4XLkvA1jPTyV6JrX/uMp8Avq9NO//vprgoODMZvNNDY2AvDiiy/aH3/iiSd44YUXWLhwIQCDBg3i4MGDvPHGG/Zk509/+pP9+cnJyTzwwAN8/PHHDic7f/7zn5k3bx4AdXV1vPjii/zwww9MnjwZgJSUFDZv3swbb7zBjBkzuP7663nxxRc5fvw4AwcOxGKxsGLFCv74xz8CsG7dOvbt20dxcTF6vTqz7fnnn+fzzz/nk08+4fbbbwfUVaLly5cTEqI2xbzxxhtZu3Ztp5Odzr5OXyPJjhDCo23KKsVoVkiJDmJwTLCrwxHdMGvWLF5//XXq6+t56623OHLkCPfccw8AJSUl5Ofnc9ttt7F48WL755hMJsLCwuy//+STT3j55ZfJzs6mtrYWk8lEaGiow7FMnDjRfvvgwYM0Njbakx+bpqYmxo0bB8C4ceMYNmwYH330EX/4wx/YsGEDxcXFXH311QDs2rWL2tpaoqJat0VoaGjg6NGj9t8nJyfbEx2AhIQEiouLOx13Z1+nr5FkRwjh0WxHzuUUVgd8A9UVFle9tgOCgoJITU0F4JVXXmHWrFksW7aMJ554AovFAqhbWZMmTWr1eTqdDoCtW7dy7bXXsmzZMubPn09YWBgrVqzghRdecDj0oKDmFSnba3/zzTf069ev1fNsqycA119/PR9++CF/+MMf+PDDD5k/fz7R0dH2ayQkJLB+/fo2rxUeHm6/3XLbDkCj0dhfH0Cr1aIoSqvntKxJ6uzr9DWS7AghPJbZorDOWpw8V7aw2qfROLSV5E4ef/xxLrroIn7zm9+QmJhIv379OHbsGNdff327z//xxx8ZOHAgjzzyiP2+48ePdzuO9PR09Ho9eXl5zJgxo8PnXXfddfzpT39i165dfPLJJ7z++uv2x8aPH09hYSE+Pj4kJyd3OZaYmBgKCgrsv6+uriYnJ8fpr+NtJNkRQnis3XkVVNQbCQvwZcLACFeHI5xs5syZjBgxgqeeeorXXnuNpUuXcu+99xIaGspFF12EwWBg586dVFRUcP/995OamkpeXh4rVqzgnHPO4ZtvvmHlypXdjiMkJIQHH3yQ3/3ud1gsFqZNm0Z1dTVbtmwhODjYXi80aNAgpkyZwm233YbJZOLyyy+3X2Pu3LlMnjyZK664gmeffZahQ4dy6tQpvv32W6644opW22ZnMnv2bJYvX85ll11GREQEjz76qH1ly5mv423k6LkQwmOtsZ7Cmj0sFh+dfDvzRvfffz9vvvkm+fn5/OpXv+Ktt95i+fLljBo1ihkzZrB8+XIGDRoEwOWXX87vfvc77r77bsaOHcuWLVt49NFHnRLHE088wWOPPcbTTz/N8OHDmT9/Pl999ZX9tW2uv/569u7dy8KFCwkICLDfr9Fo+Pbbbzn//PO59dZbGTJkCNdeey25ubnExXV+VfLhhx/m/PPP59JLL+Xiiy/miiuuYPDgwU5/HW+jUU7f/OuDqqurCQsLo6qqqkuFbEII15j9wnqOldTx2nXjuHR02xNHuaV1zHx+PcF6H/Yvm++CCHtfY2MjOTk5DBo0CH9/f1eHI0S3nelrurM/v+WtkBDCIx0rqeVYSR2+Og3nD4lxdThCCDcmyY4QwiOttc7CmjQoilB/37M8WwjRl0myI4TwSLYj53PlyLkQ4iwk2RFCeJzK+iZ2HlenYUvXZCHE2UiyI4TwOOszSzBbFIbFh5AU6Vjjur5Czp4Ib+GMr2VJdoQQHme1dE3ukK0Db329i4Z/CuFktq/l07tLO0KaCgohPEqTycLGzBJAuia3R6fTER4ebp+nFBgYiKaLk8eFcCVFUaivr6e4uJjw8PBWzRMdJcmOEMKjbM8pp8ZgIjpYz5j+4a4Oxy3Fx8cDODRAUgh3FR4ebv+a7ipJdoQQHsU++HNYLFqtrFi0R6PRkJCQQGxsbKshkUJ4Gl9f326t6NhIsiOE8BiKosiUcwfodDqn/KAQwtNJgbIQwmMcKarlREUDeh8t09KiXR2OEMJDSLIjhPAYtlWdaanRBPrJwrQQonMk2RFCeIzmLSw5hSWE6DxJdoQQHqGkxkBGfiUg9TpCCMdIsiOE8AjrDhejKDC6fxhxof6uDkcI4UEk2RFCeITV9sGfsoUlhHCMJDtCCLfXaDSzOasUkC0sIYTj3CbZefrpp9FoNNx33332+xRFYenSpSQmJhIQEMDMmTM5cOBAq88zGAzcc889REdHExQUxIIFCzhx4kQvRy+E6ElbjpbSYDSTGOZPekKoq8MRQngYt0h2duzYwT//+U9Gjx7d6v7nnnuOF198kddee40dO3YQHx/PvHnzqKmpsT/nvvvuY+XKlaxYsYLNmzdTW1vLpZdeitls7u0/hhCih6w5pI49mDM8TuY8CSEc5vJkp7a2luuvv54333yTiIgI+/2KovDyyy/zyCOPsHDhQkaOHMm7775LfX09H374IQBVVVW8/fbbvPDCC8ydO5dx48bxwQcfsG/fPtasWeOqP5IQwoksFoW1tnqddKnXEUI4zuXJzl133cUll1zC3LlzW92fk5NDYWEhF1xwgf0+vV7PjBkz2LJlCwC7du3CaDS2ek5iYiIjR460P6c9BoOB6urqVh9CCPe0/1QVRdUGgvx0nJcS6epwhBAeyKUtSFesWMGuXbvYuXNnm8cKCwsBiItr/U4uLi6O48eP25/j5+fXakXI9hzb57fn6aefZtmyZd0NXwjRC2xbWOcPiUHvI3OehBCOc9nKTn5+Pr/97W/597//jb9/xz0zTt+fVxTlrHv2Z3vOww8/TFVVlf0jPz/fseCFEL1mzUHpmiyE6B6XJTu7du2iuLiYCRMm4OPjg4+PDxs2bOCVV17Bx8fHvqJz+gpNcXGx/bH4+HiampqoqKjo8Dnt0ev1hIaGtvoQQrifU5UNHCyoRquBWUNjXB2OEMJDuSzZmTNnDvv27SMjI8P+MXHiRK6//noyMjJISUkhPj6e1atX2z+nqamJDRs2MGXKFAAmTJiAr69vq+cUFBSwf/9++3OEEJ7LVpg8fkAEUcF6F0cjhPBULqvZCQkJYeTIka3uCwoKIioqyn7/fffdx1NPPUVaWhppaWk89dRTBAYGct111wEQFhbGbbfdxgMPPEBUVBSRkZE8+OCDjBo1qk3BsxDC89jqdeQUlhCiO1xaoHw2S5YsoaGhgTvvvJOKigomTZrE999/T0hIiP05L730Ej4+Plx99dU0NDQwZ84cli9fjk4nhYxCeLJag4mfjpYBMFe6JgshukGjKIri6iBcrbq6mrCwMKqqqqR+Rwg38d3+Au74YDfJUYGse3Bml5oJ5pbWMfP59QTrfdi/bH4PRCmEcKXO/vx2eZ8dIYRoz+qD0jVZCOEckuwIIdyO2aKwLtNaryNHzoUQ3STJjhDC7ezJq6C8rolQfx8mJkec/ROEEOIMJNkRQrgd2ymsWcNi8dXJtykhRPfIdxEhhNtZc0i6JgshnEeSHSGEW8ktrSO7uBYfrYYZQ6RrshCi+yTZEUK4FduqzrmDIgkL8HVxNEIIbyDJjhDCraw9JKewhBDOJcmOEMJtVNUb2Z5bDkiyI4RwHkl2hBBuY/2RYswWhSFxwQyICnR1OEIILyHJjhDCbayRLSwhRA+QZEcI4RaMZgvrM5tHRAghhLNIsiOEcAs7csqpaTQRHezH2KRwV4cjhPAikuwIIdzCauuR81lDY9FpZfCnEMJ5JNkRQricoij2/jpz02ULSwjhXJLsCCFcLqu4lvzyBvx8tExPi3Z1OEIILyPJjhDC5WyrOlMHRxHo5+PiaIQQ3kaSHSGEy605KIM/hRA9R5IdIYRLldYa2JNfCcCc4bGuDUYI4ZUk2RFCuNQPh4tRFBjZL5SEsABXhyOE8EKS7AghXGqt7RSWbGEJIXqIJDtCCJdpNJrZeKQUkGRHCNFzJNkRQrjMT8fKaDCaiQ/1Z0RiqKvDEUJ4KUl2hBAu03wKKxaNRromCyF6hiQ7QgiXUBSFtbYp59I1WQjRgyTZEUK4xIFT1RRWNxLop2NySlQPvpLSg9cWQngCaVUqhHAJW9fk6WnR+PvqeuQ1tIYqvvdbwlEGAvN75DWEEO5Pkh0hhEvYkp2e7JocdPi/DNCeJFEp77HXEEK4P9nGEkL0uoKqBvafrEajgdnDeqhrsqIQsv/9nrm2EMKjSLIjhOh1tsLkcUnhRAfre+ZF8n7CryKrZ64thPAokuwIIXqdvWtyT57C2vlOz11bCOFROlWzM378eIcuqtFo+PLLL+nXr1+XghJCeK/6JhM/Hi0DerBrcn05HPyiZ64tuuW3K/aQWVjDZ3dOIdBPykZF7+jUV1pGRgYPPPAAwcHBZ32uoig888wzGAyGbgcnhPA+m7JKaTJZGBAZSFrs2b+ndEnGh2A2YPaPRNcoxcnu5IfDxdQ0mvgxu4x50l9J9JJOp9W///3viY3tXCHhCy+80OWAhBDezdY1ee7wuJ7pmqwosEvdwqpNv5aw3X93/muIbvsxu1SSHdFrOlWzk5OTQ0xMTKcvevDgQQYOHNjloIQQ3slsUfjhsLVr8vAeOoWVuwnKssEvhLq0K3rmNUS3bcoqcXUIog/pVLIzcOBAh96BJSUlodP1TJMwIYTnysivpKyuiRB/H84ZFNkzL2IrTB79Syy+QT3zGqLbjpbUUVDV4OowRB/R7dNYZWVlrFu3jqKiImfEI4TwYrZGgjOHxuKr64HDoLUlcOgr9faEW5x/feFUm7NKXR2C6CMc+m7zxhtv8MYbb9h/n5GRQWpqKnPmzCElJYVVq1Y5PUAhhPewHznvqS2sjA/AYoR+EyBhdM+8hnCaH7Ml2RG9w6Fk58033yQ6Otr++8cff5wFCxZQXV3NAw88wCOPPOL0AIUQ3iGvrJ4jRbXotBpmDumBZMdigV3L1dsTb3X+9YXTbc4uQ1FkUKvoeZ1KdjZu3MiGDRs4duwYVVVV9t+vW7eOyZMns3v3biZMmMChQ4fYuHEjGzdu7Om4hRAexraFdW5yJGGBvs5/gZz1UJEL+jAYsdD51xdOV1prILOoxtVhiD6gU0fPc3JyALBYLBQUFKDT6cjKykKn0xEYGEhOTg4mkwmz2Uxubi6KonD++ef3aOBCCM/SPPizh7awbIXJY64Bv8CeeQ3hNAOjAjleVs/mrFKGxYe6Ohzh5TqV7Nx8882Auo2Vn5/Prbfeytq1a5k7dy433XQTAEeOHCExMdH+eyGEsKlqMLI9R23u1yO9VWoKIfNb9bYUJnuEaanRHC/LY3N2Kb+anuLqcISXc6hX9xNPPMEVV1xhr9354Ycf7I999NFHzJ492+kBCiE834YjJZgsCqmxwQyM6oHj4HveB4sJkiZBXLrzry+cblpqNP/else2Y+UYTGb0PtKu5HTZxbWsO1xMfJg/g6KDSI4OIlgvIza6wqG/tVmzZpGXl0d2djZDhw5tNT5iwYIFJCQkOD1AIYTnaz6F1QOrOhYz7HpPvS2FyR5jaHwI0cF+lNY2sSevkvNSolwdktt56NOf2XW8otV90cF6BkUHkhylJj+DooNIjgpiYFQgQZIIdcjhv5mwsDAmTJjQ5v5x48Y5JSAhhHcxmi2s68muyUd/gKo88A+H9Mudf33RIzQaDVNTo/ki4xSbs0ol2TmN2aKw/2QVAKP7h3GqsoHS2iZKaw2U1hrYkVvR5nNiQ/RqAmRPhAJJjg5iYGQQAX59e+Ws08lOZ09YSWGyEKKlnbkVVDeaiAzyY9yAiB54AWth8tjrwDfA+dcXPWaaLdnJLuXB+UNdHY5bySuvx2Cy4O+rZeWdU9FpNVQ3GjleWk9OWR25peqH7XZFvZHiGgPFNQZ7fVxL8aH+JEcH2leCbKtCAyID8ff1/kSo08nOzJkz7SMjOuqLoNFoMJvNzolMCOEVbKewZg2NRad18uDPqpNw5Dv19oRFzr226HHT0tS+bT+fqKSq3tgzLQk8VGZhNQBpsSH2/zeh/r6M6h/GqP5hbZ5fVW8kt6yO3LI6cuyJUD25pXVUNRgprG6ksLqRrcdaJ0IaDaTFBrP8lnNJDPfeNwudTnYiIiIICQlh0aJF3Hjjja2aCwohRHsURbEnO/PSe2ALa8/7oJhh4FSIkZUBT5MQFsDgmCCOltTx07EyLhwZ7+qQ3EZmYS0AQ+JCOvX8sEBfxgSGMyYpvM1jFXVNrVaDcsvq7UlRTaOJI0W1rD1czI3nee8A704nOwUFBaxcuZJ//etfPPfcc1x88cXcdtttXHjhhQ4NCRVC9B1HS2o5XlaPn07L9LQY517cbILdUpjs6aalRnO0pI7N2SWS7LSQWaSu7AyL71yycyYRQX5EBPkx/rRtZEVRWPbVQZZvySW3tK7br+POOj0uws/Pj2uuuYZVq1aRmZnJ6NGjufvuu0lKSuKRRx7BZDL1ZJxCCA+05pBamDx5cJTzT4pkr4bqkxAYBcMvc+61Ra+ZZk2Cf8wuc3Ek7iWzUO0sPcQJyU5HNBoNqbHqqWpJdtqRlJTEY489xpo1axgyZAjPPPMM1dXVzo5NCOHh1hzswcGfLQuTffTOv77oFZNSItFpNeSU1nGiot7V4biFRqOZ3DL178IZKztnMiha7XuVI8lOawaDgQ8//JC5c+cycuRIoqOj+eabb4iMjOyJ+IQQHqqs1sDuPPV47Bxn99epzIOs79Xb0jHZo4X6+zLWWmciU9BVR0tqMVsUwgN9iQ3p2UQ+2Zrs5JXXYzJbevS1XKnTyc727dv5zW9+Q3x8PM8//zwLFiwgPz+f//znP1x44YU9GaMQwgOtyyzBokB6QqjzT3nsfg9QYND5EDXYudcWvW5qqnrgZVOWJDvQYgsrLqTHa2ITQv3R+2gxWRROVjb06Gu5Uqc30c877zwGDBjAvffea28quHnz5jbPW7BggfOiE0J4LHvXZGfPwjIbYff76m0pTPYK09OieWVtFluOlmGxKGid3aLAw9gmwff0FhaAVqshOSqIzKIajpXW9cw4FzfgUMVgXl4eTzzxRIePS58dIQSAwWRm45ESoAfqdY58B7WFEBQDQy9x7rWFS4xNCifIT0d5XRMHC6oZ2a9tH5m+pOXKTm9Ijg4ks6hGLVL20g4Ond7GslgsZ/2QREcIAbD1WDl1TWbiQvWMTHTyDy5bYfK4G8DHz7nXFi7hq9Pax0VI3Q4cKey9lR2AQdHefyKrS6exhBDiTGynsOYMj3PulkR5jjoLC2D8zc67rnA5W93O5j6e7FQ1GDlV1QhAWi+t7AyKDgTgWF9Pdr788kuMRmOnL/rtt9/S0OC9hU5CiI4pitJiyrmTt7B2vwsoMHgORA5y7rWFS023jo7YnlNOo7Hv7hJkWet1EsP8CQvonfEZydY6ndyyPp7sXHnllVRWVnb6otdeey0FBQVdjUkI4cEOFlRzqqqRAF8dUwY7cayMqQn2fKDenijHzb1NamwwcaF6DCYLu463nejdVxzuhWaCpxsUoyY7JysaMJi8M9HsVIGyoigsWrQIvb5z5/0bGxu7FZQQwnOtOah2TZ6WFu3cacqZ30BdCQTHwxBpd+FtNBoNU1Oj+Wz3STZnl9q3tfqaI9aVnaG9mOzEBOsJ8tNR12Qmv7ye1Njee+3e0qlk5+abHdsbv/766wkNDe1SQEIIz7b2sHXwp7MbCdoKk8ffCDqZju2NptmSnaxSHuqj+axtZWdoL9XrgJpoJkcHceBUNTmlfTjZeeedd3rkxV9//XVef/11cnNzARgxYgSPPfYYF110EWAdUrZsGf/85z+pqKhg0qRJ/N///R8jRoywX8NgMPDggw/y0Ucf0dDQwJw5c/j73/9O//79eyRmIUTHiqob+flEFRoNzBrmxHqdsqOQswHQwPibnHdd4VamWVdz9p+qoqKuiYigvnXaTlEUl6zsgDo24sCpaq89keXS01j9+/fnmWeeYefOnezcuZPZs2dz+eWXc+DAAQCee+45XnzxRV577TV27NhBfHw88+bNo6amxn6N++67j5UrV7JixQo2b95MbW0tl156qRyDF8IF1loHf45NCifGmW3ud1nfcKVdAOEDnHdd4VZiQ/0ZEheMosCWo31vMGhxjYHKeiM6rYbBMcG9+tq2GVneeiLLpcnOZZddxsUXX8yQIUMYMmQITz75JMHBwWzduhVFUXj55Zd55JFHWLhwISNHjuTdd9+lvr6eDz/8EICqqirefvttXnjhBebOncu4ceP44IMP2LdvH2vWrOnwdQ0GA9XV1a0+hBDdt8Z+CsuJW1gmA2So/+elMNn7TUtVp6D3xSPoti2s5KhA59a7dYL9RJYkOz3LbDazYsUK6urqmDx5Mjk5ORQWFnLBBRfYn6PX65kxYwZbtmwBYNeuXRiNxlbPSUxMZOTIkfbntOfpp58mLCzM/pGUlNRzfzAh+oj6JpO9IZxTk51DX0F9GYT2g9R5zruucEvT0tTmgpuzS1wcSe+zNRPs7S0saD6R5a3Hz12e7Ozbt4/g4GD0ej133HEHK1euJD09ncLCQgDi4lp/04yLi7M/VlhYiJ+fHxERER0+pz0PP/wwVVVV9o/8/Hwn/6mE6Hs2Z5ViMFnoHxHAkDgnLsHbC5NvAp1DE26EB5o0KAofrYb88gbyyupdHU6vai5O7v0DPoOsKzsFVY00NHlfGUi3kh1nHDEfOnQoGRkZbN26ld/85jfcfPPNHDx40P746RNfFUU56xTYsz1Hr9cTGhra6kMI0T22ep25w+OcN6m5JBOObwaNFsbd6JxrCrcWpPdh/AD1DeymPra601yc3Lv1OigKEUF+9iaG3ri64/DbJIvFwpNPPsk//vEPioqKOHLkCCkpKTz66KMkJydz2223OXQ9Pz8/UlNTAZg4cSI7duzgb3/7Gw899BCgrt4kJCTYn19cXGxf7YmPj6epqYmKiopWqzvFxcVMmTLF0T+aEKKLLBaFtYebkx2n2bVc/XXIRRDWz3nXFW5tamo023PL+TG7lOsnDXR1OL3CbGl5EquTb8AtFmiqgcZqMNSAodp62/ZR0+L3Na0fa/k5+hC49XsGRQeRkV9JbmkdwxO8axHA4WTnL3/5C++++y7PPfccixcvtt8/atQoXnrpJYeTndMpioLBYGDQoEHEx8ezevVqxo0bB0BTUxMbNmzg2WefBWDChAn4+vqyevVqrr76agAKCgrYv38/zz33XLfiEEJ03t4TlZTWGgjR+3DuoEjnXNTYIIXJfdS0tGheWnOEH7PLMFsUdM6cr+am8srrMZgs+PtqGRCpzqrixC7Y8z40VrafuDTVnPGanVZfBlnfMyh6Chn5leTIyg689957/POf/2TOnDnccccd9vtHjx7N4cOHHbrWH//4Ry666CKSkpKoqalhxYoVrF+/nu+++w6NRsN9993HU089RVpaGmlpaTz11FMEBgZy3XXXARAWFsZtt93GAw88QFRUFJGRkTz44IOMGjWKuXPnOvpHE0J0ke0U1vlDY/DzcVIp4MEv1G/yYQNg8GznXFN4hDH9wwjR+1DVYOTAqSpG9w93dUg9LrNQPRWcFhvSnNx9fR8U/nz2T9b5gT4U/EPVVRp9aIvfW+/r6LHd78K2f0DJYZKj1AMAOSWS7HDy5En7tlNLFovFoWGhAEVFRdx4440UFBQQFhbG6NGj+e6775g3T/0LX7JkCQ0NDdx55532poLff/89ISHNleovvfQSPj4+XH311famgsuXL0en691je0L0ZbZ6Had2TbYVJk+4CbTy/9lbpHMUf20lMLPD5/jotJw3OIrVB4vYlFXaR5KdWgCG2DonGxuhSO05x9ylEBx3WuLSImnx6UZPq34T1V9Lj5A8Xl1Rkpod1C7HmzZtYuDA1vuo//3vf+3bTZ319ttvn/FxjUbD0qVLWbp0aYfP8ff359VXX+XVV1916LWFEM6RX17P4cIadFoNM4fGOOeiRQchfytofaQw2cu8xAsk+pVyouxCiB7f4fOmpUaz+mARP2aXctestm+wvU1mkbqyM8x27LzoAChmCIyGqfeBs4r+TxczVP215DAp1hNZOaXedwrO4WTn8ccf58Ybb+TkyZNYLBY+++wzMjMzee+99/j66697IkYhhBtba93CmjgwgvBAJ7X3t3VMHnoxhMQ755rCLQSj/iANyv4Khp4h2UlTR0fszK2goclMgJ93r+5lnt5jpyBD/TVxbM8lOgDRaYAGGioYFKj+25TWGqhpNBLi7z0z6BzeXL/sssv4+OOP+fbbb9FoNDz22GMcOnSIr776yr79JIToO9YccvIprKZ62PuxelsKk71W0NFvz/h4SnQQCWH+NJkt7Mgt76WoXKPRaCbX2lOoTbKTMKZnX9w3ACLUnZrg6qNEB6tvWHK9bHWnS5WE8+fPZ8OGDdTW1lJfX8/mzZtbdTEWQvQN1Y1GtuWoM4zmpjsp2TnwGRiqICIZBs10zjWF2/ErPwylWR0+rtFo7INBf/Ty0RFHS2oxWxTCA32Jtc2UK9ir/trTyQ5AtHUrqzTTPiPL205kubyDshDCc208UoLRrJASE2T/Jtlt9sLkRaCVb1Fe7eAXZ3zYtpW1Kcu7kx3bFtaQuBC1IaepSa1bA0gY2/MB2Ot2Mu0zsrztRJbD30m0Wi06na7DDyFE3+H0U1gFP8PJnaD1hbE3OOeawn2dJdmZMlhNdg4WVFNWa+iNiFwi09pM0F6cXHwQLEbwD4fwAT0fQMtkJ9o7Z2Q5XKC8cuXKVr83Go3s2bOHd999l2XLljktMCGEezOZLfxg7Zo8x1nJjq0wefhlEOykk13CfRX+DOU5EDmo3YdjQvQMiw/hcGENPx4tY8GYxF4OsHe0XNkBmrewero42SZmmPprSSYp420nsvp4snP55Ze3ue8Xv/gFI0aM4OOPP+52B2UhhGfYebyCqgYjEYG+jB8Q3v0LGmrh5/+qt6Uw2euZQvrhU3NSnWo/9d4Onzc9LVpNdrJKvTbZsU07H9bbxck20Wnqr7WFpISYAO9Ldpy2IT5p0iTWrFnjrMsJIdyc7cj5rKGx+Oic8K1k/ydq+/uoVEie3v3rCbdWl3KxeuMsW1lTrUXKm7NLURSlp8PqdVUNRk5VqUO1005f2emtZMc/DELURDLZcsIeV0VdU++8fi9wSrLT0NDAq6++Sv/+/Z1xOSGEB7AfOXfWKayWhcm9sXQvXKo+5SJAo9ZoVZ3o8HnnDorET6flZGWD/Xi2N8my1uskhvmrU8fNRijcrz7YG8XJNjFDANBXZpMQ5g9414ksh5OdiIgIIiMj7R8RERGEhITwr3/9i7/+9a89EaMQws0cLaklp7QOP52W84c4obbm5G516V7nB2Ou6/71hNszBcXCgPPU3xz6qsPnBfr5MH5gOACbs0p6IbLeddhWr2PbwirJBLNBHQUR0X4tU4+w1+0c9soTWQ7X7Lz88sutfq/VaomJiWHSpElEREQ4Ky4hhBtbc1DdwpqUEkmw3uFvI23ZCpPTr4CgqO5fT3iG4Qsg7yc4+CWc95sOnzY9LYatx8rZnF3KjZOTey++XnCk6PTOydYtrPjRvdt6IVpd2aH0CMnRQfx0rMyrTmQ5/F3q5ptv7ok4hBAexH7k3BlbWI3VsO9T9bYUJvctwy+DVQ+rCU9NEYS0//U0NTWav67KZMvRMkxmi3NqxNyEbWVnaHsnsXpTi5UdbzyR1aW3ZJWVlWzfvp3i4mIsFkurx2666SanBCaEcE8VdU3sPK627589LLb7F9z3HzDWqV1cB0zu/vW8SHWjkSOFNRwurCGrqIa0uBCuO3cAWq2X1DSFJ0G/CXByFxz+Cs75VbtPG9UvjFB/H6obTew7WcW4Ad6xi6AoSsczsXqrONnG1munMp+UcDWZ7NPJzldffcX1119PXV0dISHWbo9WGo1Gkh3Rp5nMFt796TjT06Kbe2Z4mXWZxVgUGJ4QSv+IwO5dTFFg53L19sRb+mxhssFkJru4liNFamJzpLCGzMIa+ymdljLyK3n2qtHovCXhSb9cTXYOftFhsqPTapgyOJrvDhSyOavUa5Kd4hoDVQ1GdFoNg2OCwWKGwn3qg71ZnAwQFA2BUVBfRpquAIDc0joURWn1c95TOZzsPPDAA9x666089dRTBAZ28xudEF7mg63HeeLrg8wdHsdbN090dTg9Yo31yPnc4U5Y1TmxE4r2gY8/jLm2+9dzcxaLQl55PZlFajKTWVhDZlENOaV1mC3tH6tOCPNnaHwICWH+/GfnCT7ZdYKGJjMvXTMWPx8v2M4ZvgBWPwa5P0JdWYc1W9PSrMlOdin3zEnr5SB7hm0LKzkqEH9fHRQfBmM9+AZB1ODeDyh6KORtIaHpOFpNCHVNZkpqDcSG+Pd+LE7mcLJz8uRJ7r33Xkl0hGjHp7tPAlBnMLk4kp5hMJnZeESdU+SUKee2wuQRCyHAO96tg7o9UVJraE5oCms4UlTDkaJaGozmdj8n1N+HYfGhDI0PsX8MiQtRjyNbzRgSyz0f7eabfQU0GM38/frx6g9JTxY5SC3GLfwZMr+B8e3vDtiGgu7Oq6DOYCLIGYXxLnakzRaWrTh5FGhd8O8aoyY7vuVZ9IuYSn55AzkldX0z2Zk/fz47d+4kJSWlJ+IRwmMdKaph38kqV4fRo7YdK6fWYCImRM+ofmHdu1hDJez/TL3twYXJtQZTq4TmcGE1R4pqKe+gIZveR0taXDBD4kIYFh/C0PhQhsaFEBeqP+t2wYUj43nr5nP49fs7+eFwMbe8s4O3bp7o+T/40xeoyc7BLzpMdgZGBdI/IoATFQ1szy1n1lAnrCy6WHNxcqh6h6uKk23sM7IOkxx1AfnlDeSW1TEpxfNPSDr8P+SSSy7h97//PQcPHmTUqFH4+vq2enzBggVOC04IT/Lpro4bo3mLtS22sLpdJPvzx2BqgNgR0P8cJ0TXs5pMFo6V1rZarTlcWMPJyoZ2n6/VQHJUEEPi1FWaYfEhDIkPITkqqFv1NjOGxPDuLedy27s7+elYGTe8vY3li84lLND37J/sroZfDj/8BY5tgIaKdlf5NBoN01KjWbEjn81ZpV6R7DQfOw9W73BVcbKNLdkpPUJKUhCbskrJKfWORo4OJzuLFy8G4M9//nObxzQaDWZz+0u0Qngzs0Vh5Z6Trg6jRymKYu+aPGdYN7ewFAV2/ku97WaFyRaLwsnKBg4X1pBZWE1mUS2ZhdUcK6nD1EFdTVyo3rpCE8zQ+FCGxYeQGhvcY1tMk1Ki+PevJnHTv7azJ6+S//fmVt6/7VyigvU98no9LmYIxAyHkkOQ+R2M/X/tPm1amprs/Jhd2ssBOp/ZorRIdkLBYoGCn9UHe7s42SbamuyUHSVljB8AOaW1ronFyRxOdk4/ai6EUOf2FNcYXB1Gj7KtYvj7au3zirosbyuUHAbfQBh9tXMC7ILSWoP9aLetWDirqIa6pvbftIXofdRaGutKzVDrqk14oF8vRw5jksJZcft53Pj2Ng4WVHP1Gz/x71+dR3yYh9ZXpC+ADYfg0JcdJjtTBkej0ahfi8U1jR5dS5JXXo/BZMHfV8uAyEAoP6rOhvPxb27w19tCE8EvBJpqGKZXu1Xn9tWVnZYaGxvx9/fcLzYhnOWz3eoWVnSwntJa70x6bF2Tp6VGE+DXzRULW2HyyKvUIYS9YE9eRfPRbutpqNLa9utq/HRaBscGq1tP9toa9USUOx3DHZ4Qyn9+PZkb3trG0ZI6fvnGFj781XkkRXrgAZL0y2HDs5C9Fgw1oG/buiEyyI8RiaHsP1nNluwyrhjXzwWBOkdmYTUAabEh6rambQsrbiToXFSDpdGoq2wnd5GinACCyS2rw2JRPL63k8N/o2azmaeeeop//OMfFBUVceTIEVJSUnj00UdJTk7mtttu64k4hXBbNY1GVh0oBOCKsYm8tTnHxRH1jDWHrYM/u3sKq74cDnyu3u6lwmQFuPLvW9rcr9HAgMhAhsY119QMiw9hYFQQvh7SpTclJpj/3DGZ69/axvGyen75j5/44FeTSI0NdnVojolNh8jB6grHkVUw6hftPm1qajT7T1azKavUw5MddXuozUksVxUn28QMg5O7iKzPxUc7CoPJQkF1I/3CA1wbVzc5/L/5ySefZPny5Tz33HP4+TUv3Y4aNYq33nrLqcEJ4Qn+t6+QRqOFwTFBjE4Kd3U4PaK4upG9+ZWAE7om7/1IHXQYPxoSx3c/uDOIblHDEhOiZ1pqNLdNG8RzV43mi7umcmDZfDb8fhb/vGki918wlEtHJ5IaG+IxiY5N/4hA/vvryaTFBlNY3cg1b/zEgVMedjJQo1FXd0A9ldWB6anq4Nkfs0tRlPZrqDxBZpG6stM8JiJD/dVVxck21i00XVmmur2G2lzQ0zn8P/q9997jn//8J9dffz06XfNS9ujRozl8+LBTgxPCE3xi3cJaOL4/nr3Q27EfrKs6Y5LCiQ3txta1osBO6xZWLxQm+/uq3+KC9Tp2PDKXD341iUcvTefqc5IYkxROoJ+HH9luITbUn49/PZmR/UIpq2vi//1zK7vzKlwdlmPSrad5s9dAU/u1IhOTI/Dz0VJY3cjREs8tnm01JkJRmld2XJ3s2GdkHWFQtPfMyHI42Tl58iSpqalt7rdYLBiNRqcEJYSnyC+vZ3tOORoNXOnBS+pnY++a3N1VndzNUJYFfsEw6pdOiKxzNF6bhrYWGeTHh4vPY+LACKobTdzw1ja2HPWgk0sJYyF8gNpFOHtNu0/x99VxbnIkAJuzPOjP1kKj0UxumZrMDY0PgYpcaKwCnZ96Ks2VYpqnnw+KUt/Y9MlkZ8SIEWzatKnN/f/9738ZN26cU4ISwlN8Zu2YPGVwFIkevqfdkYYmM5utR33ndnfKua0wedQv2y1AFd0X6u/Le7edy7TUaOqbzNzyzg7WWVfm3J5Go46PgDNuZdlOA2720CPoR0tqMVsUwgN9iQ3RN6/qxKaDT++f7GslfKB6IsxsYESQuhXaJ7exHn/8ce6++26effZZLBYLn332GYsXL+app57iscce64kYhXBLiqLw2R51C+uq8f1dHE3P+TG7lEajhX7hAQyL70aCUlcKB79Ub3twx2RPEOjnw1s3T2Tu8DgMJgu3v7+Tb/cVuDqszrHV7RxZBca2g1ABpqepyc7WY+UYzZ7XDsW2hTUkzjpM212Kk0EdUxGlzh4bqlXfzOWU9cFk57LLLuPjjz/m22+/RaPR8Nhjj3Ho0CG++uor5s2b1xMxCuGWdh2v4HhZPYF+OuaPiHd1OD2m5eDPbh27zvg3WIxqUbKr6xL6AH9fHa/fMJ7LxiRiNCvc/eFuPvGELt/9JkJIotpz5ti6dp+SnhBKRKAvtQaTvXDek2Ramwna3zy4S3GyjbWTcj9THgB5ZfWYPDCpbKlLRw7mz5/Phg0bqK2tpb6+ns2bN3PBBRc4OzYh3Nqn1sLki0YmeP5sog5YLAprrVsgc7pz5NxiaV2YLHqFr07Ly9eM5ZqJSVgUePC/e3n/p1xXh3VmWi0Mv0y9bVsJbPMUDVM8eCur5cqOWxUn21iTndCao+h9tJisXcU9mcPJzi233MLatWs9+sifEN3VaDTz9c/qtsBVE7y3MPnnk1WU1BgI1vswKSWy6xfK2QAVOaAPVRsJil6j02p45qpR3DI1GYBHvzjA6+uPujaos7FtZWV+A6b2Gz/apqB7YpGybdr5sPgQqD4J9WWg9VHnxLkDa7KjKT1CcpR3nMhyONkpKyvjkksuoX///jzwwAPs2bOnJ+ISwq2tPlhETaOJfuEBnDfI8ycCd8Q2+PP8IdHofbrRNdlWmDz6GvALckJkwhEajYbHLk3nntnqSdpnvzvMC99nuu+b1gHnQVCMekIpd2O7T7ElO3vyK6lp9JyTwFUNRk5VqbVIaXEhcCpDfSBmOPi6yUQC24yskiMkR6kHL/pcsvPll19SWFjI448/zq5du5g4cSLp6ek89dRT5Obm9kCIQrgf23iIK8f18/g26mey+qCtXqcbW1g1RXD4G/W2bGG5jEaj4YELhvLQhWoflVd/yObPXx90z4RHq2uxldX+qaykyEAGRgVitihsO1bei8F1T5a1XicxzJ+wAN8WxclusoUFEJmirjQ11TAqVD0i7+knsrpUsxMeHs7tt9/O+vXrOX78OLfccgvvv/9+u/13hPA2xTWNbLQunV853nu3sE5U1HO4sAatBmYN7UZ/nYwPwGKC/udCnJss0/dhv5k5mCcuV/8d3vkxlz98ug9zB9PcXcp2BP3wN2A2tfuUaR5Yt3PYVq/Tpjh5rEviaZePn5rwACP91O36nDLPHgjarZ7oRqORnTt3sm3bNnJzc4mL62YPDiE8wBd7TmG2KIwbEM7gGA+bP+SAtYfUwuSJAyOJCOpi7w+LBXYtV2/Lqo7buHFyMs//cgxaDXy8M5/7Ps5wvyPcydMgIFKtZ8lrO9cMPDPZadU5GdyvONnGWreTrKir2DmlntutGrqY7Kxbt47FixcTFxfHzTffTEhICF999RX5+fnOjk8It/Npi/EQ3sx+5Dy9G6s6R3+Ayjx1svmIK50UmXCGX0zoz6v/bzw+Wg1f7T3Fbz7YTaPR7Oqwmul8YdjF6u0OtrKmDI5Go4Hs4loKq9rvyeNubMfOh8aFQE0h1BaBRqtOO3cn1rqduMZcAE5WNNBkcrOE2AEOJzv9+/fn4osvpqSkhDfeeIOioiLeeecd5s6di1brWcPzhHDUgVNVHC6swU+n5bLRCa4Op8fUNBrZeqwM6OaRc1th8pjrwNc7O0x7sktGJ/DmTRPR+2hZc6iIX727k/qm9reMXGK49VTWoa/UVcLThAX6MrpfGOAZqzuKorRe2bEVJ0cPBb9A1wXWHuuMLP+qbIL8dFgUyCv33K0sh7OTxx57jFOnTvH555/zy1/+En9/N6keF6IX2MZDzE2PJTzQxW3de9CmrFKMZoWU6KCub9VVF0Dm/9TbsoXltmYNi+WdW84h0E/H5uxSbnp7O9XucropZQbow9TVj/xt7T5lmrWb8o8ekOwU1xioajCi02rU/1fuuoUF9hlZmpJMkr1gIKjDyc7tt99OREQE2dnZrFq1ioYGtdGQW1b0C+FERrOFLzLUZGfhOC/fwrKewpozvBtbWHveB8UMA6bY9/+Fe5oyOJoPfjWJUH8fdh6v4Lo3t1Je135/m17lo4ehF6q3D7XfYLDlnCx3/zlkK05OjgrE31fXXJzsDmMiTheVBmigoZyR4Wry68knsrrUZ2fOnDkMGTKEiy++mIICtVL7V7/6FQ888IDTAxTCXWzKKqG0tomoID9mDI1xdTg9xmS2sC5TLU7u8pFzixl2vavellUdjzB+QAQf3X4eUUF+7D9ZzTVv/ERxtRvUwdgaDB78Uu02fJoJAyPw99VSUmPgSJF7F9E2NxMMVe9w55Udv0B1Aj0wzl998+PJM7IcTnZ+97vf4evrS15eHoGBzXuM11xzDd99951TgxPCnXy6S13VWTA2EV+d99an7c6rpKLeSFiALxMGRnTtIlmrofqEeprGdoRYuL0RiWF8/OvJxIf6k1Vcyy/f+IkTFS6u0xg8G3yD1K+nk7vbPKz30XGutbHnpqyS3o7OIYdbjomoLVG7J6OB+FGuDawj1rqdIbpTAOSU9KFk5/vvv+fZZ5+lf//Wy/hpaWkcP37caYEJ4U6q6o32BnvePOEcmrsmzx4Wi09XkzpbYfLY69ynK6zolNTYYP57x2SSIgM4XlbPL//xE8dKXLhi4hsAQ+artw9+3u5Tpqd6Rt3OkaIWxcm2VZ2oVNCHuDCqM7DW7fS3DgTN7UsrO3V1da1WdGxKS0vR6/VOCUoId/P1vlM0mS0MjQthRGKoq8PpUasPdbNepzIfsr5Xb0+QLSxPlBQZyH9/PYXBMUEUVDVy9RtbOVxY7bqA0q2rg4fa38qy1e1syyl32+PRZotyWrKToT7gjltYNtaVnYj6HAAKqhppaHKj9gQOcDjZOf/883nvvffsv9doNFgsFv76178ya9YspwYnhLv4dJfaW+eqCf3QaLx3PMSxklqOldThq9Nw/pAu1iXtfg8UCyRPh2jpqu6p4sP8+fjXk0lPCKW01sA1b2wlI7/SNcGkzgOfAKjIhcJ9bR4eFh9CdLAf9U1m9uRV9H58nZBXXo/BZMHfV8uAyMAWYyLGujSuM7L22vEpP6KOtgCOl3vm6o7Dyc5f//pX3njjDS666CKamppYsmQJI0eOZOPGjTz77LM9EaPoAxqNZj7bfYKyWoOrQ2kjp7SO3XmVaDVwxVjvHQ8BzV2TJw2KItTf1/ELmE3qKSyQwmQvEB2s56PF5zFuQDhVDUauf3Mr26z9l3qVPhhS56i322kwqNVqmDLYvbspZ1pXxtJiQ9BpNR6ysmM9fl5TQHqkepen1u04nOykp6fz888/c+655zJv3jzq6upYuHAhe/bsYfDgwT0Ro+gDPtl1gvv/s5dX1ma5OpQ2bEM/p6fFEBvq3fUn9q7JXd3COvId1BRAYDQMu8yJkQlXCQv05YPbJjE5JYq6JjM3v7OdDUdcUAhsP5X1RbtbWbZ+O+6b7Kh1T0PjQ6C+XO0sDhA/2oVRnYV/GISozVPPDVbfCHnqiSyHkh2j0cisWbOorq5m2bJlfP3113z77bf85S9/ISHBe7vJip534FQVAFUNbtLMzMpiUeyNBK+a4N2FyZX1Tew8rm4BdLlrsq0wedwN6jBB4RWC9D68c8s5zB4WS6PRwq/e3cF3+wt7N4gh80HnB2VZUHK4zcO2OVl78yvd7vsIQGaRurIzNK5FcXLEIAgId11QnWHtkTXST30j5Km9dhxKdnx9fdm/f79X1ywI1zha7J7/gbbllHOysoEQvQ8XpHv3oNv1mSWYLQrD4kNIiuxC6/qKXMheq96ecLNTYxOu5++r4x83TOCSUQkYzQp3fbiblXtO9GIAYZBirQs92LbBYGJ4ACkxQVgU7KNO3EmrMRHu3F/ndNG2gaDq7EtP7aLs8DbWTTfdxNtvv90TsYg+7Kgrj7aegW0L65LRCWrHUy/W7VNYu94FFPUHUmSK8wITbsPPR8vfrh3LLyb0x2xRuP8/e/n3tl5sOdJyK6sd9inoWe61ldVoNJNbpvYrapXsuHNxso11ZSfOoP4755R65nwsH0c/oampibfeeovVq1czceJEgoKCWj3+4osvOi040TdU1DVR5g6t6U9T32Ti231qh3Bvn3DeZLKwIVOtw+hS12SzEfZ8oN6WwmSv5qPT8txVowny0/HuT8d5ZOV+6g1mFp/fCwnu0ItA6wPFB6A0u81pv2mp0bz303G367dztKQWs0UhPNCX2BC9ZxQn21iTneDqowCU1hqoaTQS0pUDDC7kcLKzf/9+xo8fD8CRI0daPSbbW6IrjpW656rOqgOF1DWZSYoM4JzkLnYS9hDbc8qpNZiIDtYzpn+44xc4/A3UFUNwHAy92OnxCfei1WpYumAEgXofXl9/lCe/PURdk4nfzknr2Z8DgZEw6Hw4+gMc+gKmtx5RdN7gKHRaDcdK6zhZ2UC/8ICei8UBmS06J2sM1VB+TH0gYazrguosa68dbVUe/YIUTtZpyC2tZ1T/MBcH5hiHk51169b1RByiD3PXeh1bYfLCcf29PpG3ncKaMywWrbYLf1Z7YfKNoPOsd3yiazQaDQ9dOIxgvQ9/XZXJy2uyqDOY+OPFw3v2/8vwBWqyc/DLNslOqL8vY/qHsTuvkh+zSrn6nKSei8MBmUW2mVghUPCzemfYADV5c3dB0erYl4ZypoSV89+6KHLK6jwu2fHeAT/CY7hjvU5BVYP9CKu3j4dQFKU52elKvU7ZUTi2HtBIYXIfdNesVB6/LB2ANzfl8Mjn+7FYenD6+LBLQaNVt4Iq2tYL2ep2NrnRVlbLlZ3m4mQ3PnJ+OuvqztgA9fi5J57IkmRHuFx2sfslO5/vOYWiwLnJkQyI6sLJJA+SWVTDiYoG9D5ae68Sh+xarv6aOtc+JVn0LbdMHcRzV41Go4EPt+XxwH/3YjL30NiG4BgYOFW9fajtqaxpaWrn7y3ZpT2bdDmgedq5hxUn21ibCw61DQSVZEcIx7nbyo6iKHxqPYW1cLx3d0yG5q7JU1OjCfRzcGfbZICMf6u3pTDZ+Zrq4cj38O3v4dWJ8PZ8OP6Tq6Nq19XnJPG3a8fho9Wwcs9J7vpwNwZTD81RGm6dldXOEfSxSeEE+ukoq2vikCvneVlVNRg5VdUIQFpcy5lYY10Wk8OsKzu2gaCS7AjhIIPJTF65ex1l3HeyiuziWvQ+Wi4e7f3NMm3T3Lt0CuvQV1BfBiGJkDbfyZH1UWVHYevr8P5CeG4QfPhL2P5PtZle/lZ450JY+RuodUEX47NYMCaRf9wwAT8fLasOFPGrd3f2zODI4dbu3Ce2Q9XJVg/5+Wg5LyUKcI8p6Lbhn4lh/oRpDVBq7RLvCSexbKLVlR3bQFBPnH4uyY5wqeNl9bjJSrOdbejnBSPiuzYfyoMU1zSy90Ql0MV6HdsW1vibQOfweQcBrVdv/jYWXh0P3/0Bjq4FUyOE9ocJi+Dq99S/Z4C9H8JrE2D7m2BxrynUc9PjeGfROQT46tiUVcrN/9pOTaOTOxqHJkDSJPX24a/bPGybgr7JDfrt2Ot14kOgaD+gqG8OgrvYz8oVrCs7ftW5+GKist5IhRu2CzmTLiU777//PlOnTiUxMZHjx9UCsZdffpkvvmi/0ZMQHTnqZvU6TSYLX+5V96Wv6gNbWOsOF6MoMLp/GHGOzv0qOQK5m9RiUdsPYXF2iqL2iLGt3jyb3Lx6U5EDWl/1ePW8J+DOrfC7/XDZ39SGegtehdvWqPOUGqvg2wfhzdlwYper/1StTE2N5v3bziVE78P23HJueGsblfVO/uF4hgaD0621Zztyy2k0ujYZbNU5+VSGeqcnreoAhCaCXwgai4kJIepIGU+bkeVwsvP6669z//33c/HFF1NZWYnZrH4hhYeH8/LLLzs7PuHl3K1eZ11mMRX1RmJC9PZTHd5sjbVeZ86wLmxh2VZ10uZDmPcnht3SVA9HVsE3D8IrY9VVGdvqjdkAYUkw4Ra49kN4KAdu/gqm3guxw+H0Y9xJ58Dt6+Giv4I+TK0BeWsOfPVbdcCkm5iYHMlHt59HRKAve09Ucc0bWymuaXTeC9i2so5vgdriVg+lxQYTG6Kn0Whht3Xem6vYjp23monlScXJoH4NRqcBMClY3T71tBNZDic7r776Km+++SaPPPIIOl1z+/yJEyeyb98+pwYnvN/REvU/TFSQewyNtG1hXTmuHz46797lbTSa2ZRl7Zqc7uCSurFR3UoBKUxuT7urN1fDjjfVGWJaXxg0Ay74C9y5De7bB5e9DMMuAX3I2a+v1cGk2+GenTD6WkBRk89XJ8Du98DSQyehHDSyXxgf/3oysSF6MotquOaNreCsbevwAZA4HlDabGVpNJrm0REurNtRFOW0mVgZ6gOetrID9q2skX7qAFhPK1J2eJM9JyeHcePGtblfr9dTV+dZf3jheraVncExwZTVufZdaXldE+sy1XeI3t5bB2DL0VIajRYSw/xJTwh17JMPfgENFeqKROrcngnQ0zTVq9t6Washe7Wa1LRk+7tKu0DdptIHd/81g2Nh4RvqNuK3D0LxQfjyHtj9Plzyglv0chkSF8J/75jMdW9uU39A6p148fQFcGq3+vU48dZWD01NjeazPSfZnF3KEie+pCOKawxUNRjRaTUMDtc2T2v3yGRHLVIehPqG0NOSHYffug4aNIiMjIw29//vf/8jPT3doWs9/fTTnHPOOYSEhBAbG8sVV1xBZmZmq+coisLSpUtJTEwkICCAmTNncuDAgVbPMRgM3HPPPURHRxMUFMSCBQs4caIXp/GKLlEUxV6zMzg26CzP7nlf7T2F0awwIjFUfRfm5VYftG5hDY9zvOOtrWPy+JvVVYa+SFHUkzU//R3ev9KB1ZuLnZPotJQ8FX69ES54EvyC1VNK/5wB3y5Ra3tcbGBUEP+9YzIp0U7+f247gp6zqc0Wnq1n1L6TVc6vF+qkw9ZVneSoQPzLM0GxQFAshHjgKU/ryk6sdSCop53IcjjZ+f3vf89dd93Fxx9/jKIobN++nSeffJI//vGP/P73v3foWhs2bOCuu+5i69atrF69GpPJxAUXXNBqhei5557jxRdf5LXXXmPHjh3Ex8czb948ampq7M+57777WLlyJStWrGDz5s3U1tZy6aWX2uuJhHsqrG6krsmMTqthQKTrkx3bhPO+sKpjsSj8cNh65DzdwXqd4kOQ9xNodDDuhh6Izo21qb2ZCKseVscXmA3qCICJt8K1H8FDuXDzlzDlHogd1rb2xtl0vjDlbrh7B4xYqP5g3f6G2p9n78dqcuZCieEBfPzryeis40hiQ5ywxBM1GOJGgWJW57O1EBfqT1psMIoCW46Wdf+1uqC5mWAonNqj3pkwpue/FnqC9fh5cM0xtFjIKalDcfHXlCMc3sa65ZZbMJlMLFmyhPr6eq677jr69evH3/72N6699lqHrvXdd9+1+v0777xDbGwsu3bt4vzzz0dRFF5++WUeeeQRFi5cCMC7775LXFwcH374Ib/+9a+pqqri7bff5v3332fuXHU5/YMPPiApKYk1a9Ywf770/nBXtplYA6MC8dW59j9/dnENe09U4aPVsGBsoktj6Q37T1VRVG0gyE/HeSkOzufZaV3VGXqRegTYmykKlGU3b03l/qgmNTY6Pxg4BVLnQdo89QeCq3+QhSbCL9+xbm39Xu3Ps/J2tZbnkufVomcXiQnRo/jpwAB6HyetCKYvgKJ9ajfl8Te2emhaWjRZxbVszi7l4lG9/7V6uL0xEZ5WnGwTkQw6PVqzgSRNCceb4iipNRAb4uApThfpUgXm4sWLOX78OMXFxRQWFpKfn89tt93W7WCqqtTl1shI9ZtvTk4OhYWFXHDBBfbn6PV6ZsyYwZYtWwDYtWsXRqOx1XMSExMZOXKk/TmnMxgMVFdXt/oQva9lvY6rfbJLbUw2c2gM0cHOLCpwT7ZTWOcPiXHsh05TPexdod721sLkpjrI/A6+eQD+NubMqzdLcuCmL9QVlZihrk90Who8C37zI8x5DHwC4Phm+Mc0WPUIGGrO/vk9RIOT/45sR9CProOGylYP2YuUXdRvx9ZQ0OOLk0HdrraeyDov1HYiy70awp5JlwqUTSYTaWlpREc3H83NysrC19eX5OTkLgWiKAr3338/06ZNY+TIkQAUFqpV33FxrZfZ4+Li7P19CgsL8fPzIyIios1zbJ9/uqeffpply5Z1KU7hPO6S7JgtCp/vsU447wNbWABrDtoGfzq4hXVgJRiqIHwgpMzugchcwBNXbzrLR69OBh/1S/juYfXU0k+vwf7PYP6TMOJKz/mzdCRmKEQPhdJMdYtxzDX2hyalROGj1ZBXXk9eWX2vzrkzW5TmZCfGT93+Bc9NdkD9uy7az1j/Yj6ugpzSWs4d5AGT2+nCys6iRYvaXTHZtm0bixYt6nIgd999Nz///DMfffRRm8dOL55UFOWsBZVnes7DDz9MVVWV/SM/P7/LcYuua052XFuvs+VoKYXVjYQF+Hati7CHOVXZwMGCarQamDU0xrFPthUmT1gEWg8+mn+21ZvwATDxNvh/K9x79aazwgfAtf+G6/4LEYOg5hR8cotaWG0bX+DJOmgwGKz3YdyAcKD3j6DnlddjMFnw99UywHgcLCYIiFRP5Xmq6KFAy4GgXryys2fPHqZOndrm/vPOO4+77767S0Hcc889fPnll2zcuJH+/ZvfWcfHxwPq6k1CQvN+a3FxsX21Jz4+nqamJioqKlqt7hQXFzNlypR2X0+v16PXe/9Whbuz1ewMjg12aeOvz3arqzqXjUlwXh2BG1t7SF3VGT8ggihHtuwK98GJHaD18cDCZOvJqazv1RWc41vaWb2Zqq7cpM5Tl+s9Mak5myHWY+8/vgybXoRj6+Dvk9UGhtMfBL/eW/lwqvQFsPE5tUmjobbVabepqdHsyK3gx+xSrps0oNdCyrQOIU2LDUFXmKHe6anFyTYxarLT36wuEHhSY0GH35ppNJpWJ6FsqqqqHD79pCgKd999N5999hk//PADgwYNavX4oEGDiI+PZ/Xq1fb7mpqa2LBhgz2RmTBhAr6+vq2eU1BQwP79+ztMdoTr1RpMFFar3VQHR7tuG6vWYOK7/ep2Z5/ZwrLW6zh8CstWmDzsUs+a6wPQVGtdvfmj+gO+1erNx+rJqZs+h8l3qf1EPPkH0tn4+sPMP8BdW9WePxYjbHoB/m+SeqLJg07Y2MWNhMgUdZZY1vetHrKNjvjxaCnmXhzEl1morlyr9TrW4mRP3sICe7ITWXcMUDyq147Dyc706dN5+umnWyU2ZrOZp59+mmnTpjl0rbvuuosPPviADz/8kJCQEAoLCyksLKShoQFQE6v77ruPp556ipUrV7J//34WLVpEYGAg1113HQBhYWHcdtttPPDAA6xdu5Y9e/Zwww03MGrUKPvpLOF+jlm3sKKD9YQFum7Y5v/2FdBgNJMSHcS4pHCXxdFbag0mfrIew53ryJadoRZ+/o9625MKkwMi1H43oK7epMyC+U/BXTvgtz/DpS/C0AvBz/WtD3pdZApc9x+45t/q1kpVHqy4Dj68BspzXB2dYzSa5p47p21lje4fTrDeh8p6IwdP9d5hlMwi9bXUMREZ6p2eehLLJnIwaHT4mOqIo4Lcsjos7jbJuQMOb2M999xznH/++QwdOpTp06cDsGnTJqqrq/nhhx8cutbrr78OwMyZM1vd/84779jrf5YsWUJDQwN33nknFRUVTJo0ie+//56QkOamby+99BI+Pj5cffXVNDQ0MGfOHJYvX95qnIVwL9nF7lGv86m1t87C8f0cb6zngTYdKaHJbCE5KtCxwvD9n0JTjfrNLvn8ngvQ2QIj4Zb/qd2ek6f2zaTmTDQaGH6penJr4/Ow5VXIWgU5G2Da/TD1t+pKkCdIX6Buz2WtVk8NWrfkfHVazkuJYs2hIjZllzCqf1ivhGMbEzEs1h82WBvhevrKjo+fmiSXZTFMd5INpkgKqxtJDA9wdWRn5fDKTnp6Oj///DNXX301xcXF1NTUcNNNN3H48GH7KarOUhSl3Y+Whc4ajYalS5dSUFBAY2MjGzZsaPM6/v7+vPrqq5SVlVFfX89XX31FUpIHF4H1Afbi5FjXbWGdqKhn6zG16+qVfWwLy+GuyZ5cmJx0jlqrIolOx/yCYO7j8JstatdnUyOsfwr+fh5krXF1dJ2TOF5doTLWqbU7LUxLjQLgx14qUm40msktU4t3030LwNykDm2NGHSWz/QA1q2siUHq8XNP2cpyeGUH1D42Tz31lLNjEX2IrTg51YXHzldaC5Mnp0TRzwPemXSX2aLYZ3/NdeTI+ak96ofOD8Ze30PRCbcQM0Q9eXbgM7UfT0UO/PsqdcL4/Kch3I3fRNq2srb+Hxz8snkqOjAtTT11uCO3gkajGX/fnl31P1pSi9miEB7oS2SVbVVntHfUgsUMhcNftxoIOjU1+iyf5HqdSnZ+/vlnRo4ciVar5eeffz7jc0ePdv3gOeH+XL2yoygKn1l761w1oW+s6uzJq6C8rolQfx8mJkec/RNsbIXJwxdAUFTPBCfch0YDI69Si5fXP6NObj/0FWSvhfN/D5PvVrcz3FH65Wqyc+Q7MBnUPkOo2+Xxof4UVjeyI7ec6WkOtlxwUGaLzsmaAmvBtKdvYdlYZ2SlWAeCesqJrE4lO2PHjqWwsJDY2FjGjh2LRqNpdyaGRqOReVTirExmi32InKtqdnbnVZJTWkeAr44LR8a7JIbettp65HzWsFh8dZ3cimqshn2fqLc9qTBZdJ8+RG08OPZ6tR9R3hZYuwz2fgQXPw8pM1wdYVv9z1GHbNYUwLH1MEQdF6TRaJiWFs0nu06wObu055OdIttMrJZjIsb16Gv2GuuMrDjrQFBP2cbq1He8nJwcYmJi7LePHTtGTk5Om49jx471aLDCO+RXNGA0K/j7akkMc832ka0w+aKR8QTru7Sb63HWtqjX6bR9/1VrIKKHqH1oRN8Tlw63fAtXvgFBMVB6BN5bAJ/cCtUFro6uNa22efvqtFNZvTk6wrayMzQmQO1PBd6zshM9BNDgb6wgkmpyPGT6eaeSnSuvvJLKykpAHcQZExPDwIED2/0Q4myOWk9ipUQHo9X2/h52o9HM13vVDqDO3sIKrM3jM7/HOL/++7M/uRflltaRXVyLj1bDjCGdfFerKM1bWBNu8Y56A9E1Gg2MuRbu3gnn3g4arXpC77Vz4Kf/A7PJ1RE2sx1BP/wNmI32u211JQdOVVNe19SjIdiSnTEBJWBqAL9g9SSjN/ALtNdupWpOkl9ej8lscXFQZ9epZOfQoUPU1anZ27Jly6itre3RoIR3c3W9ztpDxVQ3mkgI8+e8FOfWoKTvf47x2mym1689+5N70RrrFta5gyIJC+hkX6OTu9Rp0jq9+oNOiIBwuPivsHgd9JuotiNY9Ud443w4/pOro1MNnAKB0dBYCbmb7HfHhOjVbSV69lRWVYORgiq1YWqKKVu9M360551iPBNr3c5QnwKMZoWTlQ0uDujsOl2zc8sttzBt2jQUReH5558nOLj9H1SPPfaYUwMU3sfVM7E+s25hXTmuHzpnrizlbyehQE1yNLhXoy1bsuPQKSzbqs6IK9V+NULYJI6F21bDnvdhzVIoPgDvXAhjroN5f4bgnq2JOSOtTu0dtGu5upU1uHlg7bTUaA4X1vBjdimXjUnskZe3Df9MDPMnsHS/eqe3bGHZRA+BrO8ZH1DE+0a1bmdglHu3duhUqrl8+XKioqL4+uuv0Wg0/O9//2PlypVtPj7//PMeDld4g+aGgr2/slNSY2D9EbU/hFPHQyiK+k3fDVXVG9mRq84e63Sy01CpblOAFCaL9mm1MOFmuGcXjL8Z0MDeD+G1CbD9TbC48LCKbSvr0Net4phqHR2xKau03UM2zmCv12lVnDy2R17LZWwrO9aBoJ5wIqtTKztDhw5lxYoVAGi1WtauXUtsrIfNxhFuQVEUjpZYe+y4YBvri4yTmC0KY5LCnfv62Wvg+I/Ou54TrT9SjNmiMCQumAFRnRz0+PN/1FqD2HRImtSzAQrPFhgJC16B8TfBN/erP+C/fRD2fACXvAj9J/R+TIPOB/9wqC9Vh74OUrv9TxoUia9Ow8nKBo6X1ZMc7fzViOZj50GQYW3V4m0rO7aBoKY8wDNOZHVqZWf8+PFUVKjvDB9//PEOt7CEOJuyuiaqGoxoNDCoB77RnI1twvlV4/s576IWC6xZBkBdoPv17Fnj6CksRWnRMVkKk0Un9Z+o1vJc/LzaLbggA96aA1/9FurLezcWnS8Mu0S9fehL+92Bfj6MH6D2mNrUQ3U7tmPnE4PL1QG0PgEQldYjr+Uy1uPnocYSgqknx9ot2p05XKD85z//WQqURZfZTmL1jwjo8S6mpztUUM3Bgmp8dRouG+3E/fr9n6qFvPpQjqa515aP0WxhvaNdk/O3QfFB9Zv06Kt7MDrhdbQ6OHexurU15jpAUWtnXp0Au95V3xj0lvTL1V8Pftnqde1T0HvgCLqiKPaVneFYW7HEjwKdl7W3CAiHYLU/WarmlPdsY0mBsnAW2xaWK+p1bIXJc4bFERHkpA6wpiZY9xf19tR7MdaEO+e6TrIjp5yaRhNRQX6M7exUd1th8sir1G9qQjgqOAaufB3G3wjfPKgWMH91r1rQbGrsnRhSZoI+FGoL4cQOGKBux05Njeb574+w5WgpZovi1EMKxTUGqhqM6LQa4usy1Tu9bQvLJmYo1BaSqj3JZxWpNJks+Pm474kzKVAWvar5JFbvJjsms4WVe9RiuoXO3MLa/S5U5EJQLJx3p/Ou6yS2rsmzh8V27pt6fTkcWKnelsJk0V0Dp8CvN8D8p9ReMyd2gNnQO6/to4chF6q3WzQYHN0/nBB/H6obTew7WeXUlzxsXdVJjgrEp8har+Ntxck21rqddJ9TWBTIK3fvrSwpUBa9ylXJzqbsUkprDUQG+TFzqJO+dg21sOE59faMJW43VVtRlOYj5+md3MLau0L9YRQ/Cvq5oLBUeB+dL0y+C0YshO8faT7lpw/p+ddOXwD7/qPO9pr/JGg06LQapgyOYtWBIjZnlXR+xbMTjliTnWFxIZDvpcXJNtZkZ4RfIRjUE1muOHTSWQ6vOVksFkl0RJe5qsfOp7vULawFYxKdt9S69XWoK4aIQTBhkXOu6URZxbXklzfg56O11ymckRQmi54UmgC/+Jfan+eGzyC4F36OpM4F3yCoyoNTe+x326agb3ZykbJtZeecsGowVKkNOa3HtL1OtJrspKAe+nD3E1ldqpo6evQoL7/8MocOHUKj0TB8+HB++9vfMniwl7TDFj2i0WjmRIXaabM3uydXNRj5/qC6wnGVs3rr1JXBllfU27P/pL57dTO2VZ2pg6MI9OvEf/XjP6pzj3yDYNQvezg60Wclndt7r+UbAGnz4ODn6lZWv/FA85ysXccrqG8yde7/RyfYGgqO8c1V74gb4ZbfG5zCmsRFGwvQ0+T2M7Icfou7atUq0tPT2b59O6NHj2bkyJFs27aNESNGsHr16p6IUXiJYyV1KAqEBfgS5awC4U74dl8BTSYLabHBjOwX6pyLbn4RDNXqds+Ihc65ppOtsSZ4nT5ybitMHvUL8HfS35MQrpZuazD4pbp6iVpT0y88AKNZYXuOc47Fmy2KPdkZ1JSl3umtW1gAQdEQEIEGhcEecCLL4WTnD3/4A7/73e/Ytm0bL774Ii+99BLbtm3jvvvu46GHHuqJGIWXsG1hpcYGo+nFLRLbFtZVE/o753Ur82H7P9Xbc5a65cyb0loDe/IrAZgzvBPbBXVlzf1IpDBZeJO0C8DHH8qPQZE6vkGj0Th9CnpeeT0GkwV/Xy1hlQfVO721OBnUbW7r6o4nHD93+Lv0oUOHuO2229rcf+utt3Lw4EGnBCW8kyvqdY6X1bHzeAVajToLyynWPwPmJkieDqlznHNNJ/vhcDGKAiP7hZIQFnD2T8j4t/pnShynfgjhLfQhMNj6//Rgc4PBadY6NmfV7WQWVgOQFhOMpiBDvdObV3bA3lwwVXuCU1WNNDS5cETIWTic7MTExJCRkdHm/oyMDClcFmfkih47n1o7Jk9NjSYu1L/7Fyw+rM7/AZjzuNsW8dq2sDrVSNBiaV2YLIS3sTcYbD6CPmVwFKAWFZfUdP84fGah+mbuvKh6aKgAra86bsWbWVd2hvsUAHC83H1Xdxyuylq8eDG33347x44dY8qUKWg0GjZv3syzzz7LAw880BMxCi9xtJcHgFosir2R4C8mOKkw+YcnQLHAsEsh6RznXNPJGo1mNlmX5juV7ORuVJf4/ULURoJCeJsh89XkozRTfcMSO4yoYD0jEkM5cKqaLUdLuXxs91Z+M4vUlZ1z/fPVO2KHq71+vFmMurIzrMVA0GHx7lnv53Cy8+ijjxISEsILL7zAww8/DEBiYiJLly7l3nvvdXqAwjtYLArHSq3JTi+dxNqRW86JigaC9T5ckB7f/Qvmb4fDX4NGC3Pct1P4T0fLaDCaiQ/1Z0RiJ77x2AqTR18NevftkyFElwWEw+BZkPW9WpsWq65ITEuN5sCpajZlOSHZsU07txxV7/D2LSywr+wkmk/hg4ljbly34/A2lkaj4Xe/+x0nTpygqqqKqqoqTpw4wW9/+9teLToVnuVUVQONRgu+Og1JEZ2oIXEC29DPi0fFE+DXzTlcigJrlqq3x15nb6jljmxHzucMjz37/8naYjWBAylMFt5tuPVUVjt1Oz9ml6JYT2p1RaPRTK51GGact4+JaCm0H/gFo8PMQE2RWxcpd+sYSUhICCEhvdAFU3g8W71OclQQPrqeP73U0GTmm33qPvJCZ/TWyV6j9qHR6WHmw92/Xg9RFIW11innneqavOcDsJig/znqMXohvNWwS0CjU4f2lqmrL+ckR+Lno6WgqtH+PaorjpbUYrYohAf44FdiGxPRBwr9NZrmImXNSXJL3XdkhPudmRVeqbfrdb4/WEitwUT/iADOTY7s3sUsFlizTL197mIIc1L9Tw84cKqawupGAv10TE6JOvOTLRZ1IjVIYbLwfoGRMGi6etvaZsHfV8c5yRGAurrTVbYtrEkxTWjqStSkKm5E9+L1FNZV7jTNSe/axhKiK7Jtx85je+fYue0U1sJx/dB2d6rx/k/Vd4P6UJju3kX4q62nsKanRePve5atu2M/QOVx0IfBiCt7ITohXKydrayp1n47m7rRb8eW7JwfrH7fIWaY2r25L7AmO6nak5TWGqhpNLo4oPZJsiN6hW1lpzcGxRVVN7I5qwRwwhaWqQnW/UW9PfVe9d2hG1t72IGuybbC5DHXgl9gD0YlhJsYfhmggVO7oTIPgOmp6pysrcfKMJktXbpsprVz8ihNjnpHX6jXsbHOyBpuPZF1vMw9t7Ik2RG9ojd77Hy+5yQWBSYOjCA5upsrSbvfhYpcCIqF8+50Snw9paCqgf0nq9FoYPaws/S8qi6AzP+pt6UwWfQVwbEwcIp6+9BXAKQnhhIe6EutwcTeE5VduqxtZWdAXxgTcTrryk4yp9BicdutLIeTnXvvvZdXXnmlzf2vvfYa9913nzNiEl6mqt5Iaa3atCulh5MdRVH41Npbp9urOoZa2PCcenvGEvDr3UntjrIVJo9LCic6+Cz9PfZ8AIoZBkxW+4EI0Vec1mBQp9UwdbBtdESZw5erajBSUNUIQGhfGBNxuohk0OnR00Q/TYnbnshyONn59NNPmTp1apv7p0yZwieffOKUoIR3OWrtrxMf6k+wvv3WTj6meu7QfUlkU0G3XuvAqWqOFNXi56PlktEJ3boWW1+HumKIGAQTFnXvWr3AduT8rKewLGYpTBZ91/DL1F/zt0G1uvViq9vZnF3i8OVswz9HhDairSkANBA30imhegStDqLTAPeekeVwslNWVkZYWFib+0NDQyktdc6MEeFd7CexzlCcnH7iY/7gu4K55R9267U+sQ79nJceR1iAb9cvVFcGW6wrmLP/BLpuXKsX1BlMbDmqvis9a9fk7DVQfQICIprf5QrRV4QmQv9z1duH1B5T0639dvbkVVJrMDl0OdsW1pxw6xu16CF9rzmn9fh5muaE92xjpaam8t1337W5/3//+x8pKSlOCUp4l87U6yRU7ATAz9LQ5ddpMln4cq/6Tu0X3d3C2vwiGKrV3jMjFnbvWr1gU1YpTSYLAyIDSTtbEbi9MPk68HXCvDAhPE269VSW9Qh6UmQgAyIDMVkUth1zbCvLluxM8Duu3tGX6nVsWk4/L3PPZMfhcRH3338/d999NyUlJcyePRuAtWvX8sILL/Dyyy87Oz7hBZqnnXfwQ9hsIq4qo9uvs+FICeV1TUQH6+3v1LqkMh+2v6nenrMUtO5fx7+2s12Tq05A1ir1thQmi75q+AL4/k9qo9DaEgiOYVpaNB9uy2NzdmnnTjNa2U5ipZmPqXf0yWTHurKjPUllvZGKuiYigvxcHFRrDic7t956KwaDgSeffJInnngCgOTkZF5//XVuuukmpwcoPN9ZGwoW/oyfufvHFT+1bmFdMTaxe12a1z8DZgMkT4fUOd2Oq6eZLQo/HFaLk+ed7Zv07vfVQabJ0+377EL0OREDIWEsFGSo41Im3sK0VGuy40C/HUVR7Cs70TWH1Tv7UnGyjXVlJ017ClDIKatzu2SnSz8RfvOb33DixAmKioqorq7m2LFjkuiIdjWZLBwvVxOZDnvs5P3U7deprG+y95i5qjsTzosPw15r3dCcx9V26G4uI7+SsromQvx9OGfQGfoAmU3qUXrwiIJrIXrUaVtZUwZHodFAVnEtRdWNnbpEcY2BqgYjUdpa/GrVN1t9cuxK5GDQ6Aimnjgq3LJIuctvf0tKSsjMzGTv3r1SmCw6lFdeh9miEOSnIy60g+PQx7d0+3W+2nsKo1lheEIowxM6Mem7Iz88oa58DLsUks7pdly9wXYKa+bQWHzPtKKVtQpqCiAwqvlEihB91XBrcX7ORqgvJzzQj1H91MM3nV3dOWwrTg6zFidHpoB/2wM8Xs/HT/2zo3ZS9opkp66ujltvvZWEhATOP/98pk+fTkJCArfddhv19e7ZOVG4TnaxtTg5Nrj9WhKLxSnJjm08xFXj+3X9Ivnb1SVtjRbmPNbtmHqLrV5n7vCzNBK0FSaPvR58ztKHRwhvF50KsSPUQbjWBpvTUpunoHfGEWuyMyXQuqqTMNbpYXoM29gIzSm3PJHlcLJz//33s2HDBr766isqKyuprKzkiy++YMOGDTzwgHvPDRK976zFyaVHoKG826+RkV+JTqvh8rFdTHYUBdYsVW+Pvc7+H9fd5ZXVc6SoFp1Ww8whZ0h2Ko6rR85BtrCEsDmtweA0e7+dUhRFOeun21Z20vvimIjT2QeCnnDLE1ldair49ttvc9FFFxEaGkpoaCgXX3wxb775pjQVFG00Jzsd9Ng5/mO3X8NWmDxjSAwxIV1cscheo8ai08PMh7sdU2+xbWGdmxxJWOAZegHtfg9QIGUmRA3uldiEcHu2up1j66CxivEDI/D31VJcYyDLerDiTGwNBfs1HFHv6IvFyTbRtoGgp8gtre9UstibHE526uvriYtre+IjNjZWtrFEG2ftsWPdwjL4hHTp+haLwso91gnnXd3CslhgzTL19rmLIaybPXp60ZoWR847ZDbCnvfV29IxWYhmMcPUhnjmJjiyCn9fHeckq0X+Z5uCbrYoHCmqIZQ6gurUoaLEj+7piN2XfRvrJLUGEyXWEUHuwuFkZ/LkyTz++OM0NjZXqzc0NLBs2TImT57s1OCEZ1MUhWP27sntJDuKYk92isLHdek1fjpWRkFVI6H+PmfvHNyR/Z9C0T7Qh8J0z9mKrWowsj1H3QKcd6YREZnfQm2ROsx02CW9FJ0QHkCjUXvugH0ry9aj62x1O3nl9RhMFsb5WhOd8AEQeIbTkN7O2soiWlNNBNXklrrX4ofDyc7f/vY3tmzZQv/+/ZkzZw5z584lKSmJLVu28Le//a0nYhQeqqTGQI3BhFYDA6MC2z6h8jjUnAKtD8WhXTuuaRv6eemYRPx9dY5fwNQE6/6i3p56r0d9s9pwpASTRSE1NpiBUWcYUmorTB53g9uPvRCi19nqdrLXgKHWPidr67EymkyWDj8ts7AagPND1K7tfbo4GdRByeEDAPeckeVwsjNy5EiysrJ4+umnGTt2LKNHj+aZZ54hKyuLESNG9ESMwkNlW1d1BkQGovdpJxGxncJKHI9J5/jYgjqDie/2FwLdOIW1+12oyFVXPc67s2vXcJE1B22nsM6wqlN+TK1HQAMTbu6dwITwJPGj1MndpkbIXs3w+FCigvyobzKTkV/Z4adlFqrf38b59uExEaez1+2cdLsTWQ53UAYICAhg8eLFzo5FeBlbcXKHzQRtxckDJ0Ox49f/bn8h9U1mkqMCGT8gwvELGGphw3Pq7RlL1HcmHsJotrA+U/1LO+OR813WJoKpc9Rv6EKI1mxbWVtegYNfoh1xJVNSo/lq7yk2Z5VwbgeNOjOL1JWdFGO2ekdfLk62iRkK2atJ05xku5slO12aem6Tn5/PY489xu9//3s2btzo1MCE5zt7cbK1c/LAqV26vm0La+H4/meeB9WRra9DXTFEDPK449g7csupbjQRGeTHuI4SPVMT7PlAvS2FyUJ0LP0K9dcjq8DYwPQWR9A7cqykjiAaCKu3ruzEy8pOyyJldzt+3ulkZ9++fSQnJxMbG8uwYcPIyMjgnHPO4aWXXuKf//wns2fP5vPPP+/BUIWnOWOPnZpCKD8KaCBpksPXPlnZwE/W6cRXjuvCFlZdmfpODmD2nzyulmXtIXVVZ9bQWHTaDhK9w19BfSmEJMCQC3sxOiE8TL/xENofjHVw9AemWouU956oorrR2O6nmCwK6ZrjaFAgtB8Ex/RmxO7JNv1ce5Kc0josFvc5ft7pZGfJkiWMGjWKDRs2MHPmTC699FIuvvhiqqqqqKio4Ne//jXPPPNMT8YqPIx9AGhsO9tDtnqduJEQEO7wtT/fcxJFgUmDIkmKbKf4+Ww2vwiGanW/fsRCxz/fhRRFsR85n5d+hi0se2HyjaDr0o61EH2DRtPcc+fgF/QLDyAlOgizRWHr0bIOP22k1tZMcGzPx+gJotXp54macnxNtRR2csZYb+h0srNjxw6efPJJpk2bxvPPP8+pU6e488470Wq1aLVa7rnnHg4fPtyTsQoPUmcwcapK/UJPiW5nZcc2/HPgFIevrSiKvZFgl4Z+VubD9jfV23OWgrYbE9Jd4GhJLcfL6vHTaZme1sG7ydIsyN2kjr4YL0N6hTgr2xH0zO/AZLCfyjrTVlZzsiNbWID6xjU4HoDBbnYiq9Pf5cvLy4mPV/8QwcHBBAUFERnZXLgVERFBTU2N8yMUHinH+kUeFeRHRJBf2yfYVna6kOxk5FdyrLQOf18tF42Mdzy49c+A2QDJ09XCXQ+z+qC6hTV5cBRB+g5WbHYtV39NuwDCk3onMCE8WdIk9Qe1oQqObWBaWieSHU2uekOSnWYx6uqOu83Icugt7elFoF0qChV9whnrderLoeiAersLyY6tMPnCEfGE+DtYa1N8GPZ+qN6e87i6fO1hzjr409gIGf9Wb0thshCdo9XC8EvV24e+4LyUKLQatRD5VGVDm6f7K42katTu7XISqwXr8fM0N5t+7tBG/qJFi9Dr1dlDjY2N3HHHHQQFqfUYBoN7tYYWrnXGep38bYACUakQfJZJ3acxmMx8tbcA6OIW1g9PgGKBYZdC0jmOf76LldUa2JVXAcCcjvrrHPoSGirUgsu0eb0YnRAeLv1y2PEWHP6GsEtfZkxSOHvyKtmcXcrVE1uvkA4y56LTKDQFxOAX0oUVZm9lPZE1WHOSnW50IqvTyc7NN7duSHbDDTe0ec5NN0ltgFBln2llpxtbWD8cKqaqwUh8qD9TBkc79sn52+Hw12ody5zHHH5td7AuswRFgfSEUBLDA9p/kq0wefxNoO1CV2kh+qoBUyAwCurLIHcz01IT1WQnq22yk2Y5CkBd5Eja2ajvu+zTz92rsWCnk5133nmnJ+MQXuZosbXHTnsNBe3JjuP9dT7drS4bXzGuX8dHrtujKLBmqXp77HX2/5Cext41uaNZWMWHIW8LaHQw/sZejEwIL6DzUefH7X4PDn3JtPQ/8eoP2fyYXYrFoqBt8T1niFltJlgXNZIutDT1Xtbj50maYorLKzGZLfjoXH8IxPURCK9jtij2AuXU01d2muqgIEO9PcCxwbFltQZ712CHx0Nkr1E7Nuv0MPNhxz7XTTQazWzMKgHOUK+zy/qmZOhFEJrYS5EJ4UVss7IOfcW4/qEE+ukoq2vicGHrAziDzGozwbrI9N6O0L0FxaD4h6PTKCRZTnGq0j2On0uyI5zuREU9TWYLeh9t262WEzvAYlLrSaxD4zrri4xTmCwKo/uHkRYX0vlPtFhgzTL19rmLIawLtT5uYOuxMuqbzMSF6hmZGNb2CcYG2PuRelsKk4XomuTzwT8M6krwO7WdSdZxEadPQfdHrVM1+YX3doTuTaNBY2suqDnJsdJaFwekkmRHOJ3tJNag6KC2W00t63UcPAn12R7reAhHOybv/xSK9oE+FKY/4NjnuhFb1+TZw+JaLafbHVgJjVVqEjl4di9HJ4SX8PGDoZeotw9+Ye+3s+kMR9DFaWzHz93oRJYkO8LpOlev49gWVmZhDftPVuOr07BgrAPJjqkJ1v1FvT31Xghsf6ifu1MUxX7kvMOuyfbC5Js9rlGiEG7F1k350FdMT40CYHtOGQaT2YVBeZAWKzu5ZfUuDkYl3xGF03XYY8fUpG5jgcPFyZ9Ze+vMGhpLZHtNCjuy+12oyIWgWDjvTode050cLKjmVFUj/r7a9k+hFe6HE9tB66OOhxBCdF3KLPALgZpTDDEeJiZET6PRwq7jFa6OzDNEu9+JLEl2hNM1Jzun9dg5tQdMjerRTusMlc4wmS2s3KOewlo43oF6G0MtbHhOvT1jCfi10/PHQ6yxdk2enhaDv287x8lthcnDLoGQDk5qCSE6x9cfhswHQHPoS6ZZt7JOr9sRHbCedk3WFJJfUuXiYFSS7AinO1pi3cY6fWXn+I/qrw7W6/x4tIziGgPhgb7MHuZAE8Ktr0NdMUQMggmLOv95bmjt4TN0TW6qg5//o96WwmQhnMN+KutLpg5Wt7I2Z0my0ylh/bH4BuKnMaOryqHJZHF1RJLsCOcqr2uivK4JaC/ZsdbrDHCsmaBt6OeCMYn4+XTyS7auDLa8ot6e/SfQOThWwo0UVTfy84kqNBq1OLmN/Z+qE9wjBsGgGb0foBDeKHUu+AZCZR4zQ08B8PPJKqrqjS4OzANoNGhsnZQ5RX6F6+t2XJrsbNy4kcsuu4zExEQ0Gg2ff/55q8cVRWHp0qUkJiYSEBDAzJkzOXDgQKvnGAwG7rnnHqKjowkKCmLBggWcOHGiF/8UoiXbFla/8AAC/Fpst1jM1jERONQ5ubrRyKoDhQBc5cgW1uYX1QQgfhSMWNj5z3NDtlNYY5PCiQnRt32CrTB5wiIpTBbCWfwC1YQHiM77jtTYYBQFthyV1Z3O0FjrdlI1J8kpcX3djku/M9bV1TFmzBhee+21dh9/7rnnePHFF3nttdfYsWMH8fHxzJs3r9V09fvuu4+VK1eyYsUKNm/eTG1tLZdeeilms1TNu0LzTKzTVnWK9qvJh1+ImoB00v/2FWAwWRgcE8To/u30lmlPZT5sf1O9PWepxycAa+yDP9tZ1TmVAad2g9YXxrUd4SKE6AbbVtbBL5hm28qSup3Osa7spGpPkusGM7IcGgTqbBdddBEXXXRRu48pisLLL7/MI488wsKF6jvzd999l7i4OD788EN+/etfU1VVxdtvv83777/P3LlqBv7BBx+QlJTEmjVrmD9/fq/9WYSqw+Jk+xbWJIfmNX26Sy1MvmpCfzSdrfNZ/wyYDZA8HVLndPq13FF9k8n+zbXdZMdWmJy+AIIcnBUmhDizIfPVruvlR5k/sZzlSLLTaS1mZO10gxNZbvuWNycnh8LCQi644AL7fXq9nhkzZrBli/qDc9euXRiNxlbPSUxMZOTIkfbntMdgMFBdXd3qQzhHx8XJjg//zCurZ3tuORoNXNnZRoLFh2Hvh+rtOY873LjQ3WzOKqXJZKF/RABD4k77OzXUwL5P1NtSmCyE8+lD7G+YJtRtRKfVcLysnvxy19eguD1rr53BmlPkltSc5ck9z22TncJCtU4jLq71u9m4uDj7Y4WFhfj5+REREdHhc9rz9NNPExYWZv9ISkrq8LnCMe322FGULg3/tHVMnjo4moSwDiZ8n+6HJ0CxwLBLIemcTr+Wu2q5hdVmZWvff6GpFqLSIHmaC6ITog8YrjYY9DvyNeOSwgFZ3emU8IFYtH4EaJpoLM11dTTum+zYnP4NXlGUs25nnO05Dz/8MFVVVfaP/Px8p8Ta1zUazfZ3PINjW2xjlWZBfam6HJw4rlPXUhSFz3bbtrA6uaqTvx0Ofw0aLcx5zKHY3ZHFovDDYbU4uc0WlqI0FyZPvMXjV7CEcFtDL1Rr4koOcVk/9c2cJDudoPPBEpkKQEjtMRqNrq2jddtkJz4+HqDNCk1xcbF9tSc+Pp6mpiYqKio6fE579Ho9oaGhrT5E9x0vq8eiQIi/DzHBLU4N5VlXdfqfAz7tnCZqx87jFeSV1xPkp2P+iPizf4KiwJql6u2x19n3iz1ZxolKSmubCNH7cO6g08ZcnNoNhT+rCeSY/+eaAIXoCwIiIEVt6TBX2QrAluxSFBRXRuURdHHNdTuuLlJ222Rn0KBBxMfHs3r1avt9TU1NbNiwgSlT1LqPCRMm4Ovr2+o5BQUF7N+/3/4c0XtabmG1WlnrQr2ObTzERaMSCPTrRB199hq1aaFODzMf7vTruDPbLKzzh8a07S+081/qryOu8Nh5X0J4DOuprMSC1QTrfaioN2I0S7JzNs3Tz0+5fCCoS09j1dbWkp2dbf99Tk4OGRkZREZGMmDAAO677z6eeuop0tLSSEtL46mnniIwMJDrrrsOgLCwMG677TYeeOABoqKiiIyM5MEHH2TUqFH201mi92Rbj52nnn7s3MFkp9Fo5uu9BQAsHN+JLSyLBdYsU2+fuxjCHOjH48ZsIyLmnb6F1VgF+z9Tb0thshA9b+gloLkPTeHPXJrUyIpsH1AA2T0+M+tYoDTtCbaVurao26XJzs6dO5k1a5b99/fffz8AN998M8uXL2fJkiU0NDRw5513UlFRwaRJk/j+++8JCQmxf85LL72Ej48PV199NQ0NDcyZM4fly5ej03X+eLNwjnaLkyvzoCofNDp1G6sTvj9YRI3BRL/wAM4bFHX2T9j/KRTtA30oTH+gK6G7nfzyejKLatBpNcwcGtP6wZ//A8Z69bTDgPNcE6AQfUlQFCRPhZyNXBWwmxWc6+qIPEOLlZ0VLj6R5dJkZ+bMmShKx0uBGo2GpUuXsnTp0g6f4+/vz6uvvsqrr77aAxEKR7TbY+f4T+qviWNBH9z2k9ph28K6clw/tNqzvHUyNcG6v6i3p97rNVs6tlNYEwdGEB7YYsp7q8LkW6UwWYjekn455GxkVNV6kGSnc6IGo6AlVFNPVfEJYKzLQnHbmh3hWSwWhaPF1h47LbexWg7/7IRGo4WNR0qATm5h7X4XKnIhKBbOu9ORkN2abUREm1NY+duh+AD4BMDoa1wQmRB91LDLAA3+xRmMDpHebJ3io6cpLBkAXfkRl4YiyY5wisLqRhqMZny0GgZEBjY/4ODwz9JaAxYFxg8IJ+X0xoSnM9TChufU2zOWgF/QmZ/vIaobjWw9VgbA3PTTkh1bx+SRCyEgvHcDE6IvC4mDAZMBuDVyv4uD8RzaWPVEVkxjLjWNrhuiKsmOcArbFtbAqEB8ddYvq9oSKMtSb3eytsS2qbmwM0M/t74OdcXqtO8JixwL2I1tPFKCyaKQEhPEoOgWCVxDBRxYqd6WwmQhel+62mBwmrHjDv2iNd+44YA6EPR4meuKlCXZEU5hHwDacjXG1l8ndoRDtTR+Oi2XjU4885PqymDLK+rt2X8Cna8j4bq1NQfVep02p7D2rgBTI8SNhP4TXRCZEH3c8MsAiCrfQ5SmysXBeAjbjCztSXJcePxckh3hFPaZWK3qdWxHzic7dK256bGEBZ4ledn8ojpFPX4UjFjo0PXdmclsYV2mWrM0p2WyIx2ThXC9sP7QbyIaFCI16hu8sADveaPVI2zTzzUnKa01uCwMSXaEU9h77MS0l+w41uDxqrNtYVXmw/Y31dtzloLWe76Mdx6voKrBSESgL+MHhDc/cHwLlGaCbxCMutpl8QnR51kbDNr0j+jk3L6+ytprJ1pTzS3jwlwWhvf8lBAuZT92blvZaayCwn3q7U4WJwPofbScPyTmzE9a/wyYDZA83T6R2FvYuibPGhqLj67Ff09bYfKoq8BfxpsI4TLWuh3RSX5BEDZAvV2S6bIwJNkR3VbdaKS4Rl2eTLH12MnbBigQmQKhCWe9RmK4+u4oLTa4ucC5PcWHYe+H6u05j3vdds4a25Hzlqew6srg4BfqbSlMFsK1IpIhfrSro/AsMerqDiWHXRaCS5sKCu9wzFqvExuiJ9Tfun+d59iRc9tx9bTYkDM/8YcnQLHAsEshqXMdmT3F0ZJackrr8NVpmJ4W3fzA3g/B3AQJY6DfeNcFKIRQpV+uDuIVnZM2H0LiIWqwy0KQZEd0W7snsbpYr3NG+Tvg8Neg0cKcx5x3XTdhO4V1XkoUIbak8fSOyUII10u/XH3jJTpn0u2ujkC2sUT3NdfrWLewmurh5G71trOSHUWBNUvV22Ovs1f4e5N2uybnbITyo+AXAiN/4aLIhBCtRKdBonWVNSjWtbGITpGVHdFtbQaAntwJFiOEJKj7286QvQaObwadHmY+7JxrupHyuiZ2Hi8HYM7wFt88bYXJo3/Z6dliQohecN1/oPpkcz2KcGuS7Ihus/fYsSU7tuGfA6c4p4DYYoE1y9Tb5y5We114mXWHi7EoMCw+hP4R1nEbtSVw6Gv1thQmC+FegmPUD+ERZBtLdIvRbOF42WkNBR0c/nlW+z+Fon2gD4XpDzjnmm5m7WFr1+SWp7AyPlBXyPpNgAQ5/SGEEF0lyY7olrzyeoxmhUA/HQmh/mA2wokd6oMO9NfpkKkJ1v1FvT31XofGTngKg8nMBmvXZHu9jsUCu5art6UwWQghukWSHdEttpNYKTFBaLUaKNgLxnoIiICYYd1/gd3vQkWuWgR43p3dv54b2nasnLomMzEhekb1s3YYPbZO/XPrw7xqHIYQQriCJDuiW9rW61i3sAZM6f4YB0MtbHhOvT1jidqJ0wutsXZNnjs8Vk0Yobkwecw14BfoosiEEMI7SLIjuqXNSSxn9tfZ+jrUFasnusbf3P3ruSFFUexHzucMs25h1RTC4W/V21KYLIQQ3SbJjuiWVsmOxQJ5tpNYjk06b6OuDLa8ot6e/Sj4+HXvem7qUEENJysb8PfVMjXV2jV5z/ugmCFpEsSluzZAIYTwApLsiC5TFKW5e3JsEBQfVAeA+gZB/JjuXXzzi2CohvhRXl2zYhv8OS01mgA/HVjMsOs99UEpTBZCCKeQZEd0WWltE9WNJjQaSI4Kat7CGjAJdN1o4VSZD9vfVG/PWdr92h831lyvY93Cyl4LVXngH662pBdCCNFt3vtTRPQ42xZWUkQg/r661sXJ3bH+GTAbIHk6pM7pZpTuq7i6kb0nqgCYPczaNdlWmDz2OvANcFFkQgjhXaSDsuiy5nqdIHV2VV6LzsldVZoJhfvU23Med04HZje19rBamDwmKZzYUH+oOglHvlMfnLDIdYEJIYSXkWRHdFm2tV4nNTYYyo9BbRHo/NSOv11VsFf9ddilkHSOE6J0X7Z6nbm2VZ0974NigYFTvXLQqRBCuIpsY4kua9Vjx7aF1W8C+Pp378IaLcx5rJvRubeGJjObskoBmJseB2YT7HpXfVAKk4UQwqkk2RFd1nwSK7j18M/uGnud169s/JhdisFkoV94AMPiQyDre6g5BYFRMPwyV4cnhBBeRZId0SUNTWZOVjYAp63sdDfZ0elh5sPdjM79teyarNFoWhcm++hdGJkQQngfSXZElxwrVVd1IgJ9iTSVQOVxdfup/7ldu2DieLXeZ+ZDENbfiZG6H4tFsRcnzxkeB5V5kLVafVA6JgshhNNJgbLoklb1OrZTWPGjwT+0axccOBkePum1nZJb+vlkFSU1BoL1PkxKiYSNTwMKDDofoga7OjwhhPA6srIjusRer9NqC2tq9y7aBxIdaD6Fdf6QaPQaC+yWjslCCNGTJNkRXWLvsRMb5Nzhn33A6oMtuiZn/k89sh8UA0MvcXFkQgjhnSTZEV1i28YaHtYEJYfVOwd0c/hnH3Ciop7DhTVoNTBraGxzYfK4G/rMypYQQvQ2SXaEw8wWhWPWlZ2hhgPqnTHDICjKhVF5hrWH1MLkiQMjiTCchKM/qA+Mv9mFUQkhhHeTZEc47FRlAwaTBT+dluiyXeqdsoXVKbYj53OGx8JuaxPBwbMhcpALoxJCCO8myY5wWLZ1VWdQdBDaPNukc0l2zqam0cjWY2UAzB0aAXs+UB+QwmQhhOhRkuwIh9lOYqVHa6DwZ/XOgVKvczYbj5RiNCsMig5icOl6qCuB4HgYcqGrQxNCCK8myY5wmK04earfUXVwZfhAr28E6AxrW3RNthcmj78RdL4ujEoIIbyfJDvCYbZj56NM1uJkqdc5K5PZwg+ZanHyJf3qIWcjoIHxN7k2MCGE6AMk2REOs53E6l+Tod4hyc5Z7c6rpLLeSFiAL6OLVqp3ps2D8AGuDUwIIfoASXaEQyrrmyitbUJPE4ElGeqd3e2c3AfYTmFdMCQMbcaH6p1SmCyEEL1Ckh3hEFu9zpyQfDTmJgiOg8gUF0fl/mzJzv8L3QsN5RDaD1LnuTgqIYToGyTZEQ6xncSaHZCt3jFgMmg0LozI/R0rqeVYSR2+Og2jCz9T7xx/E+hkDq8QQvQG+W4rzuh4WR2rDhSSkV/JnTNT7cXJY5VD6hNkC+usbF2Tr+xfh0/+T6DRwrgbXRyVEEL0HZLsiFYUReFwYQ2rDhTy3f5CDhfW2B+LCdZzsrIBHWYG1u9T75Ti5LNabd3Culm/Tr1jyIUQ1s+FEQkhRN8iyY7AYlHYk1/JqgOFrDpQyPGyevtjOq2GiEA/SmsNmCwKR0vqGKHJxdfcAP5hEJvuwsjdX0VdE7uOV6CnieFFX6t3SmGyEEL0Kkl2+iij2cLWY2WsOlDI9weKKK4x2B/T+2iZnhbDhSPjmTMslvd+Os5La47QZLKQV17PIm2LKedaKfs6k/VHijFbFO6I3Iu2vgrCBqizsIQQQvQaSXb6kIYmMxuzSli1v5A1h4qobjTZHwvR+zB7eCzzR8QzY0gMQfq2XxrHy+sxWxSm6DPVO2QL66zWWOt1rtOtVe+YcBNodS6MSAgh+h5JdrxcVYORHw4XsWp/EeuPFNNotNgfiwry44IRccwfEc/kwVHofc78Q/hYSS0aLJyjzQQFGf55Fk0mCxsySxiqyaNfzc+g9ZHCZCGEcAFJdrxQcU0jqw8WsepAEVuySzFZFPtj/cIDmD8ingtHxjNhYAQ6beePjZfWNpGmOUWoUgO+gZAwpifC9xrbc8qpNZi4LWC9mhwOvRhC4l0dlhBC9DmS7HiJ/PJ6+wmqXXkVKM35DWmxwVw4Mp75I+IZkRiKxsG+OL7megZqCjmuxDFJaz1y3v8c8PFz4p/A+6w5VEQAjSzQbFKTnYm3uDokIYTokyTZ8VCKonCkqJbv9qsnqA4WVLd6fExSOPOtW1SDY4I7f2FTExTth1O74eQeOLWbO4oPc6fewjLjjYzTWpsJSn+dM1JQk51LdVvxt9RBRDIMmunaoIQQoo+SZKcHvfh9Jl/9XMAtU5O5aXJyt69nsShknLAeEd9fSO5pR8TPTY7kwpHxXDAijoSwgE5c0AylWdbEZrf6a+E+MDe1eprtvFWq5pRarwMwcHK3/zzerMFo5kR1AzfobYXJi+TkmhBCuIgkOz2otK6JnNI6KuuNXb6G0Wxhe0453+0v5PuDhRRVNx8R9/PRcn5aNBeMiGfu8Dgig86wraQoUJnXIrHZo3401bZ9rn849BsPieOh33gyNnzB2IKPSdIUk6ApR9H6ouk3sct/pr7AaLIwQpPLGM1R0PrC2BtcHZIQQvRZkuy4oUajmY1HSlh1oIg1h4qoamhOloL1PswaFsuFI+KZMTSG4HaOiANQW9Kc2JzcpSY29aVtn2crNLYmNvQbDxGDWs27atiyAYBzrf11NP3Gg1+g8/7AXsp+3Hz4ZRAc49pghBCiD5Nkx01UNxpZd7iY7/YXsj6zhAaj2f5YZJAf84bHceHIeKaktnNEvLEaCjLUpMa2alOV3/ZFtD4QNwL6TWhObqKHdnogpb/GmnQNkC2sswnSNHK59kf1N1KYLIQQLiXJTg/ytTQSSh06i6Hdx0tqDKw5VMR3+wvZcrQUo7n5CFVimD/zrSeoJg6MwEdnrfcwNsKJPS0Sm91q3Q3KaVfXQHRa68QmbiT4+nf/DybFyWc1RntMvRGVCsnTXRuMEEL0cZLs9KCLT73KMv8v+OnEHcCzQPMR8e8PFLHjeHmrI+KpscHMHxHHhSMSGNkvFI3FDKWZsPeb5sSm6ABYTG1fLCypVZ0NCWPBP9TpfyYFDZoBk5x+Xa81YVGrLUEhhBC9T5KdXlDdYOTVtVl8d6CQA6daHxEf3T+M+SPimZ8eR6pviZrU7H8Pvt8NBXvBWN/2goFRrVdsEsf3Wk1IQ+RwAv3DeuW1PJ1F64d2zHWuDkMIIfo8SXZ6wf6TVbyadwQArQbOSY7kylQt88JPEVW5Dk7shu17oKGi7Sf7hUDiWEgc15zYhA/o1dUCo7l5xIRu0LRee12P1OKfRTPiCgiKclkoQgghVJLs9KAAayFxuLaBu/vnc0H4SYaZs/Ar2gubTrX9BJ0fxI9qcTJqAkSlubw/S3ldc98d/WBJds4ktUUDR40UJgshhFuQZKcHjegXCkVwm+4bKPoGilo8qNFCzDBrYjNOTWxiR7jlCAZTXXnzb2T45xmFhUWqN2KGyak1IYRwE16T7Pz973/nr3/9KwUFBYwYMYKXX36Z6dNdewpGF5XS/JuI5NYrNvGjQe/AGAcXGmI40NxGWfrFnNng2TD/aUi7QAqThRDCTXhFsvPxxx9z33338fe//52pU6fyxhtvcNFFF3Hw4EEGDBjgusDOu0v94RfaDwIjXRdHNw3V5Lk6BM+h84HJd7o6CiGEEC1oFEU5vUGLx5k0aRLjx4/n9ddft983fPhwrrjiCp5++uk2zzcYDBgMzb1vqqurSUpKoqqqitBQ5x/X9nSmxyPw0ViLlJdWuTYYIYQQwqq6upqwsLCz/vz2+MmETU1N7Nq1iwsuuKDV/RdccAFbtmxp93OefvppwsLC7B9JSUm9EarHyhr9ewAO9fuFiyMRQgghHOfxyU5paSlms5m4uLhW98fFxVFYWNju5zz88MNUVVXZP/Lz2xmtIOyGX/VHWFrF8MVvuzoUIYQQwmFeUbMDoDmtGFRRlDb32ej1evR6fW+EJYQQQggX8/iVnejoaHQ6XZtVnOLi4jarPUIIIYToezw+2fHz82PChAmsXr261f2rV69myhTpCSOEEEL0dV6xjXX//fdz4403MnHiRCZPnsw///lP8vLyuOOOO1wdmhBCCCFczCuSnWuuuYaysjL+/Oc/U1BQwMiRI/n2228ZOHCgq0MTQgghhIt5RZ+d7ursOX0hhBBCuI8+02dHCCGEEOJMJNkRQgghhFeTZEcIIf5/e/cfE2UdxwH8facIpHABceAJApY/2k4r09SmheQEC/BHP4wcwUKdps6pNWq1aLam1kipraWsWLM2pDCzVZAG5Az8McSJmZgnZCiIICj+CMT79IfjmQccot093D33fm236T1fnuf7vu994MPd8xxEpGlsdoiIiEjT2OwQERGRprHZISIiIk1js0NERESaxmaHiIiINE0Tn6D8f3V+ruKlS5f6eSZERETUV50/t2/3+chsdgC0trYCAMLDw/t5JkRERHSnWltbYTAY7G7nn4sAYLVacfbsWfj5+UGn09kdd+nSJYSHh+Off/7xuD8r4anZPTU34LnZPTU3wOyemN3dc4sIWltbYTKZoNfbPzOHr+wA0Ov1CAsL6/N4f39/t3xSOIKnZvfU3IDnZvfU3ACze2J2d87d2ys6nXiCMhEREWkamx0iIiLSNDY7d8Db2xsZGRnw9vbu76mozlOze2puwHOze2pugNk9Mbun5OYJykRERKRpfGWHiIiINI3NDhEREWkamx0iIiLSNDY7REREpGmabHb27NmDhIQEmEwm6HQ67Nixw2b7uXPnkJqaCpPJhHvuuQdxcXH466+/bMZYLBbMnTsXwcHB8Pf3xwsvvIBz584p22tqapCWloaoqCj4+vri/vvvR0ZGBtrb23udW2pqKnQ6nc1t8uTJbpUdACIjI7vleOONN3qdm4jg3Xffhclkgq+vL6Kjo/HHH3+4Te6SkpJumTtvBw8etDs3Z675unXrMHHiRPj5+cFoNGLOnDmoqqqyGdOXx72trQ0rVqzAfffdh8GDByMxMRG1tbU2Y5qbm5GcnAyDwQCDwYDk5GS0tLT0Oj9nrrla2V2x1tVcd1eqdbVya7nWt2zZgujoaPj7+0On0/VYw65W6w4hGvTTTz/JW2+9Jfn5+QJAvvvuO2Wb1WqVyZMny7Rp0+TAgQNy/PhxWbx4sQwfPlwuX74sIiKXL1+WESNGyNy5c+XIkSNy5MgRmT17tkycOFFu3LghIiI///yzpKamSmFhoVgsFvn+++/FaDTKmjVrep1bSkqKxMXFSV1dnXJrampyq+wiIhEREbJ27VqbHK2trb3Obf369eLn5yf5+flSWVkp8+fPl6FDh8qlS5fcIndbW5tN3rq6Olm4cKFERkaK1Wq1OzdnrnlsbKzk5OTI0aNH5fDhw/LMM8/Y5BLp2+O+ZMkSGTZsmOzatUsOHTok06dPl4ceekg6OjqUMXFxcWI2m6W0tFRKS0vFbDZLfHx8r/Nz5pqrld0Va13NdXelWlcrt5ZrfePGjbJu3TpZt26dAJDm5uZux3K1WncETTY7t+r6g6+qqkoAyNGjR5X7Ojo6JDAwULKzs0VEpLCwUPR6vVy8eFEZc+HCBQEgu3btsnusDz74QKKionqdT0pKisyePfvuwtwhZ2aPiIiQjRs39nkuVqtVQkNDZf369cp9//77rxgMBvnss8/uIp19aq15e3u7GI1GWbt2ba/zUXPNGxoaBID89ttvItK3x72lpUW8vLwkNzdXGXPmzBnR6/VSUFAgIiLHjh0TALJv3z5lTFlZmQCQ48eP9zgXNddcxHnZe+Jqte7M7K5c62qtuVZq/VbFxcU9NjvuUOt3Q5NvY/Wmra0NAODj46PcN2DAAAwaNAh79+5Vxuh0OpsPWfLx8YFer1fG9OTixYsIDAy87RxKSkpgNBoxatQoLFq0CA0NDXcb5444OvuGDRsQFBSEhx9+GO+//36vL+tXV1ejvr4eM2fOVO7z9vbGk08+idLSUofks8dZa75z5040NjYiNTX1tnNQa80vXrwIAMrzsC+Pe3l5Oa5fv24zxmQywWw2K2PKyspgMBgwadIkZczkyZNhMBjsrp/aa+6s7PaO5Uq17uzsrlrraq25Vmq9L9yh1u+GxzU7Y8aMQUREBN588000Nzejvb0d69evR319Perq6gDcXNjBgwcjPT0dV69exZUrV/D666/DarUqY7qyWCz45JNPsGTJkl6PP2vWLHz99dcoKipCZmYmDh48iJiYGOUHsjM5MvvKlSuRm5uL4uJiLF++HJs2bcKrr75q99j19fUAgJCQEJv7Q0JClG3O4qw1//zzzxEbG4vw8PBej6/WmosIVq9ejalTp8JsNgPo2+NeX1+PQYMGISAgoNcxRqOx2zGNRqPd9VNzzZ2ZvStXq3VnZ3fVWldzzbVS633h6rV+tzzur557eXkhPz8faWlpCAwMxIABAzBjxgzMmjVLGRMcHIxvvvkGS5cuxccffwy9Xo+kpCSMHz8eAwYM6LbPs2fPIi4uDs8//zwWLlzY6/Hnz5+v/NtsNmPChAmIiIjAjz/+iHnz5jkuaA8cmX3VqlXKv8eNG4eAgAA899xzym+A9uh0Opv/i0i3+xzNGWteW1uLwsJC5OXl3fb4aq358uXLceTIkR5fibqbx73rmJ7G92U/aqy5s7N3csVad3Z2V611tdbcE2r9dvvo63764/t7X3ncKzsA8Oijj+Lw4cNoaWlBXV0dCgoK0NTUhKioKGXMzJkzYbFY0NDQgMbGRmzduhVnzpyxGQPc/OY3ffp0TJkyBVu2bLnjuQwdOhQRERHdrgxyFkdmv1XnFQcnT57scXtoaCgAdOvyGxoauv024AyOzp2Tk4OgoCAkJibe8VycseYrVqzAzp07UVxcjLCwMOX+vjzuoaGhaG9vR3Nzc69jul6RBwDnz5+3u35qrbmzs3dyxVpXK/utXKHW1cytpVrvC1eu9f9F3VOE1IcuJ6v25MSJE6LX66WwsNDumF9//VV0Op3NCVq1tbUycuRIefHFF22uXrgTjY2N4u3tLV9++eVdfX1vnJm9qx9++EEAyN9//93j9s4T2DZs2KDc19bWpsoJyj35P7mtVqtERUXd9mocexy55larVZYtWyYmk0lOnDjR4/bbPe6dJ2xu27ZNGXP27NkeT1Dev3+/Mmbfvn19OmnRWWuuVnYR16t1NbN31Z+1rnZurdX6rW53grIr1bojaLLZaW1tlYqKCqmoqBAA8tFHH0lFRYVSnHl5eVJcXCwWi0V27NghERERMm/ePJt9fPHFF1JWViYnT56UrVu3SmBgoKxevVrZfubMGXnggQckJiZGamtrbS41vNXo0aNl+/btyrzWrFkjpaWlUl1dLcXFxTJlyhQZNmyYwy7PUyN7aWmpst9Tp07Jtm3bxGQySWJiot3sIjcvTTQYDLJ9+3aprKyUpKQkh12aqEbuTrt37xYAcuzYsR7nouaaL126VAwGg5SUlNg8B69evaqM6cvjvmTJEgkLC5Pdu3fLoUOHJCYmpsdLz8eNGydlZWVSVlYmY8eO7XY5qpprrlZ2V6x1tbK7Wq2r+XwX0Wat19XVSUVFhWRnZwsA2bNnj1RUVNhcIu9qte4Immx2OjvWrreUlBQREcnKypKwsDDx8vKS4cOHy9tvvy1tbW02+0hPT5eQkBDx8vKSkSNHSmZmps3nK+Tk5PR4jK4vlgGQnJwcERG5evWqzJw5U4KDg5Vjp6SkyOnTp90qe3l5uUyaNEkMBoP4+PjI6NGjJSMjQ65cuWI3u8jN7j8jI0NCQ0PF29tbnnjiCamsrHSb3J2SkpLk8ccftzsXNdfc3nPwTh/3a9euyfLlyyUwMFB8fX0lPj6+2xybmppkwYIF4ufnJ35+frJgwYJuvxWqueZqZXfFWlcru6vVuprPdxFt1npGRsZt9+Nqte4IOhGRO3nbi4iIiMideOQJykREROQ52OwQERGRprHZISIiIk1js0NERESaxmaHiIiINI3NDhEREWkamx0iIiLSNDY7REREpGlsdoiIiEjT2OwQkVsQEcyYMQOxsbHdtn366acwGAw4ffp0P8yMiFwdmx0icgs6nQ45OTnYv38/Nm/erNxfXV2N9PR0ZGVlYfjw4Q495vXr1x26PyLqH2x2iMhthIeHIysrC6+99hqqq6shIkhLS8NTTz2Fxx57DE8//TSGDBmCkJAQJCcno7GxUfnagoICTJ06Fffeey+CgoIQHx8Pi8WibK+pqYFOp0NeXh6io6Ph4+ODr776qj9iEpGD8Q+BEpHbmTNnDlpaWvDss8/ivffew8GDBzFhwgQsWrQIL7/8Mq5du4b09HR0dHSgqKgIAJCfnw+dToexY8fiypUreOedd1BTU4PDhw9Dr9ejpqYGUVFRiIyMRGZmJh555BF4e3vDZDL1c1oi+r/Y7BCR22loaIDZbEZTUxO+/fZbVFRUYP/+/SgsLFTG1NbWIjw8HFVVVRg1alS3fZw/fx5GoxGVlZUwm81Ks7Np0yasXLlSzThE5GR8G4uI3I7RaMTixYvx4IMPYu7cuSgvL0dxcTGGDBmi3MaMGQMAyltVFosFL730EkaMGAF/f39ERUUBQLeTmidMmKBuGCJyuoH9PQEiorsxcOBADBx481uY1WpFQkICNmzY0G3c0KFDAQAJCQkIDw9HdnY2TCYTrFYrzGYz2tvbbcYPHjzY+ZMnIlWx2SEitzd+/Hjk5+cjMjJSaYBu1dTUhD///BObN2/GtGnTAAB79+5Ve5pE1E/4NhYRub1ly5bhwoULSEpKwoEDB3Dq1Cn88ssveOWVV3Djxg0EBAQgKCgIW7ZswcmTJ1FUVITVq1f397SJSCVsdojI7ZlMJvz++++4ceMGYmNjYTabsXLlShgMBuj1euj1euTm5qK8vBxmsxmrVq3Chx9+2N/TJiKV8GosIiIi0jS+skNERESaxmaHiIiINI3NDhEREWkamx0iIiLSNDY7REREpGlsdoiIiEjT2OwQERGRprHZISIiIk1js0NERESaxmaHiIiINI3NDhEREWnaf04S00WTp7FPAAAAAElFTkSuQmCC\n",
      "text/plain": [
       "<Figure size 640x480 with 1 Axes>"
      ]
     },
     "metadata": {},
     "output_type": "display_data"
    }
   ],
   "source": [
    "#compare the new revenues\n",
    "plt.plot(nc.Movie_release_date, nc.inflation_revenue/1e6, label='Inflation correction')\n",
    "plt.plot(nc.Movie_release_date, nc.Movie_box_office_revenue/1e6, label='Real revenue')\n",
    "plt.legend()\n",
    "plt.xlabel('Year')\n",
    "plt.ylabel('Boc office revenue [M$]')\n",
    "plt.show()"
   ]
  },
  {
   "cell_type": "code",
   "execution_count": 40,
   "id": "6cd2e526-8c55-4b83-9db9-ba6728d3ab51",
   "metadata": {},
   "outputs": [],
   "source": [
    "#run the least mean squares again\n",
    "nc_reg2 = nc.copy()\n",
    "#logarithmic scaling of continuous variables\n",
    "nc_reg2['inflation_revenue'] = np.log(nc_reg2['inflation_revenue'])\n",
    "#nc_reg2['Movie_runtime'] = np.log(nc_reg2['Movie_runtime'])\n",
    "#nc_reg2['Movie_release_date'] = np.log(nc_reg2['Movie_release_date'])\n",
    "#nc_reg2['experience'] = np.log(nc_reg2['experience'])"
   ]
  },
  {
   "cell_type": "code",
   "execution_count": 41,
   "id": "c9976348-2a99-4a6c-bed6-2a95a172d315",
   "metadata": {},
   "outputs": [
    {
     "name": "stdout",
     "output_type": "stream",
     "text": [
      "                            OLS Regression Results                            \n",
      "==============================================================================\n",
      "Dep. Variable:      inflation_revenue   R-squared:                       0.474\n",
      "Model:                            OLS   Adj. R-squared:                  0.412\n",
      "Method:                 Least Squares   F-statistic:                     7.645\n",
      "Date:                Wed, 16 Nov 2022   Prob (F-statistic):            0.00428\n",
      "Time:                        22:41:16   Log-Likelihood:                -33.991\n",
      "No. Observations:                  20   AIC:                             73.98\n",
      "Df Residuals:                      17   BIC:                             76.97\n",
      "Df Model:                           2                                         \n",
      "Covariance Type:            nonrobust                                         \n",
      "=================================================================================\n",
      "                    coef    std err          t      P>|t|      [0.025      0.975]\n",
      "---------------------------------------------------------------------------------\n",
      "Intercept        12.5397      1.973      6.357      0.000       8.378      16.702\n",
      "Movie_runtime     0.0316      0.016      1.919      0.072      -0.003       0.066\n",
      "experience        0.1482      0.060      2.481      0.024       0.022       0.274\n",
      "==============================================================================\n",
      "Omnibus:                        2.562   Durbin-Watson:                   1.936\n",
      "Prob(Omnibus):                  0.278   Jarque-Bera (JB):                1.474\n",
      "Skew:                          -0.663   Prob(JB):                        0.479\n",
      "Kurtosis:                       3.093   Cond. No.                         792.\n",
      "==============================================================================\n",
      "\n",
      "Notes:\n",
      "[1] Standard Errors assume that the covariance matrix of the errors is correctly specified.\n"
     ]
    }
   ],
   "source": [
    "mod = smf.ols(formula='inflation_revenue ~ Movie_runtime + experience', data=nc_reg2)\n",
    "\n",
    "res = mod.fit()\n",
    "print(res.summary())"
   ]
  },
  {
   "cell_type": "markdown",
   "id": "7b67cbf9-e0f0-45eb-982c-95780eb76e69",
   "metadata": {},
   "source": [
    "From the new results above, it is possible to confirm the statistical significance of the experience on the box office (**P < 5%**), even if its influence has decreased (**C=0.148**), due to inflation."
   ]
  },
  {
   "cell_type": "markdown",
   "id": "4a855ec5-ef67-4338-b0c1-f08acf358f31",
   "metadata": {},
   "source": [
    "We can go further in the analysis, by investigating the gender equality/inequality in the movies to see if they are related to revenue as well. The eventual goal would be to establish the benefit of choosing an actor over another one, and so a gender study is fundamental for this purpose."
   ]
  },
  {
   "cell_type": "markdown",
   "id": "9525fd8e-88b3-47d5-8476-72c3b0c7e1f5",
   "metadata": {},
   "source": [
    "To have some preliminary results on a single sample, the analysis will regard one of the previously studied Leonardo Di Caprio movies."
   ]
  },
  {
   "cell_type": "code",
   "execution_count": 42,
   "id": "8af6c69a-e396-441c-9269-a8af1043a243",
   "metadata": {},
   "outputs": [
    {
     "data": {
      "text/plain": [
       "Wikipedia_movie_ID                                                           5169996\n",
       "Freebase_movie_ID                                                          /m/0d61px\n",
       "Movie_name                                                  The Man in the Iron Mask\n",
       "Movie_release_date                                                            1998.0\n",
       "Movie_box_office_revenue                                                 182968902.0\n",
       "Movie_runtime                                                                  132.0\n",
       "Movie_languages                                   {\"/m/02h40lc\": \"English Language\"}\n",
       "Movie_countries                    {\"/m/09c7w0\": \"United States of America\", \"/m/...\n",
       "Movie_genres                       {\"/m/03btsm8\": \"Action/Adventure\", \"/m/07s9rl0...\n",
       "Character_name                                                              Philippe\n",
       "Actor_date_of_birth                                                       1974-11-11\n",
       "Actor_gender                                                                       M\n",
       "Actor_height                                                                    1.83\n",
       "Actor_ethnicity                                                            /m/09kr66\n",
       "Actor_name                                                         Leonardo DiCaprio\n",
       "Actor_age_at_movie_release                                                      23.0\n",
       "Freebase_character/actor_map_ID                                           /m/0gl0n3j\n",
       "Freebase_character_ID                                                     /m/0cgh8q6\n",
       "Freebase_actor_ID                                                           /m/0dvmd\n",
       "Name: 246888, dtype: object"
      ]
     },
     "execution_count": 42,
     "metadata": {},
     "output_type": "execute_result"
    }
   ],
   "source": [
    "ds.iloc[246888]"
   ]
  },
  {
   "cell_type": "code",
   "execution_count": 43,
   "id": "21589db3-cfcc-40ae-963b-60fe9e6865e6",
   "metadata": {},
   "outputs": [
    {
     "data": {
      "text/plain": [
       "Wikipedia_movie_ID                                                           5169996\n",
       "Freebase_movie_ID                                                          /m/0d61px\n",
       "Movie_name                                                  The Man in the Iron Mask\n",
       "Movie_release_date                                                            1998.0\n",
       "Movie_box_office_revenue                                                 182968902.0\n",
       "Movie_runtime                                                                  132.0\n",
       "Movie_languages                                   {\"/m/02h40lc\": \"English Language\"}\n",
       "Movie_countries                    {\"/m/09c7w0\": \"United States of America\", \"/m/...\n",
       "Movie_genres                       {\"/m/03btsm8\": \"Action/Adventure\", \"/m/07s9rl0...\n",
       "Character_name                                                        King Louis XIV\n",
       "Actor_date_of_birth                                                       1974-11-11\n",
       "Actor_gender                                                                       M\n",
       "Actor_height                                                                    1.83\n",
       "Actor_ethnicity                                                            /m/09kr66\n",
       "Actor_name                                                         Leonardo DiCaprio\n",
       "Actor_age_at_movie_release                                                      23.0\n",
       "Freebase_character/actor_map_ID                                           /m/02tb2dv\n",
       "Freebase_character_ID                                                     /m/0cgh6c3\n",
       "Freebase_actor_ID                                                           /m/0dvmd\n",
       "Name: 246887, dtype: object"
      ]
     },
     "execution_count": 43,
     "metadata": {},
     "output_type": "execute_result"
    }
   ],
   "source": [
    "ds.iloc[246887]"
   ]
  },
  {
   "cell_type": "code",
   "execution_count": 44,
   "id": "d356f96e-ff1c-4219-85da-87cf581b2b0e",
   "metadata": {},
   "outputs": [],
   "source": [
    "nc_movies = pd.DataFrame([ds_filt['Movie_name'][ds_filt['Actor_name'] == 'Leonardo DiCaprio']]).T.reset_index(drop=True)"
   ]
  },
  {
   "cell_type": "code",
   "execution_count": 45,
   "id": "cc9eeede-420e-4832-abe2-6e01c11ab2a3",
   "metadata": {},
   "outputs": [
    {
     "data": {
      "text/html": [
       "<div>\n",
       "<style scoped>\n",
       "    .dataframe tbody tr th:only-of-type {\n",
       "        vertical-align: middle;\n",
       "    }\n",
       "\n",
       "    .dataframe tbody tr th {\n",
       "        vertical-align: top;\n",
       "    }\n",
       "\n",
       "    .dataframe thead th {\n",
       "        text-align: right;\n",
       "    }\n",
       "</style>\n",
       "<table border=\"1\" class=\"dataframe\">\n",
       "  <thead>\n",
       "    <tr style=\"text-align: right;\">\n",
       "      <th></th>\n",
       "      <th>Movie_name</th>\n",
       "    </tr>\n",
       "  </thead>\n",
       "  <tbody>\n",
       "    <tr>\n",
       "      <th>0</th>\n",
       "      <td>What's Eating Gilbert Grape</td>\n",
       "    </tr>\n",
       "    <tr>\n",
       "      <th>1</th>\n",
       "      <td>This Boy's Life</td>\n",
       "    </tr>\n",
       "    <tr>\n",
       "      <th>2</th>\n",
       "      <td>The Quick and the Dead</td>\n",
       "    </tr>\n",
       "    <tr>\n",
       "      <th>3</th>\n",
       "      <td>Total Eclipse</td>\n",
       "    </tr>\n",
       "    <tr>\n",
       "      <th>4</th>\n",
       "      <td>The Basketball Diaries</td>\n",
       "    </tr>\n",
       "    <tr>\n",
       "      <th>5</th>\n",
       "      <td>Romeo + Juliet</td>\n",
       "    </tr>\n",
       "    <tr>\n",
       "      <th>6</th>\n",
       "      <td>Marvin's Room</td>\n",
       "    </tr>\n",
       "    <tr>\n",
       "      <th>7</th>\n",
       "      <td>Titanic</td>\n",
       "    </tr>\n",
       "    <tr>\n",
       "      <th>8</th>\n",
       "      <td>The Man in the Iron Mask</td>\n",
       "    </tr>\n",
       "    <tr>\n",
       "      <th>9</th>\n",
       "      <td>The Man in the Iron Mask</td>\n",
       "    </tr>\n",
       "    <tr>\n",
       "      <th>10</th>\n",
       "      <td>Celebrity</td>\n",
       "    </tr>\n",
       "    <tr>\n",
       "      <th>11</th>\n",
       "      <td>Catch Me If You Can</td>\n",
       "    </tr>\n",
       "    <tr>\n",
       "      <th>12</th>\n",
       "      <td>Gangs of New York</td>\n",
       "    </tr>\n",
       "    <tr>\n",
       "      <th>13</th>\n",
       "      <td>The Aviator</td>\n",
       "    </tr>\n",
       "    <tr>\n",
       "      <th>14</th>\n",
       "      <td>Blood Diamond</td>\n",
       "    </tr>\n",
       "    <tr>\n",
       "      <th>15</th>\n",
       "      <td>The Departed</td>\n",
       "    </tr>\n",
       "    <tr>\n",
       "      <th>16</th>\n",
       "      <td>Revolutionary Road</td>\n",
       "    </tr>\n",
       "    <tr>\n",
       "      <th>17</th>\n",
       "      <td>Body of Lies</td>\n",
       "    </tr>\n",
       "    <tr>\n",
       "      <th>18</th>\n",
       "      <td>G-Force</td>\n",
       "    </tr>\n",
       "    <tr>\n",
       "      <th>19</th>\n",
       "      <td>Inception</td>\n",
       "    </tr>\n",
       "    <tr>\n",
       "      <th>20</th>\n",
       "      <td>Shutter Island</td>\n",
       "    </tr>\n",
       "    <tr>\n",
       "      <th>21</th>\n",
       "      <td>J. Edgar</td>\n",
       "    </tr>\n",
       "  </tbody>\n",
       "</table>\n",
       "</div>"
      ],
      "text/plain": [
       "                     Movie_name\n",
       "0   What's Eating Gilbert Grape\n",
       "1               This Boy's Life\n",
       "2        The Quick and the Dead\n",
       "3                 Total Eclipse\n",
       "4        The Basketball Diaries\n",
       "5                Romeo + Juliet\n",
       "6                 Marvin's Room\n",
       "7                       Titanic\n",
       "8      The Man in the Iron Mask\n",
       "9      The Man in the Iron Mask\n",
       "10                    Celebrity\n",
       "11          Catch Me If You Can\n",
       "12            Gangs of New York\n",
       "13                  The Aviator\n",
       "14                Blood Diamond\n",
       "15                 The Departed\n",
       "16           Revolutionary Road\n",
       "17                 Body of Lies\n",
       "18                      G-Force\n",
       "19                    Inception\n",
       "20               Shutter Island\n",
       "21                     J. Edgar"
      ]
     },
     "execution_count": 45,
     "metadata": {},
     "output_type": "execute_result"
    }
   ],
   "source": [
    "nc_movies"
   ]
  },
  {
   "cell_type": "code",
   "execution_count": 46,
   "id": "96c4881e-f174-4f89-be07-d90b4156508c",
   "metadata": {},
   "outputs": [
    {
     "ename": "SyntaxError",
     "evalue": "invalid syntax (64241946.py, line 1)",
     "output_type": "error",
     "traceback": [
      "\u001b[1;36m  Input \u001b[1;32mIn [46]\u001b[1;36m\u001b[0m\n\u001b[1;33m    df_filt[df_filt['Movie_name'] == i for i in nc_movies[1,:]]\u001b[0m\n\u001b[1;37m                                       ^\u001b[0m\n\u001b[1;31mSyntaxError\u001b[0m\u001b[1;31m:\u001b[0m invalid syntax\n"
     ]
    }
   ],
   "source": [
    "df_filt[df_filt['Movie_name'] == i for i in nc_movies[1,:]]"
   ]
  },
  {
   "cell_type": "code",
   "execution_count": null,
   "id": "6d82449a-f364-4e47-ace0-df4799b12ee6",
   "metadata": {},
   "outputs": [],
   "source": [
    "n.groupby('date_transformed').apply(lambda x: pd.Series({'ctr1': x['ctr1'].values })) "
   ]
  },
  {
   "cell_type": "code",
   "execution_count": null,
   "id": "655178b5-0569-4827-8edb-64fa747e0b79",
   "metadata": {},
   "outputs": [],
   "source": [
    "for i in nc_movies:\n",
    "    np.concatenate(ds_filt.groupby('Movie_name').get_group(i)['Actor_name'])"
   ]
  },
  {
   "cell_type": "code",
   "execution_count": null,
   "id": "f41abbb4-bd35-4bb0-9e58-a10a1f3f4a83",
   "metadata": {},
   "outputs": [],
   "source": [
    "ds_filt.groupby('Movie_name').filter(lambda g: g['Actor_name'] == 'Leonardo Di Caprio')"
   ]
  },
  {
   "cell_type": "code",
   "execution_count": null,
   "id": "1ba38d28-1d70-4a4d-800a-6dab4b98f4cd",
   "metadata": {},
   "outputs": [],
   "source": [
    "ds_filt"
   ]
  },
  {
   "cell_type": "code",
   "execution_count": null,
   "id": "294a33f9-c6b8-4da1-a8ba-c0b6800db962",
   "metadata": {},
   "outputs": [],
   "source": []
  },
  {
   "cell_type": "code",
   "execution_count": null,
   "id": "b07f4555-16c6-41e8-8298-863d35422c85",
   "metadata": {},
   "outputs": [],
   "source": []
  },
  {
   "cell_type": "code",
   "execution_count": null,
   "id": "9810965f-02e1-45da-b236-bc598e351848",
   "metadata": {},
   "outputs": [],
   "source": []
  },
  {
   "cell_type": "code",
   "execution_count": null,
   "id": "50b196d1-cf86-451c-81da-bd63c186ec67",
   "metadata": {},
   "outputs": [],
   "source": []
  },
  {
   "cell_type": "code",
   "execution_count": null,
   "id": "0af17722-70a6-4b91-b9a9-18839705f600",
   "metadata": {},
   "outputs": [],
   "source": []
  },
  {
   "cell_type": "code",
   "execution_count": null,
   "id": "11f22a9e-7a0e-4c37-adb2-738e6103d86d",
   "metadata": {},
   "outputs": [],
   "source": []
  },
  {
   "cell_type": "code",
   "execution_count": null,
   "id": "72eaeb8a-c317-4160-a756-b0e75bf611d8",
   "metadata": {},
   "outputs": [],
   "source": []
  },
  {
   "cell_type": "code",
   "execution_count": null,
   "id": "154d62a3-8d04-4a31-af4f-a91ef756d4b2",
   "metadata": {},
   "outputs": [],
   "source": []
  },
  {
   "cell_type": "code",
   "execution_count": null,
   "id": "6745813b-403c-4a06-9448-eb322ab04dc8",
   "metadata": {},
   "outputs": [],
   "source": []
  },
  {
   "cell_type": "code",
   "execution_count": null,
   "id": "9962a0b7-1d19-4161-8af9-24b42701cde8",
   "metadata": {},
   "outputs": [],
   "source": [
    "dt = pd.DataFrame(ds.groupby('Movie_name')['Actor_name'].count())"
   ]
  },
  {
   "cell_type": "code",
   "execution_count": null,
   "id": "52f0d18b-ae35-4ecb-a5fe-8b5408c2f6cf",
   "metadata": {},
   "outputs": [],
   "source": [
    "dt.head(50)"
   ]
  },
  {
   "cell_type": "code",
   "execution_count": null,
   "id": "f209cbbf-7771-4f76-9d31-07a15465f13b",
   "metadata": {},
   "outputs": [],
   "source": []
  }
 ],
 "metadata": {
  "kernelspec": {
   "display_name": "Python 3.10.4 ('preprocessing')",
   "language": "python",
   "name": "python3"
  },
  "language_info": {
   "codemirror_mode": {
    "name": "ipython",
    "version": 3
   },
   "file_extension": ".py",
   "mimetype": "text/x-python",
   "name": "python",
   "nbconvert_exporter": "python",
   "pygments_lexer": "ipython3",
<<<<<<< HEAD:src/Project2.ipynb
   "version": "3.8.13"
=======
<<<<<<< HEAD:src/Data_Exploration.ipynb
   "version": "3.10.4"
=======
   "version": "3.10.6"
>>>>>>> b7178ead26833d9b84839eb156e916542bf4abb2:src/Project2.ipynb
>>>>>>> 24f8716720679983501d02834b99354440a76369:src/Data_Exploration.ipynb
  },
  "vscode": {
   "interpreter": {
    "hash": "a68e92f65f68169dc5f369cba83c8ddd919e7e9c17bd6e8fa314ba31a4920aed"
   }
  }
 },
 "nbformat": 4,
 "nbformat_minor": 5
}
