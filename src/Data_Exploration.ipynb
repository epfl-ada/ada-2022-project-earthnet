{
 "cells": [
  {
   "cell_type": "code",
   "execution_count": 1,
   "id": "19090070-5197-49ff-8f03-8614ac2b8d20",
   "metadata": {},
   "outputs": [],
   "source": [
    "#imports\n",
    "import pandas as pd\n",
    "import numpy as np\n",
    "import matplotlib.pyplot as plt\n",
    "%matplotlib inline\n",
    "import seaborn as sns\n",
    "import tarfile\n",
    "import math\n",
    "from scipy import stats\n",
    "import statsmodels.formula.api as smf"
   ]
  },
  {
   "cell_type": "code",
   "execution_count": 2,
   "id": "a4c76619-b89a-4c9a-9080-5512916eb498",
   "metadata": {},
   "outputs": [],
   "source": [
    "movie = pd.read_csv('../data/MovieSummaries/movie.metadata.tsv', \n",
    "                 sep='\\t',\n",
    "                 names=['Wikipedia_movie_ID',\n",
    "                        'Freebase_movie_ID',\n",
    "                        'Movie_name',\n",
    "                        'Movie_release_date',\n",
    "                        'Movie_box_office_revenue',\n",
    "                        'Movie_runtime',\n",
    "                        'Movie_languages',\n",
    "                        'Movie_countries',\n",
    "                        'Movie_genres'],\n",
    "                 header=None)"
   ]
  },
  {
   "cell_type": "code",
   "execution_count": 3,
   "id": "c3050431-37cc-4f29-879a-d1eaed881804",
   "metadata": {},
   "outputs": [],
   "source": [
    "character = pd.read_csv('../data/MovieSummaries/'+'character.metadata.tsv', \n",
    "                 sep='\\t',\n",
    "                 names=['Wikipedia_movie_ID',\n",
    "                        'Freebase_movie_ID',\n",
    "                        'Movie_release_date',\n",
    "                        'Character_name',\n",
    "                        'Actor_date_of_birth',\n",
    "                        'Actor_gender',\n",
    "                        'Actor_height',\n",
    "                        'Actor_ethnicity',\n",
    "                        'Actor_name',\n",
    "                        'Actor_age_at_movie_release',\n",
    "                        'Freebase_character/actor_map_ID',\n",
    "                        'Freebase_character_ID',\n",
    "                        'Freebase_actor_ID'],\n",
    "                 header=None)"
   ]
  },
  {
   "cell_type": "code",
   "execution_count": 4,
   "id": "60f351d2-eac1-4c94-a1a2-72cebb0ec19b",
   "metadata": {},
   "outputs": [
    {
     "data": {
      "text/html": [
       "<div>\n",
       "<style scoped>\n",
       "    .dataframe tbody tr th:only-of-type {\n",
       "        vertical-align: middle;\n",
       "    }\n",
       "\n",
       "    .dataframe tbody tr th {\n",
       "        vertical-align: top;\n",
       "    }\n",
       "\n",
       "    .dataframe thead th {\n",
       "        text-align: right;\n",
       "    }\n",
       "</style>\n",
       "<table border=\"1\" class=\"dataframe\">\n",
       "  <thead>\n",
       "    <tr style=\"text-align: right;\">\n",
       "      <th></th>\n",
       "      <th>Wikipedia_movie_ID</th>\n",
       "      <th>Freebase_movie_ID</th>\n",
       "      <th>Movie_name</th>\n",
       "      <th>Movie_release_date</th>\n",
       "      <th>Movie_box_office_revenue</th>\n",
       "      <th>Movie_runtime</th>\n",
       "      <th>Movie_languages</th>\n",
       "      <th>Movie_countries</th>\n",
       "      <th>Movie_genres</th>\n",
       "    </tr>\n",
       "  </thead>\n",
       "  <tbody>\n",
       "    <tr>\n",
       "      <th>0</th>\n",
       "      <td>975900</td>\n",
       "      <td>/m/03vyhn</td>\n",
       "      <td>Ghosts of Mars</td>\n",
       "      <td>2001-08-24</td>\n",
       "      <td>14010832.0</td>\n",
       "      <td>98.0</td>\n",
       "      <td>{\"/m/02h40lc\": \"English Language\"}</td>\n",
       "      <td>{\"/m/09c7w0\": \"United States of America\"}</td>\n",
       "      <td>{\"/m/01jfsb\": \"Thriller\", \"/m/06n90\": \"Science...</td>\n",
       "    </tr>\n",
       "    <tr>\n",
       "      <th>1</th>\n",
       "      <td>3196793</td>\n",
       "      <td>/m/08yl5d</td>\n",
       "      <td>Getting Away with Murder: The JonBenét Ramsey ...</td>\n",
       "      <td>2000-02-16</td>\n",
       "      <td>NaN</td>\n",
       "      <td>95.0</td>\n",
       "      <td>{\"/m/02h40lc\": \"English Language\"}</td>\n",
       "      <td>{\"/m/09c7w0\": \"United States of America\"}</td>\n",
       "      <td>{\"/m/02n4kr\": \"Mystery\", \"/m/03bxz7\": \"Biograp...</td>\n",
       "    </tr>\n",
       "    <tr>\n",
       "      <th>2</th>\n",
       "      <td>28463795</td>\n",
       "      <td>/m/0crgdbh</td>\n",
       "      <td>Brun bitter</td>\n",
       "      <td>1988</td>\n",
       "      <td>NaN</td>\n",
       "      <td>83.0</td>\n",
       "      <td>{\"/m/05f_3\": \"Norwegian Language\"}</td>\n",
       "      <td>{\"/m/05b4w\": \"Norway\"}</td>\n",
       "      <td>{\"/m/0lsxr\": \"Crime Fiction\", \"/m/07s9rl0\": \"D...</td>\n",
       "    </tr>\n",
       "  </tbody>\n",
       "</table>\n",
       "</div>"
      ],
      "text/plain": [
       "   Wikipedia_movie_ID Freebase_movie_ID  \\\n",
       "0              975900         /m/03vyhn   \n",
       "1             3196793         /m/08yl5d   \n",
       "2            28463795        /m/0crgdbh   \n",
       "\n",
       "                                          Movie_name Movie_release_date  \\\n",
       "0                                     Ghosts of Mars         2001-08-24   \n",
       "1  Getting Away with Murder: The JonBenét Ramsey ...         2000-02-16   \n",
       "2                                        Brun bitter               1988   \n",
       "\n",
       "   Movie_box_office_revenue  Movie_runtime  \\\n",
       "0                14010832.0           98.0   \n",
       "1                       NaN           95.0   \n",
       "2                       NaN           83.0   \n",
       "\n",
       "                      Movie_languages  \\\n",
       "0  {\"/m/02h40lc\": \"English Language\"}   \n",
       "1  {\"/m/02h40lc\": \"English Language\"}   \n",
       "2  {\"/m/05f_3\": \"Norwegian Language\"}   \n",
       "\n",
       "                             Movie_countries  \\\n",
       "0  {\"/m/09c7w0\": \"United States of America\"}   \n",
       "1  {\"/m/09c7w0\": \"United States of America\"}   \n",
       "2                     {\"/m/05b4w\": \"Norway\"}   \n",
       "\n",
       "                                        Movie_genres  \n",
       "0  {\"/m/01jfsb\": \"Thriller\", \"/m/06n90\": \"Science...  \n",
       "1  {\"/m/02n4kr\": \"Mystery\", \"/m/03bxz7\": \"Biograp...  \n",
       "2  {\"/m/0lsxr\": \"Crime Fiction\", \"/m/07s9rl0\": \"D...  "
      ]
     },
     "execution_count": 4,
     "metadata": {},
     "output_type": "execute_result"
    }
   ],
   "source": [
    "movie.head(3)"
   ]
  },
  {
   "cell_type": "code",
   "execution_count": 5,
   "id": "32230aa7-26cc-41a2-a159-174aef4bed1a",
   "metadata": {},
   "outputs": [
    {
     "data": {
      "text/html": [
       "<div>\n",
       "<style scoped>\n",
       "    .dataframe tbody tr th:only-of-type {\n",
       "        vertical-align: middle;\n",
       "    }\n",
       "\n",
       "    .dataframe tbody tr th {\n",
       "        vertical-align: top;\n",
       "    }\n",
       "\n",
       "    .dataframe thead th {\n",
       "        text-align: right;\n",
       "    }\n",
       "</style>\n",
       "<table border=\"1\" class=\"dataframe\">\n",
       "  <thead>\n",
       "    <tr style=\"text-align: right;\">\n",
       "      <th></th>\n",
       "      <th>Wikipedia_movie_ID</th>\n",
       "      <th>Freebase_movie_ID</th>\n",
       "      <th>Movie_release_date</th>\n",
       "      <th>Character_name</th>\n",
       "      <th>Actor_date_of_birth</th>\n",
       "      <th>Actor_gender</th>\n",
       "      <th>Actor_height</th>\n",
       "      <th>Actor_ethnicity</th>\n",
       "      <th>Actor_name</th>\n",
       "      <th>Actor_age_at_movie_release</th>\n",
       "      <th>Freebase_character/actor_map_ID</th>\n",
       "      <th>Freebase_character_ID</th>\n",
       "      <th>Freebase_actor_ID</th>\n",
       "    </tr>\n",
       "  </thead>\n",
       "  <tbody>\n",
       "    <tr>\n",
       "      <th>0</th>\n",
       "      <td>975900</td>\n",
       "      <td>/m/03vyhn</td>\n",
       "      <td>2001-08-24</td>\n",
       "      <td>Akooshay</td>\n",
       "      <td>1958-08-26</td>\n",
       "      <td>F</td>\n",
       "      <td>1.620</td>\n",
       "      <td>NaN</td>\n",
       "      <td>Wanda De Jesus</td>\n",
       "      <td>42.0</td>\n",
       "      <td>/m/0bgchxw</td>\n",
       "      <td>/m/0bgcj3x</td>\n",
       "      <td>/m/03wcfv7</td>\n",
       "    </tr>\n",
       "    <tr>\n",
       "      <th>1</th>\n",
       "      <td>975900</td>\n",
       "      <td>/m/03vyhn</td>\n",
       "      <td>2001-08-24</td>\n",
       "      <td>Lieutenant Melanie Ballard</td>\n",
       "      <td>1974-08-15</td>\n",
       "      <td>F</td>\n",
       "      <td>1.780</td>\n",
       "      <td>/m/044038p</td>\n",
       "      <td>Natasha Henstridge</td>\n",
       "      <td>27.0</td>\n",
       "      <td>/m/0jys3m</td>\n",
       "      <td>/m/0bgchn4</td>\n",
       "      <td>/m/0346l4</td>\n",
       "    </tr>\n",
       "    <tr>\n",
       "      <th>2</th>\n",
       "      <td>975900</td>\n",
       "      <td>/m/03vyhn</td>\n",
       "      <td>2001-08-24</td>\n",
       "      <td>Desolation Williams</td>\n",
       "      <td>1969-06-15</td>\n",
       "      <td>M</td>\n",
       "      <td>1.727</td>\n",
       "      <td>/m/0x67</td>\n",
       "      <td>Ice Cube</td>\n",
       "      <td>32.0</td>\n",
       "      <td>/m/0jys3g</td>\n",
       "      <td>/m/0bgchn_</td>\n",
       "      <td>/m/01vw26l</td>\n",
       "    </tr>\n",
       "  </tbody>\n",
       "</table>\n",
       "</div>"
      ],
      "text/plain": [
       "   Wikipedia_movie_ID Freebase_movie_ID Movie_release_date  \\\n",
       "0              975900         /m/03vyhn         2001-08-24   \n",
       "1              975900         /m/03vyhn         2001-08-24   \n",
       "2              975900         /m/03vyhn         2001-08-24   \n",
       "\n",
       "               Character_name Actor_date_of_birth Actor_gender  Actor_height  \\\n",
       "0                    Akooshay          1958-08-26            F         1.620   \n",
       "1  Lieutenant Melanie Ballard          1974-08-15            F         1.780   \n",
       "2         Desolation Williams          1969-06-15            M         1.727   \n",
       "\n",
       "  Actor_ethnicity          Actor_name  Actor_age_at_movie_release  \\\n",
       "0             NaN      Wanda De Jesus                        42.0   \n",
       "1      /m/044038p  Natasha Henstridge                        27.0   \n",
       "2         /m/0x67            Ice Cube                        32.0   \n",
       "\n",
       "  Freebase_character/actor_map_ID Freebase_character_ID Freebase_actor_ID  \n",
       "0                      /m/0bgchxw            /m/0bgcj3x        /m/03wcfv7  \n",
       "1                       /m/0jys3m            /m/0bgchn4         /m/0346l4  \n",
       "2                       /m/0jys3g            /m/0bgchn_        /m/01vw26l  "
      ]
     },
     "execution_count": 5,
     "metadata": {},
     "output_type": "execute_result"
    }
   ],
   "source": [
    "character.head(3)"
   ]
  },
  {
   "cell_type": "markdown",
   "id": "f4bebba0-70c9-420e-bd72-7ae65773b9e6",
   "metadata": {},
   "source": [
    "# Data cleaning"
   ]
  },
  {
   "cell_type": "code",
   "execution_count": 6,
   "id": "84d77ed8-58ef-4717-aaf8-fa425639df40",
   "metadata": {},
   "outputs": [],
   "source": [
    "#move release dates and actor birth dates to datetime format and keep only release year\n",
    "character.Movie_release_date = pd.to_datetime(character['Movie_release_date'],\n",
    "                                              errors='coerce').dt.year\n",
    "\n",
    "movie.Movie_release_date = pd.to_datetime(movie['Movie_release_date'],\n",
    "                                              errors='coerce').dt.year"
   ]
  },
  {
   "cell_type": "code",
   "execution_count": 7,
   "id": "e1a7bd7d-6e7a-4229-b84d-efdb2c24fcfe",
   "metadata": {},
   "outputs": [],
   "source": [
    "#sort dataframes by ascending release year\n",
    "character.sort_values(by=['Movie_release_date'], ascending=True, inplace=True)\n",
    "\n",
    "movie.sort_values(by=['Movie_release_date'], ascending=True, inplace=True)"
   ]
  },
  {
   "cell_type": "code",
   "execution_count": 8,
   "id": "b51a7b43-f6ac-4641-9213-7325b3149267",
   "metadata": {},
   "outputs": [],
   "source": [
    "#merge dataframes\n",
    "ds = pd.merge(movie,character)"
   ]
  },
  {
   "cell_type": "code",
   "execution_count": 9,
   "id": "2e4e0398-423a-4f68-9e7c-02402724a201",
   "metadata": {},
   "outputs": [],
   "source": [
    "#find movies without box office and filter them out\n",
    "bad_ids = ds.loc[ds['Movie_box_office_revenue'].isnull()].index\n",
    "ds_filt = ds.drop(bad_ids)"
   ]
  },
  {
   "cell_type": "code",
   "execution_count": 10,
   "id": "9220c741-6942-4e3a-86cc-302e8710d320",
   "metadata": {},
   "outputs": [
    {
     "data": {
      "text/plain": [
       "101028"
      ]
     },
     "execution_count": 10,
     "metadata": {},
     "output_type": "execute_result"
    }
   ],
   "source": [
    "len(ds_filt)"
   ]
  },
  {
   "cell_type": "markdown",
   "id": "3ba4140a-73fd-485c-bc73-b4d50e9dbd45",
   "metadata": {},
   "source": [
    "## Preliminary results on the impact of one actor"
   ]
  },
  {
   "cell_type": "code",
   "execution_count": 174,
   "id": "f9e37e50-61fd-4b46-8e54-6db02add285c",
   "metadata": {},
   "outputs": [],
   "source": [
    "#slice the character dataframe to get only Leonardo Di Caprio movies\n",
    "nc = pd.DataFrame(ds_filt.query(\"Actor_name == 'Leonardo DiCaprio'\")).reset_index(drop=True)\n",
    "nc.drop_duplicates(subset=['Movie_name'], inplace=True) #drop duplicates to account for the possibility that an actor \n",
    "                                                        #has multiple roles in the same movie\n",
    "nc.reset_index(drop=True, inplace=True)"
   ]
  },
  {
   "cell_type": "code",
   "execution_count": 175,
   "id": "f992ae4d-7f80-4220-88f0-ea7c63d946a2",
   "metadata": {},
   "outputs": [
    {
     "name": "stdout",
     "output_type": "stream",
     "text": [
      "Leonardo Di Caprio starred in 21 movies\n"
     ]
    }
   ],
   "source": [
    "#number of movies Leonardo Di Caprio starred in\n",
    "print('Leonardo Di Caprio starred in ' + str(len(nc)) + ' movies')"
   ]
  },
  {
   "cell_type": "code",
   "execution_count": 176,
   "id": "2026d915-d91c-444e-82ef-a3530c77f49b",
   "metadata": {},
   "outputs": [
    {
     "data": {
      "text/html": [
       "<div>\n",
       "<style scoped>\n",
       "    .dataframe tbody tr th:only-of-type {\n",
       "        vertical-align: middle;\n",
       "    }\n",
       "\n",
       "    .dataframe tbody tr th {\n",
       "        vertical-align: top;\n",
       "    }\n",
       "\n",
       "    .dataframe thead th {\n",
       "        text-align: right;\n",
       "    }\n",
       "</style>\n",
       "<table border=\"1\" class=\"dataframe\">\n",
       "  <thead>\n",
       "    <tr style=\"text-align: right;\">\n",
       "      <th></th>\n",
       "      <th>Wikipedia_movie_ID</th>\n",
       "      <th>Freebase_movie_ID</th>\n",
       "      <th>Movie_name</th>\n",
       "      <th>Movie_release_date</th>\n",
       "      <th>Movie_box_office_revenue</th>\n",
       "      <th>Movie_runtime</th>\n",
       "      <th>Movie_languages</th>\n",
       "      <th>Movie_countries</th>\n",
       "      <th>Movie_genres</th>\n",
       "      <th>Character_name</th>\n",
       "      <th>Actor_date_of_birth</th>\n",
       "      <th>Actor_gender</th>\n",
       "      <th>Actor_height</th>\n",
       "      <th>Actor_ethnicity</th>\n",
       "      <th>Actor_name</th>\n",
       "      <th>Actor_age_at_movie_release</th>\n",
       "      <th>Freebase_character/actor_map_ID</th>\n",
       "      <th>Freebase_character_ID</th>\n",
       "      <th>Freebase_actor_ID</th>\n",
       "    </tr>\n",
       "  </thead>\n",
       "  <tbody>\n",
       "    <tr>\n",
       "      <th>0</th>\n",
       "      <td>656608</td>\n",
       "      <td>/m/0306c6</td>\n",
       "      <td>What's Eating Gilbert Grape</td>\n",
       "      <td>1993.0</td>\n",
       "      <td>10032765.0</td>\n",
       "      <td>117.0</td>\n",
       "      <td>{\"/m/02h40lc\": \"English Language\"}</td>\n",
       "      <td>{\"/m/09c7w0\": \"United States of America\"}</td>\n",
       "      <td>{\"/m/0219x_\": \"Indie\", \"/m/0clz1b\": \"Slice of ...</td>\n",
       "      <td>Arnie Grape</td>\n",
       "      <td>1974-11-11</td>\n",
       "      <td>M</td>\n",
       "      <td>1.83</td>\n",
       "      <td>/m/09kr66</td>\n",
       "      <td>Leonardo DiCaprio</td>\n",
       "      <td>NaN</td>\n",
       "      <td>/m/0k7_65</td>\n",
       "      <td>/m/02nwr_8</td>\n",
       "      <td>/m/0dvmd</td>\n",
       "    </tr>\n",
       "    <tr>\n",
       "      <th>1</th>\n",
       "      <td>6417754</td>\n",
       "      <td>/m/0g4lfl</td>\n",
       "      <td>This Boy's Life</td>\n",
       "      <td>1993.0</td>\n",
       "      <td>4104962.0</td>\n",
       "      <td>114.0</td>\n",
       "      <td>{\"/m/02h40lc\": \"English Language\"}</td>\n",
       "      <td>{\"/m/09c7w0\": \"United States of America\"}</td>\n",
       "      <td>{\"/m/02h8pkk\": \"Family Drama\", \"/m/04xvlr\": \"P...</td>\n",
       "      <td>Tobias \"Toby\" Wolff</td>\n",
       "      <td>1974-11-11</td>\n",
       "      <td>M</td>\n",
       "      <td>1.83</td>\n",
       "      <td>/m/09kr66</td>\n",
       "      <td>Leonardo DiCaprio</td>\n",
       "      <td>18.0</td>\n",
       "      <td>/m/0k71hy</td>\n",
       "      <td>/m/04gdr_7</td>\n",
       "      <td>/m/0dvmd</td>\n",
       "    </tr>\n",
       "    <tr>\n",
       "      <th>2</th>\n",
       "      <td>740824</td>\n",
       "      <td>/m/037c_d</td>\n",
       "      <td>The Quick and the Dead</td>\n",
       "      <td>1995.0</td>\n",
       "      <td>18636537.0</td>\n",
       "      <td>105.0</td>\n",
       "      <td>{\"/m/02h40lc\": \"English Language\"}</td>\n",
       "      <td>{\"/m/09c7w0\": \"United States of America\", \"/m/...</td>\n",
       "      <td>{\"/m/01jfsb\": \"Thriller\", \"/m/0gw5n2f\": \"Japan...</td>\n",
       "      <td>Fee \"The Kid\" Herod</td>\n",
       "      <td>1974-11-11</td>\n",
       "      <td>M</td>\n",
       "      <td>1.83</td>\n",
       "      <td>/m/09kr66</td>\n",
       "      <td>Leonardo DiCaprio</td>\n",
       "      <td>20.0</td>\n",
       "      <td>/m/02vby_g</td>\n",
       "      <td>/m/04gdr_y</td>\n",
       "      <td>/m/0dvmd</td>\n",
       "    </tr>\n",
       "  </tbody>\n",
       "</table>\n",
       "</div>"
      ],
      "text/plain": [
       "   Wikipedia_movie_ID Freebase_movie_ID                   Movie_name  \\\n",
       "0              656608         /m/0306c6  What's Eating Gilbert Grape   \n",
       "1             6417754         /m/0g4lfl              This Boy's Life   \n",
       "2              740824         /m/037c_d       The Quick and the Dead   \n",
       "\n",
       "   Movie_release_date  Movie_box_office_revenue  Movie_runtime  \\\n",
       "0              1993.0                10032765.0          117.0   \n",
       "1              1993.0                 4104962.0          114.0   \n",
       "2              1995.0                18636537.0          105.0   \n",
       "\n",
       "                      Movie_languages  \\\n",
       "0  {\"/m/02h40lc\": \"English Language\"}   \n",
       "1  {\"/m/02h40lc\": \"English Language\"}   \n",
       "2  {\"/m/02h40lc\": \"English Language\"}   \n",
       "\n",
       "                                     Movie_countries  \\\n",
       "0          {\"/m/09c7w0\": \"United States of America\"}   \n",
       "1          {\"/m/09c7w0\": \"United States of America\"}   \n",
       "2  {\"/m/09c7w0\": \"United States of America\", \"/m/...   \n",
       "\n",
       "                                        Movie_genres       Character_name  \\\n",
       "0  {\"/m/0219x_\": \"Indie\", \"/m/0clz1b\": \"Slice of ...          Arnie Grape   \n",
       "1  {\"/m/02h8pkk\": \"Family Drama\", \"/m/04xvlr\": \"P...  Tobias \"Toby\" Wolff   \n",
       "2  {\"/m/01jfsb\": \"Thriller\", \"/m/0gw5n2f\": \"Japan...  Fee \"The Kid\" Herod   \n",
       "\n",
       "  Actor_date_of_birth Actor_gender  Actor_height Actor_ethnicity  \\\n",
       "0          1974-11-11            M          1.83       /m/09kr66   \n",
       "1          1974-11-11            M          1.83       /m/09kr66   \n",
       "2          1974-11-11            M          1.83       /m/09kr66   \n",
       "\n",
       "          Actor_name  Actor_age_at_movie_release  \\\n",
       "0  Leonardo DiCaprio                         NaN   \n",
       "1  Leonardo DiCaprio                        18.0   \n",
       "2  Leonardo DiCaprio                        20.0   \n",
       "\n",
       "  Freebase_character/actor_map_ID Freebase_character_ID Freebase_actor_ID  \n",
       "0                       /m/0k7_65            /m/02nwr_8          /m/0dvmd  \n",
       "1                       /m/0k71hy            /m/04gdr_7          /m/0dvmd  \n",
       "2                      /m/02vby_g            /m/04gdr_y          /m/0dvmd  "
      ]
     },
     "execution_count": 176,
     "metadata": {},
     "output_type": "execute_result"
    }
   ],
   "source": [
    "nc.head(3)"
   ]
  },
  {
   "cell_type": "markdown",
   "id": "772ff3d6-be45-476c-99eb-552287a8df47",
   "metadata": {},
   "source": [
    "As a preliminary analysis, we plot the distribution of box office revenues for Leonardo Di Caprio movies to see the type of distribution. From the histogram below, we observe that most of the movies have a low box office revenue (skewed distribution); the goal is to verify if there is a correlation between the 'experience' of the actor (number of times he has starred in the movie) and the revenue. "
   ]
  },
  {
   "cell_type": "markdown",
   "id": "1fa5b02a-eaf1-4b12-ad71-6cd25ba4caf1",
   "metadata": {},
   "source": [
    "From the box plot below it is possible to distinguish the median and the quartiles of the distribution. A couple of outliers make it difficult to visualize the distribution properly. To correctly read the data, we proceed to remove them."
   ]
  },
  {
   "cell_type": "code",
   "execution_count": 177,
   "id": "8dd0c3a5-f71f-45ca-b293-77d3bf9638a8",
   "metadata": {},
   "outputs": [
    {
     "data": {
      "image/png": "[encoded data removed]",
      "text/plain": [
       "<Figure size 800x300 with 2 Axes>"
      ]
     },
     "metadata": {},
     "output_type": "display_data"
    }
   ],
   "source": [
    "#plot distribution\n",
    "fig, ax = plt.subplots(1,2, figsize=(8,3), sharey = True)\n",
    "\n",
    "sbplt = ax[0]\n",
    "sbplt.hist(nc.Movie_box_office_revenue, bins=15, orientation='horizontal')\n",
    "sbplt.set_title('Histogram')\n",
    "\n",
    "sbplt = ax[1]\n",
    "sbplt.boxplot(nc.Movie_box_office_revenue)\n",
    "sbplt.set_title('Box plot')\n",
    "    \n",
    "fig.tight_layout()\n",
    "fig.text(0,0.3, \"Box office revenue [$]\", rotation = 90)\n",
    "plt.show()"
   ]
  },
  {
   "cell_type": "code",
   "execution_count": 178,
   "id": "1dbcf1d5-0774-4291-a116-7a7387ecb492",
   "metadata": {},
   "outputs": [
    {
     "name": "stdout",
     "output_type": "stream",
     "text": [
      "The new number of movies considered is 19\n"
     ]
    }
   ],
   "source": [
    "#remove outliers\n",
    "nc.query('Movie_box_office_revenue < 0.5e9', inplace=True)\n",
    "nc.reset_index(inplace=True, drop=True)\n",
    "print('The new number of movies considered is ' + str(len(nc)))"
   ]
  },
  {
   "cell_type": "markdown",
   "id": "3ece1318-aa99-431b-a99f-12473af3b176",
   "metadata": {},
   "source": [
    "In this case, the distribution is way more readable. Most of the movies are in the low box office part."
   ]
  },
  {
   "cell_type": "code",
   "execution_count": 180,
   "id": "4760fceb-0806-4d2c-a09b-b29499200019",
   "metadata": {},
   "outputs": [
    {
     "name": "stdout",
     "output_type": "stream",
     "text": [
      "The median is 115.097286 M$\n",
      "The first quartile is 14.334651 M$\n",
      "The third quartile is 203.7569815 M$\n"
     ]
    }
   ],
   "source": [
    "#some stats\n",
    "print('The median is ' + str(np.median(nc.Movie_box_office_revenue)/1e6) + ' M$')\n",
    "print('The first quartile is ' + str(np.quantile(nc.Movie_box_office_revenue,0.25)/1e6) + ' M$')\n",
    "print('The third quartile is ' + str(np.quantile(nc.Movie_box_office_revenue,0.75)/1e6) + ' M$')"
   ]
  },
  {
   "cell_type": "code",
   "execution_count": 181,
   "id": "bdaadfe5-a04c-4e08-ac6c-04e02c5248d3",
   "metadata": {},
   "outputs": [
    {
     "data": {
      "image/png": "[encoded data removed]",
      "text/plain": [
       "<Figure size 800x300 with 2 Axes>"
      ]
     },
     "metadata": {},
     "output_type": "display_data"
    }
   ],
   "source": [
    "#plot again without outliers\n",
    "fig, ax = plt.subplots(1,2, figsize=(8,3), sharey = True)\n",
    "\n",
    "sbplt = ax[0]\n",
    "sbplt.hist(nc.Movie_box_office_revenue, bins=10, orientation='horizontal')\n",
    "sbplt.set_title('Histogram')\n",
    "\n",
    "sbplt = ax[1]\n",
    "sbplt.boxplot(nc.Movie_box_office_revenue)\n",
    "sbplt.set_title('Box plot')\n",
    "    \n",
    "fig.tight_layout()\n",
    "fig.text(0,0.3, \"Box office revenue\", rotation = 90)\n",
    "plt.show()"
   ]
  },
  {
   "cell_type": "markdown",
   "id": "55c29fb0-cd07-4270-aab2-3da9e1b954b6",
   "metadata": {},
   "source": [
    "### Actor's experience"
   ]
  },
  {
   "cell_type": "markdown",
   "id": "6f0b822b-19ed-49e2-a2ca-fbbb21c6b039",
   "metadata": {},
   "source": [
    "We define the experience of the actor as the number of times he starred in a movie before, in relation to the dataset analyzed."
   ]
  },
  {
   "cell_type": "code",
   "execution_count": 182,
   "id": "88c5709a-b712-430d-91bb-637b2f8022da",
   "metadata": {},
   "outputs": [],
   "source": [
    "#define actor's experience\n",
    "exp = np.zeros(len(nc)) \n",
    "t = 1\n",
    "for i in range(len(nc)):\n",
    "    exp[i] = t\n",
    "    t += 1"
   ]
  },
  {
   "cell_type": "code",
   "execution_count": 183,
   "id": "5a773f92-d10b-4f6c-b59a-82768d0324f5",
   "metadata": {},
   "outputs": [],
   "source": [
    "#add experience column to dataframe\n",
    "nc['experience'] = exp"
   ]
  },
  {
   "cell_type": "markdown",
   "id": "acfcf7b5-63de-45af-bca0-60c777f25f96",
   "metadata": {},
   "source": [
    "We check for possible correlations between the experience and box office revenue"
   ]
  },
  {
   "cell_type": "code",
   "execution_count": 184,
   "id": "c0ab6aa2-e849-4610-91c4-1703f3f9373a",
   "metadata": {},
   "outputs": [
    {
     "data": {
      "text/plain": [
       "PearsonRResult(statistic=0.5972374854870633, pvalue=0.006933588067172275)"
      ]
     },
     "execution_count": 184,
     "metadata": {},
     "output_type": "execute_result"
    }
   ],
   "source": [
    "#pearson correlation\n",
    "stats.pearsonr(nc['experience'],nc['Movie_box_office_revenue'])"
   ]
  },
  {
   "cell_type": "code",
   "execution_count": 185,
   "id": "4ecc081f-8b00-447a-9dc9-327377dc40fe",
   "metadata": {},
   "outputs": [
    {
     "data": {
      "text/plain": [
       "SpearmanrResult(correlation=0.6421052631578947, pvalue=0.0030353655986325584)"
      ]
     },
     "execution_count": 185,
     "metadata": {},
     "output_type": "execute_result"
    }
   ],
   "source": [
    "#spearman correlation\n",
    "stats.spearmanr(nc['experience'],nc['Movie_box_office_revenue'])"
   ]
  },
  {
   "cell_type": "markdown",
   "id": "16d9b256-7a9f-4fbc-ac4e-21e3a4bd1060",
   "metadata": {},
   "source": [
    "Applying the Pearson and Spearman relation, we obtain a positive correlation of **0.60** and **0.64**, respectively. This seems to lead to a link between experience and box office revenue, even if we still haven't proved statistaical significance."
   ]
  },
  {
   "cell_type": "code",
   "execution_count": 282,
   "id": "b6202a24-fb1e-4c1c-9630-9ffee4f0e4ad",
   "metadata": {},
   "outputs": [
    {
     "data": {
      "image/png": "[encoded data removed]",
      "text/plain": [
       "<Figure size 500x500 with 1 Axes>"
      ]
     },
     "metadata": {},
     "output_type": "display_data"
    }
   ],
   "source": [
    "#plot linear correlation\n",
    "sns.lmplot(x='experience',y='Movie_box_office_revenue', data=nc)\n",
    "plt.ylabel('Movie box office revenue [$]')\n",
    "plt.xlabel('Actor experience')\n",
    "plt.show()"
   ]
  },
  {
   "cell_type": "markdown",
   "id": "2f0bf1e2-cfad-4839-b041-07b40ad6537d",
   "metadata": {},
   "source": [
    "## Regression analysis"
   ]
  },
  {
   "cell_type": "markdown",
   "id": "bf00d335-dcda-4ead-b397-0a094db7f30c",
   "metadata": {},
   "source": [
    "To understand a bit better the influence of the other parameters on the box office revenue, a model of the revenue based on multiple factors can be tested. The factors taken into consideration are:\n",
    "- Movie runtime;\n",
    "- Gender diversity in the cast;\n",
    "- Experience."
   ]
  },
  {
   "cell_type": "markdown",
   "id": "450b905a-a8a8-416e-b541-996bdca92e9e",
   "metadata": {},
   "source": [
    "Given that we already have the experience of the actor and movie runtime, we need to compute the male/female ratios for Leonardo DiCaprio movies."
   ]
  },
  {
   "cell_type": "code",
   "execution_count": 187,
   "id": "8529a556-3c90-4280-8237-ef9e806454f2",
   "metadata": {},
   "outputs": [],
   "source": [
    "#computation of actor/actress ratios\n",
    "gd = nc.query(\"Actor_name == 'Leonardo DiCaprio'\")['Movie_name'] #extract dataframe with Leonardo DiCaprio movies\n",
    "\n",
    "gd_i = ds_filt[ds_filt['Movie_name'].isin(gd)] #extract rows including these movies from the original dataframe"
   ]
  },
  {
   "cell_type": "code",
   "execution_count": 188,
   "id": "998ac381-ce5d-423a-aa75-beb16de74ea5",
   "metadata": {},
   "outputs": [],
   "source": [
    "#split dataframe into rows including actors and rows including actresses\n",
    "gd_f = gd_i[gd_i['Actor_gender'] == 'F'] #dataframe only including actresses\n",
    "gd_m = gd_i[gd_i['Actor_gender'] == 'M'] #dataframe only including actors"
   ]
  },
  {
   "cell_type": "code",
   "execution_count": 189,
   "id": "ac32716b-4283-43a1-8f0c-1ba22cc8f52c",
   "metadata": {},
   "outputs": [],
   "source": [
    "#group by the movie name and count the number of actors and actresses\n",
    "n_f = gd_f.groupby('Movie_name')['Movie_name'].count() #number of actresses\n",
    "n_m = gd_m.groupby('Movie_name')['Movie_name'].count() #number of actors"
   ]
  },
  {
   "cell_type": "code",
   "execution_count": 234,
   "id": "aa58d5c6-c331-425f-abbd-3c60c78d4bec",
   "metadata": {},
   "outputs": [],
   "source": [
    "#create dataframe with male/female ratios\n",
    "gender_ratios = pd.DataFrame(n_m.values/n_f.values)"
   ]
  },
  {
   "cell_type": "code",
   "execution_count": 238,
   "id": "75dfc1a0-884d-4936-894f-fe212336ef2f",
   "metadata": {},
   "outputs": [],
   "source": [
    "#add to dataframe\n",
    "nc['gender_ratios'] = gender_ratios"
   ]
  },
  {
   "cell_type": "markdown",
   "id": "4a2b018d-b13b-4644-afa7-bf062b933070",
   "metadata": {},
   "source": [
    "At this point, we can start the regression analysis."
   ]
  },
  {
   "cell_type": "code",
   "execution_count": 254,
   "id": "67898aa1-fd16-4b70-a1a5-59b2b781ee20",
   "metadata": {},
   "outputs": [],
   "source": [
    "#copy dataframe\n",
    "nc_reg = nc.copy()"
   ]
  },
  {
   "cell_type": "code",
   "execution_count": 255,
   "id": "1df458a5-dfa2-4289-94a5-c242b1296e02",
   "metadata": {},
   "outputs": [],
   "source": [
    "#logarithmic scaling of continuous variables\n",
    "nc_reg['Movie_box_office_revenue'] = np.log(nc_reg['Movie_box_office_revenue'])"
   ]
  },
  {
   "cell_type": "code",
   "execution_count": 256,
   "id": "6267c5b7-11c4-4cd1-8b4f-7ff7817558b7",
   "metadata": {},
   "outputs": [
    {
     "name": "stdout",
     "output_type": "stream",
     "text": [
      "                               OLS Regression Results                               \n",
      "====================================================================================\n",
      "Dep. Variable:     Movie_box_office_revenue   R-squared:                       0.563\n",
      "Model:                                  OLS   Adj. R-squared:                  0.476\n",
      "Method:                       Least Squares   F-statistic:                     6.447\n",
      "Date:                      Thu, 17 Nov 2022   Prob (F-statistic):            0.00509\n",
      "Time:                              21:36:09   Log-Likelihood:                -31.702\n",
      "No. Observations:                        19   AIC:                             71.40\n",
      "Df Residuals:                            15   BIC:                             75.18\n",
      "Df Model:                                 3                                         \n",
      "Covariance Type:                  nonrobust                                         \n",
      "=================================================================================\n",
      "                    coef    std err          t      P>|t|      [0.025      0.975]\n",
      "---------------------------------------------------------------------------------\n",
      "Intercept        17.7280      0.331     53.496      0.000      17.022      18.434\n",
      "Movie_runtime     0.6266      0.370      1.693      0.111      -0.162       1.415\n",
      "experience        1.0850      0.364      2.985      0.009       0.310       1.860\n",
      "gender_ratios     0.2769      0.348      0.796      0.438      -0.464       1.018\n",
      "==============================================================================\n",
      "Omnibus:                        0.930   Durbin-Watson:                   2.219\n",
      "Prob(Omnibus):                  0.628   Jarque-Bera (JB):                0.689\n",
      "Skew:                          -0.436   Prob(JB):                        0.709\n",
      "Kurtosis:                       2.670   Cond. No.                         1.52\n",
      "==============================================================================\n",
      "\n",
      "Notes:\n",
      "[1] Standard Errors assume that the covariance matrix of the errors is correctly specified.\n"
     ]
    },
    {
     "name": "stderr",
     "output_type": "stream",
     "text": [
      "C:\\Users\\gabri\\anaconda3\\envs\\ada\\lib\\site-packages\\scipy\\stats\\_stats_py.py:1772: UserWarning: kurtosistest only valid for n>=20 ... continuing anyway, n=19\n",
      "  warnings.warn(\"kurtosistest only valid for n>=20 ... continuing \"\n"
     ]
    }
   ],
   "source": [
    "mod = smf.ols(formula='Movie_box_office_revenue ~  Movie_runtime +  experience + gender_ratios', data=nc_reg)\n",
    "\n",
    "res = mod.fit()\n",
    "print(res.summary())"
   ]
  },
  {
   "cell_type": "markdown",
   "id": "8cbefe86-aa2a-4330-b78f-eca6683a13b8",
   "metadata": {},
   "source": [
    "From the results, it is possible to get interesting information. The R squared is **0.56**, meaning more than half of the variance is explained. The movie runtime (**C=0.63**), the gender_ratios (**C=0.28**) and the experience of the actor (**C=1.09**) positively influence the revenue, even if only the latter is statistically significant (**P < 5%**).\n",
    "A confounder that could naively lead us to overestimate the statistical significance of the actor's experience is inflation. Indeed, over the years the value of money changes; for a proper evaluation, an inflation correction has to be done."
   ]
  },
  {
   "cell_type": "code",
   "execution_count": 268,
   "id": "3336486f-101f-4f82-aea8-ec5e9f98e6cf",
   "metadata": {},
   "outputs": [],
   "source": [
    "#take inflation into account\n",
    "cf = pd.read_csv('../data/inflation_correction.csv')\n",
    "cf.reset_index(drop=True, inplace=True)"
   ]
  },
  {
   "cell_type": "code",
   "execution_count": 269,
   "id": "998a1ba2-b371-4c17-a387-4c7efeeeb825",
   "metadata": {},
   "outputs": [
    {
     "data": {
      "text/html": [
       "<div>\n",
       "<style scoped>\n",
       "    .dataframe tbody tr th:only-of-type {\n",
       "        vertical-align: middle;\n",
       "    }\n",
       "\n",
       "    .dataframe tbody tr th {\n",
       "        vertical-align: top;\n",
       "    }\n",
       "\n",
       "    .dataframe thead th {\n",
       "        text-align: right;\n",
       "    }\n",
       "</style>\n",
       "<table border=\"1\" class=\"dataframe\">\n",
       "  <thead>\n",
       "    <tr style=\"text-align: right;\">\n",
       "      <th></th>\n",
       "      <th>Year</th>\n",
       "      <th>CF</th>\n",
       "    </tr>\n",
       "  </thead>\n",
       "  <tbody>\n",
       "    <tr>\n",
       "      <th>0</th>\n",
       "      <td>1774.0</td>\n",
       "      <td>0.03</td>\n",
       "    </tr>\n",
       "    <tr>\n",
       "      <th>1</th>\n",
       "      <td>1775.0</td>\n",
       "      <td>0.03</td>\n",
       "    </tr>\n",
       "    <tr>\n",
       "      <th>2</th>\n",
       "      <td>1776.0</td>\n",
       "      <td>0.04</td>\n",
       "    </tr>\n",
       "  </tbody>\n",
       "</table>\n",
       "</div>"
      ],
      "text/plain": [
       "     Year    CF\n",
       "0  1774.0  0.03\n",
       "1  1775.0  0.03\n",
       "2  1776.0  0.04"
      ]
     },
     "execution_count": 269,
     "metadata": {},
     "output_type": "execute_result"
    }
   ],
   "source": [
    "cf.head(3)"
   ]
  },
  {
   "cell_type": "code",
   "execution_count": 270,
   "id": "d1a28c96-13b7-4dca-a826-1d60217928c6",
   "metadata": {},
   "outputs": [],
   "source": [
    "#function to compute inflation for a certain year\n",
    "def infl(year):\n",
    "    inf = cf['CF'][cf['Year'] == year]\n",
    "    return inf"
   ]
  },
  {
   "cell_type": "code",
   "execution_count": 272,
   "id": "5c1ff1f6-f6e7-4b88-887c-728d46b17d63",
   "metadata": {},
   "outputs": [],
   "source": [
    "#compute inflation for dataframe rows\n",
    "infl_corr = np.zeros(len(nc))\n",
    "for i in range(len(nc)):\n",
    "    infl_corr[i] = infl(nc['Movie_release_date'][i])\n",
    "nc['CF'] = infl_corr #add column"
   ]
  },
  {
   "cell_type": "code",
   "execution_count": 273,
   "id": "55159c64-f9f8-477f-8f9d-05d55fa7f178",
   "metadata": {},
   "outputs": [],
   "source": [
    "#add inflation corrected box office revenue\n",
    "nc['inflation_revenue'] = nc['Movie_box_office_revenue']/nc['CF']"
   ]
  },
  {
   "cell_type": "code",
   "execution_count": 274,
   "id": "86274d39-e4f0-4587-98d9-486e2f1fa21a",
   "metadata": {},
   "outputs": [
    {
     "data": {
      "text/html": [
       "<div>\n",
       "<style scoped>\n",
       "    .dataframe tbody tr th:only-of-type {\n",
       "        vertical-align: middle;\n",
       "    }\n",
       "\n",
       "    .dataframe tbody tr th {\n",
       "        vertical-align: top;\n",
       "    }\n",
       "\n",
       "    .dataframe thead th {\n",
       "        text-align: right;\n",
       "    }\n",
       "</style>\n",
       "<table border=\"1\" class=\"dataframe\">\n",
       "  <thead>\n",
       "    <tr style=\"text-align: right;\">\n",
       "      <th></th>\n",
       "      <th>Wikipedia_movie_ID</th>\n",
       "      <th>Freebase_movie_ID</th>\n",
       "      <th>Movie_name</th>\n",
       "      <th>Movie_release_date</th>\n",
       "      <th>Movie_box_office_revenue</th>\n",
       "      <th>Movie_runtime</th>\n",
       "      <th>Movie_languages</th>\n",
       "      <th>Movie_countries</th>\n",
       "      <th>Movie_genres</th>\n",
       "      <th>Character_name</th>\n",
       "      <th>...</th>\n",
       "      <th>Actor_ethnicity</th>\n",
       "      <th>Actor_name</th>\n",
       "      <th>Actor_age_at_movie_release</th>\n",
       "      <th>Freebase_character/actor_map_ID</th>\n",
       "      <th>Freebase_character_ID</th>\n",
       "      <th>Freebase_actor_ID</th>\n",
       "      <th>experience</th>\n",
       "      <th>gender_ratios</th>\n",
       "      <th>CF</th>\n",
       "      <th>inflation_revenue</th>\n",
       "    </tr>\n",
       "  </thead>\n",
       "  <tbody>\n",
       "    <tr>\n",
       "      <th>0</th>\n",
       "      <td>656608</td>\n",
       "      <td>/m/0306c6</td>\n",
       "      <td>What's Eating Gilbert Grape</td>\n",
       "      <td>1993.0</td>\n",
       "      <td>10032765.0</td>\n",
       "      <td>-0.427381</td>\n",
       "      <td>{\"/m/02h40lc\": \"English Language\"}</td>\n",
       "      <td>{\"/m/09c7w0\": \"United States of America\"}</td>\n",
       "      <td>{\"/m/0219x_\": \"Indie\", \"/m/0clz1b\": \"Slice of ...</td>\n",
       "      <td>Arnie Grape</td>\n",
       "      <td>...</td>\n",
       "      <td>/m/09kr66</td>\n",
       "      <td>Leonardo DiCaprio</td>\n",
       "      <td>NaN</td>\n",
       "      <td>/m/0k7_65</td>\n",
       "      <td>/m/02nwr_8</td>\n",
       "      <td>/m/0dvmd</td>\n",
       "      <td>-1.599342</td>\n",
       "      <td>0.930905</td>\n",
       "      <td>0.60</td>\n",
       "      <td>1.672128e+07</td>\n",
       "    </tr>\n",
       "    <tr>\n",
       "      <th>1</th>\n",
       "      <td>6417754</td>\n",
       "      <td>/m/0g4lfl</td>\n",
       "      <td>This Boy's Life</td>\n",
       "      <td>1993.0</td>\n",
       "      <td>4104962.0</td>\n",
       "      <td>-0.563474</td>\n",
       "      <td>{\"/m/02h40lc\": \"English Language\"}</td>\n",
       "      <td>{\"/m/09c7w0\": \"United States of America\"}</td>\n",
       "      <td>{\"/m/02h8pkk\": \"Family Drama\", \"/m/04xvlr\": \"P...</td>\n",
       "      <td>Tobias \"Toby\" Wolff</td>\n",
       "      <td>...</td>\n",
       "      <td>/m/09kr66</td>\n",
       "      <td>Leonardo DiCaprio</td>\n",
       "      <td>18.0</td>\n",
       "      <td>/m/0k71hy</td>\n",
       "      <td>/m/04gdr_7</td>\n",
       "      <td>/m/0dvmd</td>\n",
       "      <td>-1.421637</td>\n",
       "      <td>-0.020489</td>\n",
       "      <td>0.60</td>\n",
       "      <td>6.841603e+06</td>\n",
       "    </tr>\n",
       "    <tr>\n",
       "      <th>2</th>\n",
       "      <td>740824</td>\n",
       "      <td>/m/037c_d</td>\n",
       "      <td>The Quick and the Dead</td>\n",
       "      <td>1995.0</td>\n",
       "      <td>18636537.0</td>\n",
       "      <td>-0.971755</td>\n",
       "      <td>{\"/m/02h40lc\": \"English Language\"}</td>\n",
       "      <td>{\"/m/09c7w0\": \"United States of America\", \"/m/...</td>\n",
       "      <td>{\"/m/01jfsb\": \"Thriller\", \"/m/0gw5n2f\": \"Japan...</td>\n",
       "      <td>Fee \"The Kid\" Herod</td>\n",
       "      <td>...</td>\n",
       "      <td>/m/09kr66</td>\n",
       "      <td>Leonardo DiCaprio</td>\n",
       "      <td>20.0</td>\n",
       "      <td>/m/02vby_g</td>\n",
       "      <td>/m/04gdr_y</td>\n",
       "      <td>/m/0dvmd</td>\n",
       "      <td>-1.243933</td>\n",
       "      <td>-0.830935</td>\n",
       "      <td>0.64</td>\n",
       "      <td>2.911959e+07</td>\n",
       "    </tr>\n",
       "  </tbody>\n",
       "</table>\n",
       "<p>3 rows × 23 columns</p>\n",
       "</div>"
      ],
      "text/plain": [
       "   Wikipedia_movie_ID Freebase_movie_ID                   Movie_name  \\\n",
       "0              656608         /m/0306c6  What's Eating Gilbert Grape   \n",
       "1             6417754         /m/0g4lfl              This Boy's Life   \n",
       "2              740824         /m/037c_d       The Quick and the Dead   \n",
       "\n",
       "   Movie_release_date  Movie_box_office_revenue  Movie_runtime  \\\n",
       "0              1993.0                10032765.0      -0.427381   \n",
       "1              1993.0                 4104962.0      -0.563474   \n",
       "2              1995.0                18636537.0      -0.971755   \n",
       "\n",
       "                      Movie_languages  \\\n",
       "0  {\"/m/02h40lc\": \"English Language\"}   \n",
       "1  {\"/m/02h40lc\": \"English Language\"}   \n",
       "2  {\"/m/02h40lc\": \"English Language\"}   \n",
       "\n",
       "                                     Movie_countries  \\\n",
       "0          {\"/m/09c7w0\": \"United States of America\"}   \n",
       "1          {\"/m/09c7w0\": \"United States of America\"}   \n",
       "2  {\"/m/09c7w0\": \"United States of America\", \"/m/...   \n",
       "\n",
       "                                        Movie_genres       Character_name  \\\n",
       "0  {\"/m/0219x_\": \"Indie\", \"/m/0clz1b\": \"Slice of ...          Arnie Grape   \n",
       "1  {\"/m/02h8pkk\": \"Family Drama\", \"/m/04xvlr\": \"P...  Tobias \"Toby\" Wolff   \n",
       "2  {\"/m/01jfsb\": \"Thriller\", \"/m/0gw5n2f\": \"Japan...  Fee \"The Kid\" Herod   \n",
       "\n",
       "   ... Actor_ethnicity         Actor_name  Actor_age_at_movie_release  \\\n",
       "0  ...       /m/09kr66  Leonardo DiCaprio                         NaN   \n",
       "1  ...       /m/09kr66  Leonardo DiCaprio                        18.0   \n",
       "2  ...       /m/09kr66  Leonardo DiCaprio                        20.0   \n",
       "\n",
       "  Freebase_character/actor_map_ID Freebase_character_ID  Freebase_actor_ID  \\\n",
       "0                       /m/0k7_65            /m/02nwr_8           /m/0dvmd   \n",
       "1                       /m/0k71hy            /m/04gdr_7           /m/0dvmd   \n",
       "2                      /m/02vby_g            /m/04gdr_y           /m/0dvmd   \n",
       "\n",
       "  experience gender_ratios    CF  inflation_revenue  \n",
       "0  -1.599342      0.930905  0.60       1.672128e+07  \n",
       "1  -1.421637     -0.020489  0.60       6.841603e+06  \n",
       "2  -1.243933     -0.830935  0.64       2.911959e+07  \n",
       "\n",
       "[3 rows x 23 columns]"
      ]
     },
     "execution_count": 274,
     "metadata": {},
     "output_type": "execute_result"
    }
   ],
   "source": [
    "nc.head(3)"
   ]
  },
  {
   "cell_type": "code",
   "execution_count": 276,
   "id": "ea9ac845-c71d-428b-80a7-c926900fa1d7",
   "metadata": {},
   "outputs": [
    {
     "data": {
      "image/png": "[encoded data removed]",
      "text/plain": [
       "<Figure size 640x480 with 1 Axes>"
      ]
     },
     "metadata": {},
     "output_type": "display_data"
    }
   ],
   "source": [
    "#compare the new revenues\n",
    "plt.plot(nc.Movie_release_date, nc.inflation_revenue/1e6, label='Inflation correction')\n",
    "plt.plot(nc.Movie_release_date, nc.Movie_box_office_revenue/1e6, label='Real revenue')\n",
    "plt.legend()\n",
    "plt.xlabel('Year')\n",
    "plt.ylabel('Box office revenue [M$]')\n",
    "plt.show()"
   ]
  },
  {
   "cell_type": "code",
   "execution_count": 279,
   "id": "6cd2e526-8c55-4b83-9db9-ba6728d3ab51",
   "metadata": {},
   "outputs": [],
   "source": [
    "#run the linear regression again\n",
    "nc_reg2 = nc.copy()\n",
    "nc_reg2['inflation_revenue'] = np.log(nc_reg2['inflation_revenue'])"
   ]
  },
  {
   "cell_type": "code",
   "execution_count": 280,
   "id": "c9976348-2a99-4a6c-bed6-2a95a172d315",
   "metadata": {},
   "outputs": [
    {
     "name": "stdout",
     "output_type": "stream",
     "text": [
      "                            OLS Regression Results                            \n",
      "==============================================================================\n",
      "Dep. Variable:      inflation_revenue   R-squared:                       0.514\n",
      "Model:                            OLS   Adj. R-squared:                  0.416\n",
      "Method:                 Least Squares   F-statistic:                     5.280\n",
      "Date:                Thu, 17 Nov 2022   Prob (F-statistic):             0.0110\n",
      "Time:                        21:41:55   Log-Likelihood:                -31.762\n",
      "No. Observations:                  19   AIC:                             71.52\n",
      "Df Residuals:                      15   BIC:                             75.30\n",
      "Df Model:                           3                                         \n",
      "Covariance Type:            nonrobust                                         \n",
      "=================================================================================\n",
      "                    coef    std err          t      P>|t|      [0.025      0.975]\n",
      "---------------------------------------------------------------------------------\n",
      "Intercept        18.0246      0.332     54.218      0.000      17.316      18.733\n",
      "Movie_runtime     0.6255      0.371      1.685      0.113      -0.166       1.417\n",
      "experience        0.9320      0.365      2.556      0.022       0.155       1.709\n",
      "gender_ratios     0.2672      0.349      0.766      0.456      -0.476       1.011\n",
      "==============================================================================\n",
      "Omnibus:                        0.909   Durbin-Watson:                   2.177\n",
      "Prob(Omnibus):                  0.635   Jarque-Bera (JB):                0.648\n",
      "Skew:                          -0.426   Prob(JB):                        0.723\n",
      "Kurtosis:                       2.698   Cond. No.                         1.52\n",
      "==============================================================================\n",
      "\n",
      "Notes:\n",
      "[1] Standard Errors assume that the covariance matrix of the errors is correctly specified.\n"
     ]
    },
    {
     "name": "stderr",
     "output_type": "stream",
     "text": [
      "C:\\Users\\gabri\\anaconda3\\envs\\ada\\lib\\site-packages\\scipy\\stats\\_stats_py.py:1772: UserWarning: kurtosistest only valid for n>=20 ... continuing anyway, n=19\n",
      "  warnings.warn(\"kurtosistest only valid for n>=20 ... continuing \"\n"
     ]
    }
   ],
   "source": [
    "mod = smf.ols(formula='inflation_revenue ~ Movie_runtime + experience + gender_ratios', data=nc_reg2)\n",
    "\n",
    "res = mod.fit()\n",
    "print(res.summary())"
   ]
  },
  {
   "cell_type": "markdown",
   "id": "7b67cbf9-e0f0-45eb-982c-95780eb76e69",
   "metadata": {},
   "source": [
    "From the new results above, it is possible to confirm the statistical significance of the experience on the box office (**P < 5%**), even if its influence has decreased (**C=0.93**), due to inflation, as we would expect."
   ]
  }
 ],
 "metadata": {
  "kernelspec": {
   "display_name": "Python [conda env:ada] *",
   "language": "python",
   "name": "conda-env-ada-py"
  },
  "language_info": {
   "codemirror_mode": {
    "name": "ipython",
    "version": 3
   },
   "file_extension": ".py",
   "mimetype": "text/x-python",
   "name": "python",
   "nbconvert_exporter": "python",
   "pygments_lexer": "ipython3",
   "version": "3.8.13"
  },
  "vscode": {
   "interpreter": {
    "hash": "a68e92f65f68169dc5f369cba83c8ddd919e7e9c17bd6e8fa314ba31a4920aed"
   }
  }
 },
 "nbformat": 4,
 "nbformat_minor": 5
}
