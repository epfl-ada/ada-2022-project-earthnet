{
 "cells": [
  {
   "cell_type": "code",
   "execution_count": 1,
   "id": "19090070-5197-49ff-8f03-8614ac2b8d20",
   "metadata": {},
   "outputs": [],
   "source": [
    "#imports\n",
    "import pandas as pd\n",
    "import numpy as np\n",
    "import matplotlib.pyplot as plt\n",
    "%matplotlib inline\n",
    "import seaborn as sns\n",
    "import tarfile\n",
    "import math\n",
    "from scipy import stats\n",
    "import statsmodels.formula.api as smf"
   ]
  },
  {
   "cell_type": "code",
   "execution_count": 2,
   "id": "7228ec23-1fc5-44f7-89df-546210f50204",
   "metadata": {},
   "outputs": [],
   "source": [
    "ds_clean = pd.read_csv('../data/data.csv', index_col=0)"
   ]
  },
  {
   "cell_type": "code",
   "execution_count": 3,
   "id": "60f351d2-eac1-4c94-a1a2-72cebb0ec19b",
   "metadata": {},
   "outputs": [
    {
     "data": {
      "text/html": [
       "<div>\n",
       "<style scoped>\n",
       "    .dataframe tbody tr th:only-of-type {\n",
       "        vertical-align: middle;\n",
       "    }\n",
       "\n",
       "    .dataframe tbody tr th {\n",
       "        vertical-align: top;\n",
       "    }\n",
       "\n",
       "    .dataframe thead th {\n",
       "        text-align: right;\n",
       "    }\n",
       "</style>\n",
       "<table border=\"1\" class=\"dataframe\">\n",
       "  <thead>\n",
       "    <tr style=\"text-align: right;\">\n",
       "      <th></th>\n",
       "      <th>Actor_name</th>\n",
       "      <th>Actor_gender</th>\n",
       "      <th>Actor_date_of_birth</th>\n",
       "      <th>Movie_name</th>\n",
       "      <th>Movie_release_date</th>\n",
       "      <th>Movie_box_office_revenue</th>\n",
       "      <th>Movie_runtime</th>\n",
       "      <th>averageRating</th>\n",
       "      <th>numVotes</th>\n",
       "      <th>genres</th>\n",
       "      <th>countries</th>\n",
       "      <th>box_office_adj</th>\n",
       "    </tr>\n",
       "  </thead>\n",
       "  <tbody>\n",
       "    <tr>\n",
       "      <th>0</th>\n",
       "      <td>Dustin Farnum</td>\n",
       "      <td>M</td>\n",
       "      <td>1874-05-27</td>\n",
       "      <td>The Squaw Man</td>\n",
       "      <td>1914.0</td>\n",
       "      <td>244700.0</td>\n",
       "      <td>74.0</td>\n",
       "      <td>5.833333</td>\n",
       "      <td>1418</td>\n",
       "      <td>[' \"Silent film\"', ' \"Western\"', ' \"Drama\"', '...</td>\n",
       "      <td>[' \"United States of America\"}']</td>\n",
       "      <td>6.117500e+06</td>\n",
       "    </tr>\n",
       "    <tr>\n",
       "      <th>1</th>\n",
       "      <td>Elmer Clifton</td>\n",
       "      <td>M</td>\n",
       "      <td>1890-03-14</td>\n",
       "      <td>The Birth of a Nation</td>\n",
       "      <td>1915.0</td>\n",
       "      <td>50000000.0</td>\n",
       "      <td>190.0</td>\n",
       "      <td>6.600000</td>\n",
       "      <td>46186</td>\n",
       "      <td>[' \"Silent film\"', ' \"Indie\"', ' \"Costume dram...</td>\n",
       "      <td>[' \"United States of America\"}']</td>\n",
       "      <td>1.250000e+09</td>\n",
       "    </tr>\n",
       "    <tr>\n",
       "      <th>2</th>\n",
       "      <td>Robert Harron</td>\n",
       "      <td>M</td>\n",
       "      <td>1893-04-12</td>\n",
       "      <td>The Birth of a Nation</td>\n",
       "      <td>1915.0</td>\n",
       "      <td>50000000.0</td>\n",
       "      <td>190.0</td>\n",
       "      <td>6.600000</td>\n",
       "      <td>46186</td>\n",
       "      <td>[' \"Silent film\"', ' \"Indie\"', ' \"Costume dram...</td>\n",
       "      <td>[' \"United States of America\"}']</td>\n",
       "      <td>1.250000e+09</td>\n",
       "    </tr>\n",
       "  </tbody>\n",
       "</table>\n",
       "</div>"
      ],
      "text/plain": [
       "      Actor_name Actor_gender Actor_date_of_birth             Movie_name  \\\n",
       "0  Dustin Farnum            M          1874-05-27          The Squaw Man   \n",
       "1  Elmer Clifton            M          1890-03-14  The Birth of a Nation   \n",
       "2  Robert Harron            M          1893-04-12  The Birth of a Nation   \n",
       "\n",
       "   Movie_release_date  Movie_box_office_revenue  Movie_runtime  averageRating  \\\n",
       "0              1914.0                  244700.0           74.0       5.833333   \n",
       "1              1915.0                50000000.0          190.0       6.600000   \n",
       "2              1915.0                50000000.0          190.0       6.600000   \n",
       "\n",
       "   numVotes                                             genres  \\\n",
       "0      1418  [' \"Silent film\"', ' \"Western\"', ' \"Drama\"', '...   \n",
       "1     46186  [' \"Silent film\"', ' \"Indie\"', ' \"Costume dram...   \n",
       "2     46186  [' \"Silent film\"', ' \"Indie\"', ' \"Costume dram...   \n",
       "\n",
       "                          countries  box_office_adj  \n",
       "0  [' \"United States of America\"}']    6.117500e+06  \n",
       "1  [' \"United States of America\"}']    1.250000e+09  \n",
       "2  [' \"United States of America\"}']    1.250000e+09  "
      ]
     },
     "execution_count": 3,
     "metadata": {},
     "output_type": "execute_result"
    }
   ],
   "source": [
    "ds_clean.head(3)"
   ]
  },
  {
   "cell_type": "markdown",
   "id": "f4bebba0-70c9-420e-bd72-7ae65773b9e6",
   "metadata": {},
   "source": [
    "# Data cleaning"
   ]
  },
  {
   "cell_type": "code",
   "execution_count": 4,
   "id": "e1a7bd7d-6e7a-4229-b84d-efdb2c24fcfe",
   "metadata": {},
   "outputs": [],
   "source": [
    "#sort dataframes by ascending release year\n",
    "ds_clean.sort_values(by=['Movie_release_date'], ascending=True, inplace=True)"
   ]
  },
  {
   "cell_type": "markdown",
   "id": "3ba4140a-73fd-485c-bc73-b4d50e9dbd45",
   "metadata": {},
   "source": [
    "## Preliminary results on the impact of one actor"
   ]
  },
  {
   "cell_type": "code",
   "execution_count": 5,
   "id": "f9e37e50-61fd-4b46-8e54-6db02add285c",
   "metadata": {},
   "outputs": [],
   "source": [
    "#slice the character dataframe to get only Leonardo Di Caprio movies\n",
    "nc = pd.DataFrame(ds_clean.query(\"Actor_name == 'Leonardo DiCaprio'\")).reset_index(drop=True)\n",
    "nc.drop_duplicates(subset=['Movie_name'], inplace=True) #drop duplicates to account for the possibility that an actor \n",
    "                                                        #has multiple roles in the same movie\n",
    "nc.reset_index(drop=True, inplace=True)"
   ]
  },
  {
   "cell_type": "code",
   "execution_count": 6,
   "id": "f992ae4d-7f80-4220-88f0-ea7c63d946a2",
   "metadata": {},
   "outputs": [
    {
     "name": "stdout",
     "output_type": "stream",
     "text": [
      "Leonardo Di Caprio starred in 21 movies\n"
     ]
    }
   ],
   "source": [
    "#number of movies Leonardo Di Caprio starred in\n",
    "print('Leonardo Di Caprio starred in ' + str(len(nc)) + ' movies')"
   ]
  },
  {
   "cell_type": "code",
   "execution_count": 7,
   "id": "2026d915-d91c-444e-82ef-a3530c77f49b",
   "metadata": {},
   "outputs": [
    {
     "data": {
      "text/html": [
       "<div>\n",
       "<style scoped>\n",
       "    .dataframe tbody tr th:only-of-type {\n",
       "        vertical-align: middle;\n",
       "    }\n",
       "\n",
       "    .dataframe tbody tr th {\n",
       "        vertical-align: top;\n",
       "    }\n",
       "\n",
       "    .dataframe thead th {\n",
       "        text-align: right;\n",
       "    }\n",
       "</style>\n",
       "<table border=\"1\" class=\"dataframe\">\n",
       "  <thead>\n",
       "    <tr style=\"text-align: right;\">\n",
       "      <th></th>\n",
       "      <th>Actor_name</th>\n",
       "      <th>Actor_gender</th>\n",
       "      <th>Actor_date_of_birth</th>\n",
       "      <th>Movie_name</th>\n",
       "      <th>Movie_release_date</th>\n",
       "      <th>Movie_box_office_revenue</th>\n",
       "      <th>Movie_runtime</th>\n",
       "      <th>averageRating</th>\n",
       "      <th>numVotes</th>\n",
       "      <th>genres</th>\n",
       "      <th>countries</th>\n",
       "      <th>box_office_adj</th>\n",
       "    </tr>\n",
       "  </thead>\n",
       "  <tbody>\n",
       "    <tr>\n",
       "      <th>0</th>\n",
       "      <td>Leonardo DiCaprio</td>\n",
       "      <td>M</td>\n",
       "      <td>1974-11-11</td>\n",
       "      <td>This Boy's Life</td>\n",
       "      <td>1993.0</td>\n",
       "      <td>4104962.0</td>\n",
       "      <td>114.0</td>\n",
       "      <td>7.300000</td>\n",
       "      <td>53559</td>\n",
       "      <td>[' \"Family Drama\"', ' \"Period piece\"', ' \"Dram...</td>\n",
       "      <td>[' \"United States of America\"}']</td>\n",
       "      <td>6.841603e+06</td>\n",
       "    </tr>\n",
       "    <tr>\n",
       "      <th>1</th>\n",
       "      <td>Leonardo DiCaprio</td>\n",
       "      <td>M</td>\n",
       "      <td>1974-11-11</td>\n",
       "      <td>What's Eating Gilbert Grape</td>\n",
       "      <td>1993.0</td>\n",
       "      <td>10032765.0</td>\n",
       "      <td>117.0</td>\n",
       "      <td>7.700000</td>\n",
       "      <td>238160</td>\n",
       "      <td>[' \"Indie\"', ' \"Slice of life story\"', ' \"Amer...</td>\n",
       "      <td>[' \"United States of America\"}']</td>\n",
       "      <td>1.672128e+07</td>\n",
       "    </tr>\n",
       "    <tr>\n",
       "      <th>2</th>\n",
       "      <td>Leonardo DiCaprio</td>\n",
       "      <td>M</td>\n",
       "      <td>1974-11-11</td>\n",
       "      <td>The Quick and the Dead</td>\n",
       "      <td>1995.0</td>\n",
       "      <td>18636537.0</td>\n",
       "      <td>105.0</td>\n",
       "      <td>7.178571</td>\n",
       "      <td>98184</td>\n",
       "      <td>[' \"Thriller\"', ' \"Japanese Movies\"', ' \"Adven...</td>\n",
       "      <td>[' \"United States of America\"', ' \"Japan\"}']</td>\n",
       "      <td>2.911959e+07</td>\n",
       "    </tr>\n",
       "  </tbody>\n",
       "</table>\n",
       "</div>"
      ],
      "text/plain": [
       "          Actor_name Actor_gender Actor_date_of_birth  \\\n",
       "0  Leonardo DiCaprio            M          1974-11-11   \n",
       "1  Leonardo DiCaprio            M          1974-11-11   \n",
       "2  Leonardo DiCaprio            M          1974-11-11   \n",
       "\n",
       "                    Movie_name  Movie_release_date  Movie_box_office_revenue  \\\n",
       "0              This Boy's Life              1993.0                 4104962.0   \n",
       "1  What's Eating Gilbert Grape              1993.0                10032765.0   \n",
       "2       The Quick and the Dead              1995.0                18636537.0   \n",
       "\n",
       "   Movie_runtime  averageRating  numVotes  \\\n",
       "0          114.0       7.300000     53559   \n",
       "1          117.0       7.700000    238160   \n",
       "2          105.0       7.178571     98184   \n",
       "\n",
       "                                              genres  \\\n",
       "0  [' \"Family Drama\"', ' \"Period piece\"', ' \"Dram...   \n",
       "1  [' \"Indie\"', ' \"Slice of life story\"', ' \"Amer...   \n",
       "2  [' \"Thriller\"', ' \"Japanese Movies\"', ' \"Adven...   \n",
       "\n",
       "                                      countries  box_office_adj  \n",
       "0              [' \"United States of America\"}']    6.841603e+06  \n",
       "1              [' \"United States of America\"}']    1.672128e+07  \n",
       "2  [' \"United States of America\"', ' \"Japan\"}']    2.911959e+07  "
      ]
     },
     "execution_count": 7,
     "metadata": {},
     "output_type": "execute_result"
    }
   ],
   "source": [
    "nc.head(3)"
   ]
  },
  {
   "cell_type": "markdown",
   "id": "772ff3d6-be45-476c-99eb-552287a8df47",
   "metadata": {},
   "source": [
    "As a preliminary analysis, we plot the distribution of box office revenues for Leonardo Di Caprio movies to see the type of distribution. From the histogram below, we observe that most of the movies have a low box office revenue (skewed distribution); the goal is to verify if there is a correlation between the 'experience' of the actor (number of times he has starred in the movie) and the revenue. "
   ]
  },
  {
   "cell_type": "markdown",
   "id": "1fa5b02a-eaf1-4b12-ad71-6cd25ba4caf1",
   "metadata": {},
   "source": [
    "From the box plot below it is possible to distinguish the median and the quartiles of the distribution. A couple of outliers make it difficult to visualize the distribution properly. To correctly read the data, we proceed to remove them."
   ]
  },
  {
   "cell_type": "code",
   "execution_count": 8,
   "id": "8dd0c3a5-f71f-45ca-b293-77d3bf9638a8",
   "metadata": {},
   "outputs": [
    {
     "data": {
      "image/png": "[encoded data removed]",
      "text/plain": [
       "<Figure size 800x300 with 2 Axes>"
      ]
     },
     "metadata": {},
     "output_type": "display_data"
    }
   ],
   "source": [
    "#plot distribution\n",
    "fig, ax = plt.subplots(1,2, figsize=(8,3), sharey = True)\n",
    "\n",
    "sbplt = ax[0]\n",
    "sbplt.hist(nc.Movie_box_office_revenue, bins=15, orientation='horizontal')\n",
    "sbplt.set_title('Histogram')\n",
    "\n",
    "sbplt = ax[1]\n",
    "sbplt.boxplot(nc.Movie_box_office_revenue)\n",
    "sbplt.set_title('Box plot')\n",
    "    \n",
    "fig.tight_layout()\n",
    "fig.text(0,0.3, \"Box office revenue [$]\", rotation = 90)\n",
    "plt.show()"
   ]
  },
  {
   "cell_type": "code",
   "execution_count": 9,
   "id": "1dbcf1d5-0774-4291-a116-7a7387ecb492",
   "metadata": {},
   "outputs": [
    {
     "name": "stdout",
     "output_type": "stream",
     "text": [
      "The new number of movies considered is 19\n"
     ]
    }
   ],
   "source": [
    "#remove outliers\n",
    "nc.query('Movie_box_office_revenue < 0.5e9', inplace=True)\n",
    "nc.reset_index(inplace=True, drop=True)\n",
    "print('The new number of movies considered is ' + str(len(nc)))"
   ]
  },
  {
   "cell_type": "markdown",
   "id": "3ece1318-aa99-431b-a99f-12473af3b176",
   "metadata": {},
   "source": [
    "In this case, the distribution is way more readable. Most of the movies are in the low box office part."
   ]
  },
  {
   "cell_type": "code",
   "execution_count": 10,
   "id": "4760fceb-0806-4d2c-a09b-b29499200019",
   "metadata": {},
   "outputs": [
    {
     "name": "stdout",
     "output_type": "stream",
     "text": [
      "The median is 115.097286 M$\n",
      "The first quartile is 14.334651 M$\n",
      "The third quartile is 203.7569815 M$\n"
     ]
    }
   ],
   "source": [
    "#some stats\n",
    "print('The median is ' + str(np.median(nc.Movie_box_office_revenue)/1e6) + ' M$')\n",
    "print('The first quartile is ' + str(np.quantile(nc.Movie_box_office_revenue,0.25)/1e6) + ' M$')\n",
    "print('The third quartile is ' + str(np.quantile(nc.Movie_box_office_revenue,0.75)/1e6) + ' M$')"
   ]
  },
  {
   "cell_type": "code",
   "execution_count": 11,
   "id": "bdaadfe5-a04c-4e08-ac6c-04e02c5248d3",
   "metadata": {},
   "outputs": [
    {
     "data": {
      "image/png": "[encoded data removed]",
      "text/plain": [
       "<Figure size 800x300 with 2 Axes>"
      ]
     },
     "metadata": {},
     "output_type": "display_data"
    }
   ],
   "source": [
    "#plot again without outliers\n",
    "fig, ax = plt.subplots(1,2, figsize=(8,3), sharey = True)\n",
    "\n",
    "sbplt = ax[0]\n",
    "sbplt.hist(nc.Movie_box_office_revenue, bins=10, orientation='horizontal')\n",
    "sbplt.set_title('Histogram')\n",
    "\n",
    "sbplt = ax[1]\n",
    "sbplt.boxplot(nc.Movie_box_office_revenue)\n",
    "sbplt.set_title('Box plot')\n",
    "    \n",
    "fig.tight_layout()\n",
    "fig.text(0,0.3, \"Box office revenue\", rotation = 90)\n",
    "plt.show()"
   ]
  },
  {
   "cell_type": "markdown",
   "id": "55c29fb0-cd07-4270-aab2-3da9e1b954b6",
   "metadata": {},
   "source": [
    "### Actor's experience"
   ]
  },
  {
   "cell_type": "markdown",
   "id": "6f0b822b-19ed-49e2-a2ca-fbbb21c6b039",
   "metadata": {},
   "source": [
    "We define the experience of the actor as the number of times he starred in a movie before, in relation to the dataset analyzed."
   ]
  },
  {
   "cell_type": "code",
   "execution_count": 12,
   "id": "88c5709a-b712-430d-91bb-637b2f8022da",
   "metadata": {},
   "outputs": [],
   "source": [
    "#define actor's experience\n",
    "exp = np.zeros(len(nc)) \n",
    "t = 1\n",
    "for i in range(len(nc)):\n",
    "    exp[i] = t\n",
    "    t += 1"
   ]
  },
  {
   "cell_type": "code",
   "execution_count": 13,
   "id": "5a773f92-d10b-4f6c-b59a-82768d0324f5",
   "metadata": {},
   "outputs": [],
   "source": [
    "#add experience column to dataframe\n",
    "nc['experience'] = exp"
   ]
  },
  {
   "cell_type": "markdown",
   "id": "acfcf7b5-63de-45af-bca0-60c777f25f96",
   "metadata": {},
   "source": [
    "We check for possible correlations between the experience and box office revenue"
   ]
  },
  {
   "cell_type": "code",
   "execution_count": 14,
   "id": "c0ab6aa2-e849-4610-91c4-1703f3f9373a",
   "metadata": {},
   "outputs": [
    {
     "data": {
      "text/plain": [
       "(0.6024393468718816, 0.00633881816223416)"
      ]
     },
     "execution_count": 14,
     "metadata": {},
     "output_type": "execute_result"
    }
   ],
   "source": [
    "#pearson correlation\n",
    "stats.pearsonr(nc['experience'],nc['Movie_box_office_revenue'])"
   ]
  },
  {
   "cell_type": "code",
   "execution_count": 15,
   "id": "4ecc081f-8b00-447a-9dc9-327377dc40fe",
   "metadata": {},
   "outputs": [
    {
     "data": {
      "text/plain": [
       "SpearmanrResult(correlation=0.6491228070175438, pvalue=0.002636625075935029)"
      ]
     },
     "execution_count": 15,
     "metadata": {},
     "output_type": "execute_result"
    }
   ],
   "source": [
    "#spearman correlation\n",
    "stats.spearmanr(nc['experience'],nc['Movie_box_office_revenue'])"
   ]
  },
  {
   "cell_type": "markdown",
   "id": "16d9b256-7a9f-4fbc-ac4e-21e3a4bd1060",
   "metadata": {},
   "source": [
    "Applying the Pearson and Spearman relation, we obtain a positive correlation of **0.60** and **0.64**, respectively. This seems to lead to a link between experience and box office revenue, even if we still haven't proved statistaical significance."
   ]
  },
  {
   "cell_type": "code",
   "execution_count": 16,
   "id": "b6202a24-fb1e-4c1c-9630-9ffee4f0e4ad",
   "metadata": {},
   "outputs": [
    {
     "data": {
      "image/png": "[encoded data removed]",
      "text/plain": [
       "<Figure size 500x500 with 1 Axes>"
      ]
     },
     "metadata": {},
     "output_type": "display_data"
    }
   ],
   "source": [
    "#plot linear correlation\n",
    "sns.lmplot(x='experience',y='Movie_box_office_revenue', data=nc)\n",
    "plt.ylabel('Movie box office revenue [$]')\n",
    "plt.xlabel('Actor experience')\n",
    "plt.show()"
   ]
  },
  {
   "cell_type": "markdown",
   "id": "2f0bf1e2-cfad-4839-b041-07b40ad6537d",
   "metadata": {},
   "source": [
    "## Regression analysis"
   ]
  },
  {
   "cell_type": "markdown",
   "id": "bf00d335-dcda-4ead-b397-0a094db7f30c",
   "metadata": {},
   "source": [
    "To understand a bit better the influence of the other parameters on the box office revenue, a model of the revenue based on multiple factors can be tested. The factors taken into consideration are:\n",
    "- Movie runtime;\n",
    "- Gender diversity in the cast;\n",
    "- Experience."
   ]
  },
  {
   "cell_type": "markdown",
   "id": "450b905a-a8a8-416e-b541-996bdca92e9e",
   "metadata": {},
   "source": [
    "Given that we already have the experience of the actor and movie runtime, we need to compute the male/female ratios for Leonardo DiCaprio movies."
   ]
  },
  {
   "cell_type": "code",
   "execution_count": 17,
   "id": "8529a556-3c90-4280-8237-ef9e806454f2",
   "metadata": {},
   "outputs": [],
   "source": [
    "#computation of actor/actress ratios\n",
    "gd = nc.query(\"Actor_name == 'Leonardo DiCaprio'\")['Movie_name'] #extract dataframe with Leonardo DiCaprio movies\n",
    "\n",
    "gd_i = ds_clean[ds_clean['Movie_name'].isin(gd)] #extract rows including these movies from the original dataframe"
   ]
  },
  {
   "cell_type": "code",
   "execution_count": 18,
   "id": "998ac381-ce5d-423a-aa75-beb16de74ea5",
   "metadata": {},
   "outputs": [],
   "source": [
    "#split dataframe into rows including actors and rows including actresses\n",
    "gd_f = gd_i[gd_i['Actor_gender'] == 'F'] #dataframe only including actresses\n",
    "gd_m = gd_i[gd_i['Actor_gender'] == 'M'] #dataframe only including actors"
   ]
  },
  {
   "cell_type": "code",
   "execution_count": 19,
   "id": "ac32716b-4283-43a1-8f0c-1ba22cc8f52c",
   "metadata": {},
   "outputs": [],
   "source": [
    "#group by the movie name and count the number of actors and actresses\n",
    "n_f = gd_f.groupby('Movie_name')['Movie_name'].count() #number of actresses\n",
    "n_m = gd_m.groupby('Movie_name')['Movie_name'].count() #number of actors"
   ]
  },
  {
   "cell_type": "code",
   "execution_count": 20,
   "id": "aa58d5c6-c331-425f-abbd-3c60c78d4bec",
   "metadata": {},
   "outputs": [],
   "source": [
    "#create dataframe with male/female ratios\n",
    "gender_ratios = pd.DataFrame(n_m.values/n_f.values)"
   ]
  },
  {
   "cell_type": "code",
   "execution_count": 21,
   "id": "75dfc1a0-884d-4936-894f-fe212336ef2f",
   "metadata": {},
   "outputs": [],
   "source": [
    "#add to dataframe\n",
    "nc['gender_ratios'] = gender_ratios"
   ]
  },
  {
   "cell_type": "markdown",
   "id": "4a2b018d-b13b-4644-afa7-bf062b933070",
   "metadata": {},
   "source": [
    "At this point, we can start the regression analysis."
   ]
  },
  {
   "cell_type": "code",
   "execution_count": 22,
   "id": "67898aa1-fd16-4b70-a1a5-59b2b781ee20",
   "metadata": {},
   "outputs": [],
   "source": [
    "#copy dataframe\n",
    "nc_reg = nc.copy()"
   ]
  },
  {
   "cell_type": "code",
   "execution_count": 23,
   "id": "1df458a5-dfa2-4289-94a5-c242b1296e02",
   "metadata": {},
   "outputs": [],
   "source": [
    "#logarithmic scaling of box office revenue\n",
    "nc_reg['Movie_box_office_revenue'] = np.log(nc_reg['Movie_box_office_revenue'])"
   ]
  },
  {
   "cell_type": "code",
   "execution_count": 24,
   "id": "6267c5b7-11c4-4cd1-8b4f-7ff7817558b7",
   "metadata": {},
   "outputs": [
    {
     "name": "stdout",
     "output_type": "stream",
     "text": [
      "                               OLS Regression Results                               \n",
      "====================================================================================\n",
      "Dep. Variable:     Movie_box_office_revenue   R-squared:                       0.557\n",
      "Model:                                  OLS   Adj. R-squared:                  0.469\n",
      "Method:                       Least Squares   F-statistic:                     6.290\n",
      "Date:                      Fri, 18 Nov 2022   Prob (F-statistic):            0.00562\n",
      "Time:                              20:32:11   Log-Likelihood:                -31.833\n",
      "No. Observations:                        19   AIC:                             71.67\n",
      "Df Residuals:                            15   BIC:                             75.44\n",
      "Df Model:                                 3                                         \n",
      "Covariance Type:                  nonrobust                                         \n",
      "=================================================================================\n",
      "                    coef    std err          t      P>|t|      [0.025      0.975]\n",
      "---------------------------------------------------------------------------------\n",
      "Intercept        11.7539      2.035      5.777      0.000       7.417      16.090\n",
      "Movie_runtime     0.0297      0.017      1.780      0.095      -0.006       0.065\n",
      "experience        0.1969      0.065      3.010      0.009       0.057       0.336\n",
      "gender_ratios     0.0722      0.134      0.541      0.597      -0.212       0.357\n",
      "==============================================================================\n",
      "Omnibus:                        1.192   Durbin-Watson:                   2.143\n",
      "Prob(Omnibus):                  0.551   Jarque-Bera (JB):                0.819\n",
      "Skew:                          -0.490   Prob(JB):                        0.664\n",
      "Kurtosis:                       2.727   Cond. No.                         785.\n",
      "==============================================================================\n",
      "\n",
      "Notes:\n",
      "[1] Standard Errors assume that the covariance matrix of the errors is correctly specified.\n"
     ]
    },
    {
     "name": "stderr",
     "output_type": "stream",
     "text": [
      "/Users/isaacbattles/opt/anaconda3/envs/preprocessing/lib/python3.10/site-packages/scipy/stats/stats.py:1541: UserWarning: kurtosistest only valid for n>=20 ... continuing anyway, n=19\n",
      "  warnings.warn(\"kurtosistest only valid for n>=20 ... continuing \"\n"
     ]
    }
   ],
   "source": [
    "mod = smf.ols(formula='Movie_box_office_revenue ~  Movie_runtime +  experience + gender_ratios', data=nc_reg)\n",
    "\n",
    "res = mod.fit()\n",
    "print(res.summary())"
   ]
  },
  {
   "cell_type": "markdown",
   "id": "8cbefe86-aa2a-4330-b78f-eca6683a13b8",
   "metadata": {},
   "source": [
    "From the results, it is possible to get interesting information. The R squared is **0.56**, meaning more than half of the variance is explained. The movie runtime, the gender_ratios and the experience of the actor positively influence the revenue, even if only the latter is statistically significant (**P < 5%**).\n",
    "A confounder that could naively lead us to overestimate the statistical significance of the actor's experience is inflation. Indeed, over the years the value of money changes; for a proper evaluation, an inflation correction has to be done."
   ]
  },
  {
   "cell_type": "code",
   "execution_count": 25,
   "id": "3336486f-101f-4f82-aea8-ec5e9f98e6cf",
   "metadata": {},
   "outputs": [],
   "source": [
    "#take inflation into account\n",
    "cf = pd.read_csv('../data/inflation_correction.csv')\n",
    "cf.reset_index(drop=True, inplace=True)"
   ]
  },
  {
   "cell_type": "code",
   "execution_count": 26,
   "id": "998a1ba2-b371-4c17-a387-4c7efeeeb825",
   "metadata": {},
   "outputs": [
    {
     "data": {
      "text/html": [
       "<div>\n",
       "<style scoped>\n",
       "    .dataframe tbody tr th:only-of-type {\n",
       "        vertical-align: middle;\n",
       "    }\n",
       "\n",
       "    .dataframe tbody tr th {\n",
       "        vertical-align: top;\n",
       "    }\n",
       "\n",
       "    .dataframe thead th {\n",
       "        text-align: right;\n",
       "    }\n",
       "</style>\n",
       "<table border=\"1\" class=\"dataframe\">\n",
       "  <thead>\n",
       "    <tr style=\"text-align: right;\">\n",
       "      <th></th>\n",
       "      <th>Year</th>\n",
       "      <th>CF</th>\n",
       "    </tr>\n",
       "  </thead>\n",
       "  <tbody>\n",
       "    <tr>\n",
       "      <th>0</th>\n",
       "      <td>1774.0</td>\n",
       "      <td>0.03</td>\n",
       "    </tr>\n",
       "    <tr>\n",
       "      <th>1</th>\n",
       "      <td>1775.0</td>\n",
       "      <td>0.03</td>\n",
       "    </tr>\n",
       "    <tr>\n",
       "      <th>2</th>\n",
       "      <td>1776.0</td>\n",
       "      <td>0.04</td>\n",
       "    </tr>\n",
       "  </tbody>\n",
       "</table>\n",
       "</div>"
      ],
      "text/plain": [
       "     Year    CF\n",
       "0  1774.0  0.03\n",
       "1  1775.0  0.03\n",
       "2  1776.0  0.04"
      ]
     },
     "execution_count": 26,
     "metadata": {},
     "output_type": "execute_result"
    }
   ],
   "source": [
    "cf.head(3)"
   ]
  },
  {
   "cell_type": "code",
   "execution_count": 27,
   "id": "d1a28c96-13b7-4dca-a826-1d60217928c6",
   "metadata": {},
   "outputs": [],
   "source": [
    "#function to compute inflation for a certain year\n",
    "def infl(year):\n",
    "    inf = cf['CF'][cf['Year'] == year]\n",
    "    return inf"
   ]
  },
  {
   "cell_type": "code",
   "execution_count": 28,
   "id": "5c1ff1f6-f6e7-4b88-887c-728d46b17d63",
   "metadata": {},
   "outputs": [],
   "source": [
    "#compute inflation for dataframe rows\n",
    "infl_corr = np.zeros(len(nc))\n",
    "for i in range(len(nc)):\n",
    "    infl_corr[i] = infl(nc['Movie_release_date'][i])\n",
    "nc['CF'] = infl_corr #add column"
   ]
  },
  {
   "cell_type": "code",
   "execution_count": 29,
   "id": "55159c64-f9f8-477f-8f9d-05d55fa7f178",
   "metadata": {},
   "outputs": [],
   "source": [
    "#add inflation corrected box office revenue\n",
    "nc['inflation_revenue'] = nc['Movie_box_office_revenue']/nc['CF']"
   ]
  },
  {
   "cell_type": "code",
   "execution_count": 30,
   "id": "86274d39-e4f0-4587-98d9-486e2f1fa21a",
   "metadata": {},
   "outputs": [
    {
     "data": {
      "text/html": [
       "<div>\n",
       "<style scoped>\n",
       "    .dataframe tbody tr th:only-of-type {\n",
       "        vertical-align: middle;\n",
       "    }\n",
       "\n",
       "    .dataframe tbody tr th {\n",
       "        vertical-align: top;\n",
       "    }\n",
       "\n",
       "    .dataframe thead th {\n",
       "        text-align: right;\n",
       "    }\n",
       "</style>\n",
       "<table border=\"1\" class=\"dataframe\">\n",
       "  <thead>\n",
       "    <tr style=\"text-align: right;\">\n",
       "      <th></th>\n",
       "      <th>Actor_name</th>\n",
       "      <th>Actor_gender</th>\n",
       "      <th>Actor_date_of_birth</th>\n",
       "      <th>Movie_name</th>\n",
       "      <th>Movie_release_date</th>\n",
       "      <th>Movie_box_office_revenue</th>\n",
       "      <th>Movie_runtime</th>\n",
       "      <th>averageRating</th>\n",
       "      <th>numVotes</th>\n",
       "      <th>genres</th>\n",
       "      <th>countries</th>\n",
       "      <th>box_office_adj</th>\n",
       "      <th>experience</th>\n",
       "      <th>gender_ratios</th>\n",
       "      <th>CF</th>\n",
       "      <th>inflation_revenue</th>\n",
       "    </tr>\n",
       "  </thead>\n",
       "  <tbody>\n",
       "    <tr>\n",
       "      <th>0</th>\n",
       "      <td>Leonardo DiCaprio</td>\n",
       "      <td>M</td>\n",
       "      <td>1974-11-11</td>\n",
       "      <td>This Boy's Life</td>\n",
       "      <td>1993.0</td>\n",
       "      <td>4104962.0</td>\n",
       "      <td>114.0</td>\n",
       "      <td>7.300000</td>\n",
       "      <td>53559</td>\n",
       "      <td>[' \"Family Drama\"', ' \"Period piece\"', ' \"Dram...</td>\n",
       "      <td>[' \"United States of America\"}']</td>\n",
       "      <td>6.841603e+06</td>\n",
       "      <td>1.0</td>\n",
       "      <td>8.000000</td>\n",
       "      <td>0.60</td>\n",
       "      <td>6.841603e+06</td>\n",
       "    </tr>\n",
       "    <tr>\n",
       "      <th>1</th>\n",
       "      <td>Leonardo DiCaprio</td>\n",
       "      <td>M</td>\n",
       "      <td>1974-11-11</td>\n",
       "      <td>What's Eating Gilbert Grape</td>\n",
       "      <td>1993.0</td>\n",
       "      <td>10032765.0</td>\n",
       "      <td>117.0</td>\n",
       "      <td>7.700000</td>\n",
       "      <td>238160</td>\n",
       "      <td>[' \"Indie\"', ' \"Slice of life story\"', ' \"Amer...</td>\n",
       "      <td>[' \"United States of America\"}']</td>\n",
       "      <td>1.672128e+07</td>\n",
       "      <td>2.0</td>\n",
       "      <td>3.000000</td>\n",
       "      <td>0.60</td>\n",
       "      <td>1.672128e+07</td>\n",
       "    </tr>\n",
       "    <tr>\n",
       "      <th>2</th>\n",
       "      <td>Leonardo DiCaprio</td>\n",
       "      <td>M</td>\n",
       "      <td>1974-11-11</td>\n",
       "      <td>The Quick and the Dead</td>\n",
       "      <td>1995.0</td>\n",
       "      <td>18636537.0</td>\n",
       "      <td>105.0</td>\n",
       "      <td>7.178571</td>\n",
       "      <td>98184</td>\n",
       "      <td>[' \"Thriller\"', ' \"Japanese Movies\"', ' \"Adven...</td>\n",
       "      <td>[' \"United States of America\"', ' \"Japan\"}']</td>\n",
       "      <td>2.911959e+07</td>\n",
       "      <td>3.0</td>\n",
       "      <td>1.222222</td>\n",
       "      <td>0.64</td>\n",
       "      <td>2.911959e+07</td>\n",
       "    </tr>\n",
       "  </tbody>\n",
       "</table>\n",
       "</div>"
      ],
      "text/plain": [
       "          Actor_name Actor_gender Actor_date_of_birth  \\\n",
       "0  Leonardo DiCaprio            M          1974-11-11   \n",
       "1  Leonardo DiCaprio            M          1974-11-11   \n",
       "2  Leonardo DiCaprio            M          1974-11-11   \n",
       "\n",
       "                    Movie_name  Movie_release_date  Movie_box_office_revenue  \\\n",
       "0              This Boy's Life              1993.0                 4104962.0   \n",
       "1  What's Eating Gilbert Grape              1993.0                10032765.0   \n",
       "2       The Quick and the Dead              1995.0                18636537.0   \n",
       "\n",
       "   Movie_runtime  averageRating  numVotes  \\\n",
       "0          114.0       7.300000     53559   \n",
       "1          117.0       7.700000    238160   \n",
       "2          105.0       7.178571     98184   \n",
       "\n",
       "                                              genres  \\\n",
       "0  [' \"Family Drama\"', ' \"Period piece\"', ' \"Dram...   \n",
       "1  [' \"Indie\"', ' \"Slice of life story\"', ' \"Amer...   \n",
       "2  [' \"Thriller\"', ' \"Japanese Movies\"', ' \"Adven...   \n",
       "\n",
       "                                      countries  box_office_adj  experience  \\\n",
       "0              [' \"United States of America\"}']    6.841603e+06         1.0   \n",
       "1              [' \"United States of America\"}']    1.672128e+07         2.0   \n",
       "2  [' \"United States of America\"', ' \"Japan\"}']    2.911959e+07         3.0   \n",
       "\n",
       "   gender_ratios    CF  inflation_revenue  \n",
       "0       8.000000  0.60       6.841603e+06  \n",
       "1       3.000000  0.60       1.672128e+07  \n",
       "2       1.222222  0.64       2.911959e+07  "
      ]
     },
     "execution_count": 30,
     "metadata": {},
     "output_type": "execute_result"
    }
   ],
   "source": [
    "nc.head(3)"
   ]
  },
  {
   "cell_type": "code",
   "execution_count": 31,
   "id": "ea9ac845-c71d-428b-80a7-c926900fa1d7",
   "metadata": {},
   "outputs": [
    {
     "data": {
      "image/png": "[encoded data removed]",
      "text/plain": [
       "<Figure size 640x480 with 1 Axes>"
      ]
     },
     "metadata": {},
     "output_type": "display_data"
    }
   ],
   "source": [
    "#compare the new revenues\n",
    "plt.plot(nc.Movie_release_date, nc.inflation_revenue/1e6, label='Inflation correction')\n",
    "plt.plot(nc.Movie_release_date, nc.Movie_box_office_revenue/1e6, label='Real revenue')\n",
    "plt.legend()\n",
    "plt.xlabel('Year')\n",
    "plt.ylabel('Box office revenue [M$]')\n",
    "plt.show()"
   ]
  },
  {
   "cell_type": "code",
   "execution_count": 32,
   "id": "6cd2e526-8c55-4b83-9db9-ba6728d3ab51",
   "metadata": {},
   "outputs": [],
   "source": [
    "#run the linear regression again\n",
    "nc_reg2 = nc.copy()\n",
    "nc_reg2['inflation_revenue'] = np.log(nc_reg2['inflation_revenue'])"
   ]
  },
  {
   "cell_type": "code",
   "execution_count": 33,
   "id": "c9976348-2a99-4a6c-bed6-2a95a172d315",
   "metadata": {},
   "outputs": [
    {
     "name": "stdout",
     "output_type": "stream",
     "text": [
      "                            OLS Regression Results                            \n",
      "==============================================================================\n",
      "Dep. Variable:      inflation_revenue   R-squared:                       0.507\n",
      "Model:                            OLS   Adj. R-squared:                  0.408\n",
      "Method:                 Least Squares   F-statistic:                     5.138\n",
      "Date:                Fri, 18 Nov 2022   Prob (F-statistic):             0.0121\n",
      "Time:                        20:32:25   Log-Likelihood:                -31.894\n",
      "No. Observations:                  19   AIC:                             71.79\n",
      "Df Residuals:                      15   BIC:                             75.57\n",
      "Df Model:                           3                                         \n",
      "Covariance Type:            nonrobust                                         \n",
      "=================================================================================\n",
      "                    coef    std err          t      P>|t|      [0.025      0.975]\n",
      "---------------------------------------------------------------------------------\n",
      "Intercept        12.3397      2.041      6.045      0.000       7.989      16.690\n",
      "Movie_runtime     0.0297      0.017      1.773      0.097      -0.006       0.065\n",
      "experience        0.1695      0.066      2.583      0.021       0.030       0.309\n",
      "gender_ratios     0.0686      0.134      0.512      0.616      -0.217       0.354\n",
      "==============================================================================\n",
      "Omnibus:                        1.168   Durbin-Watson:                   2.105\n",
      "Prob(Omnibus):                  0.558   Jarque-Bera (JB):                0.773\n",
      "Skew:                          -0.479   Prob(JB):                        0.679\n",
      "Kurtosis:                       2.757   Cond. No.                         785.\n",
      "==============================================================================\n",
      "\n",
      "Notes:\n",
      "[1] Standard Errors assume that the covariance matrix of the errors is correctly specified.\n"
     ]
    },
    {
     "name": "stderr",
     "output_type": "stream",
     "text": [
      "/Users/isaacbattles/opt/anaconda3/envs/preprocessing/lib/python3.10/site-packages/scipy/stats/stats.py:1541: UserWarning: kurtosistest only valid for n>=20 ... continuing anyway, n=19\n",
      "  warnings.warn(\"kurtosistest only valid for n>=20 ... continuing \"\n"
     ]
    }
   ],
   "source": [
    "mod = smf.ols(formula='inflation_revenue ~ Movie_runtime + experience + gender_ratios', data=nc_reg2)\n",
    "\n",
    "res = mod.fit()\n",
    "print(res.summary())"
   ]
  },
  {
   "cell_type": "markdown",
   "id": "7b67cbf9-e0f0-45eb-982c-95780eb76e69",
   "metadata": {},
   "source": [
    "From the new results above, it is possible to confirm the statistical significance of the experience on the box office (**P < 5%**), even if its influence has decreased (**C=0.17**), due to inflation, as we would expect."
   ]
  }
 ],
 "metadata": {
  "kernelspec": {
   "display_name": "Python 3.10.4 ('preprocessing')",
   "language": "python",
   "name": "python3"
  },
  "language_info": {
   "codemirror_mode": {
    "name": "ipython",
    "version": 3
   },
   "file_extension": ".py",
   "mimetype": "text/x-python",
   "name": "python",
   "nbconvert_exporter": "python",
   "pygments_lexer": "ipython3",
   "version": "3.10.4"
  },
  "vscode": {
   "interpreter": {
    "hash": "a68e92f65f68169dc5f369cba83c8ddd919e7e9c17bd6e8fa314ba31a4920aed"
   }
  }
 },
 "nbformat": 4,
 "nbformat_minor": 5
}
