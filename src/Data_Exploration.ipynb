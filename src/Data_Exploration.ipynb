{
 "cells": [
  {
   "cell_type": "code",
   "execution_count": 1,
   "id": "19090070-5197-49ff-8f03-8614ac2b8d20",
   "metadata": {},
   "outputs": [],
   "source": [
    "#imports\n",
    "import pandas as pd\n",
    "import numpy as np\n",
    "import matplotlib.pyplot as plt\n",
    "%matplotlib inline\n",
    "import seaborn as sns\n",
    "import tarfile\n",
    "import math\n",
    "from scipy import stats\n",
    "import statsmodels.formula.api as smf"
   ]
  },
  {
   "cell_type": "code",
   "execution_count": 7,
   "id": "a4c76619-b89a-4c9a-9080-5512916eb498",
   "metadata": {},
   "outputs": [],
   "source": [
    "#import movie dataset\n",
    "movie = pd.read_csv('../data/MovieSummaries/movie.metadata.tsv', sep='\\t')"
   ]
  },
  {
   "cell_type": "code",
   "execution_count": 8,
   "id": "c3050431-37cc-4f29-879a-d1eaed881804",
   "metadata": {},
   "outputs": [],
   "source": [
    "#import character dataset\n",
    "character = pd.read_csv('../data/MovieSummaries/'+'character.metadata.tsv', sep='\\t')"
   ]
  },
  {
   "cell_type": "markdown",
   "id": "f4bebba0-70c9-420e-bd72-7ae65773b9e6",
   "metadata": {},
   "source": [
    "# Data cleaning"
   ]
  },
  {
   "cell_type": "code",
   "execution_count": 9,
   "id": "389fc223-8ec8-407d-8736-4527660ffdc9",
   "metadata": {},
   "outputs": [
    {
     "data": {
      "text/html": [
       "<div>\n",
       "<style scoped>\n",
       "    .dataframe tbody tr th:only-of-type {\n",
       "        vertical-align: middle;\n",
       "    }\n",
       "\n",
       "    .dataframe tbody tr th {\n",
       "        vertical-align: top;\n",
       "    }\n",
       "\n",
       "    .dataframe thead th {\n",
       "        text-align: right;\n",
       "    }\n",
       "</style>\n",
       "<table border=\"1\" class=\"dataframe\">\n",
       "  <thead>\n",
       "    <tr style=\"text-align: right;\">\n",
       "      <th></th>\n",
       "      <th>975900</th>\n",
       "      <th>/m/03vyhn</th>\n",
       "      <th>Ghosts of Mars</th>\n",
       "      <th>2001-08-24</th>\n",
       "      <th>14010832</th>\n",
       "      <th>98.0</th>\n",
       "      <th>{\"/m/02h40lc\": \"English Language\"}</th>\n",
       "      <th>{\"/m/09c7w0\": \"United States of America\"}</th>\n",
       "      <th>{\"/m/01jfsb\": \"Thriller\", \"/m/06n90\": \"Science Fiction\", \"/m/03npn\": \"Horror\", \"/m/03k9fj\": \"Adventure\", \"/m/0fdjb\": \"Supernatural\", \"/m/02kdv5l\": \"Action\", \"/m/09zvmj\": \"Space western\"}</th>\n",
       "    </tr>\n",
       "  </thead>\n",
       "  <tbody>\n",
       "    <tr>\n",
       "      <th>0</th>\n",
       "      <td>3196793</td>\n",
       "      <td>/m/08yl5d</td>\n",
       "      <td>Getting Away with Murder: The JonBenét Ramsey ...</td>\n",
       "      <td>2000-02-16</td>\n",
       "      <td>NaN</td>\n",
       "      <td>95.0</td>\n",
       "      <td>{\"/m/02h40lc\": \"English Language\"}</td>\n",
       "      <td>{\"/m/09c7w0\": \"United States of America\"}</td>\n",
       "      <td>{\"/m/02n4kr\": \"Mystery\", \"/m/03bxz7\": \"Biograp...</td>\n",
       "    </tr>\n",
       "    <tr>\n",
       "      <th>1</th>\n",
       "      <td>28463795</td>\n",
       "      <td>/m/0crgdbh</td>\n",
       "      <td>Brun bitter</td>\n",
       "      <td>1988</td>\n",
       "      <td>NaN</td>\n",
       "      <td>83.0</td>\n",
       "      <td>{\"/m/05f_3\": \"Norwegian Language\"}</td>\n",
       "      <td>{\"/m/05b4w\": \"Norway\"}</td>\n",
       "      <td>{\"/m/0lsxr\": \"Crime Fiction\", \"/m/07s9rl0\": \"D...</td>\n",
       "    </tr>\n",
       "    <tr>\n",
       "      <th>2</th>\n",
       "      <td>9363483</td>\n",
       "      <td>/m/0285_cd</td>\n",
       "      <td>White Of The Eye</td>\n",
       "      <td>1987</td>\n",
       "      <td>NaN</td>\n",
       "      <td>110.0</td>\n",
       "      <td>{\"/m/02h40lc\": \"English Language\"}</td>\n",
       "      <td>{\"/m/07ssc\": \"United Kingdom\"}</td>\n",
       "      <td>{\"/m/01jfsb\": \"Thriller\", \"/m/0glj9q\": \"Erotic...</td>\n",
       "    </tr>\n",
       "    <tr>\n",
       "      <th>3</th>\n",
       "      <td>261236</td>\n",
       "      <td>/m/01mrr1</td>\n",
       "      <td>A Woman in Flames</td>\n",
       "      <td>1983</td>\n",
       "      <td>NaN</td>\n",
       "      <td>106.0</td>\n",
       "      <td>{\"/m/04306rv\": \"German Language\"}</td>\n",
       "      <td>{\"/m/0345h\": \"Germany\"}</td>\n",
       "      <td>{\"/m/07s9rl0\": \"Drama\"}</td>\n",
       "    </tr>\n",
       "    <tr>\n",
       "      <th>4</th>\n",
       "      <td>13696889</td>\n",
       "      <td>/m/03cfc81</td>\n",
       "      <td>The Gangsters</td>\n",
       "      <td>1913-05-29</td>\n",
       "      <td>NaN</td>\n",
       "      <td>35.0</td>\n",
       "      <td>{\"/m/06ppq\": \"Silent film\", \"/m/02h40lc\": \"Eng...</td>\n",
       "      <td>{\"/m/09c7w0\": \"United States of America\"}</td>\n",
       "      <td>{\"/m/02hmvc\": \"Short Film\", \"/m/06ppq\": \"Silen...</td>\n",
       "    </tr>\n",
       "    <tr>\n",
       "      <th>...</th>\n",
       "      <td>...</td>\n",
       "      <td>...</td>\n",
       "      <td>...</td>\n",
       "      <td>...</td>\n",
       "      <td>...</td>\n",
       "      <td>...</td>\n",
       "      <td>...</td>\n",
       "      <td>...</td>\n",
       "      <td>...</td>\n",
       "    </tr>\n",
       "    <tr>\n",
       "      <th>81735</th>\n",
       "      <td>35228177</td>\n",
       "      <td>/m/0j7hxnt</td>\n",
       "      <td>Mermaids: The Body Found</td>\n",
       "      <td>2011-03-19</td>\n",
       "      <td>NaN</td>\n",
       "      <td>120.0</td>\n",
       "      <td>{\"/m/02h40lc\": \"English Language\"}</td>\n",
       "      <td>{\"/m/09c7w0\": \"United States of America\"}</td>\n",
       "      <td>{\"/m/07s9rl0\": \"Drama\"}</td>\n",
       "    </tr>\n",
       "    <tr>\n",
       "      <th>81736</th>\n",
       "      <td>34980460</td>\n",
       "      <td>/m/0g4pl34</td>\n",
       "      <td>Knuckle</td>\n",
       "      <td>2011-01-21</td>\n",
       "      <td>NaN</td>\n",
       "      <td>96.0</td>\n",
       "      <td>{\"/m/02h40lc\": \"English Language\"}</td>\n",
       "      <td>{\"/m/03rt9\": \"Ireland\", \"/m/07ssc\": \"United Ki...</td>\n",
       "      <td>{\"/m/03bxz7\": \"Biographical film\", \"/m/07s9rl0...</td>\n",
       "    </tr>\n",
       "    <tr>\n",
       "      <th>81737</th>\n",
       "      <td>9971909</td>\n",
       "      <td>/m/02pygw1</td>\n",
       "      <td>Another Nice Mess</td>\n",
       "      <td>1972-09-22</td>\n",
       "      <td>NaN</td>\n",
       "      <td>66.0</td>\n",
       "      <td>{\"/m/02h40lc\": \"English Language\"}</td>\n",
       "      <td>{\"/m/09c7w0\": \"United States of America\"}</td>\n",
       "      <td>{\"/m/06nbt\": \"Satire\", \"/m/01z4y\": \"Comedy\"}</td>\n",
       "    </tr>\n",
       "    <tr>\n",
       "      <th>81738</th>\n",
       "      <td>913762</td>\n",
       "      <td>/m/03pcrp</td>\n",
       "      <td>The Super Dimension Fortress Macross II: Lover...</td>\n",
       "      <td>1992-05-21</td>\n",
       "      <td>NaN</td>\n",
       "      <td>150.0</td>\n",
       "      <td>{\"/m/03_9r\": \"Japanese Language\"}</td>\n",
       "      <td>{\"/m/03_3d\": \"Japan\"}</td>\n",
       "      <td>{\"/m/06n90\": \"Science Fiction\", \"/m/0gw5n2f\": ...</td>\n",
       "    </tr>\n",
       "    <tr>\n",
       "      <th>81739</th>\n",
       "      <td>12476867</td>\n",
       "      <td>/m/02w7zz8</td>\n",
       "      <td>Spliced</td>\n",
       "      <td>2002</td>\n",
       "      <td>NaN</td>\n",
       "      <td>86.0</td>\n",
       "      <td>{\"/m/02h40lc\": \"English Language\"}</td>\n",
       "      <td>{\"/m/0d060g\": \"Canada\"}</td>\n",
       "      <td>{\"/m/01jfsb\": \"Thriller\", \"/m/03npn\": \"Horror\"...</td>\n",
       "    </tr>\n",
       "  </tbody>\n",
       "</table>\n",
       "<p>81740 rows × 9 columns</p>\n",
       "</div>"
      ],
      "text/plain": [
       "         975900   /m/03vyhn  \\\n",
       "0       3196793   /m/08yl5d   \n",
       "1      28463795  /m/0crgdbh   \n",
       "2       9363483  /m/0285_cd   \n",
       "3        261236   /m/01mrr1   \n",
       "4      13696889  /m/03cfc81   \n",
       "...         ...         ...   \n",
       "81735  35228177  /m/0j7hxnt   \n",
       "81736  34980460  /m/0g4pl34   \n",
       "81737   9971909  /m/02pygw1   \n",
       "81738    913762   /m/03pcrp   \n",
       "81739  12476867  /m/02w7zz8   \n",
       "\n",
       "                                          Ghosts of Mars  2001-08-24  \\\n",
       "0      Getting Away with Murder: The JonBenét Ramsey ...  2000-02-16   \n",
       "1                                            Brun bitter        1988   \n",
       "2                                       White Of The Eye        1987   \n",
       "3                                      A Woman in Flames        1983   \n",
       "4                                          The Gangsters  1913-05-29   \n",
       "...                                                  ...         ...   \n",
       "81735                           Mermaids: The Body Found  2011-03-19   \n",
       "81736                                            Knuckle  2011-01-21   \n",
       "81737                                  Another Nice Mess  1972-09-22   \n",
       "81738  The Super Dimension Fortress Macross II: Lover...  1992-05-21   \n",
       "81739                                            Spliced        2002   \n",
       "\n",
       "       14010832   98.0                 {\"/m/02h40lc\": \"English Language\"}  \\\n",
       "0           NaN   95.0                 {\"/m/02h40lc\": \"English Language\"}   \n",
       "1           NaN   83.0                 {\"/m/05f_3\": \"Norwegian Language\"}   \n",
       "2           NaN  110.0                 {\"/m/02h40lc\": \"English Language\"}   \n",
       "3           NaN  106.0                  {\"/m/04306rv\": \"German Language\"}   \n",
       "4           NaN   35.0  {\"/m/06ppq\": \"Silent film\", \"/m/02h40lc\": \"Eng...   \n",
       "...         ...    ...                                                ...   \n",
       "81735       NaN  120.0                 {\"/m/02h40lc\": \"English Language\"}   \n",
       "81736       NaN   96.0                 {\"/m/02h40lc\": \"English Language\"}   \n",
       "81737       NaN   66.0                 {\"/m/02h40lc\": \"English Language\"}   \n",
       "81738       NaN  150.0                  {\"/m/03_9r\": \"Japanese Language\"}   \n",
       "81739       NaN   86.0                 {\"/m/02h40lc\": \"English Language\"}   \n",
       "\n",
       "               {\"/m/09c7w0\": \"United States of America\"}  \\\n",
       "0              {\"/m/09c7w0\": \"United States of America\"}   \n",
       "1                                 {\"/m/05b4w\": \"Norway\"}   \n",
       "2                         {\"/m/07ssc\": \"United Kingdom\"}   \n",
       "3                                {\"/m/0345h\": \"Germany\"}   \n",
       "4              {\"/m/09c7w0\": \"United States of America\"}   \n",
       "...                                                  ...   \n",
       "81735          {\"/m/09c7w0\": \"United States of America\"}   \n",
       "81736  {\"/m/03rt9\": \"Ireland\", \"/m/07ssc\": \"United Ki...   \n",
       "81737          {\"/m/09c7w0\": \"United States of America\"}   \n",
       "81738                              {\"/m/03_3d\": \"Japan\"}   \n",
       "81739                            {\"/m/0d060g\": \"Canada\"}   \n",
       "\n",
       "      {\"/m/01jfsb\": \"Thriller\", \"/m/06n90\": \"Science Fiction\", \"/m/03npn\": \"Horror\", \"/m/03k9fj\": \"Adventure\", \"/m/0fdjb\": \"Supernatural\", \"/m/02kdv5l\": \"Action\", \"/m/09zvmj\": \"Space western\"}  \n",
       "0      {\"/m/02n4kr\": \"Mystery\", \"/m/03bxz7\": \"Biograp...                                                                                                                                          \n",
       "1      {\"/m/0lsxr\": \"Crime Fiction\", \"/m/07s9rl0\": \"D...                                                                                                                                          \n",
       "2      {\"/m/01jfsb\": \"Thriller\", \"/m/0glj9q\": \"Erotic...                                                                                                                                          \n",
       "3                                {\"/m/07s9rl0\": \"Drama\"}                                                                                                                                          \n",
       "4      {\"/m/02hmvc\": \"Short Film\", \"/m/06ppq\": \"Silen...                                                                                                                                          \n",
       "...                                                  ...                                                                                                                                          \n",
       "81735                            {\"/m/07s9rl0\": \"Drama\"}                                                                                                                                          \n",
       "81736  {\"/m/03bxz7\": \"Biographical film\", \"/m/07s9rl0...                                                                                                                                          \n",
       "81737       {\"/m/06nbt\": \"Satire\", \"/m/01z4y\": \"Comedy\"}                                                                                                                                          \n",
       "81738  {\"/m/06n90\": \"Science Fiction\", \"/m/0gw5n2f\": ...                                                                                                                                          \n",
       "81739  {\"/m/01jfsb\": \"Thriller\", \"/m/03npn\": \"Horror\"...                                                                                                                                          \n",
       "\n",
       "[81740 rows x 9 columns]"
      ]
     },
     "execution_count": 9,
     "metadata": {},
     "output_type": "execute_result"
    }
   ],
   "source": [
    "movie"
   ]
  },
  {
   "cell_type": "code",
   "execution_count": 5,
   "id": "84d77ed8-58ef-4717-aaf8-fa425639df40",
   "metadata": {},
   "outputs": [
    {
     "ename": "KeyError",
     "evalue": "'Movie_release_date'",
     "output_type": "error",
     "traceback": [
      "\u001b[1;31m---------------------------------------------------------------------------\u001b[0m",
      "\u001b[1;31mKeyError\u001b[0m                                  Traceback (most recent call last)",
      "File \u001b[1;32m~\\anaconda3\\envs\\ada\\lib\\site-packages\\pandas\\core\\indexes\\base.py:3621\u001b[0m, in \u001b[0;36mIndex.get_loc\u001b[1;34m(self, key, method, tolerance)\u001b[0m\n\u001b[0;32m   3620\u001b[0m \u001b[38;5;28;01mtry\u001b[39;00m:\n\u001b[1;32m-> 3621\u001b[0m     \u001b[38;5;28;01mreturn\u001b[39;00m \u001b[38;5;28;43mself\u001b[39;49m\u001b[38;5;241;43m.\u001b[39;49m\u001b[43m_engine\u001b[49m\u001b[38;5;241;43m.\u001b[39;49m\u001b[43mget_loc\u001b[49m\u001b[43m(\u001b[49m\u001b[43mcasted_key\u001b[49m\u001b[43m)\u001b[49m\n\u001b[0;32m   3622\u001b[0m \u001b[38;5;28;01mexcept\u001b[39;00m \u001b[38;5;167;01mKeyError\u001b[39;00m \u001b[38;5;28;01mas\u001b[39;00m err:\n",
      "File \u001b[1;32m~\\anaconda3\\envs\\ada\\lib\\site-packages\\pandas\\_libs\\index.pyx:136\u001b[0m, in \u001b[0;36mpandas._libs.index.IndexEngine.get_loc\u001b[1;34m()\u001b[0m\n",
      "File \u001b[1;32m~\\anaconda3\\envs\\ada\\lib\\site-packages\\pandas\\_libs\\index.pyx:163\u001b[0m, in \u001b[0;36mpandas._libs.index.IndexEngine.get_loc\u001b[1;34m()\u001b[0m\n",
      "File \u001b[1;32mpandas\\_libs\\hashtable_class_helper.pxi:5198\u001b[0m, in \u001b[0;36mpandas._libs.hashtable.PyObjectHashTable.get_item\u001b[1;34m()\u001b[0m\n",
      "File \u001b[1;32mpandas\\_libs\\hashtable_class_helper.pxi:5206\u001b[0m, in \u001b[0;36mpandas._libs.hashtable.PyObjectHashTable.get_item\u001b[1;34m()\u001b[0m\n",
      "\u001b[1;31mKeyError\u001b[0m: 'Movie_release_date'",
      "\nThe above exception was the direct cause of the following exception:\n",
      "\u001b[1;31mKeyError\u001b[0m                                  Traceback (most recent call last)",
      "Input \u001b[1;32mIn [5]\u001b[0m, in \u001b[0;36m<cell line: 2>\u001b[1;34m()\u001b[0m\n\u001b[0;32m      1\u001b[0m \u001b[38;5;66;03m#move release dates and actor birth dates to datetime format and keep only release year\u001b[39;00m\n\u001b[1;32m----> 2\u001b[0m character\u001b[38;5;241m.\u001b[39mMovie_release_date \u001b[38;5;241m=\u001b[39m pd\u001b[38;5;241m.\u001b[39mto_datetime(\u001b[43mcharacter\u001b[49m\u001b[43m[\u001b[49m\u001b[38;5;124;43m'\u001b[39;49m\u001b[38;5;124;43mMovie_release_date\u001b[39;49m\u001b[38;5;124;43m'\u001b[39;49m\u001b[43m]\u001b[49m,\n\u001b[0;32m      3\u001b[0m                                               errors\u001b[38;5;241m=\u001b[39m\u001b[38;5;124m'\u001b[39m\u001b[38;5;124mcoerce\u001b[39m\u001b[38;5;124m'\u001b[39m)\u001b[38;5;241m.\u001b[39mdt\u001b[38;5;241m.\u001b[39myear\n\u001b[0;32m      5\u001b[0m movie\u001b[38;5;241m.\u001b[39mMovie_release_date \u001b[38;5;241m=\u001b[39m pd\u001b[38;5;241m.\u001b[39mto_datetime(movie[\u001b[38;5;124m'\u001b[39m\u001b[38;5;124mMovie_release_date\u001b[39m\u001b[38;5;124m'\u001b[39m],\n\u001b[0;32m      6\u001b[0m                                               errors\u001b[38;5;241m=\u001b[39m\u001b[38;5;124m'\u001b[39m\u001b[38;5;124mcoerce\u001b[39m\u001b[38;5;124m'\u001b[39m)\u001b[38;5;241m.\u001b[39mdt\u001b[38;5;241m.\u001b[39myear\n",
      "File \u001b[1;32m~\\anaconda3\\envs\\ada\\lib\\site-packages\\pandas\\core\\frame.py:3505\u001b[0m, in \u001b[0;36mDataFrame.__getitem__\u001b[1;34m(self, key)\u001b[0m\n\u001b[0;32m   3503\u001b[0m \u001b[38;5;28;01mif\u001b[39;00m \u001b[38;5;28mself\u001b[39m\u001b[38;5;241m.\u001b[39mcolumns\u001b[38;5;241m.\u001b[39mnlevels \u001b[38;5;241m>\u001b[39m \u001b[38;5;241m1\u001b[39m:\n\u001b[0;32m   3504\u001b[0m     \u001b[38;5;28;01mreturn\u001b[39;00m \u001b[38;5;28mself\u001b[39m\u001b[38;5;241m.\u001b[39m_getitem_multilevel(key)\n\u001b[1;32m-> 3505\u001b[0m indexer \u001b[38;5;241m=\u001b[39m \u001b[38;5;28;43mself\u001b[39;49m\u001b[38;5;241;43m.\u001b[39;49m\u001b[43mcolumns\u001b[49m\u001b[38;5;241;43m.\u001b[39;49m\u001b[43mget_loc\u001b[49m\u001b[43m(\u001b[49m\u001b[43mkey\u001b[49m\u001b[43m)\u001b[49m\n\u001b[0;32m   3506\u001b[0m \u001b[38;5;28;01mif\u001b[39;00m is_integer(indexer):\n\u001b[0;32m   3507\u001b[0m     indexer \u001b[38;5;241m=\u001b[39m [indexer]\n",
      "File \u001b[1;32m~\\anaconda3\\envs\\ada\\lib\\site-packages\\pandas\\core\\indexes\\base.py:3623\u001b[0m, in \u001b[0;36mIndex.get_loc\u001b[1;34m(self, key, method, tolerance)\u001b[0m\n\u001b[0;32m   3621\u001b[0m     \u001b[38;5;28;01mreturn\u001b[39;00m \u001b[38;5;28mself\u001b[39m\u001b[38;5;241m.\u001b[39m_engine\u001b[38;5;241m.\u001b[39mget_loc(casted_key)\n\u001b[0;32m   3622\u001b[0m \u001b[38;5;28;01mexcept\u001b[39;00m \u001b[38;5;167;01mKeyError\u001b[39;00m \u001b[38;5;28;01mas\u001b[39;00m err:\n\u001b[1;32m-> 3623\u001b[0m     \u001b[38;5;28;01mraise\u001b[39;00m \u001b[38;5;167;01mKeyError\u001b[39;00m(key) \u001b[38;5;28;01mfrom\u001b[39;00m \u001b[38;5;21;01merr\u001b[39;00m\n\u001b[0;32m   3624\u001b[0m \u001b[38;5;28;01mexcept\u001b[39;00m \u001b[38;5;167;01mTypeError\u001b[39;00m:\n\u001b[0;32m   3625\u001b[0m     \u001b[38;5;66;03m# If we have a listlike key, _check_indexing_error will raise\u001b[39;00m\n\u001b[0;32m   3626\u001b[0m     \u001b[38;5;66;03m#  InvalidIndexError. Otherwise we fall through and re-raise\u001b[39;00m\n\u001b[0;32m   3627\u001b[0m     \u001b[38;5;66;03m#  the TypeError.\u001b[39;00m\n\u001b[0;32m   3628\u001b[0m     \u001b[38;5;28mself\u001b[39m\u001b[38;5;241m.\u001b[39m_check_indexing_error(key)\n",
      "\u001b[1;31mKeyError\u001b[0m: 'Movie_release_date'"
     ]
    }
   ],
   "source": [
    "#move release dates and actor birth dates to datetime format and keep only release year\n",
    "character.Movie_release_date = pd.to_datetime(character['Movie_release_date'],\n",
    "                                              errors='coerce').dt.year\n",
    "\n",
    "movie.Movie_release_date = pd.to_datetime(movie['Movie_release_date'],\n",
    "                                              errors='coerce').dt.year"
   ]
  },
  {
   "cell_type": "code",
   "execution_count": null,
   "id": "e1a7bd7d-6e7a-4229-b84d-efdb2c24fcfe",
   "metadata": {},
   "outputs": [],
   "source": [
    "#sort dataframes by ascending release year\n",
    "character.sort_values(by=['Movie_release_date'], ascending=True, inplace=True)\n",
    "\n",
    "movie.sort_values(by=['Movie_release_date'], ascending=True, inplace=True)"
   ]
  },
  {
   "cell_type": "code",
   "execution_count": null,
   "id": "b51a7b43-f6ac-4641-9213-7325b3149267",
   "metadata": {},
   "outputs": [],
   "source": [
    "#merge dataframes\n",
    "ds = pd.merge(movie,character)"
   ]
  },
  {
   "cell_type": "code",
   "execution_count": null,
   "id": "2e4e0398-423a-4f68-9e7c-02402724a201",
   "metadata": {},
   "outputs": [],
   "source": [
    "#find movies without box office and filter them out\n",
    "bad_ids = ds.loc[ds['Movie_box_office_revenue'].isnull()].index\n",
    "ds_filt = ds.drop(bad_ids)"
   ]
  },
  {
   "cell_type": "markdown",
   "id": "3ba4140a-73fd-485c-bc73-b4d50e9dbd45",
   "metadata": {},
   "source": [
    "## Preliminary results on the impact of one actor"
   ]
  },
  {
   "cell_type": "code",
   "execution_count": null,
   "id": "f9e37e50-61fd-4b46-8e54-6db02add285c",
   "metadata": {},
   "outputs": [],
   "source": [
    "#slice the character dataframe to get only Leonardo Di Caprio movies\n",
    "nc = pd.DataFrame(ds_filt.query(\"Actor_name == 'Leonardo DiCaprio'\")).reset_index(drop=True)"
   ]
  },
  {
   "cell_type": "code",
   "execution_count": null,
   "id": "f992ae4d-7f80-4220-88f0-ea7c63d946a2",
   "metadata": {},
   "outputs": [],
   "source": [
    "#number of movies Leonardo Di Caprio starred in\n",
    "print('Leonardo Di Caprio starred in ' + str(len(nc)) + ' movies')"
   ]
  },
  {
   "cell_type": "code",
   "execution_count": null,
   "id": "2026d915-d91c-444e-82ef-a3530c77f49b",
   "metadata": {},
   "outputs": [],
   "source": [
    "nc.head(3)"
   ]
  },
  {
   "cell_type": "markdown",
   "id": "772ff3d6-be45-476c-99eb-552287a8df47",
   "metadata": {},
   "source": [
    "As a preliminary analysis, we plot the distribution of box office revenues for Leonardo Di Caprio movies to see the type of distribution. From the histogram below, we observe that most of the movies have a low box office revenue (skewed distribution); the goal is to verify if there is a correlation between the 'experience' of the actor (number of times he has starred in the movie) and the revenue. "
   ]
  },
  {
   "cell_type": "markdown",
   "id": "1fa5b02a-eaf1-4b12-ad71-6cd25ba4caf1",
   "metadata": {},
   "source": [
    "From the box plot below it is possible to distinguish the median and the quartiles of the distribution. A couple of outliers make it difficult to visualize the distribution properly. To correctly read the data, we proceed to remove them."
   ]
  },
  {
   "cell_type": "code",
   "execution_count": null,
   "id": "8dd0c3a5-f71f-45ca-b293-77d3bf9638a8",
   "metadata": {},
   "outputs": [],
   "source": [
    "#plot distribution\n",
    "fig, ax = plt.subplots(1,2, figsize=(8,3), sharey = True)\n",
    "\n",
    "sbplt = ax[0]\n",
    "sbplt.hist(nc.Movie_box_office_revenue, bins=15, orientation='horizontal')\n",
    "sbplt.set_title('Histogram')\n",
    "\n",
    "sbplt = ax[1]\n",
    "sbplt.boxplot(nc.Movie_box_office_revenue)\n",
    "sbplt.set_title('Box plot')\n",
    "    \n",
    "fig.tight_layout()\n",
    "fig.text(0,0.3, \"Box office revenue [$]\", rotation = 90)\n",
    "plt.show()"
   ]
  },
  {
   "cell_type": "code",
   "execution_count": null,
   "id": "1dbcf1d5-0774-4291-a116-7a7387ecb492",
   "metadata": {},
   "outputs": [],
   "source": [
    "#remove outliers\n",
    "nc.query('Movie_box_office_revenue < 0.5e9', inplace=True)\n",
    "nc.reset_index(inplace=True, drop=True)\n",
    "print('The new number of movies considered is ' + str(len(nc)))"
   ]
  },
  {
   "cell_type": "markdown",
   "id": "3ece1318-aa99-431b-a99f-12473af3b176",
   "metadata": {},
   "source": [
    "In this case, the distribution is way more readable. Most of the movies are in the low box office part"
   ]
  },
  {
   "cell_type": "code",
   "execution_count": null,
   "id": "4760fceb-0806-4d2c-a09b-b29499200019",
   "metadata": {},
   "outputs": [],
   "source": [
    "#some stats\n",
    "print('The median is ' + str(np.median(nc.Movie_box_office_revenue)/1e6) + ' M$')\n",
    "print('The first quartile is ' + str(np.quantile(nc.Movie_box_office_revenue,0.25)/1e6) + ' M$')\n",
    "print('The third quartile is ' + str(np.quantile(nc.Movie_box_office_revenue,0.75)/1e6) + ' M$')"
   ]
  },
  {
   "cell_type": "code",
   "execution_count": null,
   "id": "bdaadfe5-a04c-4e08-ac6c-04e02c5248d3",
   "metadata": {},
   "outputs": [],
   "source": [
    "#plot again\n",
    "\n",
    "fig, ax = plt.subplots(1,2, figsize=(8,3), sharey = True)\n",
    "\n",
    "sbplt = ax[0]\n",
    "sbplt.hist(nc.Movie_box_office_revenue, bins=10, orientation='horizontal')\n",
    "sbplt.set_title('Histogram')\n",
    "\n",
    "sbplt = ax[1]\n",
    "sbplt.boxplot(nc.Movie_box_office_revenue)\n",
    "sbplt.set_title('Box plot')\n",
    "    \n",
    "fig.tight_layout()\n",
    "fig.text(0,0.3, \"Box office revenue\", rotation = 90)\n",
    "plt.show()"
   ]
  },
  {
   "cell_type": "markdown",
   "id": "55c29fb0-cd07-4270-aab2-3da9e1b954b6",
   "metadata": {},
   "source": [
    "### Actor's experience"
   ]
  },
  {
   "cell_type": "code",
   "execution_count": null,
   "id": "88c5709a-b712-430d-91bb-637b2f8022da",
   "metadata": {},
   "outputs": [],
   "source": [
    "#series with number of times the actor starred before (related to dataframe)\n",
    "#in reality there are more movies\n",
    "exp = np.zeros(len(nc)) \n",
    "t = 1\n",
    "for i in range(len(nc)):\n",
    "    exp[i] = t\n",
    "    t += 1"
   ]
  },
  {
   "cell_type": "code",
   "execution_count": null,
   "id": "5a773f92-d10b-4f6c-b59a-82768d0324f5",
   "metadata": {},
   "outputs": [],
   "source": [
    "nc['experience'] = exp #add to dataframe"
   ]
  },
  {
   "cell_type": "code",
   "execution_count": null,
   "id": "c0ab6aa2-e849-4610-91c4-1703f3f9373a",
   "metadata": {},
   "outputs": [],
   "source": [
    "#is there a correlation between experience and box office revenue??\n",
    "stats.pearsonr(nc['experience'],nc['Movie_box_office_revenue']) #pearson correlation"
   ]
  },
  {
   "cell_type": "code",
   "execution_count": null,
   "id": "4ecc081f-8b00-447a-9dc9-327377dc40fe",
   "metadata": {},
   "outputs": [],
   "source": [
    "stats.spearmanr(nc['experience'],nc['Movie_box_office_revenue'])"
   ]
  },
  {
   "cell_type": "markdown",
   "id": "16d9b256-7a9f-4fbc-ac4e-21e3a4bd1060",
   "metadata": {},
   "source": [
    "Applying the Pearson and Spearman relation, we obtain a positive correlation of **0.59** and **0.63**, respectively. This seems to lead to a link between experience and box office revenue."
   ]
  },
  {
   "cell_type": "code",
   "execution_count": null,
   "id": "b6202a24-fb1e-4c1c-9630-9ffee4f0e4ad",
   "metadata": {},
   "outputs": [],
   "source": [
    "#plot linear correlation\n",
    "sns.lmplot(x='experience',y='Movie_box_office_revenue', data=nc)\n",
    "plt.show()"
   ]
  },
  {
   "cell_type": "markdown",
   "id": "2f0bf1e2-cfad-4839-b041-07b40ad6537d",
   "metadata": {},
   "source": [
    "### Regression analysis"
   ]
  },
  {
   "cell_type": "markdown",
   "id": "bf00d335-dcda-4ead-b397-0a094db7f30c",
   "metadata": {},
   "source": [
    "To understand a bit better the influence of the other parameters on the box office revenue, a model of the revenue based on multiple factors can be tested. The factors taken into consideration are:\n",
    "- Movie runtime;\n",
    "- Experience."
   ]
  },
  {
   "cell_type": "code",
   "execution_count": null,
   "id": "67898aa1-fd16-4b70-a1a5-59b2b781ee20",
   "metadata": {},
   "outputs": [],
   "source": [
    "#copy dataframe\n",
    "nc_reg = nc.copy()"
   ]
  },
  {
   "cell_type": "code",
   "execution_count": null,
   "id": "1df458a5-dfa2-4289-94a5-c242b1296e02",
   "metadata": {},
   "outputs": [],
   "source": [
    "#logarithmic scaling of continuous variables\n",
    "nc_reg['Movie_box_office_revenue'] = np.log(nc_reg['Movie_box_office_revenue'])\n",
    "#nc_reg['Movie_runtime'] = np.log(nc_reg['Movie_runtime'])\n",
    "#nc_reg['experience'] = np.log(nc_reg['experience'])"
   ]
  },
  {
   "cell_type": "code",
   "execution_count": null,
   "id": "383d6667-6f3a-4031-884b-1850bc168910",
   "metadata": {},
   "outputs": [],
   "source": [
    "#standardize continuous variables\n",
    "#nc_reg['Movie_box_office_revenue'] = (nc_reg['Movie_box_office_revenue'] - nc_reg['Movie_box_office_revenue'].mean())/nc_reg['Movie_box_office_revenue'].std()\n",
    "#nc['Movie_release_date'] = (nc['Movie_release_date'] - nc['Movie_release_date'].mean())/nc['Movie_release_date'].std()\n",
    "#nc['Actor_age_at_movie_release'] = (nc['Actor_age_at_movie_release'] - nc['Actor_age_at_movie_release'].mean())/nc['Actor_age_at_movie_release'].std()\n",
    "#nc['experience'] = (nc['experience'] - nc['experience'].mean())/nc['experience'].std()"
   ]
  },
  {
   "cell_type": "code",
   "execution_count": null,
   "id": "6267c5b7-11c4-4cd1-8b4f-7ff7817558b7",
   "metadata": {},
   "outputs": [],
   "source": [
    "mod = smf.ols(formula='Movie_box_office_revenue ~  Movie_runtime +  experience', data=nc_reg)\n",
    "\n",
    "res = mod.fit()\n",
    "print(res.summary())"
   ]
  },
  {
   "cell_type": "markdown",
   "id": "8cbefe86-aa2a-4330-b78f-eca6683a13b8",
   "metadata": {},
   "source": [
    "From the results, it is possible to get interesting information. The R squared is **0.52**, meaning more than half of the variance is explained. The movie runtime (**C=0.03**) and the experience of the actor (**C=0.174**) positively influence the revenue, even if only the latter is statistically significant (**P < 5%**).\n",
    "A confounder that could naively lead us to overestimate the statistical significance of the actor's experience is inflation. Indeed, over the years the value of money changes; for a proper evaluation, an inflation correction has to be done."
   ]
  },
  {
   "cell_type": "code",
   "execution_count": null,
   "id": "3336486f-101f-4f82-aea8-ec5e9f98e6cf",
   "metadata": {},
   "outputs": [],
   "source": [
    "#take inflation into account\n",
    "#https://liberalarts.oregonstate.edu/spp/polisci/faculty-staff/robert-sahr/inflation-conversion-factors-years-1774-estimated-2024-dollars-recent-years/individual-year-conversion-factor-table-0\n",
    "cf = pd.read_csv('../data/inflation_correction.csv')\n",
    "cf.query('Year > 1969', inplace=True)\n",
    "cf.reset_index(drop=True, inplace=True)\n",
    "#cf['Year'] = pd.to_datetime(pd.Series(cf.Year)).dt.year #convert to datetime format"
   ]
  },
  {
   "cell_type": "code",
   "execution_count": null,
   "id": "998a1ba2-b371-4c17-a387-4c7efeeeb825",
   "metadata": {},
   "outputs": [],
   "source": [
    "cf.head(3)"
   ]
  },
  {
   "cell_type": "code",
   "execution_count": null,
   "id": "d1a28c96-13b7-4dca-a826-1d60217928c6",
   "metadata": {},
   "outputs": [],
   "source": [
    "#function to compute inflation for a certain year\n",
    "def infl(year):\n",
    "    inf = cf['CF'][cf['Year'] == year]\n",
    "    return inf"
   ]
  },
  {
   "cell_type": "code",
   "execution_count": null,
   "id": "5c1ff1f6-f6e7-4b88-887c-728d46b17d63",
   "metadata": {},
   "outputs": [],
   "source": [
    "#compute inflation for dataframe rows and add column\n",
    "infl_corr = np.zeros(len(nc))\n",
    "for i in range(len(nc)):\n",
    "    infl_corr[i] = infl(nc['Movie_release_date'][i])\n",
    "nc['CF'] = infl_corr"
   ]
  },
  {
   "cell_type": "code",
   "execution_count": null,
   "id": "55159c64-f9f8-477f-8f9d-05d55fa7f178",
   "metadata": {},
   "outputs": [],
   "source": [
    "#add inflation corrected box office revenue\n",
    "nc['inflation_revenue'] = nc['Movie_box_office_revenue']/nc['CF']"
   ]
  },
  {
   "cell_type": "code",
   "execution_count": null,
   "id": "86274d39-e4f0-4587-98d9-486e2f1fa21a",
   "metadata": {},
   "outputs": [],
   "source": [
    "nc.head(3)"
   ]
  },
  {
   "cell_type": "code",
   "execution_count": null,
   "id": "ea9ac845-c71d-428b-80a7-c926900fa1d7",
   "metadata": {},
   "outputs": [],
   "source": [
    "#compare the new revenues\n",
    "plt.plot(nc.Movie_release_date, nc.inflation_revenue/1e6, label='Inflation correction')\n",
    "plt.plot(nc.Movie_release_date, nc.Movie_box_office_revenue/1e6, label='Real revenue')\n",
    "plt.legend()\n",
    "plt.xlabel('Year')\n",
    "plt.ylabel('Boc office revenue [M$]')\n",
    "plt.show()"
   ]
  },
  {
   "cell_type": "code",
   "execution_count": null,
   "id": "6cd2e526-8c55-4b83-9db9-ba6728d3ab51",
   "metadata": {},
   "outputs": [],
   "source": [
    "#run the least mean squares again\n",
    "nc_reg2 = nc.copy()\n",
    "#logarithmic scaling of continuous variables\n",
    "nc_reg2['inflation_revenue'] = np.log(nc_reg2['inflation_revenue'])\n",
    "#nc_reg2['Movie_runtime'] = np.log(nc_reg2['Movie_runtime'])\n",
    "#nc_reg2['Movie_release_date'] = np.log(nc_reg2['Movie_release_date'])\n",
    "#nc_reg2['experience'] = np.log(nc_reg2['experience'])"
   ]
  },
  {
   "cell_type": "code",
   "execution_count": null,
   "id": "c9976348-2a99-4a6c-bed6-2a95a172d315",
   "metadata": {},
   "outputs": [],
   "source": [
    "mod = smf.ols(formula='inflation_revenue ~ Movie_runtime + experience', data=nc_reg2)\n",
    "\n",
    "res = mod.fit()\n",
    "print(res.summary())"
   ]
  },
  {
   "cell_type": "markdown",
   "id": "7b67cbf9-e0f0-45eb-982c-95780eb76e69",
   "metadata": {},
   "source": [
    "From the new results above, it is possible to confirm the statistical significance of the experience on the box office (**P < 5%**), even if its influence has decreased (**C=0.148**), due to inflation."
   ]
  }
 ],
 "metadata": {
  "kernelspec": {
   "display_name": "Python [conda env:ada] *",
   "language": "python",
   "name": "conda-env-ada-py"
  },
  "language_info": {
   "codemirror_mode": {
    "name": "ipython",
    "version": 3
   },
   "file_extension": ".py",
   "mimetype": "text/x-python",
   "name": "python",
   "nbconvert_exporter": "python",
   "pygments_lexer": "ipython3",
   "version": "3.8.13"
  },
  "vscode": {
   "interpreter": {
    "hash": "a68e92f65f68169dc5f369cba83c8ddd919e7e9c17bd6e8fa314ba31a4920aed"
   }
  }
 },
 "nbformat": 4,
 "nbformat_minor": 5
}
