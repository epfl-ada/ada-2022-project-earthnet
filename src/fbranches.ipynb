{
 "cells": [
  {
   "cell_type": "markdown",
   "id": "e92acc4e-cf70-4f5b-94e9-6eab993880e0",
   "metadata": {
    "tags": []
   },
   "source": [
    "## imports & file load"
   ]
  },
  {
   "cell_type": "code",
   "execution_count": 1,
   "id": "c2a77b29-793b-48e2-a3bf-c6e24d0fa40d",
   "metadata": {},
   "outputs": [],
   "source": [
    "import pandas as pd\n",
    "import numpy as np\n",
    "import matplotlib.pyplot as plt\n",
    "import matplotlib.patheffects as pe\n",
    "%matplotlib inline\n",
    "import seaborn as sns\n",
    "from scipy import stats\n",
    "import statsmodels.api as sm\n",
    "import re\n",
    "import warnings\n",
    "warnings.filterwarnings('ignore')\n",
    "\n",
    "def minMaxScale(data, imposed_minimum = None, imposed_maximum = None, fit = False): #min max scaling\n",
    "    mini = min(data)\n",
    "    maxi = max(data)\n",
    "    \n",
    "    if (imposed_minimum != None): mini = imposed_minimum\n",
    "    if (imposed_maximum != None): maxi = imposed_maximum\n",
    "    if (fit == False):\n",
    "        return (data - mini)/(maxi - mini)\n",
    "    else: \n",
    "        return [mini, maxi]"
   ]
  },
  {
   "cell_type": "code",
   "execution_count": 2,
   "id": "ff6a6fb2-2635-4efc-afda-b9d597cf992e",
   "metadata": {},
   "outputs": [],
   "source": [
    "#importing our clean data\n",
    "data = pd.read_csv('../data/data.csv', index_col = 0)"
   ]
  },
  {
   "cell_type": "code",
   "execution_count": 3,
   "id": "20bdd308-1d4c-4980-9dc2-58c9489a6ca3",
   "metadata": {},
   "outputs": [
    {
     "data": {
      "text/html": [
       "<div>\n",
       "<style scoped>\n",
       "    .dataframe tbody tr th:only-of-type {\n",
       "        vertical-align: middle;\n",
       "    }\n",
       "\n",
       "    .dataframe tbody tr th {\n",
       "        vertical-align: top;\n",
       "    }\n",
       "\n",
       "    .dataframe thead th {\n",
       "        text-align: right;\n",
       "    }\n",
       "</style>\n",
       "<table border=\"1\" class=\"dataframe\">\n",
       "  <thead>\n",
       "    <tr style=\"text-align: right;\">\n",
       "      <th></th>\n",
       "      <th>Actor_name</th>\n",
       "      <th>Actor_gender</th>\n",
       "      <th>Actor_date_of_birth</th>\n",
       "      <th>Movie_name</th>\n",
       "      <th>Movie_release_date</th>\n",
       "      <th>Movie_box_office_revenue</th>\n",
       "      <th>Movie_runtime</th>\n",
       "      <th>averageRating</th>\n",
       "      <th>numVotes</th>\n",
       "      <th>genres</th>\n",
       "      <th>countries</th>\n",
       "      <th>box_office_adj</th>\n",
       "    </tr>\n",
       "  </thead>\n",
       "  <tbody>\n",
       "    <tr>\n",
       "      <th>40554</th>\n",
       "      <td>Seth Green</td>\n",
       "      <td>M</td>\n",
       "      <td>1974-02-08</td>\n",
       "      <td>Idle Hands</td>\n",
       "      <td>1999.0</td>\n",
       "      <td>4152230.0</td>\n",
       "      <td>92.0</td>\n",
       "      <td>6.925</td>\n",
       "      <td>44932</td>\n",
       "      <td>[' \"Thriller\"', ' \"Horror\"', ' \"Comedy\"}']</td>\n",
       "      <td>[' \"United States of America\"}']</td>\n",
       "      <td>6.017725e+06</td>\n",
       "    </tr>\n",
       "  </tbody>\n",
       "</table>\n",
       "</div>"
      ],
      "text/plain": [
       "       Actor_name Actor_gender Actor_date_of_birth  Movie_name  \\\n",
       "40554  Seth Green            M          1974-02-08  Idle Hands   \n",
       "\n",
       "       Movie_release_date  Movie_box_office_revenue  Movie_runtime  \\\n",
       "40554              1999.0                 4152230.0           92.0   \n",
       "\n",
       "       averageRating  numVotes                                      genres  \\\n",
       "40554          6.925     44932  [' \"Thriller\"', ' \"Horror\"', ' \"Comedy\"}']   \n",
       "\n",
       "                              countries  box_office_adj  \n",
       "40554  [' \"United States of America\"}']    6.017725e+06  "
      ]
     },
     "metadata": {},
     "output_type": "display_data"
    }
   ],
   "source": [
    "display(data.sample())"
   ]
  },
  {
   "cell_type": "markdown",
   "id": "dc1a5f8d-e8ef-40ca-8848-0fd876b4643d",
   "metadata": {
    "jp-MarkdownHeadingCollapsed": true,
    "tags": []
   },
   "source": [
    "## actor metrics calculation & timeScores old star score values\n",
    "\n",
    "first we need to deflate the imdb ratings by the amount of votes they've gotten"
   ]
  },
  {
   "cell_type": "markdown",
   "id": "d14d6260-08ff-40fe-9379-c4e3ca82d56b",
   "metadata": {
    "jp-MarkdownHeadingCollapsed": true,
    "tags": []
   },
   "source": [
    "#### revenue rating appearances & old scores"
   ]
  },
  {
   "cell_type": "code",
   "execution_count": 4,
   "id": "ba0cb270-ec02-46d7-a1a5-288f02563873",
   "metadata": {},
   "outputs": [],
   "source": [
    "data['numVotes_factor'] = minMaxScale(np.log(data['numVotes']), 0)\n",
    "data['averageRating_adj'] =  data['averageRating']* data['numVotes_factor']"
   ]
  },
  {
   "cell_type": "code",
   "execution_count": 5,
   "id": "af6ef965-33c9-4eae-925f-ea725d0a542f",
   "metadata": {},
   "outputs": [],
   "source": [
    "data['actor'] = data[\"Actor_name\"].apply(lambda x : '_'.join(x.split())) #simplifying actor names\n",
    "\n",
    "actorMetrics = pd.DataFrame(data['actor'].drop_duplicates().reset_index(drop = True)) #creation of starscore dataf\n",
    "\n",
    "timeScores = pd.DataFrame(data['actor'].drop_duplicates().reset_index(drop = True))"
   ]
  },
  {
   "cell_type": "code",
   "execution_count": 6,
   "id": "226825bc-6a9f-450e-89ba-44a9e24f0d3b",
   "metadata": {},
   "outputs": [
    {
     "name": "stdout",
     "output_type": "stream",
     "text": [
      "0\n",
      "1\n",
      "0\n",
      "1\n"
     ]
    }
   ],
   "source": [
    "metrics_avg = { 'box_office_adj' : 'revenue_avg', 'averageRating_adj' : 'grade_avg'}\n",
    "metrics_sum = { 'box_office_adj' : 'revenue_sum', 'averageRating_adj' : 'grade_sum'}\n",
    "\n",
    "for idx, (key, value) in enumerate(metrics_avg.items()):\n",
    "    print(idx)\n",
    "    lists_per_actor = data.groupby('actor').apply(lambda x : np.mean(x[key])).reindex(\n",
    "        index = actorMetrics['actor'].values)\n",
    "    actorMetrics[value] = lists_per_actor.values\n",
    "       \n",
    "for idx, (key, value) in enumerate(metrics_sum.items()):\n",
    "    print(idx)\n",
    "    lists_per_actor = data.groupby('actor').apply(lambda x : sum(x[key])).reindex(\n",
    "        index = actorMetrics['actor'].values)\n",
    "    actorMetrics[value] = lists_per_actor.values\n",
    "    \n",
    "    \n",
    "appearances_per_actor = data.groupby('actor')['Movie_name'].count().reindex(\n",
    "    index = actorMetrics['actor'].values).reset_index(drop = True)\n",
    "actorMetrics['appearances'] = appearances_per_actor"
   ]
  },
  {
   "cell_type": "code",
   "execution_count": 7,
   "id": "28ca708c-e739-42e3-820a-af69394dc582",
   "metadata": {},
   "outputs": [],
   "source": [
    "longitudinal_interest_columns = {'box_office_adj': 'revenues',\n",
    "                                 'Movie_release_date': 'movie_years', 'averageRating_adj': 'ratings'}\n",
    "\n",
    "for idx, (key, value) in enumerate(longitudinal_interest_columns.items()):\n",
    "    \n",
    "    lists_per_actor = data.groupby('actor').apply(lambda x : pd.Series({key: x[key].values})).reindex(\n",
    "        index = timeScores['actor'].values)\n",
    "    timeScores[value] = lists_per_actor.values\n",
    "    \n",
    "#for col in longitudinal_interest_columns:\n",
    "#  per_month[col] = selected_T4_ds.groupby('date_transformed').apply(lambda x: pd.Series({col: x[col].values }))"
   ]
  },
  {
   "cell_type": "code",
   "execution_count": 8,
   "id": "9db10a7c-1032-4cb6-b1bb-6a989c18ea2e",
   "metadata": {},
   "outputs": [],
   "source": [
    "#to access a list :\n",
    "#star_scores.query('actor == \"Bruce_Willis\"')['cumulative_revenue'].tolist()[0]\n",
    "timeScores['cumulative_revenue'] = timeScores['revenues'].apply(lambda x : np.cumsum(x.tolist()))\n",
    "timeScores['cumulative_ratings'] = timeScores['ratings'].apply(lambda x : np.cumsum(x.tolist()))"
   ]
  },
  {
   "cell_type": "markdown",
   "id": "92883759-b400-4b13-8173-8d0481c1f326",
   "metadata": {
    "tags": []
   },
   "source": [
    "Example"
   ]
  },
  {
   "cell_type": "code",
   "execution_count": 9,
   "id": "a7d4d1a0-b8a2-4617-b047-4e19146ec3bc",
   "metadata": {},
   "outputs": [
    {
     "data": {
      "text/html": [
       "<div>\n",
       "<style scoped>\n",
       "    .dataframe tbody tr th:only-of-type {\n",
       "        vertical-align: middle;\n",
       "    }\n",
       "\n",
       "    .dataframe tbody tr th {\n",
       "        vertical-align: top;\n",
       "    }\n",
       "\n",
       "    .dataframe thead th {\n",
       "        text-align: right;\n",
       "    }\n",
       "</style>\n",
       "<table border=\"1\" class=\"dataframe\">\n",
       "  <thead>\n",
       "    <tr style=\"text-align: right;\">\n",
       "      <th></th>\n",
       "      <th>actor</th>\n",
       "      <th>revenues</th>\n",
       "      <th>movie_years</th>\n",
       "      <th>ratings</th>\n",
       "      <th>cumulative_revenue</th>\n",
       "      <th>cumulative_ratings</th>\n",
       "    </tr>\n",
       "  </thead>\n",
       "  <tbody>\n",
       "    <tr>\n",
       "      <th>6221</th>\n",
       "      <td>Bruce_Willis</td>\n",
       "      <td>[134943125.0, 83663223.40425533, 287281542.857...</td>\n",
       "      <td>[1982.0, 1987.0, 1988.0, 1988.0, 1989.0, 1989....</td>\n",
       "      <td>[5.234449774801497, 4.962270978137284, 6.85023...</td>\n",
       "      <td>[134943125.0, 218606348.40425533, 505887891.26...</td>\n",
       "      <td>[5.234449774801497, 10.19672075293878, 17.0469...</td>\n",
       "    </tr>\n",
       "  </tbody>\n",
       "</table>\n",
       "</div>"
      ],
      "text/plain": [
       "             actor                                           revenues  \\\n",
       "6221  Bruce_Willis  [134943125.0, 83663223.40425533, 287281542.857...   \n",
       "\n",
       "                                            movie_years  \\\n",
       "6221  [1982.0, 1987.0, 1988.0, 1988.0, 1989.0, 1989....   \n",
       "\n",
       "                                                ratings  \\\n",
       "6221  [5.234449774801497, 4.962270978137284, 6.85023...   \n",
       "\n",
       "                                     cumulative_revenue  \\\n",
       "6221  [134943125.0, 218606348.40425533, 505887891.26...   \n",
       "\n",
       "                                     cumulative_ratings  \n",
       "6221  [5.234449774801497, 10.19672075293878, 17.0469...  "
      ]
     },
     "execution_count": 9,
     "metadata": {},
     "output_type": "execute_result"
    }
   ],
   "source": [
    "timeScores.query('actor == \"Bruce_Willis\"')"
   ]
  },
  {
   "cell_type": "code",
   "execution_count": 10,
   "id": "4f4f30b2-40b5-43ad-924e-030f52597d48",
   "metadata": {},
   "outputs": [],
   "source": [
    "timeScores['star_score'] = timeScores.apply(lambda x : np.log(x['cumulative_revenue'] * x['cumulative_ratings']),\n",
    "                                            axis = 1)"
   ]
  },
  {
   "cell_type": "code",
   "execution_count": 11,
   "id": "734fd9cd-bb7c-4222-8cc2-d3de153201fe",
   "metadata": {},
   "outputs": [
    {
     "data": {
      "text/plain": [
       "array([20.37562569, 21.52484935, 22.87779702, 23.16592681, 24.12066325,\n",
       "       24.26186786, 24.43932385, 24.56774033, 25.03784568, 25.2167668 ,\n",
       "       25.30309363, 25.38607554, 25.46254964, 25.68328199, 25.77828745,\n",
       "       26.036364  , 26.09157519, 26.17052271, 26.23243044, 26.31510454,\n",
       "       26.5161436 , 26.64345161, 26.91925832, 27.00653395, 27.0804974 ,\n",
       "       27.11396059, 27.16636472, 27.40796109, 27.51062805, 27.57391951,\n",
       "       27.63694881, 27.68006898, 27.71417254, 27.74477298, 27.79129007,\n",
       "       27.86342092, 27.88950847, 27.98411682, 27.99370224, 28.03477429,\n",
       "       28.08933249, 28.11001812, 28.14921902, 28.18301391, 28.25491294,\n",
       "       28.27493007, 28.30365168, 28.38355376, 28.41081851, 28.43201317,\n",
       "       28.45794694, 28.47418312, 28.51160685, 28.53836884, 28.57960625,\n",
       "       28.63199162, 28.65012713, 28.68002949, 28.71376861, 28.76268324])"
      ]
     },
     "execution_count": 11,
     "metadata": {},
     "output_type": "execute_result"
    }
   ],
   "source": [
    "timeScores.query('actor == \"Bruce_Willis\"').star_score.tolist()[0]"
   ]
  },
  {
   "cell_type": "markdown",
   "id": "26d53259-2b7e-4bd5-9b32-b5b024e85081",
   "metadata": {},
   "source": [
    "The formula for the star score is given below.\n",
    "\n",
    "$star\\ score = log\\left(\\overline{revenue} \\cdot \\overline{ratings_{normalized}}\\right)$\n",
    "\n",
    "To be noted that the star scored is defined on the 'career' of the actor, namely it is based on the average of the identified parameters over all his/her movies."
   ]
  },
  {
   "cell_type": "code",
   "execution_count": 13,
   "id": "f008e503-b5b2-4798-b043-c0ff091b14f6",
   "metadata": {},
   "outputs": [],
   "source": [
    "#log product = sum of log, we are using this because we have 2 very heavy tailed distributions\n",
    "\n",
    "timeScores['score_sum'] = np.log(actorMetrics['revenue_sum'] * actorMetrics['grade_sum']) \n",
    "epfl_scaler = minMaxScale(timeScores['score_sum'], fit = True)\n",
    "timeScores['EPFLsum'] = (minMaxScale(timeScores['score_sum']) * 5) + 1 #min max scaled to epfl standards\n",
    "\n",
    "timeScores['score_avg'] = np.log(actorMetrics['revenue_avg'] * actorMetrics['grade_avg'])\n",
    "timeScores['EPFLavg'] = (minMaxScale(timeScores['score_avg']) * 5) + 1"
   ]
  },
  {
   "cell_type": "code",
   "execution_count": 14,
   "id": "1e95350e-7661-4af6-8259-00aa7ef598d7",
   "metadata": {},
   "outputs": [],
   "source": [
    "timeScores['EPFLsum_time'] = timeScores['star_score'].apply(\n",
    "    lambda x: (5 * minMaxScale(x, epfl_scaler[0], epfl_scaler[1])) + 1)"
   ]
  },
  {
   "cell_type": "code",
   "execution_count": 15,
   "id": "09c5a69f-da35-4221-b06b-ca17c4082de4",
   "metadata": {},
   "outputs": [
    {
     "data": {
      "text/plain": [
       "5.844767263785556"
      ]
     },
     "metadata": {},
     "output_type": "display_data"
    },
    {
     "data": {
      "text/plain": [
       "6221    5.844767\n",
       "Name: EPFLsum, dtype: float64"
      ]
     },
     "metadata": {},
     "output_type": "display_data"
    }
   ],
   "source": [
    "display(timeScores.query('actor == \"Bruce_Willis\"').EPFLsum_time.tolist()[0][-1],\n",
    "        timeScores.query('actor == \"Bruce_Willis\"')['EPFLsum'])"
   ]
  },
  {
   "cell_type": "markdown",
   "id": "f6d3f173-aff4-4a3c-b799-47cb28f04215",
   "metadata": {
    "jp-MarkdownHeadingCollapsed": true,
    "tags": []
   },
   "source": [
    "#### genre, country & tenure to put in actorMetrics"
   ]
  },
  {
   "cell_type": "markdown",
   "id": "48942bd7-bc0b-4830-990e-0424a0fae943",
   "metadata": {},
   "source": [
    "`Main genre per actor`"
   ]
  },
  {
   "cell_type": "code",
   "execution_count": 16,
   "id": "33e1e719-61f5-41e0-9310-4bf84e61283a",
   "metadata": {},
   "outputs": [],
   "source": [
    "# lets get better parse on genres \n",
    "data['genres_corrected'] = data['genres'].apply(lambda x: str(x).split('\"')[1::2])"
   ]
  },
  {
   "cell_type": "code",
   "execution_count": 31,
   "id": "c0defd7a-caec-4638-904e-fd80090e8219",
   "metadata": {},
   "outputs": [],
   "source": [
    "#list_to_join = data['genres_corrected'].values.tolist() #total genres not unique"
   ]
  },
  {
   "cell_type": "code",
   "execution_count": 18,
   "id": "9cf82f98-2a3f-4ae8-b931-f70012f4b585",
   "metadata": {},
   "outputs": [],
   "source": [
    "genres_per_actor = data.groupby('actor').apply(\n",
    "    lambda x :pd.Series({'genres': x['genres_corrected'].values})).reindex(index = timeScores['actor'].values)\n",
    "\n",
    "timeScores['genres'] = genres_per_actor.values"
   ]
  },
  {
   "cell_type": "code",
   "execution_count": 19,
   "id": "ffa6f03d-3b6c-4a64-987d-c653a10a241b",
   "metadata": {},
   "outputs": [],
   "source": [
    "genres_per_actor['genre_total'] = genres_per_actor['genres'].apply(lambda x : sum(x, [])).apply(\n",
    "    lambda x : ['NaN'] if len(x) == 0 else x)"
   ]
  },
  {
   "cell_type": "code",
   "execution_count": 20,
   "id": "06be28c7-f7da-439d-a11e-dbc3f61693ab",
   "metadata": {},
   "outputs": [],
   "source": [
    "genres_per_actor['count_values'] = genres_per_actor['genre_total'].apply(\n",
    "    lambda x : pd.DataFrame(pd.DataFrame({'gen' : x}).groupby(by = 'gen').size(), \n",
    "    columns = ['count']).sort_values(by = 'count', ascending = False)['count'].values)"
   ]
  },
  {
   "cell_type": "code",
   "execution_count": 21,
   "id": "dd1f01ae-7dc6-461e-b08e-2b5f9b86c522",
   "metadata": {},
   "outputs": [],
   "source": [
    "genres_per_actor['unique_genres_order'] = genres_per_actor['genre_total'].apply(\n",
    "    lambda x : pd.DataFrame(pd.DataFrame({'gen' : x}).groupby(by = 'gen').size(), \n",
    "    columns = ['count']).sort_values(by = 'count', ascending = False).index.tolist())"
   ]
  },
  {
   "cell_type": "code",
   "execution_count": 22,
   "id": "50309480-ef5a-4f94-a92f-7b6868aee0fb",
   "metadata": {},
   "outputs": [],
   "source": [
    "genres_per_actor['main'] = genres_per_actor['unique_genres_order'].apply(lambda x : x[0])\n",
    "genres_per_actor['secondary'] = genres_per_actor['unique_genres_order'].apply(\n",
    "    lambda x : x[1] if len(x) > 1 else None)"
   ]
  },
  {
   "cell_type": "code",
   "execution_count": 23,
   "id": "9fa2c615-a71d-4b3e-9d00-7e68f11485c8",
   "metadata": {},
   "outputs": [],
   "source": [
    "genres_to_merge = genres_per_actor.reset_index(drop = True)"
   ]
  },
  {
   "cell_type": "code",
   "execution_count": 24,
   "id": "a9fe1b0c-fc6d-42ff-a40c-e2db85b92294",
   "metadata": {},
   "outputs": [],
   "source": [
    "#train a decision tree on the best actors, or hand made labels to get more interesting genres than costume drama"
   ]
  },
  {
   "cell_type": "markdown",
   "id": "f749c9d9-7edf-4dad-bdfc-90bfd258c138",
   "metadata": {},
   "source": [
    "> tips for above : make group similar genres and reduce them"
   ]
  },
  {
   "cell_type": "markdown",
   "id": "eed8abc7-11ed-48ae-933b-5d50fe372185",
   "metadata": {},
   "source": [
    "> Main country per actor"
   ]
  },
  {
   "cell_type": "code",
   "execution_count": 32,
   "id": "aeb70f56-3da0-448b-ba5f-fa01112ce365",
   "metadata": {},
   "outputs": [],
   "source": [
    "data['countries_cor'] = data['countries'].apply(lambda x: str(x).split('\"')[1::2])"
   ]
  },
  {
   "cell_type": "code",
   "execution_count": 35,
   "id": "705ae04e-e85e-4988-b81a-6918c3e732dc",
   "metadata": {},
   "outputs": [],
   "source": [
    "countries_per_actor = data.groupby('actor').apply(\n",
    "    lambda x :pd.Series({'countries': x['countries_cor'].values})).reindex(index = timeScores['actor'].values)\n",
    "\n",
    "timeScores['countries'] = countries_per_actor.values"
   ]
  },
  {
   "cell_type": "code",
   "execution_count": 37,
   "id": "134bae5a-912d-4c22-8962-5cc1cc258e04",
   "metadata": {},
   "outputs": [],
   "source": [
    "countries_per_actor['country_total'] = countries_per_actor['countries'].apply(lambda x : sum(x, [])).apply(\n",
    "    lambda x : ['NaN'] if len(x) == 0 else x)"
   ]
  },
  {
   "cell_type": "code",
   "execution_count": 38,
   "id": "86fefac9-b4e5-4619-a3ff-e421ac29cb52",
   "metadata": {},
   "outputs": [],
   "source": [
    "countries_per_actor['count_values'] = countries_per_actor['country_total'].apply(\n",
    "    lambda x : pd.DataFrame(pd.DataFrame({'con' : x}).groupby(by = 'con').size(), \n",
    "    columns = ['count']).sort_values(by = 'count', ascending = False)['count'].values)"
   ]
  },
  {
   "cell_type": "code",
   "execution_count": 39,
   "id": "cea9f3d0-5fd4-4bfc-b83c-99df75e5aef9",
   "metadata": {},
   "outputs": [],
   "source": [
    "countries_per_actor['unique_countries_order'] = countries_per_actor['country_total'].apply(\n",
    "    lambda x : pd.DataFrame(pd.DataFrame({'con' : x}).groupby(by = 'con').size(), \n",
    "    columns = ['count']).sort_values(by = 'count', ascending = False).index.tolist())"
   ]
  },
  {
   "cell_type": "code",
   "execution_count": 40,
   "id": "08d1a4c3-32f9-40ec-a004-84710ef3e6e5",
   "metadata": {},
   "outputs": [],
   "source": [
    "countries_per_actor['main'] = countries_per_actor['unique_countries_order'].apply(lambda x : x[0])\n",
    "countries_per_actor['secondary'] = countries_per_actor['unique_countries_order'].apply(\n",
    "    lambda x : x[1] if len(x) > 1 else None)"
   ]
  },
  {
   "cell_type": "code",
   "execution_count": 45,
   "id": "d3a167bb-5f8b-42db-b84b-a668c3dc16e2",
   "metadata": {},
   "outputs": [],
   "source": [
    "countries_to_merge = countries_per_actor.reset_index(drop = True)"
   ]
  },
  {
   "cell_type": "code",
   "execution_count": 53,
   "id": "a1d5defc-07f4-416b-af02-8a65e247d61e",
   "metadata": {},
   "outputs": [],
   "source": [
    "timeScores['genres'] = genres_to_merge['unique_genres_order']\n",
    "timeScores['genre_count'] = genres_to_merge['count_values']\n",
    "actorMetrics['main_genre'] = genres_to_merge['main']\n",
    "actorMetrics['2nd_genre'] = genres_to_merge['secondary']\n",
    "actorMetrics['country1'] = countries_to_merge['main']\n",
    "actorMetrics['country2'] = countries_to_merge['secondary']"
   ]
  },
  {
   "cell_type": "code",
   "execution_count": 54,
   "id": "95a64269-d0c6-4335-a05c-46e68e1e933a",
   "metadata": {},
   "outputs": [
    {
     "data": {
      "text/html": [
       "<div>\n",
       "<style scoped>\n",
       "    .dataframe tbody tr th:only-of-type {\n",
       "        vertical-align: middle;\n",
       "    }\n",
       "\n",
       "    .dataframe tbody tr th {\n",
       "        vertical-align: top;\n",
       "    }\n",
       "\n",
       "    .dataframe thead th {\n",
       "        text-align: right;\n",
       "    }\n",
       "</style>\n",
       "<table border=\"1\" class=\"dataframe\">\n",
       "  <thead>\n",
       "    <tr style=\"text-align: right;\">\n",
       "      <th></th>\n",
       "      <th>actor</th>\n",
       "      <th>revenues</th>\n",
       "      <th>movie_years</th>\n",
       "      <th>ratings</th>\n",
       "      <th>cumulative_revenue</th>\n",
       "      <th>cumulative_ratings</th>\n",
       "      <th>star_score</th>\n",
       "      <th>score_sum</th>\n",
       "      <th>EPFLsum</th>\n",
       "      <th>score_avg</th>\n",
       "      <th>EPFLavg</th>\n",
       "      <th>EPFLsum_time</th>\n",
       "      <th>genres</th>\n",
       "      <th>genre_count</th>\n",
       "      <th>countries</th>\n",
       "    </tr>\n",
       "  </thead>\n",
       "  <tbody>\n",
       "    <tr>\n",
       "      <th>7287</th>\n",
       "      <td>Avner_the_Eccentric</td>\n",
       "      <td>[215051555.55555555]</td>\n",
       "      <td>[1985.0]</td>\n",
       "      <td>[4.522138740188265]</td>\n",
       "      <td>[215051555.55555555]</td>\n",
       "      <td>[4.522138740188265]</td>\n",
       "      <td>[20.695373405169082]</td>\n",
       "      <td>20.695373</td>\n",
       "      <td>3.743634</td>\n",
       "      <td>20.695373</td>\n",
       "      <td>4.683422</td>\n",
       "      <td>[3.743634298743781]</td>\n",
       "      <td>[Action, Action/Adventure, Adventure, Adventur...</td>\n",
       "      <td>[1, 1, 1, 1, 1, 1, 1]</td>\n",
       "      <td>[[United States of America, France, Morocco]]</td>\n",
       "    </tr>\n",
       "  </tbody>\n",
       "</table>\n",
       "</div>"
      ],
      "text/plain": [
       "                    actor              revenues movie_years  \\\n",
       "7287  Avner_the_Eccentric  [215051555.55555555]    [1985.0]   \n",
       "\n",
       "                  ratings    cumulative_revenue   cumulative_ratings  \\\n",
       "7287  [4.522138740188265]  [215051555.55555555]  [4.522138740188265]   \n",
       "\n",
       "                star_score  score_sum   EPFLsum  score_avg   EPFLavg  \\\n",
       "7287  [20.695373405169082]  20.695373  3.743634  20.695373  4.683422   \n",
       "\n",
       "             EPFLsum_time                                             genres  \\\n",
       "7287  [3.743634298743781]  [Action, Action/Adventure, Adventure, Adventur...   \n",
       "\n",
       "                genre_count                                      countries  \n",
       "7287  [1, 1, 1, 1, 1, 1, 1]  [[United States of America, France, Morocco]]  "
      ]
     },
     "metadata": {},
     "output_type": "display_data"
    },
    {
     "data": {
      "text/html": [
       "<div>\n",
       "<style scoped>\n",
       "    .dataframe tbody tr th:only-of-type {\n",
       "        vertical-align: middle;\n",
       "    }\n",
       "\n",
       "    .dataframe tbody tr th {\n",
       "        vertical-align: top;\n",
       "    }\n",
       "\n",
       "    .dataframe thead th {\n",
       "        text-align: right;\n",
       "    }\n",
       "</style>\n",
       "<table border=\"1\" class=\"dataframe\">\n",
       "  <thead>\n",
       "    <tr style=\"text-align: right;\">\n",
       "      <th></th>\n",
       "      <th>actor</th>\n",
       "      <th>revenue_avg</th>\n",
       "      <th>grade_avg</th>\n",
       "      <th>revenue_sum</th>\n",
       "      <th>grade_sum</th>\n",
       "      <th>appearances</th>\n",
       "      <th>main_genre</th>\n",
       "      <th>2nd_genre</th>\n",
       "      <th>country1</th>\n",
       "      <th>country2</th>\n",
       "    </tr>\n",
       "  </thead>\n",
       "  <tbody>\n",
       "    <tr>\n",
       "      <th>5527</th>\n",
       "      <td>Joe_Flaherty</td>\n",
       "      <td>3.886919e+07</td>\n",
       "      <td>4.008741</td>\n",
       "      <td>1.554768e+08</td>\n",
       "      <td>16.034963</td>\n",
       "      <td>4</td>\n",
       "      <td>Comedy</td>\n",
       "      <td>Action</td>\n",
       "      <td>United States of America</td>\n",
       "      <td>None</td>\n",
       "    </tr>\n",
       "  </tbody>\n",
       "</table>\n",
       "</div>"
      ],
      "text/plain": [
       "             actor   revenue_avg  grade_avg   revenue_sum  grade_sum  \\\n",
       "5527  Joe_Flaherty  3.886919e+07   4.008741  1.554768e+08  16.034963   \n",
       "\n",
       "      appearances main_genre 2nd_genre                  country1 country2  \n",
       "5527            4     Comedy    Action  United States of America     None  "
      ]
     },
     "metadata": {},
     "output_type": "display_data"
    }
   ],
   "source": [
    "display(timeScores.sample(), actorMetrics.sample())"
   ]
  },
  {
   "cell_type": "markdown",
   "id": "0cdfe702-3097-4d5c-8c00-1944f8ce110b",
   "metadata": {},
   "source": [
    ">tenure"
   ]
  },
  {
   "cell_type": "code",
   "execution_count": 59,
   "id": "f870dcb3-835d-4e88-9bdf-f8441d3eaa86",
   "metadata": {},
   "outputs": [
    {
     "data": {
      "text/plain": [
       "0"
      ]
     },
     "execution_count": 59,
     "metadata": {},
     "output_type": "execute_result"
    }
   ],
   "source": [
    "l = [1, 2]\n",
    "t = [2]\n",
    "diff = t[0] - t[-1]\n",
    "diff"
   ]
  },
  {
   "cell_type": "code",
   "execution_count": 60,
   "id": "620bbc48-fe23-4746-9b53-5bac0b94c0c9",
   "metadata": {},
   "outputs": [],
   "source": [
    "actorMetrics['tenure'] = timeScores['movie_years'].apply(lambda x : abs(x[0] - x[-1]))"
   ]
  },
  {
   "cell_type": "code",
   "execution_count": 67,
   "id": "0c020a14-b027-4bba-b80c-89ba010f6667",
   "metadata": {},
   "outputs": [
    {
     "data": {
      "text/html": [
       "<div>\n",
       "<style scoped>\n",
       "    .dataframe tbody tr th:only-of-type {\n",
       "        vertical-align: middle;\n",
       "    }\n",
       "\n",
       "    .dataframe tbody tr th {\n",
       "        vertical-align: top;\n",
       "    }\n",
       "\n",
       "    .dataframe thead th {\n",
       "        text-align: right;\n",
       "    }\n",
       "</style>\n",
       "<table border=\"1\" class=\"dataframe\">\n",
       "  <thead>\n",
       "    <tr style=\"text-align: right;\">\n",
       "      <th></th>\n",
       "      <th>actor</th>\n",
       "      <th>revenue_avg</th>\n",
       "      <th>grade_avg</th>\n",
       "      <th>revenue_sum</th>\n",
       "      <th>grade_sum</th>\n",
       "      <th>appearances</th>\n",
       "      <th>main_genre</th>\n",
       "      <th>2nd_genre</th>\n",
       "      <th>country1</th>\n",
       "      <th>country2</th>\n",
       "      <th>tenure</th>\n",
       "    </tr>\n",
       "  </thead>\n",
       "  <tbody>\n",
       "    <tr>\n",
       "      <th>6221</th>\n",
       "      <td>Bruce_Willis</td>\n",
       "      <td>1.672831e+08</td>\n",
       "      <td>5.148966</td>\n",
       "      <td>1.003699e+10</td>\n",
       "      <td>308.937981</td>\n",
       "      <td>60</td>\n",
       "      <td>Thriller</td>\n",
       "      <td>Action</td>\n",
       "      <td>United States of America</td>\n",
       "      <td>Germany</td>\n",
       "      <td>30.0</td>\n",
       "    </tr>\n",
       "  </tbody>\n",
       "</table>\n",
       "</div>"
      ],
      "text/plain": [
       "             actor   revenue_avg  grade_avg   revenue_sum   grade_sum  \\\n",
       "6221  Bruce_Willis  1.672831e+08   5.148966  1.003699e+10  308.937981   \n",
       "\n",
       "      appearances main_genre 2nd_genre                  country1 country2  \\\n",
       "6221           60   Thriller    Action  United States of America  Germany   \n",
       "\n",
       "      tenure  \n",
       "6221    30.0  "
      ]
     },
     "execution_count": 67,
     "metadata": {},
     "output_type": "execute_result"
    }
   ],
   "source": [
    "actorMetrics.query('actor == \"Bruce_Willis\"')"
   ]
  },
  {
   "cell_type": "code",
   "execution_count": 66,
   "id": "2bb3236e-23d6-4495-b438-2fa87b07db98",
   "metadata": {},
   "outputs": [
    {
     "name": "stdout",
     "output_type": "stream",
     "text": [
      "1982.0 2012.0\n"
     ]
    }
   ],
   "source": [
    "print(timeScores.query('actor == \"Bruce_Willis\"')['movie_years'].tolist()[0][0],\n",
    "      timeScores.query('actor == \"Bruce_Willis\"')['movie_years'].tolist()[0][-1])"
   ]
  },
  {
   "cell_type": "markdown",
   "id": "8e6e8441-fbe5-4ac0-bb6a-b540fcc5efc9",
   "metadata": {
    "jp-MarkdownHeadingCollapsed": true,
    "tags": []
   },
   "source": [
    "## results"
   ]
  },
  {
   "cell_type": "code",
   "execution_count": 52,
   "id": "d4ee4e07-9710-43bd-9979-56a6d0ec5bda",
   "metadata": {},
   "outputs": [
    {
     "data": {
      "text/html": [
       "<div>\n",
       "<style scoped>\n",
       "    .dataframe tbody tr th:only-of-type {\n",
       "        vertical-align: middle;\n",
       "    }\n",
       "\n",
       "    .dataframe tbody tr th {\n",
       "        vertical-align: top;\n",
       "    }\n",
       "\n",
       "    .dataframe thead th {\n",
       "        text-align: right;\n",
       "    }\n",
       "</style>\n",
       "<table border=\"1\" class=\"dataframe\">\n",
       "  <thead>\n",
       "    <tr style=\"text-align: right;\">\n",
       "      <th></th>\n",
       "      <th>actor</th>\n",
       "      <th>revenue_avg</th>\n",
       "      <th>grade_avg</th>\n",
       "      <th>revenue_sum</th>\n",
       "      <th>grade_sum</th>\n",
       "      <th>appearances</th>\n",
       "      <th>main_genre</th>\n",
       "      <th>2nd_genre</th>\n",
       "      <th>country1</th>\n",
       "      <th>country2</th>\n",
       "    </tr>\n",
       "  </thead>\n",
       "  <tbody>\n",
       "    <tr>\n",
       "      <th>0</th>\n",
       "      <td>Dustin_Farnum</td>\n",
       "      <td>6.117500e+06</td>\n",
       "      <td>2.861536</td>\n",
       "      <td>6.117500e+06</td>\n",
       "      <td>2.861536</td>\n",
       "      <td>1</td>\n",
       "      <td>Black-and-white</td>\n",
       "      <td>Drama</td>\n",
       "      <td>United States of America</td>\n",
       "      <td>None</td>\n",
       "    </tr>\n",
       "    <tr>\n",
       "      <th>1</th>\n",
       "      <td>Elmer_Clifton</td>\n",
       "      <td>1.250000e+09</td>\n",
       "      <td>4.791714</td>\n",
       "      <td>1.250000e+09</td>\n",
       "      <td>4.791714</td>\n",
       "      <td>1</td>\n",
       "      <td>Black-and-white</td>\n",
       "      <td>Costume drama</td>\n",
       "      <td>United States of America</td>\n",
       "      <td>None</td>\n",
       "    </tr>\n",
       "    <tr>\n",
       "      <th>2</th>\n",
       "      <td>Robert_Harron</td>\n",
       "      <td>1.250000e+09</td>\n",
       "      <td>4.791714</td>\n",
       "      <td>1.250000e+09</td>\n",
       "      <td>4.791714</td>\n",
       "      <td>1</td>\n",
       "      <td>Black-and-white</td>\n",
       "      <td>Costume drama</td>\n",
       "      <td>United States of America</td>\n",
       "      <td>None</td>\n",
       "    </tr>\n",
       "  </tbody>\n",
       "</table>\n",
       "</div>"
      ],
      "text/plain": [
       "           actor   revenue_avg  grade_avg   revenue_sum  grade_sum  \\\n",
       "0  Dustin_Farnum  6.117500e+06   2.861536  6.117500e+06   2.861536   \n",
       "1  Elmer_Clifton  1.250000e+09   4.791714  1.250000e+09   4.791714   \n",
       "2  Robert_Harron  1.250000e+09   4.791714  1.250000e+09   4.791714   \n",
       "\n",
       "   appearances       main_genre      2nd_genre                  country1  \\\n",
       "0            1  Black-and-white          Drama  United States of America   \n",
       "1            1  Black-and-white  Costume drama  United States of America   \n",
       "2            1  Black-and-white  Costume drama  United States of America   \n",
       "\n",
       "  country2  \n",
       "0     None  \n",
       "1     None  \n",
       "2     None  "
      ]
     },
     "metadata": {},
     "output_type": "display_data"
    },
    {
     "data": {
      "text/html": [
       "<div>\n",
       "<style scoped>\n",
       "    .dataframe tbody tr th:only-of-type {\n",
       "        vertical-align: middle;\n",
       "    }\n",
       "\n",
       "    .dataframe tbody tr th {\n",
       "        vertical-align: top;\n",
       "    }\n",
       "\n",
       "    .dataframe thead th {\n",
       "        text-align: right;\n",
       "    }\n",
       "</style>\n",
       "<table border=\"1\" class=\"dataframe\">\n",
       "  <thead>\n",
       "    <tr style=\"text-align: right;\">\n",
       "      <th></th>\n",
       "      <th>actor</th>\n",
       "      <th>revenues</th>\n",
       "      <th>movie_years</th>\n",
       "      <th>ratings</th>\n",
       "      <th>cumulative_revenue</th>\n",
       "      <th>cumulative_ratings</th>\n",
       "      <th>star_score</th>\n",
       "      <th>score_sum</th>\n",
       "      <th>EPFLsum</th>\n",
       "      <th>score_avg</th>\n",
       "      <th>EPFLavg</th>\n",
       "      <th>EPFLsum_time</th>\n",
       "      <th>genres</th>\n",
       "      <th>genre_count</th>\n",
       "      <th>countries</th>\n",
       "    </tr>\n",
       "  </thead>\n",
       "  <tbody>\n",
       "    <tr>\n",
       "      <th>0</th>\n",
       "      <td>Dustin_Farnum</td>\n",
       "      <td>[6117500.0]</td>\n",
       "      <td>[1914.0]</td>\n",
       "      <td>[2.861536471788676]</td>\n",
       "      <td>[6117500.0]</td>\n",
       "      <td>[2.861536471788676]</td>\n",
       "      <td>[16.67802278277362]</td>\n",
       "      <td>16.678023</td>\n",
       "      <td>2.697314</td>\n",
       "      <td>16.678023</td>\n",
       "      <td>3.278702</td>\n",
       "      <td>[2.6973142737054587]</td>\n",
       "      <td>[Black-and-white, Drama, Indie, Silent film, W...</td>\n",
       "      <td>[1, 1, 1, 1, 1]</td>\n",
       "      <td>[[United States of America]]</td>\n",
       "    </tr>\n",
       "    <tr>\n",
       "      <th>1</th>\n",
       "      <td>Elmer_Clifton</td>\n",
       "      <td>[1250000000.0]</td>\n",
       "      <td>[1915.0]</td>\n",
       "      <td>[4.791714035959664]</td>\n",
       "      <td>[1250000000.0]</td>\n",
       "      <td>[4.791714035959664]</td>\n",
       "      <td>[22.513297571992556]</td>\n",
       "      <td>22.513298</td>\n",
       "      <td>4.217113</td>\n",
       "      <td>22.513298</td>\n",
       "      <td>5.319083</td>\n",
       "      <td>[4.217113125596666]</td>\n",
       "      <td>[Black-and-white, Costume drama, Drama, Epic, ...</td>\n",
       "      <td>[1, 1, 1, 1, 1, 1, 1]</td>\n",
       "      <td>[[United States of America]]</td>\n",
       "    </tr>\n",
       "    <tr>\n",
       "      <th>2</th>\n",
       "      <td>Robert_Harron</td>\n",
       "      <td>[1250000000.0]</td>\n",
       "      <td>[1915.0]</td>\n",
       "      <td>[4.791714035959664]</td>\n",
       "      <td>[1250000000.0]</td>\n",
       "      <td>[4.791714035959664]</td>\n",
       "      <td>[22.513297571992556]</td>\n",
       "      <td>22.513298</td>\n",
       "      <td>4.217113</td>\n",
       "      <td>22.513298</td>\n",
       "      <td>5.319083</td>\n",
       "      <td>[4.217113125596666]</td>\n",
       "      <td>[Black-and-white, Costume drama, Drama, Epic, ...</td>\n",
       "      <td>[1, 1, 1, 1, 1, 1, 1]</td>\n",
       "      <td>[[United States of America]]</td>\n",
       "    </tr>\n",
       "  </tbody>\n",
       "</table>\n",
       "</div>"
      ],
      "text/plain": [
       "           actor        revenues movie_years              ratings  \\\n",
       "0  Dustin_Farnum     [6117500.0]    [1914.0]  [2.861536471788676]   \n",
       "1  Elmer_Clifton  [1250000000.0]    [1915.0]  [4.791714035959664]   \n",
       "2  Robert_Harron  [1250000000.0]    [1915.0]  [4.791714035959664]   \n",
       "\n",
       "  cumulative_revenue   cumulative_ratings            star_score  score_sum  \\\n",
       "0        [6117500.0]  [2.861536471788676]   [16.67802278277362]  16.678023   \n",
       "1     [1250000000.0]  [4.791714035959664]  [22.513297571992556]  22.513298   \n",
       "2     [1250000000.0]  [4.791714035959664]  [22.513297571992556]  22.513298   \n",
       "\n",
       "    EPFLsum  score_avg   EPFLavg          EPFLsum_time  \\\n",
       "0  2.697314  16.678023  3.278702  [2.6973142737054587]   \n",
       "1  4.217113  22.513298  5.319083   [4.217113125596666]   \n",
       "2  4.217113  22.513298  5.319083   [4.217113125596666]   \n",
       "\n",
       "                                              genres            genre_count  \\\n",
       "0  [Black-and-white, Drama, Indie, Silent film, W...        [1, 1, 1, 1, 1]   \n",
       "1  [Black-and-white, Costume drama, Drama, Epic, ...  [1, 1, 1, 1, 1, 1, 1]   \n",
       "2  [Black-and-white, Costume drama, Drama, Epic, ...  [1, 1, 1, 1, 1, 1, 1]   \n",
       "\n",
       "                      countries  \n",
       "0  [[United States of America]]  \n",
       "1  [[United States of America]]  \n",
       "2  [[United States of America]]  "
      ]
     },
     "metadata": {},
     "output_type": "display_data"
    }
   ],
   "source": [
    "display(actorMetrics.head(3), timeScores.head(3))"
   ]
  },
  {
   "cell_type": "markdown",
   "id": "3ddd9bc8-113c-464d-a0eb-be34276e49af",
   "metadata": {
    "jp-MarkdownHeadingCollapsed": true,
    "tags": []
   },
   "source": [
    "## data saving & loading fixes"
   ]
  },
  {
   "cell_type": "code",
   "execution_count": 68,
   "id": "ec18b943-aac8-4618-b1d4-74b2f447dfdc",
   "metadata": {},
   "outputs": [],
   "source": [
    "timeScores.to_csv('../data/timeScores.csv', sep = '\\t')\n",
    "actorMetrics.to_csv('../data/actorMetrics.csv')"
   ]
  },
  {
   "cell_type": "markdown",
   "id": "edc1a900-02e1-44de-a433-c738909ac85d",
   "metadata": {},
   "source": [
    "> stop here if u just want metrics"
   ]
  },
  {
   "cell_type": "code",
   "execution_count": 35,
   "id": "8c26b5be-28bc-48ec-aff7-6bb786a55288",
   "metadata": {},
   "outputs": [],
   "source": [
    "savedTimeScores = pd.read_csv('../data/timeScores.csv', sep = '\\t', index_col = 0)"
   ]
  },
  {
   "cell_type": "code",
   "execution_count": 36,
   "id": "e57d5195-b78d-492f-bef4-c4ad581c0543",
   "metadata": {},
   "outputs": [
    {
     "data": {
      "text/plain": [
       "'[\\'Thriller\\', \\'Action\\', \\'Drama\\', \\'Comedy\\', \\'Crime Fiction\\', \\'Action/Adventure\\', \\'Crime Thriller\\', \\'Mystery\\', \\'Adventure\\', \\'Romance Film\\', \\'Science Fiction\\', \\'Black comedy\\', \\'Gangster Film\\', \\'Action Thrillers\\', \\'Crime Comedy\\', \\'Suspense\\', \\'Family Film\\', \\'Comedy-drama\\', \\'Psychological thriller\\', \\'Buddy film\\', \\'Romantic comedy\\', \\'Period piece\\', \\'War film\\', \\'Indie\\', \\'Ensemble Film\\', \\'Fantasy\\', \\'Coming of age\\', \\'Film adaptation\\', \\'Horror\\', \\'Political drama\\', \\'Parody\\', \\'Heist\\', \\'Slapstick\\', \\'Marriage Drama\\', \\'Supernatural\\', \\'Animation\\', \\'Detective\\', \\'Action Comedy\\', \\'Courtroom Drama\\', \\'Western\\', \\'Americana\\', \\'Superhero movie\\', \"Children\\\\\\\\\\'s/Family\", \\'Satire\\', \\'Teen\\', \\'Caper story\\', \\'Neo-noir\\', \\'Tragicomedy\\', \\'Romantic drama\\', \\'Time travel\\', \\'Political thriller\\', \\'Superhero\\', \\'Slasher\\', \\'Martial Arts Film\\', \\'Absurdism\\', \\'Erotic thriller\\', \\'Jungle Film\\', \\'Computer Animation\\', \\'Airplanes and airports\\', \\'Albino bias\\', \\'Animal Picture\\', \\'Biographical film\\', \\'Black-and-white\\', \\'Chase Movie\\', \\'Childhood Drama\\', \"Children\\\\\\\\\\'s\", \\'Comedy Thriller\\', \\'Comedy film\\', \\'Creature Film\\', \\'Japanese Movies\\', \\'Crime Drama\\', \\'Detective fiction\\', \\'Disaster\\', \\'Docudrama\\', \\'Domestic Comedy\\', \\'Dystopia\\', \\'Erotica\\', \\'Family Drama\\', \\'Family-Oriented Adventure\\', \\'Fantasy Comedy\\', \\'Zombie Film\\']'"
      ]
     },
     "metadata": {},
     "output_type": "display_data"
    },
    {
     "name": "stdout",
     "output_type": "stream",
     "text": [
      "['revenues', 'movie_years', 'ratings', 'cumulative_revenue', 'cumulative_ratings', 'star_score', 'EPFLsum', 'genres', 'genre_count']\n"
     ]
    }
   ],
   "source": [
    "display(savedTimeScores.query('actor == \"Bruce_Willis\"')['genres'].values.tolist()[0])\n",
    "usual_suspects = timeScores.columns.tolist()[1: -2]\n",
    "print(usual_suspects)"
   ]
  },
  {
   "cell_type": "code",
   "execution_count": 38,
   "id": "8f092ef4-995c-43e1-8a43-a9ad8c960207",
   "metadata": {},
   "outputs": [],
   "source": [
    "def save_values(df, columns):\n",
    "    \n",
    "    for col in columns:\n",
    "        if (col != 'genres'):\n",
    "            df[col] = df[col].apply(lambda x : x[1:-1].split(' '))\n",
    "        else:\n",
    "            df[col] = df[col].apply(lambda x : x.split(\"\\'\")[1::2])\n",
    "    \n",
    "    return df"
   ]
  },
  {
   "cell_type": "code",
   "execution_count": 39,
   "id": "6a85b5b9-92bb-47b1-8336-ce6ee8cbc388",
   "metadata": {},
   "outputs": [],
   "source": [
    "fixed = save_values(savedTimeScores, usual_suspects)"
   ]
  },
  {
   "cell_type": "code",
   "execution_count": 40,
   "id": "d538a371-4040-4807-a562-3790b0babfad",
   "metadata": {},
   "outputs": [],
   "source": [
    "#subgenres\n",
    "#drop low frequencies\n",
    "#group genres "
   ]
  },
  {
   "cell_type": "code",
   "execution_count": 41,
   "id": "b9e52583-15b9-4e94-a9ab-d9425ffb00a5",
   "metadata": {},
   "outputs": [],
   "source": [
    "#birthdate & directors"
   ]
  },
  {
   "cell_type": "markdown",
   "id": "e3c9ce43-9593-49d9-a20b-1403af5624ff",
   "metadata": {
    "jp-MarkdownHeadingCollapsed": true,
    "tags": []
   },
   "source": [
    "## clusters"
   ]
  },
  {
   "cell_type": "code",
   "execution_count": 60,
   "id": "0d6bfd14-cef3-4538-8d67-adf4bbc0b565",
   "metadata": {},
   "outputs": [],
   "source": [
    "X = actorMetrics[{'revenue_avg','grade_avg','appearances'}]\n",
    "X['revenue_avg_log'] = X.revenue_avg.apply('log')"
   ]
  },
  {
   "cell_type": "code",
   "execution_count": 61,
   "id": "bd2f3826-a226-4973-baa2-75381e4ed8fc",
   "metadata": {},
   "outputs": [
    {
     "data": {
      "text/html": [
       "<div>\n",
       "<style scoped>\n",
       "    .dataframe tbody tr th:only-of-type {\n",
       "        vertical-align: middle;\n",
       "    }\n",
       "\n",
       "    .dataframe tbody tr th {\n",
       "        vertical-align: top;\n",
       "    }\n",
       "\n",
       "    .dataframe thead th {\n",
       "        text-align: right;\n",
       "    }\n",
       "</style>\n",
       "<table border=\"1\" class=\"dataframe\">\n",
       "  <thead>\n",
       "    <tr style=\"text-align: right;\">\n",
       "      <th></th>\n",
       "      <th>revenue_avg</th>\n",
       "      <th>appearances</th>\n",
       "      <th>grade_avg</th>\n",
       "      <th>revenue_avg_log</th>\n",
       "    </tr>\n",
       "  </thead>\n",
       "  <tbody>\n",
       "    <tr>\n",
       "      <th>7984</th>\n",
       "      <td>3.135913e+07</td>\n",
       "      <td>4</td>\n",
       "      <td>4.62965</td>\n",
       "      <td>17.261016</td>\n",
       "    </tr>\n",
       "  </tbody>\n",
       "</table>\n",
       "</div>"
      ],
      "text/plain": [
       "       revenue_avg  appearances  grade_avg  revenue_avg_log\n",
       "7984  3.135913e+07            4    4.62965        17.261016"
      ]
     },
     "execution_count": 61,
     "metadata": {},
     "output_type": "execute_result"
    }
   ],
   "source": [
    "X.sample()"
   ]
  },
  {
   "cell_type": "code",
   "execution_count": 68,
   "id": "ddb80a72-1bae-4b2f-ab43-f625e9b9bc90",
   "metadata": {},
   "outputs": [],
   "source": [
    "X_standard = pd.DataFrame()"
   ]
  },
  {
   "cell_type": "code",
   "execution_count": 69,
   "id": "1f1407f1-18a4-438e-8eed-d836c1cdb039",
   "metadata": {},
   "outputs": [],
   "source": [
    "X_standard['stan_revenue'] = (X['revenue_avg_log'] - X['revenue_avg_log'].mean())/X['revenue_avg_log'].std()\n",
    "X_standard['stan_grade'] = (X['grade_avg'] - X['grade_avg'].mean())/X['grade_avg'].std()\n",
    "X_standard['stan_appearances'] = (X['appearances'] - X['appearances'].mean())/X['appearances'].std()"
   ]
  },
  {
   "cell_type": "code",
   "execution_count": 70,
   "id": "4c5bba8a-53a3-44b4-a582-8d667bf0e229",
   "metadata": {},
   "outputs": [],
   "source": [
    "#silhouettes method\n",
    "from sklearn.cluster import KMeans\n",
    "from sklearn.metrics import silhouette_score\n",
    "\n",
    "silhouettes = []\n",
    "k_min=2\n",
    "k_max=11\n",
    "# Try multiple k\n",
    "for k in range(k_min, k_max+1):\n",
    "    # Cluster the data and assigne the labels\n",
    "    labels = KMeans(n_clusters=k, random_state=10).fit_predict(X_standard)\n",
    "    #create model, train and predict in sequence\n",
    "    # Get the Silhouette score\n",
    "    score = silhouette_score(X_standard, labels)\n",
    "    silhouettes.append({\"k\": k, \"score\": score})\n",
    "silhouettes = pd.DataFrame(silhouettes)"
   ]
  },
  {
   "cell_type": "code",
   "execution_count": 71,
   "id": "2f3fd0b1-676f-489e-a71f-926f9bf9f287",
   "metadata": {},
   "outputs": [],
   "source": [
    "#elbow method\n",
    "def plot_sse(features_X, start=2, end=11):\n",
    "    sse = [] #sum squared error\n",
    "    for k in range(start, end):\n",
    "        # Assign the labels to the clusters\n",
    "        kmeans = KMeans(n_clusters=k, random_state=10).fit(features_X)\n",
    "        sse.append({\"k\": k, \"sse\": kmeans.inertia_})\n",
    "\n",
    "    sse = pd.DataFrame(sse)\n",
    "    # Plot the data\n",
    "    plt.plot(sse.k, sse.sse)\n",
    "    plt.xlabel(\"K\")\n",
    "    plt.ylabel(\"Sum of Squared Errors\")"
   ]
  },
  {
   "cell_type": "code",
   "execution_count": 72,
   "id": "042674de-e823-4abc-b5de-802afe14d866",
   "metadata": {},
   "outputs": [
    {
     "data": {
      "image/png": "[encoded data removed]",
      "text/plain": [
       "<Figure size 800x300 with 2 Axes>"
      ]
     },
     "metadata": {},
     "output_type": "display_data"
    }
   ],
   "source": [
    "fig, ax = plt.subplots(1,2, figsize=(8,3))\n",
    "\n",
    "sbplt = ax[0]\n",
    "sbplt.plot(silhouettes.k,silhouettes.score)\n",
    "sbplt.set_title(\"Silhouette method\")\n",
    "sbplt.set_ylabel('Silhouette score')\n",
    "sbplt.set_xlabel('K')\n",
    "\n",
    "sbplt = ax[1]\n",
    "plot_sse(X)\n",
    "sbplt.set_title(\"Elbow method\")\n",
    "    \n",
    "fig.tight_layout()\n",
    "plt.show()"
   ]
  },
  {
   "cell_type": "code",
   "execution_count": 74,
   "id": "8536a0cb-4761-4cfa-835e-cdca8f97e8f6",
   "metadata": {},
   "outputs": [],
   "source": [
    "from sklearn.cluster import KMeans\n",
    "\n",
    "kmean = KMeans(n_clusters=3, random_state=42) #create model\n",
    "labels = kmean.fit_predict(X_standard)"
   ]
  },
  {
   "cell_type": "code",
   "execution_count": 75,
   "id": "5b4b5944-ee9f-4a08-87b7-ec17643816b8",
   "metadata": {},
   "outputs": [],
   "source": [
    "#dimensionality reduction with PCA\n",
    "from sklearn.decomposition import PCA\n",
    "\n",
    "X_reduced_pca = PCA(n_components=2).fit_transform(X_standard)"
   ]
  },
  {
   "cell_type": "code",
   "execution_count": 140,
   "id": "02d9c616-adf9-4812-bbba-5dce7e2ebd18",
   "metadata": {},
   "outputs": [
    {
     "data": {
      "text/plain": [
       "array([1, 2, 2, ..., 2, 2, 1], dtype=int32)"
      ]
     },
     "execution_count": 140,
     "metadata": {},
     "output_type": "execute_result"
    }
   ],
   "source": [
    "labels"
   ]
  },
  {
   "cell_type": "code",
   "execution_count": 78,
   "id": "129149ba-79e4-440d-aac5-df4e66455b99",
   "metadata": {},
   "outputs": [
    {
     "data": {
      "image/png": "[encoded data removed]",
      "text/plain": [
       "<Figure size 640x480 with 1 Axes>"
      ]
     },
     "metadata": {},
     "output_type": "display_data"
    }
   ],
   "source": [
    "plt.scatter(X_reduced_pca[:,0], X_reduced_pca[:,1], c=labels, alpha=0.6, s=5)\n",
    "plt.title(\"PCA\")    \n",
    "fig.tight_layout()\n",
    "plt.show()"
   ]
  },
  {
   "cell_type": "code",
   "execution_count": 80,
   "id": "33c60f22-4b17-4c78-b689-088c9453969e",
   "metadata": {},
   "outputs": [],
   "source": [
    "actorMetrics['cluster'] = labels\n",
    "#split dataset into clusters\n",
    "k1 = actorMetrics[actorMetrics['cluster'] == 0]\n",
    "k2 = actorMetrics[actorMetrics['cluster'] == 1]\n",
    "k3 = actorMetrics[actorMetrics['cluster'] == 2]"
   ]
  },
  {
   "cell_type": "code",
   "execution_count": 83,
   "id": "64d418bb-7dfb-41cb-a927-664bdea8cec5",
   "metadata": {},
   "outputs": [
    {
     "data": {
      "text/html": [
       "<div>\n",
       "<style scoped>\n",
       "    .dataframe tbody tr th:only-of-type {\n",
       "        vertical-align: middle;\n",
       "    }\n",
       "\n",
       "    .dataframe tbody tr th {\n",
       "        vertical-align: top;\n",
       "    }\n",
       "\n",
       "    .dataframe thead th {\n",
       "        text-align: right;\n",
       "    }\n",
       "</style>\n",
       "<table border=\"1\" class=\"dataframe\">\n",
       "  <thead>\n",
       "    <tr style=\"text-align: right;\">\n",
       "      <th></th>\n",
       "      <th>cluster1</th>\n",
       "      <th>cluster2</th>\n",
       "      <th>cluster3</th>\n",
       "    </tr>\n",
       "  </thead>\n",
       "  <tbody>\n",
       "    <tr>\n",
       "      <th>Mean_appearances</th>\n",
       "      <td>18.726386</td>\n",
       "      <td>1.847731</td>\n",
       "      <td>2.714487</td>\n",
       "    </tr>\n",
       "    <tr>\n",
       "      <th>Median_appearances</th>\n",
       "      <td>16.000000</td>\n",
       "      <td>1.000000</td>\n",
       "      <td>2.000000</td>\n",
       "    </tr>\n",
       "    <tr>\n",
       "      <th>Mean_grade</th>\n",
       "      <td>4.740345</td>\n",
       "      <td>3.708206</td>\n",
       "      <td>5.154258</td>\n",
       "    </tr>\n",
       "    <tr>\n",
       "      <th>Median_grade</th>\n",
       "      <td>4.747372</td>\n",
       "      <td>3.772282</td>\n",
       "      <td>5.080827</td>\n",
       "    </tr>\n",
       "    <tr>\n",
       "      <th>Mean_revenue_[M$]</th>\n",
       "      <td>123.329682</td>\n",
       "      <td>23.808880</td>\n",
       "      <td>169.966638</td>\n",
       "    </tr>\n",
       "    <tr>\n",
       "      <th>Median_revenue_[M$]</th>\n",
       "      <td>103.314770</td>\n",
       "      <td>12.552760</td>\n",
       "      <td>91.436512</td>\n",
       "    </tr>\n",
       "    <tr>\n",
       "      <th>Fraction_of_actors</th>\n",
       "      <td>0.074849</td>\n",
       "      <td>0.373837</td>\n",
       "      <td>0.551314</td>\n",
       "    </tr>\n",
       "  </tbody>\n",
       "</table>\n",
       "</div>"
      ],
      "text/plain": [
       "                       cluster1   cluster2    cluster3\n",
       "Mean_appearances      18.726386   1.847731    2.714487\n",
       "Median_appearances    16.000000   1.000000    2.000000\n",
       "Mean_grade             4.740345   3.708206    5.154258\n",
       "Median_grade           4.747372   3.772282    5.080827\n",
       "Mean_revenue_[M$]    123.329682  23.808880  169.966638\n",
       "Median_revenue_[M$]  103.314770  12.552760   91.436512\n",
       "Fraction_of_actors     0.074849   0.373837    0.551314"
      ]
     },
     "execution_count": 83,
     "metadata": {},
     "output_type": "execute_result"
    }
   ],
   "source": [
    "pd.DataFrame({'cluster1': [k1.appearances.mean(),k1.appearances.median(),k1.grade_avg.mean(),k1.grade_avg.median(),\n",
    "                     k1.revenue_avg.mean()/1e6,k1.revenue_avg.median()/1e6,len(k1)/len(actorMetrics)],\n",
    "              'cluster2': [k2.appearances.mean(),k2.appearances.median(),k2.grade_avg.mean(),k2.grade_avg.median(),\n",
    "                     k2.revenue_avg.mean()/1e6,k2.revenue_avg.median()/1e6,len(k2)/len(actorMetrics)],\n",
    "              'cluster3': [k3.appearances.mean(),k3.appearances.median(),k3.grade_avg.mean(),k3.grade_avg.median(),\n",
    "                     k3.revenue_avg.mean()/1e6,k3.revenue_avg.median()/1e6,len(k3)/len(actorMetrics)]},\n",
    "             index=['Mean_appearances',\n",
    "                    'Median_appearances',\n",
    "                    'Mean_grade',\n",
    "                    'Median_grade',\n",
    "                    'Mean_revenue_[M$]',\n",
    "                    'Median_revenue_[M$]',\n",
    "                    'Fraction_of_actors'])"
   ]
  },
  {
   "cell_type": "markdown",
   "id": "669c3bc1-8405-4113-a849-2d4cea45c702",
   "metadata": {
    "jp-MarkdownHeadingCollapsed": true,
    "tags": []
   },
   "source": [
    "## networking\n",
    "asses global efficiency of networks of top actors & rest"
   ]
  },
  {
   "cell_type": "code",
   "execution_count": 84,
   "id": "b4f1ddad-19cb-42d4-820e-13aedd0f5a91",
   "metadata": {},
   "outputs": [
    {
     "data": {
      "text/html": [
       "<div>\n",
       "<style scoped>\n",
       "    .dataframe tbody tr th:only-of-type {\n",
       "        vertical-align: middle;\n",
       "    }\n",
       "\n",
       "    .dataframe tbody tr th {\n",
       "        vertical-align: top;\n",
       "    }\n",
       "\n",
       "    .dataframe thead th {\n",
       "        text-align: right;\n",
       "    }\n",
       "</style>\n",
       "<table border=\"1\" class=\"dataframe\">\n",
       "  <thead>\n",
       "    <tr style=\"text-align: right;\">\n",
       "      <th></th>\n",
       "      <th>actor</th>\n",
       "      <th>Movie_name</th>\n",
       "    </tr>\n",
       "  </thead>\n",
       "  <tbody>\n",
       "    <tr>\n",
       "      <th>0</th>\n",
       "      <td>Dustin_Farnum</td>\n",
       "      <td>The Squaw Man</td>\n",
       "    </tr>\n",
       "    <tr>\n",
       "      <th>1</th>\n",
       "      <td>Elmer_Clifton</td>\n",
       "      <td>The Birth of a Nation</td>\n",
       "    </tr>\n",
       "    <tr>\n",
       "      <th>2</th>\n",
       "      <td>Robert_Harron</td>\n",
       "      <td>The Birth of a Nation</td>\n",
       "    </tr>\n",
       "    <tr>\n",
       "      <th>3</th>\n",
       "      <td>Walter_Long</td>\n",
       "      <td>The Birth of a Nation</td>\n",
       "    </tr>\n",
       "    <tr>\n",
       "      <th>4</th>\n",
       "      <td>Violet_Wilkey</td>\n",
       "      <td>The Birth of a Nation</td>\n",
       "    </tr>\n",
       "  </tbody>\n",
       "</table>\n",
       "</div>"
      ],
      "text/plain": [
       "           actor             Movie_name\n",
       "0  Dustin_Farnum          The Squaw Man\n",
       "1  Elmer_Clifton  The Birth of a Nation\n",
       "2  Robert_Harron  The Birth of a Nation\n",
       "3    Walter_Long  The Birth of a Nation\n",
       "4  Violet_Wilkey  The Birth of a Nation"
      ]
     },
     "execution_count": 84,
     "metadata": {},
     "output_type": "execute_result"
    }
   ],
   "source": [
    "network = data[['actor', 'Movie_name']].copy()\n",
    "network.head()"
   ]
  },
  {
   "cell_type": "code",
   "execution_count": 85,
   "id": "913695e4-ac66-42f8-8751-9df86b13bb35",
   "metadata": {},
   "outputs": [],
   "source": [
    "frequencies = network.merge(\n",
    "    network, on = 'Movie_name').groupby(['actor_x','actor_y']).size().unstack(\n",
    "    'actor_y', fill_value = 0)"
   ]
  },
  {
   "cell_type": "code",
   "execution_count": 86,
   "id": "67eb992d-9293-46a5-8208-831b6285d81c",
   "metadata": {},
   "outputs": [
    {
     "data": {
      "text/html": [
       "<div>\n",
       "<style scoped>\n",
       "    .dataframe tbody tr th:only-of-type {\n",
       "        vertical-align: middle;\n",
       "    }\n",
       "\n",
       "    .dataframe tbody tr th {\n",
       "        vertical-align: top;\n",
       "    }\n",
       "\n",
       "    .dataframe thead th {\n",
       "        text-align: right;\n",
       "    }\n",
       "</style>\n",
       "<table border=\"1\" class=\"dataframe\">\n",
       "  <thead>\n",
       "    <tr style=\"text-align: right;\">\n",
       "      <th>actor_y</th>\n",
       "      <th>40_Glocc</th>\n",
       "      <th>50_Cent</th>\n",
       "      <th>A.D._Miles</th>\n",
       "      <th>A._J._Benza</th>\n",
       "      <th>A._J._Bowen</th>\n",
       "      <th>A._J._Buckley</th>\n",
       "      <th>A._J._Cook</th>\n",
       "      <th>A._J._Langer</th>\n",
       "      <th>A._Michael_Baldwin</th>\n",
       "      <th>A_Martinez</th>\n",
       "      <th>...</th>\n",
       "      <th>Özgü_Namal</th>\n",
       "      <th>Özgür_Çevik</th>\n",
       "      <th>Þröstur_Leó_Gunnarsson</th>\n",
       "      <th>İdil_Fırat</th>\n",
       "      <th>İsmail_Hacıoğlu</th>\n",
       "      <th>Şafak_Sezer</th>\n",
       "      <th>Şebnem_Dönmez</th>\n",
       "      <th>Željko_Ivanek</th>\n",
       "      <th>佐々木望</th>\n",
       "      <th>田村英里子</th>\n",
       "    </tr>\n",
       "    <tr>\n",
       "      <th>actor_x</th>\n",
       "      <th></th>\n",
       "      <th></th>\n",
       "      <th></th>\n",
       "      <th></th>\n",
       "      <th></th>\n",
       "      <th></th>\n",
       "      <th></th>\n",
       "      <th></th>\n",
       "      <th></th>\n",
       "      <th></th>\n",
       "      <th></th>\n",
       "      <th></th>\n",
       "      <th></th>\n",
       "      <th></th>\n",
       "      <th></th>\n",
       "      <th></th>\n",
       "      <th></th>\n",
       "      <th></th>\n",
       "      <th></th>\n",
       "      <th></th>\n",
       "      <th></th>\n",
       "    </tr>\n",
       "  </thead>\n",
       "  <tbody>\n",
       "    <tr>\n",
       "      <th>40_Glocc</th>\n",
       "      <td>1</td>\n",
       "      <td>0</td>\n",
       "      <td>0</td>\n",
       "      <td>0</td>\n",
       "      <td>0</td>\n",
       "      <td>0</td>\n",
       "      <td>0</td>\n",
       "      <td>0</td>\n",
       "      <td>0</td>\n",
       "      <td>0</td>\n",
       "      <td>...</td>\n",
       "      <td>0</td>\n",
       "      <td>0</td>\n",
       "      <td>0</td>\n",
       "      <td>0</td>\n",
       "      <td>0</td>\n",
       "      <td>0</td>\n",
       "      <td>0</td>\n",
       "      <td>0</td>\n",
       "      <td>0</td>\n",
       "      <td>0</td>\n",
       "    </tr>\n",
       "    <tr>\n",
       "      <th>50_Cent</th>\n",
       "      <td>0</td>\n",
       "      <td>6</td>\n",
       "      <td>0</td>\n",
       "      <td>0</td>\n",
       "      <td>0</td>\n",
       "      <td>0</td>\n",
       "      <td>0</td>\n",
       "      <td>0</td>\n",
       "      <td>0</td>\n",
       "      <td>0</td>\n",
       "      <td>...</td>\n",
       "      <td>0</td>\n",
       "      <td>0</td>\n",
       "      <td>0</td>\n",
       "      <td>0</td>\n",
       "      <td>0</td>\n",
       "      <td>0</td>\n",
       "      <td>0</td>\n",
       "      <td>0</td>\n",
       "      <td>0</td>\n",
       "      <td>0</td>\n",
       "    </tr>\n",
       "    <tr>\n",
       "      <th>A.D._Miles</th>\n",
       "      <td>0</td>\n",
       "      <td>0</td>\n",
       "      <td>4</td>\n",
       "      <td>0</td>\n",
       "      <td>0</td>\n",
       "      <td>0</td>\n",
       "      <td>0</td>\n",
       "      <td>0</td>\n",
       "      <td>0</td>\n",
       "      <td>0</td>\n",
       "      <td>...</td>\n",
       "      <td>0</td>\n",
       "      <td>0</td>\n",
       "      <td>0</td>\n",
       "      <td>0</td>\n",
       "      <td>0</td>\n",
       "      <td>0</td>\n",
       "      <td>0</td>\n",
       "      <td>0</td>\n",
       "      <td>0</td>\n",
       "      <td>0</td>\n",
       "    </tr>\n",
       "    <tr>\n",
       "      <th>A._J._Benza</th>\n",
       "      <td>0</td>\n",
       "      <td>0</td>\n",
       "      <td>0</td>\n",
       "      <td>1</td>\n",
       "      <td>0</td>\n",
       "      <td>0</td>\n",
       "      <td>0</td>\n",
       "      <td>0</td>\n",
       "      <td>0</td>\n",
       "      <td>0</td>\n",
       "      <td>...</td>\n",
       "      <td>0</td>\n",
       "      <td>0</td>\n",
       "      <td>0</td>\n",
       "      <td>0</td>\n",
       "      <td>0</td>\n",
       "      <td>0</td>\n",
       "      <td>0</td>\n",
       "      <td>0</td>\n",
       "      <td>0</td>\n",
       "      <td>0</td>\n",
       "    </tr>\n",
       "    <tr>\n",
       "      <th>A._J._Bowen</th>\n",
       "      <td>0</td>\n",
       "      <td>0</td>\n",
       "      <td>0</td>\n",
       "      <td>0</td>\n",
       "      <td>3</td>\n",
       "      <td>0</td>\n",
       "      <td>0</td>\n",
       "      <td>0</td>\n",
       "      <td>0</td>\n",
       "      <td>0</td>\n",
       "      <td>...</td>\n",
       "      <td>0</td>\n",
       "      <td>0</td>\n",
       "      <td>0</td>\n",
       "      <td>0</td>\n",
       "      <td>0</td>\n",
       "      <td>0</td>\n",
       "      <td>0</td>\n",
       "      <td>0</td>\n",
       "      <td>0</td>\n",
       "      <td>0</td>\n",
       "    </tr>\n",
       "    <tr>\n",
       "      <th>...</th>\n",
       "      <td>...</td>\n",
       "      <td>...</td>\n",
       "      <td>...</td>\n",
       "      <td>...</td>\n",
       "      <td>...</td>\n",
       "      <td>...</td>\n",
       "      <td>...</td>\n",
       "      <td>...</td>\n",
       "      <td>...</td>\n",
       "      <td>...</td>\n",
       "      <td>...</td>\n",
       "      <td>...</td>\n",
       "      <td>...</td>\n",
       "      <td>...</td>\n",
       "      <td>...</td>\n",
       "      <td>...</td>\n",
       "      <td>...</td>\n",
       "      <td>...</td>\n",
       "      <td>...</td>\n",
       "      <td>...</td>\n",
       "      <td>...</td>\n",
       "    </tr>\n",
       "    <tr>\n",
       "      <th>Şafak_Sezer</th>\n",
       "      <td>0</td>\n",
       "      <td>0</td>\n",
       "      <td>0</td>\n",
       "      <td>0</td>\n",
       "      <td>0</td>\n",
       "      <td>0</td>\n",
       "      <td>0</td>\n",
       "      <td>0</td>\n",
       "      <td>0</td>\n",
       "      <td>0</td>\n",
       "      <td>...</td>\n",
       "      <td>0</td>\n",
       "      <td>0</td>\n",
       "      <td>0</td>\n",
       "      <td>0</td>\n",
       "      <td>0</td>\n",
       "      <td>4</td>\n",
       "      <td>0</td>\n",
       "      <td>0</td>\n",
       "      <td>0</td>\n",
       "      <td>0</td>\n",
       "    </tr>\n",
       "    <tr>\n",
       "      <th>Şebnem_Dönmez</th>\n",
       "      <td>0</td>\n",
       "      <td>0</td>\n",
       "      <td>0</td>\n",
       "      <td>0</td>\n",
       "      <td>0</td>\n",
       "      <td>0</td>\n",
       "      <td>0</td>\n",
       "      <td>0</td>\n",
       "      <td>0</td>\n",
       "      <td>0</td>\n",
       "      <td>...</td>\n",
       "      <td>0</td>\n",
       "      <td>1</td>\n",
       "      <td>0</td>\n",
       "      <td>0</td>\n",
       "      <td>1</td>\n",
       "      <td>0</td>\n",
       "      <td>1</td>\n",
       "      <td>0</td>\n",
       "      <td>0</td>\n",
       "      <td>0</td>\n",
       "    </tr>\n",
       "    <tr>\n",
       "      <th>Željko_Ivanek</th>\n",
       "      <td>0</td>\n",
       "      <td>0</td>\n",
       "      <td>0</td>\n",
       "      <td>0</td>\n",
       "      <td>0</td>\n",
       "      <td>0</td>\n",
       "      <td>0</td>\n",
       "      <td>0</td>\n",
       "      <td>0</td>\n",
       "      <td>0</td>\n",
       "      <td>...</td>\n",
       "      <td>0</td>\n",
       "      <td>0</td>\n",
       "      <td>0</td>\n",
       "      <td>0</td>\n",
       "      <td>0</td>\n",
       "      <td>0</td>\n",
       "      <td>0</td>\n",
       "      <td>17</td>\n",
       "      <td>0</td>\n",
       "      <td>0</td>\n",
       "    </tr>\n",
       "    <tr>\n",
       "      <th>佐々木望</th>\n",
       "      <td>0</td>\n",
       "      <td>0</td>\n",
       "      <td>0</td>\n",
       "      <td>0</td>\n",
       "      <td>0</td>\n",
       "      <td>0</td>\n",
       "      <td>0</td>\n",
       "      <td>0</td>\n",
       "      <td>0</td>\n",
       "      <td>0</td>\n",
       "      <td>...</td>\n",
       "      <td>0</td>\n",
       "      <td>0</td>\n",
       "      <td>0</td>\n",
       "      <td>0</td>\n",
       "      <td>0</td>\n",
       "      <td>0</td>\n",
       "      <td>0</td>\n",
       "      <td>0</td>\n",
       "      <td>1</td>\n",
       "      <td>0</td>\n",
       "    </tr>\n",
       "    <tr>\n",
       "      <th>田村英里子</th>\n",
       "      <td>0</td>\n",
       "      <td>0</td>\n",
       "      <td>0</td>\n",
       "      <td>0</td>\n",
       "      <td>0</td>\n",
       "      <td>0</td>\n",
       "      <td>0</td>\n",
       "      <td>0</td>\n",
       "      <td>0</td>\n",
       "      <td>0</td>\n",
       "      <td>...</td>\n",
       "      <td>0</td>\n",
       "      <td>0</td>\n",
       "      <td>0</td>\n",
       "      <td>0</td>\n",
       "      <td>0</td>\n",
       "      <td>0</td>\n",
       "      <td>0</td>\n",
       "      <td>0</td>\n",
       "      <td>0</td>\n",
       "      <td>1</td>\n",
       "    </tr>\n",
       "  </tbody>\n",
       "</table>\n",
       "<p>21924 rows × 21924 columns</p>\n",
       "</div>"
      ],
      "text/plain": [
       "actor_y        40_Glocc  50_Cent  A.D._Miles  A._J._Benza  A._J._Bowen  \\\n",
       "actor_x                                                                  \n",
       "40_Glocc              1        0           0            0            0   \n",
       "50_Cent               0        6           0            0            0   \n",
       "A.D._Miles            0        0           4            0            0   \n",
       "A._J._Benza           0        0           0            1            0   \n",
       "A._J._Bowen           0        0           0            0            3   \n",
       "...                 ...      ...         ...          ...          ...   \n",
       "Şafak_Sezer           0        0           0            0            0   \n",
       "Şebnem_Dönmez         0        0           0            0            0   \n",
       "Željko_Ivanek         0        0           0            0            0   \n",
       "佐々木望                  0        0           0            0            0   \n",
       "田村英里子                 0        0           0            0            0   \n",
       "\n",
       "actor_y        A._J._Buckley  A._J._Cook  A._J._Langer  A._Michael_Baldwin  \\\n",
       "actor_x                                                                      \n",
       "40_Glocc                   0           0             0                   0   \n",
       "50_Cent                    0           0             0                   0   \n",
       "A.D._Miles                 0           0             0                   0   \n",
       "A._J._Benza                0           0             0                   0   \n",
       "A._J._Bowen                0           0             0                   0   \n",
       "...                      ...         ...           ...                 ...   \n",
       "Şafak_Sezer                0           0             0                   0   \n",
       "Şebnem_Dönmez              0           0             0                   0   \n",
       "Željko_Ivanek              0           0             0                   0   \n",
       "佐々木望                       0           0             0                   0   \n",
       "田村英里子                      0           0             0                   0   \n",
       "\n",
       "actor_y        A_Martinez  ...  Özgü_Namal  Özgür_Çevik  \\\n",
       "actor_x                    ...                            \n",
       "40_Glocc                0  ...           0            0   \n",
       "50_Cent                 0  ...           0            0   \n",
       "A.D._Miles              0  ...           0            0   \n",
       "A._J._Benza             0  ...           0            0   \n",
       "A._J._Bowen             0  ...           0            0   \n",
       "...                   ...  ...         ...          ...   \n",
       "Şafak_Sezer             0  ...           0            0   \n",
       "Şebnem_Dönmez           0  ...           0            1   \n",
       "Željko_Ivanek           0  ...           0            0   \n",
       "佐々木望                    0  ...           0            0   \n",
       "田村英里子                   0  ...           0            0   \n",
       "\n",
       "actor_y        Þröstur_Leó_Gunnarsson  İdil_Fırat  İsmail_Hacıoğlu  \\\n",
       "actor_x                                                              \n",
       "40_Glocc                            0           0                0   \n",
       "50_Cent                             0           0                0   \n",
       "A.D._Miles                          0           0                0   \n",
       "A._J._Benza                         0           0                0   \n",
       "A._J._Bowen                         0           0                0   \n",
       "...                               ...         ...              ...   \n",
       "Şafak_Sezer                         0           0                0   \n",
       "Şebnem_Dönmez                       0           0                1   \n",
       "Željko_Ivanek                       0           0                0   \n",
       "佐々木望                                0           0                0   \n",
       "田村英里子                               0           0                0   \n",
       "\n",
       "actor_y        Şafak_Sezer  Şebnem_Dönmez  Željko_Ivanek  佐々木望  田村英里子  \n",
       "actor_x                                                                \n",
       "40_Glocc                 0              0              0     0      0  \n",
       "50_Cent                  0              0              0     0      0  \n",
       "A.D._Miles               0              0              0     0      0  \n",
       "A._J._Benza              0              0              0     0      0  \n",
       "A._J._Bowen              0              0              0     0      0  \n",
       "...                    ...            ...            ...   ...    ...  \n",
       "Şafak_Sezer              4              0              0     0      0  \n",
       "Şebnem_Dönmez            0              1              0     0      0  \n",
       "Željko_Ivanek            0              0             17     0      0  \n",
       "佐々木望                     0              0              0     1      0  \n",
       "田村英里子                    0              0              0     0      1  \n",
       "\n",
       "[21924 rows x 21924 columns]"
      ]
     },
     "execution_count": 86,
     "metadata": {},
     "output_type": "execute_result"
    }
   ],
   "source": [
    "frequencies"
   ]
  },
  {
   "cell_type": "code",
   "execution_count": 87,
   "id": "297f2a53-41e1-4a1c-b6fc-554bd402993f",
   "metadata": {},
   "outputs": [],
   "source": [
    "degrees = frequencies.astype('bool').sum(axis = 0) - 1"
   ]
  },
  {
   "cell_type": "code",
   "execution_count": 89,
   "id": "f6f7a520-5ca9-467b-ba16-d0e8ac35fa06",
   "metadata": {},
   "outputs": [],
   "source": [
    "degrees_ordered = pd.DataFrame(degrees, columns = ['degree']).reindex(actorMetrics['actor'].values).reset_index()"
   ]
  },
  {
   "cell_type": "code",
   "execution_count": 90,
   "id": "260e9dad-ee53-4d29-94c7-ab138f52a01c",
   "metadata": {},
   "outputs": [],
   "source": [
    "actorMetrics['degree'] = degrees_ordered['degree']"
   ]
  },
  {
   "cell_type": "code",
   "execution_count": 91,
   "id": "91703032-db31-4dd1-b95d-25d8a7683fab",
   "metadata": {},
   "outputs": [
    {
     "data": {
      "text/html": [
       "<div>\n",
       "<style scoped>\n",
       "    .dataframe tbody tr th:only-of-type {\n",
       "        vertical-align: middle;\n",
       "    }\n",
       "\n",
       "    .dataframe tbody tr th {\n",
       "        vertical-align: top;\n",
       "    }\n",
       "\n",
       "    .dataframe thead th {\n",
       "        text-align: right;\n",
       "    }\n",
       "</style>\n",
       "<table border=\"1\" class=\"dataframe\">\n",
       "  <thead>\n",
       "    <tr style=\"text-align: right;\">\n",
       "      <th></th>\n",
       "      <th>actor</th>\n",
       "      <th>revenue_avg</th>\n",
       "      <th>grade_avg</th>\n",
       "      <th>revenue_sum</th>\n",
       "      <th>grade_sum</th>\n",
       "      <th>appearances</th>\n",
       "      <th>score_sum</th>\n",
       "      <th>EPFLsum</th>\n",
       "      <th>cluster</th>\n",
       "      <th>degree</th>\n",
       "    </tr>\n",
       "  </thead>\n",
       "  <tbody>\n",
       "    <tr>\n",
       "      <th>0</th>\n",
       "      <td>Dustin_Farnum</td>\n",
       "      <td>6.117500e+06</td>\n",
       "      <td>2.861536</td>\n",
       "      <td>6.117500e+06</td>\n",
       "      <td>2.861536</td>\n",
       "      <td>1</td>\n",
       "      <td>16.678023</td>\n",
       "      <td>2.697314</td>\n",
       "      <td>1</td>\n",
       "      <td>0</td>\n",
       "    </tr>\n",
       "    <tr>\n",
       "      <th>1</th>\n",
       "      <td>Elmer_Clifton</td>\n",
       "      <td>1.250000e+09</td>\n",
       "      <td>4.791714</td>\n",
       "      <td>1.250000e+09</td>\n",
       "      <td>4.791714</td>\n",
       "      <td>1</td>\n",
       "      <td>22.513298</td>\n",
       "      <td>4.217113</td>\n",
       "      <td>2</td>\n",
       "      <td>13</td>\n",
       "    </tr>\n",
       "    <tr>\n",
       "      <th>2</th>\n",
       "      <td>Robert_Harron</td>\n",
       "      <td>1.250000e+09</td>\n",
       "      <td>4.791714</td>\n",
       "      <td>1.250000e+09</td>\n",
       "      <td>4.791714</td>\n",
       "      <td>1</td>\n",
       "      <td>22.513298</td>\n",
       "      <td>4.217113</td>\n",
       "      <td>2</td>\n",
       "      <td>13</td>\n",
       "    </tr>\n",
       "    <tr>\n",
       "      <th>3</th>\n",
       "      <td>Walter_Long</td>\n",
       "      <td>1.250000e+09</td>\n",
       "      <td>4.791714</td>\n",
       "      <td>1.250000e+09</td>\n",
       "      <td>4.791714</td>\n",
       "      <td>1</td>\n",
       "      <td>22.513298</td>\n",
       "      <td>4.217113</td>\n",
       "      <td>2</td>\n",
       "      <td>13</td>\n",
       "    </tr>\n",
       "    <tr>\n",
       "      <th>4</th>\n",
       "      <td>Violet_Wilkey</td>\n",
       "      <td>1.250000e+09</td>\n",
       "      <td>4.791714</td>\n",
       "      <td>1.250000e+09</td>\n",
       "      <td>4.791714</td>\n",
       "      <td>1</td>\n",
       "      <td>22.513298</td>\n",
       "      <td>4.217113</td>\n",
       "      <td>2</td>\n",
       "      <td>13</td>\n",
       "    </tr>\n",
       "    <tr>\n",
       "      <th>...</th>\n",
       "      <td>...</td>\n",
       "      <td>...</td>\n",
       "      <td>...</td>\n",
       "      <td>...</td>\n",
       "      <td>...</td>\n",
       "      <td>...</td>\n",
       "      <td>...</td>\n",
       "      <td>...</td>\n",
       "      <td>...</td>\n",
       "      <td>...</td>\n",
       "    </tr>\n",
       "    <tr>\n",
       "      <th>21919</th>\n",
       "      <td>Kathleen_Rose_Perkins</td>\n",
       "      <td>4.254150e+06</td>\n",
       "      <td>4.961153</td>\n",
       "      <td>4.254150e+06</td>\n",
       "      <td>4.961153</td>\n",
       "      <td>1</td>\n",
       "      <td>16.865044</td>\n",
       "      <td>2.746024</td>\n",
       "      <td>1</td>\n",
       "      <td>7</td>\n",
       "    </tr>\n",
       "    <tr>\n",
       "      <th>21920</th>\n",
       "      <td>Bo_Barrett</td>\n",
       "      <td>4.254150e+06</td>\n",
       "      <td>4.961153</td>\n",
       "      <td>4.254150e+06</td>\n",
       "      <td>4.961153</td>\n",
       "      <td>1</td>\n",
       "      <td>16.865044</td>\n",
       "      <td>2.746024</td>\n",
       "      <td>1</td>\n",
       "      <td>7</td>\n",
       "    </tr>\n",
       "    <tr>\n",
       "      <th>21921</th>\n",
       "      <td>Odeya_Rush</td>\n",
       "      <td>5.256953e+07</td>\n",
       "      <td>5.482188</td>\n",
       "      <td>5.256953e+07</td>\n",
       "      <td>5.482188</td>\n",
       "      <td>1</td>\n",
       "      <td>19.479151</td>\n",
       "      <td>3.426869</td>\n",
       "      <td>2</td>\n",
       "      <td>12</td>\n",
       "    </tr>\n",
       "    <tr>\n",
       "      <th>21922</th>\n",
       "      <td>Kendall_Ryan_Sanders</td>\n",
       "      <td>5.256953e+07</td>\n",
       "      <td>5.482188</td>\n",
       "      <td>5.256953e+07</td>\n",
       "      <td>5.482188</td>\n",
       "      <td>1</td>\n",
       "      <td>19.479151</td>\n",
       "      <td>3.426869</td>\n",
       "      <td>2</td>\n",
       "      <td>12</td>\n",
       "    </tr>\n",
       "    <tr>\n",
       "      <th>21923</th>\n",
       "      <td>George_Sampson</td>\n",
       "      <td>2.165467e+07</td>\n",
       "      <td>3.398850</td>\n",
       "      <td>2.165467e+07</td>\n",
       "      <td>3.398850</td>\n",
       "      <td>1</td>\n",
       "      <td>18.114169</td>\n",
       "      <td>3.071359</td>\n",
       "      <td>1</td>\n",
       "      <td>0</td>\n",
       "    </tr>\n",
       "  </tbody>\n",
       "</table>\n",
       "<p>21924 rows × 10 columns</p>\n",
       "</div>"
      ],
      "text/plain": [
       "                       actor   revenue_avg  grade_avg   revenue_sum  \\\n",
       "0              Dustin_Farnum  6.117500e+06   2.861536  6.117500e+06   \n",
       "1              Elmer_Clifton  1.250000e+09   4.791714  1.250000e+09   \n",
       "2              Robert_Harron  1.250000e+09   4.791714  1.250000e+09   \n",
       "3                Walter_Long  1.250000e+09   4.791714  1.250000e+09   \n",
       "4              Violet_Wilkey  1.250000e+09   4.791714  1.250000e+09   \n",
       "...                      ...           ...        ...           ...   \n",
       "21919  Kathleen_Rose_Perkins  4.254150e+06   4.961153  4.254150e+06   \n",
       "21920             Bo_Barrett  4.254150e+06   4.961153  4.254150e+06   \n",
       "21921             Odeya_Rush  5.256953e+07   5.482188  5.256953e+07   \n",
       "21922   Kendall_Ryan_Sanders  5.256953e+07   5.482188  5.256953e+07   \n",
       "21923         George_Sampson  2.165467e+07   3.398850  2.165467e+07   \n",
       "\n",
       "       grade_sum  appearances  score_sum   EPFLsum  cluster  degree  \n",
       "0       2.861536            1  16.678023  2.697314        1       0  \n",
       "1       4.791714            1  22.513298  4.217113        2      13  \n",
       "2       4.791714            1  22.513298  4.217113        2      13  \n",
       "3       4.791714            1  22.513298  4.217113        2      13  \n",
       "4       4.791714            1  22.513298  4.217113        2      13  \n",
       "...          ...          ...        ...       ...      ...     ...  \n",
       "21919   4.961153            1  16.865044  2.746024        1       7  \n",
       "21920   4.961153            1  16.865044  2.746024        1       7  \n",
       "21921   5.482188            1  19.479151  3.426869        2      12  \n",
       "21922   5.482188            1  19.479151  3.426869        2      12  \n",
       "21923   3.398850            1  18.114169  3.071359        1       0  \n",
       "\n",
       "[21924 rows x 10 columns]"
      ]
     },
     "execution_count": 91,
     "metadata": {},
     "output_type": "execute_result"
    }
   ],
   "source": [
    "actorMetrics"
   ]
  },
  {
   "cell_type": "code",
   "execution_count": 188,
   "id": "a5eabf1d-5721-462d-8dc0-aefc03b1441a",
   "metadata": {},
   "outputs": [],
   "source": [
    "#Degrees of actors\n",
    "\n",
    "ordered_values = degrees.sort_values(ascending = False).reset_index(drop = True)"
   ]
  },
  {
   "cell_type": "code",
   "execution_count": 189,
   "id": "5bd289b3-a856-4f30-9a0d-ffd2bd54c886",
   "metadata": {},
   "outputs": [
    {
     "data": {
      "text/plain": [
       "0        799\n",
       "1        740\n",
       "2        690\n",
       "3        647\n",
       "4        634\n",
       "        ... \n",
       "21919      0\n",
       "21920      0\n",
       "21921      0\n",
       "21922      0\n",
       "21923      0\n",
       "Length: 21924, dtype: int64"
      ]
     },
     "execution_count": 189,
     "metadata": {},
     "output_type": "execute_result"
    }
   ],
   "source": [
    "ordered_values"
   ]
  },
  {
   "cell_type": "code",
   "execution_count": 190,
   "id": "de52bc32-b36e-499e-a508-eaf59abf0c06",
   "metadata": {},
   "outputs": [
    {
     "data": {
      "image/png": "[encoded data removed]",
      "text/plain": [
       "<Figure size 1000x400 with 2 Axes>"
      ]
     },
     "metadata": {},
     "output_type": "display_data"
    }
   ],
   "source": [
    "fig, axs = plt.subplots(1, 2, figsize = (10, 4))\n",
    "axs[0].hist(degrees, bins = 20, color = 'C8')\n",
    "\n",
    "axs[1].loglog(ordered_values.index, ordered_values.values, color = 'C2')\n",
    "fig.suptitle('dist degrees of actors, raw & logged')\n",
    "plt.show()"
   ]
  },
  {
   "cell_type": "markdown",
   "id": "3a386e9c-bfb1-4858-938e-c6457e76b2f8",
   "metadata": {
    "tags": []
   },
   "source": [
    ">seems like a power law, respected clusters, with k1 most succesful actors having highest degrees seems to be exponential relationship between score & degree, the higher the score the more exponentially higher the degree"
   ]
  },
  {
   "cell_type": "code",
   "execution_count": 174,
   "id": "02a1d539-b9c7-4a01-a716-da4d64a601ba",
   "metadata": {},
   "outputs": [],
   "source": [
    "actorMetrics['logged_degree'] = np.log(actorMetrics['degree'] + 1)"
   ]
  },
  {
   "cell_type": "code",
   "execution_count": 175,
   "id": "bb759606-5f60-4031-ac92-e7b497cb6378",
   "metadata": {},
   "outputs": [],
   "source": [
    "k1 = actorMetrics[actorMetrics['cluster'] == 0]\n",
    "k2 = actorMetrics[actorMetrics['cluster'] == 1]\n",
    "k3 = actorMetrics[actorMetrics['cluster'] == 2]\n",
    "\n",
    "clusters = [k1, k2, k3]"
   ]
  },
  {
   "cell_type": "code",
   "execution_count": 180,
   "id": "c0ca3bc3-d85d-479f-8731-99494b1db95c",
   "metadata": {},
   "outputs": [
    {
     "data": {
      "image/png": "[encoded data removed]",
      "text/plain": [
       "<Figure size 1000x800 with 4 Axes>"
      ]
     },
     "metadata": {},
     "output_type": "display_data"
    }
   ],
   "source": [
    "#matplotlib basic colors (blue k1, orange k2, green k3)\n",
    "fig, axs = plt.subplots(2, 2, figsize = (10,8))\n",
    "for idx, k in enumerate(clusters):\n",
    "    axs[0,0].scatter(k['EPFLsum'], k['logged_degree'], color = 'C'+str(idx), alpha = 0.6)\n",
    "    axs[0,1].scatter(k['EPFLavg'], k['logged_degree'], color = 'C'+str(idx), alpha = 0.6)\n",
    "    axs[1,0].scatter(k['EPFLsum'], k['degree'], color = 'C'+str(idx), alpha = 0.6)\n",
    "    axs[1,1].scatter(k['EPFLavg'], k['degree'], color = 'C'+str(idx), alpha = 0.6)\n",
    "\n",
    "    \n",
    "fig.suptitle('star score versus degrees (sum score & avg score) (vertical : logged, unlogged degree)')\n",
    "plt.show()"
   ]
  },
  {
   "cell_type": "markdown",
   "id": "6113ee8f-ab39-46ba-b975-509d3aa90f43",
   "metadata": {},
   "source": [
    ">Degrees seems to definitely be a metric that qualifies the same clusters.\n",
    "\n",
    ">degrees per actor is proportional to appearances, nothing special here\n",
    "degrees favors casts with a large cast"
   ]
  },
  {
   "cell_type": "code",
   "execution_count": 178,
   "id": "b7763685-b74a-436d-98d7-34c7a63746cd",
   "metadata": {},
   "outputs": [
    {
     "name": "stdout",
     "output_type": "stream",
     "text": [
      "                            OLS Regression Results                            \n",
      "==============================================================================\n",
      "Dep. Variable:          logged_degree   R-squared:                       0.682\n",
      "Model:                            OLS   Adj. R-squared:                  0.682\n",
      "Method:                 Least Squares   F-statistic:                 4.696e+04\n",
      "Date:                Wed, 14 Dec 2022   Prob (F-statistic):               0.00\n",
      "Time:                        09:57:37   Log-Likelihood:                -18804.\n",
      "No. Observations:               21924   AIC:                         3.761e+04\n",
      "Df Residuals:                   21922   BIC:                         3.763e+04\n",
      "Df Model:                           1                                         \n",
      "Covariance Type:            nonrobust                                         \n",
      "==============================================================================\n",
      "                 coef    std err          t      P>|t|      [0.025      0.975]\n",
      "------------------------------------------------------------------------------\n",
      "Intercept     -0.7531      0.019    -40.492      0.000      -0.790      -0.717\n",
      "EPFLsum        1.0722      0.005    216.700      0.000       1.062       1.082\n",
      "==============================================================================\n",
      "Omnibus:                      327.954   Durbin-Watson:                   1.227\n",
      "Prob(Omnibus):                  0.000   Jarque-Bera (JB):              526.255\n",
      "Skew:                          -0.142   Prob(JB):                    5.31e-115\n",
      "Kurtosis:                       3.704   Cond. No.                         19.4\n",
      "==============================================================================\n",
      "\n",
      "Notes:\n",
      "[1] Standard Errors assume that the covariance matrix of the errors is correctly specified.\n"
     ]
    }
   ],
   "source": [
    "import statsmodels.formula.api as smf #for linear and logistic regression\n",
    "\n",
    "mod = smf.ols(formula='logged_degree ~ EPFLsum', data = actorMetrics)\n",
    "res = mod.fit()\n",
    "print(res.summary())"
   ]
  },
  {
   "cell_type": "code",
   "execution_count": null,
   "id": "086c9cad-5a24-4ed8-89bc-e9d863579ef2",
   "metadata": {},
   "outputs": [],
   "source": [
    "#show that sequels of movies have lower ratings\n",
    "#keeps the same cast and decreases in \n",
    "#rating which shows a unsignificant correlation between appearances & imdb grades\n"
   ]
  },
  {
   "cell_type": "code",
   "execution_count": 51,
   "id": "626247d0-b36e-4d8c-ad03-86db32e2f944",
   "metadata": {},
   "outputs": [],
   "source": [
    "import networkx as nx"
   ]
  },
  {
   "cell_type": "code",
   "execution_count": 104,
   "id": "fff21a24-631b-4d6b-b9fd-2ef7627acb07",
   "metadata": {},
   "outputs": [
    {
     "data": {
      "text/plain": [
       "'Graph = nx.Graph()\\nGraph.add_nodes_from(frequencies.index)\\n\\n\\nfor i in range(len(frequencies)):\\n    if (i%1000 == 0): print(i)\\n    for j in range(len(frequencies)):\\n        if (frequencies.iloc[i, j] != 0) & (i != j):\\n            Graph.add_edge(i, j, weight = frequencies.iloc[i, j])'"
      ]
     },
     "execution_count": 104,
     "metadata": {},
     "output_type": "execute_result"
    }
   ],
   "source": [
    "Graph = nx.Graph()\n",
    "Graph.add_nodes_from(frequencies.index)\n",
    "\n",
    "\n",
    "for i in range(len(frequencies)):\n",
    "    if (i%1000 == 0): print(i)\n",
    "    for j in range(len(frequencies)):\n",
    "        if (frequencies.iloc[i, j] != 0) & (i != j):\n",
    "            Graph.add_edge(i, j, weight = frequencies.iloc[i, j])"
   ]
  },
  {
   "cell_type": "code",
   "execution_count": null,
   "id": "02db7b98-6933-408f-bd4e-c7827fb9aab7",
   "metadata": {},
   "outputs": [],
   "source": []
  },
  {
   "cell_type": "markdown",
   "id": "6a02d201-d505-4d8b-9ea0-201e55cbe3f9",
   "metadata": {
    "jp-MarkdownHeadingCollapsed": true,
    "tags": []
   },
   "source": [
    "## total genre visualization & dendogram (NCC, next cell chungus)"
   ]
  },
  {
   "cell_type": "code",
   "execution_count": 38,
   "id": "c080fb56-f399-484e-b25e-6b907d37afe0",
   "metadata": {},
   "outputs": [],
   "source": [
    "genres_list = sum(list_to_join, [])"
   ]
  },
  {
   "cell_type": "code",
   "execution_count": 49,
   "id": "ff686912-0c18-40a5-a6a2-5b666ef0b897",
   "metadata": {},
   "outputs": [],
   "source": [
    "df_genres = pd.DataFrame({'genres' : genres_list}) #len 433190"
   ]
  },
  {
   "cell_type": "code",
   "execution_count": 50,
   "id": "b7b4ab32-ca1e-4abd-b00f-4582548f16d1",
   "metadata": {},
   "outputs": [
    {
     "data": {
      "text/html": [
       "<div>\n",
       "<style scoped>\n",
       "    .dataframe tbody tr th:only-of-type {\n",
       "        vertical-align: middle;\n",
       "    }\n",
       "\n",
       "    .dataframe tbody tr th {\n",
       "        vertical-align: top;\n",
       "    }\n",
       "\n",
       "    .dataframe thead th {\n",
       "        text-align: right;\n",
       "    }\n",
       "</style>\n",
       "<table border=\"1\" class=\"dataframe\">\n",
       "  <thead>\n",
       "    <tr style=\"text-align: right;\">\n",
       "      <th></th>\n",
       "      <th>genres</th>\n",
       "    </tr>\n",
       "  </thead>\n",
       "  <tbody>\n",
       "    <tr>\n",
       "      <th>0</th>\n",
       "      <td>Silent film</td>\n",
       "    </tr>\n",
       "    <tr>\n",
       "      <th>1</th>\n",
       "      <td>Western</td>\n",
       "    </tr>\n",
       "    <tr>\n",
       "      <th>2</th>\n",
       "      <td>Drama</td>\n",
       "    </tr>\n",
       "    <tr>\n",
       "      <th>3</th>\n",
       "      <td>Indie</td>\n",
       "    </tr>\n",
       "    <tr>\n",
       "      <th>4</th>\n",
       "      <td>Black-and-white</td>\n",
       "    </tr>\n",
       "    <tr>\n",
       "      <th>...</th>\n",
       "      <td>...</td>\n",
       "    </tr>\n",
       "    <tr>\n",
       "      <th>396581</th>\n",
       "      <td>Nature</td>\n",
       "    </tr>\n",
       "    <tr>\n",
       "      <th>414077</th>\n",
       "      <td>News</td>\n",
       "    </tr>\n",
       "    <tr>\n",
       "      <th>414421</th>\n",
       "      <td>Fictional film</td>\n",
       "    </tr>\n",
       "    <tr>\n",
       "      <th>417054</th>\n",
       "      <td>Bloopers &amp; Candid Camera</td>\n",
       "    </tr>\n",
       "    <tr>\n",
       "      <th>431562</th>\n",
       "      <td>Coming-of-age film</td>\n",
       "    </tr>\n",
       "  </tbody>\n",
       "</table>\n",
       "<p>308 rows × 1 columns</p>\n",
       "</div>"
      ],
      "text/plain": [
       "                          genres\n",
       "0                    Silent film\n",
       "1                        Western\n",
       "2                          Drama\n",
       "3                          Indie\n",
       "4                Black-and-white\n",
       "...                          ...\n",
       "396581                    Nature\n",
       "414077                      News\n",
       "414421            Fictional film\n",
       "417054  Bloopers & Candid Camera\n",
       "431562        Coming-of-age film\n",
       "\n",
       "[308 rows x 1 columns]"
      ]
     },
     "execution_count": 50,
     "metadata": {},
     "output_type": "execute_result"
    }
   ],
   "source": [
    "df_genres.drop_duplicates() #308 genres"
   ]
  },
  {
   "cell_type": "code",
   "execution_count": 58,
   "id": "2e9324c8-fd94-482a-9806-f1bf188634bc",
   "metadata": {},
   "outputs": [],
   "source": [
    "genre_occurences = pd.DataFrame(df_genres.groupby(['genres']).size(), columns = ['count'])"
   ]
  },
  {
   "cell_type": "code",
   "execution_count": 59,
   "id": "c84b39d7-ae64-400b-925a-45425a866929",
   "metadata": {},
   "outputs": [
    {
     "data": {
      "text/html": [
       "<div>\n",
       "<style scoped>\n",
       "    .dataframe tbody tr th:only-of-type {\n",
       "        vertical-align: middle;\n",
       "    }\n",
       "\n",
       "    .dataframe tbody tr th {\n",
       "        vertical-align: top;\n",
       "    }\n",
       "\n",
       "    .dataframe thead th {\n",
       "        text-align: right;\n",
       "    }\n",
       "</style>\n",
       "<table border=\"1\" class=\"dataframe\">\n",
       "  <thead>\n",
       "    <tr style=\"text-align: right;\">\n",
       "      <th></th>\n",
       "      <th>count</th>\n",
       "      <th>count_percentage</th>\n",
       "    </tr>\n",
       "    <tr>\n",
       "      <th>genres</th>\n",
       "      <th></th>\n",
       "      <th></th>\n",
       "    </tr>\n",
       "  </thead>\n",
       "  <tbody>\n",
       "    <tr>\n",
       "      <th>Absurdism</th>\n",
       "      <td>732</td>\n",
       "      <td>0.001690</td>\n",
       "    </tr>\n",
       "    <tr>\n",
       "      <th>Acid western</th>\n",
       "      <td>29</td>\n",
       "      <td>0.000067</td>\n",
       "    </tr>\n",
       "    <tr>\n",
       "      <th>Action</th>\n",
       "      <td>18710</td>\n",
       "      <td>0.043191</td>\n",
       "    </tr>\n",
       "    <tr>\n",
       "      <th>Action Comedy</th>\n",
       "      <td>916</td>\n",
       "      <td>0.002115</td>\n",
       "    </tr>\n",
       "    <tr>\n",
       "      <th>Action Thrillers</th>\n",
       "      <td>2103</td>\n",
       "      <td>0.004855</td>\n",
       "    </tr>\n",
       "    <tr>\n",
       "      <th>...</th>\n",
       "      <td>...</td>\n",
       "      <td>...</td>\n",
       "    </tr>\n",
       "    <tr>\n",
       "      <th>Workplace Comedy</th>\n",
       "      <td>506</td>\n",
       "      <td>0.001168</td>\n",
       "    </tr>\n",
       "    <tr>\n",
       "      <th>World History</th>\n",
       "      <td>3</td>\n",
       "      <td>0.000007</td>\n",
       "    </tr>\n",
       "    <tr>\n",
       "      <th>World cinema</th>\n",
       "      <td>3450</td>\n",
       "      <td>0.007964</td>\n",
       "    </tr>\n",
       "    <tr>\n",
       "      <th>Wuxia</th>\n",
       "      <td>46</td>\n",
       "      <td>0.000106</td>\n",
       "    </tr>\n",
       "    <tr>\n",
       "      <th>Zombie Film</th>\n",
       "      <td>412</td>\n",
       "      <td>0.000951</td>\n",
       "    </tr>\n",
       "  </tbody>\n",
       "</table>\n",
       "<p>308 rows × 2 columns</p>\n",
       "</div>"
      ],
      "text/plain": [
       "                  count  count_percentage\n",
       "genres                                   \n",
       "Absurdism           732          0.001690\n",
       "Acid western         29          0.000067\n",
       "Action            18710          0.043191\n",
       "Action Comedy       916          0.002115\n",
       "Action Thrillers   2103          0.004855\n",
       "...                 ...               ...\n",
       "Workplace Comedy    506          0.001168\n",
       "World History         3          0.000007\n",
       "World cinema       3450          0.007964\n",
       "Wuxia                46          0.000106\n",
       "Zombie Film         412          0.000951\n",
       "\n",
       "[308 rows x 2 columns]"
      ]
     },
     "metadata": {},
     "output_type": "display_data"
    }
   ],
   "source": [
    "genre_occurences['count_percentage'] = genre_occurences['count']/len(df_genres)\n",
    "display(genre_occurences)"
   ]
  },
  {
   "cell_type": "code",
   "execution_count": 66,
   "id": "2ced0db9-05fe-45df-8912-a1853467294e",
   "metadata": {},
   "outputs": [
    {
     "data": {
      "text/html": [
       "<div>\n",
       "<style scoped>\n",
       "    .dataframe tbody tr th:only-of-type {\n",
       "        vertical-align: middle;\n",
       "    }\n",
       "\n",
       "    .dataframe tbody tr th {\n",
       "        vertical-align: top;\n",
       "    }\n",
       "\n",
       "    .dataframe thead th {\n",
       "        text-align: right;\n",
       "    }\n",
       "</style>\n",
       "<table border=\"1\" class=\"dataframe\">\n",
       "  <thead>\n",
       "    <tr style=\"text-align: right;\">\n",
       "      <th></th>\n",
       "      <th>count</th>\n",
       "      <th>count_percentage</th>\n",
       "    </tr>\n",
       "    <tr>\n",
       "      <th>genres</th>\n",
       "      <th></th>\n",
       "      <th></th>\n",
       "    </tr>\n",
       "  </thead>\n",
       "  <tbody>\n",
       "    <tr>\n",
       "      <th>Drama</th>\n",
       "      <td>41556</td>\n",
       "      <td>0.095930</td>\n",
       "    </tr>\n",
       "    <tr>\n",
       "      <th>Comedy</th>\n",
       "      <td>33827</td>\n",
       "      <td>0.078088</td>\n",
       "    </tr>\n",
       "    <tr>\n",
       "      <th>Thriller</th>\n",
       "      <td>20337</td>\n",
       "      <td>0.046947</td>\n",
       "    </tr>\n",
       "    <tr>\n",
       "      <th>Romance Film</th>\n",
       "      <td>20180</td>\n",
       "      <td>0.046585</td>\n",
       "    </tr>\n",
       "    <tr>\n",
       "      <th>Action</th>\n",
       "      <td>18710</td>\n",
       "      <td>0.043191</td>\n",
       "    </tr>\n",
       "    <tr>\n",
       "      <th>Action/Adventure</th>\n",
       "      <td>14525</td>\n",
       "      <td>0.033530</td>\n",
       "    </tr>\n",
       "    <tr>\n",
       "      <th>Crime Fiction</th>\n",
       "      <td>13189</td>\n",
       "      <td>0.030446</td>\n",
       "    </tr>\n",
       "    <tr>\n",
       "      <th>Adventure</th>\n",
       "      <td>12871</td>\n",
       "      <td>0.029712</td>\n",
       "    </tr>\n",
       "    <tr>\n",
       "      <th>Family Film</th>\n",
       "      <td>9574</td>\n",
       "      <td>0.022101</td>\n",
       "    </tr>\n",
       "    <tr>\n",
       "      <th>Romantic comedy</th>\n",
       "      <td>9498</td>\n",
       "      <td>0.021926</td>\n",
       "    </tr>\n",
       "    <tr>\n",
       "      <th>Indie</th>\n",
       "      <td>9440</td>\n",
       "      <td>0.021792</td>\n",
       "    </tr>\n",
       "    <tr>\n",
       "      <th>Fantasy</th>\n",
       "      <td>8323</td>\n",
       "      <td>0.019213</td>\n",
       "    </tr>\n",
       "    <tr>\n",
       "      <th>Period piece</th>\n",
       "      <td>7762</td>\n",
       "      <td>0.017918</td>\n",
       "    </tr>\n",
       "    <tr>\n",
       "      <th>Romantic drama</th>\n",
       "      <td>7293</td>\n",
       "      <td>0.016836</td>\n",
       "    </tr>\n",
       "    <tr>\n",
       "      <th>Science Fiction</th>\n",
       "      <td>7131</td>\n",
       "      <td>0.016462</td>\n",
       "    </tr>\n",
       "    <tr>\n",
       "      <th>Mystery</th>\n",
       "      <td>7127</td>\n",
       "      <td>0.016452</td>\n",
       "    </tr>\n",
       "    <tr>\n",
       "      <th>Film adaptation</th>\n",
       "      <td>6986</td>\n",
       "      <td>0.016127</td>\n",
       "    </tr>\n",
       "    <tr>\n",
       "      <th>Horror</th>\n",
       "      <td>6673</td>\n",
       "      <td>0.015404</td>\n",
       "    </tr>\n",
       "    <tr>\n",
       "      <th>Comedy-drama</th>\n",
       "      <td>6098</td>\n",
       "      <td>0.014077</td>\n",
       "    </tr>\n",
       "    <tr>\n",
       "      <th>Crime Thriller</th>\n",
       "      <td>5899</td>\n",
       "      <td>0.013618</td>\n",
       "    </tr>\n",
       "    <tr>\n",
       "      <th>Musical</th>\n",
       "      <td>5008</td>\n",
       "      <td>0.011561</td>\n",
       "    </tr>\n",
       "    <tr>\n",
       "      <th>Teen</th>\n",
       "      <td>4412</td>\n",
       "      <td>0.010185</td>\n",
       "    </tr>\n",
       "    <tr>\n",
       "      <th>War film</th>\n",
       "      <td>4113</td>\n",
       "      <td>0.009495</td>\n",
       "    </tr>\n",
       "    <tr>\n",
       "      <th>Parody</th>\n",
       "      <td>3907</td>\n",
       "      <td>0.009019</td>\n",
       "    </tr>\n",
       "    <tr>\n",
       "      <th>Black comedy</th>\n",
       "      <td>3867</td>\n",
       "      <td>0.008927</td>\n",
       "    </tr>\n",
       "    <tr>\n",
       "      <th>Psychological thriller</th>\n",
       "      <td>3703</td>\n",
       "      <td>0.008548</td>\n",
       "    </tr>\n",
       "    <tr>\n",
       "      <th>Coming of age</th>\n",
       "      <td>3638</td>\n",
       "      <td>0.008398</td>\n",
       "    </tr>\n",
       "    <tr>\n",
       "      <th>Animation</th>\n",
       "      <td>3560</td>\n",
       "      <td>0.008218</td>\n",
       "    </tr>\n",
       "    <tr>\n",
       "      <th>Children\\'s/Family</th>\n",
       "      <td>3485</td>\n",
       "      <td>0.008045</td>\n",
       "    </tr>\n",
       "    <tr>\n",
       "      <th>World cinema</th>\n",
       "      <td>3450</td>\n",
       "      <td>0.007964</td>\n",
       "    </tr>\n",
       "    <tr>\n",
       "      <th>Sports</th>\n",
       "      <td>3167</td>\n",
       "      <td>0.007311</td>\n",
       "    </tr>\n",
       "    <tr>\n",
       "      <th>Cult</th>\n",
       "      <td>3120</td>\n",
       "      <td>0.007202</td>\n",
       "    </tr>\n",
       "    <tr>\n",
       "      <th>Biography</th>\n",
       "      <td>2975</td>\n",
       "      <td>0.006868</td>\n",
       "    </tr>\n",
       "    <tr>\n",
       "      <th>Costume drama</th>\n",
       "      <td>2767</td>\n",
       "      <td>0.006387</td>\n",
       "    </tr>\n",
       "    <tr>\n",
       "      <th>Black-and-white</th>\n",
       "      <td>2750</td>\n",
       "      <td>0.006348</td>\n",
       "    </tr>\n",
       "    <tr>\n",
       "      <th>Suspense</th>\n",
       "      <td>2730</td>\n",
       "      <td>0.006302</td>\n",
       "    </tr>\n",
       "    <tr>\n",
       "      <th>LGBT</th>\n",
       "      <td>2637</td>\n",
       "      <td>0.006087</td>\n",
       "    </tr>\n",
       "    <tr>\n",
       "      <th>Family Drama</th>\n",
       "      <td>2628</td>\n",
       "      <td>0.006067</td>\n",
       "    </tr>\n",
       "    <tr>\n",
       "      <th>Biographical film</th>\n",
       "      <td>2569</td>\n",
       "      <td>0.005930</td>\n",
       "    </tr>\n",
       "    <tr>\n",
       "      <th>Buddy film</th>\n",
       "      <td>2516</td>\n",
       "      <td>0.005808</td>\n",
       "    </tr>\n",
       "    <tr>\n",
       "      <th>Western</th>\n",
       "      <td>2423</td>\n",
       "      <td>0.005593</td>\n",
       "    </tr>\n",
       "    <tr>\n",
       "      <th>Ensemble Film</th>\n",
       "      <td>2410</td>\n",
       "      <td>0.005563</td>\n",
       "    </tr>\n",
       "    <tr>\n",
       "      <th>Slapstick</th>\n",
       "      <td>2384</td>\n",
       "      <td>0.005503</td>\n",
       "    </tr>\n",
       "    <tr>\n",
       "      <th>Satire</th>\n",
       "      <td>2220</td>\n",
       "      <td>0.005125</td>\n",
       "    </tr>\n",
       "    <tr>\n",
       "      <th>Action Thrillers</th>\n",
       "      <td>2103</td>\n",
       "      <td>0.004855</td>\n",
       "    </tr>\n",
       "    <tr>\n",
       "      <th>Political drama</th>\n",
       "      <td>1871</td>\n",
       "      <td>0.004319</td>\n",
       "    </tr>\n",
       "    <tr>\n",
       "      <th>Supernatural</th>\n",
       "      <td>1781</td>\n",
       "      <td>0.004111</td>\n",
       "    </tr>\n",
       "    <tr>\n",
       "      <th>Slasher</th>\n",
       "      <td>1711</td>\n",
       "      <td>0.003950</td>\n",
       "    </tr>\n",
       "    <tr>\n",
       "      <th>Biopic [feature]</th>\n",
       "      <td>1680</td>\n",
       "      <td>0.003878</td>\n",
       "    </tr>\n",
       "    <tr>\n",
       "      <th>Gangster Film</th>\n",
       "      <td>1601</td>\n",
       "      <td>0.003696</td>\n",
       "    </tr>\n",
       "  </tbody>\n",
       "</table>\n",
       "</div>"
      ],
      "text/plain": [
       "                        count  count_percentage\n",
       "genres                                         \n",
       "Drama                   41556          0.095930\n",
       "Comedy                  33827          0.078088\n",
       "Thriller                20337          0.046947\n",
       "Romance Film            20180          0.046585\n",
       "Action                  18710          0.043191\n",
       "Action/Adventure        14525          0.033530\n",
       "Crime Fiction           13189          0.030446\n",
       "Adventure               12871          0.029712\n",
       "Family Film              9574          0.022101\n",
       "Romantic comedy          9498          0.021926\n",
       "Indie                    9440          0.021792\n",
       "Fantasy                  8323          0.019213\n",
       "Period piece             7762          0.017918\n",
       "Romantic drama           7293          0.016836\n",
       "Science Fiction          7131          0.016462\n",
       "Mystery                  7127          0.016452\n",
       "Film adaptation          6986          0.016127\n",
       "Horror                   6673          0.015404\n",
       "Comedy-drama             6098          0.014077\n",
       "Crime Thriller           5899          0.013618\n",
       "Musical                  5008          0.011561\n",
       "Teen                     4412          0.010185\n",
       "War film                 4113          0.009495\n",
       "Parody                   3907          0.009019\n",
       "Black comedy             3867          0.008927\n",
       "Psychological thriller   3703          0.008548\n",
       "Coming of age            3638          0.008398\n",
       "Animation                3560          0.008218\n",
       "Children\\'s/Family       3485          0.008045\n",
       "World cinema             3450          0.007964\n",
       "Sports                   3167          0.007311\n",
       "Cult                     3120          0.007202\n",
       "Biography                2975          0.006868\n",
       "Costume drama            2767          0.006387\n",
       "Black-and-white          2750          0.006348\n",
       "Suspense                 2730          0.006302\n",
       "LGBT                     2637          0.006087\n",
       "Family Drama             2628          0.006067\n",
       "Biographical film        2569          0.005930\n",
       "Buddy film               2516          0.005808\n",
       "Western                  2423          0.005593\n",
       "Ensemble Film            2410          0.005563\n",
       "Slapstick                2384          0.005503\n",
       "Satire                   2220          0.005125\n",
       "Action Thrillers         2103          0.004855\n",
       "Political drama          1871          0.004319\n",
       "Supernatural             1781          0.004111\n",
       "Slasher                  1711          0.003950\n",
       "Biopic [feature]         1680          0.003878\n",
       "Gangster Film            1601          0.003696"
      ]
     },
     "execution_count": 66,
     "metadata": {},
     "output_type": "execute_result"
    }
   ],
   "source": [
    "genre_occurences.sort_values(by ='count_percentage', ascending = False).head(50)"
   ]
  },
  {
   "cell_type": "markdown",
   "id": "75ca2253-ef72-4c77-9dbb-4ee015d6e9f9",
   "metadata": {
    "jp-MarkdownHeadingCollapsed": true,
    "tags": []
   },
   "source": [
    "## imdb stuff"
   ]
  },
  {
   "cell_type": "code",
   "execution_count": null,
   "id": "14f62d41-7b3d-4f26-a8de-4c7cae24bfdc",
   "metadata": {},
   "outputs": [],
   "source": []
  }
 ],
 "metadata": {
  "kernelspec": {
   "display_name": "Python 3 (ipykernel)",
   "language": "python",
   "name": "python3"
  },
  "language_info": {
   "codemirror_mode": {
    "name": "ipython",
    "version": 3
   },
   "file_extension": ".py",
   "mimetype": "text/x-python",
   "name": "python",
   "nbconvert_exporter": "python",
   "pygments_lexer": "ipython3",
   "version": "3.9.13"
  }
 },
 "nbformat": 4,
 "nbformat_minor": 5
}
