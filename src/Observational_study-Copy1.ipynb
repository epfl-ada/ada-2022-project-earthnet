{
 "cells": [
  {
   "cell_type": "markdown",
   "id": "f1df1fb8-ace6-4cc4-8577-5386fcab6f03",
   "metadata": {},
   "source": [
    "# Observational study"
   ]
  },
  {
   "cell_type": "markdown",
   "id": "a71cd0b4-738a-4799-afcb-8c36b2c857e0",
   "metadata": {},
   "source": [
    "The goal of the present project is to define a valid metric to evaluate the impact of actors on movies. Specifically, distilling actors careers to a single number, the *star score*. Identifying the latter implies the need to identify truly successful actors, namely actors that had the highest positive impact on movies, in terms of revenues and ratings. Given the presence of multiple confounders, such as the affinity of actors with particulare genres or gender disparities, an observational study is carried out to limit the influence of unobserved covariates."
   ]
  },
  {
   "cell_type": "code",
   "execution_count": 259,
   "id": "10b8e2d0-eb55-4467-b318-0b10732a10eb",
   "metadata": {},
   "outputs": [],
   "source": [
    "import pandas as pd\n",
    "import numpy as np\n",
    "import matplotlib.pyplot as plt\n",
    "import matplotlib.patheffects as pe\n",
    "%matplotlib inline\n",
    "\n",
    "import datetime as dt\n",
    "import seaborn as sns\n",
    "from scipy import stats\n",
    "import statsmodels.api as sm\n",
    "import re\n",
    "import warnings\n",
    "warnings.filterwarnings('ignore')"
   ]
  },
  {
   "cell_type": "code",
   "execution_count": 260,
   "id": "696797e7-4041-4043-8b5d-63cc4bd66a08",
   "metadata": {},
   "outputs": [],
   "source": [
    "#importing our clean data\n",
    "data = pd.read_csv('../data/data.csv', index_col = 0)\n",
    "data_profit = pd.read_csv('../data/profit_data.csv', index_col = 0)\n",
    "actors = pd.read_csv('../data/timeScores.csv', index_col = 0)\n",
    "imdb = pd.read_csv('../data/imdb_budgets.csv', index_col = 0)\n",
    "ss = pd.read_csv('obs.csv', index_col = 0)"
   ]
  },
  {
   "cell_type": "code",
   "execution_count": 261,
   "id": "d2436cb3-37ca-48f0-9510-27cf0b1aa337",
   "metadata": {},
   "outputs": [],
   "source": [
    "usual_suspects = actors.columns.tolist()[1: -2]\n",
    "\n",
    "def save_values(df, columns):\n",
    "    \n",
    "    for col in columns:\n",
    "        if (col != 'genres'):\n",
    "            df[col] = df[col].apply(lambda x : x[1:-1].split(' '))\n",
    "        else:\n",
    "            df[col] = df[col].apply(lambda x : x.split(\"\\'\")[1::2])\n",
    "    \n",
    "    return df\n",
    "\n",
    "timeScores_fixed = save_values(actors,usual_suspects)"
   ]
  },
  {
   "cell_type": "code",
   "execution_count": 262,
   "id": "dd446b86-3942-4236-b128-dfef49001091",
   "metadata": {},
   "outputs": [],
   "source": [
    "actors['appearances'] = ss['appearances']\n",
    "actors['gender'] = ss['gender']\n",
    "actors['revenues'] = ss['rev_sum']\n",
    "actors['ratings'] = ss['grade_sum']\n",
    "actors['birthdate'] = data['Actor_date_of_birth']"
   ]
  },
  {
   "cell_type": "code",
   "execution_count": 263,
   "id": "444f64f8-7a20-4be3-a81c-b27e60fce6fa",
   "metadata": {},
   "outputs": [],
   "source": [
    "actors['birthdate'] = pd.to_datetime(actors['birthdate']).dt.year"
   ]
  },
  {
   "cell_type": "code",
   "execution_count": 228,
   "id": "7f007632-f5c2-4923-b3dc-e7a628dd88a8",
   "metadata": {},
   "outputs": [
    {
     "data": {
      "text/html": [
       "<div>\n",
       "<style scoped>\n",
       "    .dataframe tbody tr th:only-of-type {\n",
       "        vertical-align: middle;\n",
       "    }\n",
       "\n",
       "    .dataframe tbody tr th {\n",
       "        vertical-align: top;\n",
       "    }\n",
       "\n",
       "    .dataframe thead th {\n",
       "        text-align: right;\n",
       "    }\n",
       "</style>\n",
       "<table border=\"1\" class=\"dataframe\">\n",
       "  <thead>\n",
       "    <tr style=\"text-align: right;\">\n",
       "      <th></th>\n",
       "      <th>actor</th>\n",
       "      <th>revenues</th>\n",
       "      <th>movie_years</th>\n",
       "      <th>ratings</th>\n",
       "      <th>cumulative_revenue</th>\n",
       "      <th>cumulative_ratings</th>\n",
       "      <th>star_score</th>\n",
       "      <th>epfl_score</th>\n",
       "      <th>genres</th>\n",
       "      <th>genre_count</th>\n",
       "      <th>main_genre</th>\n",
       "      <th>2nd_genre</th>\n",
       "      <th>appearances</th>\n",
       "      <th>gender</th>\n",
       "      <th>birthdate</th>\n",
       "      <th>tenure</th>\n",
       "    </tr>\n",
       "  </thead>\n",
       "  <tbody>\n",
       "    <tr>\n",
       "      <th>0</th>\n",
       "      <td>Dustin_Farnum</td>\n",
       "      <td>6.117500e+06</td>\n",
       "      <td>[1914.]</td>\n",
       "      <td>2.861536</td>\n",
       "      <td>[6117500.]</td>\n",
       "      <td>[2.86153647]</td>\n",
       "      <td>[16.67802278]</td>\n",
       "      <td>[2.69731427]</td>\n",
       "      <td>[Black-and-white, Drama, Indie, Silent film, W...</td>\n",
       "      <td>[1, 1, 1, 1, 1]</td>\n",
       "      <td>Black-and-white</td>\n",
       "      <td>Drama</td>\n",
       "      <td>1.0</td>\n",
       "      <td>M</td>\n",
       "      <td>1874</td>\n",
       "      <td>1</td>\n",
       "    </tr>\n",
       "    <tr>\n",
       "      <th>1</th>\n",
       "      <td>Elmer_Clifton</td>\n",
       "      <td>1.250000e+09</td>\n",
       "      <td>[1915.]</td>\n",
       "      <td>4.791714</td>\n",
       "      <td>[1.25e+09]</td>\n",
       "      <td>[4.79171404]</td>\n",
       "      <td>[22.51329757]</td>\n",
       "      <td>[4.21711313]</td>\n",
       "      <td>[Black-and-white, Costume drama, Drama, Epic, ...</td>\n",
       "      <td>[1, 1, 1, 1, 1, 1, 1]</td>\n",
       "      <td>Black-and-white</td>\n",
       "      <td>Costume drama</td>\n",
       "      <td>1.0</td>\n",
       "      <td>M</td>\n",
       "      <td>1890</td>\n",
       "      <td>1</td>\n",
       "    </tr>\n",
       "    <tr>\n",
       "      <th>2</th>\n",
       "      <td>Robert_Harron</td>\n",
       "      <td>1.250000e+09</td>\n",
       "      <td>[1915.]</td>\n",
       "      <td>4.791714</td>\n",
       "      <td>[1.25e+09]</td>\n",
       "      <td>[4.79171404]</td>\n",
       "      <td>[22.51329757]</td>\n",
       "      <td>[4.21711313]</td>\n",
       "      <td>[Black-and-white, Costume drama, Drama, Epic, ...</td>\n",
       "      <td>[1, 1, 1, 1, 1, 1, 1]</td>\n",
       "      <td>Black-and-white</td>\n",
       "      <td>Costume drama</td>\n",
       "      <td>1.0</td>\n",
       "      <td>M</td>\n",
       "      <td>1893</td>\n",
       "      <td>1</td>\n",
       "    </tr>\n",
       "  </tbody>\n",
       "</table>\n",
       "</div>"
      ],
      "text/plain": [
       "           actor      revenues movie_years   ratings cumulative_revenue  \\\n",
       "0  Dustin_Farnum  6.117500e+06     [1914.]  2.861536         [6117500.]   \n",
       "1  Elmer_Clifton  1.250000e+09     [1915.]  4.791714         [1.25e+09]   \n",
       "2  Robert_Harron  1.250000e+09     [1915.]  4.791714         [1.25e+09]   \n",
       "\n",
       "  cumulative_ratings     star_score    epfl_score  \\\n",
       "0       [2.86153647]  [16.67802278]  [2.69731427]   \n",
       "1       [4.79171404]  [22.51329757]  [4.21711313]   \n",
       "2       [4.79171404]  [22.51329757]  [4.21711313]   \n",
       "\n",
       "                                              genres            genre_count  \\\n",
       "0  [Black-and-white, Drama, Indie, Silent film, W...        [1, 1, 1, 1, 1]   \n",
       "1  [Black-and-white, Costume drama, Drama, Epic, ...  [1, 1, 1, 1, 1, 1, 1]   \n",
       "2  [Black-and-white, Costume drama, Drama, Epic, ...  [1, 1, 1, 1, 1, 1, 1]   \n",
       "\n",
       "        main_genre      2nd_genre  appearances gender  birthdate  tenure  \n",
       "0  Black-and-white          Drama          1.0      M       1874       1  \n",
       "1  Black-and-white  Costume drama          1.0      M       1890       1  \n",
       "2  Black-and-white  Costume drama          1.0      M       1893       1  "
      ]
     },
     "execution_count": 228,
     "metadata": {},
     "output_type": "execute_result"
    }
   ],
   "source": [
    "actors.head(3)"
   ]
  },
  {
   "cell_type": "markdown",
   "id": "3068160d-7b4a-4094-b4ef-403bca742baf",
   "metadata": {},
   "source": [
    "At first, the correlation between budgets and revenues is proved. This will allow us to use revenues as a solid metric for identifying successful actors later on.\n",
    "\n",
    "Profits are not directly used are a metric for success because of the lack of budget data from the IMDb movie dataset. Anyway, even if direct revenues can slightly influence the outputs, they are not to be ignored, because they provide useful information on movie success and popularity."
   ]
  },
  {
   "cell_type": "code",
   "execution_count": 7,
   "id": "369a210b-40d0-435d-93f8-1e886ccc46ed",
   "metadata": {},
   "outputs": [],
   "source": [
    "#group by movie\n",
    "budg = data_profit.groupby('Movie_name')['budget','Movie_box_office_revenue'].mean()"
   ]
  },
  {
   "cell_type": "markdown",
   "id": "3dd2e071-9648-4457-bf06-3afcce37ab2d",
   "metadata": {},
   "source": [
    "Pearson's and Spearman's correlations are used to capture the correlation between the two parameters. It is clear that the is a high linear correlation because of the results shown below."
   ]
  },
  {
   "cell_type": "code",
   "execution_count": 8,
   "id": "a9ed301c-245f-46e7-b718-a26d89b4d312",
   "metadata": {},
   "outputs": [
    {
     "data": {
      "text/plain": [
       "PearsonRResult(statistic=0.6579146048455062, pvalue=0.0)"
      ]
     },
     "execution_count": 8,
     "metadata": {},
     "output_type": "execute_result"
    }
   ],
   "source": [
    "stats.pearsonr(budg['budget'],budg['Movie_box_office_revenue']) #pearson correlation"
   ]
  },
  {
   "cell_type": "code",
   "execution_count": 9,
   "id": "dfd3a17f-55dc-445c-bfc5-b65bc6551e8c",
   "metadata": {},
   "outputs": [
    {
     "data": {
      "text/plain": [
       "SpearmanrResult(correlation=0.6470644194502557, pvalue=0.0)"
      ]
     },
     "execution_count": 9,
     "metadata": {},
     "output_type": "execute_result"
    }
   ],
   "source": [
    "stats.spearmanr(budg['budget'],budg['Movie_box_office_revenue']) #spearman correlation"
   ]
  },
  {
   "cell_type": "code",
   "execution_count": 10,
   "id": "a715425e-256a-430e-b3a6-37a53425e3ae",
   "metadata": {},
   "outputs": [],
   "source": [
    "#linear correlation plot (e.g., pearson)\n",
    "#sns.lmplot('budget','Movie_box_office_revenue', data=budg)"
   ]
  },
  {
   "cell_type": "markdown",
   "id": "d8a274bc-1955-4226-9133-d82c7d84d5d0",
   "metadata": {},
   "source": [
    "The treatment and control group of the observational study will be identified by the number of times actors starred in movies. The assumption is that successful actors keep acting, while the career of less-successfull ones ends early. This hypothesis is supported by the rich-get-richer mechanism, for which successful actors keep starring with other successful actors, making them even more successful and naturally generating a power law in the appearances distribution.\n",
    "\n",
    "Just as normal distributions arise from many independent random decisions averaging out, we power laws arise from the feedback introduced by correlated decisions across a population.\n",
    "\n",
    "Source:\n",
    "Networks, Crowds, and Markets: Reasoning about a Highly Connected World.\n",
    "By David Easley and Jon Kleinberg. Cambridge University Press, 2010.\n",
    "http://www.cs.cornell.edu/home/kleinber/networks-book/"
   ]
  },
  {
   "cell_type": "markdown",
   "id": "759c5e97-52ae-4c16-827b-ae50f51b8a64",
   "metadata": {},
   "source": [
    "Thedistribution of the number of appearances is shown below. The distribution is a power law because it is represented by a straight line in bi-logarithmic axes (it is linear in the log domain)."
   ]
  },
  {
   "cell_type": "code",
   "execution_count": 11,
   "id": "80f2edfd-e7d4-4d17-8a51-90bd39e38e73",
   "metadata": {},
   "outputs": [
    {
     "data": {
      "image/png": "[encoded data removed]",
      "text/plain": [
       "<Figure size 800x300 with 2 Axes>"
      ]
     },
     "metadata": {},
     "output_type": "display_data"
    }
   ],
   "source": [
    "#2 subplots\n",
    "fig, ax = plt.subplots(1,2, figsize=(8,3))\n",
    "\n",
    "#group by number of appearances and sort\n",
    "act = actors.groupby('appearances')['appearances'].count().sort_values(ascending=False)\n",
    "\n",
    "sbplt = ax[0]\n",
    "sbplt.hist(actors.appearances, bins=30)\n",
    "sbplt.set_title('Linear axes')\n",
    "sbplt.set_xlabel('Appearances')\n",
    "\n",
    "sbplt = ax[1]\n",
    "sbplt.loglog(act.index,act.values)\n",
    "sbplt.set_title('Logarithmic axes')\n",
    "sbplt.set_xlabel('Appearances')\n",
    "    \n",
    "fig.tight_layout()\n",
    "plt.show()"
   ]
  },
  {
   "cell_type": "markdown",
   "id": "91edd85a-cf1c-4636-a29f-bdfccf336bd1",
   "metadata": {},
   "source": [
    "The appearances distribution split by gender shows differences between actors and actresses career. The trends are similar (power-law distributions), but the differences are evident. This is a possible confounder to be tackled when conducting the observational study."
   ]
  },
  {
   "cell_type": "code",
   "execution_count": 76,
   "id": "164ba7cc-5b2b-405d-96e1-8809aaaf2287",
   "metadata": {},
   "outputs": [],
   "source": [
    "#split into male/female actors\n",
    "dt1 = actors[actors['gender'] == 'M']\n",
    "dt2 = actors[actors['gender'] == 'F']\n",
    "\n",
    "#group by number of appearances and sort\n",
    "act1 = dt1.groupby('appearances')['appearances'].count().sort_values(ascending=False)\n",
    "act2 = dt2.groupby('appearances')['appearances'].count().sort_values(ascending=False)\n",
    "\n",
    "#compute cdf for revenue distribution by gender\n",
    "rev_ordered = dt1.revenues.sort_values() #sort dataset in ascending order\n",
    "rev_ordered2 = dt2.revenues.sort_values() #sort dataset in ascending order\n",
    "tot = dt1.revenues.sum() #compute total sum of revenues\n",
    "tot2 = dt2.revenues.sum() #compute total sum of revenues\n",
    "pdf = rev_ordered.apply(lambda x: x/tot) #compute pdf\n",
    "pdf2 = rev_ordered2.apply(lambda x: x/tot2) #compute pdf\n",
    "cdf = np.cumsum(pdf) #compute cdf\n",
    "cdf2 = np.cumsum(pdf2) #compute cdf"
   ]
  },
  {
   "cell_type": "code",
   "execution_count": 77,
   "id": "be2feb8d-d43e-4887-a393-a40e65af3a0a",
   "metadata": {},
   "outputs": [
    {
     "data": {
      "image/png": "[encoded data removed]",
      "text/plain": [
       "<Figure size 800x300 with 2 Axes>"
      ]
     },
     "metadata": {},
     "output_type": "display_data"
    }
   ],
   "source": [
    "#2 subplots\n",
    "fig, ax = plt.subplots(1,2, figsize=(8,3))\n",
    "\n",
    "sbplt = ax[0]\n",
    "sbplt.loglog(act1.index,act1.values, label='actors')\n",
    "sbplt.loglog(act2.index,act2.values, label='actresses')\n",
    "sbplt.set_title('Average appearance distribution by gender')\n",
    "sbplt.set_xlabel('Appearances')\n",
    "sbplt.legend()\n",
    "\n",
    "sbplt = ax[1]\n",
    "sbplt.loglog(rev_ordered,cdf,label='actors')\n",
    "plt.loglog(rev_ordered2,cdf2,label='actresses')\n",
    "sbplt.set_title('Average revenue distribution by gender')\n",
    "sbplt.set_xlabel('Revenues')\n",
    "sbplt.legend()\n",
    "    \n",
    "fig.tight_layout()\n",
    "plt.show()"
   ]
  },
  {
   "cell_type": "markdown",
   "id": "ac77ce44-ca9f-413e-9139-6d43cfd61ce8",
   "metadata": {},
   "source": [
    "An independent tests is also performed to verify if the difference is statistically significant. For both appearances and revenues distributions the p-values of the indepent tests are lower than the imposed threshold (0.05), therefore the null hypothesis that the averages are equal is rejected."
   ]
  },
  {
   "cell_type": "code",
   "execution_count": 78,
   "id": "9461677c-8b8b-4b13-ba21-6dd2cdbcc300",
   "metadata": {},
   "outputs": [
    {
     "data": {
      "text/plain": [
       "Ttest_indResult(statistic=7.397133627830433, pvalue=1.441588428038182e-13)"
      ]
     },
     "execution_count": 78,
     "metadata": {},
     "output_type": "execute_result"
    }
   ],
   "source": [
    "#appearances of actors/actresses\n",
    "stats.ttest_ind(np.log(dt1.appearances), np.log(dt2.appearances)) #independent test"
   ]
  },
  {
   "cell_type": "code",
   "execution_count": 75,
   "id": "55c46faf-420a-494f-b77c-52930ba0ab7b",
   "metadata": {},
   "outputs": [
    {
     "data": {
      "text/plain": [
       "Ttest_indResult(statistic=3.5391244135734445, pvalue=0.00040228736302317964)"
      ]
     },
     "execution_count": 75,
     "metadata": {},
     "output_type": "execute_result"
    }
   ],
   "source": [
    "#appearances of actors/actresses\n",
    "stats.ttest_ind(np.log(dt1.revenues), np.log(dt2.revenues)) #independent test"
   ]
  },
  {
   "cell_type": "markdown",
   "id": "e934f301-9e0d-4a7f-998c-b39ee7466e79",
   "metadata": {},
   "source": [
    "Supported by rich-get-richer mechanism assumption, the treatment group will be the group with the higher number of appearances. The splitting of the dataset will be carried out based on the median of the distribution, more representative than the mean when considering skewed distributions.\n",
    "\n",
    "Of course, younger actors may have lower number of appearances only because they are at the beginning of their career. This possible confounder must be considered in the study and the birthdate of the actors is taken into account in the propensity score matching."
   ]
  },
  {
   "cell_type": "code",
   "execution_count": 79,
   "id": "cbd8c11c-ec75-4178-b6b4-4ffcde69266e",
   "metadata": {},
   "outputs": [
    {
     "name": "stdout",
     "output_type": "stream",
     "text": [
      "The median of the distribution is 2.0\n",
      "The mean of the distribution is 3.588943623426382\n"
     ]
    }
   ],
   "source": [
    "#median\n",
    "print('The median of the distribution is ' + str(np.median(actors.appearances)))\n",
    "print('The mean of the distribution is ' + str(np.mean(actors.appearances)))"
   ]
  },
  {
   "cell_type": "code",
   "execution_count": 80,
   "id": "5e7df064-8c7a-4e2e-bdb6-d3f78ed10f13",
   "metadata": {},
   "outputs": [],
   "source": [
    "#split into treatment and control groups\n",
    "actors['treatment'] = (actors['appearances'] > 2).astype(int)"
   ]
  },
  {
   "cell_type": "markdown",
   "id": "e633be03-76c0-459c-a1aa-019ddbbd5334",
   "metadata": {},
   "source": [
    "A first linear regression is performed on the dataset to investigate the correlation between the parameters of interest (revenues, ratings, appearances) BEFORE taking into account the matching based on propensity scores. These values could be interesting for the future comparison.\n",
    "\n",
    "As shown from the summary of the regression, there is a positive correlation between average revenues and appearances in actors careers and negative correlation between ratings and appearances. Both correlations are statistically significant (p-value lower than 0.05)."
   ]
  },
  {
   "cell_type": "code",
   "execution_count": 144,
   "id": "723e39fa-ba6b-4282-a3a8-bc18fcde7d0e",
   "metadata": {},
   "outputs": [],
   "source": [
    "#standardization of predictors\n",
    "Xt = actors[{'treatment','log_revenue','ratings'}]\n",
    "Xt['log_revenue'] = (Xt['log_revenue'] - Xt['log_revenue'].mean())/Xt['log_revenue'].std()\n",
    "Xt['ratings'] = (Xt['ratings'] - Xt['ratings'].mean())/Xt['ratings'].std()"
   ]
  },
  {
   "cell_type": "code",
   "execution_count": 145,
   "id": "08b26c02-47b4-4a25-8074-e98c10b610bd",
   "metadata": {},
   "outputs": [
    {
     "name": "stdout",
     "output_type": "stream",
     "text": [
      "                            OLS Regression Results                            \n",
      "==============================================================================\n",
      "Dep. Variable:              treatment   R-squared:                       0.089\n",
      "Model:                            OLS   Adj. R-squared:                  0.089\n",
      "Method:                 Least Squares   F-statistic:                     1069.\n",
      "Date:                Wed, 14 Dec 2022   Prob (F-statistic):               0.00\n",
      "Time:                        10:31:59   Log-Likelihood:                -13868.\n",
      "No. Observations:               21924   AIC:                         2.774e+04\n",
      "Df Residuals:                   21921   BIC:                         2.777e+04\n",
      "Df Model:                           2                                         \n",
      "Covariance Type:            nonrobust                                         \n",
      "===============================================================================\n",
      "                  coef    std err          t      P>|t|      [0.025      0.975]\n",
      "-------------------------------------------------------------------------------\n",
      "Intercept       0.3507      0.003    113.985      0.000       0.345       0.357\n",
      "log_revenue     0.1588      0.003     46.078      0.000       0.152       0.166\n",
      "ratings        -0.0598      0.003    -17.367      0.000      -0.067      -0.053\n",
      "==============================================================================\n",
      "Omnibus:                   123197.781   Durbin-Watson:                   0.790\n",
      "Prob(Omnibus):                  0.000   Jarque-Bera (JB):             2863.579\n",
      "Skew:                           0.443   Prob(JB):                         0.00\n",
      "Kurtosis:                       1.468   Cond. No.                         1.62\n",
      "==============================================================================\n",
      "\n",
      "Notes:\n",
      "[1] Standard Errors assume that the covariance matrix of the errors is correctly specified.\n"
     ]
    }
   ],
   "source": [
    "mod = smf.ols(formula='treatment ~ log_revenue + ratings',\n",
    "              data=Xt)\n",
    "res = mod.fit()\n",
    "print(res.summary())"
   ]
  },
  {
   "cell_type": "markdown",
   "id": "107b3a21-7b10-4956-9810-3467fa7db6c9",
   "metadata": {},
   "source": [
    "To limit the effect of confounders, the individuals of the groups will be matched on propensity score, namely the probability of being in the treatment group based on observed covariates."
   ]
  },
  {
   "cell_type": "markdown",
   "id": "82549461-d21f-483a-8f71-2ec7d9645ccc",
   "metadata": {},
   "source": [
    "To extract the propensity scores, a logistic regression is trained and applied on the same dataset, this will output the needed probabilities.\n",
    "\n",
    "In is worth mentioning that the revenues and ratings are characteristics that define the success of the movie and that will set the basis for the definition of the *star score*. Therefore, they are not included in the matching features, otherwise they would bias the process of identification of successful actors."
   ]
  },
  {
   "cell_type": "code",
   "execution_count": 81,
   "id": "63c50c9a-f017-4ad9-abd1-7da6c1dab23c",
   "metadata": {},
   "outputs": [],
   "source": [
    "X = actors[{'main_genre','2nd_genre','gender','birthdate'}]\n",
    "#X['birthdate'] = (X['birthdate'] - X['birthdate'].mean())/X['birthdate'].std()"
   ]
  },
  {
   "cell_type": "code",
   "execution_count": 82,
   "id": "f9f7ef83-3d33-4a73-8a3b-9cbbb84b59f9",
   "metadata": {},
   "outputs": [],
   "source": [
    "X = pd.get_dummies(X,columns=['main_genre','2nd_genre','gender'])\n",
    "y = actors['treatment']"
   ]
  },
  {
   "cell_type": "code",
   "execution_count": 83,
   "id": "e877ede0-20bb-46bf-b0e3-ee61ca8db511",
   "metadata": {},
   "outputs": [
    {
     "data": {
      "text/html": [
       "<div>\n",
       "<style scoped>\n",
       "    .dataframe tbody tr th:only-of-type {\n",
       "        vertical-align: middle;\n",
       "    }\n",
       "\n",
       "    .dataframe tbody tr th {\n",
       "        vertical-align: top;\n",
       "    }\n",
       "\n",
       "    .dataframe thead th {\n",
       "        text-align: right;\n",
       "    }\n",
       "</style>\n",
       "<table border=\"1\" class=\"dataframe\">\n",
       "  <thead>\n",
       "    <tr style=\"text-align: right;\">\n",
       "      <th></th>\n",
       "      <th>birthdate</th>\n",
       "      <th>main_genre_Absurdism</th>\n",
       "      <th>main_genre_Action</th>\n",
       "      <th>main_genre_Action Comedy</th>\n",
       "      <th>main_genre_Action Thrillers</th>\n",
       "      <th>main_genre_Action/Adventure</th>\n",
       "      <th>main_genre_Addiction Drama</th>\n",
       "      <th>main_genre_Adult</th>\n",
       "      <th>main_genre_Adventure</th>\n",
       "      <th>main_genre_Adventure Comedy</th>\n",
       "      <th>...</th>\n",
       "      <th>2nd_genre_Suspense</th>\n",
       "      <th>2nd_genre_Teen</th>\n",
       "      <th>2nd_genre_Thriller</th>\n",
       "      <th>2nd_genre_Time travel</th>\n",
       "      <th>2nd_genre_War film</th>\n",
       "      <th>2nd_genre_Western</th>\n",
       "      <th>2nd_genre_Workplace Comedy</th>\n",
       "      <th>2nd_genre_World cinema</th>\n",
       "      <th>gender_F</th>\n",
       "      <th>gender_M</th>\n",
       "    </tr>\n",
       "  </thead>\n",
       "  <tbody>\n",
       "    <tr>\n",
       "      <th>0</th>\n",
       "      <td>1874</td>\n",
       "      <td>0</td>\n",
       "      <td>0</td>\n",
       "      <td>0</td>\n",
       "      <td>0</td>\n",
       "      <td>0</td>\n",
       "      <td>0</td>\n",
       "      <td>0</td>\n",
       "      <td>0</td>\n",
       "      <td>0</td>\n",
       "      <td>...</td>\n",
       "      <td>0</td>\n",
       "      <td>0</td>\n",
       "      <td>0</td>\n",
       "      <td>0</td>\n",
       "      <td>0</td>\n",
       "      <td>0</td>\n",
       "      <td>0</td>\n",
       "      <td>0</td>\n",
       "      <td>0</td>\n",
       "      <td>1</td>\n",
       "    </tr>\n",
       "    <tr>\n",
       "      <th>1</th>\n",
       "      <td>1890</td>\n",
       "      <td>0</td>\n",
       "      <td>0</td>\n",
       "      <td>0</td>\n",
       "      <td>0</td>\n",
       "      <td>0</td>\n",
       "      <td>0</td>\n",
       "      <td>0</td>\n",
       "      <td>0</td>\n",
       "      <td>0</td>\n",
       "      <td>...</td>\n",
       "      <td>0</td>\n",
       "      <td>0</td>\n",
       "      <td>0</td>\n",
       "      <td>0</td>\n",
       "      <td>0</td>\n",
       "      <td>0</td>\n",
       "      <td>0</td>\n",
       "      <td>0</td>\n",
       "      <td>0</td>\n",
       "      <td>1</td>\n",
       "    </tr>\n",
       "    <tr>\n",
       "      <th>2</th>\n",
       "      <td>1893</td>\n",
       "      <td>0</td>\n",
       "      <td>0</td>\n",
       "      <td>0</td>\n",
       "      <td>0</td>\n",
       "      <td>0</td>\n",
       "      <td>0</td>\n",
       "      <td>0</td>\n",
       "      <td>0</td>\n",
       "      <td>0</td>\n",
       "      <td>...</td>\n",
       "      <td>0</td>\n",
       "      <td>0</td>\n",
       "      <td>0</td>\n",
       "      <td>0</td>\n",
       "      <td>0</td>\n",
       "      <td>0</td>\n",
       "      <td>0</td>\n",
       "      <td>0</td>\n",
       "      <td>0</td>\n",
       "      <td>1</td>\n",
       "    </tr>\n",
       "  </tbody>\n",
       "</table>\n",
       "<p>3 rows × 327 columns</p>\n",
       "</div>"
      ],
      "text/plain": [
       "   birthdate  main_genre_Absurdism  main_genre_Action  \\\n",
       "0       1874                     0                  0   \n",
       "1       1890                     0                  0   \n",
       "2       1893                     0                  0   \n",
       "\n",
       "   main_genre_Action Comedy  main_genre_Action Thrillers  \\\n",
       "0                         0                            0   \n",
       "1                         0                            0   \n",
       "2                         0                            0   \n",
       "\n",
       "   main_genre_Action/Adventure  main_genre_Addiction Drama  main_genre_Adult  \\\n",
       "0                            0                           0                 0   \n",
       "1                            0                           0                 0   \n",
       "2                            0                           0                 0   \n",
       "\n",
       "   main_genre_Adventure  main_genre_Adventure Comedy  ...  2nd_genre_Suspense  \\\n",
       "0                     0                            0  ...                   0   \n",
       "1                     0                            0  ...                   0   \n",
       "2                     0                            0  ...                   0   \n",
       "\n",
       "   2nd_genre_Teen  2nd_genre_Thriller  2nd_genre_Time travel  \\\n",
       "0               0                   0                      0   \n",
       "1               0                   0                      0   \n",
       "2               0                   0                      0   \n",
       "\n",
       "   2nd_genre_War film  2nd_genre_Western  2nd_genre_Workplace Comedy  \\\n",
       "0                   0                  0                           0   \n",
       "1                   0                  0                           0   \n",
       "2                   0                  0                           0   \n",
       "\n",
       "   2nd_genre_World cinema  gender_F  gender_M  \n",
       "0                       0         0         1  \n",
       "1                       0         0         1  \n",
       "2                       0         0         1  \n",
       "\n",
       "[3 rows x 327 columns]"
      ]
     },
     "execution_count": 83,
     "metadata": {},
     "output_type": "execute_result"
    }
   ],
   "source": [
    "X.head(3)"
   ]
  },
  {
   "cell_type": "code",
   "execution_count": 84,
   "id": "59a9a185-d547-46ed-aa7b-c810dac3b713",
   "metadata": {},
   "outputs": [
    {
     "data": {
      "text/html": [
       "<style>#sk-container-id-2 {color: black;background-color: white;}#sk-container-id-2 pre{padding: 0;}#sk-container-id-2 div.sk-toggleable {background-color: white;}#sk-container-id-2 label.sk-toggleable__label {cursor: pointer;display: block;width: 100%;margin-bottom: 0;padding: 0.3em;box-sizing: border-box;text-align: center;}#sk-container-id-2 label.sk-toggleable__label-arrow:before {content: \"▸\";float: left;margin-right: 0.25em;color: #696969;}#sk-container-id-2 label.sk-toggleable__label-arrow:hover:before {color: black;}#sk-container-id-2 div.sk-estimator:hover label.sk-toggleable__label-arrow:before {color: black;}#sk-container-id-2 div.sk-toggleable__content {max-height: 0;max-width: 0;overflow: hidden;text-align: left;background-color: #f0f8ff;}#sk-container-id-2 div.sk-toggleable__content pre {margin: 0.2em;color: black;border-radius: 0.25em;background-color: #f0f8ff;}#sk-container-id-2 input.sk-toggleable__control:checked~div.sk-toggleable__content {max-height: 200px;max-width: 100%;overflow: auto;}#sk-container-id-2 input.sk-toggleable__control:checked~label.sk-toggleable__label-arrow:before {content: \"▾\";}#sk-container-id-2 div.sk-estimator input.sk-toggleable__control:checked~label.sk-toggleable__label {background-color: #d4ebff;}#sk-container-id-2 div.sk-label input.sk-toggleable__control:checked~label.sk-toggleable__label {background-color: #d4ebff;}#sk-container-id-2 input.sk-hidden--visually {border: 0;clip: rect(1px 1px 1px 1px);clip: rect(1px, 1px, 1px, 1px);height: 1px;margin: -1px;overflow: hidden;padding: 0;position: absolute;width: 1px;}#sk-container-id-2 div.sk-estimator {font-family: monospace;background-color: #f0f8ff;border: 1px dotted black;border-radius: 0.25em;box-sizing: border-box;margin-bottom: 0.5em;}#sk-container-id-2 div.sk-estimator:hover {background-color: #d4ebff;}#sk-container-id-2 div.sk-parallel-item::after {content: \"\";width: 100%;border-bottom: 1px solid gray;flex-grow: 1;}#sk-container-id-2 div.sk-label:hover label.sk-toggleable__label {background-color: #d4ebff;}#sk-container-id-2 div.sk-serial::before {content: \"\";position: absolute;border-left: 1px solid gray;box-sizing: border-box;top: 0;bottom: 0;left: 50%;z-index: 0;}#sk-container-id-2 div.sk-serial {display: flex;flex-direction: column;align-items: center;background-color: white;padding-right: 0.2em;padding-left: 0.2em;position: relative;}#sk-container-id-2 div.sk-item {position: relative;z-index: 1;}#sk-container-id-2 div.sk-parallel {display: flex;align-items: stretch;justify-content: center;background-color: white;position: relative;}#sk-container-id-2 div.sk-item::before, #sk-container-id-2 div.sk-parallel-item::before {content: \"\";position: absolute;border-left: 1px solid gray;box-sizing: border-box;top: 0;bottom: 0;left: 50%;z-index: -1;}#sk-container-id-2 div.sk-parallel-item {display: flex;flex-direction: column;z-index: 1;position: relative;background-color: white;}#sk-container-id-2 div.sk-parallel-item:first-child::after {align-self: flex-end;width: 50%;}#sk-container-id-2 div.sk-parallel-item:last-child::after {align-self: flex-start;width: 50%;}#sk-container-id-2 div.sk-parallel-item:only-child::after {width: 0;}#sk-container-id-2 div.sk-dashed-wrapped {border: 1px dashed gray;margin: 0 0.4em 0.5em 0.4em;box-sizing: border-box;padding-bottom: 0.4em;background-color: white;}#sk-container-id-2 div.sk-label label {font-family: monospace;font-weight: bold;display: inline-block;line-height: 1.2em;}#sk-container-id-2 div.sk-label-container {text-align: center;}#sk-container-id-2 div.sk-container {/* jupyter's `normalize.less` sets `[hidden] { display: none; }` but bootstrap.min.css set `[hidden] { display: none !important; }` so we also need the `!important` here to be able to override the default hidden behavior on the sphinx rendered scikit-learn.org. See: https://github.com/scikit-learn/scikit-learn/issues/21755 */display: inline-block !important;position: relative;}#sk-container-id-2 div.sk-text-repr-fallback {display: none;}</style><div id=\"sk-container-id-2\" class=\"sk-top-container\"><div class=\"sk-text-repr-fallback\"><pre>LogisticRegression(max_iter=100000)</pre><b>In a Jupyter environment, please rerun this cell to show the HTML representation or trust the notebook. <br />On GitHub, the HTML representation is unable to render, please try loading this page with nbviewer.org.</b></div><div class=\"sk-container\" hidden><div class=\"sk-item\"><div class=\"sk-estimator sk-toggleable\"><input class=\"sk-toggleable__control sk-hidden--visually\" id=\"sk-estimator-id-2\" type=\"checkbox\" checked><label for=\"sk-estimator-id-2\" class=\"sk-toggleable__label sk-toggleable__label-arrow\">LogisticRegression</label><div class=\"sk-toggleable__content\"><pre>LogisticRegression(max_iter=100000)</pre></div></div></div></div></div>"
      ],
      "text/plain": [
       "LogisticRegression(max_iter=100000)"
      ]
     },
     "execution_count": 84,
     "metadata": {},
     "output_type": "execute_result"
    }
   ],
   "source": [
    "from sklearn.linear_model import LogisticRegression\n",
    "\n",
    "logistic = LogisticRegression(solver='lbfgs', max_iter=100000)\n",
    "logistic.fit(X,y)"
   ]
  },
  {
   "cell_type": "code",
   "execution_count": 85,
   "id": "0f182955-1284-40b9-b5a7-9d5fe35a2d97",
   "metadata": {},
   "outputs": [],
   "source": [
    "actors['propensity_score'] = [i[0] for i in list(logistic.predict_proba(X))]"
   ]
  },
  {
   "cell_type": "markdown",
   "id": "1d92f9da-6b0e-4a40-ba27-b63f5ac6e508",
   "metadata": {},
   "source": [
    "To further balance the two sub-groups of actors, the process will only match actors of the same gender. Indeed, as proved before, gender gives a bias for linking the actors to movie success.\n",
    "\n",
    "Given the extremely large size of the dataset and the matching exponential time needed to minimize the similarity difference between all the possible combinations, the matching is carried out on randomly chosen subsets of the balanced dataset. The statistical significance of the correlation will depend on the resulting p-value, corrected with the Bonferroni correction."
   ]
  },
  {
   "cell_type": "code",
   "execution_count": 86,
   "id": "55ab1b84-d8b5-4c81-a0d3-01dc6f4328eb",
   "metadata": {},
   "outputs": [],
   "source": [
    "#function to compute similarity (difference between propensity scores to be minimized in the matching)\n",
    "def get_similarity(prop1,prop2):\n",
    "    return 1-abs(prop1-prop2)"
   ]
  },
  {
   "cell_type": "code",
   "execution_count": 87,
   "id": "3023974f-66a6-48f4-bfb6-2b2923a29149",
   "metadata": {},
   "outputs": [],
   "source": [
    "import networkx as nx"
   ]
  },
  {
   "cell_type": "code",
   "execution_count": 195,
   "id": "4101a270-e434-43d3-855a-b0161341b44a",
   "metadata": {},
   "outputs": [],
   "source": [
    "actors_prop = actors.sort_values(by=['propensity_score'],ascending=False).reset_index()"
   ]
  },
  {
   "cell_type": "code",
   "execution_count": 104,
   "id": "523ab7be-6439-4de0-bc9b-56681f6b8861",
   "metadata": {},
   "outputs": [],
   "source": [
    "coefficients = []\n",
    "for i in range(20):\n",
    "    ran = actors.sample(frac=.01)\n",
    "\n",
    "    # Create an empty undirected graph\n",
    "    G = nx.Graph()\n",
    "\n",
    "    #define treatment and control groups\n",
    "    treat = ran[ran['appearances'] > 2]\n",
    "    contr = ran[ran['appearances'] <= 2]\n",
    "\n",
    "# Loop through all the pairs of instances\n",
    "    for i, j in contr.iterrows():\n",
    "        for k, l in treat.iterrows():\n",
    "            if j['gender'] == l['gender']:\n",
    "                # Calculate the similarity \n",
    "                similarity = get_similarity(j['propensity_score'],\n",
    "                                            l['propensity_score'])\n",
    "\n",
    "                # Add an edge between the two instances weighted by the similarity between them\n",
    "                G.add_weighted_edges_from([(i, k, similarity)])\n",
    "                \n",
    "                # Generate and return the maximum weight matching on the generated graph\n",
    "    matching = nx.max_weight_matching(G)\n",
    "\n",
    "    matched = [i[0] for i in list(matching)] + [i[1] for i in list(matching)] #create list with all indexes of people paired\n",
    "\n",
    "    balanced_df = actors.loc[matched] #extract only rows with paired subjects\n",
    "    \n",
    "    X1 = balanced_df[{'treatment','revenues','ratings'}]\n",
    "    X1['revenues'] = X1['revenues'].apply('log')\n",
    "    #X1['ratings'] = X1['ratings'].apply('log')\n",
    "    X1['revenues'] = (X1['revenues'] - X1['revenues'].mean())/X1['revenues'].std()\n",
    "    X1['ratings'] = (X1['ratings'] - X1['ratings'].mean())/X1['ratings'].std()\n",
    "    \n",
    "    import statsmodels.formula.api as smf\n",
    "    \n",
    "    mod = smf.ols(formula='treatment ~ revenues + ratings',\n",
    "              data=X1)\n",
    "    res = mod.fit()\n",
    "    coeff = res.params.values\n",
    "    p_values = res.pvalues\n",
    "    \n",
    "    coefficients.append({\"Int\": coeff[0], 'p_int': p_values[0], \"C1\": coeff[1], 'p1': p_values[1], \"C2\": coeff[2], 'p2': p_values[2]})"
   ]
  },
  {
   "cell_type": "markdown",
   "id": "959fdb50-cf14-45bc-be44-a6057ffb3b76",
   "metadata": {},
   "source": [
    "The results of the linear regression on the balanced datasets are shown below. In this case, given the number of randomly chosen samples (10), the Bonferroni correction would be given by:\n",
    "\n",
    "$\\alpha = \\frac{\\alpha_i}{n} = \\frac{0.05}{10} = 0.005$\n",
    "\n",
    "where $\\alpha$ is the overall alpha level, $\\alpha_i$ are the alpha levels for each hypothesis and $n$ is the number of hypothesis.\n",
    "\n",
    "From the results, it it possible to observe that there is always a positive correlation with the revenues and a negative correlation with the ratings. However, only the revenues show statistical significance, given that the p-values of all the conducted tests are larger than the imposed threshold.\n",
    "\n",
    "This results can be compared to the initial results of the regression done before the propensity score matching. The interesting variation is the non-statistical significance of the negative correlation between ratings and actors' appearances. Based on common sense, we can indeed conclude that actors that enter the rich-get-richer mecahnism loop and keep starring in movies increase the ratings of the movies they star in. The negative trend here shown is due to chance, and that is proved by the high p-value."
   ]
  },
  {
   "cell_type": "code",
   "execution_count": 106,
   "id": "01df8100-9e67-4211-b7a2-8956a9999497",
   "metadata": {},
   "outputs": [],
   "source": [
    "coef = pd.DataFrame(coefficients)"
   ]
  },
  {
   "cell_type": "code",
   "execution_count": 107,
   "id": "f08edb84-f461-4fc7-bad8-058ed55015b1",
   "metadata": {},
   "outputs": [
    {
     "data": {
      "text/html": [
       "<div>\n",
       "<style scoped>\n",
       "    .dataframe tbody tr th:only-of-type {\n",
       "        vertical-align: middle;\n",
       "    }\n",
       "\n",
       "    .dataframe tbody tr th {\n",
       "        vertical-align: top;\n",
       "    }\n",
       "\n",
       "    .dataframe thead th {\n",
       "        text-align: right;\n",
       "    }\n",
       "</style>\n",
       "<table border=\"1\" class=\"dataframe\">\n",
       "  <thead>\n",
       "    <tr style=\"text-align: right;\">\n",
       "      <th></th>\n",
       "      <th>Int</th>\n",
       "      <th>p_int</th>\n",
       "      <th>C1</th>\n",
       "      <th>p1</th>\n",
       "      <th>C2</th>\n",
       "      <th>p2</th>\n",
       "    </tr>\n",
       "  </thead>\n",
       "  <tbody>\n",
       "    <tr>\n",
       "      <th>0</th>\n",
       "      <td>0.5</td>\n",
       "      <td>1.063703e-25</td>\n",
       "      <td>0.063970</td>\n",
       "      <td>1.346034e-01</td>\n",
       "      <td>0.048032</td>\n",
       "      <td>0.260511</td>\n",
       "    </tr>\n",
       "    <tr>\n",
       "      <th>1</th>\n",
       "      <td>0.5</td>\n",
       "      <td>1.039421e-31</td>\n",
       "      <td>0.180170</td>\n",
       "      <td>4.895871e-06</td>\n",
       "      <td>-0.082323</td>\n",
       "      <td>0.032721</td>\n",
       "    </tr>\n",
       "    <tr>\n",
       "      <th>2</th>\n",
       "      <td>0.5</td>\n",
       "      <td>2.695705e-26</td>\n",
       "      <td>0.171122</td>\n",
       "      <td>4.648442e-04</td>\n",
       "      <td>-0.057159</td>\n",
       "      <td>0.233943</td>\n",
       "    </tr>\n",
       "    <tr>\n",
       "      <th>3</th>\n",
       "      <td>0.5</td>\n",
       "      <td>3.937830e-24</td>\n",
       "      <td>0.182169</td>\n",
       "      <td>3.566695e-05</td>\n",
       "      <td>-0.011992</td>\n",
       "      <td>0.778743</td>\n",
       "    </tr>\n",
       "    <tr>\n",
       "      <th>4</th>\n",
       "      <td>0.5</td>\n",
       "      <td>4.826215e-23</td>\n",
       "      <td>0.149314</td>\n",
       "      <td>3.209792e-03</td>\n",
       "      <td>-0.066981</td>\n",
       "      <td>0.180543</td>\n",
       "    </tr>\n",
       "    <tr>\n",
       "      <th>5</th>\n",
       "      <td>0.5</td>\n",
       "      <td>3.802448e-25</td>\n",
       "      <td>0.170697</td>\n",
       "      <td>2.091687e-04</td>\n",
       "      <td>-0.061993</td>\n",
       "      <td>0.169233</td>\n",
       "    </tr>\n",
       "    <tr>\n",
       "      <th>6</th>\n",
       "      <td>0.5</td>\n",
       "      <td>2.260106e-26</td>\n",
       "      <td>0.172853</td>\n",
       "      <td>1.233168e-04</td>\n",
       "      <td>-0.025241</td>\n",
       "      <td>0.565733</td>\n",
       "    </tr>\n",
       "    <tr>\n",
       "      <th>7</th>\n",
       "      <td>0.5</td>\n",
       "      <td>3.671886e-32</td>\n",
       "      <td>0.167653</td>\n",
       "      <td>6.267266e-05</td>\n",
       "      <td>-0.052264</td>\n",
       "      <td>0.203379</td>\n",
       "    </tr>\n",
       "    <tr>\n",
       "      <th>8</th>\n",
       "      <td>0.5</td>\n",
       "      <td>5.732719e-27</td>\n",
       "      <td>0.170048</td>\n",
       "      <td>1.047772e-04</td>\n",
       "      <td>0.005288</td>\n",
       "      <td>0.901572</td>\n",
       "    </tr>\n",
       "    <tr>\n",
       "      <th>9</th>\n",
       "      <td>0.5</td>\n",
       "      <td>2.611509e-29</td>\n",
       "      <td>0.221533</td>\n",
       "      <td>5.547944e-08</td>\n",
       "      <td>-0.136022</td>\n",
       "      <td>0.000598</td>\n",
       "    </tr>\n",
       "    <tr>\n",
       "      <th>10</th>\n",
       "      <td>0.5</td>\n",
       "      <td>1.719022e-30</td>\n",
       "      <td>0.219535</td>\n",
       "      <td>1.407240e-07</td>\n",
       "      <td>-0.065042</td>\n",
       "      <td>0.105302</td>\n",
       "    </tr>\n",
       "    <tr>\n",
       "      <th>11</th>\n",
       "      <td>0.5</td>\n",
       "      <td>6.713427e-28</td>\n",
       "      <td>0.165466</td>\n",
       "      <td>1.245174e-04</td>\n",
       "      <td>0.030560</td>\n",
       "      <td>0.468431</td>\n",
       "    </tr>\n",
       "    <tr>\n",
       "      <th>12</th>\n",
       "      <td>0.5</td>\n",
       "      <td>8.843522e-27</td>\n",
       "      <td>0.169773</td>\n",
       "      <td>1.263437e-04</td>\n",
       "      <td>-0.009776</td>\n",
       "      <td>0.821095</td>\n",
       "    </tr>\n",
       "    <tr>\n",
       "      <th>13</th>\n",
       "      <td>0.5</td>\n",
       "      <td>4.441949e-26</td>\n",
       "      <td>0.138178</td>\n",
       "      <td>1.530116e-03</td>\n",
       "      <td>-0.105001</td>\n",
       "      <td>0.015323</td>\n",
       "    </tr>\n",
       "    <tr>\n",
       "      <th>14</th>\n",
       "      <td>0.5</td>\n",
       "      <td>5.167941e-25</td>\n",
       "      <td>0.217556</td>\n",
       "      <td>1.591780e-06</td>\n",
       "      <td>-0.105476</td>\n",
       "      <td>0.016268</td>\n",
       "    </tr>\n",
       "    <tr>\n",
       "      <th>15</th>\n",
       "      <td>0.5</td>\n",
       "      <td>4.283605e-28</td>\n",
       "      <td>0.149275</td>\n",
       "      <td>2.829457e-04</td>\n",
       "      <td>-0.058246</td>\n",
       "      <td>0.149626</td>\n",
       "    </tr>\n",
       "    <tr>\n",
       "      <th>16</th>\n",
       "      <td>0.5</td>\n",
       "      <td>9.799215e-26</td>\n",
       "      <td>0.187013</td>\n",
       "      <td>1.508973e-05</td>\n",
       "      <td>-0.044522</td>\n",
       "      <td>0.288052</td>\n",
       "    </tr>\n",
       "    <tr>\n",
       "      <th>17</th>\n",
       "      <td>0.5</td>\n",
       "      <td>1.577939e-27</td>\n",
       "      <td>0.134240</td>\n",
       "      <td>2.196265e-03</td>\n",
       "      <td>0.038216</td>\n",
       "      <td>0.376828</td>\n",
       "    </tr>\n",
       "    <tr>\n",
       "      <th>18</th>\n",
       "      <td>0.5</td>\n",
       "      <td>8.141801e-28</td>\n",
       "      <td>0.232758</td>\n",
       "      <td>7.662749e-08</td>\n",
       "      <td>-0.108612</td>\n",
       "      <td>0.009221</td>\n",
       "    </tr>\n",
       "    <tr>\n",
       "      <th>19</th>\n",
       "      <td>0.5</td>\n",
       "      <td>2.127872e-24</td>\n",
       "      <td>0.136691</td>\n",
       "      <td>1.755439e-03</td>\n",
       "      <td>0.026061</td>\n",
       "      <td>0.544071</td>\n",
       "    </tr>\n",
       "  </tbody>\n",
       "</table>\n",
       "</div>"
      ],
      "text/plain": [
       "    Int         p_int        C1            p1        C2        p2\n",
       "0   0.5  1.063703e-25  0.063970  1.346034e-01  0.048032  0.260511\n",
       "1   0.5  1.039421e-31  0.180170  4.895871e-06 -0.082323  0.032721\n",
       "2   0.5  2.695705e-26  0.171122  4.648442e-04 -0.057159  0.233943\n",
       "3   0.5  3.937830e-24  0.182169  3.566695e-05 -0.011992  0.778743\n",
       "4   0.5  4.826215e-23  0.149314  3.209792e-03 -0.066981  0.180543\n",
       "5   0.5  3.802448e-25  0.170697  2.091687e-04 -0.061993  0.169233\n",
       "6   0.5  2.260106e-26  0.172853  1.233168e-04 -0.025241  0.565733\n",
       "7   0.5  3.671886e-32  0.167653  6.267266e-05 -0.052264  0.203379\n",
       "8   0.5  5.732719e-27  0.170048  1.047772e-04  0.005288  0.901572\n",
       "9   0.5  2.611509e-29  0.221533  5.547944e-08 -0.136022  0.000598\n",
       "10  0.5  1.719022e-30  0.219535  1.407240e-07 -0.065042  0.105302\n",
       "11  0.5  6.713427e-28  0.165466  1.245174e-04  0.030560  0.468431\n",
       "12  0.5  8.843522e-27  0.169773  1.263437e-04 -0.009776  0.821095\n",
       "13  0.5  4.441949e-26  0.138178  1.530116e-03 -0.105001  0.015323\n",
       "14  0.5  5.167941e-25  0.217556  1.591780e-06 -0.105476  0.016268\n",
       "15  0.5  4.283605e-28  0.149275  2.829457e-04 -0.058246  0.149626\n",
       "16  0.5  9.799215e-26  0.187013  1.508973e-05 -0.044522  0.288052\n",
       "17  0.5  1.577939e-27  0.134240  2.196265e-03  0.038216  0.376828\n",
       "18  0.5  8.141801e-28  0.232758  7.662749e-08 -0.108612  0.009221\n",
       "19  0.5  2.127872e-24  0.136691  1.755439e-03  0.026061  0.544071"
      ]
     },
     "execution_count": 107,
     "metadata": {},
     "output_type": "execute_result"
    }
   ],
   "source": [
    "coef"
   ]
  },
  {
   "cell_type": "code",
   "execution_count": 110,
   "id": "7c3d6b99-3a50-4653-ae07-861a22789bc6",
   "metadata": {},
   "outputs": [
    {
     "name": "stdout",
     "output_type": "stream",
     "text": [
      "0.1700006309755379\n"
     ]
    }
   ],
   "source": [
    "#coefficient of correlation between appearances and log of average revenues\n",
    "print(coef.C1.mean())"
   ]
  },
  {
   "cell_type": "code",
   "execution_count": 110,
   "id": "7f47a4b0-8fec-4dd4-9383-2627694c4ca5",
   "metadata": {},
   "outputs": [],
   "source": [
    "#imdb[imdb.primaryTitle.apply(lambda x: x.endswith('2'))]"
   ]
  },
  {
   "cell_type": "markdown",
   "id": "26bf26f6-a094-4212-bc28-54cc2b4770ad",
   "metadata": {},
   "source": [
    "The *star score* can eventually be defined based on the above analysis.\n",
    "\n",
    "$star\\ score = \\left(A + 0.17\\ln{(\\bar{R} \\cdot)}\\right)^{log(\\bar{G})}$\n",
    "\n",
    "where $A$ is the number of appearances in the actor's career and $\\bar{G}$, $\\bar{R}$ are the averages of the revenues and ratings caused to the movies he starred in. In this case the average is appropriate because the distribution of such parameters in actors careers is not a power law.\n",
    "\n",
    "The coefficient 0.2 comes from linear correlation coefficient between the log of the revenues and the appearances in the previously conducted regression. Indeed, the values of the coefficients oscillate in the neighborhood of 0.17. The ratings are not linearly correlated with the appearances, but still must play a role in defining the actor's impact on the movie; the higher the career average ratings, the higher the impact. In this case, the average ratings are logged, namely there is exponent is equal to 1 when the rating is maximum (10), otherwise the star score is reduced because the log of a number between \n",
    "\n",
    "We believe this metric includes of the parameters of interest that relate an actor to the success of the movie. "
   ]
  },
  {
   "cell_type": "code",
   "execution_count": 111,
   "id": "a99af37b-e895-499d-ab10-5551dc778566",
   "metadata": {},
   "outputs": [],
   "source": [
    "actors['log_revenue'] = actors['revenues'].apply('log')"
   ]
  },
  {
   "cell_type": "code",
   "execution_count": 218,
   "id": "bd7034af-fa05-4bb0-8d00-1ecd87205bb7",
   "metadata": {},
   "outputs": [],
   "source": [
    "#add star scores\n",
    "actors['ss'] = (actors['appearances'] + 0.17*actors['log_revenue'])**np.log10(actors['ratings'])"
   ]
  },
  {
   "cell_type": "code",
   "execution_count": 125,
   "id": "a55d9c0e-c877-4d11-a783-5274be141740",
   "metadata": {},
   "outputs": [
    {
     "data": {
      "text/html": [
       "<div>\n",
       "<style scoped>\n",
       "    .dataframe tbody tr th:only-of-type {\n",
       "        vertical-align: middle;\n",
       "    }\n",
       "\n",
       "    .dataframe tbody tr th {\n",
       "        vertical-align: top;\n",
       "    }\n",
       "\n",
       "    .dataframe thead th {\n",
       "        text-align: right;\n",
       "    }\n",
       "</style>\n",
       "<table border=\"1\" class=\"dataframe\">\n",
       "  <thead>\n",
       "    <tr style=\"text-align: right;\">\n",
       "      <th></th>\n",
       "      <th>actor</th>\n",
       "      <th>revenues</th>\n",
       "      <th>movie_years</th>\n",
       "      <th>ratings</th>\n",
       "      <th>cumulative_revenue</th>\n",
       "      <th>cumulative_ratings</th>\n",
       "      <th>star_score</th>\n",
       "      <th>epfl_score</th>\n",
       "      <th>genres</th>\n",
       "      <th>genre_count</th>\n",
       "      <th>main_genre</th>\n",
       "      <th>2nd_genre</th>\n",
       "      <th>appearances</th>\n",
       "      <th>gender</th>\n",
       "      <th>birthdate</th>\n",
       "      <th>treatment</th>\n",
       "      <th>propensity_score</th>\n",
       "      <th>log_revenue</th>\n",
       "      <th>ss</th>\n",
       "    </tr>\n",
       "  </thead>\n",
       "  <tbody>\n",
       "    <tr>\n",
       "      <th>0</th>\n",
       "      <td>Dustin_Farnum</td>\n",
       "      <td>6.117500e+06</td>\n",
       "      <td>[1914.]</td>\n",
       "      <td>2.861536</td>\n",
       "      <td>[6117500.]</td>\n",
       "      <td>[2.86153647]</td>\n",
       "      <td>[16.67802278]</td>\n",
       "      <td>[2.69731427]</td>\n",
       "      <td>[Black-and-white, Drama, Indie, Silent film, W...</td>\n",
       "      <td>[1, 1, 1, 1, 1]</td>\n",
       "      <td>Black-and-white</td>\n",
       "      <td>Drama</td>\n",
       "      <td>1.0</td>\n",
       "      <td>M</td>\n",
       "      <td>1874</td>\n",
       "      <td>0</td>\n",
       "      <td>0.842613</td>\n",
       "      <td>15.626664</td>\n",
       "      <td>1.807578</td>\n",
       "    </tr>\n",
       "    <tr>\n",
       "      <th>1</th>\n",
       "      <td>Elmer_Clifton</td>\n",
       "      <td>1.250000e+09</td>\n",
       "      <td>[1915.]</td>\n",
       "      <td>4.791714</td>\n",
       "      <td>[1.25e+09]</td>\n",
       "      <td>[4.79171404]</td>\n",
       "      <td>[22.51329757]</td>\n",
       "      <td>[4.21711313]</td>\n",
       "      <td>[Black-and-white, Costume drama, Drama, Epic, ...</td>\n",
       "      <td>[1, 1, 1, 1, 1, 1, 1]</td>\n",
       "      <td>Black-and-white</td>\n",
       "      <td>Costume drama</td>\n",
       "      <td>1.0</td>\n",
       "      <td>M</td>\n",
       "      <td>1890</td>\n",
       "      <td>0</td>\n",
       "      <td>0.970733</td>\n",
       "      <td>20.946409</td>\n",
       "      <td>2.808518</td>\n",
       "    </tr>\n",
       "    <tr>\n",
       "      <th>2</th>\n",
       "      <td>Robert_Harron</td>\n",
       "      <td>1.250000e+09</td>\n",
       "      <td>[1915.]</td>\n",
       "      <td>4.791714</td>\n",
       "      <td>[1.25e+09]</td>\n",
       "      <td>[4.79171404]</td>\n",
       "      <td>[22.51329757]</td>\n",
       "      <td>[4.21711313]</td>\n",
       "      <td>[Black-and-white, Costume drama, Drama, Epic, ...</td>\n",
       "      <td>[1, 1, 1, 1, 1, 1, 1]</td>\n",
       "      <td>Black-and-white</td>\n",
       "      <td>Costume drama</td>\n",
       "      <td>1.0</td>\n",
       "      <td>M</td>\n",
       "      <td>1893</td>\n",
       "      <td>0</td>\n",
       "      <td>0.970928</td>\n",
       "      <td>20.946409</td>\n",
       "      <td>2.808518</td>\n",
       "    </tr>\n",
       "  </tbody>\n",
       "</table>\n",
       "</div>"
      ],
      "text/plain": [
       "           actor      revenues movie_years   ratings cumulative_revenue  \\\n",
       "0  Dustin_Farnum  6.117500e+06     [1914.]  2.861536         [6117500.]   \n",
       "1  Elmer_Clifton  1.250000e+09     [1915.]  4.791714         [1.25e+09]   \n",
       "2  Robert_Harron  1.250000e+09     [1915.]  4.791714         [1.25e+09]   \n",
       "\n",
       "  cumulative_ratings     star_score    epfl_score  \\\n",
       "0       [2.86153647]  [16.67802278]  [2.69731427]   \n",
       "1       [4.79171404]  [22.51329757]  [4.21711313]   \n",
       "2       [4.79171404]  [22.51329757]  [4.21711313]   \n",
       "\n",
       "                                              genres            genre_count  \\\n",
       "0  [Black-and-white, Drama, Indie, Silent film, W...        [1, 1, 1, 1, 1]   \n",
       "1  [Black-and-white, Costume drama, Drama, Epic, ...  [1, 1, 1, 1, 1, 1, 1]   \n",
       "2  [Black-and-white, Costume drama, Drama, Epic, ...  [1, 1, 1, 1, 1, 1, 1]   \n",
       "\n",
       "        main_genre      2nd_genre  appearances gender  birthdate  treatment  \\\n",
       "0  Black-and-white          Drama          1.0      M       1874          0   \n",
       "1  Black-and-white  Costume drama          1.0      M       1890          0   \n",
       "2  Black-and-white  Costume drama          1.0      M       1893          0   \n",
       "\n",
       "   propensity_score  log_revenue        ss  \n",
       "0          0.842613    15.626664  1.807578  \n",
       "1          0.970733    20.946409  2.808518  \n",
       "2          0.970928    20.946409  2.808518  "
      ]
     },
     "execution_count": 125,
     "metadata": {},
     "output_type": "execute_result"
    }
   ],
   "source": [
    "actors.head(3)"
   ]
  },
  {
   "cell_type": "code",
   "execution_count": 216,
   "id": "3ea88b88-cccf-43cd-86ac-90b6c8d7d054",
   "metadata": {},
   "outputs": [],
   "source": [
    "actors.sort_values('ss', inplace=True, ascending=False)"
   ]
  },
  {
   "cell_type": "markdown",
   "id": "ab55a067-ed80-4363-b49e-305dcb9a544a",
   "metadata": {},
   "source": [
    "The distribution of the star scores in the dataset is shown below. As expected, the distribution is still skewed, because of the previously explained rich-get-richer mecahnism. However, the distribution is not a power law anymore, given that it is not a straight line in the logarithmic domain. This is interesting, because "
   ]
  },
  {
   "cell_type": "code",
   "execution_count": 150,
   "id": "fdb84a9a-b80d-4ee2-ac25-78f563bc05a3",
   "metadata": {},
   "outputs": [
    {
     "data": {
      "image/png": "[encoded data removed]",
      "text/plain": [
       "<Figure size 800x300 with 2 Axes>"
      ]
     },
     "metadata": {},
     "output_type": "display_data"
    }
   ],
   "source": [
    "#2 subplots\n",
    "fig, ax = plt.subplots(1,2, figsize=(8,3))\n",
    "\n",
    "sbplt = ax[0]\n",
    "sbplt.plot(np.arange(0,len(actors)),actors.ss)\n",
    "sbplt.set_title('Linear axes')\n",
    "sbplt.set_ylabel('Star scores')\n",
    "sbplt.set_xlabel('Actors')\n",
    "\n",
    "sbplt = ax[1]\n",
    "plt.loglog(np.arange(0,len(actors)),actors.ss)\n",
    "sbplt.set_title('Logarithmic axes')\n",
    "sbplt.set_ylabel('Star scores')\n",
    "sbplt.set_xlabel('Actors')\n",
    "\n",
    "fig.tight_layout()\n",
    "plt.show()"
   ]
  },
  {
   "cell_type": "code",
   "execution_count": 158,
   "id": "33201fd8-50f3-48eb-bee6-4b9d1adbb5cd",
   "metadata": {},
   "outputs": [],
   "source": [
    "ss_m = actors[actors['gender'] == 'M']\n",
    "ss_f = actors[actors['gender'] == 'F']"
   ]
  },
  {
   "cell_type": "code",
   "execution_count": 173,
   "id": "6cfe75de-2f66-4a1a-9f4f-8e3160e7dada",
   "metadata": {},
   "outputs": [
    {
     "data": {
      "text/plain": [
       "0.3602444809341361"
      ]
     },
     "execution_count": 173,
     "metadata": {},
     "output_type": "execute_result"
    }
   ],
   "source": [
    "len(ss_f)/len(actors)"
   ]
  },
  {
   "cell_type": "code",
   "execution_count": 162,
   "id": "321f3238-ba9e-47c2-b703-7aaf0ea6428e",
   "metadata": {},
   "outputs": [
    {
     "data": {
      "text/plain": [
       "(array([1.882e+03, 4.385e+03, 9.410e+02, 3.250e+02, 1.840e+02, 9.200e+01,\n",
       "        4.600e+01, 2.700e+01, 1.200e+01, 4.000e+00]),\n",
       " array([ 0.97254864,  2.33822886,  3.70390909,  5.06958932,  6.43526954,\n",
       "         7.80094977,  9.16662999, 10.53231022, 11.89799045, 13.26367067,\n",
       "        14.6293509 ]),\n",
       " <BarContainer object of 10 artists>)"
      ]
     },
     "execution_count": 162,
     "metadata": {},
     "output_type": "execute_result"
    },
    {
     "data": {
      "image/png": "[encoded data removed]",
      "text/plain": [
       "<Figure size 640x480 with 1 Axes>"
      ]
     },
     "metadata": {},
     "output_type": "display_data"
    }
   ],
   "source": [
    "plt.hist(ss_m.ss,log=True)\n",
    "plt.hist(ss_f.ss,log=True)"
   ]
  },
  {
   "cell_type": "code",
   "execution_count": 171,
   "id": "5004ad0a-d2a2-4cac-8b1f-d3469abf2181",
   "metadata": {},
   "outputs": [
    {
     "data": {
      "image/png": "[encoded data removed]",
      "text/plain": [
       "<Figure size 640x480 with 1 Axes>"
      ]
     },
     "metadata": {},
     "output_type": "display_data"
    }
   ],
   "source": [
    "plt.loglog(np.arange(0,len(ss_m)),ss_m.ss)\n",
    "plt.loglog(np.arange(0,len(ss_f)),ss_f.ss)\n",
    "plt.show()"
   ]
  },
  {
   "cell_type": "code",
   "execution_count": null,
   "id": "3ff02278-3dc5-4f3f-bdd7-561a8db1f37e",
   "metadata": {},
   "outputs": [],
   "source": []
  }
 ],
 "metadata": {
  "kernelspec": {
   "display_name": "Python [conda env:ada] *",
   "language": "python",
   "name": "conda-env-ada-py"
  },
  "language_info": {
   "codemirror_mode": {
    "name": "ipython",
    "version": 3
   },
   "file_extension": ".py",
   "mimetype": "text/x-python",
   "name": "python",
   "nbconvert_exporter": "python",
   "pygments_lexer": "ipython3",
   "version": "3.8.13"
  }
 },
 "nbformat": 4,
 "nbformat_minor": 5
}
