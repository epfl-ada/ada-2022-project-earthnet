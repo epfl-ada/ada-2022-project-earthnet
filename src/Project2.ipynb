{
 "cells": [
  {
   "cell_type": "code",
   "execution_count": 1,
   "id": "19090070-5197-49ff-8f03-8614ac2b8d20",
   "metadata": {},
   "outputs": [],
   "source": [
    "#imports\n",
    "import pandas as pd\n",
    "import numpy as np\n",
    "import matplotlib.pyplot as plt\n",
    "%matplotlib inline\n",
    "import seaborn as sns\n",
    "import tarfile\n",
    "import math\n",
    "from scipy import stats\n",
    "import statsmodels.formula.api as smf"
   ]
  },
  {
   "cell_type": "code",
   "execution_count": 3,
   "id": "e7ba8fc2-dbb2-47dd-903e-6887aeb9233b",
   "metadata": {},
   "outputs": [
    {
     "name": "stdout",
     "output_type": "stream",
     "text": [
      "['MovieSummaries', 'MovieSummaries/tvtropes.clusters.txt', 'MovieSummaries/name.clusters.txt', 'MovieSummaries/plot_summaries.txt', 'MovieSummaries/README.txt', 'MovieSummaries/movie.metadata.tsv', 'MovieSummaries/character.metadata.tsv']\n"
     ]
    }
   ],
   "source": [
    "filename = \"MovieSummaries.tar.gz\"\n",
    "ds = tarfile.open(filename)\n",
    "print(ds.getnames())\n",
    "tf = tarfile.open(filename)\n",
    "tf.extractall('MS_decomp')"
   ]
  },
  {
   "cell_type": "code",
   "execution_count": null,
   "id": "a4c76619-b89a-4c9a-9080-5512916eb498",
   "metadata": {},
   "outputs": [],
   "source": [
    "movie = pd.read_csv('./MS_decomp/MovieSummaries/'+'movie.metadata.tsv', \n",
    "                 sep='\\t',\n",
    "                 names=['Wikipedia_movie_ID',\n",
    "                        'Freebase_movie_ID',\n",
    "                        'Movie_name',\n",
    "                        'Movie_release_date',\n",
    "                        'Movie_box_office_revenue',\n",
    "                        'Movie_runtime',\n",
    "                        'Movie_languages',\n",
    "                        'Movie_countries',\n",
    "                        'Movie_genres'],\n",
    "                 header=None)"
   ]
  },
  {
   "cell_type": "code",
   "execution_count": null,
   "id": "c3050431-37cc-4f29-879a-d1eaed881804",
   "metadata": {},
   "outputs": [],
   "source": [
    "character = pd.read_csv('./MS_decomp/MovieSummaries/'+'character.metadata.tsv', \n",
    "                 sep='\\t',\n",
    "                 names=['Wikipedia_movie_ID',\n",
    "                        'Freebase_movie_ID',\n",
    "                        'Movie_release_date',\n",
    "                        'Character_name',\n",
    "                        'Actor_date_of_birth',\n",
    "                        'Actor_gender',\n",
    "                        'Actor_height',\n",
    "                        'Actor_ethnicity',\n",
    "                        'Actor_name',\n",
    "                        'Actor_age_at_movie_release',\n",
    "                        'Freebase_character/actor_map_ID',\n",
    "                        'Freebase_character_ID',\n",
    "                        'Freebase_actor_ID'],\n",
    "                 header=None)"
   ]
  },
  {
   "cell_type": "code",
   "execution_count": null,
   "id": "5b91d7ed-8314-43e5-910d-4d4146a70277",
   "metadata": {},
   "outputs": [],
   "source": [
    "plots = pd.read_csv('./MS_decomp/MovieSummaries/'+'plot_summaries.txt', \n",
    "                 sep='\\t',\n",
    "                 names=['Wikipedia_movie_ID',\n",
    "                        'Summary'],\n",
    "                 header=None)"
   ]
  },
  {
   "cell_type": "code",
   "execution_count": null,
   "id": "60f351d2-eac1-4c94-a1a2-72cebb0ec19b",
   "metadata": {},
   "outputs": [],
   "source": [
    "movie.head(3)"
   ]
  },
  {
   "cell_type": "code",
   "execution_count": null,
   "id": "32230aa7-26cc-41a2-a159-174aef4bed1a",
   "metadata": {},
   "outputs": [],
   "source": [
    "character.head(3)"
   ]
  },
  {
   "cell_type": "code",
   "execution_count": null,
   "id": "cc444adb-3a63-4541-be1b-1ecddf3ef65e",
   "metadata": {},
   "outputs": [],
   "source": [
    "plots.head(3)"
   ]
  },
  {
   "cell_type": "markdown",
   "id": "f4bebba0-70c9-420e-bd72-7ae65773b9e6",
   "metadata": {},
   "source": [
    "# Data cleaning"
   ]
  },
  {
   "cell_type": "code",
   "execution_count": null,
   "id": "84d77ed8-58ef-4717-aaf8-fa425639df40",
   "metadata": {},
   "outputs": [],
   "source": [
    "#move release dates and actor birth dates to datetime format and keep only release year\n",
    "character.Movie_release_date = pd.to_datetime(character['Movie_release_date'],\n",
    "                                              errors='coerce').dt.year\n",
    "\n",
    "movie.Movie_release_date = pd.to_datetime(movie['Movie_release_date'],\n",
    "                                              errors='coerce').dt.year"
   ]
  },
  {
   "cell_type": "code",
   "execution_count": null,
   "id": "e1a7bd7d-6e7a-4229-b84d-efdb2c24fcfe",
   "metadata": {},
   "outputs": [],
   "source": [
    "#sort dataframes by ascending release year\n",
    "character.sort_values(by=['Movie_release_date'], ascending=True, inplace=True)\n",
    "\n",
    "movie.sort_values(by=['Movie_release_date'], ascending=True, inplace=True)"
   ]
  },
  {
   "cell_type": "code",
   "execution_count": null,
   "id": "b51a7b43-f6ac-4641-9213-7325b3149267",
   "metadata": {},
   "outputs": [],
   "source": [
    "#merge dataframes\n",
    "ds = pd.merge(movie,character)"
   ]
  },
  {
   "cell_type": "code",
   "execution_count": null,
   "id": "2e4e0398-423a-4f68-9e7c-02402724a201",
   "metadata": {},
   "outputs": [],
   "source": [
    "#find movies without box office and filter them out\n",
    "bad_ids = ds.loc[ds['Movie_box_office_revenue'].isnull()].index\n",
    "ds_filt = ds.drop(bad_ids)"
   ]
  },
  {
   "cell_type": "code",
   "execution_count": null,
   "id": "f86d53ce-fcef-460e-9238-89f81b0055f1",
   "metadata": {},
   "outputs": [],
   "source": [
    "#sort dataframe by movie release date\n",
    "#ds_filt.sort_values(by=['Movie_release_date'], ascending=True, inplace=True)"
   ]
  },
  {
   "cell_type": "code",
   "execution_count": null,
   "id": "ebb2157f-42a2-4e00-a323-499e9ba7e5a2",
   "metadata": {},
   "outputs": [],
   "source": [
    "ds_filt.head(3)"
   ]
  },
  {
   "cell_type": "markdown",
   "id": "3ba4140a-73fd-485c-bc73-b4d50e9dbd45",
   "metadata": {},
   "source": [
    "## Preliminary results on the impact of one actor"
   ]
  },
  {
   "cell_type": "code",
   "execution_count": null,
   "id": "f9e37e50-61fd-4b46-8e54-6db02add285c",
   "metadata": {},
   "outputs": [],
   "source": [
    "#slice the character dataframe to get only Leonardo Di Caprio movies\n",
    "nc = pd.DataFrame(ds_filt.query(\"Actor_name == 'Leonardo DiCaprio'\")).reset_index(drop=True)"
   ]
  },
  {
   "cell_type": "code",
   "execution_count": null,
   "id": "f992ae4d-7f80-4220-88f0-ea7c63d946a2",
   "metadata": {},
   "outputs": [],
   "source": [
    "#number of movies Nicolas Cage starred in\n",
    "print('Leonardo Di Caprio starred in ' + str(len(nc)) + ' movies')"
   ]
  },
  {
   "cell_type": "code",
   "execution_count": null,
   "id": "2026d915-d91c-444e-82ef-a3530c77f49b",
   "metadata": {},
   "outputs": [],
   "source": [
    "nc.head(3)"
   ]
  },
  {
   "cell_type": "markdown",
   "id": "772ff3d6-be45-476c-99eb-552287a8df47",
   "metadata": {},
   "source": [
    "As a preliminary analysis, we plot the distribution of box office revenues for Leonardo Di Caprio movies to see the type of distribution. From the histogram below, we observe that most of the movies have a low box office revenue (skewed distribution); the goal is to verify if there is a correlation between the 'experience' of the actor (number of times he has starred in the movie) and the revenue. "
   ]
  },
  {
   "cell_type": "markdown",
   "id": "1fa5b02a-eaf1-4b12-ad71-6cd25ba4caf1",
   "metadata": {},
   "source": [
    "From the box plot below it is possible to distinguish the median and the quartiles of the distribution. A couple of outliers make it difficult to visualize the distribution properly. To correctly read the data, we proceed to remove them."
   ]
  },
  {
   "cell_type": "code",
   "execution_count": null,
   "id": "8dd0c3a5-f71f-45ca-b293-77d3bf9638a8",
   "metadata": {},
   "outputs": [],
   "source": [
    "#plot distribution\n",
    "fig, ax = plt.subplots(1,2, figsize=(8,3), sharey = True)\n",
    "\n",
    "sbplt = ax[0]\n",
    "sbplt.hist(nc.Movie_box_office_revenue, bins=15, orientation='horizontal')\n",
    "sbplt.set_title('Histogram')\n",
    "\n",
    "sbplt = ax[1]\n",
    "sbplt.boxplot(nc.Movie_box_office_revenue)\n",
    "sbplt.set_title('Box plot')\n",
    "    \n",
    "fig.tight_layout()\n",
    "fig.text(0,0.3, \"Box office revenue\", rotation = 90)\n",
    "plt.show()"
   ]
  },
  {
   "cell_type": "code",
   "execution_count": null,
   "id": "1dbcf1d5-0774-4291-a116-7a7387ecb492",
   "metadata": {},
   "outputs": [],
   "source": [
    "#remove outliers\n",
    "nc.query('Movie_box_office_revenue < 0.5e9', inplace=True)\n",
    "nc.reset_index(inplace=True, drop=True)\n",
    "print('The new number of movies considered is ' + str(len(nc)))"
   ]
  },
  {
   "cell_type": "markdown",
   "id": "3ece1318-aa99-431b-a99f-12473af3b176",
   "metadata": {},
   "source": [
    "In this case, the distribution is way more readable. Most of the movies are in the low box office part"
   ]
  },
  {
   "cell_type": "code",
   "execution_count": null,
   "id": "4760fceb-0806-4d2c-a09b-b29499200019",
   "metadata": {},
   "outputs": [],
   "source": [
    "#some stats\n",
    "print('The median is ' + str(np.median(nc.Movie_box_office_revenue)/1e6) + ' M$')\n",
    "print('The first quartile is ' + str(np.quantile(nc.Movie_box_office_revenue,0.25)/1e6) + ' M$')\n",
    "print('The third quartile is ' + str(np.quantile(nc.Movie_box_office_revenue,0.75)/1e6) + ' M$')"
   ]
  },
  {
   "cell_type": "code",
   "execution_count": null,
   "id": "bdaadfe5-a04c-4e08-ac6c-04e02c5248d3",
   "metadata": {},
   "outputs": [],
   "source": [
    "#plot again\n",
    "\n",
    "fig, ax = plt.subplots(1,2, figsize=(8,3), sharey = True)\n",
    "\n",
    "sbplt = ax[0]\n",
    "sbplt.hist(nc.Movie_box_office_revenue, bins=10, orientation='horizontal')\n",
    "sbplt.set_title('Histogram')\n",
    "\n",
    "sbplt = ax[1]\n",
    "sbplt.boxplot(nc.Movie_box_office_revenue)\n",
    "sbplt.set_title('Box plot')\n",
    "    \n",
    "fig.tight_layout()\n",
    "fig.text(0,0.3, \"Box office revenue\", rotation = 90)\n",
    "plt.show()"
   ]
  },
  {
   "cell_type": "markdown",
   "id": "55c29fb0-cd07-4270-aab2-3da9e1b954b6",
   "metadata": {},
   "source": [
    "### Actor's experience"
   ]
  },
  {
   "cell_type": "code",
   "execution_count": null,
   "id": "88c5709a-b712-430d-91bb-637b2f8022da",
   "metadata": {},
   "outputs": [],
   "source": [
    "#series with number of times the actor starred before (related to dataframe)\n",
    "#in reality there are more movies\n",
    "exp = np.zeros(len(nc)) \n",
    "t = 1\n",
    "for i in range(len(nc)):\n",
    "    exp[i] = t\n",
    "    t += 1"
   ]
  },
  {
   "cell_type": "code",
   "execution_count": null,
   "id": "5a773f92-d10b-4f6c-b59a-82768d0324f5",
   "metadata": {},
   "outputs": [],
   "source": [
    "nc['experience'] = exp #add to dataframe"
   ]
  },
  {
   "cell_type": "code",
   "execution_count": null,
   "id": "c0ab6aa2-e849-4610-91c4-1703f3f9373a",
   "metadata": {},
   "outputs": [],
   "source": [
    "#is there a correlation between experience and box office revenue??\n",
    "stats.pearsonr(nc['experience'],nc['Movie_box_office_revenue']) #pearson correlation"
   ]
  },
  {
   "cell_type": "code",
   "execution_count": null,
   "id": "4ecc081f-8b00-447a-9dc9-327377dc40fe",
   "metadata": {},
   "outputs": [],
   "source": [
    "stats.spearmanr(nc['experience'],nc['Movie_box_office_revenue'])"
   ]
  },
  {
   "cell_type": "markdown",
   "id": "16d9b256-7a9f-4fbc-ac4e-21e3a4bd1060",
   "metadata": {},
   "source": [
    "Applying the Pearson and Spearman relation, we obtain a positive correlation of **0.59** and **0.63**, respectively. This seems to lead to a link between experience and box office revenue."
   ]
  },
  {
   "cell_type": "code",
   "execution_count": null,
   "id": "b6202a24-fb1e-4c1c-9630-9ffee4f0e4ad",
   "metadata": {},
   "outputs": [],
   "source": [
    "#plot linear correlation\n",
    "sns.lmplot(x='experience',y='Movie_box_office_revenue', data=nc)\n",
    "plt.show()"
   ]
  },
  {
   "cell_type": "markdown",
   "id": "2f0bf1e2-cfad-4839-b041-07b40ad6537d",
   "metadata": {},
   "source": [
    "### Regression analysis"
   ]
  },
  {
   "cell_type": "markdown",
   "id": "bf00d335-dcda-4ead-b397-0a094db7f30c",
   "metadata": {},
   "source": [
    "To understand a bit better the influence of the other parameters on the box office revenue, a model of the revenue based on multiple factors can be tested. The factors taken into consideration are:\n",
    "- Movie release date;\n",
    "- Movie runtime;\n",
    "- Experience."
   ]
  },
  {
   "cell_type": "code",
   "execution_count": null,
   "id": "67898aa1-fd16-4b70-a1a5-59b2b781ee20",
   "metadata": {},
   "outputs": [],
   "source": [
    "#copy dataframe\n",
    "nc_reg = nc.copy()"
   ]
  },
  {
   "cell_type": "code",
   "execution_count": null,
   "id": "1df458a5-dfa2-4289-94a5-c242b1296e02",
   "metadata": {},
   "outputs": [],
   "source": [
    "#logarithmic scaling of continuous variables\n",
    "nc_reg['Movie_box_office_revenue'] = np.log(nc_reg['Movie_box_office_revenue'])\n",
    "nc_reg['Movie_runtime'] = np.log(nc_reg['Movie_runtime'])\n",
    "nc_reg['Movie_release_date'] = np.log(nc_reg['Movie_release_date'])\n",
    "nc_reg['experience'] = np.log(nc_reg['experience'])"
   ]
  },
  {
   "cell_type": "code",
   "execution_count": null,
   "id": "383d6667-6f3a-4031-884b-1850bc168910",
   "metadata": {},
   "outputs": [],
   "source": [
    "#standardize continuous variables\n",
    "#nc['Movie_runtime'] = (nc['Movie_runtime'] - nc['Movie_runtime'].mean())/nc['Movie_runtime'].std()\n",
    "#nc['Movie_release_date'] = (nc['Movie_release_date'] - nc['Movie_release_date'].mean())/nc['Movie_release_date'].std()\n",
    "#nc['Actor_age_at_movie_release'] = (nc['Actor_age_at_movie_release'] - nc['Actor_age_at_movie_release'].mean())/nc['Actor_age_at_movie_release'].std()\n",
    "#nc['experience'] = (nc['experience'] - nc['experience'].mean())/nc['experience'].std()"
   ]
  },
  {
   "cell_type": "code",
   "execution_count": null,
   "id": "6267c5b7-11c4-4cd1-8b4f-7ff7817558b7",
   "metadata": {},
   "outputs": [],
   "source": [
    "mod = smf.ols(formula='Movie_box_office_revenue ~ Movie_runtime + Movie_release_date + \\\n",
    "                      + experience', data=nc_reg)\n",
    "\n",
    "res = mod.fit()\n",
    "print(res.summary())"
   ]
  },
  {
   "cell_type": "markdown",
   "id": "8cbefe86-aa2a-4330-b78f-eca6683a13b8",
   "metadata": {},
   "source": [
    "From the results, it is possible to get interesting information. The R squared is **0.53**, meaning more than half of the variance is explained; the movie release date significantly influences the revenue (C=**155.4**) and both the movie runtime and experience of the actor positively affect the revenue, even if their effect on the outcome is lower.\n",
    "Of course, the inflation is not taken into account here, therefore the strong statistical influence of release dates on box office revenues could be biased by this confounder."
   ]
  },
  {
   "cell_type": "code",
   "execution_count": null,
   "id": "3336486f-101f-4f82-aea8-ec5e9f98e6cf",
   "metadata": {},
   "outputs": [],
   "source": [
    "#take inflation into account\n",
    "#https://liberalarts.oregonstate.edu/spp/polisci/faculty-staff/robert-sahr/inflation-conversion-factors-years-1774-estimated-2024-dollars-recent-years/individual-year-conversion-factor-table-0\n",
    "cf = pd.read_csv('inflation_correction.csv')\n",
    "cf.query('Year > 1969', inplace=True)\n",
    "cf.reset_index(drop=True, inplace=True)\n",
    "#cf['Year'] = pd.to_datetime(pd.Series(cf.Year)).dt.year #convert to datetime format"
   ]
  },
  {
   "cell_type": "code",
   "execution_count": null,
   "id": "998a1ba2-b371-4c17-a387-4c7efeeeb825",
   "metadata": {},
   "outputs": [],
   "source": [
    "cf.head(3)"
   ]
  },
  {
   "cell_type": "code",
   "execution_count": null,
   "id": "d1a28c96-13b7-4dca-a826-1d60217928c6",
   "metadata": {},
   "outputs": [],
   "source": [
    "#function to compute inflation for a certain year\n",
    "def infl(year):\n",
    "    inf = cf['CF'][cf['Year'] == year]\n",
    "    return inf"
   ]
  },
  {
   "cell_type": "code",
   "execution_count": null,
   "id": "5c1ff1f6-f6e7-4b88-887c-728d46b17d63",
   "metadata": {},
   "outputs": [],
   "source": [
    "#compute inflation for dataframe rows and add column\n",
    "infl_corr = np.zeros(len(nc))\n",
    "for i in range(len(nc)):\n",
    "    infl_corr[i] = infl(nc['Movie_release_date'][i])\n",
    "nc['CF'] = infl_corr"
   ]
  },
  {
   "cell_type": "code",
   "execution_count": null,
   "id": "55159c64-f9f8-477f-8f9d-05d55fa7f178",
   "metadata": {},
   "outputs": [],
   "source": [
    "#add inflation corrected box office revenue\n",
    "nc['inflation_revenue'] = nc['Movie_box_office_revenue']/nc['CF']"
   ]
  },
  {
   "cell_type": "code",
   "execution_count": null,
   "id": "86274d39-e4f0-4587-98d9-486e2f1fa21a",
   "metadata": {},
   "outputs": [],
   "source": [
    "nc.head(3)"
   ]
  },
  {
   "cell_type": "code",
   "execution_count": null,
   "id": "ea9ac845-c71d-428b-80a7-c926900fa1d7",
   "metadata": {},
   "outputs": [],
   "source": [
    "#compare the new revenues\n",
    "plt.plot(nc.Movie_release_date, nc.inflation_revenue/1e6, label='Inflation correction')\n",
    "plt.plot(nc.Movie_release_date, nc.Movie_box_office_revenue/1e6, label='Real revenue')\n",
    "plt.legend()\n",
    "plt.xlabel('Year')\n",
    "plt.ylabel('Boc office revenue [M$]')\n",
    "plt.show()"
   ]
  },
  {
   "cell_type": "code",
   "execution_count": null,
   "id": "6cd2e526-8c55-4b83-9db9-ba6728d3ab51",
   "metadata": {},
   "outputs": [],
   "source": [
    "#run the least mean squares again\n",
    "nc_reg2 = nc.copy()\n",
    "#logarithmic scaling of continuous variables\n",
    "nc_reg2['inflation_revenue'] = np.log(nc_reg2['inflation_revenue'])\n",
    "nc_reg2['Movie_runtime'] = np.log(nc_reg2['Movie_runtime'])\n",
    "nc_reg2['Movie_release_date'] = np.log(nc_reg2['Movie_release_date'])\n",
    "nc_reg2['experience'] = np.log(nc_reg2['experience'])"
   ]
  },
  {
   "cell_type": "code",
   "execution_count": null,
   "id": "c9976348-2a99-4a6c-bed6-2a95a172d315",
   "metadata": {},
   "outputs": [],
   "source": [
    "mod = smf.ols(formula='inflation_revenue ~ Movie_runtime + Movie_release_date + \\\n",
    "                      + experience', data=nc_reg2)\n",
    "\n",
    "res = mod.fit()\n",
    "print(res.summary())"
   ]
  },
  {
   "cell_type": "markdown",
   "id": "7b67cbf9-e0f0-45eb-982c-95780eb76e69",
   "metadata": {},
   "source": [
    "From the results above, a significant decrease of **1/3** in the influence of the movie release date is observed."
   ]
  },
  {
   "cell_type": "markdown",
   "id": "4a855ec5-ef67-4338-b0c1-f08acf358f31",
   "metadata": {},
   "source": [
    "We can go further in the analysis, by investigating the gender equality/inequality in the movies to see if they are related to revenue as well. The eventual goal would be to establish the benefit of choosing an actor over another one, and so a gender study is fundamental for this purpose."
   ]
  },
  {
   "cell_type": "markdown",
   "id": "9525fd8e-88b3-47d5-8476-72c3b0c7e1f5",
   "metadata": {},
   "source": [
    "To have some preliminary results on a single sample, the analysis will regard one of the previously studied Leonardo Di Caprio movies."
   ]
  },
  {
   "cell_type": "code",
   "execution_count": null,
   "id": "bb655b57-0125-485a-b87b-706dcdf438bc",
   "metadata": {},
   "outputs": [],
   "source": [
    "ex = pd.merge(ds_filt,nc, on='Movie_name', how='right')"
   ]
  },
  {
   "cell_type": "code",
   "execution_count": null,
   "id": "1ba38d28-1d70-4a4d-800a-6dab4b98f4cd",
   "metadata": {},
   "outputs": [],
   "source": [
    "ds_filt"
   ]
  },
  {
   "cell_type": "code",
   "execution_count": null,
   "id": "294a33f9-c6b8-4da1-a8ba-c0b6800db962",
   "metadata": {},
   "outputs": [],
   "source": []
  },
  {
   "cell_type": "code",
   "execution_count": null,
   "id": "b07f4555-16c6-41e8-8298-863d35422c85",
   "metadata": {},
   "outputs": [],
   "source": []
  },
  {
   "cell_type": "code",
   "execution_count": null,
   "id": "9810965f-02e1-45da-b236-bc598e351848",
   "metadata": {},
   "outputs": [],
   "source": []
  },
  {
   "cell_type": "code",
   "execution_count": null,
   "id": "50b196d1-cf86-451c-81da-bd63c186ec67",
   "metadata": {},
   "outputs": [],
   "source": []
  },
  {
   "cell_type": "code",
   "execution_count": null,
   "id": "0af17722-70a6-4b91-b9a9-18839705f600",
   "metadata": {},
   "outputs": [],
   "source": []
  },
  {
   "cell_type": "code",
   "execution_count": null,
   "id": "11f22a9e-7a0e-4c37-adb2-738e6103d86d",
   "metadata": {},
   "outputs": [],
   "source": []
  },
  {
   "cell_type": "code",
   "execution_count": null,
   "id": "72eaeb8a-c317-4160-a756-b0e75bf611d8",
   "metadata": {},
   "outputs": [],
   "source": []
  },
  {
   "cell_type": "code",
   "execution_count": null,
   "id": "154d62a3-8d04-4a31-af4f-a91ef756d4b2",
   "metadata": {},
   "outputs": [],
   "source": []
  },
  {
   "cell_type": "code",
   "execution_count": null,
   "id": "6745813b-403c-4a06-9448-eb322ab04dc8",
   "metadata": {},
   "outputs": [],
   "source": []
  },
  {
   "cell_type": "code",
   "execution_count": null,
   "id": "9962a0b7-1d19-4161-8af9-24b42701cde8",
   "metadata": {},
   "outputs": [],
   "source": [
    "dt = pd.DataFrame(ds.groupby('Movie_name')['Actor_name'].count())"
   ]
  },
  {
   "cell_type": "code",
   "execution_count": null,
   "id": "52f0d18b-ae35-4ecb-a5fe-8b5408c2f6cf",
   "metadata": {},
   "outputs": [],
   "source": [
    "dt.head(50)"
   ]
  },
  {
   "cell_type": "code",
   "execution_count": null,
   "id": "f209cbbf-7771-4f76-9d31-07a15465f13b",
   "metadata": {},
   "outputs": [],
   "source": []
  }
 ],
 "metadata": {
  "kernelspec": {
   "display_name": "Python 3 (ipykernel)",
   "language": "python",
   "name": "python3"
  },
  "language_info": {
   "codemirror_mode": {
    "name": "ipython",
    "version": 3
   },
   "file_extension": ".py",
   "mimetype": "text/x-python",
   "name": "python",
   "nbconvert_exporter": "python",
   "pygments_lexer": "ipython3",
   "version": "3.8.13"
  },
  "vscode": {
   "interpreter": {
    "hash": "31f2aee4e71d21fbe5cf8b01ff0e069b9275f58929596ceb00d14d90e3e16cd6"
   }
  }
 },
 "nbformat": 4,
 "nbformat_minor": 5
}
