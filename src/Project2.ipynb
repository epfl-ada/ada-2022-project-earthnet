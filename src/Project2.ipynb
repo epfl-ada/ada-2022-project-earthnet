{
 "cells": [
  {
   "cell_type": "code",
   "execution_count": 1,
   "id": "19090070-5197-49ff-8f03-8614ac2b8d20",
   "metadata": {},
   "outputs": [],
   "source": [
    "#imports\n",
    "import pandas as pd\n",
    "import numpy as np\n",
    "import matplotlib.pyplot as plt\n",
    "%matplotlib inline\n",
    "import seaborn as sns\n",
    "import tarfile\n",
    "import math\n",
    "from scipy import stats\n",
    "import statsmodels.formula.api as smf"
   ]
  },
  {
   "cell_type": "code",
   "execution_count": 2,
   "id": "e7ba8fc2-dbb2-47dd-903e-6887aeb9233b",
   "metadata": {},
   "outputs": [
    {
     "name": "stdout",
     "output_type": "stream",
     "text": [
      "['MovieSummaries', 'MovieSummaries/tvtropes.clusters.txt', 'MovieSummaries/name.clusters.txt', 'MovieSummaries/plot_summaries.txt', 'MovieSummaries/README.txt', 'MovieSummaries/movie.metadata.tsv', 'MovieSummaries/character.metadata.tsv']\n"
     ]
    }
   ],
   "source": [
    "filename = \"MovieSummaries.tar.gz\"\n",
    "ds = tarfile.open(filename)\n",
    "print(ds.getnames())\n",
    "tf = tarfile.open(filename)\n",
    "tf.extractall('MS_decomp')"
   ]
  },
  {
   "cell_type": "code",
   "execution_count": 3,
   "id": "a4c76619-b89a-4c9a-9080-5512916eb498",
   "metadata": {},
   "outputs": [],
   "source": [
    "movie = pd.read_csv('./MS_decomp/MovieSummaries/'+'movie.metadata.tsv', \n",
    "                 sep='\\t',\n",
    "                 names=['Wikipedia_movie_ID',\n",
    "                        'Freebase_movie_ID',\n",
    "                        'Movie_name',\n",
    "                        'Movie_release_date',\n",
    "                        'Movie_box_office_revenue',\n",
    "                        'Movie_runtime',\n",
    "                        'Movie_languages',\n",
    "                        'Movie_countries',\n",
    "                        'Movie_genres'],\n",
    "                 header=None)"
   ]
  },
  {
   "cell_type": "code",
   "execution_count": 4,
   "id": "c3050431-37cc-4f29-879a-d1eaed881804",
   "metadata": {},
   "outputs": [],
   "source": [
    "character = pd.read_csv('./MS_decomp/MovieSummaries/'+'character.metadata.tsv', \n",
    "                 sep='\\t',\n",
    "                 names=['Wikipedia_movie_ID',\n",
    "                        'Freebase_movie_ID',\n",
    "                        'Movie_release_date',\n",
    "                        'Character_name',\n",
    "                        'Actor_date_of_birth',\n",
    "                        'Actor_gender',\n",
    "                        'Actor_height',\n",
    "                        'Actor_ethnicity',\n",
    "                        'Actor_name',\n",
    "                        'Actor_age_at_movie_release',\n",
    "                        'Freebase_character/actor_map_ID',\n",
    "                        'Freebase_character_ID',\n",
    "                        'Freebase_actor_ID'],\n",
    "                 header=None)"
   ]
  },
  {
   "cell_type": "code",
   "execution_count": 5,
   "id": "5b91d7ed-8314-43e5-910d-4d4146a70277",
   "metadata": {},
   "outputs": [],
   "source": [
    "plots = pd.read_csv('./MS_decomp/MovieSummaries/'+'plot_summaries.txt', \n",
    "                 sep='\\t',\n",
    "                 names=['Wikipedia_movie_ID',\n",
    "                        'Summary'],\n",
    "                 header=None)"
   ]
  },
  {
   "cell_type": "code",
   "execution_count": 6,
   "id": "60f351d2-eac1-4c94-a1a2-72cebb0ec19b",
   "metadata": {},
   "outputs": [
    {
     "data": {
      "text/html": [
       "<div>\n",
       "<style scoped>\n",
       "    .dataframe tbody tr th:only-of-type {\n",
       "        vertical-align: middle;\n",
       "    }\n",
       "\n",
       "    .dataframe tbody tr th {\n",
       "        vertical-align: top;\n",
       "    }\n",
       "\n",
       "    .dataframe thead th {\n",
       "        text-align: right;\n",
       "    }\n",
       "</style>\n",
       "<table border=\"1\" class=\"dataframe\">\n",
       "  <thead>\n",
       "    <tr style=\"text-align: right;\">\n",
       "      <th></th>\n",
       "      <th>Wikipedia_movie_ID</th>\n",
       "      <th>Freebase_movie_ID</th>\n",
       "      <th>Movie_name</th>\n",
       "      <th>Movie_release_date</th>\n",
       "      <th>Movie_box_office_revenue</th>\n",
       "      <th>Movie_runtime</th>\n",
       "      <th>Movie_languages</th>\n",
       "      <th>Movie_countries</th>\n",
       "      <th>Movie_genres</th>\n",
       "    </tr>\n",
       "  </thead>\n",
       "  <tbody>\n",
       "    <tr>\n",
       "      <th>0</th>\n",
       "      <td>975900</td>\n",
       "      <td>/m/03vyhn</td>\n",
       "      <td>Ghosts of Mars</td>\n",
       "      <td>2001-08-24</td>\n",
       "      <td>14010832.0</td>\n",
       "      <td>98.0</td>\n",
       "      <td>{\"/m/02h40lc\": \"English Language\"}</td>\n",
       "      <td>{\"/m/09c7w0\": \"United States of America\"}</td>\n",
       "      <td>{\"/m/01jfsb\": \"Thriller\", \"/m/06n90\": \"Science...</td>\n",
       "    </tr>\n",
       "    <tr>\n",
       "      <th>1</th>\n",
       "      <td>3196793</td>\n",
       "      <td>/m/08yl5d</td>\n",
       "      <td>Getting Away with Murder: The JonBenét Ramsey ...</td>\n",
       "      <td>2000-02-16</td>\n",
       "      <td>NaN</td>\n",
       "      <td>95.0</td>\n",
       "      <td>{\"/m/02h40lc\": \"English Language\"}</td>\n",
       "      <td>{\"/m/09c7w0\": \"United States of America\"}</td>\n",
       "      <td>{\"/m/02n4kr\": \"Mystery\", \"/m/03bxz7\": \"Biograp...</td>\n",
       "    </tr>\n",
       "    <tr>\n",
       "      <th>2</th>\n",
       "      <td>28463795</td>\n",
       "      <td>/m/0crgdbh</td>\n",
       "      <td>Brun bitter</td>\n",
       "      <td>1988</td>\n",
       "      <td>NaN</td>\n",
       "      <td>83.0</td>\n",
       "      <td>{\"/m/05f_3\": \"Norwegian Language\"}</td>\n",
       "      <td>{\"/m/05b4w\": \"Norway\"}</td>\n",
       "      <td>{\"/m/0lsxr\": \"Crime Fiction\", \"/m/07s9rl0\": \"D...</td>\n",
       "    </tr>\n",
       "  </tbody>\n",
       "</table>\n",
       "</div>"
      ],
      "text/plain": [
       "   Wikipedia_movie_ID Freebase_movie_ID  \\\n",
       "0              975900         /m/03vyhn   \n",
       "1             3196793         /m/08yl5d   \n",
       "2            28463795        /m/0crgdbh   \n",
       "\n",
       "                                          Movie_name Movie_release_date  \\\n",
       "0                                     Ghosts of Mars         2001-08-24   \n",
       "1  Getting Away with Murder: The JonBenét Ramsey ...         2000-02-16   \n",
       "2                                        Brun bitter               1988   \n",
       "\n",
       "   Movie_box_office_revenue  Movie_runtime  \\\n",
       "0                14010832.0           98.0   \n",
       "1                       NaN           95.0   \n",
       "2                       NaN           83.0   \n",
       "\n",
       "                      Movie_languages  \\\n",
       "0  {\"/m/02h40lc\": \"English Language\"}   \n",
       "1  {\"/m/02h40lc\": \"English Language\"}   \n",
       "2  {\"/m/05f_3\": \"Norwegian Language\"}   \n",
       "\n",
       "                             Movie_countries  \\\n",
       "0  {\"/m/09c7w0\": \"United States of America\"}   \n",
       "1  {\"/m/09c7w0\": \"United States of America\"}   \n",
       "2                     {\"/m/05b4w\": \"Norway\"}   \n",
       "\n",
       "                                        Movie_genres  \n",
       "0  {\"/m/01jfsb\": \"Thriller\", \"/m/06n90\": \"Science...  \n",
       "1  {\"/m/02n4kr\": \"Mystery\", \"/m/03bxz7\": \"Biograp...  \n",
       "2  {\"/m/0lsxr\": \"Crime Fiction\", \"/m/07s9rl0\": \"D...  "
      ]
     },
     "execution_count": 6,
     "metadata": {},
     "output_type": "execute_result"
    }
   ],
   "source": [
    "movie.head(3)"
   ]
  },
  {
   "cell_type": "code",
   "execution_count": 7,
   "id": "32230aa7-26cc-41a2-a159-174aef4bed1a",
   "metadata": {},
   "outputs": [
    {
     "data": {
      "text/html": [
       "<div>\n",
       "<style scoped>\n",
       "    .dataframe tbody tr th:only-of-type {\n",
       "        vertical-align: middle;\n",
       "    }\n",
       "\n",
       "    .dataframe tbody tr th {\n",
       "        vertical-align: top;\n",
       "    }\n",
       "\n",
       "    .dataframe thead th {\n",
       "        text-align: right;\n",
       "    }\n",
       "</style>\n",
       "<table border=\"1\" class=\"dataframe\">\n",
       "  <thead>\n",
       "    <tr style=\"text-align: right;\">\n",
       "      <th></th>\n",
       "      <th>Wikipedia_movie_ID</th>\n",
       "      <th>Freebase_movie_ID</th>\n",
       "      <th>Movie_release_date</th>\n",
       "      <th>Character_name</th>\n",
       "      <th>Actor_date_of_birth</th>\n",
       "      <th>Actor_gender</th>\n",
       "      <th>Actor_height</th>\n",
       "      <th>Actor_ethnicity</th>\n",
       "      <th>Actor_name</th>\n",
       "      <th>Actor_age_at_movie_release</th>\n",
       "      <th>Freebase_character/actor_map_ID</th>\n",
       "      <th>Freebase_character_ID</th>\n",
       "      <th>Freebase_actor_ID</th>\n",
       "    </tr>\n",
       "  </thead>\n",
       "  <tbody>\n",
       "    <tr>\n",
       "      <th>0</th>\n",
       "      <td>975900</td>\n",
       "      <td>/m/03vyhn</td>\n",
       "      <td>2001-08-24</td>\n",
       "      <td>Akooshay</td>\n",
       "      <td>1958-08-26</td>\n",
       "      <td>F</td>\n",
       "      <td>1.620</td>\n",
       "      <td>NaN</td>\n",
       "      <td>Wanda De Jesus</td>\n",
       "      <td>42.0</td>\n",
       "      <td>/m/0bgchxw</td>\n",
       "      <td>/m/0bgcj3x</td>\n",
       "      <td>/m/03wcfv7</td>\n",
       "    </tr>\n",
       "    <tr>\n",
       "      <th>1</th>\n",
       "      <td>975900</td>\n",
       "      <td>/m/03vyhn</td>\n",
       "      <td>2001-08-24</td>\n",
       "      <td>Lieutenant Melanie Ballard</td>\n",
       "      <td>1974-08-15</td>\n",
       "      <td>F</td>\n",
       "      <td>1.780</td>\n",
       "      <td>/m/044038p</td>\n",
       "      <td>Natasha Henstridge</td>\n",
       "      <td>27.0</td>\n",
       "      <td>/m/0jys3m</td>\n",
       "      <td>/m/0bgchn4</td>\n",
       "      <td>/m/0346l4</td>\n",
       "    </tr>\n",
       "    <tr>\n",
       "      <th>2</th>\n",
       "      <td>975900</td>\n",
       "      <td>/m/03vyhn</td>\n",
       "      <td>2001-08-24</td>\n",
       "      <td>Desolation Williams</td>\n",
       "      <td>1969-06-15</td>\n",
       "      <td>M</td>\n",
       "      <td>1.727</td>\n",
       "      <td>/m/0x67</td>\n",
       "      <td>Ice Cube</td>\n",
       "      <td>32.0</td>\n",
       "      <td>/m/0jys3g</td>\n",
       "      <td>/m/0bgchn_</td>\n",
       "      <td>/m/01vw26l</td>\n",
       "    </tr>\n",
       "  </tbody>\n",
       "</table>\n",
       "</div>"
      ],
      "text/plain": [
       "   Wikipedia_movie_ID Freebase_movie_ID Movie_release_date  \\\n",
       "0              975900         /m/03vyhn         2001-08-24   \n",
       "1              975900         /m/03vyhn         2001-08-24   \n",
       "2              975900         /m/03vyhn         2001-08-24   \n",
       "\n",
       "               Character_name Actor_date_of_birth Actor_gender  Actor_height  \\\n",
       "0                    Akooshay          1958-08-26            F         1.620   \n",
       "1  Lieutenant Melanie Ballard          1974-08-15            F         1.780   \n",
       "2         Desolation Williams          1969-06-15            M         1.727   \n",
       "\n",
       "  Actor_ethnicity          Actor_name  Actor_age_at_movie_release  \\\n",
       "0             NaN      Wanda De Jesus                        42.0   \n",
       "1      /m/044038p  Natasha Henstridge                        27.0   \n",
       "2         /m/0x67            Ice Cube                        32.0   \n",
       "\n",
       "  Freebase_character/actor_map_ID Freebase_character_ID Freebase_actor_ID  \n",
       "0                      /m/0bgchxw            /m/0bgcj3x        /m/03wcfv7  \n",
       "1                       /m/0jys3m            /m/0bgchn4         /m/0346l4  \n",
       "2                       /m/0jys3g            /m/0bgchn_        /m/01vw26l  "
      ]
     },
     "execution_count": 7,
     "metadata": {},
     "output_type": "execute_result"
    }
   ],
   "source": [
    "character.head(3)"
   ]
  },
  {
   "cell_type": "code",
   "execution_count": 8,
   "id": "cc444adb-3a63-4541-be1b-1ecddf3ef65e",
   "metadata": {},
   "outputs": [
    {
     "data": {
      "text/html": [
       "<div>\n",
       "<style scoped>\n",
       "    .dataframe tbody tr th:only-of-type {\n",
       "        vertical-align: middle;\n",
       "    }\n",
       "\n",
       "    .dataframe tbody tr th {\n",
       "        vertical-align: top;\n",
       "    }\n",
       "\n",
       "    .dataframe thead th {\n",
       "        text-align: right;\n",
       "    }\n",
       "</style>\n",
       "<table border=\"1\" class=\"dataframe\">\n",
       "  <thead>\n",
       "    <tr style=\"text-align: right;\">\n",
       "      <th></th>\n",
       "      <th>Wikipedia_movie_ID</th>\n",
       "      <th>Summary</th>\n",
       "    </tr>\n",
       "  </thead>\n",
       "  <tbody>\n",
       "    <tr>\n",
       "      <th>0</th>\n",
       "      <td>23890098</td>\n",
       "      <td>Shlykov, a hard-working taxi driver and Lyosha...</td>\n",
       "    </tr>\n",
       "    <tr>\n",
       "      <th>1</th>\n",
       "      <td>31186339</td>\n",
       "      <td>The nation of Panem consists of a wealthy Capi...</td>\n",
       "    </tr>\n",
       "    <tr>\n",
       "      <th>2</th>\n",
       "      <td>20663735</td>\n",
       "      <td>Poovalli Induchoodan  is sentenced for six yea...</td>\n",
       "    </tr>\n",
       "  </tbody>\n",
       "</table>\n",
       "</div>"
      ],
      "text/plain": [
       "   Wikipedia_movie_ID                                            Summary\n",
       "0            23890098  Shlykov, a hard-working taxi driver and Lyosha...\n",
       "1            31186339  The nation of Panem consists of a wealthy Capi...\n",
       "2            20663735  Poovalli Induchoodan  is sentenced for six yea..."
      ]
     },
     "execution_count": 8,
     "metadata": {},
     "output_type": "execute_result"
    }
   ],
   "source": [
    "plots.head(3)"
   ]
  },
  {
   "cell_type": "markdown",
   "id": "f4bebba0-70c9-420e-bd72-7ae65773b9e6",
   "metadata": {},
   "source": [
    "# Data cleaning"
   ]
  },
  {
   "cell_type": "code",
   "execution_count": 9,
   "id": "84d77ed8-58ef-4717-aaf8-fa425639df40",
   "metadata": {},
   "outputs": [],
   "source": [
    "#move release dates and actor birth dates to datetime format and keep only release year\n",
    "character.Movie_release_date = pd.to_datetime(character['Movie_release_date'],\n",
    "                                              errors='coerce').dt.year\n",
    "\n",
    "movie.Movie_release_date = pd.to_datetime(movie['Movie_release_date'],\n",
    "                                              errors='coerce').dt.year"
   ]
  },
  {
   "cell_type": "code",
   "execution_count": 10,
   "id": "e1a7bd7d-6e7a-4229-b84d-efdb2c24fcfe",
   "metadata": {},
   "outputs": [],
   "source": [
    "#sort dataframes by ascending release year\n",
    "character.sort_values(by=['Movie_release_date'], ascending=True, inplace=True)\n",
    "\n",
    "movie.sort_values(by=['Movie_release_date'], ascending=True, inplace=True)"
   ]
  },
  {
   "cell_type": "code",
   "execution_count": 11,
   "id": "b51a7b43-f6ac-4641-9213-7325b3149267",
   "metadata": {},
   "outputs": [],
   "source": [
    "#merge dataframes\n",
    "ds = pd.merge(movie,character)"
   ]
  },
  {
   "cell_type": "code",
   "execution_count": 12,
   "id": "2e4e0398-423a-4f68-9e7c-02402724a201",
   "metadata": {},
   "outputs": [],
   "source": [
    "#find movies without box office and filter them out\n",
    "bad_ids = ds.loc[ds['Movie_box_office_revenue'].isnull()].index\n",
    "ds_filt = ds.drop(bad_ids)"
   ]
  },
  {
   "cell_type": "code",
   "execution_count": 13,
   "id": "f86d53ce-fcef-460e-9238-89f81b0055f1",
   "metadata": {},
   "outputs": [],
   "source": [
    "#sort dataframe by movie release date\n",
    "#ds_filt.sort_values(by=['Movie_release_date'], ascending=True, inplace=True)"
   ]
  },
  {
   "cell_type": "code",
   "execution_count": 14,
   "id": "9220c741-6942-4e3a-86cc-302e8710d320",
   "metadata": {},
   "outputs": [
    {
     "data": {
      "text/plain": [
       "101028"
      ]
     },
     "execution_count": 14,
     "metadata": {},
     "output_type": "execute_result"
    }
   ],
   "source": [
    "len(ds_filt)"
   ]
  },
  {
   "cell_type": "code",
   "execution_count": 15,
   "id": "ebb2157f-42a2-4e00-a323-499e9ba7e5a2",
   "metadata": {},
   "outputs": [
    {
     "data": {
      "text/html": [
       "<div>\n",
       "<style scoped>\n",
       "    .dataframe tbody tr th:only-of-type {\n",
       "        vertical-align: middle;\n",
       "    }\n",
       "\n",
       "    .dataframe tbody tr th {\n",
       "        vertical-align: top;\n",
       "    }\n",
       "\n",
       "    .dataframe thead th {\n",
       "        text-align: right;\n",
       "    }\n",
       "</style>\n",
       "<table border=\"1\" class=\"dataframe\">\n",
       "  <thead>\n",
       "    <tr style=\"text-align: right;\">\n",
       "      <th></th>\n",
       "      <th>Wikipedia_movie_ID</th>\n",
       "      <th>Freebase_movie_ID</th>\n",
       "      <th>Movie_name</th>\n",
       "      <th>Movie_release_date</th>\n",
       "      <th>Movie_box_office_revenue</th>\n",
       "      <th>Movie_runtime</th>\n",
       "      <th>Movie_languages</th>\n",
       "      <th>Movie_countries</th>\n",
       "      <th>Movie_genres</th>\n",
       "      <th>Character_name</th>\n",
       "      <th>Actor_date_of_birth</th>\n",
       "      <th>Actor_gender</th>\n",
       "      <th>Actor_height</th>\n",
       "      <th>Actor_ethnicity</th>\n",
       "      <th>Actor_name</th>\n",
       "      <th>Actor_age_at_movie_release</th>\n",
       "      <th>Freebase_character/actor_map_ID</th>\n",
       "      <th>Freebase_character_ID</th>\n",
       "      <th>Freebase_actor_ID</th>\n",
       "    </tr>\n",
       "  </thead>\n",
       "  <tbody>\n",
       "    <tr>\n",
       "      <th>23</th>\n",
       "      <td>28703057</td>\n",
       "      <td>/m/0czdh_n</td>\n",
       "      <td>The Corbett-Fitzsimmons Fight</td>\n",
       "      <td>1897.0</td>\n",
       "      <td>100000.0</td>\n",
       "      <td>NaN</td>\n",
       "      <td>{}</td>\n",
       "      <td>{}</td>\n",
       "      <td>{\"/m/01z02hx\": \"Sports\"}</td>\n",
       "      <td>NaN</td>\n",
       "      <td>1866-09-01</td>\n",
       "      <td>M</td>\n",
       "      <td>NaN</td>\n",
       "      <td>NaN</td>\n",
       "      <td>James J. Corbett</td>\n",
       "      <td>NaN</td>\n",
       "      <td>/m/0gvztx7</td>\n",
       "      <td>NaN</td>\n",
       "      <td>/m/037fcq</td>\n",
       "    </tr>\n",
       "    <tr>\n",
       "      <th>1663</th>\n",
       "      <td>1762869</td>\n",
       "      <td>/m/05tz4w</td>\n",
       "      <td>The Squaw Man</td>\n",
       "      <td>1914.0</td>\n",
       "      <td>244700.0</td>\n",
       "      <td>74.0</td>\n",
       "      <td>{\"/m/06ppq\": \"Silent film\", \"/m/02h40lc\": \"Eng...</td>\n",
       "      <td>{\"/m/09c7w0\": \"United States of America\"}</td>\n",
       "      <td>{\"/m/06ppq\": \"Silent film\", \"/m/0hfjk\": \"Weste...</td>\n",
       "      <td>NaN</td>\n",
       "      <td>1874-05-27</td>\n",
       "      <td>M</td>\n",
       "      <td>NaN</td>\n",
       "      <td>NaN</td>\n",
       "      <td>Dustin Farnum</td>\n",
       "      <td>NaN</td>\n",
       "      <td>/m/0k6jrc</td>\n",
       "      <td>NaN</td>\n",
       "      <td>/m/06x_50</td>\n",
       "    </tr>\n",
       "    <tr>\n",
       "      <th>1746</th>\n",
       "      <td>15340505</td>\n",
       "      <td>/m/03m5kln</td>\n",
       "      <td>Neptune's Daughter</td>\n",
       "      <td>1914.0</td>\n",
       "      <td>1000000.0</td>\n",
       "      <td>NaN</td>\n",
       "      <td>{\"/m/02h40lc\": \"English Language\"}</td>\n",
       "      <td>{\"/m/09c7w0\": \"United States of America\"}</td>\n",
       "      <td>{\"/m/06ppq\": \"Silent film\", \"/m/0219x_\": \"Indi...</td>\n",
       "      <td>NaN</td>\n",
       "      <td>1887-07-06</td>\n",
       "      <td>F</td>\n",
       "      <td>NaN</td>\n",
       "      <td>NaN</td>\n",
       "      <td>Annette Kellerman</td>\n",
       "      <td>NaN</td>\n",
       "      <td>/m/040nkbv</td>\n",
       "      <td>NaN</td>\n",
       "      <td>/m/047c4t</td>\n",
       "    </tr>\n",
       "  </tbody>\n",
       "</table>\n",
       "</div>"
      ],
      "text/plain": [
       "      Wikipedia_movie_ID Freebase_movie_ID                     Movie_name  \\\n",
       "23              28703057        /m/0czdh_n  The Corbett-Fitzsimmons Fight   \n",
       "1663             1762869         /m/05tz4w                  The Squaw Man   \n",
       "1746            15340505        /m/03m5kln             Neptune's Daughter   \n",
       "\n",
       "      Movie_release_date  Movie_box_office_revenue  Movie_runtime  \\\n",
       "23                1897.0                  100000.0            NaN   \n",
       "1663              1914.0                  244700.0           74.0   \n",
       "1746              1914.0                 1000000.0            NaN   \n",
       "\n",
       "                                        Movie_languages  \\\n",
       "23                                                   {}   \n",
       "1663  {\"/m/06ppq\": \"Silent film\", \"/m/02h40lc\": \"Eng...   \n",
       "1746                 {\"/m/02h40lc\": \"English Language\"}   \n",
       "\n",
       "                                Movie_countries  \\\n",
       "23                                           {}   \n",
       "1663  {\"/m/09c7w0\": \"United States of America\"}   \n",
       "1746  {\"/m/09c7w0\": \"United States of America\"}   \n",
       "\n",
       "                                           Movie_genres Character_name  \\\n",
       "23                             {\"/m/01z02hx\": \"Sports\"}            NaN   \n",
       "1663  {\"/m/06ppq\": \"Silent film\", \"/m/0hfjk\": \"Weste...            NaN   \n",
       "1746  {\"/m/06ppq\": \"Silent film\", \"/m/0219x_\": \"Indi...            NaN   \n",
       "\n",
       "     Actor_date_of_birth Actor_gender  Actor_height Actor_ethnicity  \\\n",
       "23            1866-09-01            M           NaN             NaN   \n",
       "1663          1874-05-27            M           NaN             NaN   \n",
       "1746          1887-07-06            F           NaN             NaN   \n",
       "\n",
       "             Actor_name  Actor_age_at_movie_release  \\\n",
       "23     James J. Corbett                         NaN   \n",
       "1663      Dustin Farnum                         NaN   \n",
       "1746  Annette Kellerman                         NaN   \n",
       "\n",
       "     Freebase_character/actor_map_ID Freebase_character_ID Freebase_actor_ID  \n",
       "23                        /m/0gvztx7                   NaN         /m/037fcq  \n",
       "1663                       /m/0k6jrc                   NaN         /m/06x_50  \n",
       "1746                      /m/040nkbv                   NaN         /m/047c4t  "
      ]
     },
     "execution_count": 15,
     "metadata": {},
     "output_type": "execute_result"
    }
   ],
   "source": [
    "ds_filt.head(3)"
   ]
  },
  {
   "cell_type": "markdown",
   "id": "3ba4140a-73fd-485c-bc73-b4d50e9dbd45",
   "metadata": {},
   "source": [
    "## Preliminary results on the impact of one actor"
   ]
  },
  {
   "cell_type": "code",
   "execution_count": 16,
   "id": "f9e37e50-61fd-4b46-8e54-6db02add285c",
   "metadata": {},
   "outputs": [],
   "source": [
    "#slice the character dataframe to get only Leonardo Di Caprio movies\n",
    "nc = pd.DataFrame(ds_filt.query(\"Actor_name == 'Leonardo DiCaprio'\")).reset_index(drop=True)"
   ]
  },
  {
   "cell_type": "code",
   "execution_count": 17,
   "id": "f992ae4d-7f80-4220-88f0-ea7c63d946a2",
   "metadata": {},
   "outputs": [
    {
     "name": "stdout",
     "output_type": "stream",
     "text": [
      "Leonardo Di Caprio starred in 22 movies\n"
     ]
    }
   ],
   "source": [
    "#number of movies Leonardo Di Caprio starred in\n",
    "print('Leonardo Di Caprio starred in ' + str(len(nc)) + ' movies')"
   ]
  },
  {
   "cell_type": "code",
   "execution_count": 18,
   "id": "2026d915-d91c-444e-82ef-a3530c77f49b",
   "metadata": {},
   "outputs": [
    {
     "data": {
      "text/html": [
       "<div>\n",
       "<style scoped>\n",
       "    .dataframe tbody tr th:only-of-type {\n",
       "        vertical-align: middle;\n",
       "    }\n",
       "\n",
       "    .dataframe tbody tr th {\n",
       "        vertical-align: top;\n",
       "    }\n",
       "\n",
       "    .dataframe thead th {\n",
       "        text-align: right;\n",
       "    }\n",
       "</style>\n",
       "<table border=\"1\" class=\"dataframe\">\n",
       "  <thead>\n",
       "    <tr style=\"text-align: right;\">\n",
       "      <th></th>\n",
       "      <th>Wikipedia_movie_ID</th>\n",
       "      <th>Freebase_movie_ID</th>\n",
       "      <th>Movie_name</th>\n",
       "      <th>Movie_release_date</th>\n",
       "      <th>Movie_box_office_revenue</th>\n",
       "      <th>Movie_runtime</th>\n",
       "      <th>Movie_languages</th>\n",
       "      <th>Movie_countries</th>\n",
       "      <th>Movie_genres</th>\n",
       "      <th>Character_name</th>\n",
       "      <th>Actor_date_of_birth</th>\n",
       "      <th>Actor_gender</th>\n",
       "      <th>Actor_height</th>\n",
       "      <th>Actor_ethnicity</th>\n",
       "      <th>Actor_name</th>\n",
       "      <th>Actor_age_at_movie_release</th>\n",
       "      <th>Freebase_character/actor_map_ID</th>\n",
       "      <th>Freebase_character_ID</th>\n",
       "      <th>Freebase_actor_ID</th>\n",
       "    </tr>\n",
       "  </thead>\n",
       "  <tbody>\n",
       "    <tr>\n",
       "      <th>0</th>\n",
       "      <td>656608</td>\n",
       "      <td>/m/0306c6</td>\n",
       "      <td>What's Eating Gilbert Grape</td>\n",
       "      <td>1993.0</td>\n",
       "      <td>10032765.0</td>\n",
       "      <td>117.0</td>\n",
       "      <td>{\"/m/02h40lc\": \"English Language\"}</td>\n",
       "      <td>{\"/m/09c7w0\": \"United States of America\"}</td>\n",
       "      <td>{\"/m/0219x_\": \"Indie\", \"/m/0clz1b\": \"Slice of ...</td>\n",
       "      <td>Arnie Grape</td>\n",
       "      <td>1974-11-11</td>\n",
       "      <td>M</td>\n",
       "      <td>1.83</td>\n",
       "      <td>/m/09kr66</td>\n",
       "      <td>Leonardo DiCaprio</td>\n",
       "      <td>NaN</td>\n",
       "      <td>/m/0k7_65</td>\n",
       "      <td>/m/02nwr_8</td>\n",
       "      <td>/m/0dvmd</td>\n",
       "    </tr>\n",
       "    <tr>\n",
       "      <th>1</th>\n",
       "      <td>6417754</td>\n",
       "      <td>/m/0g4lfl</td>\n",
       "      <td>This Boy's Life</td>\n",
       "      <td>1993.0</td>\n",
       "      <td>4104962.0</td>\n",
       "      <td>114.0</td>\n",
       "      <td>{\"/m/02h40lc\": \"English Language\"}</td>\n",
       "      <td>{\"/m/09c7w0\": \"United States of America\"}</td>\n",
       "      <td>{\"/m/02h8pkk\": \"Family Drama\", \"/m/04xvlr\": \"P...</td>\n",
       "      <td>Tobias \"Toby\" Wolff</td>\n",
       "      <td>1974-11-11</td>\n",
       "      <td>M</td>\n",
       "      <td>1.83</td>\n",
       "      <td>/m/09kr66</td>\n",
       "      <td>Leonardo DiCaprio</td>\n",
       "      <td>18.0</td>\n",
       "      <td>/m/0k71hy</td>\n",
       "      <td>/m/04gdr_7</td>\n",
       "      <td>/m/0dvmd</td>\n",
       "    </tr>\n",
       "    <tr>\n",
       "      <th>2</th>\n",
       "      <td>740824</td>\n",
       "      <td>/m/037c_d</td>\n",
       "      <td>The Quick and the Dead</td>\n",
       "      <td>1995.0</td>\n",
       "      <td>18636537.0</td>\n",
       "      <td>105.0</td>\n",
       "      <td>{\"/m/02h40lc\": \"English Language\"}</td>\n",
       "      <td>{\"/m/09c7w0\": \"United States of America\", \"/m/...</td>\n",
       "      <td>{\"/m/01jfsb\": \"Thriller\", \"/m/0gw5n2f\": \"Japan...</td>\n",
       "      <td>Fee \"The Kid\" Herod</td>\n",
       "      <td>1974-11-11</td>\n",
       "      <td>M</td>\n",
       "      <td>1.83</td>\n",
       "      <td>/m/09kr66</td>\n",
       "      <td>Leonardo DiCaprio</td>\n",
       "      <td>20.0</td>\n",
       "      <td>/m/02vby_g</td>\n",
       "      <td>/m/04gdr_y</td>\n",
       "      <td>/m/0dvmd</td>\n",
       "    </tr>\n",
       "  </tbody>\n",
       "</table>\n",
       "</div>"
      ],
      "text/plain": [
       "   Wikipedia_movie_ID Freebase_movie_ID                   Movie_name  \\\n",
       "0              656608         /m/0306c6  What's Eating Gilbert Grape   \n",
       "1             6417754         /m/0g4lfl              This Boy's Life   \n",
       "2              740824         /m/037c_d       The Quick and the Dead   \n",
       "\n",
       "   Movie_release_date  Movie_box_office_revenue  Movie_runtime  \\\n",
       "0              1993.0                10032765.0          117.0   \n",
       "1              1993.0                 4104962.0          114.0   \n",
       "2              1995.0                18636537.0          105.0   \n",
       "\n",
       "                      Movie_languages  \\\n",
       "0  {\"/m/02h40lc\": \"English Language\"}   \n",
       "1  {\"/m/02h40lc\": \"English Language\"}   \n",
       "2  {\"/m/02h40lc\": \"English Language\"}   \n",
       "\n",
       "                                     Movie_countries  \\\n",
       "0          {\"/m/09c7w0\": \"United States of America\"}   \n",
       "1          {\"/m/09c7w0\": \"United States of America\"}   \n",
       "2  {\"/m/09c7w0\": \"United States of America\", \"/m/...   \n",
       "\n",
       "                                        Movie_genres       Character_name  \\\n",
       "0  {\"/m/0219x_\": \"Indie\", \"/m/0clz1b\": \"Slice of ...          Arnie Grape   \n",
       "1  {\"/m/02h8pkk\": \"Family Drama\", \"/m/04xvlr\": \"P...  Tobias \"Toby\" Wolff   \n",
       "2  {\"/m/01jfsb\": \"Thriller\", \"/m/0gw5n2f\": \"Japan...  Fee \"The Kid\" Herod   \n",
       "\n",
       "  Actor_date_of_birth Actor_gender  Actor_height Actor_ethnicity  \\\n",
       "0          1974-11-11            M          1.83       /m/09kr66   \n",
       "1          1974-11-11            M          1.83       /m/09kr66   \n",
       "2          1974-11-11            M          1.83       /m/09kr66   \n",
       "\n",
       "          Actor_name  Actor_age_at_movie_release  \\\n",
       "0  Leonardo DiCaprio                         NaN   \n",
       "1  Leonardo DiCaprio                        18.0   \n",
       "2  Leonardo DiCaprio                        20.0   \n",
       "\n",
       "  Freebase_character/actor_map_ID Freebase_character_ID Freebase_actor_ID  \n",
       "0                       /m/0k7_65            /m/02nwr_8          /m/0dvmd  \n",
       "1                       /m/0k71hy            /m/04gdr_7          /m/0dvmd  \n",
       "2                      /m/02vby_g            /m/04gdr_y          /m/0dvmd  "
      ]
     },
     "execution_count": 18,
     "metadata": {},
     "output_type": "execute_result"
    }
   ],
   "source": [
    "nc.head(3)"
   ]
  },
  {
   "cell_type": "markdown",
   "id": "772ff3d6-be45-476c-99eb-552287a8df47",
   "metadata": {},
   "source": [
    "As a preliminary analysis, we plot the distribution of box office revenues for Leonardo Di Caprio movies to see the type of distribution. From the histogram below, we observe that most of the movies have a low box office revenue (skewed distribution); the goal is to verify if there is a correlation between the 'experience' of the actor (number of times he has starred in the movie) and the revenue. "
   ]
  },
  {
   "cell_type": "markdown",
   "id": "1fa5b02a-eaf1-4b12-ad71-6cd25ba4caf1",
   "metadata": {},
   "source": [
    "From the box plot below it is possible to distinguish the median and the quartiles of the distribution. A couple of outliers make it difficult to visualize the distribution properly. To correctly read the data, we proceed to remove them."
   ]
  },
  {
   "cell_type": "code",
   "execution_count": 19,
   "id": "8dd0c3a5-f71f-45ca-b293-77d3bf9638a8",
   "metadata": {},
   "outputs": [
    {
     "data": {
      "image/png": "[encoded data removed]",
      "text/plain": [
       "<Figure size 800x300 with 2 Axes>"
      ]
     },
     "metadata": {},
     "output_type": "display_data"
    }
   ],
   "source": [
    "#plot distribution\n",
    "fig, ax = plt.subplots(1,2, figsize=(8,3), sharey = True)\n",
    "\n",
    "sbplt = ax[0]\n",
    "sbplt.hist(nc.Movie_box_office_revenue, bins=15, orientation='horizontal')\n",
    "sbplt.set_title('Histogram')\n",
    "\n",
    "sbplt = ax[1]\n",
    "sbplt.boxplot(nc.Movie_box_office_revenue)\n",
    "sbplt.set_title('Box plot')\n",
    "    \n",
    "fig.tight_layout()\n",
    "fig.text(0,0.3, \"Box office revenue\", rotation = 90)\n",
    "plt.show()"
   ]
  },
  {
   "cell_type": "code",
   "execution_count": 20,
   "id": "1dbcf1d5-0774-4291-a116-7a7387ecb492",
   "metadata": {},
   "outputs": [
    {
     "name": "stdout",
     "output_type": "stream",
     "text": [
      "The new number of movies considered is 20\n"
     ]
    }
   ],
   "source": [
    "#remove outliers\n",
    "nc.query('Movie_box_office_revenue < 0.5e9', inplace=True)\n",
    "nc.reset_index(inplace=True, drop=True)\n",
    "print('The new number of movies considered is ' + str(len(nc)))"
   ]
  },
  {
   "cell_type": "markdown",
   "id": "3ece1318-aa99-431b-a99f-12473af3b176",
   "metadata": {},
   "source": [
    "In this case, the distribution is way more readable. Most of the movies are in the low box office part"
   ]
  },
  {
   "cell_type": "code",
   "execution_count": 21,
   "id": "4760fceb-0806-4d2c-a09b-b29499200019",
   "metadata": {},
   "outputs": [
    {
     "name": "stdout",
     "output_type": "stream",
     "text": [
      "The median is 131.3261425 M$\n",
      "The first quartile is 16.485594 M$\n",
      "The third quartile is 198.76474275 M$\n"
     ]
    }
   ],
   "source": [
    "#some stats\n",
    "print('The median is ' + str(np.median(nc.Movie_box_office_revenue)/1e6) + ' M$')\n",
    "print('The first quartile is ' + str(np.quantile(nc.Movie_box_office_revenue,0.25)/1e6) + ' M$')\n",
    "print('The third quartile is ' + str(np.quantile(nc.Movie_box_office_revenue,0.75)/1e6) + ' M$')"
   ]
  },
  {
   "cell_type": "code",
   "execution_count": 22,
   "id": "bdaadfe5-a04c-4e08-ac6c-04e02c5248d3",
   "metadata": {},
   "outputs": [
    {
     "data": {
      "image/png": "[encoded data removed]",
      "text/plain": [
       "<Figure size 800x300 with 2 Axes>"
      ]
     },
     "metadata": {},
     "output_type": "display_data"
    }
   ],
   "source": [
    "#plot again\n",
    "\n",
    "fig, ax = plt.subplots(1,2, figsize=(8,3), sharey = True)\n",
    "\n",
    "sbplt = ax[0]\n",
    "sbplt.hist(nc.Movie_box_office_revenue, bins=10, orientation='horizontal')\n",
    "sbplt.set_title('Histogram')\n",
    "\n",
    "sbplt = ax[1]\n",
    "sbplt.boxplot(nc.Movie_box_office_revenue)\n",
    "sbplt.set_title('Box plot')\n",
    "    \n",
    "fig.tight_layout()\n",
    "fig.text(0,0.3, \"Box office revenue\", rotation = 90)\n",
    "plt.show()"
   ]
  },
  {
   "cell_type": "markdown",
   "id": "55c29fb0-cd07-4270-aab2-3da9e1b954b6",
   "metadata": {},
   "source": [
    "### Actor's experience"
   ]
  },
  {
   "cell_type": "code",
   "execution_count": 23,
   "id": "88c5709a-b712-430d-91bb-637b2f8022da",
   "metadata": {},
   "outputs": [],
   "source": [
    "#series with number of times the actor starred before (related to dataframe)\n",
    "#in reality there are more movies\n",
    "exp = np.zeros(len(nc)) \n",
    "t = 1\n",
    "for i in range(len(nc)):\n",
    "    exp[i] = t\n",
    "    t += 1"
   ]
  },
  {
   "cell_type": "code",
   "execution_count": 24,
   "id": "5a773f92-d10b-4f6c-b59a-82768d0324f5",
   "metadata": {},
   "outputs": [],
   "source": [
    "nc['experience'] = exp #add to dataframe"
   ]
  },
  {
   "cell_type": "code",
   "execution_count": 25,
   "id": "c0ab6aa2-e849-4610-91c4-1703f3f9373a",
   "metadata": {},
   "outputs": [
    {
     "data": {
      "text/plain": [
       "PearsonRResult(statistic=0.5934248237363671, pvalue=0.00581203585134971)"
      ]
     },
     "execution_count": 25,
     "metadata": {},
     "output_type": "execute_result"
    }
   ],
   "source": [
    "#is there a correlation between experience and box office revenue??\n",
    "stats.pearsonr(nc['experience'],nc['Movie_box_office_revenue']) #pearson correlation"
   ]
  },
  {
   "cell_type": "code",
   "execution_count": 26,
   "id": "4ecc081f-8b00-447a-9dc9-327377dc40fe",
   "metadata": {},
   "outputs": [
    {
     "data": {
      "text/plain": [
       "SpearmanrResult(correlation=0.6265513793971837, pvalue=0.0031167519062784994)"
      ]
     },
     "execution_count": 26,
     "metadata": {},
     "output_type": "execute_result"
    }
   ],
   "source": [
    "stats.spearmanr(nc['experience'],nc['Movie_box_office_revenue'])"
   ]
  },
  {
   "cell_type": "markdown",
   "id": "16d9b256-7a9f-4fbc-ac4e-21e3a4bd1060",
   "metadata": {},
   "source": [
    "Applying the Pearson and Spearman relation, we obtain a positive correlation of **0.59** and **0.63**, respectively. This seems to lead to a link between experience and box office revenue."
   ]
  },
  {
   "cell_type": "code",
   "execution_count": 27,
   "id": "b6202a24-fb1e-4c1c-9630-9ffee4f0e4ad",
   "metadata": {},
   "outputs": [
    {
     "data": {
      "image/png": "[encoded data removed]",
      "text/plain": [
       "<Figure size 500x500 with 1 Axes>"
      ]
     },
     "metadata": {},
     "output_type": "display_data"
    }
   ],
   "source": [
    "#plot linear correlation\n",
    "sns.lmplot(x='experience',y='Movie_box_office_revenue', data=nc)\n",
    "plt.show()"
   ]
  },
  {
   "cell_type": "markdown",
   "id": "2f0bf1e2-cfad-4839-b041-07b40ad6537d",
   "metadata": {},
   "source": [
    "### Regression analysis"
   ]
  },
  {
   "cell_type": "markdown",
   "id": "bf00d335-dcda-4ead-b397-0a094db7f30c",
   "metadata": {},
   "source": [
    "To understand a bit better the influence of the other parameters on the box office revenue, a model of the revenue based on multiple factors can be tested. The factors taken into consideration are:\n",
    "- Movie runtime;\n",
    "- Experience."
   ]
  },
  {
   "cell_type": "code",
   "execution_count": 28,
   "id": "67898aa1-fd16-4b70-a1a5-59b2b781ee20",
   "metadata": {},
   "outputs": [],
   "source": [
    "#copy dataframe\n",
    "nc_reg = nc.copy()"
   ]
  },
  {
   "cell_type": "code",
   "execution_count": 29,
   "id": "1df458a5-dfa2-4289-94a5-c242b1296e02",
   "metadata": {},
   "outputs": [],
   "source": [
    "#logarithmic scaling of continuous variables\n",
    "nc_reg['Movie_box_office_revenue'] = np.log(nc_reg['Movie_box_office_revenue'])\n",
    "#nc_reg['Movie_runtime'] = np.log(nc_reg['Movie_runtime'])\n",
    "#nc_reg['Movie_release_date'] = np.log(nc_reg['Movie_release_date'])\n",
    "#nc_reg['experience'] = np.log(nc_reg['experience'])"
   ]
  },
  {
   "cell_type": "code",
   "execution_count": 30,
   "id": "383d6667-6f3a-4031-884b-1850bc168910",
   "metadata": {},
   "outputs": [],
   "source": [
    "#standardize continuous variables\n",
    "#nc_reg['Movie_box_office_revenue'] = (nc_reg['Movie_box_office_revenue'] - nc_reg['Movie_box_office_revenue'].mean())/nc_reg['Movie_box_office_revenue'].std()\n",
    "#nc['Movie_release_date'] = (nc['Movie_release_date'] - nc['Movie_release_date'].mean())/nc['Movie_release_date'].std()\n",
    "#nc['Actor_age_at_movie_release'] = (nc['Actor_age_at_movie_release'] - nc['Actor_age_at_movie_release'].mean())/nc['Actor_age_at_movie_release'].std()\n",
    "#nc['experience'] = (nc['experience'] - nc['experience'].mean())/nc['experience'].std()"
   ]
  },
  {
   "cell_type": "code",
   "execution_count": 31,
   "id": "6267c5b7-11c4-4cd1-8b4f-7ff7817558b7",
   "metadata": {},
   "outputs": [
    {
     "name": "stdout",
     "output_type": "stream",
     "text": [
      "                               OLS Regression Results                               \n",
      "====================================================================================\n",
      "Dep. Variable:     Movie_box_office_revenue   R-squared:                       0.524\n",
      "Model:                                  OLS   Adj. R-squared:                  0.468\n",
      "Method:                       Least Squares   F-statistic:                     9.360\n",
      "Date:                      Thu, 10 Nov 2022   Prob (F-statistic):            0.00182\n",
      "Time:                              16:06:47   Log-Likelihood:                -33.936\n",
      "No. Observations:                        20   AIC:                             73.87\n",
      "Df Residuals:                            17   BIC:                             76.86\n",
      "Df Model:                                 2                                         \n",
      "Covariance Type:                  nonrobust                                         \n",
      "=================================================================================\n",
      "                    coef    std err          t      P>|t|      [0.025      0.975]\n",
      "---------------------------------------------------------------------------------\n",
      "Intercept        11.9754      1.967      6.087      0.000       7.825      16.126\n",
      "Movie_runtime     0.0315      0.016      1.921      0.072      -0.003       0.066\n",
      "experience        0.1738      0.060      2.918      0.010       0.048       0.300\n",
      "==============================================================================\n",
      "Omnibus:                        2.657   Durbin-Watson:                   1.969\n",
      "Prob(Omnibus):                  0.265   Jarque-Bera (JB):                1.565\n",
      "Skew:                          -0.684   Prob(JB):                        0.457\n",
      "Kurtosis:                       3.077   Cond. No.                         792.\n",
      "==============================================================================\n",
      "\n",
      "Notes:\n",
      "[1] Standard Errors assume that the covariance matrix of the errors is correctly specified.\n"
     ]
    }
   ],
   "source": [
    "mod = smf.ols(formula='Movie_box_office_revenue ~  Movie_runtime +  experience', data=nc_reg)\n",
    "\n",
    "res = mod.fit()\n",
    "print(res.summary())"
   ]
  },
  {
   "cell_type": "markdown",
   "id": "8cbefe86-aa2a-4330-b78f-eca6683a13b8",
   "metadata": {},
   "source": [
    "From the results, it is possible to get interesting information. The R squared is **0.52**, meaning more than half of the variance is explained. The movie runtime (**C=0.03**) and the experience of the actor (**C=0.174**) positively influence the revenue, even if only the latter is statistically significant (**P < 5%**).\n",
    "A confounder that could naively lead us to overestimate the statistical significance of the actor's experience is inflation. Indeed, over the years the value of money changes; for a proper evaluation, an inflation correction has to be done."
   ]
  },
  {
   "cell_type": "code",
   "execution_count": 32,
   "id": "3336486f-101f-4f82-aea8-ec5e9f98e6cf",
   "metadata": {},
   "outputs": [],
   "source": [
    "#take inflation into account\n",
    "#https://liberalarts.oregonstate.edu/spp/polisci/faculty-staff/robert-sahr/inflation-conversion-factors-years-1774-estimated-2024-dollars-recent-years/individual-year-conversion-factor-table-0\n",
    "cf = pd.read_csv('inflation_correction.csv')\n",
    "cf.query('Year > 1969', inplace=True)\n",
    "cf.reset_index(drop=True, inplace=True)\n",
    "#cf['Year'] = pd.to_datetime(pd.Series(cf.Year)).dt.year #convert to datetime format"
   ]
  },
  {
   "cell_type": "code",
   "execution_count": 33,
   "id": "998a1ba2-b371-4c17-a387-4c7efeeeb825",
   "metadata": {},
   "outputs": [
    {
     "data": {
      "text/html": [
       "<div>\n",
       "<style scoped>\n",
       "    .dataframe tbody tr th:only-of-type {\n",
       "        vertical-align: middle;\n",
       "    }\n",
       "\n",
       "    .dataframe tbody tr th {\n",
       "        vertical-align: top;\n",
       "    }\n",
       "\n",
       "    .dataframe thead th {\n",
       "        text-align: right;\n",
       "    }\n",
       "</style>\n",
       "<table border=\"1\" class=\"dataframe\">\n",
       "  <thead>\n",
       "    <tr style=\"text-align: right;\">\n",
       "      <th></th>\n",
       "      <th>Year</th>\n",
       "      <th>CF</th>\n",
       "    </tr>\n",
       "  </thead>\n",
       "  <tbody>\n",
       "    <tr>\n",
       "      <th>0</th>\n",
       "      <td>1970.0</td>\n",
       "      <td>0.16</td>\n",
       "    </tr>\n",
       "    <tr>\n",
       "      <th>1</th>\n",
       "      <td>1971.0</td>\n",
       "      <td>0.17</td>\n",
       "    </tr>\n",
       "    <tr>\n",
       "      <th>2</th>\n",
       "      <td>1972.0</td>\n",
       "      <td>0.17</td>\n",
       "    </tr>\n",
       "  </tbody>\n",
       "</table>\n",
       "</div>"
      ],
      "text/plain": [
       "     Year    CF\n",
       "0  1970.0  0.16\n",
       "1  1971.0  0.17\n",
       "2  1972.0  0.17"
      ]
     },
     "execution_count": 33,
     "metadata": {},
     "output_type": "execute_result"
    }
   ],
   "source": [
    "cf.head(3)"
   ]
  },
  {
   "cell_type": "code",
   "execution_count": 34,
   "id": "d1a28c96-13b7-4dca-a826-1d60217928c6",
   "metadata": {},
   "outputs": [],
   "source": [
    "#function to compute inflation for a certain year\n",
    "def infl(year):\n",
    "    inf = cf['CF'][cf['Year'] == year]\n",
    "    return inf"
   ]
  },
  {
   "cell_type": "code",
   "execution_count": 35,
   "id": "5c1ff1f6-f6e7-4b88-887c-728d46b17d63",
   "metadata": {},
   "outputs": [],
   "source": [
    "#compute inflation for dataframe rows and add column\n",
    "infl_corr = np.zeros(len(nc))\n",
    "for i in range(len(nc)):\n",
    "    infl_corr[i] = infl(nc['Movie_release_date'][i])\n",
    "nc['CF'] = infl_corr"
   ]
  },
  {
   "cell_type": "code",
   "execution_count": 36,
   "id": "55159c64-f9f8-477f-8f9d-05d55fa7f178",
   "metadata": {},
   "outputs": [],
   "source": [
    "#add inflation corrected box office revenue\n",
    "nc['inflation_revenue'] = nc['Movie_box_office_revenue']/nc['CF']"
   ]
  },
  {
   "cell_type": "code",
   "execution_count": 37,
   "id": "86274d39-e4f0-4587-98d9-486e2f1fa21a",
   "metadata": {},
   "outputs": [
    {
     "data": {
      "text/html": [
       "<div>\n",
       "<style scoped>\n",
       "    .dataframe tbody tr th:only-of-type {\n",
       "        vertical-align: middle;\n",
       "    }\n",
       "\n",
       "    .dataframe tbody tr th {\n",
       "        vertical-align: top;\n",
       "    }\n",
       "\n",
       "    .dataframe thead th {\n",
       "        text-align: right;\n",
       "    }\n",
       "</style>\n",
       "<table border=\"1\" class=\"dataframe\">\n",
       "  <thead>\n",
       "    <tr style=\"text-align: right;\">\n",
       "      <th></th>\n",
       "      <th>Wikipedia_movie_ID</th>\n",
       "      <th>Freebase_movie_ID</th>\n",
       "      <th>Movie_name</th>\n",
       "      <th>Movie_release_date</th>\n",
       "      <th>Movie_box_office_revenue</th>\n",
       "      <th>Movie_runtime</th>\n",
       "      <th>Movie_languages</th>\n",
       "      <th>Movie_countries</th>\n",
       "      <th>Movie_genres</th>\n",
       "      <th>Character_name</th>\n",
       "      <th>...</th>\n",
       "      <th>Actor_height</th>\n",
       "      <th>Actor_ethnicity</th>\n",
       "      <th>Actor_name</th>\n",
       "      <th>Actor_age_at_movie_release</th>\n",
       "      <th>Freebase_character/actor_map_ID</th>\n",
       "      <th>Freebase_character_ID</th>\n",
       "      <th>Freebase_actor_ID</th>\n",
       "      <th>experience</th>\n",
       "      <th>CF</th>\n",
       "      <th>inflation_revenue</th>\n",
       "    </tr>\n",
       "  </thead>\n",
       "  <tbody>\n",
       "    <tr>\n",
       "      <th>0</th>\n",
       "      <td>656608</td>\n",
       "      <td>/m/0306c6</td>\n",
       "      <td>What's Eating Gilbert Grape</td>\n",
       "      <td>1993.0</td>\n",
       "      <td>10032765.0</td>\n",
       "      <td>117.0</td>\n",
       "      <td>{\"/m/02h40lc\": \"English Language\"}</td>\n",
       "      <td>{\"/m/09c7w0\": \"United States of America\"}</td>\n",
       "      <td>{\"/m/0219x_\": \"Indie\", \"/m/0clz1b\": \"Slice of ...</td>\n",
       "      <td>Arnie Grape</td>\n",
       "      <td>...</td>\n",
       "      <td>1.83</td>\n",
       "      <td>/m/09kr66</td>\n",
       "      <td>Leonardo DiCaprio</td>\n",
       "      <td>NaN</td>\n",
       "      <td>/m/0k7_65</td>\n",
       "      <td>/m/02nwr_8</td>\n",
       "      <td>/m/0dvmd</td>\n",
       "      <td>1.0</td>\n",
       "      <td>0.60</td>\n",
       "      <td>1.672128e+07</td>\n",
       "    </tr>\n",
       "    <tr>\n",
       "      <th>1</th>\n",
       "      <td>6417754</td>\n",
       "      <td>/m/0g4lfl</td>\n",
       "      <td>This Boy's Life</td>\n",
       "      <td>1993.0</td>\n",
       "      <td>4104962.0</td>\n",
       "      <td>114.0</td>\n",
       "      <td>{\"/m/02h40lc\": \"English Language\"}</td>\n",
       "      <td>{\"/m/09c7w0\": \"United States of America\"}</td>\n",
       "      <td>{\"/m/02h8pkk\": \"Family Drama\", \"/m/04xvlr\": \"P...</td>\n",
       "      <td>Tobias \"Toby\" Wolff</td>\n",
       "      <td>...</td>\n",
       "      <td>1.83</td>\n",
       "      <td>/m/09kr66</td>\n",
       "      <td>Leonardo DiCaprio</td>\n",
       "      <td>18.0</td>\n",
       "      <td>/m/0k71hy</td>\n",
       "      <td>/m/04gdr_7</td>\n",
       "      <td>/m/0dvmd</td>\n",
       "      <td>2.0</td>\n",
       "      <td>0.60</td>\n",
       "      <td>6.841603e+06</td>\n",
       "    </tr>\n",
       "    <tr>\n",
       "      <th>2</th>\n",
       "      <td>740824</td>\n",
       "      <td>/m/037c_d</td>\n",
       "      <td>The Quick and the Dead</td>\n",
       "      <td>1995.0</td>\n",
       "      <td>18636537.0</td>\n",
       "      <td>105.0</td>\n",
       "      <td>{\"/m/02h40lc\": \"English Language\"}</td>\n",
       "      <td>{\"/m/09c7w0\": \"United States of America\", \"/m/...</td>\n",
       "      <td>{\"/m/01jfsb\": \"Thriller\", \"/m/0gw5n2f\": \"Japan...</td>\n",
       "      <td>Fee \"The Kid\" Herod</td>\n",
       "      <td>...</td>\n",
       "      <td>1.83</td>\n",
       "      <td>/m/09kr66</td>\n",
       "      <td>Leonardo DiCaprio</td>\n",
       "      <td>20.0</td>\n",
       "      <td>/m/02vby_g</td>\n",
       "      <td>/m/04gdr_y</td>\n",
       "      <td>/m/0dvmd</td>\n",
       "      <td>3.0</td>\n",
       "      <td>0.64</td>\n",
       "      <td>2.911959e+07</td>\n",
       "    </tr>\n",
       "  </tbody>\n",
       "</table>\n",
       "<p>3 rows × 22 columns</p>\n",
       "</div>"
      ],
      "text/plain": [
       "   Wikipedia_movie_ID Freebase_movie_ID                   Movie_name  \\\n",
       "0              656608         /m/0306c6  What's Eating Gilbert Grape   \n",
       "1             6417754         /m/0g4lfl              This Boy's Life   \n",
       "2              740824         /m/037c_d       The Quick and the Dead   \n",
       "\n",
       "   Movie_release_date  Movie_box_office_revenue  Movie_runtime  \\\n",
       "0              1993.0                10032765.0          117.0   \n",
       "1              1993.0                 4104962.0          114.0   \n",
       "2              1995.0                18636537.0          105.0   \n",
       "\n",
       "                      Movie_languages  \\\n",
       "0  {\"/m/02h40lc\": \"English Language\"}   \n",
       "1  {\"/m/02h40lc\": \"English Language\"}   \n",
       "2  {\"/m/02h40lc\": \"English Language\"}   \n",
       "\n",
       "                                     Movie_countries  \\\n",
       "0          {\"/m/09c7w0\": \"United States of America\"}   \n",
       "1          {\"/m/09c7w0\": \"United States of America\"}   \n",
       "2  {\"/m/09c7w0\": \"United States of America\", \"/m/...   \n",
       "\n",
       "                                        Movie_genres       Character_name  \\\n",
       "0  {\"/m/0219x_\": \"Indie\", \"/m/0clz1b\": \"Slice of ...          Arnie Grape   \n",
       "1  {\"/m/02h8pkk\": \"Family Drama\", \"/m/04xvlr\": \"P...  Tobias \"Toby\" Wolff   \n",
       "2  {\"/m/01jfsb\": \"Thriller\", \"/m/0gw5n2f\": \"Japan...  Fee \"The Kid\" Herod   \n",
       "\n",
       "   ... Actor_height Actor_ethnicity         Actor_name  \\\n",
       "0  ...         1.83       /m/09kr66  Leonardo DiCaprio   \n",
       "1  ...         1.83       /m/09kr66  Leonardo DiCaprio   \n",
       "2  ...         1.83       /m/09kr66  Leonardo DiCaprio   \n",
       "\n",
       "  Actor_age_at_movie_release Freebase_character/actor_map_ID  \\\n",
       "0                        NaN                       /m/0k7_65   \n",
       "1                       18.0                       /m/0k71hy   \n",
       "2                       20.0                      /m/02vby_g   \n",
       "\n",
       "   Freebase_character_ID Freebase_actor_ID experience    CF  inflation_revenue  \n",
       "0             /m/02nwr_8          /m/0dvmd        1.0  0.60       1.672128e+07  \n",
       "1             /m/04gdr_7          /m/0dvmd        2.0  0.60       6.841603e+06  \n",
       "2             /m/04gdr_y          /m/0dvmd        3.0  0.64       2.911959e+07  \n",
       "\n",
       "[3 rows x 22 columns]"
      ]
     },
     "execution_count": 37,
     "metadata": {},
     "output_type": "execute_result"
    }
   ],
   "source": [
    "nc.head(3)"
   ]
  },
  {
   "cell_type": "code",
   "execution_count": 38,
   "id": "ea9ac845-c71d-428b-80a7-c926900fa1d7",
   "metadata": {},
   "outputs": [
    {
     "data": {
      "image/png": "[encoded data removed]",
      "text/plain": [
       "<Figure size 640x480 with 1 Axes>"
      ]
     },
     "metadata": {},
     "output_type": "display_data"
    }
   ],
   "source": [
    "#compare the new revenues\n",
    "plt.plot(nc.Movie_release_date, nc.inflation_revenue/1e6, label='Inflation correction')\n",
    "plt.plot(nc.Movie_release_date, nc.Movie_box_office_revenue/1e6, label='Real revenue')\n",
    "plt.legend()\n",
    "plt.xlabel('Year')\n",
    "plt.ylabel('Boc office revenue [M$]')\n",
    "plt.show()"
   ]
  },
  {
   "cell_type": "code",
   "execution_count": 39,
   "id": "6cd2e526-8c55-4b83-9db9-ba6728d3ab51",
   "metadata": {},
   "outputs": [],
   "source": [
    "#run the least mean squares again\n",
    "nc_reg2 = nc.copy()\n",
    "#logarithmic scaling of continuous variables\n",
    "nc_reg2['inflation_revenue'] = np.log(nc_reg2['inflation_revenue'])\n",
    "#nc_reg2['Movie_runtime'] = np.log(nc_reg2['Movie_runtime'])\n",
    "#nc_reg2['Movie_release_date'] = np.log(nc_reg2['Movie_release_date'])\n",
    "#nc_reg2['experience'] = np.log(nc_reg2['experience'])"
   ]
  },
  {
   "cell_type": "code",
   "execution_count": 40,
   "id": "c9976348-2a99-4a6c-bed6-2a95a172d315",
   "metadata": {},
   "outputs": [
    {
     "name": "stdout",
     "output_type": "stream",
     "text": [
      "                            OLS Regression Results                            \n",
      "==============================================================================\n",
      "Dep. Variable:      inflation_revenue   R-squared:                       0.474\n",
      "Model:                            OLS   Adj. R-squared:                  0.412\n",
      "Method:                 Least Squares   F-statistic:                     7.645\n",
      "Date:                Thu, 10 Nov 2022   Prob (F-statistic):            0.00428\n",
      "Time:                        16:06:48   Log-Likelihood:                -33.991\n",
      "No. Observations:                  20   AIC:                             73.98\n",
      "Df Residuals:                      17   BIC:                             76.97\n",
      "Df Model:                           2                                         \n",
      "Covariance Type:            nonrobust                                         \n",
      "=================================================================================\n",
      "                    coef    std err          t      P>|t|      [0.025      0.975]\n",
      "---------------------------------------------------------------------------------\n",
      "Intercept        12.5397      1.973      6.357      0.000       8.378      16.702\n",
      "Movie_runtime     0.0316      0.016      1.919      0.072      -0.003       0.066\n",
      "experience        0.1482      0.060      2.481      0.024       0.022       0.274\n",
      "==============================================================================\n",
      "Omnibus:                        2.562   Durbin-Watson:                   1.936\n",
      "Prob(Omnibus):                  0.278   Jarque-Bera (JB):                1.474\n",
      "Skew:                          -0.663   Prob(JB):                        0.479\n",
      "Kurtosis:                       3.093   Cond. No.                         792.\n",
      "==============================================================================\n",
      "\n",
      "Notes:\n",
      "[1] Standard Errors assume that the covariance matrix of the errors is correctly specified.\n"
     ]
    }
   ],
   "source": [
    "mod = smf.ols(formula='inflation_revenue ~ Movie_runtime + experience', data=nc_reg2)\n",
    "\n",
    "res = mod.fit()\n",
    "print(res.summary())"
   ]
  },
  {
   "cell_type": "markdown",
   "id": "7b67cbf9-e0f0-45eb-982c-95780eb76e69",
   "metadata": {},
   "source": [
    "From the new results above, it is possible to confirm the statistical significance of the experience on the box office (**P < 5%**), even if its influence has decreased (**C=0.148**), due to inflation."
   ]
  },
  {
   "cell_type": "markdown",
   "id": "4a855ec5-ef67-4338-b0c1-f08acf358f31",
   "metadata": {},
   "source": [
    "We can go further in the analysis, by investigating the gender equality/inequality in the movies to see if they are related to revenue as well. The eventual goal would be to establish the benefit of choosing an actor over another one, and so a gender study is fundamental for this purpose."
   ]
  },
  {
   "cell_type": "markdown",
   "id": "9525fd8e-88b3-47d5-8476-72c3b0c7e1f5",
   "metadata": {},
   "source": [
    "To have some preliminary results on a single sample, the analysis will regard one of the previously studied Leonardo Di Caprio movies."
   ]
  },
  {
   "cell_type": "code",
   "execution_count": 59,
   "id": "8af6c69a-e396-441c-9269-a8af1043a243",
   "metadata": {},
   "outputs": [
    {
     "data": {
      "text/plain": [
       "Wikipedia_movie_ID                                                           5169996\n",
       "Freebase_movie_ID                                                          /m/0d61px\n",
       "Movie_name                                                  The Man in the Iron Mask\n",
       "Movie_release_date                                                            1998.0\n",
       "Movie_box_office_revenue                                                 182968902.0\n",
       "Movie_runtime                                                                  132.0\n",
       "Movie_languages                                   {\"/m/02h40lc\": \"English Language\"}\n",
       "Movie_countries                    {\"/m/09c7w0\": \"United States of America\", \"/m/...\n",
       "Movie_genres                       {\"/m/03btsm8\": \"Action/Adventure\", \"/m/07s9rl0...\n",
       "Character_name                                                              Philippe\n",
       "Actor_date_of_birth                                                       1974-11-11\n",
       "Actor_gender                                                                       M\n",
       "Actor_height                                                                    1.83\n",
       "Actor_ethnicity                                                            /m/09kr66\n",
       "Actor_name                                                         Leonardo DiCaprio\n",
       "Actor_age_at_movie_release                                                      23.0\n",
       "Freebase_character/actor_map_ID                                           /m/0gl0n3j\n",
       "Freebase_character_ID                                                     /m/0cgh8q6\n",
       "Freebase_actor_ID                                                           /m/0dvmd\n",
       "Name: 246888, dtype: object"
      ]
     },
     "execution_count": 59,
     "metadata": {},
     "output_type": "execute_result"
    }
   ],
   "source": [
    "ds.iloc[246888]"
   ]
  },
  {
   "cell_type": "code",
   "execution_count": 58,
   "id": "21589db3-cfcc-40ae-963b-60fe9e6865e6",
   "metadata": {},
   "outputs": [
    {
     "data": {
      "text/plain": [
       "Wikipedia_movie_ID                                                           5169996\n",
       "Freebase_movie_ID                                                          /m/0d61px\n",
       "Movie_name                                                  The Man in the Iron Mask\n",
       "Movie_release_date                                                            1998.0\n",
       "Movie_box_office_revenue                                                 182968902.0\n",
       "Movie_runtime                                                                  132.0\n",
       "Movie_languages                                   {\"/m/02h40lc\": \"English Language\"}\n",
       "Movie_countries                    {\"/m/09c7w0\": \"United States of America\", \"/m/...\n",
       "Movie_genres                       {\"/m/03btsm8\": \"Action/Adventure\", \"/m/07s9rl0...\n",
       "Character_name                                                        King Louis XIV\n",
       "Actor_date_of_birth                                                       1974-11-11\n",
       "Actor_gender                                                                       M\n",
       "Actor_height                                                                    1.83\n",
       "Actor_ethnicity                                                            /m/09kr66\n",
       "Actor_name                                                         Leonardo DiCaprio\n",
       "Actor_age_at_movie_release                                                      23.0\n",
       "Freebase_character/actor_map_ID                                           /m/02tb2dv\n",
       "Freebase_character_ID                                                     /m/0cgh6c3\n",
       "Freebase_actor_ID                                                           /m/0dvmd\n",
       "Name: 246887, dtype: object"
      ]
     },
     "execution_count": 58,
     "metadata": {},
     "output_type": "execute_result"
    }
   ],
   "source": [
    "ds.iloc[246887]"
   ]
  },
  {
   "cell_type": "code",
   "execution_count": 62,
   "id": "d356f96e-ff1c-4219-85da-87cf581b2b0e",
   "metadata": {},
   "outputs": [],
   "source": [
    "nc_movies = [ds_filt['Movie_name'][ds_filt['Actor_name'] == 'Leonardo DiCaprio']]"
   ]
  },
  {
   "cell_type": "code",
   "execution_count": 79,
   "id": "96c4881e-f174-4f89-be07-d90b4156508c",
   "metadata": {},
   "outputs": [
    {
     "data": {
      "text/plain": [
       "[215642    What's Eating Gilbert Grape\n",
       " 216960                This Boy's Life\n",
       " 226571         The Quick and the Dead\n",
       " 227129                  Total Eclipse\n",
       " 227807         The Basketball Diaries\n",
       " 234889                 Romeo + Juliet\n",
       " 237281                  Marvin's Room\n",
       " 244031                        Titanic\n",
       " 246887       The Man in the Iron Mask\n",
       " 246888       The Man in the Iron Mask\n",
       " 247246                      Celebrity\n",
       " 289640            Catch Me If You Can\n",
       " 295084              Gangs of New York\n",
       " 319253                    The Aviator\n",
       " 335948                  Blood Diamond\n",
       " 348740                   The Departed\n",
       " 373286             Revolutionary Road\n",
       " 377229                   Body of Lies\n",
       " 393376                        G-Force\n",
       " 409012                      Inception\n",
       " 412706                 Shutter Island\n",
       " 423176                       J. Edgar\n",
       " Name: Movie_name, dtype: object]"
      ]
     },
     "execution_count": 79,
     "metadata": {},
     "output_type": "execute_result"
    }
   ],
   "source": [
    "nc_movies"
   ]
  },
  {
   "cell_type": "code",
   "execution_count": null,
   "id": "6d82449a-f364-4e47-ace0-df4799b12ee6",
   "metadata": {},
   "outputs": [],
   "source": [
    "n.groupby('date_transformed').apply(lambda x: pd.Series({'ctr1': x['ctr1'].values })) "
   ]
  },
  {
   "cell_type": "code",
   "execution_count": 83,
   "id": "655178b5-0569-4827-8edb-64fa747e0b79",
   "metadata": {},
   "outputs": [
    {
     "data": {
      "text/plain": [
       "247238      Kenneth Branagh\n",
       "247239       Adrian Grenier\n",
       "247240      Charlize Theron\n",
       "247241        Aida Turturro\n",
       "247242         Celia Weston\n",
       "247243       Allison Janney\n",
       "247244          Hank Azaria\n",
       "247245      Ian Somerhalder\n",
       "247246    Leonardo DiCaprio\n",
       "247247        Bebe Neuwirth\n",
       "247248        Famke Janssen\n",
       "247249         Joe Mantegna\n",
       "247250       Michael Lerner\n",
       "247251        Isaac Mizrahi\n",
       "247252           Judy Davis\n",
       "247253         Gretchen Mol\n",
       "247254         Sam Rockwell\n",
       "247255        J. K. Simmons\n",
       "247256           Erica Jong\n",
       "247257         Winona Ryder\n",
       "247258     Melanie Griffith\n",
       "247259          Kate Burton\n",
       "Name: Actor_name, dtype: object"
      ]
     },
     "execution_count": 83,
     "metadata": {},
     "output_type": "execute_result"
    }
   ],
   "source": [
    "for i in nc_movies:\n",
    "    np.concatenate(ds_filt.groupby('Movie_name').get_group(i)['Actor_name'])"
   ]
  },
  {
   "cell_type": "code",
   "execution_count": null,
   "id": "f41abbb4-bd35-4bb0-9e58-a10a1f3f4a83",
   "metadata": {},
   "outputs": [],
   "source": [
    "ds_filt.groupby('Movie_name').filter(lambda g: g['Actor_name'] == 'Leonardo Di Caprio')"
   ]
  },
  {
   "cell_type": "code",
   "execution_count": null,
   "id": "1ba38d28-1d70-4a4d-800a-6dab4b98f4cd",
   "metadata": {},
   "outputs": [],
   "source": [
    "ds_filt"
   ]
  },
  {
   "cell_type": "code",
   "execution_count": null,
   "id": "294a33f9-c6b8-4da1-a8ba-c0b6800db962",
   "metadata": {},
   "outputs": [],
   "source": []
  },
  {
   "cell_type": "code",
   "execution_count": null,
   "id": "b07f4555-16c6-41e8-8298-863d35422c85",
   "metadata": {},
   "outputs": [],
   "source": []
  },
  {
   "cell_type": "code",
   "execution_count": null,
   "id": "9810965f-02e1-45da-b236-bc598e351848",
   "metadata": {},
   "outputs": [],
   "source": []
  },
  {
   "cell_type": "code",
   "execution_count": null,
   "id": "50b196d1-cf86-451c-81da-bd63c186ec67",
   "metadata": {},
   "outputs": [],
   "source": []
  },
  {
   "cell_type": "code",
   "execution_count": null,
   "id": "0af17722-70a6-4b91-b9a9-18839705f600",
   "metadata": {},
   "outputs": [],
   "source": []
  },
  {
   "cell_type": "code",
   "execution_count": null,
   "id": "11f22a9e-7a0e-4c37-adb2-738e6103d86d",
   "metadata": {},
   "outputs": [],
   "source": []
  },
  {
   "cell_type": "code",
   "execution_count": null,
   "id": "72eaeb8a-c317-4160-a756-b0e75bf611d8",
   "metadata": {},
   "outputs": [],
   "source": []
  },
  {
   "cell_type": "code",
   "execution_count": null,
   "id": "154d62a3-8d04-4a31-af4f-a91ef756d4b2",
   "metadata": {},
   "outputs": [],
   "source": []
  },
  {
   "cell_type": "code",
   "execution_count": null,
   "id": "6745813b-403c-4a06-9448-eb322ab04dc8",
   "metadata": {},
   "outputs": [],
   "source": []
  },
  {
   "cell_type": "code",
   "execution_count": null,
   "id": "9962a0b7-1d19-4161-8af9-24b42701cde8",
   "metadata": {},
   "outputs": [],
   "source": [
    "dt = pd.DataFrame(ds.groupby('Movie_name')['Actor_name'].count())"
   ]
  },
  {
   "cell_type": "code",
   "execution_count": null,
   "id": "52f0d18b-ae35-4ecb-a5fe-8b5408c2f6cf",
   "metadata": {},
   "outputs": [],
   "source": [
    "dt.head(50)"
   ]
  },
  {
   "cell_type": "code",
   "execution_count": null,
   "id": "f209cbbf-7771-4f76-9d31-07a15465f13b",
   "metadata": {},
   "outputs": [],
   "source": []
  }
 ],
 "metadata": {
  "kernelspec": {
   "display_name": "Python 3 (ipykernel)",
   "language": "python",
   "name": "python3"
  },
  "language_info": {
   "codemirror_mode": {
    "name": "ipython",
    "version": 3
   },
   "file_extension": ".py",
   "mimetype": "text/x-python",
   "name": "python",
   "nbconvert_exporter": "python",
   "pygments_lexer": "ipython3",
   "version": "3.8.13"
  },
  "vscode": {
   "interpreter": {
    "hash": "31f2aee4e71d21fbe5cf8b01ff0e069b9275f58929596ceb00d14d90e3e16cd6"
   }
  }
 },
 "nbformat": 4,
 "nbformat_minor": 5
}
