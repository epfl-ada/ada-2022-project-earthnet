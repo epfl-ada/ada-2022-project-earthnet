{
 "cells": [
  {
   "cell_type": "markdown",
   "id": "f1df1fb8-ace6-4cc4-8577-5386fcab6f03",
   "metadata": {},
   "source": [
    "# Observational study"
   ]
  },
  {
   "cell_type": "markdown",
   "id": "a71cd0b4-738a-4799-afcb-8c36b2c857e0",
   "metadata": {},
   "source": [
    "The goal of the present project is to define a valid metric to evaluate the impact of actors on movies. Specifically, distilling actors careers to a single number, the *star score*. Identifying the latter implies the need to identify truly successful actors, namely actors that had the highest positive impact on movies, in terms of revenues and ratings. Given the presence of multiple confounders, such as the affinity of actors with particulare genres or gender disparities, an observational study is carried out to limit the influence of unobserved covariates."
   ]
  },
  {
   "cell_type": "code",
   "execution_count": 1,
   "id": "10b8e2d0-eb55-4467-b318-0b10732a10eb",
   "metadata": {},
   "outputs": [],
   "source": [
    "import pandas as pd\n",
    "import numpy as np\n",
    "import matplotlib.pyplot as plt\n",
    "import matplotlib.patheffects as pe\n",
    "%matplotlib inline\n",
    "\n",
    "import datetime as dt\n",
    "import networkx as nx\n",
    "import seaborn as sns\n",
    "from scipy import stats\n",
    "import statsmodels.api as sm\n",
    "from statsmodels.stats.weightstats import ztest\n",
    "import re\n",
    "import warnings\n",
    "warnings.filterwarnings('ignore')"
   ]
  },
  {
   "cell_type": "code",
   "execution_count": 249,
   "id": "696797e7-4041-4043-8b5d-63cc4bd66a08",
   "metadata": {},
   "outputs": [],
   "source": [
    "#importing our clean data\n",
    "data = pd.read_csv('../data/data.csv', index_col = 0)\n",
    "data_profit = pd.read_csv('../data/profit_data.csv', index_col = 0)\n",
    "actors = pd.read_csv('../data/actorMetrics.csv', index_col = 0)\n",
    "imdb = pd.read_csv('../data/imdb_budgets.csv', index_col = 0)\n",
    "ss = pd.read_csv('obs.csv', index_col = 0)"
   ]
  },
  {
   "cell_type": "code",
   "execution_count": 115,
   "id": "78141b1e-6588-4b31-9f73-d40b99239d54",
   "metadata": {},
   "outputs": [],
   "source": [
    "df = pd.read_csv('../data/imdb_no_nan.csv',)\n",
    "df_y = ak = pd.read_csv('../data/name.basics.tsv.gz',compression='infer',sep='\\t')\n",
    "#ak = pd.read_csv('../data/title.akas.tsv.gz',compression='infer',sep='\\t')"
   ]
  },
  {
   "cell_type": "code",
   "execution_count": 116,
   "id": "eb9be935-74bd-41ef-9d01-f42b67202cd0",
   "metadata": {},
   "outputs": [],
   "source": [
    "df_y = df_y.replace(r'\\N', np.nan)"
   ]
  },
  {
   "cell_type": "code",
   "execution_count": 124,
   "id": "12245693-26f6-4f21-a118-bc4772837af1",
   "metadata": {},
   "outputs": [],
   "source": [
    "df_y.dropna(subset=['birthYear'],inplace=True)"
   ]
  },
  {
   "cell_type": "code",
   "execution_count": 125,
   "id": "0f24a77b-337f-4569-a6d5-0aca2ca9143e",
   "metadata": {},
   "outputs": [
    {
     "data": {
      "text/html": [
       "<div>\n",
       "<style scoped>\n",
       "    .dataframe tbody tr th:only-of-type {\n",
       "        vertical-align: middle;\n",
       "    }\n",
       "\n",
       "    .dataframe tbody tr th {\n",
       "        vertical-align: top;\n",
       "    }\n",
       "\n",
       "    .dataframe thead th {\n",
       "        text-align: right;\n",
       "    }\n",
       "</style>\n",
       "<table border=\"1\" class=\"dataframe\">\n",
       "  <thead>\n",
       "    <tr style=\"text-align: right;\">\n",
       "      <th></th>\n",
       "      <th>nconst</th>\n",
       "      <th>primaryName</th>\n",
       "      <th>birthYear</th>\n",
       "      <th>deathYear</th>\n",
       "      <th>primaryProfession</th>\n",
       "      <th>knownForTitles</th>\n",
       "    </tr>\n",
       "  </thead>\n",
       "  <tbody>\n",
       "    <tr>\n",
       "      <th>0</th>\n",
       "      <td>nm0000001</td>\n",
       "      <td>Fred Astaire</td>\n",
       "      <td>1899</td>\n",
       "      <td>1987</td>\n",
       "      <td>soundtrack,actor,miscellaneous</td>\n",
       "      <td>tt0072308,tt0053137,tt0045537,tt0050419</td>\n",
       "    </tr>\n",
       "    <tr>\n",
       "      <th>1</th>\n",
       "      <td>nm0000002</td>\n",
       "      <td>Lauren Bacall</td>\n",
       "      <td>1924</td>\n",
       "      <td>2014</td>\n",
       "      <td>actress,soundtrack</td>\n",
       "      <td>tt0117057,tt0038355,tt0071877,tt0037382</td>\n",
       "    </tr>\n",
       "    <tr>\n",
       "      <th>2</th>\n",
       "      <td>nm0000003</td>\n",
       "      <td>Brigitte Bardot</td>\n",
       "      <td>1934</td>\n",
       "      <td>NaN</td>\n",
       "      <td>actress,soundtrack,music_department</td>\n",
       "      <td>tt0049189,tt0056404,tt0054452,tt0057345</td>\n",
       "    </tr>\n",
       "    <tr>\n",
       "      <th>3</th>\n",
       "      <td>nm0000004</td>\n",
       "      <td>John Belushi</td>\n",
       "      <td>1949</td>\n",
       "      <td>1982</td>\n",
       "      <td>actor,soundtrack,writer</td>\n",
       "      <td>tt0077975,tt0078723,tt0080455,tt0072562</td>\n",
       "    </tr>\n",
       "    <tr>\n",
       "      <th>4</th>\n",
       "      <td>nm0000005</td>\n",
       "      <td>Ingmar Bergman</td>\n",
       "      <td>1918</td>\n",
       "      <td>2007</td>\n",
       "      <td>writer,director,actor</td>\n",
       "      <td>tt0083922,tt0050976,tt0050986,tt0060827</td>\n",
       "    </tr>\n",
       "    <tr>\n",
       "      <th>...</th>\n",
       "      <td>...</td>\n",
       "      <td>...</td>\n",
       "      <td>...</td>\n",
       "      <td>...</td>\n",
       "      <td>...</td>\n",
       "      <td>...</td>\n",
       "    </tr>\n",
       "    <tr>\n",
       "      <th>12150703</th>\n",
       "      <td>nm9993436</td>\n",
       "      <td>Frank J. Gaily</td>\n",
       "      <td>1915</td>\n",
       "      <td>2008</td>\n",
       "      <td>sound_department</td>\n",
       "      <td>tt0189339</td>\n",
       "    </tr>\n",
       "    <tr>\n",
       "      <th>12150785</th>\n",
       "      <td>nm9993526</td>\n",
       "      <td>Ben Ray Lujan</td>\n",
       "      <td>1972</td>\n",
       "      <td>NaN</td>\n",
       "      <td>NaN</td>\n",
       "      <td>tt15385660,tt4209386,tt7516996,tt0476038</td>\n",
       "    </tr>\n",
       "    <tr>\n",
       "      <th>12150793</th>\n",
       "      <td>nm9993535</td>\n",
       "      <td>Henry Lawfull</td>\n",
       "      <td>2006</td>\n",
       "      <td>NaN</td>\n",
       "      <td>actor</td>\n",
       "      <td>tt5900600,tt10187208</td>\n",
       "    </tr>\n",
       "    <tr>\n",
       "      <th>12150914</th>\n",
       "      <td>nm9993675</td>\n",
       "      <td>Ebrahim Alkazi</td>\n",
       "      <td>1925</td>\n",
       "      <td>2020</td>\n",
       "      <td>NaN</td>\n",
       "      <td>NaN</td>\n",
       "    </tr>\n",
       "    <tr>\n",
       "      <th>12150931</th>\n",
       "      <td>nm9993693</td>\n",
       "      <td>Apsara Rani</td>\n",
       "      <td>1996</td>\n",
       "      <td>NaN</td>\n",
       "      <td>actress</td>\n",
       "      <td>tt13847502,tt8302382,tt8737752,tt12856788</td>\n",
       "    </tr>\n",
       "  </tbody>\n",
       "</table>\n",
       "<p>567626 rows × 6 columns</p>\n",
       "</div>"
      ],
      "text/plain": [
       "             nconst      primaryName birthYear deathYear  \\\n",
       "0         nm0000001     Fred Astaire      1899      1987   \n",
       "1         nm0000002    Lauren Bacall      1924      2014   \n",
       "2         nm0000003  Brigitte Bardot      1934       NaN   \n",
       "3         nm0000004     John Belushi      1949      1982   \n",
       "4         nm0000005   Ingmar Bergman      1918      2007   \n",
       "...             ...              ...       ...       ...   \n",
       "12150703  nm9993436   Frank J. Gaily      1915      2008   \n",
       "12150785  nm9993526    Ben Ray Lujan      1972       NaN   \n",
       "12150793  nm9993535    Henry Lawfull      2006       NaN   \n",
       "12150914  nm9993675   Ebrahim Alkazi      1925      2020   \n",
       "12150931  nm9993693      Apsara Rani      1996       NaN   \n",
       "\n",
       "                            primaryProfession  \\\n",
       "0              soundtrack,actor,miscellaneous   \n",
       "1                          actress,soundtrack   \n",
       "2         actress,soundtrack,music_department   \n",
       "3                     actor,soundtrack,writer   \n",
       "4                       writer,director,actor   \n",
       "...                                       ...   \n",
       "12150703                     sound_department   \n",
       "12150785                                  NaN   \n",
       "12150793                                actor   \n",
       "12150914                                  NaN   \n",
       "12150931                              actress   \n",
       "\n",
       "                                     knownForTitles  \n",
       "0           tt0072308,tt0053137,tt0045537,tt0050419  \n",
       "1           tt0117057,tt0038355,tt0071877,tt0037382  \n",
       "2           tt0049189,tt0056404,tt0054452,tt0057345  \n",
       "3           tt0077975,tt0078723,tt0080455,tt0072562  \n",
       "4           tt0083922,tt0050976,tt0050986,tt0060827  \n",
       "...                                             ...  \n",
       "12150703                                  tt0189339  \n",
       "12150785   tt15385660,tt4209386,tt7516996,tt0476038  \n",
       "12150793                       tt5900600,tt10187208  \n",
       "12150914                                        NaN  \n",
       "12150931  tt13847502,tt8302382,tt8737752,tt12856788  \n",
       "\n",
       "[567626 rows x 6 columns]"
      ]
     },
     "execution_count": 125,
     "metadata": {},
     "output_type": "execute_result"
    }
   ],
   "source": [
    "df_y"
   ]
  },
  {
   "cell_type": "code",
   "execution_count": 120,
   "id": "3a1a887e-ccb0-4130-b718-76a10e3bf5c1",
   "metadata": {},
   "outputs": [
    {
     "data": {
      "text/plain": [
       "12150956"
      ]
     },
     "execution_count": 120,
     "metadata": {},
     "output_type": "execute_result"
    }
   ],
   "source": [
    "len(df_y)"
   ]
  },
  {
   "cell_type": "code",
   "execution_count": 28,
   "id": "ec098954-bf17-4809-a0d0-e36a14cff828",
   "metadata": {},
   "outputs": [],
   "source": [
    "ak_regions = ak.groupby('region')[['title']].count().reset_index().sort_values(by=['title'],ascending=False)"
   ]
  },
  {
   "cell_type": "code",
   "execution_count": 29,
   "id": "81456da4-f409-4b12-9d24-3c5553c5e01b",
   "metadata": {},
   "outputs": [
    {
     "data": {
      "text/html": [
       "<div>\n",
       "<style scoped>\n",
       "    .dataframe tbody tr th:only-of-type {\n",
       "        vertical-align: middle;\n",
       "    }\n",
       "\n",
       "    .dataframe tbody tr th {\n",
       "        vertical-align: top;\n",
       "    }\n",
       "\n",
       "    .dataframe thead th {\n",
       "        text-align: right;\n",
       "    }\n",
       "</style>\n",
       "<table border=\"1\" class=\"dataframe\">\n",
       "  <thead>\n",
       "    <tr style=\"text-align: right;\">\n",
       "      <th></th>\n",
       "      <th>region</th>\n",
       "      <th>title</th>\n",
       "    </tr>\n",
       "  </thead>\n",
       "  <tbody>\n",
       "    <tr>\n",
       "      <th>104</th>\n",
       "      <td>IT</td>\n",
       "      <td>3979858</td>\n",
       "    </tr>\n",
       "  </tbody>\n",
       "</table>\n",
       "</div>"
      ],
      "text/plain": [
       "    region    title\n",
       "104     IT  3979858"
      ]
     },
     "execution_count": 29,
     "metadata": {},
     "output_type": "execute_result"
    }
   ],
   "source": [
    "ak_regions = ak.groupby('region')[['title']].count().reset_index().sort_values(by=['title'],ascending=False)\n",
    "ak_regions[ak_regions['region'] == 'IT']"
   ]
  },
  {
   "cell_type": "code",
   "execution_count": 30,
   "id": "d4797fd4-1e24-4d28-b3ee-3b362b67798e",
   "metadata": {},
   "outputs": [],
   "source": [
    "imdb_g = df.merge(ak, 'inner', left_on='tconst', right_on='titleId')\n",
    "imdb_g.drop(['title'],axis=1,inplace=True)\n",
    "imdb_regions = imdb_g.groupby('region')[['primaryTitle']].count().reset_index().sort_values(by=['primaryTitle'],ascending=False)"
   ]
  },
  {
   "cell_type": "code",
   "execution_count": 31,
   "id": "d2842495-c2fb-45f4-9a53-996609f70069",
   "metadata": {},
   "outputs": [],
   "source": [
    "kaggle = pd.read_csv('../data/kaggle_movies_metadata.csv')"
   ]
  },
  {
   "cell_type": "code",
   "execution_count": 32,
   "id": "fbf5ffb6-95b4-4daa-91d8-be9149c190a8",
   "metadata": {},
   "outputs": [
    {
     "data": {
      "text/plain": [
       "45466"
      ]
     },
     "execution_count": 32,
     "metadata": {},
     "output_type": "execute_result"
    }
   ],
   "source": [
    "len(kaggle)"
   ]
  },
  {
   "cell_type": "code",
   "execution_count": 50,
   "id": "1bb5a6a3-a918-429a-a496-1da9b282f1b6",
   "metadata": {},
   "outputs": [],
   "source": [
    "imdb_kaggle = imdb_g.merge(kaggle, 'inner', left_on='tconst', right_on='imdb_id')"
   ]
  },
  {
   "cell_type": "code",
   "execution_count": 51,
   "id": "8aa04bb2-858d-4e6a-8e4f-8b165bb219a4",
   "metadata": {},
   "outputs": [
    {
     "data": {
      "text/plain": [
       "48"
      ]
     },
     "execution_count": 51,
     "metadata": {},
     "output_type": "execute_result"
    }
   ],
   "source": [
    "pd.isnull(imdb_kaggle['revenue']).sum()"
   ]
  },
  {
   "cell_type": "code",
   "execution_count": 52,
   "id": "6b0b17c5-2bd5-44b6-bd09-8022a906ce70",
   "metadata": {},
   "outputs": [],
   "source": [
    "imdb_kaggle.dropna(subset=['revenue'],inplace=True)"
   ]
  },
  {
   "cell_type": "code",
   "execution_count": 53,
   "id": "0adc1878-f97c-47aa-9f06-2b9e0ea5df68",
   "metadata": {},
   "outputs": [],
   "source": [
    "imdb_kaggle = imdb_kaggle[imdb_kaggle['revenue'] != 0]"
   ]
  },
  {
   "cell_type": "code",
   "execution_count": 54,
   "id": "eb9b5f84-afe9-4961-97ea-6b045d2a8381",
   "metadata": {},
   "outputs": [
    {
     "data": {
      "text/plain": [
       "982023"
      ]
     },
     "execution_count": 54,
     "metadata": {},
     "output_type": "execute_result"
    }
   ],
   "source": [
    "len(imdb_kaggle)"
   ]
  },
  {
   "cell_type": "code",
   "execution_count": 62,
   "id": "cab7b1cf-d080-48e1-81cd-6fdd1ac48ad9",
   "metadata": {},
   "outputs": [],
   "source": [
    "imdb_kaggle.drop(columns=['video','tagline','status','poster_path','production_companies','production_countries','original_title',\n",
    "                          'popularity','imdb_id','overview','primaryTitle','homepage','titleId','ordering','id','original_language',\n",
    "                          'belongs_to_collection','adult','isOriginalTitle','attributes','types','genres_y','language',\n",
    "                          'vote_count','vote_average','spoken_languages'],inplace=True)"
   ]
  },
  {
   "cell_type": "code",
   "execution_count": 64,
   "id": "e7c43661-9bc1-419c-9907-d2406d0e2f5c",
   "metadata": {},
   "outputs": [
    {
     "data": {
      "text/plain": [
       "41342"
      ]
     },
     "execution_count": 64,
     "metadata": {},
     "output_type": "execute_result"
    }
   ],
   "source": [
    "us = imdb_kaggle[imdb_kaggle['region'] == 'US']\n",
    "len(us)"
   ]
  },
  {
   "cell_type": "code",
   "execution_count": 129,
   "id": "4ca323b2-443f-4f5b-bd90-d3170a57644d",
   "metadata": {},
   "outputs": [],
   "source": [
    "imdb_y = df_y.merge(imdb_g, 'inner', left_on='primaryName', right_on='ActorName')"
   ]
  },
  {
   "cell_type": "code",
   "execution_count": 131,
   "id": "2f5132a3-5ef9-4bc5-a77c-bc2d4d96fdc1",
   "metadata": {},
   "outputs": [
    {
     "data": {
      "text/html": [
       "<div>\n",
       "<style scoped>\n",
       "    .dataframe tbody tr th:only-of-type {\n",
       "        vertical-align: middle;\n",
       "    }\n",
       "\n",
       "    .dataframe tbody tr th {\n",
       "        vertical-align: top;\n",
       "    }\n",
       "\n",
       "    .dataframe thead th {\n",
       "        text-align: right;\n",
       "    }\n",
       "</style>\n",
       "<table border=\"1\" class=\"dataframe\">\n",
       "  <thead>\n",
       "    <tr style=\"text-align: right;\">\n",
       "      <th></th>\n",
       "      <th>nconst</th>\n",
       "      <th>primaryName</th>\n",
       "      <th>birthYear</th>\n",
       "      <th>deathYear</th>\n",
       "      <th>primaryProfession</th>\n",
       "      <th>knownForTitles</th>\n",
       "      <th>Unnamed: 0</th>\n",
       "      <th>tconst</th>\n",
       "      <th>primaryTitle</th>\n",
       "      <th>startYear</th>\n",
       "      <th>...</th>\n",
       "      <th>Director</th>\n",
       "      <th>category</th>\n",
       "      <th>ActorName</th>\n",
       "      <th>titleId</th>\n",
       "      <th>ordering</th>\n",
       "      <th>region</th>\n",
       "      <th>language</th>\n",
       "      <th>types</th>\n",
       "      <th>attributes</th>\n",
       "      <th>isOriginalTitle</th>\n",
       "    </tr>\n",
       "  </thead>\n",
       "  <tbody>\n",
       "    <tr>\n",
       "      <th>0</th>\n",
       "      <td>nm0000001</td>\n",
       "      <td>Fred Astaire</td>\n",
       "      <td>1899</td>\n",
       "      <td>1987</td>\n",
       "      <td>soundtrack,actor,miscellaneous</td>\n",
       "      <td>tt0072308,tt0053137,tt0045537,tt0050419</td>\n",
       "      <td>26987</td>\n",
       "      <td>tt0025164</td>\n",
       "      <td>The Gay Divorcee</td>\n",
       "      <td>1934</td>\n",
       "      <td>...</td>\n",
       "      <td>Mark Sandrich</td>\n",
       "      <td>actor</td>\n",
       "      <td>Fred Astaire</td>\n",
       "      <td>tt0025164</td>\n",
       "      <td>10</td>\n",
       "      <td>GB</td>\n",
       "      <td>\\N</td>\n",
       "      <td>imdbDisplay</td>\n",
       "      <td>\\N</td>\n",
       "      <td>0</td>\n",
       "    </tr>\n",
       "    <tr>\n",
       "      <th>1</th>\n",
       "      <td>nm0000001</td>\n",
       "      <td>Fred Astaire</td>\n",
       "      <td>1899</td>\n",
       "      <td>1987</td>\n",
       "      <td>soundtrack,actor,miscellaneous</td>\n",
       "      <td>tt0072308,tt0053137,tt0045537,tt0050419</td>\n",
       "      <td>26987</td>\n",
       "      <td>tt0025164</td>\n",
       "      <td>The Gay Divorcee</td>\n",
       "      <td>1934</td>\n",
       "      <td>...</td>\n",
       "      <td>Mark Sandrich</td>\n",
       "      <td>actor</td>\n",
       "      <td>Fred Astaire</td>\n",
       "      <td>tt0025164</td>\n",
       "      <td>11</td>\n",
       "      <td>SUHH</td>\n",
       "      <td>ru</td>\n",
       "      <td>imdbDisplay</td>\n",
       "      <td>\\N</td>\n",
       "      <td>0</td>\n",
       "    </tr>\n",
       "    <tr>\n",
       "      <th>2</th>\n",
       "      <td>nm0000001</td>\n",
       "      <td>Fred Astaire</td>\n",
       "      <td>1899</td>\n",
       "      <td>1987</td>\n",
       "      <td>soundtrack,actor,miscellaneous</td>\n",
       "      <td>tt0072308,tt0053137,tt0045537,tt0050419</td>\n",
       "      <td>26987</td>\n",
       "      <td>tt0025164</td>\n",
       "      <td>The Gay Divorcee</td>\n",
       "      <td>1934</td>\n",
       "      <td>...</td>\n",
       "      <td>Mark Sandrich</td>\n",
       "      <td>actor</td>\n",
       "      <td>Fred Astaire</td>\n",
       "      <td>tt0025164</td>\n",
       "      <td>12</td>\n",
       "      <td>GB</td>\n",
       "      <td>\\N</td>\n",
       "      <td>alternative</td>\n",
       "      <td>\\N</td>\n",
       "      <td>0</td>\n",
       "    </tr>\n",
       "    <tr>\n",
       "      <th>3</th>\n",
       "      <td>nm0000001</td>\n",
       "      <td>Fred Astaire</td>\n",
       "      <td>1899</td>\n",
       "      <td>1987</td>\n",
       "      <td>soundtrack,actor,miscellaneous</td>\n",
       "      <td>tt0072308,tt0053137,tt0045537,tt0050419</td>\n",
       "      <td>26987</td>\n",
       "      <td>tt0025164</td>\n",
       "      <td>The Gay Divorcee</td>\n",
       "      <td>1934</td>\n",
       "      <td>...</td>\n",
       "      <td>Mark Sandrich</td>\n",
       "      <td>actor</td>\n",
       "      <td>Fred Astaire</td>\n",
       "      <td>tt0025164</td>\n",
       "      <td>13</td>\n",
       "      <td>FR</td>\n",
       "      <td>\\N</td>\n",
       "      <td>\\N</td>\n",
       "      <td>\\N</td>\n",
       "      <td>0</td>\n",
       "    </tr>\n",
       "    <tr>\n",
       "      <th>4</th>\n",
       "      <td>nm0000001</td>\n",
       "      <td>Fred Astaire</td>\n",
       "      <td>1899</td>\n",
       "      <td>1987</td>\n",
       "      <td>soundtrack,actor,miscellaneous</td>\n",
       "      <td>tt0072308,tt0053137,tt0045537,tt0050419</td>\n",
       "      <td>26987</td>\n",
       "      <td>tt0025164</td>\n",
       "      <td>The Gay Divorcee</td>\n",
       "      <td>1934</td>\n",
       "      <td>...</td>\n",
       "      <td>Mark Sandrich</td>\n",
       "      <td>actor</td>\n",
       "      <td>Fred Astaire</td>\n",
       "      <td>tt0025164</td>\n",
       "      <td>14</td>\n",
       "      <td>PT</td>\n",
       "      <td>\\N</td>\n",
       "      <td>imdbDisplay</td>\n",
       "      <td>\\N</td>\n",
       "      <td>0</td>\n",
       "    </tr>\n",
       "    <tr>\n",
       "      <th>...</th>\n",
       "      <td>...</td>\n",
       "      <td>...</td>\n",
       "      <td>...</td>\n",
       "      <td>...</td>\n",
       "      <td>...</td>\n",
       "      <td>...</td>\n",
       "      <td>...</td>\n",
       "      <td>...</td>\n",
       "      <td>...</td>\n",
       "      <td>...</td>\n",
       "      <td>...</td>\n",
       "      <td>...</td>\n",
       "      <td>...</td>\n",
       "      <td>...</td>\n",
       "      <td>...</td>\n",
       "      <td>...</td>\n",
       "      <td>...</td>\n",
       "      <td>...</td>\n",
       "      <td>...</td>\n",
       "      <td>...</td>\n",
       "      <td>...</td>\n",
       "    </tr>\n",
       "    <tr>\n",
       "      <th>6266183</th>\n",
       "      <td>nm9993693</td>\n",
       "      <td>Apsara Rani</td>\n",
       "      <td>1996</td>\n",
       "      <td>NaN</td>\n",
       "      <td>actress</td>\n",
       "      <td>tt13847502,tt8302382,tt8737752,tt12856788</td>\n",
       "      <td>621713</td>\n",
       "      <td>tt12856788</td>\n",
       "      <td>Dangerous</td>\n",
       "      <td>2021</td>\n",
       "      <td>...</td>\n",
       "      <td>Ram Gopal Varma</td>\n",
       "      <td>actress</td>\n",
       "      <td>Apsara Rani</td>\n",
       "      <td>tt12856788</td>\n",
       "      <td>5</td>\n",
       "      <td>AE</td>\n",
       "      <td>\\N</td>\n",
       "      <td>imdbDisplay</td>\n",
       "      <td>\\N</td>\n",
       "      <td>0</td>\n",
       "    </tr>\n",
       "    <tr>\n",
       "      <th>6266184</th>\n",
       "      <td>nm9993693</td>\n",
       "      <td>Apsara Rani</td>\n",
       "      <td>1996</td>\n",
       "      <td>NaN</td>\n",
       "      <td>actress</td>\n",
       "      <td>tt13847502,tt8302382,tt8737752,tt12856788</td>\n",
       "      <td>621713</td>\n",
       "      <td>tt12856788</td>\n",
       "      <td>Dangerous</td>\n",
       "      <td>2021</td>\n",
       "      <td>...</td>\n",
       "      <td>Ram Gopal Varma</td>\n",
       "      <td>actress</td>\n",
       "      <td>Apsara Rani</td>\n",
       "      <td>tt12856788</td>\n",
       "      <td>6</td>\n",
       "      <td>IN</td>\n",
       "      <td>hi</td>\n",
       "      <td>imdbDisplay</td>\n",
       "      <td>\\N</td>\n",
       "      <td>0</td>\n",
       "    </tr>\n",
       "    <tr>\n",
       "      <th>6266185</th>\n",
       "      <td>nm9993693</td>\n",
       "      <td>Apsara Rani</td>\n",
       "      <td>1996</td>\n",
       "      <td>NaN</td>\n",
       "      <td>actress</td>\n",
       "      <td>tt13847502,tt8302382,tt8737752,tt12856788</td>\n",
       "      <td>621713</td>\n",
       "      <td>tt12856788</td>\n",
       "      <td>Dangerous</td>\n",
       "      <td>2021</td>\n",
       "      <td>...</td>\n",
       "      <td>Ram Gopal Varma</td>\n",
       "      <td>actress</td>\n",
       "      <td>Apsara Rani</td>\n",
       "      <td>tt12856788</td>\n",
       "      <td>7</td>\n",
       "      <td>ID</td>\n",
       "      <td>en</td>\n",
       "      <td>imdbDisplay</td>\n",
       "      <td>\\N</td>\n",
       "      <td>0</td>\n",
       "    </tr>\n",
       "    <tr>\n",
       "      <th>6266186</th>\n",
       "      <td>nm9993693</td>\n",
       "      <td>Apsara Rani</td>\n",
       "      <td>1996</td>\n",
       "      <td>NaN</td>\n",
       "      <td>actress</td>\n",
       "      <td>tt13847502,tt8302382,tt8737752,tt12856788</td>\n",
       "      <td>621713</td>\n",
       "      <td>tt12856788</td>\n",
       "      <td>Dangerous</td>\n",
       "      <td>2021</td>\n",
       "      <td>...</td>\n",
       "      <td>Ram Gopal Varma</td>\n",
       "      <td>actress</td>\n",
       "      <td>Apsara Rani</td>\n",
       "      <td>tt12856788</td>\n",
       "      <td>8</td>\n",
       "      <td>JP</td>\n",
       "      <td>ja</td>\n",
       "      <td>imdbDisplay</td>\n",
       "      <td>\\N</td>\n",
       "      <td>0</td>\n",
       "    </tr>\n",
       "    <tr>\n",
       "      <th>6266187</th>\n",
       "      <td>nm9993693</td>\n",
       "      <td>Apsara Rani</td>\n",
       "      <td>1996</td>\n",
       "      <td>NaN</td>\n",
       "      <td>actress</td>\n",
       "      <td>tt13847502,tt8302382,tt8737752,tt12856788</td>\n",
       "      <td>621713</td>\n",
       "      <td>tt12856788</td>\n",
       "      <td>Dangerous</td>\n",
       "      <td>2021</td>\n",
       "      <td>...</td>\n",
       "      <td>Ram Gopal Varma</td>\n",
       "      <td>actress</td>\n",
       "      <td>Apsara Rani</td>\n",
       "      <td>tt12856788</td>\n",
       "      <td>9</td>\n",
       "      <td>SG</td>\n",
       "      <td>en</td>\n",
       "      <td>imdbDisplay</td>\n",
       "      <td>\\N</td>\n",
       "      <td>0</td>\n",
       "    </tr>\n",
       "  </tbody>\n",
       "</table>\n",
       "<p>6266188 rows × 23 columns</p>\n",
       "</div>"
      ],
      "text/plain": [
       "            nconst   primaryName birthYear deathYear  \\\n",
       "0        nm0000001  Fred Astaire      1899      1987   \n",
       "1        nm0000001  Fred Astaire      1899      1987   \n",
       "2        nm0000001  Fred Astaire      1899      1987   \n",
       "3        nm0000001  Fred Astaire      1899      1987   \n",
       "4        nm0000001  Fred Astaire      1899      1987   \n",
       "...            ...           ...       ...       ...   \n",
       "6266183  nm9993693   Apsara Rani      1996       NaN   \n",
       "6266184  nm9993693   Apsara Rani      1996       NaN   \n",
       "6266185  nm9993693   Apsara Rani      1996       NaN   \n",
       "6266186  nm9993693   Apsara Rani      1996       NaN   \n",
       "6266187  nm9993693   Apsara Rani      1996       NaN   \n",
       "\n",
       "                      primaryProfession  \\\n",
       "0        soundtrack,actor,miscellaneous   \n",
       "1        soundtrack,actor,miscellaneous   \n",
       "2        soundtrack,actor,miscellaneous   \n",
       "3        soundtrack,actor,miscellaneous   \n",
       "4        soundtrack,actor,miscellaneous   \n",
       "...                                 ...   \n",
       "6266183                         actress   \n",
       "6266184                         actress   \n",
       "6266185                         actress   \n",
       "6266186                         actress   \n",
       "6266187                         actress   \n",
       "\n",
       "                                    knownForTitles  Unnamed: 0      tconst  \\\n",
       "0          tt0072308,tt0053137,tt0045537,tt0050419       26987   tt0025164   \n",
       "1          tt0072308,tt0053137,tt0045537,tt0050419       26987   tt0025164   \n",
       "2          tt0072308,tt0053137,tt0045537,tt0050419       26987   tt0025164   \n",
       "3          tt0072308,tt0053137,tt0045537,tt0050419       26987   tt0025164   \n",
       "4          tt0072308,tt0053137,tt0045537,tt0050419       26987   tt0025164   \n",
       "...                                            ...         ...         ...   \n",
       "6266183  tt13847502,tt8302382,tt8737752,tt12856788      621713  tt12856788   \n",
       "6266184  tt13847502,tt8302382,tt8737752,tt12856788      621713  tt12856788   \n",
       "6266185  tt13847502,tt8302382,tt8737752,tt12856788      621713  tt12856788   \n",
       "6266186  tt13847502,tt8302382,tt8737752,tt12856788      621713  tt12856788   \n",
       "6266187  tt13847502,tt8302382,tt8737752,tt12856788      621713  tt12856788   \n",
       "\n",
       "             primaryTitle  startYear  ...         Director  category  \\\n",
       "0        The Gay Divorcee       1934  ...    Mark Sandrich     actor   \n",
       "1        The Gay Divorcee       1934  ...    Mark Sandrich     actor   \n",
       "2        The Gay Divorcee       1934  ...    Mark Sandrich     actor   \n",
       "3        The Gay Divorcee       1934  ...    Mark Sandrich     actor   \n",
       "4        The Gay Divorcee       1934  ...    Mark Sandrich     actor   \n",
       "...                   ...        ...  ...              ...       ...   \n",
       "6266183         Dangerous       2021  ...  Ram Gopal Varma   actress   \n",
       "6266184         Dangerous       2021  ...  Ram Gopal Varma   actress   \n",
       "6266185         Dangerous       2021  ...  Ram Gopal Varma   actress   \n",
       "6266186         Dangerous       2021  ...  Ram Gopal Varma   actress   \n",
       "6266187         Dangerous       2021  ...  Ram Gopal Varma   actress   \n",
       "\n",
       "            ActorName     titleId ordering region language        types  \\\n",
       "0        Fred Astaire   tt0025164       10     GB       \\N  imdbDisplay   \n",
       "1        Fred Astaire   tt0025164       11   SUHH       ru  imdbDisplay   \n",
       "2        Fred Astaire   tt0025164       12     GB       \\N  alternative   \n",
       "3        Fred Astaire   tt0025164       13     FR       \\N           \\N   \n",
       "4        Fred Astaire   tt0025164       14     PT       \\N  imdbDisplay   \n",
       "...               ...         ...      ...    ...      ...          ...   \n",
       "6266183   Apsara Rani  tt12856788        5     AE       \\N  imdbDisplay   \n",
       "6266184   Apsara Rani  tt12856788        6     IN       hi  imdbDisplay   \n",
       "6266185   Apsara Rani  tt12856788        7     ID       en  imdbDisplay   \n",
       "6266186   Apsara Rani  tt12856788        8     JP       ja  imdbDisplay   \n",
       "6266187   Apsara Rani  tt12856788        9     SG       en  imdbDisplay   \n",
       "\n",
       "        attributes isOriginalTitle  \n",
       "0               \\N               0  \n",
       "1               \\N               0  \n",
       "2               \\N               0  \n",
       "3               \\N               0  \n",
       "4               \\N               0  \n",
       "...            ...             ...  \n",
       "6266183         \\N               0  \n",
       "6266184         \\N               0  \n",
       "6266185         \\N               0  \n",
       "6266186         \\N               0  \n",
       "6266187         \\N               0  \n",
       "\n",
       "[6266188 rows x 23 columns]"
      ]
     },
     "execution_count": 131,
     "metadata": {},
     "output_type": "execute_result"
    }
   ],
   "source": [
    "imdb_y"
   ]
  },
  {
   "cell_type": "code",
   "execution_count": 132,
   "id": "9e0eb414-865d-4d99-9089-c8a1ff9227e8",
   "metadata": {},
   "outputs": [
    {
     "data": {
      "text/plain": [
       "498132"
      ]
     },
     "execution_count": 132,
     "metadata": {},
     "output_type": "execute_result"
    }
   ],
   "source": [
    "it = imdb_y[imdb_y['region'] == 'US']\n",
    "len(it)"
   ]
  },
  {
   "cell_type": "code",
   "execution_count": 144,
   "id": "064f4431-08aa-4031-b0f2-6055adf74cff",
   "metadata": {},
   "outputs": [],
   "source": [
    "it.rename(columns={'primaryTitle':'title','startYear':'year','ActorName':'actor','category':'gender'},inplace=True)"
   ]
  },
  {
   "cell_type": "code",
   "execution_count": 145,
   "id": "4a0e569a-7419-4345-8d5e-02a725a58e46",
   "metadata": {},
   "outputs": [],
   "source": [
    "it['gender'][it['gender'] == 'actor'] = 'M'\n",
    "it['gender'][it['gender'] == 'actress'] = 'F'"
   ]
  },
  {
   "cell_type": "code",
   "execution_count": 146,
   "id": "cf54000b-5dfb-4129-8485-88be28325502",
   "metadata": {},
   "outputs": [
    {
     "data": {
      "text/html": [
       "<div>\n",
       "<style scoped>\n",
       "    .dataframe tbody tr th:only-of-type {\n",
       "        vertical-align: middle;\n",
       "    }\n",
       "\n",
       "    .dataframe tbody tr th {\n",
       "        vertical-align: top;\n",
       "    }\n",
       "\n",
       "    .dataframe thead th {\n",
       "        text-align: right;\n",
       "    }\n",
       "</style>\n",
       "<table border=\"1\" class=\"dataframe\">\n",
       "  <thead>\n",
       "    <tr style=\"text-align: right;\">\n",
       "      <th></th>\n",
       "      <th>nconst</th>\n",
       "      <th>primaryName</th>\n",
       "      <th>birthYear</th>\n",
       "      <th>deathYear</th>\n",
       "      <th>primaryProfession</th>\n",
       "      <th>knownForTitles</th>\n",
       "      <th>Unnamed: 0</th>\n",
       "      <th>tconst</th>\n",
       "      <th>title</th>\n",
       "      <th>year</th>\n",
       "      <th>...</th>\n",
       "      <th>actor</th>\n",
       "      <th>titleId</th>\n",
       "      <th>ordering</th>\n",
       "      <th>region</th>\n",
       "      <th>language</th>\n",
       "      <th>types</th>\n",
       "      <th>attributes</th>\n",
       "      <th>isOriginalTitle</th>\n",
       "      <th>numVotes_factor</th>\n",
       "      <th>averageRating_adj</th>\n",
       "    </tr>\n",
       "  </thead>\n",
       "  <tbody>\n",
       "    <tr>\n",
       "      <th>25</th>\n",
       "      <td>nm0000001</td>\n",
       "      <td>Fred Astaire</td>\n",
       "      <td>1899</td>\n",
       "      <td>1987</td>\n",
       "      <td>soundtrack,actor,miscellaneous</td>\n",
       "      <td>tt0072308,tt0053137,tt0045537,tt0050419</td>\n",
       "      <td>26987</td>\n",
       "      <td>tt0025164</td>\n",
       "      <td>The Gay Divorcee</td>\n",
       "      <td>1934</td>\n",
       "      <td>...</td>\n",
       "      <td>Fred_Astaire</td>\n",
       "      <td>tt0025164</td>\n",
       "      <td>33</td>\n",
       "      <td>US</td>\n",
       "      <td>\\N</td>\n",
       "      <td>imdbDisplay</td>\n",
       "      <td>\\N</td>\n",
       "      <td>0</td>\n",
       "      <td>0.607910</td>\n",
       "      <td>4.498532</td>\n",
       "    </tr>\n",
       "    <tr>\n",
       "      <th>41</th>\n",
       "      <td>nm0000001</td>\n",
       "      <td>Fred Astaire</td>\n",
       "      <td>1899</td>\n",
       "      <td>1987</td>\n",
       "      <td>soundtrack,actor,miscellaneous</td>\n",
       "      <td>tt0072308,tt0053137,tt0045537,tt0050419</td>\n",
       "      <td>31088</td>\n",
       "      <td>tt0026942</td>\n",
       "      <td>Roberta</td>\n",
       "      <td>1935</td>\n",
       "      <td>...</td>\n",
       "      <td>Fred_Astaire</td>\n",
       "      <td>tt0026942</td>\n",
       "      <td>14</td>\n",
       "      <td>US</td>\n",
       "      <td>\\N</td>\n",
       "      <td>imdbDisplay</td>\n",
       "      <td>\\N</td>\n",
       "      <td>0</td>\n",
       "      <td>0.550121</td>\n",
       "      <td>3.850846</td>\n",
       "    </tr>\n",
       "    <tr>\n",
       "      <th>80</th>\n",
       "      <td>nm0000001</td>\n",
       "      <td>Fred Astaire</td>\n",
       "      <td>1899</td>\n",
       "      <td>1987</td>\n",
       "      <td>soundtrack,actor,miscellaneous</td>\n",
       "      <td>tt0072308,tt0053137,tt0045537,tt0050419</td>\n",
       "      <td>31551</td>\n",
       "      <td>tt0027125</td>\n",
       "      <td>Top Hat</td>\n",
       "      <td>1935</td>\n",
       "      <td>...</td>\n",
       "      <td>Fred_Astaire</td>\n",
       "      <td>tt0027125</td>\n",
       "      <td>32</td>\n",
       "      <td>US</td>\n",
       "      <td>\\N</td>\n",
       "      <td>working</td>\n",
       "      <td>\\N</td>\n",
       "      <td>0</td>\n",
       "      <td>0.667353</td>\n",
       "      <td>5.138620</td>\n",
       "    </tr>\n",
       "    <tr>\n",
       "      <th>90</th>\n",
       "      <td>nm0000001</td>\n",
       "      <td>Fred Astaire</td>\n",
       "      <td>1899</td>\n",
       "      <td>1987</td>\n",
       "      <td>soundtrack,actor,miscellaneous</td>\n",
       "      <td>tt0072308,tt0053137,tt0045537,tt0050419</td>\n",
       "      <td>31551</td>\n",
       "      <td>tt0027125</td>\n",
       "      <td>Top Hat</td>\n",
       "      <td>1935</td>\n",
       "      <td>...</td>\n",
       "      <td>Fred_Astaire</td>\n",
       "      <td>tt0027125</td>\n",
       "      <td>9</td>\n",
       "      <td>US</td>\n",
       "      <td>\\N</td>\n",
       "      <td>imdbDisplay</td>\n",
       "      <td>\\N</td>\n",
       "      <td>0</td>\n",
       "      <td>0.667353</td>\n",
       "      <td>5.138620</td>\n",
       "    </tr>\n",
       "    <tr>\n",
       "      <th>101</th>\n",
       "      <td>nm0000001</td>\n",
       "      <td>Fred Astaire</td>\n",
       "      <td>1899</td>\n",
       "      <td>1987</td>\n",
       "      <td>soundtrack,actor,miscellaneous</td>\n",
       "      <td>tt0072308,tt0053137,tt0045537,tt0050419</td>\n",
       "      <td>32833</td>\n",
       "      <td>tt0027630</td>\n",
       "      <td>Follow the Fleet</td>\n",
       "      <td>1936</td>\n",
       "      <td>...</td>\n",
       "      <td>Fred_Astaire</td>\n",
       "      <td>tt0027630</td>\n",
       "      <td>1</td>\n",
       "      <td>US</td>\n",
       "      <td>\\N</td>\n",
       "      <td>imdbDisplay</td>\n",
       "      <td>\\N</td>\n",
       "      <td>0</td>\n",
       "      <td>0.568024</td>\n",
       "      <td>4.032972</td>\n",
       "    </tr>\n",
       "  </tbody>\n",
       "</table>\n",
       "<p>5 rows × 25 columns</p>\n",
       "</div>"
      ],
      "text/plain": [
       "        nconst   primaryName birthYear deathYear  \\\n",
       "25   nm0000001  Fred Astaire      1899      1987   \n",
       "41   nm0000001  Fred Astaire      1899      1987   \n",
       "80   nm0000001  Fred Astaire      1899      1987   \n",
       "90   nm0000001  Fred Astaire      1899      1987   \n",
       "101  nm0000001  Fred Astaire      1899      1987   \n",
       "\n",
       "                  primaryProfession                           knownForTitles  \\\n",
       "25   soundtrack,actor,miscellaneous  tt0072308,tt0053137,tt0045537,tt0050419   \n",
       "41   soundtrack,actor,miscellaneous  tt0072308,tt0053137,tt0045537,tt0050419   \n",
       "80   soundtrack,actor,miscellaneous  tt0072308,tt0053137,tt0045537,tt0050419   \n",
       "90   soundtrack,actor,miscellaneous  tt0072308,tt0053137,tt0045537,tt0050419   \n",
       "101  soundtrack,actor,miscellaneous  tt0072308,tt0053137,tt0045537,tt0050419   \n",
       "\n",
       "     Unnamed: 0     tconst             title  year  ...         actor  \\\n",
       "25        26987  tt0025164  The Gay Divorcee  1934  ...  Fred_Astaire   \n",
       "41        31088  tt0026942           Roberta  1935  ...  Fred_Astaire   \n",
       "80        31551  tt0027125           Top Hat  1935  ...  Fred_Astaire   \n",
       "90        31551  tt0027125           Top Hat  1935  ...  Fred_Astaire   \n",
       "101       32833  tt0027630  Follow the Fleet  1936  ...  Fred_Astaire   \n",
       "\n",
       "       titleId  ordering region language        types attributes  \\\n",
       "25   tt0025164        33     US       \\N  imdbDisplay         \\N   \n",
       "41   tt0026942        14     US       \\N  imdbDisplay         \\N   \n",
       "80   tt0027125        32     US       \\N      working         \\N   \n",
       "90   tt0027125         9     US       \\N  imdbDisplay         \\N   \n",
       "101  tt0027630         1     US       \\N  imdbDisplay         \\N   \n",
       "\n",
       "     isOriginalTitle numVotes_factor averageRating_adj  \n",
       "25                 0        0.607910          4.498532  \n",
       "41                 0        0.550121          3.850846  \n",
       "80                 0        0.667353          5.138620  \n",
       "90                 0        0.667353          5.138620  \n",
       "101                0        0.568024          4.032972  \n",
       "\n",
       "[5 rows x 25 columns]"
      ]
     },
     "execution_count": 146,
     "metadata": {},
     "output_type": "execute_result"
    }
   ],
   "source": [
    "it.head()"
   ]
  },
  {
   "cell_type": "code",
   "execution_count": 147,
   "id": "dd10ef25-2f4d-4b30-975e-ac1c3233c1ee",
   "metadata": {},
   "outputs": [],
   "source": [
    "def minMaxScale(data, imposed_minimum = None, imposed_maximum = None, fit = False): #min max scaling\n",
    "    mini = min(data)\n",
    "    maxi = max(data)\n",
    "    \n",
    "    if (imposed_minimum != None): mini = imposed_minimum\n",
    "    if (imposed_maximum != None): maxi = imposed_maximum\n",
    "    if (fit == False):\n",
    "        return (data - mini)/(maxi - mini)\n",
    "    else: \n",
    "        return [mini, maxi]\n",
    "\n",
    "it['numVotes_factor'] = minMaxScale(np.log(it['numVotes']), 0)\n",
    "it['averageRating_adj'] =  it['averageRating']* it['numVotes_factor']"
   ]
  },
  {
   "cell_type": "code",
   "execution_count": 148,
   "id": "f1603d6b-155a-47fb-8f11-0b4440be792c",
   "metadata": {},
   "outputs": [],
   "source": [
    "it['actor'] = it[\"actor\"].apply(lambda x : '_'.join(x.split())) #simplifying actor names\n",
    "it['Director'] = it[\"Director\"].apply(lambda x : '_'.join(x.split())) #simplifying actor names\n",
    "\n",
    "actorMetrics = pd.DataFrame(it['actor'].drop_duplicates().reset_index(drop = True)) #creation of starscore dataf\n",
    "\n",
    "timeScores = pd.DataFrame(it['actor'].drop_duplicates().reset_index(drop = True))"
   ]
  },
  {
   "cell_type": "code",
   "execution_count": 149,
   "id": "a44507e4-dca9-44e0-b504-9a1283b8acc4",
   "metadata": {},
   "outputs": [],
   "source": [
    "gender = it[['actor','gender']].drop_duplicates(subset=['actor']).reset_index()"
   ]
  },
  {
   "cell_type": "code",
   "execution_count": 150,
   "id": "82d9879f-3b01-4300-9cc9-2418e4d382bd",
   "metadata": {},
   "outputs": [],
   "source": [
    "movie_year = it[['actor','year']].drop_duplicates(subset=['actor']).reset_index()"
   ]
  },
  {
   "cell_type": "code",
   "execution_count": 157,
   "id": "06f65c89-87de-43ad-b664-79c13e94a507",
   "metadata": {},
   "outputs": [],
   "source": [
    "birth_year = it[['actor','birthYear']].drop_duplicates(subset=['actor']).reset_index()"
   ]
  },
  {
   "cell_type": "code",
   "execution_count": 151,
   "id": "c168e7cf-3873-4767-8437-b9ece11c4388",
   "metadata": {},
   "outputs": [],
   "source": [
    "year = it.groupby('actor')['year'].mean().reset_index()"
   ]
  },
  {
   "cell_type": "code",
   "execution_count": 152,
   "id": "7a0d3013-684a-4b10-abe2-82a417cfe485",
   "metadata": {},
   "outputs": [],
   "source": [
    "it.to_csv('../data/movies_us.csv')"
   ]
  },
  {
   "cell_type": "code",
   "execution_count": 153,
   "id": "55ecf010-e6a9-40d7-96c3-c689649669b1",
   "metadata": {},
   "outputs": [],
   "source": [
    "actors['gender'] = gender['gender']"
   ]
  },
  {
   "cell_type": "code",
   "execution_count": 154,
   "id": "3198ea2d-850b-46c5-8ddc-4cb463a47972",
   "metadata": {},
   "outputs": [],
   "source": [
    "actors['year_avg'] = year['year']"
   ]
  },
  {
   "cell_type": "code",
   "execution_count": 158,
   "id": "57845f67-497c-4ac9-ad46-a1371bd42393",
   "metadata": {},
   "outputs": [],
   "source": [
    "actors['birth_year'] = birth_year['birthYear']"
   ]
  },
  {
   "cell_type": "code",
   "execution_count": 159,
   "id": "8a5e0ca7-dd3d-4a54-b70e-44285036d8c9",
   "metadata": {},
   "outputs": [],
   "source": [
    "actors.to_csv('../data/actors_us.csv')"
   ]
  },
  {
   "cell_type": "code",
   "execution_count": 164,
   "id": "351f89a5-8238-4436-bedf-b149b1888280",
   "metadata": {},
   "outputs": [],
   "source": [
    "actors.dropna(subset=['birth_year'],inplace=True)"
   ]
  },
  {
   "cell_type": "code",
   "execution_count": 187,
   "id": "a646083c-5adf-4488-9538-a71b6a6e951e",
   "metadata": {},
   "outputs": [
    {
     "name": "stdout",
     "output_type": "stream",
     "text": [
      "0\n"
     ]
    },
    {
     "ename": "KeyboardInterrupt",
     "evalue": "",
     "output_type": "error",
     "traceback": [
      "\u001b[1;31m---------------------------------------------------------------------------\u001b[0m",
      "\u001b[1;31mKeyboardInterrupt\u001b[0m                         Traceback (most recent call last)",
      "Input \u001b[1;32mIn [187]\u001b[0m, in \u001b[0;36m<cell line: 4>\u001b[1;34m()\u001b[0m\n\u001b[0;32m      4\u001b[0m \u001b[38;5;28;01mfor\u001b[39;00m idx, (key, value) \u001b[38;5;129;01min\u001b[39;00m \u001b[38;5;28menumerate\u001b[39m(metrics_avg\u001b[38;5;241m.\u001b[39mitems()):\n\u001b[0;32m      5\u001b[0m     \u001b[38;5;28mprint\u001b[39m(idx)\n\u001b[1;32m----> 6\u001b[0m     lists_per_actor \u001b[38;5;241m=\u001b[39m \u001b[43mit\u001b[49m\u001b[38;5;241;43m.\u001b[39;49m\u001b[43mgroupby\u001b[49m\u001b[43m(\u001b[49m\u001b[38;5;124;43m'\u001b[39;49m\u001b[38;5;124;43mactor\u001b[39;49m\u001b[38;5;124;43m'\u001b[39;49m\u001b[43m)\u001b[49m\u001b[38;5;241;43m.\u001b[39;49m\u001b[43mapply\u001b[49m\u001b[43m(\u001b[49m\u001b[38;5;28;43;01mlambda\u001b[39;49;00m\u001b[43m \u001b[49m\u001b[43mx\u001b[49m\u001b[43m \u001b[49m\u001b[43m:\u001b[49m\u001b[43m \u001b[49m\u001b[43mnp\u001b[49m\u001b[38;5;241;43m.\u001b[39;49m\u001b[43mmean\u001b[49m\u001b[43m(\u001b[49m\u001b[43mx\u001b[49m\u001b[43m[\u001b[49m\u001b[43mkey\u001b[49m\u001b[43m]\u001b[49m\u001b[43m)\u001b[49m\u001b[43m)\u001b[49m\u001b[38;5;241m.\u001b[39mreindex(\n\u001b[0;32m      7\u001b[0m         index \u001b[38;5;241m=\u001b[39m actorMetrics[\u001b[38;5;124m'\u001b[39m\u001b[38;5;124mactor\u001b[39m\u001b[38;5;124m'\u001b[39m]\u001b[38;5;241m.\u001b[39mvalues)\n\u001b[0;32m      8\u001b[0m     actorMetrics[value] \u001b[38;5;241m=\u001b[39m lists_per_actor\u001b[38;5;241m.\u001b[39mvalues\n\u001b[0;32m     10\u001b[0m \u001b[38;5;28;01mfor\u001b[39;00m idx, (key, value) \u001b[38;5;129;01min\u001b[39;00m \u001b[38;5;28menumerate\u001b[39m(metrics_sum\u001b[38;5;241m.\u001b[39mitems()):\n",
      "File \u001b[1;32m~\\anaconda3\\envs\\ada\\lib\\site-packages\\pandas\\core\\groupby\\groupby.py:1423\u001b[0m, in \u001b[0;36mGroupBy.apply\u001b[1;34m(self, func, *args, **kwargs)\u001b[0m\n\u001b[0;32m   1421\u001b[0m \u001b[38;5;28;01mwith\u001b[39;00m option_context(\u001b[38;5;124m\"\u001b[39m\u001b[38;5;124mmode.chained_assignment\u001b[39m\u001b[38;5;124m\"\u001b[39m, \u001b[38;5;28;01mNone\u001b[39;00m):\n\u001b[0;32m   1422\u001b[0m     \u001b[38;5;28;01mtry\u001b[39;00m:\n\u001b[1;32m-> 1423\u001b[0m         result \u001b[38;5;241m=\u001b[39m \u001b[38;5;28;43mself\u001b[39;49m\u001b[38;5;241;43m.\u001b[39;49m\u001b[43m_python_apply_general\u001b[49m\u001b[43m(\u001b[49m\u001b[43mf\u001b[49m\u001b[43m,\u001b[49m\u001b[43m \u001b[49m\u001b[38;5;28;43mself\u001b[39;49m\u001b[38;5;241;43m.\u001b[39;49m\u001b[43m_selected_obj\u001b[49m\u001b[43m)\u001b[49m\n\u001b[0;32m   1424\u001b[0m     \u001b[38;5;28;01mexcept\u001b[39;00m \u001b[38;5;167;01mTypeError\u001b[39;00m:\n\u001b[0;32m   1425\u001b[0m         \u001b[38;5;66;03m# gh-20949\u001b[39;00m\n\u001b[0;32m   1426\u001b[0m         \u001b[38;5;66;03m# try again, with .apply acting as a filtering\u001b[39;00m\n\u001b[1;32m   (...)\u001b[0m\n\u001b[0;32m   1430\u001b[0m         \u001b[38;5;66;03m# fails on *some* columns, e.g. a numeric operation\u001b[39;00m\n\u001b[0;32m   1431\u001b[0m         \u001b[38;5;66;03m# on a string grouper column\u001b[39;00m\n\u001b[0;32m   1433\u001b[0m         \u001b[38;5;28;01mwith\u001b[39;00m \u001b[38;5;28mself\u001b[39m\u001b[38;5;241m.\u001b[39m_group_selection_context():\n",
      "File \u001b[1;32m~\\anaconda3\\envs\\ada\\lib\\site-packages\\pandas\\core\\groupby\\groupby.py:1464\u001b[0m, in \u001b[0;36mGroupBy._python_apply_general\u001b[1;34m(self, f, data, not_indexed_same)\u001b[0m\n\u001b[0;32m   1438\u001b[0m \u001b[38;5;129m@final\u001b[39m\n\u001b[0;32m   1439\u001b[0m \u001b[38;5;28;01mdef\u001b[39;00m \u001b[38;5;21m_python_apply_general\u001b[39m(\n\u001b[0;32m   1440\u001b[0m     \u001b[38;5;28mself\u001b[39m,\n\u001b[1;32m   (...)\u001b[0m\n\u001b[0;32m   1443\u001b[0m     not_indexed_same: \u001b[38;5;28mbool\u001b[39m \u001b[38;5;241m|\u001b[39m \u001b[38;5;28;01mNone\u001b[39;00m \u001b[38;5;241m=\u001b[39m \u001b[38;5;28;01mNone\u001b[39;00m,\n\u001b[0;32m   1444\u001b[0m ) \u001b[38;5;241m-\u001b[39m\u001b[38;5;241m>\u001b[39m DataFrame \u001b[38;5;241m|\u001b[39m Series:\n\u001b[0;32m   1445\u001b[0m     \u001b[38;5;124;03m\"\"\"\u001b[39;00m\n\u001b[0;32m   1446\u001b[0m \u001b[38;5;124;03m    Apply function f in python space\u001b[39;00m\n\u001b[0;32m   1447\u001b[0m \n\u001b[1;32m   (...)\u001b[0m\n\u001b[0;32m   1462\u001b[0m \u001b[38;5;124;03m        data after applying f\u001b[39;00m\n\u001b[0;32m   1463\u001b[0m \u001b[38;5;124;03m    \"\"\"\u001b[39;00m\n\u001b[1;32m-> 1464\u001b[0m     values, mutated \u001b[38;5;241m=\u001b[39m \u001b[38;5;28;43mself\u001b[39;49m\u001b[38;5;241;43m.\u001b[39;49m\u001b[43mgrouper\u001b[49m\u001b[38;5;241;43m.\u001b[39;49m\u001b[43mapply\u001b[49m\u001b[43m(\u001b[49m\u001b[43mf\u001b[49m\u001b[43m,\u001b[49m\u001b[43m \u001b[49m\u001b[43mdata\u001b[49m\u001b[43m,\u001b[49m\u001b[43m \u001b[49m\u001b[38;5;28;43mself\u001b[39;49m\u001b[38;5;241;43m.\u001b[39;49m\u001b[43maxis\u001b[49m\u001b[43m)\u001b[49m\n\u001b[0;32m   1466\u001b[0m     \u001b[38;5;28;01mif\u001b[39;00m not_indexed_same \u001b[38;5;129;01mis\u001b[39;00m \u001b[38;5;28;01mNone\u001b[39;00m:\n\u001b[0;32m   1467\u001b[0m         not_indexed_same \u001b[38;5;241m=\u001b[39m mutated \u001b[38;5;129;01mor\u001b[39;00m \u001b[38;5;28mself\u001b[39m\u001b[38;5;241m.\u001b[39mmutated\n",
      "File \u001b[1;32m~\\anaconda3\\envs\\ada\\lib\\site-packages\\pandas\\core\\groupby\\ops.py:761\u001b[0m, in \u001b[0;36mBaseGrouper.apply\u001b[1;34m(self, f, data, axis)\u001b[0m\n\u001b[0;32m    759\u001b[0m \u001b[38;5;66;03m# group might be modified\u001b[39;00m\n\u001b[0;32m    760\u001b[0m group_axes \u001b[38;5;241m=\u001b[39m group\u001b[38;5;241m.\u001b[39maxes\n\u001b[1;32m--> 761\u001b[0m res \u001b[38;5;241m=\u001b[39m \u001b[43mf\u001b[49m\u001b[43m(\u001b[49m\u001b[43mgroup\u001b[49m\u001b[43m)\u001b[49m\n\u001b[0;32m    762\u001b[0m \u001b[38;5;28;01mif\u001b[39;00m \u001b[38;5;129;01mnot\u001b[39;00m mutated \u001b[38;5;129;01mand\u001b[39;00m \u001b[38;5;129;01mnot\u001b[39;00m _is_indexed_like(res, group_axes, axis):\n\u001b[0;32m    763\u001b[0m     mutated \u001b[38;5;241m=\u001b[39m \u001b[38;5;28;01mTrue\u001b[39;00m\n",
      "Input \u001b[1;32mIn [187]\u001b[0m, in \u001b[0;36m<lambda>\u001b[1;34m(x)\u001b[0m\n\u001b[0;32m      4\u001b[0m \u001b[38;5;28;01mfor\u001b[39;00m idx, (key, value) \u001b[38;5;129;01min\u001b[39;00m \u001b[38;5;28menumerate\u001b[39m(metrics_avg\u001b[38;5;241m.\u001b[39mitems()):\n\u001b[0;32m      5\u001b[0m     \u001b[38;5;28mprint\u001b[39m(idx)\n\u001b[1;32m----> 6\u001b[0m     lists_per_actor \u001b[38;5;241m=\u001b[39m it\u001b[38;5;241m.\u001b[39mgroupby(\u001b[38;5;124m'\u001b[39m\u001b[38;5;124mactor\u001b[39m\u001b[38;5;124m'\u001b[39m)\u001b[38;5;241m.\u001b[39mapply(\u001b[38;5;28;01mlambda\u001b[39;00m x : \u001b[43mnp\u001b[49m\u001b[38;5;241;43m.\u001b[39;49m\u001b[43mmean\u001b[49m\u001b[43m(\u001b[49m\u001b[43mx\u001b[49m\u001b[43m[\u001b[49m\u001b[43mkey\u001b[49m\u001b[43m]\u001b[49m\u001b[43m)\u001b[49m)\u001b[38;5;241m.\u001b[39mreindex(\n\u001b[0;32m      7\u001b[0m         index \u001b[38;5;241m=\u001b[39m actorMetrics[\u001b[38;5;124m'\u001b[39m\u001b[38;5;124mactor\u001b[39m\u001b[38;5;124m'\u001b[39m]\u001b[38;5;241m.\u001b[39mvalues)\n\u001b[0;32m      8\u001b[0m     actorMetrics[value] \u001b[38;5;241m=\u001b[39m lists_per_actor\u001b[38;5;241m.\u001b[39mvalues\n\u001b[0;32m     10\u001b[0m \u001b[38;5;28;01mfor\u001b[39;00m idx, (key, value) \u001b[38;5;129;01min\u001b[39;00m \u001b[38;5;28menumerate\u001b[39m(metrics_sum\u001b[38;5;241m.\u001b[39mitems()):\n",
      "File \u001b[1;32m<__array_function__ internals>:5\u001b[0m, in \u001b[0;36mmean\u001b[1;34m(*args, **kwargs)\u001b[0m\n",
      "File \u001b[1;32m~\\anaconda3\\envs\\ada\\lib\\site-packages\\numpy\\core\\fromnumeric.py:3438\u001b[0m, in \u001b[0;36mmean\u001b[1;34m(a, axis, dtype, out, keepdims, where)\u001b[0m\n\u001b[0;32m   3436\u001b[0m         \u001b[38;5;28;01mpass\u001b[39;00m\n\u001b[0;32m   3437\u001b[0m     \u001b[38;5;28;01melse\u001b[39;00m:\n\u001b[1;32m-> 3438\u001b[0m         \u001b[38;5;28;01mreturn\u001b[39;00m \u001b[43mmean\u001b[49m\u001b[43m(\u001b[49m\u001b[43maxis\u001b[49m\u001b[38;5;241;43m=\u001b[39;49m\u001b[43maxis\u001b[49m\u001b[43m,\u001b[49m\u001b[43m \u001b[49m\u001b[43mdtype\u001b[49m\u001b[38;5;241;43m=\u001b[39;49m\u001b[43mdtype\u001b[49m\u001b[43m,\u001b[49m\u001b[43m \u001b[49m\u001b[43mout\u001b[49m\u001b[38;5;241;43m=\u001b[39;49m\u001b[43mout\u001b[49m\u001b[43m,\u001b[49m\u001b[43m \u001b[49m\u001b[38;5;241;43m*\u001b[39;49m\u001b[38;5;241;43m*\u001b[39;49m\u001b[43mkwargs\u001b[49m\u001b[43m)\u001b[49m\n\u001b[0;32m   3440\u001b[0m \u001b[38;5;28;01mreturn\u001b[39;00m _methods\u001b[38;5;241m.\u001b[39m_mean(a, axis\u001b[38;5;241m=\u001b[39maxis, dtype\u001b[38;5;241m=\u001b[39mdtype,\n\u001b[0;32m   3441\u001b[0m                       out\u001b[38;5;241m=\u001b[39mout, \u001b[38;5;241m*\u001b[39m\u001b[38;5;241m*\u001b[39mkwargs)\n",
      "File \u001b[1;32m~\\anaconda3\\envs\\ada\\lib\\site-packages\\pandas\\core\\generic.py:11119\u001b[0m, in \u001b[0;36mNDFrame._add_numeric_operations.<locals>.mean\u001b[1;34m(self, axis, skipna, level, numeric_only, **kwargs)\u001b[0m\n\u001b[0;32m  11101\u001b[0m \u001b[38;5;129m@doc\u001b[39m(\n\u001b[0;32m  11102\u001b[0m     _num_doc,\n\u001b[0;32m  11103\u001b[0m     desc\u001b[38;5;241m=\u001b[39m\u001b[38;5;124m\"\u001b[39m\u001b[38;5;124mReturn the mean of the values over the requested axis.\u001b[39m\u001b[38;5;124m\"\u001b[39m,\n\u001b[1;32m   (...)\u001b[0m\n\u001b[0;32m  11117\u001b[0m     \u001b[38;5;241m*\u001b[39m\u001b[38;5;241m*\u001b[39mkwargs,\n\u001b[0;32m  11118\u001b[0m ):\n\u001b[1;32m> 11119\u001b[0m     \u001b[38;5;28;01mreturn\u001b[39;00m \u001b[43mNDFrame\u001b[49m\u001b[38;5;241;43m.\u001b[39;49m\u001b[43mmean\u001b[49m\u001b[43m(\u001b[49m\u001b[38;5;28;43mself\u001b[39;49m\u001b[43m,\u001b[49m\u001b[43m \u001b[49m\u001b[43maxis\u001b[49m\u001b[43m,\u001b[49m\u001b[43m \u001b[49m\u001b[43mskipna\u001b[49m\u001b[43m,\u001b[49m\u001b[43m \u001b[49m\u001b[43mlevel\u001b[49m\u001b[43m,\u001b[49m\u001b[43m \u001b[49m\u001b[43mnumeric_only\u001b[49m\u001b[43m,\u001b[49m\u001b[43m \u001b[49m\u001b[38;5;241;43m*\u001b[39;49m\u001b[38;5;241;43m*\u001b[39;49m\u001b[43mkwargs\u001b[49m\u001b[43m)\u001b[49m\n",
      "File \u001b[1;32m~\\anaconda3\\envs\\ada\\lib\\site-packages\\pandas\\core\\generic.py:10689\u001b[0m, in \u001b[0;36mNDFrame.mean\u001b[1;34m(self, axis, skipna, level, numeric_only, **kwargs)\u001b[0m\n\u001b[0;32m  10681\u001b[0m \u001b[38;5;28;01mdef\u001b[39;00m \u001b[38;5;21mmean\u001b[39m(\n\u001b[0;32m  10682\u001b[0m     \u001b[38;5;28mself\u001b[39m,\n\u001b[0;32m  10683\u001b[0m     axis: Axis \u001b[38;5;241m|\u001b[39m \u001b[38;5;28;01mNone\u001b[39;00m \u001b[38;5;241m|\u001b[39m lib\u001b[38;5;241m.\u001b[39mNoDefault \u001b[38;5;241m=\u001b[39m lib\u001b[38;5;241m.\u001b[39mno_default,\n\u001b[1;32m   (...)\u001b[0m\n\u001b[0;32m  10687\u001b[0m     \u001b[38;5;241m*\u001b[39m\u001b[38;5;241m*\u001b[39mkwargs,\n\u001b[0;32m  10688\u001b[0m ) \u001b[38;5;241m-\u001b[39m\u001b[38;5;241m>\u001b[39m Series \u001b[38;5;241m|\u001b[39m \u001b[38;5;28mfloat\u001b[39m:\n\u001b[1;32m> 10689\u001b[0m     \u001b[38;5;28;01mreturn\u001b[39;00m \u001b[38;5;28;43mself\u001b[39;49m\u001b[38;5;241;43m.\u001b[39;49m\u001b[43m_stat_function\u001b[49m\u001b[43m(\u001b[49m\n\u001b[0;32m  10690\u001b[0m \u001b[43m        \u001b[49m\u001b[38;5;124;43m\"\u001b[39;49m\u001b[38;5;124;43mmean\u001b[39;49m\u001b[38;5;124;43m\"\u001b[39;49m\u001b[43m,\u001b[49m\u001b[43m \u001b[49m\u001b[43mnanops\u001b[49m\u001b[38;5;241;43m.\u001b[39;49m\u001b[43mnanmean\u001b[49m\u001b[43m,\u001b[49m\u001b[43m \u001b[49m\u001b[43maxis\u001b[49m\u001b[43m,\u001b[49m\u001b[43m \u001b[49m\u001b[43mskipna\u001b[49m\u001b[43m,\u001b[49m\u001b[43m \u001b[49m\u001b[43mlevel\u001b[49m\u001b[43m,\u001b[49m\u001b[43m \u001b[49m\u001b[43mnumeric_only\u001b[49m\u001b[43m,\u001b[49m\u001b[43m \u001b[49m\u001b[38;5;241;43m*\u001b[39;49m\u001b[38;5;241;43m*\u001b[39;49m\u001b[43mkwargs\u001b[49m\n\u001b[0;32m  10691\u001b[0m \u001b[43m    \u001b[49m\u001b[43m)\u001b[49m\n",
      "File \u001b[1;32m~\\anaconda3\\envs\\ada\\lib\\site-packages\\pandas\\core\\generic.py:10641\u001b[0m, in \u001b[0;36mNDFrame._stat_function\u001b[1;34m(self, name, func, axis, skipna, level, numeric_only, **kwargs)\u001b[0m\n\u001b[0;32m  10631\u001b[0m     warnings\u001b[38;5;241m.\u001b[39mwarn(\n\u001b[0;32m  10632\u001b[0m         \u001b[38;5;124m\"\u001b[39m\u001b[38;5;124mUsing the level keyword in DataFrame and Series aggregations is \u001b[39m\u001b[38;5;124m\"\u001b[39m\n\u001b[0;32m  10633\u001b[0m         \u001b[38;5;124m\"\u001b[39m\u001b[38;5;124mdeprecated and will be removed in a future version. Use groupby \u001b[39m\u001b[38;5;124m\"\u001b[39m\n\u001b[1;32m   (...)\u001b[0m\n\u001b[0;32m  10636\u001b[0m         stacklevel\u001b[38;5;241m=\u001b[39mfind_stack_level(),\n\u001b[0;32m  10637\u001b[0m     )\n\u001b[0;32m  10638\u001b[0m     \u001b[38;5;28;01mreturn\u001b[39;00m \u001b[38;5;28mself\u001b[39m\u001b[38;5;241m.\u001b[39m_agg_by_level(\n\u001b[0;32m  10639\u001b[0m         name, axis\u001b[38;5;241m=\u001b[39maxis, level\u001b[38;5;241m=\u001b[39mlevel, skipna\u001b[38;5;241m=\u001b[39mskipna, numeric_only\u001b[38;5;241m=\u001b[39mnumeric_only\n\u001b[0;32m  10640\u001b[0m     )\n\u001b[1;32m> 10641\u001b[0m \u001b[38;5;28;01mreturn\u001b[39;00m \u001b[38;5;28;43mself\u001b[39;49m\u001b[38;5;241;43m.\u001b[39;49m\u001b[43m_reduce\u001b[49m\u001b[43m(\u001b[49m\n\u001b[0;32m  10642\u001b[0m \u001b[43m    \u001b[49m\u001b[43mfunc\u001b[49m\u001b[43m,\u001b[49m\u001b[43m \u001b[49m\u001b[43mname\u001b[49m\u001b[38;5;241;43m=\u001b[39;49m\u001b[43mname\u001b[49m\u001b[43m,\u001b[49m\u001b[43m \u001b[49m\u001b[43maxis\u001b[49m\u001b[38;5;241;43m=\u001b[39;49m\u001b[43maxis\u001b[49m\u001b[43m,\u001b[49m\u001b[43m \u001b[49m\u001b[43mskipna\u001b[49m\u001b[38;5;241;43m=\u001b[39;49m\u001b[43mskipna\u001b[49m\u001b[43m,\u001b[49m\u001b[43m \u001b[49m\u001b[43mnumeric_only\u001b[49m\u001b[38;5;241;43m=\u001b[39;49m\u001b[43mnumeric_only\u001b[49m\n\u001b[0;32m  10643\u001b[0m \u001b[43m\u001b[49m\u001b[43m)\u001b[49m\n",
      "File \u001b[1;32m~\\anaconda3\\envs\\ada\\lib\\site-packages\\pandas\\core\\series.py:4471\u001b[0m, in \u001b[0;36mSeries._reduce\u001b[1;34m(self, op, name, axis, skipna, numeric_only, filter_type, **kwds)\u001b[0m\n\u001b[0;32m   4467\u001b[0m     \u001b[38;5;28;01mraise\u001b[39;00m \u001b[38;5;167;01mNotImplementedError\u001b[39;00m(\n\u001b[0;32m   4468\u001b[0m         \u001b[38;5;124mf\u001b[39m\u001b[38;5;124m\"\u001b[39m\u001b[38;5;124mSeries.\u001b[39m\u001b[38;5;132;01m{\u001b[39;00mname\u001b[38;5;132;01m}\u001b[39;00m\u001b[38;5;124m does not implement \u001b[39m\u001b[38;5;132;01m{\u001b[39;00mkwd_name\u001b[38;5;132;01m}\u001b[39;00m\u001b[38;5;124m.\u001b[39m\u001b[38;5;124m\"\u001b[39m\n\u001b[0;32m   4469\u001b[0m     )\n\u001b[0;32m   4470\u001b[0m \u001b[38;5;28;01mwith\u001b[39;00m np\u001b[38;5;241m.\u001b[39merrstate(\u001b[38;5;28mall\u001b[39m\u001b[38;5;241m=\u001b[39m\u001b[38;5;124m\"\u001b[39m\u001b[38;5;124mignore\u001b[39m\u001b[38;5;124m\"\u001b[39m):\n\u001b[1;32m-> 4471\u001b[0m     \u001b[38;5;28;01mreturn\u001b[39;00m \u001b[43mop\u001b[49m\u001b[43m(\u001b[49m\u001b[43mdelegate\u001b[49m\u001b[43m,\u001b[49m\u001b[43m \u001b[49m\u001b[43mskipna\u001b[49m\u001b[38;5;241;43m=\u001b[39;49m\u001b[43mskipna\u001b[49m\u001b[43m,\u001b[49m\u001b[43m \u001b[49m\u001b[38;5;241;43m*\u001b[39;49m\u001b[38;5;241;43m*\u001b[39;49m\u001b[43mkwds\u001b[49m\u001b[43m)\u001b[49m\n",
      "File \u001b[1;32m~\\anaconda3\\envs\\ada\\lib\\site-packages\\pandas\\core\\nanops.py:93\u001b[0m, in \u001b[0;36mdisallow.__call__.<locals>._f\u001b[1;34m(*args, **kwargs)\u001b[0m\n\u001b[0;32m     91\u001b[0m \u001b[38;5;28;01mtry\u001b[39;00m:\n\u001b[0;32m     92\u001b[0m     \u001b[38;5;28;01mwith\u001b[39;00m np\u001b[38;5;241m.\u001b[39merrstate(invalid\u001b[38;5;241m=\u001b[39m\u001b[38;5;124m\"\u001b[39m\u001b[38;5;124mignore\u001b[39m\u001b[38;5;124m\"\u001b[39m):\n\u001b[1;32m---> 93\u001b[0m         \u001b[38;5;28;01mreturn\u001b[39;00m \u001b[43mf\u001b[49m\u001b[43m(\u001b[49m\u001b[38;5;241;43m*\u001b[39;49m\u001b[43margs\u001b[49m\u001b[43m,\u001b[49m\u001b[43m \u001b[49m\u001b[38;5;241;43m*\u001b[39;49m\u001b[38;5;241;43m*\u001b[39;49m\u001b[43mkwargs\u001b[49m\u001b[43m)\u001b[49m\n\u001b[0;32m     94\u001b[0m \u001b[38;5;28;01mexcept\u001b[39;00m \u001b[38;5;167;01mValueError\u001b[39;00m \u001b[38;5;28;01mas\u001b[39;00m e:\n\u001b[0;32m     95\u001b[0m     \u001b[38;5;66;03m# we want to transform an object array\u001b[39;00m\n\u001b[0;32m     96\u001b[0m     \u001b[38;5;66;03m# ValueError message to the more typical TypeError\u001b[39;00m\n\u001b[0;32m     97\u001b[0m     \u001b[38;5;66;03m# e.g. this is normally a disallowed function on\u001b[39;00m\n\u001b[0;32m     98\u001b[0m     \u001b[38;5;66;03m# object arrays that contain strings\u001b[39;00m\n\u001b[0;32m     99\u001b[0m     \u001b[38;5;28;01mif\u001b[39;00m is_object_dtype(args[\u001b[38;5;241m0\u001b[39m]):\n",
      "File \u001b[1;32m~\\anaconda3\\envs\\ada\\lib\\site-packages\\pandas\\core\\nanops.py:146\u001b[0m, in \u001b[0;36mbottleneck_switch.__call__.<locals>.f\u001b[1;34m(values, axis, skipna, **kwds)\u001b[0m\n\u001b[0;32m    142\u001b[0m \u001b[38;5;28;01mif\u001b[39;00m kwds\u001b[38;5;241m.\u001b[39mget(\u001b[38;5;124m\"\u001b[39m\u001b[38;5;124mmask\u001b[39m\u001b[38;5;124m\"\u001b[39m, \u001b[38;5;28;01mNone\u001b[39;00m) \u001b[38;5;129;01mis\u001b[39;00m \u001b[38;5;28;01mNone\u001b[39;00m:\n\u001b[0;32m    143\u001b[0m     \u001b[38;5;66;03m# `mask` is not recognised by bottleneck, would raise\u001b[39;00m\n\u001b[0;32m    144\u001b[0m     \u001b[38;5;66;03m#  TypeError if called\u001b[39;00m\n\u001b[0;32m    145\u001b[0m     kwds\u001b[38;5;241m.\u001b[39mpop(\u001b[38;5;124m\"\u001b[39m\u001b[38;5;124mmask\u001b[39m\u001b[38;5;124m\"\u001b[39m, \u001b[38;5;28;01mNone\u001b[39;00m)\n\u001b[1;32m--> 146\u001b[0m     result \u001b[38;5;241m=\u001b[39m \u001b[43mbn_func\u001b[49m\u001b[43m(\u001b[49m\u001b[43mvalues\u001b[49m\u001b[43m,\u001b[49m\u001b[43m \u001b[49m\u001b[43maxis\u001b[49m\u001b[38;5;241;43m=\u001b[39;49m\u001b[43maxis\u001b[49m\u001b[43m,\u001b[49m\u001b[43m \u001b[49m\u001b[38;5;241;43m*\u001b[39;49m\u001b[38;5;241;43m*\u001b[39;49m\u001b[43mkwds\u001b[49m\u001b[43m)\u001b[49m\n\u001b[0;32m    148\u001b[0m     \u001b[38;5;66;03m# prefer to treat inf/-inf as NA, but must compute the func\u001b[39;00m\n\u001b[0;32m    149\u001b[0m     \u001b[38;5;66;03m# twice :(\u001b[39;00m\n\u001b[0;32m    150\u001b[0m     \u001b[38;5;28;01mif\u001b[39;00m _has_infs(result):\n",
      "\u001b[1;31mKeyboardInterrupt\u001b[0m: "
     ]
    }
   ],
   "source": [
    "metrics_avg = {'averageRating_adj' : 'grade_avg'}\n",
    "metrics_sum = {'averageRating_adj' : 'grade_sum'}\n",
    "\n",
    "for idx, (key, value) in enumerate(metrics_avg.items()):\n",
    "    print(idx)\n",
    "    lists_per_actor = it.groupby('actor').apply(lambda x : np.mean(x[key])).reindex(\n",
    "        index = actorMetrics['actor'].values)\n",
    "    actorMetrics[value] = lists_per_actor.values\n",
    "       \n",
    "for idx, (key, value) in enumerate(metrics_sum.items()):\n",
    "    print(idx)\n",
    "    lists_per_actor = it.groupby('actor').apply(lambda x : sum(x[key])).reindex(\n",
    "        index = actorMetrics['actor'].values)\n",
    "    actorMetrics[value] = lists_per_actor.values\n",
    "    \n",
    "    \n",
    "appearances_per_actor = it.groupby('actor')['title'].count().reindex(\n",
    "    index = actorMetrics['actor'].values).reset_index(drop = True)\n",
    "actorMetrics['appearances'] = appearances_per_actor"
   ]
  },
  {
   "cell_type": "code",
   "execution_count": 72,
   "id": "ac2aefbc-a3ca-4630-ab06-b234c108810d",
   "metadata": {},
   "outputs": [
    {
     "data": {
      "text/plain": [
       "227652"
      ]
     },
     "execution_count": 72,
     "metadata": {},
     "output_type": "execute_result"
    }
   ],
   "source": [
    "actors = actorMetrics\n",
    "len(actors)"
   ]
  },
  {
   "cell_type": "code",
   "execution_count": 73,
   "id": "f67a05d6-ac31-4cb5-9486-9a1fbc3d7dcf",
   "metadata": {},
   "outputs": [],
   "source": [
    "# lets get better parse on genres \n",
    "it['genres_corrected'] = it['genres'].apply(lambda x: str(x).split(',')[1::2])"
   ]
  },
  {
   "cell_type": "code",
   "execution_count": 89,
   "id": "e16b1cd8-6813-4276-a829-c83d6c1711d3",
   "metadata": {},
   "outputs": [],
   "source": [
    "genres_per_actor = it.groupby('actor').apply(\n",
    "    lambda x :pd.Series({'genres': x['genres_corrected'].values})).reindex(index = timeScores['actor'].values)\n",
    "\n",
    "timeScores['genres'] = genres_per_actor.values"
   ]
  },
  {
   "cell_type": "code",
   "execution_count": 90,
   "id": "3d239b86-e6b2-4165-b3ec-75fbf419b351",
   "metadata": {},
   "outputs": [],
   "source": [
    "genres_per_actor['genre_total'] = genres_per_actor['genres'].apply(lambda x : sum(x, [])).apply(\n",
    "    lambda x : ['NaN'] if len(x) == 0 else x)"
   ]
  },
  {
   "cell_type": "code",
   "execution_count": 91,
   "id": "bbb3fe94-8c98-49ab-b163-ab4aa0c76383",
   "metadata": {},
   "outputs": [],
   "source": [
    "genres_per_actor['count_values'] = genres_per_actor['genre_total'].apply(\n",
    "    lambda x : pd.DataFrame(pd.DataFrame({'gen' : x}).groupby(by = 'gen').size(), \n",
    "    columns = ['count']).sort_values(by = 'count', ascending = False)['count'].values)"
   ]
  },
  {
   "cell_type": "code",
   "execution_count": 92,
   "id": "ec15ee4a-a90e-4ec6-903b-da109df9819e",
   "metadata": {},
   "outputs": [],
   "source": [
    "genres_per_actor['unique_genres_order'] = genres_per_actor['genre_total'].apply(\n",
    "    lambda x : pd.DataFrame(pd.DataFrame({'gen' : x}).groupby(by = 'gen').size(), \n",
    "    columns = ['count']).sort_values(by = 'count', ascending = False).index.tolist())"
   ]
  },
  {
   "cell_type": "code",
   "execution_count": 93,
   "id": "2603a342-3d59-45e5-bee6-cc1c08813601",
   "metadata": {},
   "outputs": [],
   "source": [
    "genres_per_actor['main'] = genres_per_actor['unique_genres_order'].apply(lambda x : x[0])\n",
    "genres_per_actor['secondary'] = genres_per_actor['unique_genres_order'].apply(\n",
    "    lambda x : x[1] if len(x) > 1 else None)"
   ]
  },
  {
   "cell_type": "code",
   "execution_count": 94,
   "id": "30cde0c9-a50a-4d08-8204-6fbd1bef4392",
   "metadata": {},
   "outputs": [],
   "source": [
    "genres_to_merge = genres_per_actor.reset_index(drop = True)"
   ]
  },
  {
   "cell_type": "code",
   "execution_count": 151,
   "id": "e52ad9f4-88e7-4bba-b888-e0feec7a91c8",
   "metadata": {},
   "outputs": [
    {
     "data": {
      "text/html": [
       "<div>\n",
       "<style scoped>\n",
       "    .dataframe tbody tr th:only-of-type {\n",
       "        vertical-align: middle;\n",
       "    }\n",
       "\n",
       "    .dataframe tbody tr th {\n",
       "        vertical-align: top;\n",
       "    }\n",
       "\n",
       "    .dataframe thead th {\n",
       "        text-align: right;\n",
       "    }\n",
       "</style>\n",
       "<table border=\"1\" class=\"dataframe\">\n",
       "  <thead>\n",
       "    <tr style=\"text-align: right;\">\n",
       "      <th></th>\n",
       "      <th>genres</th>\n",
       "      <th>genre_total</th>\n",
       "      <th>count_values</th>\n",
       "      <th>unique_genres_order</th>\n",
       "      <th>main</th>\n",
       "      <th>secondary</th>\n",
       "    </tr>\n",
       "    <tr>\n",
       "      <th>actor</th>\n",
       "      <th></th>\n",
       "      <th></th>\n",
       "      <th></th>\n",
       "      <th></th>\n",
       "      <th></th>\n",
       "      <th></th>\n",
       "    </tr>\n",
       "  </thead>\n",
       "  <tbody>\n",
       "    <tr>\n",
       "      <th>Bruce_Willis</th>\n",
       "      <td>[[Romance], [Romance], [Thriller], [Mystery], ...</td>\n",
       "      <td>[Romance, Romance, Thriller, Mystery, Mystery,...</td>\n",
       "      <td>[40, 31, 20, 10, 9, 8, 7, 3, 3, 2, 1, 1, 1]</td>\n",
       "      <td>[Thriller, Crime, Drama, Adventure, Comedy, My...</td>\n",
       "      <td>Thriller</td>\n",
       "      <td>Crime</td>\n",
       "    </tr>\n",
       "  </tbody>\n",
       "</table>\n",
       "</div>"
      ],
      "text/plain": [
       "                                                         genres  \\\n",
       "actor                                                             \n",
       "Bruce_Willis  [[Romance], [Romance], [Thriller], [Mystery], ...   \n",
       "\n",
       "                                                    genre_total  \\\n",
       "actor                                                             \n",
       "Bruce_Willis  [Romance, Romance, Thriller, Mystery, Mystery,...   \n",
       "\n",
       "                                             count_values  \\\n",
       "actor                                                       \n",
       "Bruce_Willis  [40, 31, 20, 10, 9, 8, 7, 3, 3, 2, 1, 1, 1]   \n",
       "\n",
       "                                            unique_genres_order      main  \\\n",
       "actor                                                                       \n",
       "Bruce_Willis  [Thriller, Crime, Drama, Adventure, Comedy, My...  Thriller   \n",
       "\n",
       "             secondary  \n",
       "actor                   \n",
       "Bruce_Willis     Crime  "
      ]
     },
     "execution_count": 151,
     "metadata": {},
     "output_type": "execute_result"
    }
   ],
   "source": [
    "genres_per_actor.query('actor == \"Bruce_Willis\"')"
   ]
  },
  {
   "cell_type": "code",
   "execution_count": 144,
   "id": "adeedb91-5abb-4507-9169-60020c030fff",
   "metadata": {},
   "outputs": [],
   "source": [
    "directors_per_actor = it.groupby('actor').apply(\n",
    "    lambda x :pd.Series({'Director': x['Director'].values})).reindex(index = timeScores['actor'].values)\n",
    "\n",
    "timeScores['Director'] = directors_per_actor.values"
   ]
  },
  {
   "cell_type": "code",
   "execution_count": 156,
   "id": "b5581622-40ac-41a0-8ff2-c1feac016cb8",
   "metadata": {},
   "outputs": [],
   "source": [
    "directors_per_actor['unique_directors_order'] = directors_per_actor['Director'].apply(\n",
    "    lambda x : pd.DataFrame(pd.DataFrame({'dir' : x}).groupby(by = 'dir').size(), \n",
    "    columns = ['count']).sort_values(by = 'count', ascending = False).index.tolist())"
   ]
  },
  {
   "cell_type": "code",
   "execution_count": 157,
   "id": "6fc2a4c3-14dc-40b9-bd66-48c31bdce141",
   "metadata": {},
   "outputs": [],
   "source": [
    "directors_per_actor['main'] = directors_per_actor['unique_directors_order'].apply(lambda x : x[0])\n",
    "directors_per_actor['secondary'] = directors_per_actor['unique_directors_order'].apply(\n",
    "    lambda x : x[1] if len(x) > 1 else None)"
   ]
  },
  {
   "cell_type": "code",
   "execution_count": 158,
   "id": "7aa83028-7b37-48d2-8a2c-17d620522337",
   "metadata": {},
   "outputs": [],
   "source": [
    "directors_to_merge = directors_per_actor.reset_index(drop = True)"
   ]
  },
  {
   "cell_type": "code",
   "execution_count": 159,
   "id": "c84e8245-a955-43da-a36a-dbb4883a1683",
   "metadata": {},
   "outputs": [],
   "source": [
    "timeScores['genres'] = genres_to_merge['unique_genres_order']\n",
    "timeScores['genre_count'] = genres_to_merge['count_values']\n",
    "\n",
    "actors['main_genre'] = genres_to_merge['main']\n",
    "actors['2nd_genre'] = genres_to_merge['secondary']\n",
    "actors['director'] = directors_to_merge['main']\n",
    "actors['2nd_director'] = directors_to_merge['secondary']"
   ]
  },
  {
   "cell_type": "code",
   "execution_count": 2,
   "id": "7f4e132c-0cf8-4fbd-9ff0-17f6e4d4126c",
   "metadata": {},
   "outputs": [],
   "source": [
    "actors = pd.read_csv('../data/actors_us.csv')"
   ]
  },
  {
   "cell_type": "code",
   "execution_count": 6,
   "id": "a2ad0ac8-a044-4aaf-93d5-9b49a1b4f809",
   "metadata": {},
   "outputs": [],
   "source": [
    "actors.dropna(subset=['birth_year'],inplace=True)"
   ]
  },
  {
   "cell_type": "code",
   "execution_count": 7,
   "id": "52c9a419-f142-4fa8-b91f-22c9ea2d68df",
   "metadata": {},
   "outputs": [
    {
     "data": {
      "text/html": [
       "<div>\n",
       "<style scoped>\n",
       "    .dataframe tbody tr th:only-of-type {\n",
       "        vertical-align: middle;\n",
       "    }\n",
       "\n",
       "    .dataframe tbody tr th {\n",
       "        vertical-align: top;\n",
       "    }\n",
       "\n",
       "    .dataframe thead th {\n",
       "        text-align: right;\n",
       "    }\n",
       "</style>\n",
       "<table border=\"1\" class=\"dataframe\">\n",
       "  <thead>\n",
       "    <tr style=\"text-align: right;\">\n",
       "      <th></th>\n",
       "      <th>Unnamed: 0.1</th>\n",
       "      <th>Unnamed: 0</th>\n",
       "      <th>actor</th>\n",
       "      <th>grade_avg</th>\n",
       "      <th>grade_sum</th>\n",
       "      <th>appearances</th>\n",
       "      <th>main_genre</th>\n",
       "      <th>2nd_genre</th>\n",
       "      <th>director</th>\n",
       "      <th>2nd_director</th>\n",
       "      <th>gender</th>\n",
       "      <th>year_avg</th>\n",
       "      <th>treatment</th>\n",
       "      <th>birth_year</th>\n",
       "    </tr>\n",
       "  </thead>\n",
       "  <tbody>\n",
       "    <tr>\n",
       "      <th>0</th>\n",
       "      <td>0</td>\n",
       "      <td>0</td>\n",
       "      <td>William_Courtenay</td>\n",
       "      <td>1.961308</td>\n",
       "      <td>5.883925</td>\n",
       "      <td>3</td>\n",
       "      <td>Drama</td>\n",
       "      <td>NaN</td>\n",
       "      <td>John_G._Adolfi</td>\n",
       "      <td>Alexander_Black</td>\n",
       "      <td>M</td>\n",
       "      <td>2007.0</td>\n",
       "      <td>0</td>\n",
       "      <td>1899.0</td>\n",
       "    </tr>\n",
       "    <tr>\n",
       "      <th>1</th>\n",
       "      <td>3</td>\n",
       "      <td>3</td>\n",
       "      <td>John_Tait</td>\n",
       "      <td>2.708095</td>\n",
       "      <td>2.708095</td>\n",
       "      <td>1</td>\n",
       "      <td>Adventure</td>\n",
       "      <td>NaN</td>\n",
       "      <td>Charles_Tait</td>\n",
       "      <td>NaN</td>\n",
       "      <td>M</td>\n",
       "      <td>1951.0</td>\n",
       "      <td>0</td>\n",
       "      <td>1949.0</td>\n",
       "    </tr>\n",
       "    <tr>\n",
       "      <th>2</th>\n",
       "      <td>4</td>\n",
       "      <td>4</td>\n",
       "      <td>Nicholas_Brierley</td>\n",
       "      <td>2.708095</td>\n",
       "      <td>2.708095</td>\n",
       "      <td>1</td>\n",
       "      <td>Adventure</td>\n",
       "      <td>NaN</td>\n",
       "      <td>Charles_Tait</td>\n",
       "      <td>NaN</td>\n",
       "      <td>M</td>\n",
       "      <td>1937.0</td>\n",
       "      <td>0</td>\n",
       "      <td>1918.0</td>\n",
       "    </tr>\n",
       "    <tr>\n",
       "      <th>3</th>\n",
       "      <td>5</td>\n",
       "      <td>5</td>\n",
       "      <td>Norman_Campbell</td>\n",
       "      <td>2.708095</td>\n",
       "      <td>2.708095</td>\n",
       "      <td>1</td>\n",
       "      <td>Adventure</td>\n",
       "      <td>NaN</td>\n",
       "      <td>Charles_Tait</td>\n",
       "      <td>NaN</td>\n",
       "      <td>F</td>\n",
       "      <td>1937.2</td>\n",
       "      <td>0</td>\n",
       "      <td>1915.0</td>\n",
       "    </tr>\n",
       "    <tr>\n",
       "      <th>4</th>\n",
       "      <td>6</td>\n",
       "      <td>6</td>\n",
       "      <td>Elizabeth_Tait</td>\n",
       "      <td>2.708095</td>\n",
       "      <td>2.708095</td>\n",
       "      <td>1</td>\n",
       "      <td>Adventure</td>\n",
       "      <td>NaN</td>\n",
       "      <td>Charles_Tait</td>\n",
       "      <td>NaN</td>\n",
       "      <td>M</td>\n",
       "      <td>2016.0</td>\n",
       "      <td>0</td>\n",
       "      <td>1899.0</td>\n",
       "    </tr>\n",
       "    <tr>\n",
       "      <th>...</th>\n",
       "      <td>...</td>\n",
       "      <td>...</td>\n",
       "      <td>...</td>\n",
       "      <td>...</td>\n",
       "      <td>...</td>\n",
       "      <td>...</td>\n",
       "      <td>...</td>\n",
       "      <td>...</td>\n",
       "      <td>...</td>\n",
       "      <td>...</td>\n",
       "      <td>...</td>\n",
       "      <td>...</td>\n",
       "      <td>...</td>\n",
       "      <td>...</td>\n",
       "    </tr>\n",
       "    <tr>\n",
       "      <th>62698</th>\n",
       "      <td>89495</td>\n",
       "      <td>89495</td>\n",
       "      <td>Geremy_Dingle</td>\n",
       "      <td>0.969919</td>\n",
       "      <td>0.969919</td>\n",
       "      <td>1</td>\n",
       "      <td>Adventure</td>\n",
       "      <td>NaN</td>\n",
       "      <td>A._Raven_Cruz</td>\n",
       "      <td>NaN</td>\n",
       "      <td>M</td>\n",
       "      <td>2004.0</td>\n",
       "      <td>0</td>\n",
       "      <td>1975.0</td>\n",
       "    </tr>\n",
       "    <tr>\n",
       "      <th>62699</th>\n",
       "      <td>89496</td>\n",
       "      <td>89496</td>\n",
       "      <td>Samantha_Brooke</td>\n",
       "      <td>0.969919</td>\n",
       "      <td>0.969919</td>\n",
       "      <td>1</td>\n",
       "      <td>Adventure</td>\n",
       "      <td>NaN</td>\n",
       "      <td>A._Raven_Cruz</td>\n",
       "      <td>NaN</td>\n",
       "      <td>M</td>\n",
       "      <td>2013.0</td>\n",
       "      <td>0</td>\n",
       "      <td>1980.0</td>\n",
       "    </tr>\n",
       "    <tr>\n",
       "      <th>62700</th>\n",
       "      <td>89500</td>\n",
       "      <td>89500</td>\n",
       "      <td>Daniel_Sauli</td>\n",
       "      <td>2.396032</td>\n",
       "      <td>9.584128</td>\n",
       "      <td>4</td>\n",
       "      <td>Drama</td>\n",
       "      <td>NaN</td>\n",
       "      <td>Kevin_Jordan</td>\n",
       "      <td>Jeremy_Davidson</td>\n",
       "      <td>M</td>\n",
       "      <td>2020.0</td>\n",
       "      <td>1</td>\n",
       "      <td>1984.0</td>\n",
       "    </tr>\n",
       "    <tr>\n",
       "      <th>62701</th>\n",
       "      <td>89501</td>\n",
       "      <td>89501</td>\n",
       "      <td>Max_Baker</td>\n",
       "      <td>3.146283</td>\n",
       "      <td>9.438849</td>\n",
       "      <td>3</td>\n",
       "      <td>Drama</td>\n",
       "      <td>Romance</td>\n",
       "      <td>Edward_Burns</td>\n",
       "      <td>NaN</td>\n",
       "      <td>M</td>\n",
       "      <td>2013.0</td>\n",
       "      <td>0</td>\n",
       "      <td>2006.0</td>\n",
       "    </tr>\n",
       "    <tr>\n",
       "      <th>62702</th>\n",
       "      <td>89507</td>\n",
       "      <td>89507</td>\n",
       "      <td>Taylor_Kitsch</td>\n",
       "      <td>4.999519</td>\n",
       "      <td>54.994706</td>\n",
       "      <td>11</td>\n",
       "      <td>Adventure</td>\n",
       "      <td>Biography</td>\n",
       "      <td>Andrew_Stanton</td>\n",
       "      <td>Renny_Harlin</td>\n",
       "      <td>F</td>\n",
       "      <td>1998.0</td>\n",
       "      <td>1</td>\n",
       "      <td>1996.0</td>\n",
       "    </tr>\n",
       "  </tbody>\n",
       "</table>\n",
       "<p>62703 rows × 14 columns</p>\n",
       "</div>"
      ],
      "text/plain": [
       "       Unnamed: 0.1  Unnamed: 0              actor  grade_avg  grade_sum  \\\n",
       "0                 0           0  William_Courtenay   1.961308   5.883925   \n",
       "1                 3           3          John_Tait   2.708095   2.708095   \n",
       "2                 4           4  Nicholas_Brierley   2.708095   2.708095   \n",
       "3                 5           5    Norman_Campbell   2.708095   2.708095   \n",
       "4                 6           6     Elizabeth_Tait   2.708095   2.708095   \n",
       "...             ...         ...                ...        ...        ...   \n",
       "62698         89495       89495      Geremy_Dingle   0.969919   0.969919   \n",
       "62699         89496       89496    Samantha_Brooke   0.969919   0.969919   \n",
       "62700         89500       89500       Daniel_Sauli   2.396032   9.584128   \n",
       "62701         89501       89501          Max_Baker   3.146283   9.438849   \n",
       "62702         89507       89507      Taylor_Kitsch   4.999519  54.994706   \n",
       "\n",
       "       appearances main_genre  2nd_genre        director     2nd_director  \\\n",
       "0                3      Drama        NaN  John_G._Adolfi  Alexander_Black   \n",
       "1                1  Adventure        NaN    Charles_Tait              NaN   \n",
       "2                1  Adventure        NaN    Charles_Tait              NaN   \n",
       "3                1  Adventure        NaN    Charles_Tait              NaN   \n",
       "4                1  Adventure        NaN    Charles_Tait              NaN   \n",
       "...            ...        ...        ...             ...              ...   \n",
       "62698            1  Adventure        NaN   A._Raven_Cruz              NaN   \n",
       "62699            1  Adventure        NaN   A._Raven_Cruz              NaN   \n",
       "62700            4      Drama        NaN    Kevin_Jordan  Jeremy_Davidson   \n",
       "62701            3      Drama    Romance    Edward_Burns              NaN   \n",
       "62702           11  Adventure  Biography  Andrew_Stanton     Renny_Harlin   \n",
       "\n",
       "      gender  year_avg  treatment  birth_year  \n",
       "0          M    2007.0          0      1899.0  \n",
       "1          M    1951.0          0      1949.0  \n",
       "2          M    1937.0          0      1918.0  \n",
       "3          F    1937.2          0      1915.0  \n",
       "4          M    2016.0          0      1899.0  \n",
       "...      ...       ...        ...         ...  \n",
       "62698      M    2004.0          0      1975.0  \n",
       "62699      M    2013.0          0      1980.0  \n",
       "62700      M    2020.0          1      1984.0  \n",
       "62701      M    2013.0          0      2006.0  \n",
       "62702      F    1998.0          1      1996.0  \n",
       "\n",
       "[62703 rows x 14 columns]"
      ]
     },
     "execution_count": 7,
     "metadata": {},
     "output_type": "execute_result"
    }
   ],
   "source": [
    "actors"
   ]
  },
  {
   "cell_type": "code",
   "execution_count": 8,
   "id": "358e873b-b0b3-435d-9116-4f18ffa58006",
   "metadata": {},
   "outputs": [
    {
     "data": {
      "text/plain": [
       "62703"
      ]
     },
     "execution_count": 8,
     "metadata": {},
     "output_type": "execute_result"
    }
   ],
   "source": [
    "len(actors)"
   ]
  },
  {
   "cell_type": "code",
   "execution_count": 7,
   "id": "9d485409-c130-455a-ba0b-9f4f5eb0f2df",
   "metadata": {},
   "outputs": [],
   "source": [
    "#actors = actors[actors['main_genre'] != 'NaN']"
   ]
  },
  {
   "cell_type": "code",
   "execution_count": null,
   "id": "ad79df89-524b-4705-9a54-3e0356f59fb2",
   "metadata": {},
   "outputs": [],
   "source": []
  },
  {
   "cell_type": "code",
   "execution_count": null,
   "id": "d9706441-504a-493c-8fac-d7488a1907f5",
   "metadata": {},
   "outputs": [],
   "source": []
  },
  {
   "cell_type": "code",
   "execution_count": 8,
   "id": "dd446b86-3942-4236-b128-dfef49001091",
   "metadata": {},
   "outputs": [],
   "source": [
    "#actors['birthdate'] = pd.to_datetime(actors['birthdate']).dt.year\n",
    "#actors['log_revenue'] = actors['revenue_avg'].apply('log')"
   ]
  },
  {
   "cell_type": "markdown",
   "id": "3068160d-7b4a-4094-b4ef-403bca742baf",
   "metadata": {},
   "source": [
    "At first, the correlation between budgets and revenues is proved. This will allow us to use revenues as a solid metric for identifying successful actors later on.\n",
    "\n",
    "Profits are not directly used are a metric for success because of the lack of budget data from the IMDb movie dataset. Anyway, even if direct revenues can slightly influence the outputs, they are not to be ignored, because they provide useful information on movie success and popularity."
   ]
  },
  {
   "cell_type": "code",
   "execution_count": 6,
   "id": "369a210b-40d0-435d-93f8-1e886ccc46ed",
   "metadata": {},
   "outputs": [],
   "source": [
    "#group by movie\n",
    "budg = data_profit.groupby('Movie_name')['budget','Movie_box_office_revenue'].mean()"
   ]
  },
  {
   "cell_type": "markdown",
   "id": "3dd2e071-9648-4457-bf06-3afcce37ab2d",
   "metadata": {},
   "source": [
    "Pearson's and Spearman's correlations are used to capture the correlation between the two parameters. It is clear that the is a high linear correlation because of the results shown below."
   ]
  },
  {
   "cell_type": "code",
   "execution_count": 7,
   "id": "a9ed301c-245f-46e7-b718-a26d89b4d312",
   "metadata": {},
   "outputs": [
    {
     "data": {
      "text/plain": [
       "PearsonRResult(statistic=0.6579146048455062, pvalue=0.0)"
      ]
     },
     "execution_count": 7,
     "metadata": {},
     "output_type": "execute_result"
    }
   ],
   "source": [
    "stats.pearsonr(budg['budget'],budg['Movie_box_office_revenue']) #pearson correlation"
   ]
  },
  {
   "cell_type": "code",
   "execution_count": 8,
   "id": "dfd3a17f-55dc-445c-bfc5-b65bc6551e8c",
   "metadata": {},
   "outputs": [
    {
     "data": {
      "text/plain": [
       "SpearmanrResult(correlation=0.6470644194502557, pvalue=0.0)"
      ]
     },
     "execution_count": 8,
     "metadata": {},
     "output_type": "execute_result"
    }
   ],
   "source": [
    "stats.spearmanr(budg['budget'],budg['Movie_box_office_revenue']) #spearman correlation"
   ]
  },
  {
   "cell_type": "code",
   "execution_count": 9,
   "id": "a715425e-256a-430e-b3a6-37a53425e3ae",
   "metadata": {},
   "outputs": [],
   "source": [
    "#linear correlation plot (e.g., pearson)\n",
    "#sns.lmplot('budget','Movie_box_office_revenue', data=budg)"
   ]
  },
  {
   "cell_type": "markdown",
   "id": "d8a274bc-1955-4226-9133-d82c7d84d5d0",
   "metadata": {},
   "source": [
    "The treatment and control group of the observational study will be identified by the number of times actors starred in movies. The assumption is that successful actors keep acting, while the career of less-successfull ones ends early. This hypothesis is supported by the rich-get-richer mechanism, for which successful actors keep starring with other successful actors, making them even more successful and naturally generating a power law in the appearances distribution.\n",
    "\n",
    "Just as normal distributions arise from many independent random decisions averaging out, we power laws arise from the feedback introduced by correlated decisions across a population.\n",
    "\n",
    "Source:\n",
    "Networks, Crowds, and Markets: Reasoning about a Highly Connected World.\n",
    "By David Easley and Jon Kleinberg. Cambridge University Press, 2010.\n",
    "http://www.cs.cornell.edu/home/kleinber/networks-book/"
   ]
  },
  {
   "cell_type": "markdown",
   "id": "759c5e97-52ae-4c16-827b-ae50f51b8a64",
   "metadata": {},
   "source": [
    "Thedistribution of the number of appearances is shown below. The distribution is a power law because it is represented by a straight line in bi-logarithmic axes (it is linear in the log domain)."
   ]
  },
  {
   "cell_type": "code",
   "execution_count": 167,
   "id": "80f2edfd-e7d4-4d17-8a51-90bd39e38e73",
   "metadata": {},
   "outputs": [
    {
     "data": {
      "image/png": "[encoded data removed]",
      "text/plain": [
       "<Figure size 800x300 with 2 Axes>"
      ]
     },
     "metadata": {},
     "output_type": "display_data"
    }
   ],
   "source": [
    "#2 subplots\n",
    "fig, ax = plt.subplots(1,2, figsize=(8,3))\n",
    "\n",
    "#group by number of appearances and sort\n",
    "act = actors.groupby('appearances')['appearances'].count().sort_values(ascending=False)\n",
    "\n",
    "sbplt = ax[0]\n",
    "sbplt.hist(actors.appearances, bins=30)\n",
    "sbplt.set_title('Linear axes')\n",
    "sbplt.set_xlabel('Number of appearances')\n",
    "sbplt.set_ylabel('N')\n",
    "\n",
    "sbplt = ax[1]\n",
    "sbplt.loglog(act.index,act.values)\n",
    "sbplt.set_title('Logarithmic axes')\n",
    "sbplt.set_xlabel('Number of appearances')\n",
    "    \n",
    "fig.tight_layout()\n",
    "plt.savefig('../figures/power_law.png', bbox_inches='tight')\n",
    "plt.show()"
   ]
  },
  {
   "cell_type": "markdown",
   "id": "91edd85a-cf1c-4636-a29f-bdfccf336bd1",
   "metadata": {},
   "source": [
    "The appearances distribution split by gender shows differences between actors and actresses career. The trends are similar (power-law distributions), but there are systematic differences between the two. Moreover, the percentage of actresses is lower than the percentage of actors in the dataset (36%)\n",
    "This is a possible confounder to be tackled when conducting the observational study.\n",
    "\n",
    "In the second graphs below (semilogarithmic y axis), the power law is further confirmed by its typical exponential tail, due to the fact that the considered system has a finite size. A Kolmogorov–Smirnov test is performed to actually verify that the tail is exponential and therefore that we are dealing with a power law. The test is performed on appearances belonging to the interval $[2,10]$, given that 1 is a clear outlier.\n",
    "\n",
    "Source: O. E. Williams, L. Lacasa & V. Latora, Quantifying and predicting success in show business, Nature Communications, 2019. https://doi.org/10.1038/s41467-019-10213-0"
   ]
  },
  {
   "cell_type": "code",
   "execution_count": 168,
   "id": "7390b9c9-bd8a-4ac0-84ed-5b848111795d",
   "metadata": {},
   "outputs": [],
   "source": [
    "actors1 = actors[actors['appearances'] > 1]"
   ]
  },
  {
   "cell_type": "code",
   "execution_count": 169,
   "id": "efde1b38-fe56-483b-bf63-e6f4f2104eb6",
   "metadata": {},
   "outputs": [],
   "source": [
    "#split into actors/actresses\n",
    "dt1 = actors[actors['gender'] == 'M']\n",
    "dt2 = actors[actors['gender'] == 'F']\n",
    "\n",
    "#group by number of appearances and sort\n",
    "act1 = dt1.groupby('appearances')['appearances'].count().sort_values(ascending=False)\n",
    "act2 = dt2.groupby('appearances')['appearances'].count().sort_values(ascending=False)"
   ]
  },
  {
   "cell_type": "code",
   "execution_count": 170,
   "id": "3b8fd318-6de9-4724-9dd4-adbbd9d6d329",
   "metadata": {},
   "outputs": [
    {
     "name": "stdout",
     "output_type": "stream",
     "text": [
      "0.3951645056855334\n"
     ]
    }
   ],
   "source": [
    "#fraction of actresses in the dataset\n",
    "print(len(dt2)/len(actors))"
   ]
  },
  {
   "cell_type": "code",
   "execution_count": 171,
   "id": "79118e42-3e0a-49f4-92cc-01a46b84099a",
   "metadata": {},
   "outputs": [
    {
     "data": {
      "text/plain": [
       "62703"
      ]
     },
     "execution_count": 171,
     "metadata": {},
     "output_type": "execute_result"
    }
   ],
   "source": [
    "len(actors)"
   ]
  },
  {
   "cell_type": "markdown",
   "id": "c01ad8a5-f32b-4f3c-b0bd-5fc6c4e1e93a",
   "metadata": {},
   "source": [
    "The results of the Kolmogorov–Smirnov test are diplayed in the cell below, for the overall dataset and for the two datasets split on gender. The p-values are larger than 0.05, therefore the null-hypothesis of the distributions being exponential cannot be rejected."
   ]
  },
  {
   "cell_type": "code",
   "execution_count": 172,
   "id": "473dcd40-131a-4c75-8c52-ce383930290f",
   "metadata": {},
   "outputs": [
    {
     "name": "stdout",
     "output_type": "stream",
     "text": [
      "Overall dataset: (0.29718720994901426, 0.19221616388052742)\n",
      "Actors dataset: (0.2995158474654613, 0.18509461865372379)\n",
      "Actresses dataset: (0.29360285359077093, 0.2031780056158432)\n"
     ]
    }
   ],
   "source": [
    "#kolmogorov-smirnov test for exponential distribution\n",
    "from statsmodels.stats import diagnostic\n",
    "\n",
    "print('Overall dataset: ' + str(diagnostic.kstest_normal(act.values[2:10], dist = 'exp'))) #overall dataset\n",
    "print('Actors dataset: ' + str(diagnostic.kstest_normal(act1.values[2:10], dist = 'exp'))) #actors dataset\n",
    "print('Actresses dataset: ' + str(diagnostic.kstest_normal(act2.values[2:10], dist = 'exp'))) #actresses dataset"
   ]
  },
  {
   "cell_type": "code",
   "execution_count": 173,
   "id": "be2feb8d-d43e-4887-a393-a40e65af3a0a",
   "metadata": {},
   "outputs": [
    {
     "data": {
      "image/png": "[encoded data removed]",
      "text/plain": [
       "<Figure size 800x300 with 2 Axes>"
      ]
     },
     "metadata": {},
     "output_type": "display_data"
    }
   ],
   "source": [
    "#2 subplots\n",
    "fig, ax = plt.subplots(1,2, figsize=(8,3))\n",
    "\n",
    "sbplt = ax[0]\n",
    "sbplt.loglog(act1.index,act1.values, label='actors')\n",
    "sbplt.loglog(act2.index,act2.values, label='actresses')\n",
    "sbplt.set_title('Bilogarithmic axes')\n",
    "sbplt.set_xlabel('Number of appearances')\n",
    "sbplt.legend()\n",
    "\n",
    "sbplt = ax[1]\n",
    "sbplt.semilogy(act1.index,act1.values, label='actors')\n",
    "sbplt.semilogy(act2.index,act2.values, label='actresses')\n",
    "sbplt.set_xlim((0,150))\n",
    "sbplt.set_title('Semilogarithmic y axis')\n",
    "sbplt.set_xlabel('Number of appearances')\n",
    "sbplt.legend()\n",
    "\n",
    "fig.tight_layout()\n",
    "plt.savefig('../figures/pow_gender.png', bbox_inches='tight')\n",
    "plt.show()"
   ]
  },
  {
   "cell_type": "markdown",
   "id": "79698ee5-f1d8-45f9-8485-f03d70cb37b1",
   "metadata": {},
   "source": [
    "To prove the statistical significance of the gender bias in the distribution, two exponential fittings are implemented in the tails of the distribution and compared with a fitting on the overall dataset. "
   ]
  },
  {
   "cell_type": "markdown",
   "id": "ac77ce44-ca9f-413e-9139-6d43cfd61ce8",
   "metadata": {},
   "source": [
    "An Mann-Whitney U test is also performed to verify if the difference between the distributions of datasets split on gender is statistically significant. The resulting p-values are lower than the imposed threshold (0.05), therefore the null hypothesis that the averages are equal is rejected. There is a gender bias in the dataset."
   ]
  },
  {
   "cell_type": "code",
   "execution_count": 174,
   "id": "9461677c-8b8b-4b13-ba21-6dd2cdbcc300",
   "metadata": {},
   "outputs": [
    {
     "data": {
      "text/plain": [
       "MannwhitneyuResult(statistic=475461340.5, pvalue=0.009399126999894725)"
      ]
     },
     "execution_count": 174,
     "metadata": {},
     "output_type": "execute_result"
    }
   ],
   "source": [
    "#appearances of actors/actresses\n",
    "stats.mannwhitneyu(dt1.appearances, dt2.appearances) #independent test"
   ]
  },
  {
   "cell_type": "markdown",
   "id": "a4156eaf-59eb-46e0-9fc7-9a20099b3dca",
   "metadata": {},
   "source": [
    "Moreover, from the following bar plots, there is a visible gender difference in average appearances and ratings in the movies the actors starred in (also accounting for the 95% confidence intervals). However, in terms of ratings in the movie they starred in, there seems to be no significant difference."
   ]
  },
  {
   "cell_type": "code",
   "execution_count": 175,
   "id": "10f4d98c-865d-4aa5-9fc1-b2bf817ae020",
   "metadata": {},
   "outputs": [
    {
     "data": {
      "image/png": "[encoded data removed]",
      "text/plain": [
       "<Figure size 1100x400 with 2 Axes>"
      ]
     },
     "metadata": {},
     "output_type": "display_data"
    }
   ],
   "source": [
    "#bar plot with 95% confidence intervals\n",
    "import seaborn as sns\n",
    "\n",
    "#3 subplots\n",
    "fig, ax = plt.subplots(1,2, figsize=(11,4))\n",
    "\n",
    "sbplt = ax[0]\n",
    "sns.barplot(ax=ax[0], x=\"gender\", y=\"appearances\", data=actors)\n",
    "sbplt.set_ylabel('Career appearances')\n",
    "sbplt.set_xlabel('')\n",
    "\n",
    "sbplt = ax[1]\n",
    "sns.barplot(ax=ax[1], x=\"gender\", y=\"grade_avg\", data=actors)\n",
    "sbplt.set_ylabel('Average movie ratings')\n",
    "sbplt.set_xlabel('')\n",
    "    \n",
    "#fig.tight_layout()\n",
    "plt.rcParams.update({'font.size': 10})\n",
    "plt.savefig('../figures/gender1.png', bbox_inches='tight')\n",
    "fig.suptitle('Gender analysis on initial dataset')\n",
    "plt.show()"
   ]
  },
  {
   "cell_type": "markdown",
   "id": "e934f301-9e0d-4a7f-998c-b39ee7466e79",
   "metadata": {},
   "source": [
    "Supported by rich-get-richer mechanism assumption, the treatment group will be the group with the higher number of appearances. We want to capture the influence of different factors on the productivity of actors' careers (the fact that they keep acting). The splitting of the dataset will be carried out based on the median of the distribution, more representative than the mean when considering skewed distributions.\n",
    "\n",
    "Of course, younger actors may have lower number of appearances only because they are at the beginning of their career. This possible confounder must be considered in the study and the birthdate of the actors is taken into account in the propensity score matching."
   ]
  },
  {
   "cell_type": "code",
   "execution_count": 47,
   "id": "cbd8c11c-ec75-4178-b6b4-4ffcde69266e",
   "metadata": {},
   "outputs": [
    {
     "name": "stdout",
     "output_type": "stream",
     "text": [
      "The median of the distribution is 2.0\n",
      "The mean of the distribution is 6.075626365564646\n"
     ]
    }
   ],
   "source": [
    "#median\n",
    "print('The median of the distribution is ' + str(np.median(actors.appearances)))\n",
    "print('The mean of the distribution is ' + str(np.mean(actors.appearances)))"
   ]
  },
  {
   "cell_type": "code",
   "execution_count": 79,
   "id": "7120e96e-865e-4d2f-a798-c1356455af12",
   "metadata": {},
   "outputs": [
    {
     "name": "stdout",
     "output_type": "stream",
     "text": [
      "7.0\n"
     ]
    }
   ],
   "source": [
    "threshold = np.percentile(actors.appearances,80)\n",
    "print(threshold)"
   ]
  },
  {
   "cell_type": "code",
   "execution_count": 49,
   "id": "5e7df064-8c7a-4e2e-bdb6-d3f78ed10f13",
   "metadata": {},
   "outputs": [],
   "source": [
    "#split into treatment and control groups\n",
    "actors['treatment'] = (actors['appearances'] > threshold).astype(int)"
   ]
  },
  {
   "cell_type": "markdown",
   "id": "107b3a21-7b10-4956-9810-3467fa7db6c9",
   "metadata": {},
   "source": [
    "To limit the effect of confounders, the individuals of the groups will be matched on propensity score, namely the probability of being in the treatment group based on observed covariates. The considered observed covariates will be:\n",
    "\n",
    "- Main genre of the movies they acted in;\n",
    "- 2nd main genre of the movies they starred in;\n",
    "- birthdate;\n",
    "- gender.\n",
    "\n",
    "The *genre* could have a strong confounding effect, given that Action/Adventure movies have generally more viewers than other movie categories, therefore, incllufing both main and 2nd main genre in the actor's career would limit the effect of such a confounder.\n",
    "\n",
    "Regarding the *gender*, to further balance the dataset, the matching will be perfect based on gender. This means that an actors will be matched with another actor and an actress with another actress."
   ]
  },
  {
   "cell_type": "markdown",
   "id": "82549461-d21f-483a-8f71-2ec7d9645ccc",
   "metadata": {},
   "source": [
    "To extract the propensity scores, a logistic regression is trained and applied on the same dataset, this will output the needed probabilities. It is worth mentioning that the revenues and ratings are characteristics that define the success of the movie and that will set the basis for the definition of the *star score*. Therefore, they are not included in the matching features, otherwise they would bias the process of identification of successful actors."
   ]
  },
  {
   "cell_type": "code",
   "execution_count": 178,
   "id": "00bb27b2-e2fe-4234-a729-b0ca7fcbcf6d",
   "metadata": {},
   "outputs": [
    {
     "data": {
      "text/plain": [
       "62703"
      ]
     },
     "execution_count": 178,
     "metadata": {},
     "output_type": "execute_result"
    }
   ],
   "source": [
    "actors.dropna(subset=['main_genre'],inplace=True)\n",
    "len(actors)"
   ]
  },
  {
   "cell_type": "code",
   "execution_count": 83,
   "id": "4dfe917b-57d7-41f3-b1f3-1e84bd715875",
   "metadata": {},
   "outputs": [
    {
     "data": {
      "text/plain": [
       "125076"
      ]
     },
     "execution_count": 83,
     "metadata": {},
     "output_type": "execute_result"
    }
   ],
   "source": [
    "(actors['year_avg'] > 1970).sum()"
   ]
  },
  {
   "cell_type": "code",
   "execution_count": 186,
   "id": "33b05dc1-07c7-4c92-bba0-c67ddd5c2e44",
   "metadata": {},
   "outputs": [],
   "source": [
    "actors['birth_year'] = actors['birth_year'].apply(lambda x: float(x))"
   ]
  },
  {
   "cell_type": "code",
   "execution_count": 187,
   "id": "2ce70494-1db5-4433-adf9-3c6ca91ee6f4",
   "metadata": {},
   "outputs": [
    {
     "data": {
      "text/html": [
       "<div>\n",
       "<style scoped>\n",
       "    .dataframe tbody tr th:only-of-type {\n",
       "        vertical-align: middle;\n",
       "    }\n",
       "\n",
       "    .dataframe tbody tr th {\n",
       "        vertical-align: top;\n",
       "    }\n",
       "\n",
       "    .dataframe thead th {\n",
       "        text-align: right;\n",
       "    }\n",
       "</style>\n",
       "<table border=\"1\" class=\"dataframe\">\n",
       "  <thead>\n",
       "    <tr style=\"text-align: right;\">\n",
       "      <th></th>\n",
       "      <th>Unnamed: 0</th>\n",
       "      <th>actor</th>\n",
       "      <th>grade_avg</th>\n",
       "      <th>grade_sum</th>\n",
       "      <th>appearances</th>\n",
       "      <th>main_genre</th>\n",
       "      <th>2nd_genre</th>\n",
       "      <th>director</th>\n",
       "      <th>2nd_director</th>\n",
       "      <th>gender</th>\n",
       "      <th>year_avg</th>\n",
       "      <th>treatment</th>\n",
       "      <th>birth_year</th>\n",
       "    </tr>\n",
       "  </thead>\n",
       "  <tbody>\n",
       "    <tr>\n",
       "      <th>0</th>\n",
       "      <td>0</td>\n",
       "      <td>William_Courtenay</td>\n",
       "      <td>1.961308</td>\n",
       "      <td>5.883925</td>\n",
       "      <td>3</td>\n",
       "      <td>Drama</td>\n",
       "      <td>NaN</td>\n",
       "      <td>John_G._Adolfi</td>\n",
       "      <td>Alexander_Black</td>\n",
       "      <td>M</td>\n",
       "      <td>2007.0</td>\n",
       "      <td>0</td>\n",
       "      <td>1899.0</td>\n",
       "    </tr>\n",
       "    <tr>\n",
       "      <th>3</th>\n",
       "      <td>3</td>\n",
       "      <td>John_Tait</td>\n",
       "      <td>2.708095</td>\n",
       "      <td>2.708095</td>\n",
       "      <td>1</td>\n",
       "      <td>Adventure</td>\n",
       "      <td>NaN</td>\n",
       "      <td>Charles_Tait</td>\n",
       "      <td>NaN</td>\n",
       "      <td>M</td>\n",
       "      <td>1951.0</td>\n",
       "      <td>0</td>\n",
       "      <td>1949.0</td>\n",
       "    </tr>\n",
       "    <tr>\n",
       "      <th>4</th>\n",
       "      <td>4</td>\n",
       "      <td>Nicholas_Brierley</td>\n",
       "      <td>2.708095</td>\n",
       "      <td>2.708095</td>\n",
       "      <td>1</td>\n",
       "      <td>Adventure</td>\n",
       "      <td>NaN</td>\n",
       "      <td>Charles_Tait</td>\n",
       "      <td>NaN</td>\n",
       "      <td>M</td>\n",
       "      <td>1937.0</td>\n",
       "      <td>0</td>\n",
       "      <td>1918.0</td>\n",
       "    </tr>\n",
       "    <tr>\n",
       "      <th>5</th>\n",
       "      <td>5</td>\n",
       "      <td>Norman_Campbell</td>\n",
       "      <td>2.708095</td>\n",
       "      <td>2.708095</td>\n",
       "      <td>1</td>\n",
       "      <td>Adventure</td>\n",
       "      <td>NaN</td>\n",
       "      <td>Charles_Tait</td>\n",
       "      <td>NaN</td>\n",
       "      <td>F</td>\n",
       "      <td>1937.2</td>\n",
       "      <td>0</td>\n",
       "      <td>1915.0</td>\n",
       "    </tr>\n",
       "    <tr>\n",
       "      <th>6</th>\n",
       "      <td>6</td>\n",
       "      <td>Elizabeth_Tait</td>\n",
       "      <td>2.708095</td>\n",
       "      <td>2.708095</td>\n",
       "      <td>1</td>\n",
       "      <td>Adventure</td>\n",
       "      <td>NaN</td>\n",
       "      <td>Charles_Tait</td>\n",
       "      <td>NaN</td>\n",
       "      <td>M</td>\n",
       "      <td>2016.0</td>\n",
       "      <td>0</td>\n",
       "      <td>1899.0</td>\n",
       "    </tr>\n",
       "  </tbody>\n",
       "</table>\n",
       "</div>"
      ],
      "text/plain": [
       "   Unnamed: 0              actor  grade_avg  grade_sum  appearances  \\\n",
       "0           0  William_Courtenay   1.961308   5.883925            3   \n",
       "3           3          John_Tait   2.708095   2.708095            1   \n",
       "4           4  Nicholas_Brierley   2.708095   2.708095            1   \n",
       "5           5    Norman_Campbell   2.708095   2.708095            1   \n",
       "6           6     Elizabeth_Tait   2.708095   2.708095            1   \n",
       "\n",
       "  main_genre 2nd_genre        director     2nd_director gender  year_avg  \\\n",
       "0      Drama       NaN  John_G._Adolfi  Alexander_Black      M    2007.0   \n",
       "3  Adventure       NaN    Charles_Tait              NaN      M    1951.0   \n",
       "4  Adventure       NaN    Charles_Tait              NaN      M    1937.0   \n",
       "5  Adventure       NaN    Charles_Tait              NaN      F    1937.2   \n",
       "6  Adventure       NaN    Charles_Tait              NaN      M    2016.0   \n",
       "\n",
       "   treatment  birth_year  \n",
       "0          0      1899.0  \n",
       "3          0      1949.0  \n",
       "4          0      1918.0  \n",
       "5          0      1915.0  \n",
       "6          0      1899.0  "
      ]
     },
     "execution_count": 187,
     "metadata": {},
     "output_type": "execute_result"
    }
   ],
   "source": [
    "actors.head()"
   ]
  },
  {
   "cell_type": "code",
   "execution_count": 9,
   "id": "63c50c9a-f017-4ad9-abd1-7da6c1dab23c",
   "metadata": {},
   "outputs": [],
   "source": [
    "X = actors[{'main_genre','director','year_avg','birth_year'}]"
   ]
  },
  {
   "cell_type": "code",
   "execution_count": 10,
   "id": "f9f7ef83-3d33-4a73-8a3b-9cbbb84b59f9",
   "metadata": {},
   "outputs": [],
   "source": [
    "X = pd.get_dummies(X,columns=['main_genre','director'])\n",
    "y = actors['treatment']"
   ]
  },
  {
   "cell_type": "code",
   "execution_count": 11,
   "id": "e877ede0-20bb-46bf-b0e3-ee61ca8db511",
   "metadata": {},
   "outputs": [
    {
     "data": {
      "text/html": [
       "<div>\n",
       "<style scoped>\n",
       "    .dataframe tbody tr th:only-of-type {\n",
       "        vertical-align: middle;\n",
       "    }\n",
       "\n",
       "    .dataframe tbody tr th {\n",
       "        vertical-align: top;\n",
       "    }\n",
       "\n",
       "    .dataframe thead th {\n",
       "        text-align: right;\n",
       "    }\n",
       "</style>\n",
       "<table border=\"1\" class=\"dataframe\">\n",
       "  <thead>\n",
       "    <tr style=\"text-align: right;\">\n",
       "      <th></th>\n",
       "      <th>year_avg</th>\n",
       "      <th>birth_year</th>\n",
       "      <th>main_genre_Adult</th>\n",
       "      <th>main_genre_Adventure</th>\n",
       "      <th>main_genre_Animation</th>\n",
       "      <th>main_genre_Biography</th>\n",
       "      <th>main_genre_Comedy</th>\n",
       "      <th>main_genre_Crime</th>\n",
       "      <th>main_genre_Documentary</th>\n",
       "      <th>main_genre_Drama</th>\n",
       "      <th>...</th>\n",
       "      <th>director_Éric_Rohmer</th>\n",
       "      <th>director_Étienne_Chatiliez</th>\n",
       "      <th>director_Étienne_Faure</th>\n",
       "      <th>director_Óscar_Aibar</th>\n",
       "      <th>director_Óskar_Jónasson</th>\n",
       "      <th>director_Ömer_Kavur</th>\n",
       "      <th>director_Ümit_Ünal</th>\n",
       "      <th>director_Þorsteinn_Jónsson</th>\n",
       "      <th>director_Þráinn_Bertelsson</th>\n",
       "      <th>director_Þórhildur_Þorleifsdóttir</th>\n",
       "    </tr>\n",
       "  </thead>\n",
       "  <tbody>\n",
       "    <tr>\n",
       "      <th>0</th>\n",
       "      <td>2007.0</td>\n",
       "      <td>1899.0</td>\n",
       "      <td>0</td>\n",
       "      <td>0</td>\n",
       "      <td>0</td>\n",
       "      <td>0</td>\n",
       "      <td>0</td>\n",
       "      <td>0</td>\n",
       "      <td>0</td>\n",
       "      <td>1</td>\n",
       "      <td>...</td>\n",
       "      <td>0</td>\n",
       "      <td>0</td>\n",
       "      <td>0</td>\n",
       "      <td>0</td>\n",
       "      <td>0</td>\n",
       "      <td>0</td>\n",
       "      <td>0</td>\n",
       "      <td>0</td>\n",
       "      <td>0</td>\n",
       "      <td>0</td>\n",
       "    </tr>\n",
       "    <tr>\n",
       "      <th>1</th>\n",
       "      <td>1951.0</td>\n",
       "      <td>1949.0</td>\n",
       "      <td>0</td>\n",
       "      <td>1</td>\n",
       "      <td>0</td>\n",
       "      <td>0</td>\n",
       "      <td>0</td>\n",
       "      <td>0</td>\n",
       "      <td>0</td>\n",
       "      <td>0</td>\n",
       "      <td>...</td>\n",
       "      <td>0</td>\n",
       "      <td>0</td>\n",
       "      <td>0</td>\n",
       "      <td>0</td>\n",
       "      <td>0</td>\n",
       "      <td>0</td>\n",
       "      <td>0</td>\n",
       "      <td>0</td>\n",
       "      <td>0</td>\n",
       "      <td>0</td>\n",
       "    </tr>\n",
       "    <tr>\n",
       "      <th>2</th>\n",
       "      <td>1937.0</td>\n",
       "      <td>1918.0</td>\n",
       "      <td>0</td>\n",
       "      <td>1</td>\n",
       "      <td>0</td>\n",
       "      <td>0</td>\n",
       "      <td>0</td>\n",
       "      <td>0</td>\n",
       "      <td>0</td>\n",
       "      <td>0</td>\n",
       "      <td>...</td>\n",
       "      <td>0</td>\n",
       "      <td>0</td>\n",
       "      <td>0</td>\n",
       "      <td>0</td>\n",
       "      <td>0</td>\n",
       "      <td>0</td>\n",
       "      <td>0</td>\n",
       "      <td>0</td>\n",
       "      <td>0</td>\n",
       "      <td>0</td>\n",
       "    </tr>\n",
       "  </tbody>\n",
       "</table>\n",
       "<p>3 rows × 16318 columns</p>\n",
       "</div>"
      ],
      "text/plain": [
       "   year_avg  birth_year  main_genre_Adult  main_genre_Adventure  \\\n",
       "0    2007.0      1899.0                 0                     0   \n",
       "1    1951.0      1949.0                 0                     1   \n",
       "2    1937.0      1918.0                 0                     1   \n",
       "\n",
       "   main_genre_Animation  main_genre_Biography  main_genre_Comedy  \\\n",
       "0                     0                     0                  0   \n",
       "1                     0                     0                  0   \n",
       "2                     0                     0                  0   \n",
       "\n",
       "   main_genre_Crime  main_genre_Documentary  main_genre_Drama  ...  \\\n",
       "0                 0                       0                 1  ...   \n",
       "1                 0                       0                 0  ...   \n",
       "2                 0                       0                 0  ...   \n",
       "\n",
       "   director_Éric_Rohmer  director_Étienne_Chatiliez  director_Étienne_Faure  \\\n",
       "0                     0                           0                       0   \n",
       "1                     0                           0                       0   \n",
       "2                     0                           0                       0   \n",
       "\n",
       "   director_Óscar_Aibar  director_Óskar_Jónasson  director_Ömer_Kavur  \\\n",
       "0                     0                        0                    0   \n",
       "1                     0                        0                    0   \n",
       "2                     0                        0                    0   \n",
       "\n",
       "   director_Ümit_Ünal  director_Þorsteinn_Jónsson  director_Þráinn_Bertelsson  \\\n",
       "0                   0                           0                           0   \n",
       "1                   0                           0                           0   \n",
       "2                   0                           0                           0   \n",
       "\n",
       "   director_Þórhildur_Þorleifsdóttir  \n",
       "0                                  0  \n",
       "1                                  0  \n",
       "2                                  0  \n",
       "\n",
       "[3 rows x 16318 columns]"
      ]
     },
     "execution_count": 11,
     "metadata": {},
     "output_type": "execute_result"
    }
   ],
   "source": [
    "X.head(3)"
   ]
  },
  {
   "cell_type": "code",
   "execution_count": 12,
   "id": "4289d7a2-ca70-44fe-b6cf-77241b23a0ce",
   "metadata": {},
   "outputs": [],
   "source": [
    "#regression\n",
    "X['year_avg'] = (X['year_avg'] - X['year_avg'].mean())/X['year_avg'].std()\n",
    "X['birth_year'] = (X['birth_year'] - X['birth_year'].mean())/X['birth_year'].std()"
   ]
  },
  {
   "cell_type": "code",
   "execution_count": 13,
   "id": "59a9a185-d547-46ed-aa7b-c810dac3b713",
   "metadata": {},
   "outputs": [
    {
     "data": {
      "text/html": [
       "<style>#sk-container-id-1 {color: black;background-color: white;}#sk-container-id-1 pre{padding: 0;}#sk-container-id-1 div.sk-toggleable {background-color: white;}#sk-container-id-1 label.sk-toggleable__label {cursor: pointer;display: block;width: 100%;margin-bottom: 0;padding: 0.3em;box-sizing: border-box;text-align: center;}#sk-container-id-1 label.sk-toggleable__label-arrow:before {content: \"▸\";float: left;margin-right: 0.25em;color: #696969;}#sk-container-id-1 label.sk-toggleable__label-arrow:hover:before {color: black;}#sk-container-id-1 div.sk-estimator:hover label.sk-toggleable__label-arrow:before {color: black;}#sk-container-id-1 div.sk-toggleable__content {max-height: 0;max-width: 0;overflow: hidden;text-align: left;background-color: #f0f8ff;}#sk-container-id-1 div.sk-toggleable__content pre {margin: 0.2em;color: black;border-radius: 0.25em;background-color: #f0f8ff;}#sk-container-id-1 input.sk-toggleable__control:checked~div.sk-toggleable__content {max-height: 200px;max-width: 100%;overflow: auto;}#sk-container-id-1 input.sk-toggleable__control:checked~label.sk-toggleable__label-arrow:before {content: \"▾\";}#sk-container-id-1 div.sk-estimator input.sk-toggleable__control:checked~label.sk-toggleable__label {background-color: #d4ebff;}#sk-container-id-1 div.sk-label input.sk-toggleable__control:checked~label.sk-toggleable__label {background-color: #d4ebff;}#sk-container-id-1 input.sk-hidden--visually {border: 0;clip: rect(1px 1px 1px 1px);clip: rect(1px, 1px, 1px, 1px);height: 1px;margin: -1px;overflow: hidden;padding: 0;position: absolute;width: 1px;}#sk-container-id-1 div.sk-estimator {font-family: monospace;background-color: #f0f8ff;border: 1px dotted black;border-radius: 0.25em;box-sizing: border-box;margin-bottom: 0.5em;}#sk-container-id-1 div.sk-estimator:hover {background-color: #d4ebff;}#sk-container-id-1 div.sk-parallel-item::after {content: \"\";width: 100%;border-bottom: 1px solid gray;flex-grow: 1;}#sk-container-id-1 div.sk-label:hover label.sk-toggleable__label {background-color: #d4ebff;}#sk-container-id-1 div.sk-serial::before {content: \"\";position: absolute;border-left: 1px solid gray;box-sizing: border-box;top: 0;bottom: 0;left: 50%;z-index: 0;}#sk-container-id-1 div.sk-serial {display: flex;flex-direction: column;align-items: center;background-color: white;padding-right: 0.2em;padding-left: 0.2em;position: relative;}#sk-container-id-1 div.sk-item {position: relative;z-index: 1;}#sk-container-id-1 div.sk-parallel {display: flex;align-items: stretch;justify-content: center;background-color: white;position: relative;}#sk-container-id-1 div.sk-item::before, #sk-container-id-1 div.sk-parallel-item::before {content: \"\";position: absolute;border-left: 1px solid gray;box-sizing: border-box;top: 0;bottom: 0;left: 50%;z-index: -1;}#sk-container-id-1 div.sk-parallel-item {display: flex;flex-direction: column;z-index: 1;position: relative;background-color: white;}#sk-container-id-1 div.sk-parallel-item:first-child::after {align-self: flex-end;width: 50%;}#sk-container-id-1 div.sk-parallel-item:last-child::after {align-self: flex-start;width: 50%;}#sk-container-id-1 div.sk-parallel-item:only-child::after {width: 0;}#sk-container-id-1 div.sk-dashed-wrapped {border: 1px dashed gray;margin: 0 0.4em 0.5em 0.4em;box-sizing: border-box;padding-bottom: 0.4em;background-color: white;}#sk-container-id-1 div.sk-label label {font-family: monospace;font-weight: bold;display: inline-block;line-height: 1.2em;}#sk-container-id-1 div.sk-label-container {text-align: center;}#sk-container-id-1 div.sk-container {/* jupyter's `normalize.less` sets `[hidden] { display: none; }` but bootstrap.min.css set `[hidden] { display: none !important; }` so we also need the `!important` here to be able to override the default hidden behavior on the sphinx rendered scikit-learn.org. See: https://github.com/scikit-learn/scikit-learn/issues/21755 */display: inline-block !important;position: relative;}#sk-container-id-1 div.sk-text-repr-fallback {display: none;}</style><div id=\"sk-container-id-1\" class=\"sk-top-container\"><div class=\"sk-text-repr-fallback\"><pre>LogisticRegression(max_iter=10000)</pre><b>In a Jupyter environment, please rerun this cell to show the HTML representation or trust the notebook. <br />On GitHub, the HTML representation is unable to render, please try loading this page with nbviewer.org.</b></div><div class=\"sk-container\" hidden><div class=\"sk-item\"><div class=\"sk-estimator sk-toggleable\"><input class=\"sk-toggleable__control sk-hidden--visually\" id=\"sk-estimator-id-1\" type=\"checkbox\" checked><label for=\"sk-estimator-id-1\" class=\"sk-toggleable__label sk-toggleable__label-arrow\">LogisticRegression</label><div class=\"sk-toggleable__content\"><pre>LogisticRegression(max_iter=10000)</pre></div></div></div></div></div>"
      ],
      "text/plain": [
       "LogisticRegression(max_iter=10000)"
      ]
     },
     "execution_count": 13,
     "metadata": {},
     "output_type": "execute_result"
    }
   ],
   "source": [
    "#logistic regression model\n",
    "from sklearn.linear_model import LogisticRegression\n",
    "\n",
    "logistic = LogisticRegression(solver='lbfgs', max_iter=10000)\n",
    "logistic.fit(X,y) #train"
   ]
  },
  {
   "cell_type": "code",
   "execution_count": 14,
   "id": "0f182955-1284-40b9-b5a7-9d5fe35a2d97",
   "metadata": {},
   "outputs": [],
   "source": [
    "#extract propensity scores\n",
    "actors['propensity_score'] = [i[0] for i in list(logistic.predict_proba(X))]"
   ]
  },
  {
   "cell_type": "code",
   "execution_count": 15,
   "id": "b7441ffc-2fde-4815-9b64-518e72909753",
   "metadata": {},
   "outputs": [
    {
     "data": {
      "text/html": [
       "<div>\n",
       "<style scoped>\n",
       "    .dataframe tbody tr th:only-of-type {\n",
       "        vertical-align: middle;\n",
       "    }\n",
       "\n",
       "    .dataframe tbody tr th {\n",
       "        vertical-align: top;\n",
       "    }\n",
       "\n",
       "    .dataframe thead th {\n",
       "        text-align: right;\n",
       "    }\n",
       "</style>\n",
       "<table border=\"1\" class=\"dataframe\">\n",
       "  <thead>\n",
       "    <tr style=\"text-align: right;\">\n",
       "      <th></th>\n",
       "      <th>propensity_score</th>\n",
       "    </tr>\n",
       "  </thead>\n",
       "  <tbody>\n",
       "    <tr>\n",
       "      <th>0</th>\n",
       "      <td>0.558610</td>\n",
       "    </tr>\n",
       "    <tr>\n",
       "      <th>1</th>\n",
       "      <td>0.784121</td>\n",
       "    </tr>\n",
       "    <tr>\n",
       "      <th>2</th>\n",
       "      <td>0.751909</td>\n",
       "    </tr>\n",
       "    <tr>\n",
       "      <th>3</th>\n",
       "      <td>0.748639</td>\n",
       "    </tr>\n",
       "    <tr>\n",
       "      <th>4</th>\n",
       "      <td>0.731402</td>\n",
       "    </tr>\n",
       "  </tbody>\n",
       "</table>\n",
       "</div>"
      ],
      "text/plain": [
       "   propensity_score\n",
       "0          0.558610\n",
       "1          0.784121\n",
       "2          0.751909\n",
       "3          0.748639\n",
       "4          0.731402"
      ]
     },
     "execution_count": 15,
     "metadata": {},
     "output_type": "execute_result"
    }
   ],
   "source": [
    "#display propensity scores\n",
    "actors[['propensity_score']].head()"
   ]
  },
  {
   "cell_type": "code",
   "execution_count": 22,
   "id": "f21d8b53-b1f4-4790-a578-b9325ea48c4e",
   "metadata": {},
   "outputs": [
    {
     "data": {
      "text/plain": [
       "47260"
      ]
     },
     "execution_count": 22,
     "metadata": {},
     "output_type": "execute_result"
    }
   ],
   "source": [
    "actors_cut = actors[actors['birth_year'] > 1930]\n",
    "len(actors_cut)"
   ]
  },
  {
   "cell_type": "markdown",
   "id": "1d92f9da-6b0e-4a40-ba27-b63f5ac6e508",
   "metadata": {},
   "source": [
    "Given the extremely large size of the dataset and the matching time needed to minimize the similarity difference between all the possible combinations, the matching is carried out by ordering the dataset by propensity scores, splitting it into smaller sets and performing the matching on each. The method is valid because each smaller set will have the most similar propensity scores (method suggestes by Prof. Bob West)."
   ]
  },
  {
   "cell_type": "code",
   "execution_count": 19,
   "id": "55ab1b84-d8b5-4c81-a0d3-01dc6f4328eb",
   "metadata": {},
   "outputs": [],
   "source": [
    "#function to compute similarity (difference between propensity scores to be minimized in the matching)\n",
    "def get_similarity(prop1,prop2):\n",
    "    return 1-abs(prop1-prop2)"
   ]
  },
  {
   "cell_type": "code",
   "execution_count": 20,
   "id": "4101a270-e434-43d3-855a-b0161341b44a",
   "metadata": {},
   "outputs": [],
   "source": [
    "#sort dataset by propensity score\n",
    "actors_prop = actors_cut.sort_values(by=['propensity_score'],ascending=True).reset_index()"
   ]
  },
  {
   "cell_type": "code",
   "execution_count": 50,
   "id": "3c2a3359-cebb-4f46-b181-f68614df5e45",
   "metadata": {},
   "outputs": [
    {
     "data": {
      "text/plain": [
       "7.0"
      ]
     },
     "execution_count": 50,
     "metadata": {},
     "output_type": "execute_result"
    }
   ],
   "source": [
    "threshold"
   ]
  },
  {
   "cell_type": "code",
   "execution_count": 45,
   "id": "ddd6379b-191c-4815-a10b-9c76578ca05a",
   "metadata": {},
   "outputs": [],
   "source": [
    "#define matrix with the indexes of the multiple groups on each row\n",
    "count = np.array(actors_prop.index).reshape(170,278)"
   ]
  },
  {
   "cell_type": "code",
   "execution_count": 51,
   "id": "657dc5a4-19fe-4ac0-9541-aa32edb4003b",
   "metadata": {},
   "outputs": [],
   "source": [
    "T = pd.DataFrame([]) #initialize auxiliary matrix\n",
    "\n",
    "for i in range(len(count)):\n",
    "    \n",
    "    #define treatment and control groups\n",
    "    treat = actors_prop.loc[count[i,:]][actors_prop['appearances'] > threshold]\n",
    "    contr = actors_prop.loc[count[i,:]][actors_prop['appearances'] <= threshold]\n",
    "    \n",
    "    G = nx.Graph() #create empty undirected graph\n",
    "    \n",
    "    for i, j in contr.iterrows():\n",
    "        for k, l in treat.iterrows():\n",
    "            if j['gender'] == l['gender']: #perfect match on gender\n",
    "                #Calculate the similarity \n",
    "                similarity = get_similarity(j['propensity_score'],\n",
    "                                            l['propensity_score'])\n",
    "\n",
    "                #Add an edge between the two instances weighted by the similarity between them\n",
    "                G.add_weighted_edges_from([(i, k, similarity)])\n",
    "            \n",
    "    matching = nx.max_weight_matching(G) #perform the matching\n",
    "\n",
    "    matched = [i[0] for i in list(matching)] + [i[1] for i in list(matching)] #create list with all indexes of people paired\n",
    "\n",
    "    balanced_df = actors_prop.loc[matched] #extract only rows with paired subjects\n",
    "    \n",
    "    T = T.append(balanced_df) #append to auxiliary matrix"
   ]
  },
  {
   "cell_type": "code",
   "execution_count": 52,
   "id": "706098ee-ee7b-4dd6-8558-1beae848593d",
   "metadata": {},
   "outputs": [],
   "source": [
    "#export balanced dataset\n",
    "T.to_csv('../data/balanced_df.csv')"
   ]
  },
  {
   "cell_type": "code",
   "execution_count": 53,
   "id": "a640fac0-be61-4e8d-a346-15aa9c4c58ca",
   "metadata": {},
   "outputs": [
    {
     "data": {
      "text/html": [
       "<div>\n",
       "<style scoped>\n",
       "    .dataframe tbody tr th:only-of-type {\n",
       "        vertical-align: middle;\n",
       "    }\n",
       "\n",
       "    .dataframe tbody tr th {\n",
       "        vertical-align: top;\n",
       "    }\n",
       "\n",
       "    .dataframe thead th {\n",
       "        text-align: right;\n",
       "    }\n",
       "</style>\n",
       "<table border=\"1\" class=\"dataframe\">\n",
       "  <thead>\n",
       "    <tr style=\"text-align: right;\">\n",
       "      <th></th>\n",
       "      <th>index</th>\n",
       "      <th>Unnamed: 0.1</th>\n",
       "      <th>Unnamed: 0</th>\n",
       "      <th>actor</th>\n",
       "      <th>grade_avg</th>\n",
       "      <th>grade_sum</th>\n",
       "      <th>appearances</th>\n",
       "      <th>main_genre</th>\n",
       "      <th>2nd_genre</th>\n",
       "      <th>director</th>\n",
       "      <th>2nd_director</th>\n",
       "      <th>gender</th>\n",
       "      <th>year_avg</th>\n",
       "      <th>treatment</th>\n",
       "      <th>birth_year</th>\n",
       "      <th>propensity_score</th>\n",
       "    </tr>\n",
       "  </thead>\n",
       "  <tbody>\n",
       "    <tr>\n",
       "      <th>136</th>\n",
       "      <td>18894</td>\n",
       "      <td>24900</td>\n",
       "      <td>24900</td>\n",
       "      <td>Michael_Sacks</td>\n",
       "      <td>3.816808</td>\n",
       "      <td>15.267230</td>\n",
       "      <td>4</td>\n",
       "      <td>Drama</td>\n",
       "      <td>NaN</td>\n",
       "      <td>Steven_Spielberg</td>\n",
       "      <td>Donald_Wrye</td>\n",
       "      <td>F</td>\n",
       "      <td>2011.571429</td>\n",
       "      <td>1</td>\n",
       "      <td>1973.0</td>\n",
       "      <td>0.175791</td>\n",
       "    </tr>\n",
       "    <tr>\n",
       "      <th>243</th>\n",
       "      <td>22642</td>\n",
       "      <td>29877</td>\n",
       "      <td>29877</td>\n",
       "      <td>Fred_Willard</td>\n",
       "      <td>3.520822</td>\n",
       "      <td>98.583025</td>\n",
       "      <td>28</td>\n",
       "      <td>Animation</td>\n",
       "      <td>Music</td>\n",
       "      <td>Christopher_Guest</td>\n",
       "      <td>Andrew_Stanton</td>\n",
       "      <td>M</td>\n",
       "      <td>1951.941176</td>\n",
       "      <td>1</td>\n",
       "      <td>1957.0</td>\n",
       "      <td>0.189205</td>\n",
       "    </tr>\n",
       "    <tr>\n",
       "      <th>249</th>\n",
       "      <td>4812</td>\n",
       "      <td>6614</td>\n",
       "      <td>6614</td>\n",
       "      <td>Simone_Simon</td>\n",
       "      <td>3.051534</td>\n",
       "      <td>91.546033</td>\n",
       "      <td>30</td>\n",
       "      <td>Drama</td>\n",
       "      <td>Fantasy</td>\n",
       "      <td>William_Dieterle</td>\n",
       "      <td>Robert_Wise</td>\n",
       "      <td>M</td>\n",
       "      <td>1986.000000</td>\n",
       "      <td>1</td>\n",
       "      <td>1964.0</td>\n",
       "      <td>0.189757</td>\n",
       "    </tr>\n",
       "    <tr>\n",
       "      <th>266</th>\n",
       "      <td>6136</td>\n",
       "      <td>8381</td>\n",
       "      <td>8381</td>\n",
       "      <td>Barry_Jones</td>\n",
       "      <td>2.716687</td>\n",
       "      <td>19.016807</td>\n",
       "      <td>7</td>\n",
       "      <td>Drama</td>\n",
       "      <td>Crime</td>\n",
       "      <td>Ralph_Thomas</td>\n",
       "      <td>Albert_Parker</td>\n",
       "      <td>M</td>\n",
       "      <td>2007.957746</td>\n",
       "      <td>1</td>\n",
       "      <td>1956.0</td>\n",
       "      <td>0.191004</td>\n",
       "    </tr>\n",
       "    <tr>\n",
       "      <th>58</th>\n",
       "      <td>5104</td>\n",
       "      <td>6991</td>\n",
       "      <td>6991</td>\n",
       "      <td>Jean_Rogers</td>\n",
       "      <td>1.999881</td>\n",
       "      <td>81.995107</td>\n",
       "      <td>41</td>\n",
       "      <td>Drama</td>\n",
       "      <td>Romance</td>\n",
       "      <td>George_Sidney</td>\n",
       "      <td>Lew_Landers</td>\n",
       "      <td>M</td>\n",
       "      <td>2014.166667</td>\n",
       "      <td>1</td>\n",
       "      <td>1932.0</td>\n",
       "      <td>0.160031</td>\n",
       "    </tr>\n",
       "  </tbody>\n",
       "</table>\n",
       "</div>"
      ],
      "text/plain": [
       "     index  Unnamed: 0.1  Unnamed: 0          actor  grade_avg  grade_sum  \\\n",
       "136  18894         24900       24900  Michael_Sacks   3.816808  15.267230   \n",
       "243  22642         29877       29877   Fred_Willard   3.520822  98.583025   \n",
       "249   4812          6614        6614   Simone_Simon   3.051534  91.546033   \n",
       "266   6136          8381        8381    Barry_Jones   2.716687  19.016807   \n",
       "58    5104          6991        6991    Jean_Rogers   1.999881  81.995107   \n",
       "\n",
       "     appearances main_genre 2nd_genre           director    2nd_director  \\\n",
       "136            4      Drama       NaN   Steven_Spielberg     Donald_Wrye   \n",
       "243           28  Animation     Music  Christopher_Guest  Andrew_Stanton   \n",
       "249           30      Drama   Fantasy   William_Dieterle     Robert_Wise   \n",
       "266            7      Drama     Crime       Ralph_Thomas   Albert_Parker   \n",
       "58            41      Drama   Romance      George_Sidney     Lew_Landers   \n",
       "\n",
       "    gender     year_avg  treatment  birth_year  propensity_score  \n",
       "136      F  2011.571429          1      1973.0          0.175791  \n",
       "243      M  1951.941176          1      1957.0          0.189205  \n",
       "249      M  1986.000000          1      1964.0          0.189757  \n",
       "266      M  2007.957746          1      1956.0          0.191004  \n",
       "58       M  2014.166667          1      1932.0          0.160031  "
      ]
     },
     "execution_count": 53,
     "metadata": {},
     "output_type": "execute_result"
    }
   ],
   "source": [
    "#import balanced dataset\n",
    "balanced_df = pd.read_csv('../data/balanced_df.csv', index_col=0)\n",
    "balanced_df.head()"
   ]
  },
  {
   "cell_type": "code",
   "execution_count": 65,
   "id": "88734815-1d1d-4386-846e-a8693e633e21",
   "metadata": {},
   "outputs": [
    {
     "name": "stdout",
     "output_type": "stream",
     "text": [
      "We matched 15330 actors\n",
      "We discarded 47373 actors\n"
     ]
    }
   ],
   "source": [
    "print('We matched ' + str(len(balanced_df)) + ' actors')\n",
    "print('We discarded ' + str(len(actors)-len(balanced_df)) + ' actors')"
   ]
  },
  {
   "cell_type": "markdown",
   "id": "d8e88da8-515f-4861-8842-644ea0840a4f",
   "metadata": {},
   "source": [
    "To capture the influence of the average revenues and ratings of actors' careers, a linear regression is implemented on the balanced dataset. The summary is shown below."
   ]
  },
  {
   "cell_type": "code",
   "execution_count": 66,
   "id": "81101043-ce85-45a9-941e-e6f5d69c1aef",
   "metadata": {},
   "outputs": [
    {
     "name": "stdout",
     "output_type": "stream",
     "text": [
      "                            OLS Regression Results                            \n",
      "==============================================================================\n",
      "Dep. Variable:              grade_avg   R-squared:                       0.010\n",
      "Model:                            OLS   Adj. R-squared:                  0.010\n",
      "Method:                 Least Squares   F-statistic:                     149.8\n",
      "Date:                Sat, 17 Dec 2022   Prob (F-statistic):           2.77e-34\n",
      "Time:                        14:23:09   Log-Likelihood:                -21677.\n",
      "No. Observations:               15330   AIC:                         4.336e+04\n",
      "Df Residuals:                   15328   BIC:                         4.337e+04\n",
      "Df Model:                           1                                         \n",
      "Covariance Type:            nonrobust                                         \n",
      "==============================================================================\n",
      "                 coef    std err          t      P>|t|      [0.025      0.975]\n",
      "------------------------------------------------------------------------------\n",
      "Intercept     -0.1714      0.016    -10.615      0.000      -0.203      -0.140\n",
      "treatment      0.2279      0.019     12.239      0.000       0.191       0.264\n",
      "==============================================================================\n",
      "Omnibus:                     2560.947   Durbin-Watson:                   1.988\n",
      "Prob(Omnibus):                  0.000   Jarque-Bera (JB):             4671.801\n",
      "Skew:                           1.060   Prob(JB):                         0.00\n",
      "Kurtosis:                       4.680   Cond. No.                         3.79\n",
      "==============================================================================\n",
      "\n",
      "Notes:\n",
      "[1] Standard Errors assume that the covariance matrix of the errors is correctly specified.\n"
     ]
    }
   ],
   "source": [
    "#regression\n",
    "X1 = balanced_df[{'treatment','grade_avg'}]\n",
    "X1['grade_avg'] = (X1['grade_avg'] - X1['grade_avg'].mean())/X1['grade_avg'].std()\n",
    "    \n",
    "import statsmodels.formula.api as smf\n",
    "    \n",
    "mod = smf.ols(formula='grade_avg ~ treatment',\n",
    "              data=X1)\n",
    "res = mod.fit()\n",
    "print(res.summary())"
   ]
  },
  {
   "cell_type": "code",
   "execution_count": 85,
   "id": "d6795529-60b3-446b-83f9-335ddbadcced",
   "metadata": {},
   "outputs": [
    {
     "name": "stdout",
     "output_type": "stream",
     "text": [
      "15330\n"
     ]
    }
   ],
   "source": [
    "print(len(balanced_df))"
   ]
  },
  {
   "cell_type": "code",
   "execution_count": 82,
   "id": "4849394a-854c-4860-b13a-a0b5cf0bf1f9",
   "metadata": {},
   "outputs": [
    {
     "name": "stdout",
     "output_type": "stream",
     "text": [
      "2.0\n",
      "11.549479298676623\n",
      "7.0\n",
      "1.0\n"
     ]
    }
   ],
   "source": [
    "print(actors.appearances.median())\n",
    "print(actors.appearances.std())\n",
    "print(np.percentile(actors.appearances,80))\n",
    "print(np.percentile(actors.appearances,25))"
   ]
  },
  {
   "cell_type": "code",
   "execution_count": 80,
   "id": "92077372-1a68-4813-9b12-64dc0431d799",
   "metadata": {},
   "outputs": [
    {
     "name": "stdout",
     "output_type": "stream",
     "text": [
      "7.5\n",
      "16.21647723697613\n",
      "17.0\n",
      "4.0\n"
     ]
    }
   ],
   "source": [
    "print(balanced_df.appearances.median())\n",
    "print(balanced_df.appearances.std())\n",
    "print(np.percentile(balanced_df.appearances,80))\n",
    "print(np.percentile(balanced_df.appearances,25))"
   ]
  },
  {
   "cell_type": "code",
   "execution_count": 81,
   "id": "22395105-b8e0-40cc-8b17-bb4548fd24d9",
   "metadata": {},
   "outputs": [],
   "source": [
    "male_df = balanced_df[balanced_df['gender'] == 'M']\n",
    "female_df = balanced_df[balanced_df['gender'] == 'F']"
   ]
  },
  {
   "cell_type": "code",
   "execution_count": 86,
   "id": "23a806dd-8439-4a58-9b92-4940499c60ea",
   "metadata": {},
   "outputs": [
    {
     "data": {
      "text/plain": [
       "0.5920417482061318"
      ]
     },
     "execution_count": 86,
     "metadata": {},
     "output_type": "execute_result"
    }
   ],
   "source": [
    "len(male_df)/len(balanced_df)"
   ]
  },
  {
   "cell_type": "code",
   "execution_count": null,
   "id": "0140b0b6-938c-4f91-9382-793a249b7f4d",
   "metadata": {},
   "outputs": [],
   "source": []
  },
  {
   "cell_type": "code",
   "execution_count": null,
   "id": "b3cff57b-0295-4dad-9781-fee619a0bdb0",
   "metadata": {},
   "outputs": [],
   "source": []
  },
  {
   "cell_type": "markdown",
   "id": "959fdb50-cf14-45bc-be44-a6057ffb3b76",
   "metadata": {},
   "source": [
    "From the results, it it possible to observe that there is a positive correlation with the revenues and a negative correlation with the ratings, both statistically significant given that the p-values are lower than the imposed threshold (0.05). The negative correlation with the ratings is interesting, because it is counter-intuitive. A possible explanation of such correlation is that, generally speaking, movies with a big impact (e.g., big revenue and rating) tend to have sequels, where the actors' cast is roughly the same, but the movie quality decreases with respect to the first movie, or at least it cannot stand the high expectancies of it. But let's the data speak!"
   ]
  },
  {
   "cell_type": "markdown",
   "id": "e5022fc1-66a3-4054-8c49-ed4fbdd16dd0",
   "metadata": {},
   "source": [
    "PROVE THIS!!!"
   ]
  },
  {
   "cell_type": "markdown",
   "id": "26bf26f6-a094-4212-bc28-54cc2b4770ad",
   "metadata": {},
   "source": [
    "The *star score* can eventually be defined based on the above analysis.\n",
    "\n",
    "$star\\ score = (A + \\ln{\\bar{R}})^{\\log{(\\bar{G})}}$\n",
    "\n",
    "where $A$ is the number of appearances in the actor's career and $\\bar{G}$, $\\bar{R}$ are the averages of the revenues and ratings 'caused' to the movies he starred in. In this case the average is appropriate because the distribution of such parameters in actors careers is not a power law.\n",
    "\n",
    "This formulation of the star score captures the three parameters of interest chosen to assess the impact of an actor on movies. To give importance to the revenues that actors cause to movies, a linear combination of log of average revenues and number of career appearances (productivity) is suitable to give both factors comparable weights. Moreover, given that the ratings range from 1 to 10, exponentiating with log base 10 of the average ratings would keep the base as it is for a maximum rating and decrease it for a drop in rating. Here, the exponential increase is suitable because of the will to give a larger weight to actors that manage to significantly affect the movie rating, given the previously found trend of negative correlation with appearances.\n",
    "\n",
    "We believe this metric includes the parameters of interest that relate an actor to the success of the movie. Of course it is possible to argue that many other factors may be taken into consideration, but the goal of the present study is to assess by a certain order the actors' impact. We are aware of the possible margins of error."
   ]
  },
  {
   "cell_type": "code",
   "execution_count": 50,
   "id": "bd7034af-fa05-4bb0-8d00-1ecd87205bb7",
   "metadata": {},
   "outputs": [],
   "source": [
    "#add star scores\n",
    "balanced_df['star_score'] = (balanced_df['appearances'] + balanced_df['log_revenue'])**np.log10(balanced_df['grade_avg'])"
   ]
  },
  {
   "cell_type": "code",
   "execution_count": 51,
   "id": "3ea88b88-cccf-43cd-86ac-90b6c8d7d054",
   "metadata": {},
   "outputs": [],
   "source": [
    "balanced_df.sort_values('star_score', inplace=True, ascending=False)"
   ]
  },
  {
   "cell_type": "code",
   "execution_count": 52,
   "id": "848b686d-e6ee-4414-96d0-e9e3e4154d66",
   "metadata": {},
   "outputs": [
    {
     "data": {
      "text/html": [
       "<div>\n",
       "<style scoped>\n",
       "    .dataframe tbody tr th:only-of-type {\n",
       "        vertical-align: middle;\n",
       "    }\n",
       "\n",
       "    .dataframe tbody tr th {\n",
       "        vertical-align: top;\n",
       "    }\n",
       "\n",
       "    .dataframe thead th {\n",
       "        text-align: right;\n",
       "    }\n",
       "</style>\n",
       "<table border=\"1\" class=\"dataframe\">\n",
       "  <thead>\n",
       "    <tr style=\"text-align: right;\">\n",
       "      <th></th>\n",
       "      <th>index</th>\n",
       "      <th>actor</th>\n",
       "      <th>revenue_avg</th>\n",
       "      <th>grade_avg</th>\n",
       "      <th>revenue_sum</th>\n",
       "      <th>grade_sum</th>\n",
       "      <th>appearances</th>\n",
       "      <th>main_genre</th>\n",
       "      <th>2nd_genre</th>\n",
       "      <th>country1</th>\n",
       "      <th>country2</th>\n",
       "      <th>tenure</th>\n",
       "      <th>gender</th>\n",
       "      <th>birthdate</th>\n",
       "      <th>log_revenue</th>\n",
       "      <th>treatment</th>\n",
       "      <th>propensity_score</th>\n",
       "      <th>star_score</th>\n",
       "    </tr>\n",
       "  </thead>\n",
       "  <tbody>\n",
       "    <tr>\n",
       "      <th>9306</th>\n",
       "      <td>7012</td>\n",
       "      <td>Frank_Welker</td>\n",
       "      <td>2.442829e+08</td>\n",
       "      <td>5.106723</td>\n",
       "      <td>1.465697e+10</td>\n",
       "      <td>306.403368</td>\n",
       "      <td>60</td>\n",
       "      <td>Adventure</td>\n",
       "      <td>Family Film</td>\n",
       "      <td>United States of America</td>\n",
       "      <td>Japan</td>\n",
       "      <td>28.0</td>\n",
       "      <td>M</td>\n",
       "      <td>1930</td>\n",
       "      <td>19.313837</td>\n",
       "      <td>1</td>\n",
       "      <td>0.668033</td>\n",
       "      <td>22.131422</td>\n",
       "    </tr>\n",
       "    <tr>\n",
       "      <th>1675</th>\n",
       "      <td>6799</td>\n",
       "      <td>Johnny_Depp</td>\n",
       "      <td>2.113608e+08</td>\n",
       "      <td>5.554156</td>\n",
       "      <td>8.665791e+09</td>\n",
       "      <td>227.720408</td>\n",
       "      <td>41</td>\n",
       "      <td>Drama</td>\n",
       "      <td>Comedy</td>\n",
       "      <td>United States of America</td>\n",
       "      <td>United Kingdom</td>\n",
       "      <td>28.0</td>\n",
       "      <td>M</td>\n",
       "      <td>1933</td>\n",
       "      <td>19.169077</td>\n",
       "      <td>1</td>\n",
       "      <td>0.207925</td>\n",
       "      <td>21.132632</td>\n",
       "    </tr>\n",
       "    <tr>\n",
       "      <th>14456</th>\n",
       "      <td>9669</td>\n",
       "      <td>Hugo_Weaving</td>\n",
       "      <td>4.590775e+08</td>\n",
       "      <td>6.243520</td>\n",
       "      <td>1.101786e+10</td>\n",
       "      <td>149.844479</td>\n",
       "      <td>24</td>\n",
       "      <td>Science Fiction</td>\n",
       "      <td>Adventure</td>\n",
       "      <td>United States of America</td>\n",
       "      <td>Australia</td>\n",
       "      <td>21.0</td>\n",
       "      <td>M</td>\n",
       "      <td>1924</td>\n",
       "      <td>19.944730</td>\n",
       "      <td>1</td>\n",
       "      <td>0.803309</td>\n",
       "      <td>20.268263</td>\n",
       "    </tr>\n",
       "  </tbody>\n",
       "</table>\n",
       "</div>"
      ],
      "text/plain": [
       "       index         actor   revenue_avg  grade_avg   revenue_sum   grade_sum  \\\n",
       "9306    7012  Frank_Welker  2.442829e+08   5.106723  1.465697e+10  306.403368   \n",
       "1675    6799   Johnny_Depp  2.113608e+08   5.554156  8.665791e+09  227.720408   \n",
       "14456   9669  Hugo_Weaving  4.590775e+08   6.243520  1.101786e+10  149.844479   \n",
       "\n",
       "       appearances       main_genre    2nd_genre                  country1  \\\n",
       "9306            60        Adventure  Family Film  United States of America   \n",
       "1675            41            Drama       Comedy  United States of America   \n",
       "14456           24  Science Fiction    Adventure  United States of America   \n",
       "\n",
       "             country2  tenure gender  birthdate  log_revenue  treatment  \\\n",
       "9306            Japan    28.0      M       1930    19.313837          1   \n",
       "1675   United Kingdom    28.0      M       1933    19.169077          1   \n",
       "14456       Australia    21.0      M       1924    19.944730          1   \n",
       "\n",
       "       propensity_score  star_score  \n",
       "9306           0.668033   22.131422  \n",
       "1675           0.207925   21.132632  \n",
       "14456          0.803309   20.268263  "
      ]
     },
     "execution_count": 52,
     "metadata": {},
     "output_type": "execute_result"
    }
   ],
   "source": [
    "balanced_df.head(3)"
   ]
  },
  {
   "cell_type": "markdown",
   "id": "ab55a067-ed80-4363-b49e-305dcb9a544a",
   "metadata": {},
   "source": [
    "The distribution of the star scores in the dataset is shown below. As expected, the distribution is  skewed, because of the previously explained rich-get-richer mecahnism. However, the distribution is not a power law, given that it is not a straight line in the logarithmic domain. In the linear plot, there is a first trait of very high star scores, then a linear decrease to roughly the 90th percentile of the actors and eventually a rapid drop for the less-successful actors.\n",
    "It is interesting to comment the linear behavior in the middle of the distribution. Indeed, it seems that the difference in movie impact between actors with high movie appearances and actors with lower ones is not as steep a is may seem by only analysing the productivity of the actors (from first power law graph)."
   ]
  },
  {
   "cell_type": "code",
   "execution_count": 53,
   "id": "fdb84a9a-b80d-4ee2-ac25-78f563bc05a3",
   "metadata": {},
   "outputs": [
    {
     "data": {
      "image/png": "[encoded data removed]",
      "text/plain": [
       "<Figure size 800x300 with 2 Axes>"
      ]
     },
     "metadata": {},
     "output_type": "display_data"
    }
   ],
   "source": [
    "#2 subplots\n",
    "fig, ax = plt.subplots(1,2, figsize=(8,3))\n",
    "\n",
    "sbplt = ax[0]\n",
    "sbplt.plot(np.arange(0,len(balanced_df)),balanced_df.star_score)\n",
    "sbplt.set_title('Linear axes')\n",
    "sbplt.set_ylabel('Star scores')\n",
    "sbplt.set_xlabel('Actor')\n",
    "\n",
    "sbplt = ax[1]\n",
    "plt.loglog(np.arange(0,len(balanced_df)),balanced_df.star_score)\n",
    "sbplt.set_title('Logarithmic axes')\n",
    "sbplt.set_ylabel('Star scores')\n",
    "sbplt.set_xlabel('Actor')\n",
    "\n",
    "fig.tight_layout()\n",
    "plt.show()"
   ]
  },
  {
   "cell_type": "code",
   "execution_count": 54,
   "id": "3ff02278-3dc5-4f3f-bdd7-561a8db1f37e",
   "metadata": {},
   "outputs": [],
   "source": [
    "balanced_df.to_csv('../data/balanced_df.csv')"
   ]
  },
  {
   "cell_type": "markdown",
   "id": "ffcb4a4e-9567-414e-8eac-dd6bd7cd9d84",
   "metadata": {},
   "source": [
    "It is interesting to investigate the birthdate distribution of average star scores, shown in the plot below (split by gender). First of all, it is interesting to notice that the highest average star scores are concentrated in actors with the most recent birthdates (roughly 1980-2000) and with the less recent ones (roughly 1880). Actors born in the middle of these periods follow a steady trend. The first peak could be related with *Hollywood's golden age* (1930s-1940s), namely the beginning of the sound movies and one of the most productive periods in Hollywood history. Indeed, as a remainder, the revenues were corrected taking inflation into account, therefore the revenues between time periods are comparable.\n",
    "Regarding the peaks in most recent movie history, it could be related to the increasing diffusion of technology and easiness of access to content, or by the fact that the number of people watching the movies is large and consequently the number of movie rating is increased (remainder that the ratings are normalized on the number of votes; the more votes, the higher the weight of the rating).\n",
    "\n",
    "Investigating the gender differences, it is curious how actresses dominate in star score during the first period (way higher than actors), while the opposite trend is observed for the rest of the time periods (except a couple years like 1965 and 1985)."
   ]
  },
  {
   "cell_type": "code",
   "execution_count": 56,
   "id": "76e0ad23-f898-4c12-bb29-f733e1db711e",
   "metadata": {},
   "outputs": [],
   "source": [
    "#group by birthdate\n",
    "df_birthdate = balanced_df.groupby('birthdate')['star_score'].mean()"
   ]
  },
  {
   "cell_type": "code",
   "execution_count": 57,
   "id": "5f97479f-6ee8-4c8d-9a7d-1b0128f37a7b",
   "metadata": {},
   "outputs": [],
   "source": [
    "#split into actors/actresses\n",
    "df_m = balanced_df[balanced_df['gender'] == 'M']\n",
    "df_f = balanced_df[balanced_df['gender'] == 'F']"
   ]
  },
  {
   "cell_type": "code",
   "execution_count": 115,
   "id": "74d57489-e1ec-4aff-9e4e-011e1a896eca",
   "metadata": {},
   "outputs": [
    {
     "data": {
      "image/png": "[encoded data removed]",
      "text/plain": [
       "<Figure size 640x480 with 1 Axes>"
      ]
     },
     "metadata": {},
     "output_type": "display_data"
    }
   ],
   "source": [
    "dfm_birthdate = df_m.groupby('birthdate')['star_score'].mean()\n",
    "dff_birthdate = df_f.groupby('birthdate')['star_score'].mean()\n",
    "\n",
    "#plt.plot(df_birthdate.index,df_birthdate.values)\n",
    "plt.plot(dfm_birthdate.index,dfm_birthdate.values,label='actors')\n",
    "plt.plot(dff_birthdate.index,dff_birthdate.values,label='actresses')\n",
    "plt.legend()\n",
    "plt.title('Birthdate distribution of average star scores')\n",
    "plt.ylabel('Star Score')\n",
    "plt.xlabel('Birthdate')\n",
    "plt.savefig('../figures/birthdate.png', bbox_inches='tight')\n",
    "plt.show()"
   ]
  },
  {
   "cell_type": "markdown",
   "id": "7482bd9e-5fbe-4788-a43c-4fac9ed80d4c",
   "metadata": {},
   "source": [
    "The trends in the genres of movies that have larger impact. This plot could show if the preferences of the audience are diversified or if they tend to stick to certain types of films.\n",
    "\n",
    "In the first bar plot (red palette), the distribution of actors per genre is strongly skewed (log y axis), where the most popular categories are *Comedy*, *Drama* and *Action*. However, the average star scores per genre show a different trend (blue palette). The star scores are comparable between different genres (linear y axis), and the genres with highest average star scores are the ones with less actors starring in them. The highest average star scores is obtained by the category *Parody*. This could be explained because in such genre categories there is less competition (less movies produced), therefore the audience is less distributed over all the movies produced and the single actor can more easily have an impact on the revenue. Moreover, there are less famous actors in Parody movies with respect to Action, Drama and Comedy, therefore the few Parody actors joining the rich-get-richer circle keep starring and increasing their number of appearances and their success."
   ]
  },
  {
   "cell_type": "code",
   "execution_count": 183,
   "id": "969b47c2-a413-44ec-9f24-6792530c90dc",
   "metadata": {},
   "outputs": [
    {
     "data": {
      "image/png": "[encoded data removed]",
      "text/plain": [
       "<Figure size 1200x400 with 2 Axes>"
      ]
     },
     "metadata": {},
     "output_type": "display_data"
    }
   ],
   "source": [
    "#group average star scores by main actor genre and count actors by main genre\n",
    "df_genre = balanced_df.groupby('main_genre')['star_score'].agg(['mean','count']).sort_values('count',ascending=True)\n",
    "\n",
    "# setting the dimensions of the plot\n",
    "fig, ax = plt.subplots(2,1, figsize=(12, 4), sharex=True)\n",
    "\n",
    "sbplt = ax[1]\n",
    "sns.barplot(ax=ax[1],x=df_genre.index,y=df_genre['mean'],color='blue')\n",
    "sbplt.set_ylabel('Average Star Score')\n",
    "sbplt.set_xlabel('Genre')\n",
    "\n",
    "sbplt = ax[0]\n",
    "sns.barplot(ax=ax[0],x=df_genre.index,y=df_genre['count'],palette='light:r')\n",
    "sbplt.set_yscale(\"log\")\n",
    "sbplt.set_xlabel('')\n",
    "sbplt.set_ylabel('Number of actors')\n",
    "\n",
    "fig.tight_layout()\n",
    "plt.xticks(rotation=90)\n",
    "plt.savefig('../figures/genres.png', bbox_inches='tight')\n",
    "plt.show()"
   ]
  },
  {
   "cell_type": "code",
   "execution_count": 191,
   "id": "13929ed5-07e0-4900-a888-5e42d763fe6a",
   "metadata": {},
   "outputs": [],
   "source": [
    "dt = pd.read_csv('../data/data_underscore.csv')\n",
    "balanced_data = dt[dt['actor'].isin(balanced_df['actor'])]"
   ]
  },
  {
   "cell_type": "code",
   "execution_count": 195,
   "id": "1ad0f8a4-121c-453a-b0e3-0d7556dd5e2a",
   "metadata": {},
   "outputs": [
    {
     "data": {
      "text/html": [
       "<div>\n",
       "<style scoped>\n",
       "    .dataframe tbody tr th:only-of-type {\n",
       "        vertical-align: middle;\n",
       "    }\n",
       "\n",
       "    .dataframe tbody tr th {\n",
       "        vertical-align: top;\n",
       "    }\n",
       "\n",
       "    .dataframe thead th {\n",
       "        text-align: right;\n",
       "    }\n",
       "</style>\n",
       "<table border=\"1\" class=\"dataframe\">\n",
       "  <thead>\n",
       "    <tr style=\"text-align: right;\">\n",
       "      <th></th>\n",
       "      <th>Unnamed: 0</th>\n",
       "      <th>Actor_name</th>\n",
       "      <th>Actor_gender</th>\n",
       "      <th>Actor_date_of_birth</th>\n",
       "      <th>Movie_name</th>\n",
       "      <th>Movie_release_date</th>\n",
       "      <th>Movie_box_office_revenue</th>\n",
       "      <th>Movie_runtime</th>\n",
       "      <th>averageRating</th>\n",
       "      <th>numVotes</th>\n",
       "      <th>genres</th>\n",
       "      <th>countries</th>\n",
       "      <th>box_office_adj</th>\n",
       "      <th>numVotes_factor</th>\n",
       "      <th>averageRating_adj</th>\n",
       "      <th>actor</th>\n",
       "    </tr>\n",
       "  </thead>\n",
       "  <tbody>\n",
       "    <tr>\n",
       "      <th>0</th>\n",
       "      <td>0</td>\n",
       "      <td>Dustin Farnum</td>\n",
       "      <td>M</td>\n",
       "      <td>1874-05-27</td>\n",
       "      <td>The Squaw Man</td>\n",
       "      <td>1914.0</td>\n",
       "      <td>244700.0</td>\n",
       "      <td>74.0</td>\n",
       "      <td>5.833333</td>\n",
       "      <td>1418</td>\n",
       "      <td>[' \"Silent film\"', ' \"Western\"', ' \"Drama\"', '...</td>\n",
       "      <td>[' \"United States of America\"}']</td>\n",
       "      <td>6.117500e+06</td>\n",
       "      <td>0.490549</td>\n",
       "      <td>2.861536</td>\n",
       "      <td>Dustin_Farnum</td>\n",
       "    </tr>\n",
       "    <tr>\n",
       "      <th>7</th>\n",
       "      <td>7</td>\n",
       "      <td>Henry B. Walthall</td>\n",
       "      <td>M</td>\n",
       "      <td>1878-03-16</td>\n",
       "      <td>The Birth of a Nation</td>\n",
       "      <td>1915.0</td>\n",
       "      <td>50000000.0</td>\n",
       "      <td>190.0</td>\n",
       "      <td>6.600000</td>\n",
       "      <td>46186</td>\n",
       "      <td>[' \"Silent film\"', ' \"Indie\"', ' \"Costume dram...</td>\n",
       "      <td>[' \"United States of America\"}']</td>\n",
       "      <td>1.250000e+09</td>\n",
       "      <td>0.726017</td>\n",
       "      <td>4.791714</td>\n",
       "      <td>Henry_B._Walthall</td>\n",
       "    </tr>\n",
       "    <tr>\n",
       "      <th>15</th>\n",
       "      <td>15</td>\n",
       "      <td>Burr McIntosh</td>\n",
       "      <td>M</td>\n",
       "      <td>1862-08-21</td>\n",
       "      <td>Way Down East</td>\n",
       "      <td>1920.0</td>\n",
       "      <td>4500000.0</td>\n",
       "      <td>147.0</td>\n",
       "      <td>6.750000</td>\n",
       "      <td>5791</td>\n",
       "      <td>[' \"Silent film\"', ' \"Indie\"', ' \"Black-and-wh...</td>\n",
       "      <td>[' \"United States of America\"}']</td>\n",
       "      <td>5.625000e+07</td>\n",
       "      <td>0.585661</td>\n",
       "      <td>3.953215</td>\n",
       "      <td>Burr_McIntosh</td>\n",
       "    </tr>\n",
       "  </tbody>\n",
       "</table>\n",
       "</div>"
      ],
      "text/plain": [
       "    Unnamed: 0         Actor_name Actor_gender Actor_date_of_birth  \\\n",
       "0            0      Dustin Farnum            M          1874-05-27   \n",
       "7            7  Henry B. Walthall            M          1878-03-16   \n",
       "15          15      Burr McIntosh            M          1862-08-21   \n",
       "\n",
       "               Movie_name  Movie_release_date  Movie_box_office_revenue  \\\n",
       "0           The Squaw Man              1914.0                  244700.0   \n",
       "7   The Birth of a Nation              1915.0                50000000.0   \n",
       "15          Way Down East              1920.0                 4500000.0   \n",
       "\n",
       "    Movie_runtime  averageRating  numVotes  \\\n",
       "0            74.0       5.833333      1418   \n",
       "7           190.0       6.600000     46186   \n",
       "15          147.0       6.750000      5791   \n",
       "\n",
       "                                               genres  \\\n",
       "0   [' \"Silent film\"', ' \"Western\"', ' \"Drama\"', '...   \n",
       "7   [' \"Silent film\"', ' \"Indie\"', ' \"Costume dram...   \n",
       "15  [' \"Silent film\"', ' \"Indie\"', ' \"Black-and-wh...   \n",
       "\n",
       "                           countries  box_office_adj  numVotes_factor  \\\n",
       "0   [' \"United States of America\"}']    6.117500e+06         0.490549   \n",
       "7   [' \"United States of America\"}']    1.250000e+09         0.726017   \n",
       "15  [' \"United States of America\"}']    5.625000e+07         0.585661   \n",
       "\n",
       "    averageRating_adj              actor  \n",
       "0            2.861536      Dustin_Farnum  \n",
       "7            4.791714  Henry_B._Walthall  \n",
       "15           3.953215      Burr_McIntosh  "
      ]
     },
     "execution_count": 195,
     "metadata": {},
     "output_type": "execute_result"
    }
   ],
   "source": [
    "balanced_data.head(3)"
   ]
  },
  {
   "cell_type": "code",
   "execution_count": 206,
   "id": "64bce54c-d6ca-4198-bd1e-5ad41516bab1",
   "metadata": {},
   "outputs": [],
   "source": [
    "G = nx.MultiDiGraph()\n",
    "\n",
    "for i,j in balanced_data.iterrows():\n",
    "    G.add_edge(j.actor,j.Movie_name)"
   ]
  },
  {
   "cell_type": "code",
   "execution_count": 207,
   "id": "9313ffc8-95f4-48b0-bd7b-f9793a319808",
   "metadata": {},
   "outputs": [
    {
     "name": "stdout",
     "output_type": "stream",
     "text": [
      "16859\n",
      "39506\n",
      "2.3433181090218875\n"
     ]
    }
   ],
   "source": [
    "print(len(G.nodes)) #number of nodes\n",
    "print(len(G.edges)) #number of edges\n",
    "print(len(G.edges)/len(G.nodes)) #average degree"
   ]
  },
  {
   "cell_type": "markdown",
   "id": "56cf2e54-48ab-44f3-a0d5-928bbc68c5c3",
   "metadata": {},
   "source": [
    "The next analysis will investigate the change in star score over the actors' movies. Indeed, for a movie director, knowing if the actor's star score (impact on movies) has been raising or dropping over his recent movies, can be a hiring metric. Given that the star score tends always increases over an actor's career (given that the appearances can only increase), a suited approach would be to look at the relative increase."
   ]
  },
  {
   "cell_type": "code",
   "execution_count": 276,
   "id": "32c17269-19de-440d-a8cc-929bea2e6474",
   "metadata": {},
   "outputs": [],
   "source": []
  },
  {
   "cell_type": "code",
   "execution_count": 282,
   "id": "77d7ac29-50a2-470b-b42e-c96e4426e6b4",
   "metadata": {},
   "outputs": [
    {
     "data": {
      "text/html": [
       "<div>\n",
       "<style scoped>\n",
       "    .dataframe tbody tr th:only-of-type {\n",
       "        vertical-align: middle;\n",
       "    }\n",
       "\n",
       "    .dataframe tbody tr th {\n",
       "        vertical-align: top;\n",
       "    }\n",
       "\n",
       "    .dataframe thead th {\n",
       "        text-align: right;\n",
       "    }\n",
       "</style>\n",
       "<table border=\"1\" class=\"dataframe\">\n",
       "  <thead>\n",
       "    <tr style=\"text-align: right;\">\n",
       "      <th></th>\n",
       "      <th>region</th>\n",
       "      <th>title</th>\n",
       "    </tr>\n",
       "  </thead>\n",
       "  <tbody>\n",
       "    <tr>\n",
       "      <th>104</th>\n",
       "      <td>IT</td>\n",
       "      <td>3979858</td>\n",
       "    </tr>\n",
       "  </tbody>\n",
       "</table>\n",
       "</div>"
      ],
      "text/plain": [
       "    region    title\n",
       "104     IT  3979858"
      ]
     },
     "execution_count": 282,
     "metadata": {},
     "output_type": "execute_result"
    }
   ],
   "source": []
  },
  {
   "cell_type": "code",
   "execution_count": 292,
   "id": "50033810-cf5a-4272-9865-48b5e9b57e51",
   "metadata": {},
   "outputs": [],
   "source": []
  },
  {
   "cell_type": "code",
   "execution_count": 325,
   "id": "07645454-f5c6-4360-8bea-f7cb1cddda67",
   "metadata": {},
   "outputs": [],
   "source": [
    "appearances = it.groupby('actor')['title'].count().sort_values(ascending=False).reset_index()"
   ]
  },
  {
   "cell_type": "code",
   "execution_count": 329,
   "id": "c0af8cbe-7a11-476a-abb9-8a498941693d",
   "metadata": {},
   "outputs": [
    {
     "data": {
      "text/html": [
       "<div>\n",
       "<style scoped>\n",
       "    .dataframe tbody tr th:only-of-type {\n",
       "        vertical-align: middle;\n",
       "    }\n",
       "\n",
       "    .dataframe tbody tr th {\n",
       "        vertical-align: top;\n",
       "    }\n",
       "\n",
       "    .dataframe thead th {\n",
       "        text-align: right;\n",
       "    }\n",
       "</style>\n",
       "<table border=\"1\" class=\"dataframe\">\n",
       "  <thead>\n",
       "    <tr style=\"text-align: right;\">\n",
       "      <th></th>\n",
       "      <th>Unnamed: 0</th>\n",
       "      <th>tconst</th>\n",
       "      <th>title</th>\n",
       "      <th>year</th>\n",
       "      <th>genres</th>\n",
       "      <th>averageRating</th>\n",
       "      <th>numVotes</th>\n",
       "      <th>Director</th>\n",
       "      <th>category</th>\n",
       "      <th>actor</th>\n",
       "      <th>titleId</th>\n",
       "      <th>ordering</th>\n",
       "      <th>region</th>\n",
       "      <th>language</th>\n",
       "      <th>types</th>\n",
       "      <th>attributes</th>\n",
       "      <th>isOriginalTitle</th>\n",
       "    </tr>\n",
       "  </thead>\n",
       "  <tbody>\n",
       "    <tr>\n",
       "      <th>79</th>\n",
       "      <td>19</td>\n",
       "      <td>tt0000630</td>\n",
       "      <td>Hamlet</td>\n",
       "      <td>1908</td>\n",
       "      <td>Drama</td>\n",
       "      <td>2.9</td>\n",
       "      <td>25</td>\n",
       "      <td>Mario Caserini</td>\n",
       "      <td>actress</td>\n",
       "      <td>Fernanda Negri Pouget</td>\n",
       "      <td>tt0000630</td>\n",
       "      <td>1</td>\n",
       "      <td>IT</td>\n",
       "      <td>\\N</td>\n",
       "      <td>imdbDisplay</td>\n",
       "      <td>\\N</td>\n",
       "      <td>0</td>\n",
       "    </tr>\n",
       "    <tr>\n",
       "      <th>112</th>\n",
       "      <td>36</td>\n",
       "      <td>tt0001112</td>\n",
       "      <td>Amleto</td>\n",
       "      <td>1910</td>\n",
       "      <td>Drama</td>\n",
       "      <td>3.8</td>\n",
       "      <td>42</td>\n",
       "      <td>Mario Caserini</td>\n",
       "      <td>actor</td>\n",
       "      <td>Dante Cappelli</td>\n",
       "      <td>tt0001112</td>\n",
       "      <td>1</td>\n",
       "      <td>IT</td>\n",
       "      <td>\\N</td>\n",
       "      <td>imdbDisplay</td>\n",
       "      <td>\\N</td>\n",
       "      <td>0</td>\n",
       "    </tr>\n",
       "    <tr>\n",
       "      <th>116</th>\n",
       "      <td>37</td>\n",
       "      <td>tt0001112</td>\n",
       "      <td>Amleto</td>\n",
       "      <td>1910</td>\n",
       "      <td>Drama</td>\n",
       "      <td>3.8</td>\n",
       "      <td>42</td>\n",
       "      <td>Mario Caserini</td>\n",
       "      <td>actress</td>\n",
       "      <td>Maria Caserini</td>\n",
       "      <td>tt0001112</td>\n",
       "      <td>1</td>\n",
       "      <td>IT</td>\n",
       "      <td>\\N</td>\n",
       "      <td>imdbDisplay</td>\n",
       "      <td>\\N</td>\n",
       "      <td>0</td>\n",
       "    </tr>\n",
       "    <tr>\n",
       "      <th>954</th>\n",
       "      <td>203</td>\n",
       "      <td>tt0002445</td>\n",
       "      <td>Quo Vadis?</td>\n",
       "      <td>1913</td>\n",
       "      <td>Drama,History</td>\n",
       "      <td>6.2</td>\n",
       "      <td>378</td>\n",
       "      <td>Enrico Guazzoni</td>\n",
       "      <td>actor</td>\n",
       "      <td>Amleto Novelli</td>\n",
       "      <td>tt0002445</td>\n",
       "      <td>4</td>\n",
       "      <td>IT</td>\n",
       "      <td>\\N</td>\n",
       "      <td>imdbDisplay</td>\n",
       "      <td>\\N</td>\n",
       "      <td>0</td>\n",
       "    </tr>\n",
       "    <tr>\n",
       "      <th>964</th>\n",
       "      <td>204</td>\n",
       "      <td>tt0002445</td>\n",
       "      <td>Quo Vadis?</td>\n",
       "      <td>1913</td>\n",
       "      <td>Drama,History</td>\n",
       "      <td>6.2</td>\n",
       "      <td>378</td>\n",
       "      <td>Enrico Guazzoni</td>\n",
       "      <td>actor</td>\n",
       "      <td>Gustavo Serena</td>\n",
       "      <td>tt0002445</td>\n",
       "      <td>4</td>\n",
       "      <td>IT</td>\n",
       "      <td>\\N</td>\n",
       "      <td>imdbDisplay</td>\n",
       "      <td>\\N</td>\n",
       "      <td>0</td>\n",
       "    </tr>\n",
       "  </tbody>\n",
       "</table>\n",
       "</div>"
      ],
      "text/plain": [
       "     Unnamed: 0     tconst       title  year         genres  averageRating  \\\n",
       "79           19  tt0000630      Hamlet  1908          Drama            2.9   \n",
       "112          36  tt0001112      Amleto  1910          Drama            3.8   \n",
       "116          37  tt0001112      Amleto  1910          Drama            3.8   \n",
       "954         203  tt0002445  Quo Vadis?  1913  Drama,History            6.2   \n",
       "964         204  tt0002445  Quo Vadis?  1913  Drama,History            6.2   \n",
       "\n",
       "     numVotes         Director category                  actor    titleId  \\\n",
       "79         25   Mario Caserini  actress  Fernanda Negri Pouget  tt0000630   \n",
       "112        42   Mario Caserini    actor         Dante Cappelli  tt0001112   \n",
       "116        42   Mario Caserini  actress         Maria Caserini  tt0001112   \n",
       "954       378  Enrico Guazzoni    actor         Amleto Novelli  tt0002445   \n",
       "964       378  Enrico Guazzoni    actor         Gustavo Serena  tt0002445   \n",
       "\n",
       "     ordering region language        types attributes isOriginalTitle  \n",
       "79          1     IT       \\N  imdbDisplay         \\N               0  \n",
       "112         1     IT       \\N  imdbDisplay         \\N               0  \n",
       "116         1     IT       \\N  imdbDisplay         \\N               0  \n",
       "954         4     IT       \\N  imdbDisplay         \\N               0  \n",
       "964         4     IT       \\N  imdbDisplay         \\N               0  "
      ]
     },
     "execution_count": 329,
     "metadata": {},
     "output_type": "execute_result"
    }
   ],
   "source": [
    "it.head()"
   ]
  },
  {
   "cell_type": "code",
   "execution_count": 327,
   "id": "f9ee1bd1-23f9-432d-964b-33fe87478040",
   "metadata": {},
   "outputs": [
    {
     "data": {
      "text/plain": [
       "[<matplotlib.lines.Line2D at 0x1e83820fe80>]"
      ]
     },
     "execution_count": 327,
     "metadata": {},
     "output_type": "execute_result"
    },
    {
     "data": {
      "image/png": "[encoded data removed]",
      "text/plain": [
       "<Figure size 640x480 with 1 Axes>"
      ]
     },
     "metadata": {},
     "output_type": "display_data"
    }
   ],
   "source": [
    "plt.semilogy(appearances.index,appearances.title)"
   ]
  },
  {
   "cell_type": "code",
   "execution_count": null,
   "id": "2d2ca6bc-4d57-4417-8e31-7a4947b643a3",
   "metadata": {},
   "outputs": [],
   "source": []
  },
  {
   "cell_type": "code",
   "execution_count": null,
   "id": "fb0e6e8d-5271-4812-b739-3dbcdcf79be5",
   "metadata": {},
   "outputs": [],
   "source": []
  },
  {
   "cell_type": "code",
   "execution_count": null,
   "id": "691a3d38-cc75-4145-9eff-c742f9d842db",
   "metadata": {},
   "outputs": [],
   "source": []
  },
  {
   "cell_type": "code",
   "execution_count": null,
   "id": "9c10b313-2112-4e14-9a18-119da67e6db6",
   "metadata": {},
   "outputs": [],
   "source": []
  },
  {
   "cell_type": "code",
   "execution_count": null,
   "id": "a9ed3483-b3f3-4ad6-851f-ea4ab3e1706a",
   "metadata": {},
   "outputs": [],
   "source": []
  },
  {
   "cell_type": "code",
   "execution_count": 244,
   "id": "564f7058-0238-4a14-8acd-ee876d80cd90",
   "metadata": {},
   "outputs": [],
   "source": [
    "appearances = df.groupby('ActorName')['primaryTitle'].count().sort_values(ascending=False).reset_index()"
   ]
  },
  {
   "cell_type": "code",
   "execution_count": 235,
   "id": "8c69edaa-7b2f-4ea9-b68c-037203e60e50",
   "metadata": {},
   "outputs": [],
   "source": [
    "appearances = appearances[appearances > 1].reset_index()"
   ]
  },
  {
   "cell_type": "code",
   "execution_count": 245,
   "id": "024541ba-7c3e-493c-8b2d-7b68ef5bab44",
   "metadata": {},
   "outputs": [
    {
     "data": {
      "text/html": [
       "<div>\n",
       "<style scoped>\n",
       "    .dataframe tbody tr th:only-of-type {\n",
       "        vertical-align: middle;\n",
       "    }\n",
       "\n",
       "    .dataframe tbody tr th {\n",
       "        vertical-align: top;\n",
       "    }\n",
       "\n",
       "    .dataframe thead th {\n",
       "        text-align: right;\n",
       "    }\n",
       "</style>\n",
       "<table border=\"1\" class=\"dataframe\">\n",
       "  <thead>\n",
       "    <tr style=\"text-align: right;\">\n",
       "      <th></th>\n",
       "      <th>ActorName</th>\n",
       "      <th>primaryTitle</th>\n",
       "    </tr>\n",
       "  </thead>\n",
       "  <tbody>\n",
       "    <tr>\n",
       "      <th>0</th>\n",
       "      <td>Brahmanandam</td>\n",
       "      <td>382</td>\n",
       "    </tr>\n",
       "    <tr>\n",
       "      <th>1</th>\n",
       "      <td>Mithun Chakraborty</td>\n",
       "      <td>300</td>\n",
       "    </tr>\n",
       "    <tr>\n",
       "      <th>2</th>\n",
       "      <td>Mammootty</td>\n",
       "      <td>291</td>\n",
       "    </tr>\n",
       "    <tr>\n",
       "      <th>3</th>\n",
       "      <td>Mohanlal</td>\n",
       "      <td>289</td>\n",
       "    </tr>\n",
       "    <tr>\n",
       "      <th>4</th>\n",
       "      <td>Cüneyt Arkin</td>\n",
       "      <td>268</td>\n",
       "    </tr>\n",
       "    <tr>\n",
       "      <th>...</th>\n",
       "      <td>...</td>\n",
       "      <td>...</td>\n",
       "    </tr>\n",
       "    <tr>\n",
       "      <th>349890</th>\n",
       "      <td>Jae Liew</td>\n",
       "      <td>1</td>\n",
       "    </tr>\n",
       "    <tr>\n",
       "      <th>349891</th>\n",
       "      <td>Jae McCain</td>\n",
       "      <td>1</td>\n",
       "    </tr>\n",
       "    <tr>\n",
       "      <th>349892</th>\n",
       "      <td>Jae Phan</td>\n",
       "      <td>1</td>\n",
       "    </tr>\n",
       "    <tr>\n",
       "      <th>349893</th>\n",
       "      <td>Jae Seymour</td>\n",
       "      <td>1</td>\n",
       "    </tr>\n",
       "    <tr>\n",
       "      <th>349894</th>\n",
       "      <td>Þórður Aðalbjörnsson</td>\n",
       "      <td>1</td>\n",
       "    </tr>\n",
       "  </tbody>\n",
       "</table>\n",
       "<p>349895 rows × 2 columns</p>\n",
       "</div>"
      ],
      "text/plain": [
       "                   ActorName  primaryTitle\n",
       "0               Brahmanandam           382\n",
       "1         Mithun Chakraborty           300\n",
       "2                  Mammootty           291\n",
       "3                   Mohanlal           289\n",
       "4               Cüneyt Arkin           268\n",
       "...                      ...           ...\n",
       "349890              Jae Liew             1\n",
       "349891            Jae McCain             1\n",
       "349892              Jae Phan             1\n",
       "349893           Jae Seymour             1\n",
       "349894  Þórður Aðalbjörnsson             1\n",
       "\n",
       "[349895 rows x 2 columns]"
      ]
     },
     "execution_count": 245,
     "metadata": {},
     "output_type": "execute_result"
    }
   ],
   "source": [
    "appearances"
   ]
  },
  {
   "cell_type": "code",
   "execution_count": 246,
   "id": "80b7ced7-a22c-4c60-8832-facdeb4e621b",
   "metadata": {},
   "outputs": [
    {
     "data": {
      "text/plain": [
       "[<matplotlib.lines.Line2D at 0x1e7076d92b0>]"
      ]
     },
     "execution_count": 246,
     "metadata": {},
     "output_type": "execute_result"
    },
    {
     "data": {
      "image/png": "[encoded data removed]",
      "text/plain": [
       "<Figure size 640x480 with 1 Axes>"
      ]
     },
     "metadata": {},
     "output_type": "display_data"
    }
   ],
   "source": [
    "plt.loglog(appearances.index,appearances.primaryTitle)"
   ]
  },
  {
   "cell_type": "code",
   "execution_count": null,
   "id": "af4d3242-9f51-483d-842f-e4a632704733",
   "metadata": {},
   "outputs": [],
   "source": []
  }
 ],
 "metadata": {
  "kernelspec": {
   "display_name": "Python [conda env:ada] *",
   "language": "python",
   "name": "conda-env-ada-py"
  },
  "language_info": {
   "codemirror_mode": {
    "name": "ipython",
    "version": 3
   },
   "file_extension": ".py",
   "mimetype": "text/x-python",
   "name": "python",
   "nbconvert_exporter": "python",
   "pygments_lexer": "ipython3",
   "version": "3.8.13"
  }
 },
 "nbformat": 4,
 "nbformat_minor": 5
}
