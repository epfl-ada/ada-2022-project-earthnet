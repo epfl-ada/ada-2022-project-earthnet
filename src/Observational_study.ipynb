{
 "cells": [
  {
   "cell_type": "markdown",
   "id": "f1df1fb8-ace6-4cc4-8577-5386fcab6f03",
   "metadata": {},
   "source": [
    "# Observational study"
   ]
  },
  {
   "cell_type": "markdown",
   "id": "a71cd0b4-738a-4799-afcb-8c36b2c857e0",
   "metadata": {},
   "source": [
    "The goal of the present project is to define a valid metric to evaluate the impact of actors on movies. Specifically, distilling actors careers to a single number, the *star score*. Identifying the latter implies the need to identify truly successful actors, namely actors that had the highest positive impact on movies, in terms of revenues and ratings. Given the presence of multiple confounders, such as the affinity of actors with  particulare genres, different genders or the preference of directors for specific actors, an observational study is carried out to limit the influence of unobserved covariates."
   ]
  },
  {
   "cell_type": "code",
   "execution_count": 2,
   "id": "10b8e2d0-eb55-4467-b318-0b10732a10eb",
   "metadata": {},
   "outputs": [],
   "source": [
    "import pandas as pd\n",
    "import numpy as np\n",
    "import matplotlib.pyplot as plt\n",
    "import matplotlib.patheffects as pe\n",
    "%matplotlib inline\n",
    "import seaborn as sns\n",
    "from scipy import stats\n",
    "import statsmodels.api as sm\n",
    "import re\n",
    "import warnings\n",
    "warnings.filterwarnings('ignore')"
   ]
  },
  {
   "cell_type": "code",
   "execution_count": 241,
   "id": "696797e7-4041-4043-8b5d-63cc4bd66a08",
   "metadata": {},
   "outputs": [],
   "source": [
    "#importing our clean data\n",
    "data = pd.read_csv('../data/data.csv', index_col = 0)\n",
    "data_profit = pd.read_csv('../data/profit_data.csv', index_col = 0)\n",
    "actors = pd.read_csv('../data/timeScores.csv', index_col = 0)\n",
    "ss = pd.read_csv('obs.csv', index_col = 0)"
   ]
  },
  {
   "cell_type": "code",
   "execution_count": 242,
   "id": "dd446b86-3942-4236-b128-dfef49001091",
   "metadata": {},
   "outputs": [],
   "source": [
    "actors['appearances'] = ss['appearances']\n",
    "actors['gender'] = ss['gender']"
   ]
  },
  {
   "cell_type": "code",
   "execution_count": 243,
   "id": "7f007632-f5c2-4923-b3dc-e7a628dd88a8",
   "metadata": {},
   "outputs": [
    {
     "data": {
      "text/html": [
       "<div>\n",
       "<style scoped>\n",
       "    .dataframe tbody tr th:only-of-type {\n",
       "        vertical-align: middle;\n",
       "    }\n",
       "\n",
       "    .dataframe tbody tr th {\n",
       "        vertical-align: top;\n",
       "    }\n",
       "\n",
       "    .dataframe thead th {\n",
       "        text-align: right;\n",
       "    }\n",
       "</style>\n",
       "<table border=\"1\" class=\"dataframe\">\n",
       "  <thead>\n",
       "    <tr style=\"text-align: right;\">\n",
       "      <th></th>\n",
       "      <th>actor</th>\n",
       "      <th>revenues</th>\n",
       "      <th>movie_years</th>\n",
       "      <th>ratings</th>\n",
       "      <th>cumulative_revenue</th>\n",
       "      <th>cumulative_ratings</th>\n",
       "      <th>star_score</th>\n",
       "      <th>epfl_score</th>\n",
       "      <th>genres</th>\n",
       "      <th>genre_count</th>\n",
       "      <th>main_genre</th>\n",
       "      <th>2nd_genre</th>\n",
       "      <th>appearances</th>\n",
       "      <th>gender</th>\n",
       "    </tr>\n",
       "  </thead>\n",
       "  <tbody>\n",
       "    <tr>\n",
       "      <th>0</th>\n",
       "      <td>Dustin_Farnum</td>\n",
       "      <td>[6117500.]</td>\n",
       "      <td>[1914.]</td>\n",
       "      <td>[2.86153647]</td>\n",
       "      <td>[6117500.]</td>\n",
       "      <td>[2.86153647]</td>\n",
       "      <td>[16.67802278]</td>\n",
       "      <td>[2.69731427]</td>\n",
       "      <td>['Black-and-white', 'Drama', 'Indie', 'Silent ...</td>\n",
       "      <td>[1 1 1 1 1]</td>\n",
       "      <td>Black-and-white</td>\n",
       "      <td>Drama</td>\n",
       "      <td>1.0</td>\n",
       "      <td>M</td>\n",
       "    </tr>\n",
       "  </tbody>\n",
       "</table>\n",
       "</div>"
      ],
      "text/plain": [
       "           actor    revenues movie_years       ratings cumulative_revenue  \\\n",
       "0  Dustin_Farnum  [6117500.]     [1914.]  [2.86153647]         [6117500.]   \n",
       "\n",
       "  cumulative_ratings     star_score    epfl_score  \\\n",
       "0       [2.86153647]  [16.67802278]  [2.69731427]   \n",
       "\n",
       "                                              genres  genre_count  \\\n",
       "0  ['Black-and-white', 'Drama', 'Indie', 'Silent ...  [1 1 1 1 1]   \n",
       "\n",
       "        main_genre 2nd_genre  appearances gender  \n",
       "0  Black-and-white     Drama          1.0      M  "
      ]
     },
     "execution_count": 243,
     "metadata": {},
     "output_type": "execute_result"
    }
   ],
   "source": [
    "actors.head(1)"
   ]
  },
  {
   "cell_type": "markdown",
   "id": "d8a274bc-1955-4226-9133-d82c7d84d5d0",
   "metadata": {},
   "source": [
    "The treatment and control group of the observational study will be identified by the number of times actors starred in movies. The assumption is that successful actors keep acting, while the career of less-successfull ones ends early. This hypothesis is supported by the rich-get-richer mechanism, for which successful actors keep starring with other successful actors, making them even more successful and naturally generating a power law in the appearances distribution.\n",
    "\n",
    "Just as normal distributions arise from many independent random decisions averaging out, we power laws arise from the feedback introduced by correlated decisions across a population.\n",
    "\n",
    "Source:\n",
    "Networks, Crowds, and Markets: Reasoning about a Highly Connected World.\n",
    "By David Easley and Jon Kleinberg. Cambridge University Press, 2010.\n",
    "http://www.cs.cornell.edu/home/kleinber/networks-book/"
   ]
  },
  {
   "cell_type": "markdown",
   "id": "759c5e97-52ae-4c16-827b-ae50f51b8a64",
   "metadata": {},
   "source": [
    "Thedistribution of the number of appearances is shown below. The distribution is a power law because it is represented by a straight line in bi-logarithmic axes (it is linear in the log domain)."
   ]
  },
  {
   "cell_type": "code",
   "execution_count": 244,
   "id": "80f2edfd-e7d4-4d17-8a51-90bd39e38e73",
   "metadata": {},
   "outputs": [
    {
     "data": {
      "image/png": "[encoded data removed]",
      "text/plain": [
       "<Figure size 800x300 with 2 Axes>"
      ]
     },
     "metadata": {},
     "output_type": "display_data"
    }
   ],
   "source": [
    "#2 subplots\n",
    "fig, ax = plt.subplots(1,2, figsize=(8,3))\n",
    "\n",
    "#group by number of appearances and sort\n",
    "act = actors.groupby('appearances')['appearances'].count().sort_values(ascending=False)\n",
    "\n",
    "sbplt = ax[0]\n",
    "sbplt.hist(actors.appearances, bins=30)\n",
    "sbplt.set_title('Linear axes')\n",
    "sbplt.set_xlabel('Appearances')\n",
    "\n",
    "sbplt = ax[1]\n",
    "sbplt.loglog(act.index,act.values)\n",
    "sbplt.set_title('Logarithmic axes')\n",
    "sbplt.set_xlabel('Appearances')\n",
    "    \n",
    "fig.tight_layout()\n",
    "plt.show()"
   ]
  },
  {
   "cell_type": "markdown",
   "id": "e934f301-9e0d-4a7f-998c-b39ee7466e79",
   "metadata": {},
   "source": [
    "Supported by the previous assumption, the treatment group will be the group with the higher number of appearances. The splitting of the dataset will be carried out based on the median of the distribution, more representative than the mean when considering skewed distributions."
   ]
  },
  {
   "cell_type": "code",
   "execution_count": 245,
   "id": "cbd8c11c-ec75-4178-b6b4-4ffcde69266e",
   "metadata": {},
   "outputs": [
    {
     "name": "stdout",
     "output_type": "stream",
     "text": [
      "The median of the distribution is 2.0\n",
      "The mean of the distribution is 3.588943623426382\n"
     ]
    }
   ],
   "source": [
    "#median\n",
    "print('The median of the distribution is ' + str(np.median(actors.appearances)))\n",
    "print('The mean of the distribution is ' + str(np.mean(actors.appearances)))"
   ]
  },
  {
   "cell_type": "code",
   "execution_count": 246,
   "id": "210e8e55-5ba6-480f-a842-06129f9a3e37",
   "metadata": {},
   "outputs": [],
   "source": [
    "actors['treatment'] = (actors['appearances'] > 2).astype(int)"
   ]
  },
  {
   "cell_type": "code",
   "execution_count": 247,
   "id": "e34848fe-cec1-4f04-b145-1857204a5bc4",
   "metadata": {},
   "outputs": [
    {
     "data": {
      "text/html": [
       "<div>\n",
       "<style scoped>\n",
       "    .dataframe tbody tr th:only-of-type {\n",
       "        vertical-align: middle;\n",
       "    }\n",
       "\n",
       "    .dataframe tbody tr th {\n",
       "        vertical-align: top;\n",
       "    }\n",
       "\n",
       "    .dataframe thead th {\n",
       "        text-align: right;\n",
       "    }\n",
       "</style>\n",
       "<table border=\"1\" class=\"dataframe\">\n",
       "  <thead>\n",
       "    <tr style=\"text-align: right;\">\n",
       "      <th></th>\n",
       "      <th>actor</th>\n",
       "      <th>revenues</th>\n",
       "      <th>movie_years</th>\n",
       "      <th>ratings</th>\n",
       "      <th>cumulative_revenue</th>\n",
       "      <th>cumulative_ratings</th>\n",
       "      <th>star_score</th>\n",
       "      <th>epfl_score</th>\n",
       "      <th>genres</th>\n",
       "      <th>genre_count</th>\n",
       "      <th>main_genre</th>\n",
       "      <th>2nd_genre</th>\n",
       "      <th>appearances</th>\n",
       "      <th>gender</th>\n",
       "      <th>treatment</th>\n",
       "    </tr>\n",
       "  </thead>\n",
       "  <tbody>\n",
       "    <tr>\n",
       "      <th>0</th>\n",
       "      <td>Dustin_Farnum</td>\n",
       "      <td>[6117500.]</td>\n",
       "      <td>[1914.]</td>\n",
       "      <td>[2.86153647]</td>\n",
       "      <td>[6117500.]</td>\n",
       "      <td>[2.86153647]</td>\n",
       "      <td>[16.67802278]</td>\n",
       "      <td>[2.69731427]</td>\n",
       "      <td>['Black-and-white', 'Drama', 'Indie', 'Silent ...</td>\n",
       "      <td>[1 1 1 1 1]</td>\n",
       "      <td>Black-and-white</td>\n",
       "      <td>Drama</td>\n",
       "      <td>1.0</td>\n",
       "      <td>M</td>\n",
       "      <td>0</td>\n",
       "    </tr>\n",
       "  </tbody>\n",
       "</table>\n",
       "</div>"
      ],
      "text/plain": [
       "           actor    revenues movie_years       ratings cumulative_revenue  \\\n",
       "0  Dustin_Farnum  [6117500.]     [1914.]  [2.86153647]         [6117500.]   \n",
       "\n",
       "  cumulative_ratings     star_score    epfl_score  \\\n",
       "0       [2.86153647]  [16.67802278]  [2.69731427]   \n",
       "\n",
       "                                              genres  genre_count  \\\n",
       "0  ['Black-and-white', 'Drama', 'Indie', 'Silent ...  [1 1 1 1 1]   \n",
       "\n",
       "        main_genre 2nd_genre  appearances gender  treatment  \n",
       "0  Black-and-white     Drama          1.0      M          0  "
      ]
     },
     "execution_count": 247,
     "metadata": {},
     "output_type": "execute_result"
    }
   ],
   "source": [
    "actors.head(1)"
   ]
  },
  {
   "cell_type": "markdown",
   "id": "82549461-d21f-483a-8f71-2ec7d9645ccc",
   "metadata": {},
   "source": [
    "To limit the effect of confounders, the individuals of the groups will be matched on propensity score, namely the probability of being in the treatment group based on observed covariates. To extract the propensity scores, a logistic regression is trained and applied on the same dataset, this will output the needed probabilities.\n",
    "\n",
    "In is worth mentioning that the revenues and ratings are characteristics that define the success of the movie and that will set the basis for the definition of the *star score*. Therefore, they are not included in the matching features, otherwise they would bias the process of identification of successful actors."
   ]
  },
  {
   "cell_type": "code",
   "execution_count": 252,
   "id": "63c50c9a-f017-4ad9-abd1-7da6c1dab23c",
   "metadata": {},
   "outputs": [],
   "source": [
    "X = actors[{'main_genre','2nd_genre','gender'}]"
   ]
  },
  {
   "cell_type": "code",
   "execution_count": 253,
   "id": "f9f7ef83-3d33-4a73-8a3b-9cbbb84b59f9",
   "metadata": {},
   "outputs": [],
   "source": [
    "X = pd.get_dummies(X,columns=['main_genre','2nd_genre','gender'])\n",
    "y = actors['treatment']"
   ]
  },
  {
   "cell_type": "code",
   "execution_count": 254,
   "id": "e877ede0-20bb-46bf-b0e3-ee61ca8db511",
   "metadata": {},
   "outputs": [
    {
     "data": {
      "text/html": [
       "<div>\n",
       "<style scoped>\n",
       "    .dataframe tbody tr th:only-of-type {\n",
       "        vertical-align: middle;\n",
       "    }\n",
       "\n",
       "    .dataframe tbody tr th {\n",
       "        vertical-align: top;\n",
       "    }\n",
       "\n",
       "    .dataframe thead th {\n",
       "        text-align: right;\n",
       "    }\n",
       "</style>\n",
       "<table border=\"1\" class=\"dataframe\">\n",
       "  <thead>\n",
       "    <tr style=\"text-align: right;\">\n",
       "      <th></th>\n",
       "      <th>main_genre_Absurdism</th>\n",
       "      <th>main_genre_Action</th>\n",
       "      <th>main_genre_Action Comedy</th>\n",
       "      <th>main_genre_Action Thrillers</th>\n",
       "      <th>main_genre_Action/Adventure</th>\n",
       "      <th>main_genre_Addiction Drama</th>\n",
       "      <th>main_genre_Adult</th>\n",
       "      <th>main_genre_Adventure</th>\n",
       "      <th>main_genre_Adventure Comedy</th>\n",
       "      <th>main_genre_Airplanes and airports</th>\n",
       "      <th>...</th>\n",
       "      <th>2nd_genre_Suspense</th>\n",
       "      <th>2nd_genre_Teen</th>\n",
       "      <th>2nd_genre_Thriller</th>\n",
       "      <th>2nd_genre_Time travel</th>\n",
       "      <th>2nd_genre_War film</th>\n",
       "      <th>2nd_genre_Western</th>\n",
       "      <th>2nd_genre_Workplace Comedy</th>\n",
       "      <th>2nd_genre_World cinema</th>\n",
       "      <th>gender_F</th>\n",
       "      <th>gender_M</th>\n",
       "    </tr>\n",
       "  </thead>\n",
       "  <tbody>\n",
       "    <tr>\n",
       "      <th>0</th>\n",
       "      <td>0</td>\n",
       "      <td>0</td>\n",
       "      <td>0</td>\n",
       "      <td>0</td>\n",
       "      <td>0</td>\n",
       "      <td>0</td>\n",
       "      <td>0</td>\n",
       "      <td>0</td>\n",
       "      <td>0</td>\n",
       "      <td>0</td>\n",
       "      <td>...</td>\n",
       "      <td>0</td>\n",
       "      <td>0</td>\n",
       "      <td>0</td>\n",
       "      <td>0</td>\n",
       "      <td>0</td>\n",
       "      <td>0</td>\n",
       "      <td>0</td>\n",
       "      <td>0</td>\n",
       "      <td>0</td>\n",
       "      <td>1</td>\n",
       "    </tr>\n",
       "    <tr>\n",
       "      <th>1</th>\n",
       "      <td>0</td>\n",
       "      <td>0</td>\n",
       "      <td>0</td>\n",
       "      <td>0</td>\n",
       "      <td>0</td>\n",
       "      <td>0</td>\n",
       "      <td>0</td>\n",
       "      <td>0</td>\n",
       "      <td>0</td>\n",
       "      <td>0</td>\n",
       "      <td>...</td>\n",
       "      <td>0</td>\n",
       "      <td>0</td>\n",
       "      <td>0</td>\n",
       "      <td>0</td>\n",
       "      <td>0</td>\n",
       "      <td>0</td>\n",
       "      <td>0</td>\n",
       "      <td>0</td>\n",
       "      <td>0</td>\n",
       "      <td>1</td>\n",
       "    </tr>\n",
       "    <tr>\n",
       "      <th>2</th>\n",
       "      <td>0</td>\n",
       "      <td>0</td>\n",
       "      <td>0</td>\n",
       "      <td>0</td>\n",
       "      <td>0</td>\n",
       "      <td>0</td>\n",
       "      <td>0</td>\n",
       "      <td>0</td>\n",
       "      <td>0</td>\n",
       "      <td>0</td>\n",
       "      <td>...</td>\n",
       "      <td>0</td>\n",
       "      <td>0</td>\n",
       "      <td>0</td>\n",
       "      <td>0</td>\n",
       "      <td>0</td>\n",
       "      <td>0</td>\n",
       "      <td>0</td>\n",
       "      <td>0</td>\n",
       "      <td>0</td>\n",
       "      <td>1</td>\n",
       "    </tr>\n",
       "  </tbody>\n",
       "</table>\n",
       "<p>3 rows × 326 columns</p>\n",
       "</div>"
      ],
      "text/plain": [
       "   main_genre_Absurdism  main_genre_Action  main_genre_Action Comedy  \\\n",
       "0                     0                  0                         0   \n",
       "1                     0                  0                         0   \n",
       "2                     0                  0                         0   \n",
       "\n",
       "   main_genre_Action Thrillers  main_genre_Action/Adventure  \\\n",
       "0                            0                            0   \n",
       "1                            0                            0   \n",
       "2                            0                            0   \n",
       "\n",
       "   main_genre_Addiction Drama  main_genre_Adult  main_genre_Adventure  \\\n",
       "0                           0                 0                     0   \n",
       "1                           0                 0                     0   \n",
       "2                           0                 0                     0   \n",
       "\n",
       "   main_genre_Adventure Comedy  main_genre_Airplanes and airports  ...  \\\n",
       "0                            0                                  0  ...   \n",
       "1                            0                                  0  ...   \n",
       "2                            0                                  0  ...   \n",
       "\n",
       "   2nd_genre_Suspense  2nd_genre_Teen  2nd_genre_Thriller  \\\n",
       "0                   0               0                   0   \n",
       "1                   0               0                   0   \n",
       "2                   0               0                   0   \n",
       "\n",
       "   2nd_genre_Time travel  2nd_genre_War film  2nd_genre_Western  \\\n",
       "0                      0                   0                  0   \n",
       "1                      0                   0                  0   \n",
       "2                      0                   0                  0   \n",
       "\n",
       "   2nd_genre_Workplace Comedy  2nd_genre_World cinema  gender_F  gender_M  \n",
       "0                           0                       0         0         1  \n",
       "1                           0                       0         0         1  \n",
       "2                           0                       0         0         1  \n",
       "\n",
       "[3 rows x 326 columns]"
      ]
     },
     "execution_count": 254,
     "metadata": {},
     "output_type": "execute_result"
    }
   ],
   "source": [
    "X.head(3)"
   ]
  },
  {
   "cell_type": "code",
   "execution_count": 262,
   "id": "59a9a185-d547-46ed-aa7b-c810dac3b713",
   "metadata": {},
   "outputs": [
    {
     "data": {
      "text/html": [
       "<style>#sk-container-id-6 {color: black;background-color: white;}#sk-container-id-6 pre{padding: 0;}#sk-container-id-6 div.sk-toggleable {background-color: white;}#sk-container-id-6 label.sk-toggleable__label {cursor: pointer;display: block;width: 100%;margin-bottom: 0;padding: 0.3em;box-sizing: border-box;text-align: center;}#sk-container-id-6 label.sk-toggleable__label-arrow:before {content: \"▸\";float: left;margin-right: 0.25em;color: #696969;}#sk-container-id-6 label.sk-toggleable__label-arrow:hover:before {color: black;}#sk-container-id-6 div.sk-estimator:hover label.sk-toggleable__label-arrow:before {color: black;}#sk-container-id-6 div.sk-toggleable__content {max-height: 0;max-width: 0;overflow: hidden;text-align: left;background-color: #f0f8ff;}#sk-container-id-6 div.sk-toggleable__content pre {margin: 0.2em;color: black;border-radius: 0.25em;background-color: #f0f8ff;}#sk-container-id-6 input.sk-toggleable__control:checked~div.sk-toggleable__content {max-height: 200px;max-width: 100%;overflow: auto;}#sk-container-id-6 input.sk-toggleable__control:checked~label.sk-toggleable__label-arrow:before {content: \"▾\";}#sk-container-id-6 div.sk-estimator input.sk-toggleable__control:checked~label.sk-toggleable__label {background-color: #d4ebff;}#sk-container-id-6 div.sk-label input.sk-toggleable__control:checked~label.sk-toggleable__label {background-color: #d4ebff;}#sk-container-id-6 input.sk-hidden--visually {border: 0;clip: rect(1px 1px 1px 1px);clip: rect(1px, 1px, 1px, 1px);height: 1px;margin: -1px;overflow: hidden;padding: 0;position: absolute;width: 1px;}#sk-container-id-6 div.sk-estimator {font-family: monospace;background-color: #f0f8ff;border: 1px dotted black;border-radius: 0.25em;box-sizing: border-box;margin-bottom: 0.5em;}#sk-container-id-6 div.sk-estimator:hover {background-color: #d4ebff;}#sk-container-id-6 div.sk-parallel-item::after {content: \"\";width: 100%;border-bottom: 1px solid gray;flex-grow: 1;}#sk-container-id-6 div.sk-label:hover label.sk-toggleable__label {background-color: #d4ebff;}#sk-container-id-6 div.sk-serial::before {content: \"\";position: absolute;border-left: 1px solid gray;box-sizing: border-box;top: 0;bottom: 0;left: 50%;z-index: 0;}#sk-container-id-6 div.sk-serial {display: flex;flex-direction: column;align-items: center;background-color: white;padding-right: 0.2em;padding-left: 0.2em;position: relative;}#sk-container-id-6 div.sk-item {position: relative;z-index: 1;}#sk-container-id-6 div.sk-parallel {display: flex;align-items: stretch;justify-content: center;background-color: white;position: relative;}#sk-container-id-6 div.sk-item::before, #sk-container-id-6 div.sk-parallel-item::before {content: \"\";position: absolute;border-left: 1px solid gray;box-sizing: border-box;top: 0;bottom: 0;left: 50%;z-index: -1;}#sk-container-id-6 div.sk-parallel-item {display: flex;flex-direction: column;z-index: 1;position: relative;background-color: white;}#sk-container-id-6 div.sk-parallel-item:first-child::after {align-self: flex-end;width: 50%;}#sk-container-id-6 div.sk-parallel-item:last-child::after {align-self: flex-start;width: 50%;}#sk-container-id-6 div.sk-parallel-item:only-child::after {width: 0;}#sk-container-id-6 div.sk-dashed-wrapped {border: 1px dashed gray;margin: 0 0.4em 0.5em 0.4em;box-sizing: border-box;padding-bottom: 0.4em;background-color: white;}#sk-container-id-6 div.sk-label label {font-family: monospace;font-weight: bold;display: inline-block;line-height: 1.2em;}#sk-container-id-6 div.sk-label-container {text-align: center;}#sk-container-id-6 div.sk-container {/* jupyter's `normalize.less` sets `[hidden] { display: none; }` but bootstrap.min.css set `[hidden] { display: none !important; }` so we also need the `!important` here to be able to override the default hidden behavior on the sphinx rendered scikit-learn.org. See: https://github.com/scikit-learn/scikit-learn/issues/21755 */display: inline-block !important;position: relative;}#sk-container-id-6 div.sk-text-repr-fallback {display: none;}</style><div id=\"sk-container-id-6\" class=\"sk-top-container\"><div class=\"sk-text-repr-fallback\"><pre>LogisticRegression(max_iter=100000)</pre><b>In a Jupyter environment, please rerun this cell to show the HTML representation or trust the notebook. <br />On GitHub, the HTML representation is unable to render, please try loading this page with nbviewer.org.</b></div><div class=\"sk-container\" hidden><div class=\"sk-item\"><div class=\"sk-estimator sk-toggleable\"><input class=\"sk-toggleable__control sk-hidden--visually\" id=\"sk-estimator-id-6\" type=\"checkbox\" checked><label for=\"sk-estimator-id-6\" class=\"sk-toggleable__label sk-toggleable__label-arrow\">LogisticRegression</label><div class=\"sk-toggleable__content\"><pre>LogisticRegression(max_iter=100000)</pre></div></div></div></div></div>"
      ],
      "text/plain": [
       "LogisticRegression(max_iter=100000)"
      ]
     },
     "execution_count": 262,
     "metadata": {},
     "output_type": "execute_result"
    }
   ],
   "source": [
    "from sklearn.linear_model import LogisticRegression\n",
    "\n",
    "logistic = LogisticRegression(solver='lbfgs', max_iter=100000)\n",
    "logistic.fit(X,y)"
   ]
  },
  {
   "cell_type": "code",
   "execution_count": 263,
   "id": "0f182955-1284-40b9-b5a7-9d5fe35a2d97",
   "metadata": {},
   "outputs": [],
   "source": [
    "actors['propensity_score'] = [i[0] for i in list(logistic.predict_proba(X))]"
   ]
  },
  {
   "cell_type": "markdown",
   "id": "1d92f9da-6b0e-4a40-ba27-b63f5ac6e508",
   "metadata": {},
   "source": [
    "To further balance the two sub-groups of actors, the process will only match actors of the same gender. Indeed, the gender is a possible confounder for linking the actors to movie success."
   ]
  },
  {
   "cell_type": "code",
   "execution_count": 264,
   "id": "55ab1b84-d8b5-4c81-a0d3-01dc6f4328eb",
   "metadata": {},
   "outputs": [],
   "source": [
    "#function to compute similarity (difference between propensity scores to be minimized in the matching)\n",
    "def get_similarity(prop1,prop2):\n",
    "    return 1-abs(prop1-prop2)"
   ]
  },
  {
   "cell_type": "code",
   "execution_count": 265,
   "id": "3023974f-66a6-48f4-bfb6-2b2923a29149",
   "metadata": {},
   "outputs": [],
   "source": [
    "import networkx as nx"
   ]
  },
  {
   "cell_type": "code",
   "execution_count": 266,
   "id": "13717bfa-01d4-4223-8689-c59a37c50f35",
   "metadata": {},
   "outputs": [],
   "source": [
    "ran = actors.sample(frac=.05)"
   ]
  },
  {
   "cell_type": "code",
   "execution_count": 268,
   "id": "167b2c61-e4ac-4427-90c8-ed662a325dbe",
   "metadata": {},
   "outputs": [],
   "source": [
    "# Create an empty undirected graph\n",
    "G = nx.Graph()\n",
    "\n",
    "#define treatment and control groups\n",
    "treat = ran[ran['appearances'] > 2]\n",
    "contr = ran[ran['appearances'] <= 2]\n",
    "\n",
    "# Loop through all the pairs of instances\n",
    "for i, j in contr.iterrows():\n",
    "    for k, l in treat.iterrows():\n",
    "        if j['gender'] == l['gender']:\n",
    "            # Calculate the similarity \n",
    "            similarity = get_similarity(j['propensity_score'],\n",
    "                                    l['propensity_score'])\n",
    "\n",
    "            # Add an edge between the two instances weighted by the similarity between them\n",
    "            G.add_weighted_edges_from([(i, k, similarity)])"
   ]
  },
  {
   "cell_type": "code",
   "execution_count": 270,
   "id": "69a45f98-7dca-4e26-a504-6b66a69ca071",
   "metadata": {},
   "outputs": [],
   "source": [
    "# Generate and return the maximum weight matching on the generated graph\n",
    "matching = nx.max_weight_matching(G)\n",
    "\n",
    "matched = [i[0] for i in list(matching)] + [i[1] for i in list(matching)] #create list with all indexes of people paired\n",
    "\n",
    "balanced_df = ran.loc[matched] #extract only rows with paired subjects"
   ]
  },
  {
   "cell_type": "code",
   "execution_count": 286,
   "id": "b0c46be3-d303-4ec0-b778-a016cc54da0c",
   "metadata": {},
   "outputs": [
    {
     "data": {
      "text/html": [
       "<div>\n",
       "<style scoped>\n",
       "    .dataframe tbody tr th:only-of-type {\n",
       "        vertical-align: middle;\n",
       "    }\n",
       "\n",
       "    .dataframe tbody tr th {\n",
       "        vertical-align: top;\n",
       "    }\n",
       "\n",
       "    .dataframe thead th {\n",
       "        text-align: right;\n",
       "    }\n",
       "</style>\n",
       "<table border=\"1\" class=\"dataframe\">\n",
       "  <thead>\n",
       "    <tr style=\"text-align: right;\">\n",
       "      <th></th>\n",
       "      <th>actor</th>\n",
       "      <th>rev_sum</th>\n",
       "      <th>grade_sum</th>\n",
       "      <th>appearances</th>\n",
       "      <th>score</th>\n",
       "      <th>score_epfl</th>\n",
       "      <th>gender</th>\n",
       "      <th>cluster</th>\n",
       "    </tr>\n",
       "  </thead>\n",
       "  <tbody>\n",
       "    <tr>\n",
       "      <th>0</th>\n",
       "      <td>Dustin_Farnum</td>\n",
       "      <td>6.117500e+06</td>\n",
       "      <td>2.861536</td>\n",
       "      <td>1.0</td>\n",
       "      <td>16.678023</td>\n",
       "      <td>3.278702</td>\n",
       "      <td>M</td>\n",
       "      <td>2</td>\n",
       "    </tr>\n",
       "    <tr>\n",
       "      <th>1</th>\n",
       "      <td>Elmer_Clifton</td>\n",
       "      <td>1.250000e+09</td>\n",
       "      <td>4.791714</td>\n",
       "      <td>1.0</td>\n",
       "      <td>22.513298</td>\n",
       "      <td>5.319083</td>\n",
       "      <td>M</td>\n",
       "      <td>0</td>\n",
       "    </tr>\n",
       "    <tr>\n",
       "      <th>2</th>\n",
       "      <td>Robert_Harron</td>\n",
       "      <td>1.250000e+09</td>\n",
       "      <td>4.791714</td>\n",
       "      <td>1.0</td>\n",
       "      <td>22.513298</td>\n",
       "      <td>5.319083</td>\n",
       "      <td>M</td>\n",
       "      <td>0</td>\n",
       "    </tr>\n",
       "  </tbody>\n",
       "</table>\n",
       "</div>"
      ],
      "text/plain": [
       "           actor       rev_sum  grade_sum  appearances      score  score_epfl  \\\n",
       "0  Dustin_Farnum  6.117500e+06   2.861536          1.0  16.678023    3.278702   \n",
       "1  Elmer_Clifton  1.250000e+09   4.791714          1.0  22.513298    5.319083   \n",
       "2  Robert_Harron  1.250000e+09   4.791714          1.0  22.513298    5.319083   \n",
       "\n",
       "  gender  cluster  \n",
       "0      M        2  \n",
       "1      M        0  \n",
       "2      M        0  "
      ]
     },
     "execution_count": 286,
     "metadata": {},
     "output_type": "execute_result"
    }
   ],
   "source": [
    "ss.head(3)"
   ]
  },
  {
   "cell_type": "code",
   "execution_count": 290,
   "id": "ab8e13d2-f9ee-46bf-9e0c-4bfa7d3f46b1",
   "metadata": {},
   "outputs": [],
   "source": [
    "balanced_ss = ss.loc[balanced_df.index]"
   ]
  },
  {
   "cell_type": "code",
   "execution_count": 292,
   "id": "e8acd2f4-17e3-41aa-ac36-0dfe506f9208",
   "metadata": {},
   "outputs": [],
   "source": [
    "balanced_df['revenues'] = balanced_ss['rev_sum']\n",
    "balanced_df['ratings'] = balanced_ss['grade_sum']"
   ]
  },
  {
   "cell_type": "markdown",
   "id": "e64fe1f8-fb5f-484b-b746-b55201a77c92",
   "metadata": {},
   "source": [
    "To assess the different influence of the success-related features on the balanced dataset (revenues and ratings), a linear regression is implemented."
   ]
  },
  {
   "cell_type": "code",
   "execution_count": 316,
   "id": "6412226f-a0ce-4375-a3ce-3affee899133",
   "metadata": {},
   "outputs": [],
   "source": [
    "#log and standardization\n",
    "X1 = balanced_df[{'treatment','revenues','ratings'}]\n",
    "X1['revenues'] = X1['revenues'].apply('log')\n",
    "X1['ratings'] = X1['ratings'].apply('log')\n",
    "X1['revenues'] = (X1['revenues'] - X1['revenues'].mean())/X1['revenues'].std()\n",
    "X1['ratings'] = (X1['ratings'] - X1['ratings'].mean())/X1['ratings'].std()"
   ]
  },
  {
   "cell_type": "code",
   "execution_count": 335,
   "id": "e0a9282e-e27d-48d8-940c-f4c03861d271",
   "metadata": {},
   "outputs": [
    {
     "name": "stdout",
     "output_type": "stream",
     "text": [
      "                            OLS Regression Results                            \n",
      "==============================================================================\n",
      "Dep. Variable:              treatment   R-squared:                       0.106\n",
      "Model:                            OLS   Adj. R-squared:                  0.104\n",
      "Method:                 Least Squares   F-statistic:                     45.07\n",
      "Date:                Tue, 13 Dec 2022   Prob (F-statistic):           3.17e-19\n",
      "Time:                        13:22:52   Log-Likelihood:                -511.74\n",
      "No. Observations:                 764   AIC:                             1029.\n",
      "Df Residuals:                     761   BIC:                             1043.\n",
      "Df Model:                           2                                         \n",
      "Covariance Type:            nonrobust                                         \n",
      "==============================================================================\n",
      "                 coef    std err          t      P>|t|      [0.025      0.975]\n",
      "------------------------------------------------------------------------------\n",
      "Intercept      0.5000      0.017     29.174      0.000       0.466       0.534\n",
      "revenues       0.1528      0.019      8.043      0.000       0.115       0.190\n",
      "ratings        0.0209      0.019      1.099      0.272      -0.016       0.058\n",
      "==============================================================================\n",
      "Omnibus:                     3962.482   Durbin-Watson:                   1.805\n",
      "Prob(Omnibus):                  0.000   Jarque-Bera (JB):               91.729\n",
      "Skew:                          -0.136   Prob(JB):                     1.21e-20\n",
      "Kurtosis:                       1.324   Cond. No.                         1.58\n",
      "==============================================================================\n",
      "\n",
      "Notes:\n",
      "[1] Standard Errors assume that the covariance matrix of the errors is correctly specified.\n"
     ]
    }
   ],
   "source": [
    "#linear regression\n",
    "import statsmodels.formula.api as smf #for linear and logistic regression\n",
    "\n",
    "mod = smf.ols(formula='treatment ~ revenues + ratings',\n",
    "              data=X1)\n",
    "res = mod.fit()\n",
    "print(res.summary())"
   ]
  },
  {
   "cell_type": "code",
   "execution_count": 349,
   "id": "bdf0f45c-1e44-40cb-8539-c0e4b75d847e",
   "metadata": {},
   "outputs": [
    {
     "data": {
      "text/plain": [
       "<seaborn.axisgrid.FacetGrid at 0x1d64ae4a760>"
      ]
     },
     "execution_count": 349,
     "metadata": {},
     "output_type": "execute_result"
    },
    {
     "data": {
      "image/png": "[encoded data removed]",
      "text/plain": [
       "<Figure size 500x500 with 1 Axes>"
      ]
     },
     "metadata": {},
     "output_type": "display_data"
    }
   ],
   "source": [
    "sns.lmplot(x='treatment',y='revenues', data=balanced_df)"
   ]
  },
  {
   "cell_type": "code",
   "execution_count": null,
   "id": "7c27b220-dfcb-44b5-ad3f-a64218e9af10",
   "metadata": {},
   "outputs": [],
   "source": []
  }
 ],
 "metadata": {
  "kernelspec": {
   "display_name": "Python [conda env:ada] *",
   "language": "python",
   "name": "conda-env-ada-py"
  },
  "language_info": {
   "codemirror_mode": {
    "name": "ipython",
    "version": 3
   },
   "file_extension": ".py",
   "mimetype": "text/x-python",
   "name": "python",
   "nbconvert_exporter": "python",
   "pygments_lexer": "ipython3",
   "version": "3.8.13"
  }
 },
 "nbformat": 4,
 "nbformat_minor": 5
}
