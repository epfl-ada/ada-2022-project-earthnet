{
 "cells": [
  {
   "cell_type": "markdown",
   "id": "f1df1fb8-ace6-4cc4-8577-5386fcab6f03",
   "metadata": {},
   "source": [
    "# Observational study"
   ]
  },
  {
   "cell_type": "markdown",
   "id": "a71cd0b4-738a-4799-afcb-8c36b2c857e0",
   "metadata": {},
   "source": [
    "The goal of the present project is to define a valid metric to evaluate the impact of actors on movies. Specifically, distilling actors careers to a single number, the *star score*. Identifying the latter implies the need to identify truly successful actors, namely actors that had the highest positive impact on movies, in terms of revenues and ratings. Given the presence of multiple confounders, such as the affinity of actors with particulare genres or gender disparities, an observational study is carried out to limit the influence of unobserved covariates."
   ]
  },
  {
   "cell_type": "code",
   "execution_count": 42,
   "id": "10b8e2d0-eb55-4467-b318-0b10732a10eb",
   "metadata": {},
   "outputs": [],
   "source": [
    "import pandas as pd\n",
    "import numpy as np\n",
    "import matplotlib.pyplot as plt\n",
    "import matplotlib.patheffects as pe\n",
    "%matplotlib inline\n",
    "\n",
    "import datetime as dt\n",
    "import networkx as nx\n",
    "import seaborn as sns\n",
    "from scipy import stats\n",
    "import statsmodels.api as sm\n",
    "from statsmodels.stats.weightstats import ztest\n",
    "import re\n",
    "import warnings\n",
    "warnings.filterwarnings('ignore')"
   ]
  },
  {
   "cell_type": "code",
   "execution_count": 3,
   "id": "696797e7-4041-4043-8b5d-63cc4bd66a08",
   "metadata": {},
   "outputs": [],
   "source": [
    "#importing our clean data\n",
    "data = pd.read_csv('../data/data.csv', index_col = 0)\n",
    "data_profit = pd.read_csv('../data/profit_data.csv', index_col = 0)\n",
    "actors = pd.read_csv('../data/actorMetrics.csv', index_col = 0)\n",
    "imdb = pd.read_csv('../data/imdb_budgets.csv', index_col = 0)\n",
    "ss = pd.read_csv('obs.csv', index_col = 0)"
   ]
  },
  {
   "cell_type": "code",
   "execution_count": 4,
   "id": "dd446b86-3942-4236-b128-dfef49001091",
   "metadata": {},
   "outputs": [],
   "source": [
    "actors['gender'] = ss['gender']\n",
    "actors['birthdate'] = data['Actor_date_of_birth']\n",
    "actors['birthdate'] = pd.to_datetime(actors['birthdate']).dt.year\n",
    "actors['log_revenue'] = actors['revenue_avg'].apply('log')"
   ]
  },
  {
   "cell_type": "code",
   "execution_count": 5,
   "id": "7f007632-f5c2-4923-b3dc-e7a628dd88a8",
   "metadata": {},
   "outputs": [
    {
     "data": {
      "text/html": [
       "<div>\n",
       "<style scoped>\n",
       "    .dataframe tbody tr th:only-of-type {\n",
       "        vertical-align: middle;\n",
       "    }\n",
       "\n",
       "    .dataframe tbody tr th {\n",
       "        vertical-align: top;\n",
       "    }\n",
       "\n",
       "    .dataframe thead th {\n",
       "        text-align: right;\n",
       "    }\n",
       "</style>\n",
       "<table border=\"1\" class=\"dataframe\">\n",
       "  <thead>\n",
       "    <tr style=\"text-align: right;\">\n",
       "      <th></th>\n",
       "      <th>actor</th>\n",
       "      <th>revenue_avg</th>\n",
       "      <th>grade_avg</th>\n",
       "      <th>revenue_sum</th>\n",
       "      <th>grade_sum</th>\n",
       "      <th>appearances</th>\n",
       "      <th>main_genre</th>\n",
       "      <th>2nd_genre</th>\n",
       "      <th>country1</th>\n",
       "      <th>country2</th>\n",
       "      <th>tenure</th>\n",
       "      <th>gender</th>\n",
       "      <th>birthdate</th>\n",
       "      <th>log_revenue</th>\n",
       "    </tr>\n",
       "  </thead>\n",
       "  <tbody>\n",
       "    <tr>\n",
       "      <th>0</th>\n",
       "      <td>Dustin_Farnum</td>\n",
       "      <td>6.117500e+06</td>\n",
       "      <td>2.861536</td>\n",
       "      <td>6.117500e+06</td>\n",
       "      <td>2.861536</td>\n",
       "      <td>1</td>\n",
       "      <td>Black-and-white</td>\n",
       "      <td>Drama</td>\n",
       "      <td>United States of America</td>\n",
       "      <td>NaN</td>\n",
       "      <td>0.0</td>\n",
       "      <td>M</td>\n",
       "      <td>1874</td>\n",
       "      <td>15.626664</td>\n",
       "    </tr>\n",
       "    <tr>\n",
       "      <th>1</th>\n",
       "      <td>Elmer_Clifton</td>\n",
       "      <td>1.250000e+09</td>\n",
       "      <td>4.791714</td>\n",
       "      <td>1.250000e+09</td>\n",
       "      <td>4.791714</td>\n",
       "      <td>1</td>\n",
       "      <td>Black-and-white</td>\n",
       "      <td>Costume drama</td>\n",
       "      <td>United States of America</td>\n",
       "      <td>NaN</td>\n",
       "      <td>0.0</td>\n",
       "      <td>M</td>\n",
       "      <td>1890</td>\n",
       "      <td>20.946409</td>\n",
       "    </tr>\n",
       "    <tr>\n",
       "      <th>2</th>\n",
       "      <td>Robert_Harron</td>\n",
       "      <td>1.250000e+09</td>\n",
       "      <td>4.791714</td>\n",
       "      <td>1.250000e+09</td>\n",
       "      <td>4.791714</td>\n",
       "      <td>1</td>\n",
       "      <td>Black-and-white</td>\n",
       "      <td>Costume drama</td>\n",
       "      <td>United States of America</td>\n",
       "      <td>NaN</td>\n",
       "      <td>0.0</td>\n",
       "      <td>M</td>\n",
       "      <td>1893</td>\n",
       "      <td>20.946409</td>\n",
       "    </tr>\n",
       "  </tbody>\n",
       "</table>\n",
       "</div>"
      ],
      "text/plain": [
       "           actor   revenue_avg  grade_avg   revenue_sum  grade_sum  \\\n",
       "0  Dustin_Farnum  6.117500e+06   2.861536  6.117500e+06   2.861536   \n",
       "1  Elmer_Clifton  1.250000e+09   4.791714  1.250000e+09   4.791714   \n",
       "2  Robert_Harron  1.250000e+09   4.791714  1.250000e+09   4.791714   \n",
       "\n",
       "   appearances       main_genre      2nd_genre                  country1  \\\n",
       "0            1  Black-and-white          Drama  United States of America   \n",
       "1            1  Black-and-white  Costume drama  United States of America   \n",
       "2            1  Black-and-white  Costume drama  United States of America   \n",
       "\n",
       "  country2  tenure gender  birthdate  log_revenue  \n",
       "0      NaN     0.0      M       1874    15.626664  \n",
       "1      NaN     0.0      M       1890    20.946409  \n",
       "2      NaN     0.0      M       1893    20.946409  "
      ]
     },
     "execution_count": 5,
     "metadata": {},
     "output_type": "execute_result"
    }
   ],
   "source": [
    "actors.head(3)"
   ]
  },
  {
   "cell_type": "markdown",
   "id": "3068160d-7b4a-4094-b4ef-403bca742baf",
   "metadata": {},
   "source": [
    "At first, the correlation between budgets and revenues is proved. This will allow us to use revenues as a solid metric for identifying successful actors later on.\n",
    "\n",
    "Profits are not directly used are a metric for success because of the lack of budget data from the IMDb movie dataset. Anyway, even if direct revenues can slightly influence the outputs, they are not to be ignored, because they provide useful information on movie success and popularity."
   ]
  },
  {
   "cell_type": "code",
   "execution_count": 6,
   "id": "369a210b-40d0-435d-93f8-1e886ccc46ed",
   "metadata": {},
   "outputs": [],
   "source": [
    "#group by movie\n",
    "budg = data_profit.groupby('Movie_name')['budget','Movie_box_office_revenue'].mean()"
   ]
  },
  {
   "cell_type": "markdown",
   "id": "3dd2e071-9648-4457-bf06-3afcce37ab2d",
   "metadata": {},
   "source": [
    "Pearson's and Spearman's correlations are used to capture the correlation between the two parameters. It is clear that the is a high linear correlation because of the results shown below."
   ]
  },
  {
   "cell_type": "code",
   "execution_count": 7,
   "id": "a9ed301c-245f-46e7-b718-a26d89b4d312",
   "metadata": {},
   "outputs": [
    {
     "data": {
      "text/plain": [
       "PearsonRResult(statistic=0.6579146048455062, pvalue=0.0)"
      ]
     },
     "execution_count": 7,
     "metadata": {},
     "output_type": "execute_result"
    }
   ],
   "source": [
    "stats.pearsonr(budg['budget'],budg['Movie_box_office_revenue']) #pearson correlation"
   ]
  },
  {
   "cell_type": "code",
   "execution_count": 8,
   "id": "dfd3a17f-55dc-445c-bfc5-b65bc6551e8c",
   "metadata": {},
   "outputs": [
    {
     "data": {
      "text/plain": [
       "SpearmanrResult(correlation=0.6470644194502557, pvalue=0.0)"
      ]
     },
     "execution_count": 8,
     "metadata": {},
     "output_type": "execute_result"
    }
   ],
   "source": [
    "stats.spearmanr(budg['budget'],budg['Movie_box_office_revenue']) #spearman correlation"
   ]
  },
  {
   "cell_type": "code",
   "execution_count": 9,
   "id": "a715425e-256a-430e-b3a6-37a53425e3ae",
   "metadata": {},
   "outputs": [],
   "source": [
    "#linear correlation plot (e.g., pearson)\n",
    "#sns.lmplot('budget','Movie_box_office_revenue', data=budg)"
   ]
  },
  {
   "cell_type": "markdown",
   "id": "d8a274bc-1955-4226-9133-d82c7d84d5d0",
   "metadata": {},
   "source": [
    "The treatment and control group of the observational study will be identified by the number of times actors starred in movies. The assumption is that successful actors keep acting, while the career of less-successfull ones ends early. This hypothesis is supported by the rich-get-richer mechanism, for which successful actors keep starring with other successful actors, making them even more successful and naturally generating a power law in the appearances distribution.\n",
    "\n",
    "Just as normal distributions arise from many independent random decisions averaging out, we power laws arise from the feedback introduced by correlated decisions across a population.\n",
    "\n",
    "Source:\n",
    "Networks, Crowds, and Markets: Reasoning about a Highly Connected World.\n",
    "By David Easley and Jon Kleinberg. Cambridge University Press, 2010.\n",
    "http://www.cs.cornell.edu/home/kleinber/networks-book/"
   ]
  },
  {
   "cell_type": "markdown",
   "id": "759c5e97-52ae-4c16-827b-ae50f51b8a64",
   "metadata": {},
   "source": [
    "Thedistribution of the number of appearances is shown below. The distribution is a power law because it is represented by a straight line in bi-logarithmic axes (it is linear in the log domain)."
   ]
  },
  {
   "cell_type": "code",
   "execution_count": 10,
   "id": "80f2edfd-e7d4-4d17-8a51-90bd39e38e73",
   "metadata": {},
   "outputs": [
    {
     "data": {
      "image/png": "[encoded data removed]",
      "text/plain": [
       "<Figure size 800x300 with 2 Axes>"
      ]
     },
     "metadata": {},
     "output_type": "display_data"
    }
   ],
   "source": [
    "#2 subplots\n",
    "fig, ax = plt.subplots(1,2, figsize=(8,3))\n",
    "\n",
    "#group by number of appearances and sort\n",
    "act = actors.groupby('appearances')['appearances'].count().sort_values(ascending=False)\n",
    "\n",
    "sbplt = ax[0]\n",
    "sbplt.hist(actors.appearances, bins=30)\n",
    "sbplt.set_title('Linear axes')\n",
    "sbplt.set_xlabel('Number of appearances')\n",
    "sbplt.set_ylabel('N')\n",
    "\n",
    "sbplt = ax[1]\n",
    "sbplt.loglog(act.index,act.values)\n",
    "sbplt.set_title('Logarithmic axes')\n",
    "sbplt.set_xlabel('Number of appearances')\n",
    "    \n",
    "fig.tight_layout()\n",
    "plt.savefig('../figures/power_law.png', bbox_inches='tight')\n",
    "plt.show()"
   ]
  },
  {
   "cell_type": "markdown",
   "id": "91edd85a-cf1c-4636-a29f-bdfccf336bd1",
   "metadata": {},
   "source": [
    "The appearances distribution split by gender shows differences between actors and actresses career. The trends are similar (power-law distributions), but there are systematic differences between the two. Moreover, the percentage of actresses is lower than the percentage of actors in the dataset (36%)\n",
    "This is a possible confounder to be tackled when conducting the observational study.\n",
    "\n",
    "In the second graphs below (semilogarithmic y axis), the power law is further confirmed by its typical exponential tail, due to the fact that the considered system has a finite size. A Kolmogorov–Smirnov test is performed to actually verify that the tail is exponential and therefore that we are dealing with a power law. The test is performed on appearances belonging to the interval $[2,10]$, given that 1 is a clear outlier.\n",
    "\n",
    "Source: O. E. Williams, L. Lacasa & V. Latora, Quantifying and predicting success in show business, Nature Communications, 2019. https://doi.org/10.1038/s41467-019-10213-0"
   ]
  },
  {
   "cell_type": "code",
   "execution_count": 11,
   "id": "efde1b38-fe56-483b-bf63-e6f4f2104eb6",
   "metadata": {},
   "outputs": [],
   "source": [
    "#split into actors/actresses\n",
    "dt1 = actors[actors['gender'] == 'M']\n",
    "dt2 = actors[actors['gender'] == 'F']\n",
    "\n",
    "#group by number of appearances and sort\n",
    "act1 = dt1.groupby('appearances')['appearances'].count().sort_values(ascending=False)\n",
    "act2 = dt2.groupby('appearances')['appearances'].count().sort_values(ascending=False)"
   ]
  },
  {
   "cell_type": "code",
   "execution_count": 12,
   "id": "3b8fd318-6de9-4724-9dd4-adbbd9d6d329",
   "metadata": {},
   "outputs": [
    {
     "name": "stdout",
     "output_type": "stream",
     "text": [
      "0.3602444809341361\n"
     ]
    }
   ],
   "source": [
    "#fraction of actresses in the dataset\n",
    "print(len(dt2)/len(actors))"
   ]
  },
  {
   "cell_type": "markdown",
   "id": "c01ad8a5-f32b-4f3c-b0bd-5fc6c4e1e93a",
   "metadata": {},
   "source": [
    "The results of the Kolmogorov–Smirnov test are diplayed in the cell below, for the overall dataset and for the two datasets split on gender. The p-values are larger than 0.05, therefore the null-hypothesis of the distributions being exponential cannot be rejected."
   ]
  },
  {
   "cell_type": "code",
   "execution_count": 13,
   "id": "473dcd40-131a-4c75-8c52-ce383930290f",
   "metadata": {},
   "outputs": [
    {
     "name": "stdout",
     "output_type": "stream",
     "text": [
      "Overall dataset: (0.28037249777758955, 0.243639681864208)\n",
      "Actors dataset: (0.29777568231501467, 0.1904164709100258)\n",
      "Actresses dataset: (0.24526410297152776, 0.4241165719722065)\n"
     ]
    }
   ],
   "source": [
    "#kolmogorov-smirnov test for exponential distribution\n",
    "from statsmodels.stats import diagnostic\n",
    "\n",
    "print('Overall dataset: ' + str(diagnostic.kstest_normal(act.values[2:10], dist = 'exp'))) #overall dataset\n",
    "print('Actors dataset: ' + str(diagnostic.kstest_normal(act1.values[2:10], dist = 'exp'))) #actors dataset\n",
    "print('Actresses dataset: ' + str(diagnostic.kstest_normal(act2.values[2:10], dist = 'exp'))) #actresses dataset"
   ]
  },
  {
   "cell_type": "code",
   "execution_count": 14,
   "id": "164ba7cc-5b2b-405d-96e1-8809aaaf2287",
   "metadata": {},
   "outputs": [],
   "source": [
    "#compute cdf for revenue distribution by gender\n",
    "rev_ordered = dt1.revenue_avg.sort_values() #sort dataset in ascending order\n",
    "rev_ordered2 = dt2.revenue_avg.sort_values() #sort dataset in ascending order\n",
    "tot = dt1.revenue_avg.sum() #compute total sum of revenues\n",
    "tot2 = dt2.revenue_avg.sum() #compute total sum of revenues\n",
    "pdf = rev_ordered.apply(lambda x: x/tot) #compute pdf\n",
    "pdf2 = rev_ordered2.apply(lambda x: x/tot2) #compute pdf\n",
    "cdf = np.cumsum(pdf) #compute cdf\n",
    "cdf2 = np.cumsum(pdf2) #compute cdf"
   ]
  },
  {
   "cell_type": "code",
   "execution_count": 15,
   "id": "be2feb8d-d43e-4887-a393-a40e65af3a0a",
   "metadata": {},
   "outputs": [
    {
     "data": {
      "image/png": "[encoded data removed]",
      "text/plain": [
       "<Figure size 800x300 with 2 Axes>"
      ]
     },
     "metadata": {},
     "output_type": "display_data"
    }
   ],
   "source": [
    "#2 subplots\n",
    "fig, ax = plt.subplots(1,2, figsize=(8,3))\n",
    "\n",
    "sbplt = ax[0]\n",
    "sbplt.loglog(act1.index,act1.values, label='actors')\n",
    "sbplt.loglog(act2.index,act2.values, label='actresses')\n",
    "sbplt.set_title('Bilogarithmic axes')\n",
    "sbplt.set_xlabel('Number of appearances')\n",
    "sbplt.legend()\n",
    "\n",
    "sbplt = ax[1]\n",
    "sbplt.semilogy(act1.index,act1.values, label='actors')\n",
    "sbplt.semilogy(act2.index,act2.values, label='actresses')\n",
    "sbplt.set_title('Semilogarithmic y axis')\n",
    "sbplt.set_xlabel('Revenues')\n",
    "sbplt.legend()\n",
    "\n",
    "fig.tight_layout()\n",
    "plt.savefig('../figures/pow_gender.png', bbox_inches='tight')\n",
    "plt.show()"
   ]
  },
  {
   "cell_type": "code",
   "execution_count": 16,
   "id": "cbbdbf47-eb2f-4df6-a699-56ef2d91a08d",
   "metadata": {},
   "outputs": [
    {
     "data": {
      "image/png": "[encoded data removed]",
      "text/plain": [
       "<Figure size 640x480 with 1 Axes>"
      ]
     },
     "metadata": {},
     "output_type": "display_data"
    }
   ],
   "source": [
    "plt.loglog(rev_ordered,cdf,label='actors')\n",
    "plt.loglog(rev_ordered2,cdf2,label='actresses')\n",
    "plt.title('CFD of average revenue distribution by gender')\n",
    "plt.xlabel('Revenues')\n",
    "plt.legend()\n",
    "plt.show()"
   ]
  },
  {
   "cell_type": "markdown",
   "id": "79698ee5-f1d8-45f9-8485-f03d70cb37b1",
   "metadata": {},
   "source": [
    "To prove the statistical significance of the gender bias in the distribution, two exponential fittings are implemented in the tails of the distribution and compared with a fitting on the overall dataset. "
   ]
  },
  {
   "cell_type": "markdown",
   "id": "ac77ce44-ca9f-413e-9139-6d43cfd61ce8",
   "metadata": {},
   "source": [
    "An Mann-Whitney U test is also performed to verify if the difference between the distributions of datasets split on gender is statistically significant. The resulting p-values are lower than the imposed threshold (0.05), therefore the null hypothesis that the averages are equal is rejected. There is a gender bias in the dataset."
   ]
  },
  {
   "cell_type": "code",
   "execution_count": 21,
   "id": "9461677c-8b8b-4b13-ba21-6dd2cdbcc300",
   "metadata": {},
   "outputs": [
    {
     "data": {
      "text/plain": [
       "MannwhitneyuResult(statistic=58166327.0, pvalue=4.8040138386520903e-11)"
      ]
     },
     "execution_count": 21,
     "metadata": {},
     "output_type": "execute_result"
    }
   ],
   "source": [
    "#appearances of actors/actresses\n",
    "stats.mannwhitneyu(dt1.appearances, dt2.appearances) #independent test"
   ]
  },
  {
   "cell_type": "markdown",
   "id": "a4156eaf-59eb-46e0-9fc7-9a20099b3dca",
   "metadata": {},
   "source": [
    "Moreover, from the following bar plots, there is a visible gender difference in average appearances and ratings in the movies the actors starred in (also accounting for the 95% confidence intervals). However, in terms of ratings in the movie they starred in, there seems to be no significant difference."
   ]
  },
  {
   "cell_type": "code",
   "execution_count": 19,
   "id": "10f4d98c-865d-4aa5-9fc1-b2bf817ae020",
   "metadata": {},
   "outputs": [
    {
     "data": {
      "image/png": "[encoded data removed]",
      "text/plain": [
       "<Figure size 1100x400 with 3 Axes>"
      ]
     },
     "metadata": {},
     "output_type": "display_data"
    }
   ],
   "source": [
    "#bar plot with 95% confidence intervals\n",
    "import seaborn as sns\n",
    "\n",
    "#3 subplots\n",
    "fig, ax = plt.subplots(1,3, figsize=(11,4))\n",
    "\n",
    "sbplt = ax[0]\n",
    "sns.barplot(ax=ax[0], x=\"gender\", y=\"appearances\", data=actors)\n",
    "sbplt.set_ylabel('Career appearances')\n",
    "sbplt.set_xlabel('')\n",
    "\n",
    "sbplt = ax[1]\n",
    "sns.barplot(ax=ax[1], x=\"gender\", y=\"revenue_avg\", data=actors)\n",
    "sbplt.set_ylabel('Average movie revenue')\n",
    "sbplt.set_xlabel('')\n",
    "\n",
    "sbplt = ax[2]\n",
    "sns.barplot(ax=ax[2], x=\"gender\", y=\"grade_avg\", data=actors)\n",
    "sbplt.set_ylabel('Average movie ratings')\n",
    "sbplt.set_xlabel('')\n",
    "    \n",
    "#fig.tight_layout()\n",
    "plt.rcParams.update({'font.size': 7})\n",
    "plt.savefig('../figures/gender1.png', bbox_inches='tight')\n",
    "fig.suptitle('Gender analysis on initial dataset')\n",
    "plt.show()"
   ]
  },
  {
   "cell_type": "markdown",
   "id": "e934f301-9e0d-4a7f-998c-b39ee7466e79",
   "metadata": {},
   "source": [
    "Supported by rich-get-richer mechanism assumption, the treatment group will be the group with the higher number of appearances. We want to capture the influence of different factors on the productivity of actors' careers (the fact that they keep acting). The splitting of the dataset will be carried out based on the median of the distribution, more representative than the mean when considering skewed distributions.\n",
    "\n",
    "Of course, younger actors may have lower number of appearances only because they are at the beginning of their career. This possible confounder must be considered in the study and the birthdate of the actors is taken into account in the propensity score matching."
   ]
  },
  {
   "cell_type": "code",
   "execution_count": 18,
   "id": "cbd8c11c-ec75-4178-b6b4-4ffcde69266e",
   "metadata": {},
   "outputs": [
    {
     "name": "stdout",
     "output_type": "stream",
     "text": [
      "The median of the distribution is 2.0\n",
      "The mean of the distribution is 3.588943623426382\n"
     ]
    }
   ],
   "source": [
    "#median\n",
    "print('The median of the distribution is ' + str(np.median(actors.appearances)))\n",
    "print('The mean of the distribution is ' + str(np.mean(actors.appearances)))"
   ]
  },
  {
   "cell_type": "code",
   "execution_count": 24,
   "id": "5e7df064-8c7a-4e2e-bdb6-d3f78ed10f13",
   "metadata": {},
   "outputs": [],
   "source": [
    "#split into treatment and control groups\n",
    "actors['treatment'] = (actors['appearances'] > 2).astype(int)"
   ]
  },
  {
   "cell_type": "markdown",
   "id": "107b3a21-7b10-4956-9810-3467fa7db6c9",
   "metadata": {},
   "source": [
    "To limit the effect of confounders, the individuals of the groups will be matched on propensity score, namely the probability of being in the treatment group based on observed covariates. The considered observed covariates will be:\n",
    "\n",
    "- Main genre of the movies they acted in;\n",
    "- 2nd main genre of the movies they starred in;\n",
    "- birthdate;\n",
    "- gender.\n",
    "\n",
    "The *genre* could have a strong confounding effect, given that Action/Adventure movies have generally more viewers than other movie categories, therefore, incllufing both main and 2nd main genre in the actor's career would limit the effect of such a confounder.\n",
    "\n",
    "Regarding the *gender*, to further balance the dataset, the matching will be perfect based on gender. This means that an actors will be matched with another actor and an actress with another actress."
   ]
  },
  {
   "cell_type": "markdown",
   "id": "82549461-d21f-483a-8f71-2ec7d9645ccc",
   "metadata": {},
   "source": [
    "To extract the propensity scores, a logistic regression is trained and applied on the same dataset, this will output the needed probabilities. It is worth mentioning that the revenues and ratings are characteristics that define the success of the movie and that will set the basis for the definition of the *star score*. Therefore, they are not included in the matching features, otherwise they would bias the process of identification of successful actors."
   ]
  },
  {
   "cell_type": "code",
   "execution_count": 25,
   "id": "63c50c9a-f017-4ad9-abd1-7da6c1dab23c",
   "metadata": {},
   "outputs": [],
   "source": [
    "X = actors[{'main_genre','2nd_genre','birthdate'}]"
   ]
  },
  {
   "cell_type": "code",
   "execution_count": 26,
   "id": "f9f7ef83-3d33-4a73-8a3b-9cbbb84b59f9",
   "metadata": {},
   "outputs": [],
   "source": [
    "X = pd.get_dummies(X,columns=['main_genre','2nd_genre'])\n",
    "y = actors['treatment']"
   ]
  },
  {
   "cell_type": "code",
   "execution_count": 27,
   "id": "e877ede0-20bb-46bf-b0e3-ee61ca8db511",
   "metadata": {},
   "outputs": [
    {
     "data": {
      "text/html": [
       "<div>\n",
       "<style scoped>\n",
       "    .dataframe tbody tr th:only-of-type {\n",
       "        vertical-align: middle;\n",
       "    }\n",
       "\n",
       "    .dataframe tbody tr th {\n",
       "        vertical-align: top;\n",
       "    }\n",
       "\n",
       "    .dataframe thead th {\n",
       "        text-align: right;\n",
       "    }\n",
       "</style>\n",
       "<table border=\"1\" class=\"dataframe\">\n",
       "  <thead>\n",
       "    <tr style=\"text-align: right;\">\n",
       "      <th></th>\n",
       "      <th>birthdate</th>\n",
       "      <th>main_genre_Absurdism</th>\n",
       "      <th>main_genre_Action</th>\n",
       "      <th>main_genre_Action Comedy</th>\n",
       "      <th>main_genre_Action Thrillers</th>\n",
       "      <th>main_genre_Action/Adventure</th>\n",
       "      <th>main_genre_Addiction Drama</th>\n",
       "      <th>main_genre_Adult</th>\n",
       "      <th>main_genre_Adventure</th>\n",
       "      <th>main_genre_Adventure Comedy</th>\n",
       "      <th>...</th>\n",
       "      <th>2nd_genre_Superhero movie</th>\n",
       "      <th>2nd_genre_Supernatural</th>\n",
       "      <th>2nd_genre_Suspense</th>\n",
       "      <th>2nd_genre_Teen</th>\n",
       "      <th>2nd_genre_Thriller</th>\n",
       "      <th>2nd_genre_Time travel</th>\n",
       "      <th>2nd_genre_War film</th>\n",
       "      <th>2nd_genre_Western</th>\n",
       "      <th>2nd_genre_Workplace Comedy</th>\n",
       "      <th>2nd_genre_World cinema</th>\n",
       "    </tr>\n",
       "  </thead>\n",
       "  <tbody>\n",
       "    <tr>\n",
       "      <th>0</th>\n",
       "      <td>1874</td>\n",
       "      <td>0</td>\n",
       "      <td>0</td>\n",
       "      <td>0</td>\n",
       "      <td>0</td>\n",
       "      <td>0</td>\n",
       "      <td>0</td>\n",
       "      <td>0</td>\n",
       "      <td>0</td>\n",
       "      <td>0</td>\n",
       "      <td>...</td>\n",
       "      <td>0</td>\n",
       "      <td>0</td>\n",
       "      <td>0</td>\n",
       "      <td>0</td>\n",
       "      <td>0</td>\n",
       "      <td>0</td>\n",
       "      <td>0</td>\n",
       "      <td>0</td>\n",
       "      <td>0</td>\n",
       "      <td>0</td>\n",
       "    </tr>\n",
       "    <tr>\n",
       "      <th>1</th>\n",
       "      <td>1890</td>\n",
       "      <td>0</td>\n",
       "      <td>0</td>\n",
       "      <td>0</td>\n",
       "      <td>0</td>\n",
       "      <td>0</td>\n",
       "      <td>0</td>\n",
       "      <td>0</td>\n",
       "      <td>0</td>\n",
       "      <td>0</td>\n",
       "      <td>...</td>\n",
       "      <td>0</td>\n",
       "      <td>0</td>\n",
       "      <td>0</td>\n",
       "      <td>0</td>\n",
       "      <td>0</td>\n",
       "      <td>0</td>\n",
       "      <td>0</td>\n",
       "      <td>0</td>\n",
       "      <td>0</td>\n",
       "      <td>0</td>\n",
       "    </tr>\n",
       "    <tr>\n",
       "      <th>2</th>\n",
       "      <td>1893</td>\n",
       "      <td>0</td>\n",
       "      <td>0</td>\n",
       "      <td>0</td>\n",
       "      <td>0</td>\n",
       "      <td>0</td>\n",
       "      <td>0</td>\n",
       "      <td>0</td>\n",
       "      <td>0</td>\n",
       "      <td>0</td>\n",
       "      <td>...</td>\n",
       "      <td>0</td>\n",
       "      <td>0</td>\n",
       "      <td>0</td>\n",
       "      <td>0</td>\n",
       "      <td>0</td>\n",
       "      <td>0</td>\n",
       "      <td>0</td>\n",
       "      <td>0</td>\n",
       "      <td>0</td>\n",
       "      <td>0</td>\n",
       "    </tr>\n",
       "  </tbody>\n",
       "</table>\n",
       "<p>3 rows × 325 columns</p>\n",
       "</div>"
      ],
      "text/plain": [
       "   birthdate  main_genre_Absurdism  main_genre_Action  \\\n",
       "0       1874                     0                  0   \n",
       "1       1890                     0                  0   \n",
       "2       1893                     0                  0   \n",
       "\n",
       "   main_genre_Action Comedy  main_genre_Action Thrillers  \\\n",
       "0                         0                            0   \n",
       "1                         0                            0   \n",
       "2                         0                            0   \n",
       "\n",
       "   main_genre_Action/Adventure  main_genre_Addiction Drama  main_genre_Adult  \\\n",
       "0                            0                           0                 0   \n",
       "1                            0                           0                 0   \n",
       "2                            0                           0                 0   \n",
       "\n",
       "   main_genre_Adventure  main_genre_Adventure Comedy  ...  \\\n",
       "0                     0                            0  ...   \n",
       "1                     0                            0  ...   \n",
       "2                     0                            0  ...   \n",
       "\n",
       "   2nd_genre_Superhero movie  2nd_genre_Supernatural  2nd_genre_Suspense  \\\n",
       "0                          0                       0                   0   \n",
       "1                          0                       0                   0   \n",
       "2                          0                       0                   0   \n",
       "\n",
       "   2nd_genre_Teen  2nd_genre_Thriller  2nd_genre_Time travel  \\\n",
       "0               0                   0                      0   \n",
       "1               0                   0                      0   \n",
       "2               0                   0                      0   \n",
       "\n",
       "   2nd_genre_War film  2nd_genre_Western  2nd_genre_Workplace Comedy  \\\n",
       "0                   0                  0                           0   \n",
       "1                   0                  0                           0   \n",
       "2                   0                  0                           0   \n",
       "\n",
       "   2nd_genre_World cinema  \n",
       "0                       0  \n",
       "1                       0  \n",
       "2                       0  \n",
       "\n",
       "[3 rows x 325 columns]"
      ]
     },
     "execution_count": 27,
     "metadata": {},
     "output_type": "execute_result"
    }
   ],
   "source": [
    "X.head(3)"
   ]
  },
  {
   "cell_type": "code",
   "execution_count": 37,
   "id": "59a9a185-d547-46ed-aa7b-c810dac3b713",
   "metadata": {},
   "outputs": [
    {
     "data": {
      "text/html": [
       "<style>#sk-container-id-4 {color: black;background-color: white;}#sk-container-id-4 pre{padding: 0;}#sk-container-id-4 div.sk-toggleable {background-color: white;}#sk-container-id-4 label.sk-toggleable__label {cursor: pointer;display: block;width: 100%;margin-bottom: 0;padding: 0.3em;box-sizing: border-box;text-align: center;}#sk-container-id-4 label.sk-toggleable__label-arrow:before {content: \"▸\";float: left;margin-right: 0.25em;color: #696969;}#sk-container-id-4 label.sk-toggleable__label-arrow:hover:before {color: black;}#sk-container-id-4 div.sk-estimator:hover label.sk-toggleable__label-arrow:before {color: black;}#sk-container-id-4 div.sk-toggleable__content {max-height: 0;max-width: 0;overflow: hidden;text-align: left;background-color: #f0f8ff;}#sk-container-id-4 div.sk-toggleable__content pre {margin: 0.2em;color: black;border-radius: 0.25em;background-color: #f0f8ff;}#sk-container-id-4 input.sk-toggleable__control:checked~div.sk-toggleable__content {max-height: 200px;max-width: 100%;overflow: auto;}#sk-container-id-4 input.sk-toggleable__control:checked~label.sk-toggleable__label-arrow:before {content: \"▾\";}#sk-container-id-4 div.sk-estimator input.sk-toggleable__control:checked~label.sk-toggleable__label {background-color: #d4ebff;}#sk-container-id-4 div.sk-label input.sk-toggleable__control:checked~label.sk-toggleable__label {background-color: #d4ebff;}#sk-container-id-4 input.sk-hidden--visually {border: 0;clip: rect(1px 1px 1px 1px);clip: rect(1px, 1px, 1px, 1px);height: 1px;margin: -1px;overflow: hidden;padding: 0;position: absolute;width: 1px;}#sk-container-id-4 div.sk-estimator {font-family: monospace;background-color: #f0f8ff;border: 1px dotted black;border-radius: 0.25em;box-sizing: border-box;margin-bottom: 0.5em;}#sk-container-id-4 div.sk-estimator:hover {background-color: #d4ebff;}#sk-container-id-4 div.sk-parallel-item::after {content: \"\";width: 100%;border-bottom: 1px solid gray;flex-grow: 1;}#sk-container-id-4 div.sk-label:hover label.sk-toggleable__label {background-color: #d4ebff;}#sk-container-id-4 div.sk-serial::before {content: \"\";position: absolute;border-left: 1px solid gray;box-sizing: border-box;top: 0;bottom: 0;left: 50%;z-index: 0;}#sk-container-id-4 div.sk-serial {display: flex;flex-direction: column;align-items: center;background-color: white;padding-right: 0.2em;padding-left: 0.2em;position: relative;}#sk-container-id-4 div.sk-item {position: relative;z-index: 1;}#sk-container-id-4 div.sk-parallel {display: flex;align-items: stretch;justify-content: center;background-color: white;position: relative;}#sk-container-id-4 div.sk-item::before, #sk-container-id-4 div.sk-parallel-item::before {content: \"\";position: absolute;border-left: 1px solid gray;box-sizing: border-box;top: 0;bottom: 0;left: 50%;z-index: -1;}#sk-container-id-4 div.sk-parallel-item {display: flex;flex-direction: column;z-index: 1;position: relative;background-color: white;}#sk-container-id-4 div.sk-parallel-item:first-child::after {align-self: flex-end;width: 50%;}#sk-container-id-4 div.sk-parallel-item:last-child::after {align-self: flex-start;width: 50%;}#sk-container-id-4 div.sk-parallel-item:only-child::after {width: 0;}#sk-container-id-4 div.sk-dashed-wrapped {border: 1px dashed gray;margin: 0 0.4em 0.5em 0.4em;box-sizing: border-box;padding-bottom: 0.4em;background-color: white;}#sk-container-id-4 div.sk-label label {font-family: monospace;font-weight: bold;display: inline-block;line-height: 1.2em;}#sk-container-id-4 div.sk-label-container {text-align: center;}#sk-container-id-4 div.sk-container {/* jupyter's `normalize.less` sets `[hidden] { display: none; }` but bootstrap.min.css set `[hidden] { display: none !important; }` so we also need the `!important` here to be able to override the default hidden behavior on the sphinx rendered scikit-learn.org. See: https://github.com/scikit-learn/scikit-learn/issues/21755 */display: inline-block !important;position: relative;}#sk-container-id-4 div.sk-text-repr-fallback {display: none;}</style><div id=\"sk-container-id-4\" class=\"sk-top-container\"><div class=\"sk-text-repr-fallback\"><pre>LogisticRegression(max_iter=100000)</pre><b>In a Jupyter environment, please rerun this cell to show the HTML representation or trust the notebook. <br />On GitHub, the HTML representation is unable to render, please try loading this page with nbviewer.org.</b></div><div class=\"sk-container\" hidden><div class=\"sk-item\"><div class=\"sk-estimator sk-toggleable\"><input class=\"sk-toggleable__control sk-hidden--visually\" id=\"sk-estimator-id-4\" type=\"checkbox\" checked><label for=\"sk-estimator-id-4\" class=\"sk-toggleable__label sk-toggleable__label-arrow\">LogisticRegression</label><div class=\"sk-toggleable__content\"><pre>LogisticRegression(max_iter=100000)</pre></div></div></div></div></div>"
      ],
      "text/plain": [
       "LogisticRegression(max_iter=100000)"
      ]
     },
     "execution_count": 37,
     "metadata": {},
     "output_type": "execute_result"
    }
   ],
   "source": [
    "#logistic regression model\n",
    "from sklearn.linear_model import LogisticRegression\n",
    "\n",
    "logistic = LogisticRegression(solver='lbfgs', max_iter=100000)\n",
    "logistic.fit(X,y) #train"
   ]
  },
  {
   "cell_type": "code",
   "execution_count": 38,
   "id": "0f182955-1284-40b9-b5a7-9d5fe35a2d97",
   "metadata": {},
   "outputs": [],
   "source": [
    "#extract propensity scores\n",
    "actors['propensity_score'] = [i[0] for i in list(logistic.predict_proba(X))]"
   ]
  },
  {
   "cell_type": "code",
   "execution_count": 40,
   "id": "b7441ffc-2fde-4815-9b64-518e72909753",
   "metadata": {},
   "outputs": [
    {
     "data": {
      "text/html": [
       "<div>\n",
       "<style scoped>\n",
       "    .dataframe tbody tr th:only-of-type {\n",
       "        vertical-align: middle;\n",
       "    }\n",
       "\n",
       "    .dataframe tbody tr th {\n",
       "        vertical-align: top;\n",
       "    }\n",
       "\n",
       "    .dataframe thead th {\n",
       "        text-align: right;\n",
       "    }\n",
       "</style>\n",
       "<table border=\"1\" class=\"dataframe\">\n",
       "  <thead>\n",
       "    <tr style=\"text-align: right;\">\n",
       "      <th></th>\n",
       "      <th>propensity_score</th>\n",
       "    </tr>\n",
       "  </thead>\n",
       "  <tbody>\n",
       "    <tr>\n",
       "      <th>0</th>\n",
       "      <td>0.867909</td>\n",
       "    </tr>\n",
       "    <tr>\n",
       "      <th>1</th>\n",
       "      <td>0.974413</td>\n",
       "    </tr>\n",
       "    <tr>\n",
       "      <th>2</th>\n",
       "      <td>0.974564</td>\n",
       "    </tr>\n",
       "    <tr>\n",
       "      <th>3</th>\n",
       "      <td>0.973855</td>\n",
       "    </tr>\n",
       "    <tr>\n",
       "      <th>4</th>\n",
       "      <td>0.975058</td>\n",
       "    </tr>\n",
       "  </tbody>\n",
       "</table>\n",
       "</div>"
      ],
      "text/plain": [
       "   propensity_score\n",
       "0          0.867909\n",
       "1          0.974413\n",
       "2          0.974564\n",
       "3          0.973855\n",
       "4          0.975058"
      ]
     },
     "execution_count": 40,
     "metadata": {},
     "output_type": "execute_result"
    }
   ],
   "source": [
    "#display propensity scores\n",
    "actors[['propensity_score']].head()"
   ]
  },
  {
   "cell_type": "markdown",
   "id": "1d92f9da-6b0e-4a40-ba27-b63f5ac6e508",
   "metadata": {},
   "source": [
    "Given the extremely large size of the dataset and the matching time needed to minimize the similarity difference between all the possible combinations, the matching is carried out by ordering the dataset by propensity scores, splitting it into smaller sets and performing the matching on each. The method is valid because each smaller set will have the most similar propensity scores (method suggestes by Prof. Bob West)."
   ]
  },
  {
   "cell_type": "code",
   "execution_count": 41,
   "id": "55ab1b84-d8b5-4c81-a0d3-01dc6f4328eb",
   "metadata": {},
   "outputs": [],
   "source": [
    "#function to compute similarity (difference between propensity scores to be minimized in the matching)\n",
    "def get_similarity(prop1,prop2):\n",
    "    return 1-abs(prop1-prop2)"
   ]
  },
  {
   "cell_type": "code",
   "execution_count": 44,
   "id": "4101a270-e434-43d3-855a-b0161341b44a",
   "metadata": {},
   "outputs": [],
   "source": [
    "#sort dataset by propensity score\n",
    "actors_prop = actors.sort_values(by=['propensity_score'],ascending=True).reset_index()"
   ]
  },
  {
   "cell_type": "code",
   "execution_count": 45,
   "id": "ddd6379b-191c-4815-a10b-9c76578ca05a",
   "metadata": {},
   "outputs": [],
   "source": [
    "#define matrix with the indexes of the multiple groups on each row\n",
    "count = np.array(actors_prop.index).reshape(54,406)"
   ]
  },
  {
   "cell_type": "code",
   "execution_count": 46,
   "id": "657dc5a4-19fe-4ac0-9541-aa32edb4003b",
   "metadata": {},
   "outputs": [
    {
     "ename": "KeyboardInterrupt",
     "evalue": "",
     "output_type": "error",
     "traceback": [
      "\u001b[1;31m---------------------------------------------------------------------------\u001b[0m",
      "\u001b[1;31mKeyboardInterrupt\u001b[0m                         Traceback (most recent call last)",
      "Input \u001b[1;32mIn [46]\u001b[0m, in \u001b[0;36m<cell line: 3>\u001b[1;34m()\u001b[0m\n\u001b[0;32m     18\u001b[0m             \u001b[38;5;66;03m#Add an edge between the two instances weighted by the similarity between them\u001b[39;00m\n\u001b[0;32m     19\u001b[0m             G\u001b[38;5;241m.\u001b[39madd_weighted_edges_from([(i, k, similarity)])\n\u001b[1;32m---> 21\u001b[0m matching \u001b[38;5;241m=\u001b[39m \u001b[43mnx\u001b[49m\u001b[38;5;241;43m.\u001b[39;49m\u001b[43mmax_weight_matching\u001b[49m\u001b[43m(\u001b[49m\u001b[43mG\u001b[49m\u001b[43m)\u001b[49m \u001b[38;5;66;03m#perform the matching\u001b[39;00m\n\u001b[0;32m     23\u001b[0m matched \u001b[38;5;241m=\u001b[39m [i[\u001b[38;5;241m0\u001b[39m] \u001b[38;5;28;01mfor\u001b[39;00m i \u001b[38;5;129;01min\u001b[39;00m \u001b[38;5;28mlist\u001b[39m(matching)] \u001b[38;5;241m+\u001b[39m [i[\u001b[38;5;241m1\u001b[39m] \u001b[38;5;28;01mfor\u001b[39;00m i \u001b[38;5;129;01min\u001b[39;00m \u001b[38;5;28mlist\u001b[39m(matching)] \u001b[38;5;66;03m#create list with all indexes of people paired\u001b[39;00m\n\u001b[0;32m     25\u001b[0m balanced_df \u001b[38;5;241m=\u001b[39m actors_prop\u001b[38;5;241m.\u001b[39mloc[matched] \u001b[38;5;66;03m#extract only rows with paired subjects\u001b[39;00m\n",
      "File \u001b[1;32m<class 'networkx.utils.decorators.argmap'> compilation 5:5\u001b[0m, in \u001b[0;36margmap_max_weight_matching_1\u001b[1;34m(G, maxcardinality, weight)\u001b[0m\n\u001b[0;32m      3\u001b[0m \u001b[38;5;28;01mimport\u001b[39;00m \u001b[38;5;21;01mgzip\u001b[39;00m\n\u001b[0;32m      4\u001b[0m \u001b[38;5;28;01mimport\u001b[39;00m \u001b[38;5;21;01minspect\u001b[39;00m\n\u001b[1;32m----> 5\u001b[0m \u001b[38;5;28;01mimport\u001b[39;00m \u001b[38;5;21;01mitertools\u001b[39;00m\n\u001b[0;32m      6\u001b[0m \u001b[38;5;28;01mimport\u001b[39;00m \u001b[38;5;21;01mre\u001b[39;00m\n\u001b[0;32m      7\u001b[0m \u001b[38;5;28;01mfrom\u001b[39;00m \u001b[38;5;21;01mcollections\u001b[39;00m \u001b[38;5;28;01mimport\u001b[39;00m defaultdict\n",
      "File \u001b[1;32m~\\anaconda3\\envs\\ada\\lib\\site-packages\\networkx\\algorithms\\matching.py:999\u001b[0m, in \u001b[0;36mmax_weight_matching\u001b[1;34m(G, maxcardinality, weight)\u001b[0m\n\u001b[0;32m    994\u001b[0m                 bestedge[bv] \u001b[38;5;241m=\u001b[39m (v, w)\n\u001b[0;32m    995\u001b[0m         \u001b[38;5;28;01melif\u001b[39;00m label\u001b[38;5;241m.\u001b[39mget(w) \u001b[38;5;129;01mis\u001b[39;00m \u001b[38;5;28;01mNone\u001b[39;00m:\n\u001b[0;32m    996\u001b[0m             \u001b[38;5;66;03m# w is a free vertex (or an unreached vertex inside\u001b[39;00m\n\u001b[0;32m    997\u001b[0m             \u001b[38;5;66;03m# a T-blossom) but we can not reach it yet;\u001b[39;00m\n\u001b[0;32m    998\u001b[0m             \u001b[38;5;66;03m# keep track of the least-slack edge that reaches w.\u001b[39;00m\n\u001b[1;32m--> 999\u001b[0m             \u001b[38;5;28;01mif\u001b[39;00m bestedge\u001b[38;5;241m.\u001b[39mget(w) \u001b[38;5;129;01mis\u001b[39;00m \u001b[38;5;28;01mNone\u001b[39;00m \u001b[38;5;129;01mor\u001b[39;00m kslack \u001b[38;5;241m<\u001b[39m \u001b[43mslack\u001b[49m\u001b[43m(\u001b[49m\u001b[38;5;241;43m*\u001b[39;49m\u001b[43mbestedge\u001b[49m\u001b[43m[\u001b[49m\u001b[43mw\u001b[49m\u001b[43m]\u001b[49m\u001b[43m)\u001b[49m:\n\u001b[0;32m   1000\u001b[0m                 bestedge[w] \u001b[38;5;241m=\u001b[39m (v, w)\n\u001b[0;32m   1002\u001b[0m \u001b[38;5;28;01mif\u001b[39;00m augmented:\n",
      "File \u001b[1;32m~\\anaconda3\\envs\\ada\\lib\\site-packages\\networkx\\algorithms\\matching.py:521\u001b[0m, in \u001b[0;36mmax_weight_matching.<locals>.slack\u001b[1;34m(v, w)\u001b[0m\n\u001b[0;32m    520\u001b[0m \u001b[38;5;28;01mdef\u001b[39;00m \u001b[38;5;21mslack\u001b[39m(v, w):\n\u001b[1;32m--> 521\u001b[0m     \u001b[38;5;28;01mreturn\u001b[39;00m \u001b[43mdualvar\u001b[49m\u001b[43m[\u001b[49m\u001b[43mv\u001b[49m\u001b[43m]\u001b[49m\u001b[43m \u001b[49m\u001b[38;5;241;43m+\u001b[39;49m\u001b[43m \u001b[49m\u001b[43mdualvar\u001b[49m\u001b[43m[\u001b[49m\u001b[43mw\u001b[49m\u001b[43m]\u001b[49m \u001b[38;5;241m-\u001b[39m \u001b[38;5;241m2\u001b[39m \u001b[38;5;241m*\u001b[39m G[v][w]\u001b[38;5;241m.\u001b[39mget(weight, \u001b[38;5;241m1\u001b[39m)\n",
      "\u001b[1;31mKeyboardInterrupt\u001b[0m: "
     ]
    }
   ],
   "source": [
    "T = pd.DataFrame([]) #initialize auxiliary matrix\n",
    "\n",
    "for i in range(len(count)):\n",
    "    \n",
    "    #define treatment and control groups\n",
    "    treat = actors_prop.loc[count[i,:]][actors_prop['appearances'] > 2]\n",
    "    contr = actors_prop.loc[count[i,:]][actors_prop['appearances'] <= 2]\n",
    "    \n",
    "    G = nx.Graph() #create empty undirected graph\n",
    "    \n",
    "    for i, j in contr.iterrows():\n",
    "        for k, l in treat.iterrows():\n",
    "            if j['gender'] == l['gender']: #perfect match on gender\n",
    "                #Calculate the similarity \n",
    "                similarity = get_similarity(j['propensity_score'],\n",
    "                                            l['propensity_score'])\n",
    "\n",
    "                #Add an edge between the two instances weighted by the similarity between them\n",
    "                G.add_weighted_edges_from([(i, k, similarity)])\n",
    "            \n",
    "    matching = nx.max_weight_matching(G) #perform the matching\n",
    "\n",
    "    matched = [i[0] for i in list(matching)] + [i[1] for i in list(matching)] #create list with all indexes of people paired\n",
    "\n",
    "    balanced_df = actors_prop.loc[matched] #extract only rows with paired subjects\n",
    "    \n",
    "    T = T.append(balanced_df) #append to auxiliary matrix"
   ]
  },
  {
   "cell_type": "code",
   "execution_count": null,
   "id": "706098ee-ee7b-4dd6-8558-1beae848593d",
   "metadata": {},
   "outputs": [],
   "source": [
    "#export balanced dataset\n",
    "T.to_csv('../data/balanced_df.csv')"
   ]
  },
  {
   "cell_type": "code",
   "execution_count": 47,
   "id": "a640fac0-be61-4e8d-a346-15aa9c4c58ca",
   "metadata": {},
   "outputs": [
    {
     "data": {
      "text/html": [
       "<div>\n",
       "<style scoped>\n",
       "    .dataframe tbody tr th:only-of-type {\n",
       "        vertical-align: middle;\n",
       "    }\n",
       "\n",
       "    .dataframe tbody tr th {\n",
       "        vertical-align: top;\n",
       "    }\n",
       "\n",
       "    .dataframe thead th {\n",
       "        text-align: right;\n",
       "    }\n",
       "</style>\n",
       "<table border=\"1\" class=\"dataframe\">\n",
       "  <thead>\n",
       "    <tr style=\"text-align: right;\">\n",
       "      <th></th>\n",
       "      <th>index</th>\n",
       "      <th>actor</th>\n",
       "      <th>revenue_avg</th>\n",
       "      <th>grade_avg</th>\n",
       "      <th>revenue_sum</th>\n",
       "      <th>grade_sum</th>\n",
       "      <th>appearances</th>\n",
       "      <th>main_genre</th>\n",
       "      <th>2nd_genre</th>\n",
       "      <th>country1</th>\n",
       "      <th>country2</th>\n",
       "      <th>tenure</th>\n",
       "      <th>gender</th>\n",
       "      <th>birthdate</th>\n",
       "      <th>log_revenue</th>\n",
       "      <th>treatment</th>\n",
       "      <th>propensity_score</th>\n",
       "      <th>star_score</th>\n",
       "    </tr>\n",
       "  </thead>\n",
       "  <tbody>\n",
       "    <tr>\n",
       "      <th>9306</th>\n",
       "      <td>7012</td>\n",
       "      <td>Frank_Welker</td>\n",
       "      <td>2.442829e+08</td>\n",
       "      <td>5.106723</td>\n",
       "      <td>1.465697e+10</td>\n",
       "      <td>306.403368</td>\n",
       "      <td>60</td>\n",
       "      <td>Adventure</td>\n",
       "      <td>Family Film</td>\n",
       "      <td>United States of America</td>\n",
       "      <td>Japan</td>\n",
       "      <td>28.0</td>\n",
       "      <td>M</td>\n",
       "      <td>1930</td>\n",
       "      <td>19.313837</td>\n",
       "      <td>1</td>\n",
       "      <td>0.668033</td>\n",
       "      <td>22.131422</td>\n",
       "    </tr>\n",
       "    <tr>\n",
       "      <th>1675</th>\n",
       "      <td>6799</td>\n",
       "      <td>Johnny_Depp</td>\n",
       "      <td>2.113608e+08</td>\n",
       "      <td>5.554156</td>\n",
       "      <td>8.665791e+09</td>\n",
       "      <td>227.720408</td>\n",
       "      <td>41</td>\n",
       "      <td>Drama</td>\n",
       "      <td>Comedy</td>\n",
       "      <td>United States of America</td>\n",
       "      <td>United Kingdom</td>\n",
       "      <td>28.0</td>\n",
       "      <td>M</td>\n",
       "      <td>1933</td>\n",
       "      <td>19.169077</td>\n",
       "      <td>1</td>\n",
       "      <td>0.207925</td>\n",
       "      <td>21.132632</td>\n",
       "    </tr>\n",
       "    <tr>\n",
       "      <th>14456</th>\n",
       "      <td>9669</td>\n",
       "      <td>Hugo_Weaving</td>\n",
       "      <td>4.590775e+08</td>\n",
       "      <td>6.243520</td>\n",
       "      <td>1.101786e+10</td>\n",
       "      <td>149.844479</td>\n",
       "      <td>24</td>\n",
       "      <td>Science Fiction</td>\n",
       "      <td>Adventure</td>\n",
       "      <td>United States of America</td>\n",
       "      <td>Australia</td>\n",
       "      <td>21.0</td>\n",
       "      <td>M</td>\n",
       "      <td>1924</td>\n",
       "      <td>19.944730</td>\n",
       "      <td>1</td>\n",
       "      <td>0.803309</td>\n",
       "      <td>20.268263</td>\n",
       "    </tr>\n",
       "    <tr>\n",
       "      <th>5737</th>\n",
       "      <td>3585</td>\n",
       "      <td>Anthony_Hopkins</td>\n",
       "      <td>1.483411e+08</td>\n",
       "      <td>5.165933</td>\n",
       "      <td>6.378666e+09</td>\n",
       "      <td>222.135132</td>\n",
       "      <td>43</td>\n",
       "      <td>Drama</td>\n",
       "      <td>Period piece</td>\n",
       "      <td>United States of America</td>\n",
       "      <td>United Kingdom</td>\n",
       "      <td>43.0</td>\n",
       "      <td>M</td>\n",
       "      <td>1916</td>\n",
       "      <td>18.815025</td>\n",
       "      <td>1</td>\n",
       "      <td>0.419890</td>\n",
       "      <td>18.937235</td>\n",
       "    </tr>\n",
       "    <tr>\n",
       "      <th>5359</th>\n",
       "      <td>11567</td>\n",
       "      <td>George_Clooney</td>\n",
       "      <td>1.618503e+08</td>\n",
       "      <td>5.590759</td>\n",
       "      <td>4.855510e+09</td>\n",
       "      <td>167.722762</td>\n",
       "      <td>30</td>\n",
       "      <td>Comedy</td>\n",
       "      <td>Drama</td>\n",
       "      <td>United States of America</td>\n",
       "      <td>United Kingdom</td>\n",
       "      <td>15.0</td>\n",
       "      <td>M</td>\n",
       "      <td>1944</td>\n",
       "      <td>18.902183</td>\n",
       "      <td>1</td>\n",
       "      <td>0.411410</td>\n",
       "      <td>18.311480</td>\n",
       "    </tr>\n",
       "  </tbody>\n",
       "</table>\n",
       "</div>"
      ],
      "text/plain": [
       "       index            actor   revenue_avg  grade_avg   revenue_sum  \\\n",
       "9306    7012     Frank_Welker  2.442829e+08   5.106723  1.465697e+10   \n",
       "1675    6799      Johnny_Depp  2.113608e+08   5.554156  8.665791e+09   \n",
       "14456   9669     Hugo_Weaving  4.590775e+08   6.243520  1.101786e+10   \n",
       "5737    3585  Anthony_Hopkins  1.483411e+08   5.165933  6.378666e+09   \n",
       "5359   11567   George_Clooney  1.618503e+08   5.590759  4.855510e+09   \n",
       "\n",
       "        grade_sum  appearances       main_genre     2nd_genre  \\\n",
       "9306   306.403368           60        Adventure   Family Film   \n",
       "1675   227.720408           41            Drama        Comedy   \n",
       "14456  149.844479           24  Science Fiction     Adventure   \n",
       "5737   222.135132           43            Drama  Period piece   \n",
       "5359   167.722762           30           Comedy         Drama   \n",
       "\n",
       "                       country1        country2  tenure gender  birthdate  \\\n",
       "9306   United States of America           Japan    28.0      M       1930   \n",
       "1675   United States of America  United Kingdom    28.0      M       1933   \n",
       "14456  United States of America       Australia    21.0      M       1924   \n",
       "5737   United States of America  United Kingdom    43.0      M       1916   \n",
       "5359   United States of America  United Kingdom    15.0      M       1944   \n",
       "\n",
       "       log_revenue  treatment  propensity_score  star_score  \n",
       "9306     19.313837          1          0.668033   22.131422  \n",
       "1675     19.169077          1          0.207925   21.132632  \n",
       "14456    19.944730          1          0.803309   20.268263  \n",
       "5737     18.815025          1          0.419890   18.937235  \n",
       "5359     18.902183          1          0.411410   18.311480  "
      ]
     },
     "execution_count": 47,
     "metadata": {},
     "output_type": "execute_result"
    }
   ],
   "source": [
    "#import balanced dataset\n",
    "balanced_df = pd.read_csv('../data/balanced_df.csv', index_col=0)\n",
    "balanced_df.head()"
   ]
  },
  {
   "cell_type": "code",
   "execution_count": 48,
   "id": "88734815-1d1d-4386-846e-a8693e633e21",
   "metadata": {},
   "outputs": [
    {
     "name": "stdout",
     "output_type": "stream",
     "text": [
      "We matched 4865.0 pairs of actors\n",
      "We discarded 12194actors\n"
     ]
    }
   ],
   "source": [
    "print('We matched ' + str(len(balanced_df)/2) + ' pairs of actors')\n",
    "print('We discarded ' + str(len(actors)-len(balanced_df)) + 'actors')"
   ]
  },
  {
   "cell_type": "markdown",
   "id": "d8e88da8-515f-4861-8842-644ea0840a4f",
   "metadata": {},
   "source": [
    "To capture the influence of the average revenues and ratings of actors' careers, a linear regression is implemented on the balanced dataset. The summary is shown below."
   ]
  },
  {
   "cell_type": "code",
   "execution_count": 49,
   "id": "81101043-ce85-45a9-941e-e6f5d69c1aef",
   "metadata": {},
   "outputs": [
    {
     "name": "stdout",
     "output_type": "stream",
     "text": [
      "                            OLS Regression Results                            \n",
      "==============================================================================\n",
      "Dep. Variable:              treatment   R-squared:                       0.113\n",
      "Model:                            OLS   Adj. R-squared:                  0.113\n",
      "Method:                 Least Squares   F-statistic:                     617.9\n",
      "Date:                Fri, 16 Dec 2022   Prob (F-statistic):          2.43e-253\n",
      "Time:                        08:55:01   Log-Likelihood:                -6480.1\n",
      "No. Observations:                9730   AIC:                         1.297e+04\n",
      "Df Residuals:                    9727   BIC:                         1.299e+04\n",
      "Df Model:                           2                                         \n",
      "Covariance Type:            nonrobust                                         \n",
      "===============================================================================\n",
      "                  coef    std err          t      P>|t|      [0.025      0.975]\n",
      "-------------------------------------------------------------------------------\n",
      "Intercept       0.5000      0.005    104.703      0.000       0.491       0.509\n",
      "revenue_avg     0.1859      0.005     34.627      0.000       0.175       0.196\n",
      "grade_avg      -0.0560      0.005    -10.427      0.000      -0.066      -0.045\n",
      "==============================================================================\n",
      "Omnibus:                    44127.267   Durbin-Watson:                   1.656\n",
      "Prob(Omnibus):                  0.000   Jarque-Bera (JB):             1153.919\n",
      "Skew:                          -0.137   Prob(JB):                    2.69e-251\n",
      "Kurtosis:                       1.335   Cond. No.                         1.64\n",
      "==============================================================================\n",
      "\n",
      "Notes:\n",
      "[1] Standard Errors assume that the covariance matrix of the errors is correctly specified.\n"
     ]
    }
   ],
   "source": [
    "#regression\n",
    "X1 = balanced_df[{'treatment','revenue_avg','grade_avg'}]\n",
    "X1['revenue_avg'] = X1['revenue_avg'].apply('log')\n",
    "X1['revenue_avg'] = (X1['revenue_avg'] - X1['revenue_avg'].mean())/X1['revenue_avg'].std()\n",
    "X1['grade_avg'] = (X1['grade_avg'] - X1['grade_avg'].mean())/X1['grade_avg'].std()\n",
    "    \n",
    "import statsmodels.formula.api as smf\n",
    "    \n",
    "mod = smf.ols(formula='treatment ~ revenue_avg + grade_avg',\n",
    "              data=X1)\n",
    "res = mod.fit()\n",
    "print(res.summary())"
   ]
  },
  {
   "cell_type": "markdown",
   "id": "959fdb50-cf14-45bc-be44-a6057ffb3b76",
   "metadata": {},
   "source": [
    "From the results, it it possible to observe that there is a positive correlation with the revenues and a negative correlation with the ratings, both statistically significant given that the p-values are lower than the imposed threshold (0.05). The negative correlation with the ratings is interesting, because it is counter-intuitive. A possible explanation of such correlation is that, generally speaking, movies with a big impact (e.g., big revenue and rating) tend to have sequels, where the actors' cast is roughly the same, but the movie quality decreases with respect to the first movie, or at least it cannot stand the high expectancies of it. But let's the data speak!"
   ]
  },
  {
   "cell_type": "markdown",
   "id": "e5022fc1-66a3-4054-8c49-ed4fbdd16dd0",
   "metadata": {},
   "source": [
    "PROVE THIS!!!"
   ]
  },
  {
   "cell_type": "markdown",
   "id": "26bf26f6-a094-4212-bc28-54cc2b4770ad",
   "metadata": {},
   "source": [
    "The *star score* can eventually be defined based on the above analysis.\n",
    "\n",
    "$star\\ score = (A + \\ln{\\bar{R}})^{\\log{(\\bar{G})}}$\n",
    "\n",
    "where $A$ is the number of appearances in the actor's career and $\\bar{G}$, $\\bar{R}$ are the averages of the revenues and ratings 'caused' to the movies he starred in. In this case the average is appropriate because the distribution of such parameters in actors careers is not a power law.\n",
    "\n",
    "This formulation of the star score captures the three parameters of interest chosen to assess the impact of an actor on movies. To give importance to the revenues that actors cause to movies, a linear combination of log of average revenues and number of career appearances (productivity) is suitable to give both factors comparable weights. Moreover, given that the ratings range from 1 to 10, exponentiating with log base 10 of the average ratings would keep the base as it is for a maximum rating and decrease it for a drop in rating. Here, the exponential increase is suitable because of the will to give a larger weight to actors that manage to significantly affect the movie rating, given the previously found trend of negative correlation with appearances.\n",
    "\n",
    "We believe this metric includes the parameters of interest that relate an actor to the success of the movie. Of course it is possible to argue that many other factors may be taken into consideration, but the goal of the present study is to assess by a certain order the actors' impact. We are aware of the possible margins of error."
   ]
  },
  {
   "cell_type": "code",
   "execution_count": 50,
   "id": "bd7034af-fa05-4bb0-8d00-1ecd87205bb7",
   "metadata": {},
   "outputs": [],
   "source": [
    "#add star scores\n",
    "balanced_df['star_score'] = (balanced_df['appearances'] + balanced_df['log_revenue'])**np.log10(balanced_df['grade_avg'])"
   ]
  },
  {
   "cell_type": "code",
   "execution_count": 51,
   "id": "3ea88b88-cccf-43cd-86ac-90b6c8d7d054",
   "metadata": {},
   "outputs": [],
   "source": [
    "balanced_df.sort_values('star_score', inplace=True, ascending=False)"
   ]
  },
  {
   "cell_type": "code",
   "execution_count": 52,
   "id": "848b686d-e6ee-4414-96d0-e9e3e4154d66",
   "metadata": {},
   "outputs": [
    {
     "data": {
      "text/html": [
       "<div>\n",
       "<style scoped>\n",
       "    .dataframe tbody tr th:only-of-type {\n",
       "        vertical-align: middle;\n",
       "    }\n",
       "\n",
       "    .dataframe tbody tr th {\n",
       "        vertical-align: top;\n",
       "    }\n",
       "\n",
       "    .dataframe thead th {\n",
       "        text-align: right;\n",
       "    }\n",
       "</style>\n",
       "<table border=\"1\" class=\"dataframe\">\n",
       "  <thead>\n",
       "    <tr style=\"text-align: right;\">\n",
       "      <th></th>\n",
       "      <th>index</th>\n",
       "      <th>actor</th>\n",
       "      <th>revenue_avg</th>\n",
       "      <th>grade_avg</th>\n",
       "      <th>revenue_sum</th>\n",
       "      <th>grade_sum</th>\n",
       "      <th>appearances</th>\n",
       "      <th>main_genre</th>\n",
       "      <th>2nd_genre</th>\n",
       "      <th>country1</th>\n",
       "      <th>country2</th>\n",
       "      <th>tenure</th>\n",
       "      <th>gender</th>\n",
       "      <th>birthdate</th>\n",
       "      <th>log_revenue</th>\n",
       "      <th>treatment</th>\n",
       "      <th>propensity_score</th>\n",
       "      <th>star_score</th>\n",
       "    </tr>\n",
       "  </thead>\n",
       "  <tbody>\n",
       "    <tr>\n",
       "      <th>9306</th>\n",
       "      <td>7012</td>\n",
       "      <td>Frank_Welker</td>\n",
       "      <td>2.442829e+08</td>\n",
       "      <td>5.106723</td>\n",
       "      <td>1.465697e+10</td>\n",
       "      <td>306.403368</td>\n",
       "      <td>60</td>\n",
       "      <td>Adventure</td>\n",
       "      <td>Family Film</td>\n",
       "      <td>United States of America</td>\n",
       "      <td>Japan</td>\n",
       "      <td>28.0</td>\n",
       "      <td>M</td>\n",
       "      <td>1930</td>\n",
       "      <td>19.313837</td>\n",
       "      <td>1</td>\n",
       "      <td>0.668033</td>\n",
       "      <td>22.131422</td>\n",
       "    </tr>\n",
       "    <tr>\n",
       "      <th>1675</th>\n",
       "      <td>6799</td>\n",
       "      <td>Johnny_Depp</td>\n",
       "      <td>2.113608e+08</td>\n",
       "      <td>5.554156</td>\n",
       "      <td>8.665791e+09</td>\n",
       "      <td>227.720408</td>\n",
       "      <td>41</td>\n",
       "      <td>Drama</td>\n",
       "      <td>Comedy</td>\n",
       "      <td>United States of America</td>\n",
       "      <td>United Kingdom</td>\n",
       "      <td>28.0</td>\n",
       "      <td>M</td>\n",
       "      <td>1933</td>\n",
       "      <td>19.169077</td>\n",
       "      <td>1</td>\n",
       "      <td>0.207925</td>\n",
       "      <td>21.132632</td>\n",
       "    </tr>\n",
       "    <tr>\n",
       "      <th>14456</th>\n",
       "      <td>9669</td>\n",
       "      <td>Hugo_Weaving</td>\n",
       "      <td>4.590775e+08</td>\n",
       "      <td>6.243520</td>\n",
       "      <td>1.101786e+10</td>\n",
       "      <td>149.844479</td>\n",
       "      <td>24</td>\n",
       "      <td>Science Fiction</td>\n",
       "      <td>Adventure</td>\n",
       "      <td>United States of America</td>\n",
       "      <td>Australia</td>\n",
       "      <td>21.0</td>\n",
       "      <td>M</td>\n",
       "      <td>1924</td>\n",
       "      <td>19.944730</td>\n",
       "      <td>1</td>\n",
       "      <td>0.803309</td>\n",
       "      <td>20.268263</td>\n",
       "    </tr>\n",
       "  </tbody>\n",
       "</table>\n",
       "</div>"
      ],
      "text/plain": [
       "       index         actor   revenue_avg  grade_avg   revenue_sum   grade_sum  \\\n",
       "9306    7012  Frank_Welker  2.442829e+08   5.106723  1.465697e+10  306.403368   \n",
       "1675    6799   Johnny_Depp  2.113608e+08   5.554156  8.665791e+09  227.720408   \n",
       "14456   9669  Hugo_Weaving  4.590775e+08   6.243520  1.101786e+10  149.844479   \n",
       "\n",
       "       appearances       main_genre    2nd_genre                  country1  \\\n",
       "9306            60        Adventure  Family Film  United States of America   \n",
       "1675            41            Drama       Comedy  United States of America   \n",
       "14456           24  Science Fiction    Adventure  United States of America   \n",
       "\n",
       "             country2  tenure gender  birthdate  log_revenue  treatment  \\\n",
       "9306            Japan    28.0      M       1930    19.313837          1   \n",
       "1675   United Kingdom    28.0      M       1933    19.169077          1   \n",
       "14456       Australia    21.0      M       1924    19.944730          1   \n",
       "\n",
       "       propensity_score  star_score  \n",
       "9306           0.668033   22.131422  \n",
       "1675           0.207925   21.132632  \n",
       "14456          0.803309   20.268263  "
      ]
     },
     "execution_count": 52,
     "metadata": {},
     "output_type": "execute_result"
    }
   ],
   "source": [
    "balanced_df.head(3)"
   ]
  },
  {
   "cell_type": "markdown",
   "id": "ab55a067-ed80-4363-b49e-305dcb9a544a",
   "metadata": {},
   "source": [
    "The distribution of the star scores in the dataset is shown below. As expected, the distribution is  skewed, because of the previously explained rich-get-richer mecahnism. However, the distribution is not a power law, given that it is not a straight line in the logarithmic domain. In the linear plot, there is a first trait of very high star scores, then a linear decrease to roughly the 90th percentile of the actors and eventually a rapid drop for the less-successful actors.\n",
    "It is interesting to comment the linear behavior in the middle of the distribution. Indeed, it seems that the difference in movie impact between actors with high movie appearances and actors with lower ones is not as steep a is may seem by only analysing the productivity of the actors (from first power law graph)."
   ]
  },
  {
   "cell_type": "code",
   "execution_count": 53,
   "id": "fdb84a9a-b80d-4ee2-ac25-78f563bc05a3",
   "metadata": {},
   "outputs": [
    {
     "data": {
      "image/png": "[encoded data removed]",
      "text/plain": [
       "<Figure size 800x300 with 2 Axes>"
      ]
     },
     "metadata": {},
     "output_type": "display_data"
    }
   ],
   "source": [
    "#2 subplots\n",
    "fig, ax = plt.subplots(1,2, figsize=(8,3))\n",
    "\n",
    "sbplt = ax[0]\n",
    "sbplt.plot(np.arange(0,len(balanced_df)),balanced_df.star_score)\n",
    "sbplt.set_title('Linear axes')\n",
    "sbplt.set_ylabel('Star scores')\n",
    "sbplt.set_xlabel('Actor')\n",
    "\n",
    "sbplt = ax[1]\n",
    "plt.loglog(np.arange(0,len(balanced_df)),balanced_df.star_score)\n",
    "sbplt.set_title('Logarithmic axes')\n",
    "sbplt.set_ylabel('Star scores')\n",
    "sbplt.set_xlabel('Actor')\n",
    "\n",
    "fig.tight_layout()\n",
    "plt.show()"
   ]
  },
  {
   "cell_type": "code",
   "execution_count": 54,
   "id": "3ff02278-3dc5-4f3f-bdd7-561a8db1f37e",
   "metadata": {},
   "outputs": [],
   "source": [
    "balanced_df.to_csv('../data/balanced_df.csv')"
   ]
  },
  {
   "cell_type": "markdown",
   "id": "ffcb4a4e-9567-414e-8eac-dd6bd7cd9d84",
   "metadata": {},
   "source": [
    "It is interesting to investigate the birthdate distribution of average star scores, shown in the plot below (split by gender). First of all, it is interesting to notice that the highest average star scores are concentrated in actors with the most recent birthdates (roughly 1980-2000) and with the less recent ones (roughly 1880). Actors born in the middle of these periods follow a steady trend. The first peak could be related with *Hollywood's golden age* (1930s-1940s), namely the beginning of the sound movies and one of the most productive periods in Hollywood history. Indeed, as a remainder, the revenues were corrected taking inflation into account, therefore the revenues between time periods are comparable.\n",
    "Regarding the peaks in most recent movie history, it could be related to the increasing diffusion of technology and easiness of access to content, or by the fact that the number of people watching the movies is large and consequently the number of movie rating is increased (remainder that the ratings are normalized on the number of votes; the more votes, the higher the weight of the rating).\n",
    "\n",
    "Investigating the gender differences, it is curious how actresses dominate in star score during the first period (way higher than actors), while the opposite trend is observed for the rest of the time periods (except a couple years like 1965 and 1985)."
   ]
  },
  {
   "cell_type": "code",
   "execution_count": 56,
   "id": "76e0ad23-f898-4c12-bb29-f733e1db711e",
   "metadata": {},
   "outputs": [],
   "source": [
    "#group by birthdate\n",
    "df_birthdate = balanced_df.groupby('birthdate')['star_score'].mean()"
   ]
  },
  {
   "cell_type": "code",
   "execution_count": 57,
   "id": "5f97479f-6ee8-4c8d-9a7d-1b0128f37a7b",
   "metadata": {},
   "outputs": [],
   "source": [
    "#split into actors/actresses\n",
    "df_m = balanced_df[balanced_df['gender'] == 'M']\n",
    "df_f = balanced_df[balanced_df['gender'] == 'F']"
   ]
  },
  {
   "cell_type": "code",
   "execution_count": 115,
   "id": "74d57489-e1ec-4aff-9e4e-011e1a896eca",
   "metadata": {},
   "outputs": [
    {
     "data": {
      "image/png": "[encoded data removed]",
      "text/plain": [
       "<Figure size 640x480 with 1 Axes>"
      ]
     },
     "metadata": {},
     "output_type": "display_data"
    }
   ],
   "source": [
    "dfm_birthdate = df_m.groupby('birthdate')['star_score'].mean()\n",
    "dff_birthdate = df_f.groupby('birthdate')['star_score'].mean()\n",
    "\n",
    "#plt.plot(df_birthdate.index,df_birthdate.values)\n",
    "plt.plot(dfm_birthdate.index,dfm_birthdate.values,label='actors')\n",
    "plt.plot(dff_birthdate.index,dff_birthdate.values,label='actresses')\n",
    "plt.legend()\n",
    "plt.title('Birthdate distribution of average star scores')\n",
    "plt.ylabel('Star Score')\n",
    "plt.xlabel('Birthdate')\n",
    "plt.savefig('../figures/birthdate.png', bbox_inches='tight')\n",
    "plt.show()"
   ]
  },
  {
   "cell_type": "markdown",
   "id": "7482bd9e-5fbe-4788-a43c-4fac9ed80d4c",
   "metadata": {},
   "source": [
    "The trends in the genres of movies that have larger impact. This plot could show if the preferences of the audience are diversified or if they tend to stick to certain types of films.\n",
    "\n",
    "In the first bar plot (red palette), the distribution of actors per genre is strongly skewed (log y axis), where the most popular categories are *Comedy*, *Drama* and *Action*. However, the average star scores per genre show a different trend (blue palette). The star scores are comparable between different genres (linear y axis), and the genres with highest average star scores are the ones with less actors starring in them. The highest average star scores is obtained by the category *Parody*. This could be explained because in such genre categories there is less competition (less movies produced), therefore the audience is less distributed over all the movies produced and the single actor can more easily have an impact on the revenue. Moreover, there are less famous actors in Parody movies with respect to Action, Drama and Comedy, therefore the few Parody actors joining the rich-get-richer circle keep starring and increasing their number of appearances and their success."
   ]
  },
  {
   "cell_type": "code",
   "execution_count": null,
   "id": "969b47c2-a413-44ec-9f24-6792530c90dc",
   "metadata": {},
   "outputs": [],
   "source": [
    "#group average star scores by main actor genre and count actors by main genre\n",
    "df_genre = balanced_df.groupby('main_genre')['star_score'].agg(['mean','count']).sort_values('count',ascending=True)\n",
    "\n",
    "# setting the dimensions of the plot\n",
    "fig, ax = plt.subplots(2,1, figsize=(12, 4), sharex=True)\n",
    "\n",
    "sbplt = ax[1]\n",
    "sns.barplot(ax=ax[1],x=df_genre.index,y=df_genre['mean'],color='b')\n",
    "sbplt.set_ylabel('Average Star Score')\n",
    "sbplt.set_xlabel('Genre')\n",
    "\n",
    "sbplt = ax[0]\n",
    "sns.barplot(ax=ax[0],x=df_genre.index,y=df_genre['count'],palette='light:r')\n",
    "sbplt.set_yscale(\"log\")\n",
    "sbplt.set_xlabel('')\n",
    "sbplt.set_ylabel('Number of actors')\n",
    "\n",
    "fig.tight_layout()\n",
    "plt.xticks(rotation=90)\n",
    "plt.savefig('../figures/genres.png', bbox_inches='tight')\n",
    "plt.show()"
   ]
  },
  {
   "cell_type": "code",
   "execution_count": null,
   "id": "64bce54c-d6ca-4198-bd1e-5ad41516bab1",
   "metadata": {},
   "outputs": [],
   "source": []
  }
 ],
 "metadata": {
  "kernelspec": {
   "display_name": "Python [conda env:ada] *",
   "language": "python",
   "name": "conda-env-ada-py"
  },
  "language_info": {
   "codemirror_mode": {
    "name": "ipython",
    "version": 3
   },
   "file_extension": ".py",
   "mimetype": "text/x-python",
   "name": "python",
   "nbconvert_exporter": "python",
   "pygments_lexer": "ipython3",
   "version": "3.8.13"
  }
 },
 "nbformat": 4,
 "nbformat_minor": 5
}
