{
 "cells": [
  {
   "cell_type": "markdown",
   "id": "f1df1fb8-ace6-4cc4-8577-5386fcab6f03",
   "metadata": {},
   "source": [
    "# Observational study"
   ]
  },
  {
   "cell_type": "markdown",
   "id": "a71cd0b4-738a-4799-afcb-8c36b2c857e0",
   "metadata": {},
   "source": [
    "The goal of the present project is to define a valid metric to evaluate the impact of actors on movies. Specifically, distilling actors careers to a single number, the *star score*. Identifying the latter implies the need to identify truly successful actors, namely actors that had the highest positive impact on movies, in terms of revenues and ratings. Given the presence of multiple confounders, such as the affinity of actors with  particulare genres, different genders or the preference of directors for specific actors, an observational study is carried out to limit the influence of unobserved covariates."
   ]
  },
  {
   "cell_type": "code",
   "execution_count": 1,
   "id": "10b8e2d0-eb55-4467-b318-0b10732a10eb",
   "metadata": {},
   "outputs": [],
   "source": [
    "import pandas as pd\n",
    "import numpy as np\n",
    "import matplotlib.pyplot as plt\n",
    "import matplotlib.patheffects as pe\n",
    "%matplotlib inline\n",
    "import seaborn as sns\n",
    "from scipy import stats\n",
    "import statsmodels.api as sm\n",
    "import re\n",
    "import warnings\n",
    "warnings.filterwarnings('ignore')"
   ]
  },
  {
   "cell_type": "code",
   "execution_count": 209,
   "id": "696797e7-4041-4043-8b5d-63cc4bd66a08",
   "metadata": {},
   "outputs": [],
   "source": [
    "#importing our clean data\n",
    "data = pd.read_csv('../data/data.csv', index_col = 0)\n",
    "data_profit = pd.read_csv('../data/profit_data.csv', index_col = 0)\n",
    "actors = pd.read_csv('../data/timeScores.csv', index_col = 0)\n",
    "imdb = pd.read_csv('../data/imdb_budgets.csv', index_col = 0)\n",
    "ss = pd.read_csv('obs.csv', index_col = 0)"
   ]
  },
  {
   "cell_type": "code",
   "execution_count": 213,
   "id": "d2436cb3-37ca-48f0-9510-27cf0b1aa337",
   "metadata": {},
   "outputs": [],
   "source": [
    "usual_suspects = actors.columns.tolist()[1: -2]\n",
    "\n",
    "def save_values(df, columns):\n",
    "    \n",
    "    for col in columns:\n",
    "        if (col != 'genres'):\n",
    "            df[col] = df[col].apply(lambda x : x[1:-1].split(' '))\n",
    "        else:\n",
    "            df[col] = df[col].apply(lambda x : x.split(\"\\'\")[1::2])\n",
    "    \n",
    "    return df\n",
    "\n",
    "timeScores_fixed = save_values(actors,usual_suspects)"
   ]
  },
  {
   "cell_type": "code",
   "execution_count": 215,
   "id": "dd446b86-3942-4236-b128-dfef49001091",
   "metadata": {},
   "outputs": [],
   "source": [
    "actors['appearances'] = ss['appearances']\n",
    "actors['gender'] = ss['gender']\n",
    "actors['revenues'] = ss['rev_sum']\n",
    "actors['ratings'] = ss['grade_sum']"
   ]
  },
  {
   "cell_type": "code",
   "execution_count": 216,
   "id": "7f007632-f5c2-4923-b3dc-e7a628dd88a8",
   "metadata": {},
   "outputs": [
    {
     "data": {
      "text/html": [
       "<div>\n",
       "<style scoped>\n",
       "    .dataframe tbody tr th:only-of-type {\n",
       "        vertical-align: middle;\n",
       "    }\n",
       "\n",
       "    .dataframe tbody tr th {\n",
       "        vertical-align: top;\n",
       "    }\n",
       "\n",
       "    .dataframe thead th {\n",
       "        text-align: right;\n",
       "    }\n",
       "</style>\n",
       "<table border=\"1\" class=\"dataframe\">\n",
       "  <thead>\n",
       "    <tr style=\"text-align: right;\">\n",
       "      <th></th>\n",
       "      <th>actor</th>\n",
       "      <th>revenues</th>\n",
       "      <th>movie_years</th>\n",
       "      <th>ratings</th>\n",
       "      <th>cumulative_revenue</th>\n",
       "      <th>cumulative_ratings</th>\n",
       "      <th>star_score</th>\n",
       "      <th>epfl_score</th>\n",
       "      <th>genres</th>\n",
       "      <th>genre_count</th>\n",
       "      <th>main_genre</th>\n",
       "      <th>2nd_genre</th>\n",
       "      <th>appearances</th>\n",
       "      <th>gender</th>\n",
       "    </tr>\n",
       "  </thead>\n",
       "  <tbody>\n",
       "    <tr>\n",
       "      <th>0</th>\n",
       "      <td>Dustin_Farnum</td>\n",
       "      <td>6117500.0</td>\n",
       "      <td>[1914.]</td>\n",
       "      <td>2.861536</td>\n",
       "      <td>[6117500.]</td>\n",
       "      <td>[2.86153647]</td>\n",
       "      <td>[16.67802278]</td>\n",
       "      <td>[2.69731427]</td>\n",
       "      <td>[Black-and-white, Drama, Indie, Silent film, W...</td>\n",
       "      <td>[1, 1, 1, 1, 1]</td>\n",
       "      <td>Black-and-white</td>\n",
       "      <td>Drama</td>\n",
       "      <td>1.0</td>\n",
       "      <td>M</td>\n",
       "    </tr>\n",
       "  </tbody>\n",
       "</table>\n",
       "</div>"
      ],
      "text/plain": [
       "           actor   revenues movie_years   ratings cumulative_revenue  \\\n",
       "0  Dustin_Farnum  6117500.0     [1914.]  2.861536         [6117500.]   \n",
       "\n",
       "  cumulative_ratings     star_score    epfl_score  \\\n",
       "0       [2.86153647]  [16.67802278]  [2.69731427]   \n",
       "\n",
       "                                              genres      genre_count  \\\n",
       "0  [Black-and-white, Drama, Indie, Silent film, W...  [1, 1, 1, 1, 1]   \n",
       "\n",
       "        main_genre 2nd_genre  appearances gender  \n",
       "0  Black-and-white     Drama          1.0      M  "
      ]
     },
     "execution_count": 216,
     "metadata": {},
     "output_type": "execute_result"
    }
   ],
   "source": [
    "actors.head(1)"
   ]
  },
  {
   "cell_type": "markdown",
   "id": "d8a274bc-1955-4226-9133-d82c7d84d5d0",
   "metadata": {},
   "source": [
    "The treatment and control group of the observational study will be identified by the number of times actors starred in movies. The assumption is that successful actors keep acting, while the career of less-successfull ones ends early. This hypothesis is supported by the rich-get-richer mechanism, for which successful actors keep starring with other successful actors, making them even more successful and naturally generating a power law in the appearances distribution.\n",
    "\n",
    "Just as normal distributions arise from many independent random decisions averaging out, we power laws arise from the feedback introduced by correlated decisions across a population.\n",
    "\n",
    "Source:\n",
    "Networks, Crowds, and Markets: Reasoning about a Highly Connected World.\n",
    "By David Easley and Jon Kleinberg. Cambridge University Press, 2010.\n",
    "http://www.cs.cornell.edu/home/kleinber/networks-book/"
   ]
  },
  {
   "cell_type": "markdown",
   "id": "759c5e97-52ae-4c16-827b-ae50f51b8a64",
   "metadata": {},
   "source": [
    "Thedistribution of the number of appearances is shown below. The distribution is a power law because it is represented by a straight line in bi-logarithmic axes (it is linear in the log domain)."
   ]
  },
  {
   "cell_type": "code",
   "execution_count": 217,
   "id": "80f2edfd-e7d4-4d17-8a51-90bd39e38e73",
   "metadata": {},
   "outputs": [
    {
     "data": {
      "image/png": "[encoded data removed]",
      "text/plain": [
       "<Figure size 800x300 with 2 Axes>"
      ]
     },
     "metadata": {},
     "output_type": "display_data"
    }
   ],
   "source": [
    "#2 subplots\n",
    "fig, ax = plt.subplots(1,2, figsize=(8,3))\n",
    "\n",
    "#group by number of appearances and sort\n",
    "act = actors.groupby('appearances')['appearances'].count().sort_values(ascending=False)\n",
    "\n",
    "sbplt = ax[0]\n",
    "sbplt.hist(actors.appearances, bins=30)\n",
    "sbplt.set_title('Linear axes')\n",
    "sbplt.set_xlabel('Appearances')\n",
    "\n",
    "sbplt = ax[1]\n",
    "sbplt.loglog(act.index,act.values)\n",
    "sbplt.set_title('Logarithmic axes')\n",
    "sbplt.set_xlabel('Appearances')\n",
    "    \n",
    "fig.tight_layout()\n",
    "plt.show()"
   ]
  },
  {
   "cell_type": "markdown",
   "id": "e934f301-9e0d-4a7f-998c-b39ee7466e79",
   "metadata": {},
   "source": [
    "Supported by the previous assumption, the treatment group will be the group with the higher number of appearances. The splitting of the dataset will be carried out based on the median of the distribution, more representative than the mean when considering skewed distributions."
   ]
  },
  {
   "cell_type": "code",
   "execution_count": 218,
   "id": "cbd8c11c-ec75-4178-b6b4-4ffcde69266e",
   "metadata": {},
   "outputs": [
    {
     "name": "stdout",
     "output_type": "stream",
     "text": [
      "The median of the distribution is 2.0\n",
      "The mean of the distribution is 3.588943623426382\n"
     ]
    }
   ],
   "source": [
    "#median\n",
    "print('The median of the distribution is ' + str(np.median(actors.appearances)))\n",
    "print('The mean of the distribution is ' + str(np.mean(actors.appearances)))"
   ]
  },
  {
   "cell_type": "markdown",
   "id": "107b3a21-7b10-4956-9810-3467fa7db6c9",
   "metadata": {},
   "source": [
    "To limit the effect of confounders, the individuals of the groups will be matched on propensity score, namely the probability of being in the treatment group based on observed covariates. Given the extremly large size of the dataset, that would require a heavy computational time for the matching, the actors are first clustered into sub-classes, that differ in terms of the parameters chosen to evaluate movie success (revenues and ratings). Eventually, the original dataset is compared to each of the clusters, to extract the most similar one based on the analysis of the statistics and distributions of the parameters of interest."
   ]
  },
  {
   "cell_type": "code",
   "execution_count": 219,
   "id": "b3588f34-2525-4ce1-96bc-726705a5bac6",
   "metadata": {},
   "outputs": [],
   "source": [
    "#standardization of parameters\n",
    "Xc = actors[{'revenues','ratings'}]\n",
    "Xc['revenues'] = Xc['revenues'].apply('log')\n",
    "Xc['ratings'] = Xc['ratings'].apply('log')\n",
    "Xc['revenues'] = (Xc['revenues'] - Xc['revenues'].mean())/Xc['revenues'].std()\n",
    "Xc['ratings'] = (Xc['ratings'] - Xc['ratings'].mean())/Xc['ratings'].std()"
   ]
  },
  {
   "cell_type": "markdown",
   "id": "937f7127-ad75-4c8c-8be0-9f9879309793",
   "metadata": {},
   "source": [
    "At first, the optimal number of clusters has to be identified, bearing in mind that we are not looking for distinct sub-classes, but for a method to simplify the large size of the problem, without compromising the outputs of the study."
   ]
  },
  {
   "cell_type": "code",
   "execution_count": 220,
   "id": "53df43d8-d6a0-491a-ba6e-c3298d89a16a",
   "metadata": {},
   "outputs": [],
   "source": [
    "actors['treatment'] = (actors['appearances'] > 2).astype(int)"
   ]
  },
  {
   "cell_type": "markdown",
   "id": "82549461-d21f-483a-8f71-2ec7d9645ccc",
   "metadata": {},
   "source": [
    "To extract the propensity scores, a logistic regression is trained and applied on the same dataset, this will output the needed probabilities.\n",
    "\n",
    "In is worth mentioning that the revenues and ratings are characteristics that define the success of the movie and that will set the basis for the definition of the *star score*. Therefore, they are not included in the matching features, otherwise they would bias the process of identification of successful actors."
   ]
  },
  {
   "cell_type": "code",
   "execution_count": 221,
   "id": "63c50c9a-f017-4ad9-abd1-7da6c1dab23c",
   "metadata": {},
   "outputs": [],
   "source": [
    "X = actors[{'main_genre','2nd_genre','gender'}]"
   ]
  },
  {
   "cell_type": "code",
   "execution_count": 222,
   "id": "f9f7ef83-3d33-4a73-8a3b-9cbbb84b59f9",
   "metadata": {},
   "outputs": [],
   "source": [
    "X = pd.get_dummies(X,columns=['main_genre','2nd_genre','gender'])\n",
    "y = actors['treatment']"
   ]
  },
  {
   "cell_type": "code",
   "execution_count": 223,
   "id": "e877ede0-20bb-46bf-b0e3-ee61ca8db511",
   "metadata": {},
   "outputs": [
    {
     "data": {
      "text/html": [
       "<div>\n",
       "<style scoped>\n",
       "    .dataframe tbody tr th:only-of-type {\n",
       "        vertical-align: middle;\n",
       "    }\n",
       "\n",
       "    .dataframe tbody tr th {\n",
       "        vertical-align: top;\n",
       "    }\n",
       "\n",
       "    .dataframe thead th {\n",
       "        text-align: right;\n",
       "    }\n",
       "</style>\n",
       "<table border=\"1\" class=\"dataframe\">\n",
       "  <thead>\n",
       "    <tr style=\"text-align: right;\">\n",
       "      <th></th>\n",
       "      <th>main_genre_Absurdism</th>\n",
       "      <th>main_genre_Action</th>\n",
       "      <th>main_genre_Action Comedy</th>\n",
       "      <th>main_genre_Action Thrillers</th>\n",
       "      <th>main_genre_Action/Adventure</th>\n",
       "      <th>main_genre_Addiction Drama</th>\n",
       "      <th>main_genre_Adult</th>\n",
       "      <th>main_genre_Adventure</th>\n",
       "      <th>main_genre_Adventure Comedy</th>\n",
       "      <th>main_genre_Airplanes and airports</th>\n",
       "      <th>...</th>\n",
       "      <th>2nd_genre_Suspense</th>\n",
       "      <th>2nd_genre_Teen</th>\n",
       "      <th>2nd_genre_Thriller</th>\n",
       "      <th>2nd_genre_Time travel</th>\n",
       "      <th>2nd_genre_War film</th>\n",
       "      <th>2nd_genre_Western</th>\n",
       "      <th>2nd_genre_Workplace Comedy</th>\n",
       "      <th>2nd_genre_World cinema</th>\n",
       "      <th>gender_F</th>\n",
       "      <th>gender_M</th>\n",
       "    </tr>\n",
       "  </thead>\n",
       "  <tbody>\n",
       "    <tr>\n",
       "      <th>0</th>\n",
       "      <td>0</td>\n",
       "      <td>0</td>\n",
       "      <td>0</td>\n",
       "      <td>0</td>\n",
       "      <td>0</td>\n",
       "      <td>0</td>\n",
       "      <td>0</td>\n",
       "      <td>0</td>\n",
       "      <td>0</td>\n",
       "      <td>0</td>\n",
       "      <td>...</td>\n",
       "      <td>0</td>\n",
       "      <td>0</td>\n",
       "      <td>0</td>\n",
       "      <td>0</td>\n",
       "      <td>0</td>\n",
       "      <td>0</td>\n",
       "      <td>0</td>\n",
       "      <td>0</td>\n",
       "      <td>0</td>\n",
       "      <td>1</td>\n",
       "    </tr>\n",
       "    <tr>\n",
       "      <th>1</th>\n",
       "      <td>0</td>\n",
       "      <td>0</td>\n",
       "      <td>0</td>\n",
       "      <td>0</td>\n",
       "      <td>0</td>\n",
       "      <td>0</td>\n",
       "      <td>0</td>\n",
       "      <td>0</td>\n",
       "      <td>0</td>\n",
       "      <td>0</td>\n",
       "      <td>...</td>\n",
       "      <td>0</td>\n",
       "      <td>0</td>\n",
       "      <td>0</td>\n",
       "      <td>0</td>\n",
       "      <td>0</td>\n",
       "      <td>0</td>\n",
       "      <td>0</td>\n",
       "      <td>0</td>\n",
       "      <td>0</td>\n",
       "      <td>1</td>\n",
       "    </tr>\n",
       "    <tr>\n",
       "      <th>2</th>\n",
       "      <td>0</td>\n",
       "      <td>0</td>\n",
       "      <td>0</td>\n",
       "      <td>0</td>\n",
       "      <td>0</td>\n",
       "      <td>0</td>\n",
       "      <td>0</td>\n",
       "      <td>0</td>\n",
       "      <td>0</td>\n",
       "      <td>0</td>\n",
       "      <td>...</td>\n",
       "      <td>0</td>\n",
       "      <td>0</td>\n",
       "      <td>0</td>\n",
       "      <td>0</td>\n",
       "      <td>0</td>\n",
       "      <td>0</td>\n",
       "      <td>0</td>\n",
       "      <td>0</td>\n",
       "      <td>0</td>\n",
       "      <td>1</td>\n",
       "    </tr>\n",
       "  </tbody>\n",
       "</table>\n",
       "<p>3 rows × 326 columns</p>\n",
       "</div>"
      ],
      "text/plain": [
       "   main_genre_Absurdism  main_genre_Action  main_genre_Action Comedy  \\\n",
       "0                     0                  0                         0   \n",
       "1                     0                  0                         0   \n",
       "2                     0                  0                         0   \n",
       "\n",
       "   main_genre_Action Thrillers  main_genre_Action/Adventure  \\\n",
       "0                            0                            0   \n",
       "1                            0                            0   \n",
       "2                            0                            0   \n",
       "\n",
       "   main_genre_Addiction Drama  main_genre_Adult  main_genre_Adventure  \\\n",
       "0                           0                 0                     0   \n",
       "1                           0                 0                     0   \n",
       "2                           0                 0                     0   \n",
       "\n",
       "   main_genre_Adventure Comedy  main_genre_Airplanes and airports  ...  \\\n",
       "0                            0                                  0  ...   \n",
       "1                            0                                  0  ...   \n",
       "2                            0                                  0  ...   \n",
       "\n",
       "   2nd_genre_Suspense  2nd_genre_Teen  2nd_genre_Thriller  \\\n",
       "0                   0               0                   0   \n",
       "1                   0               0                   0   \n",
       "2                   0               0                   0   \n",
       "\n",
       "   2nd_genre_Time travel  2nd_genre_War film  2nd_genre_Western  \\\n",
       "0                      0                   0                  0   \n",
       "1                      0                   0                  0   \n",
       "2                      0                   0                  0   \n",
       "\n",
       "   2nd_genre_Workplace Comedy  2nd_genre_World cinema  gender_F  gender_M  \n",
       "0                           0                       0         0         1  \n",
       "1                           0                       0         0         1  \n",
       "2                           0                       0         0         1  \n",
       "\n",
       "[3 rows x 326 columns]"
      ]
     },
     "execution_count": 223,
     "metadata": {},
     "output_type": "execute_result"
    }
   ],
   "source": [
    "X.head(3)"
   ]
  },
  {
   "cell_type": "code",
   "execution_count": 224,
   "id": "59a9a185-d547-46ed-aa7b-c810dac3b713",
   "metadata": {},
   "outputs": [
    {
     "data": {
      "text/html": [
       "<style>#sk-container-id-3 {color: black;background-color: white;}#sk-container-id-3 pre{padding: 0;}#sk-container-id-3 div.sk-toggleable {background-color: white;}#sk-container-id-3 label.sk-toggleable__label {cursor: pointer;display: block;width: 100%;margin-bottom: 0;padding: 0.3em;box-sizing: border-box;text-align: center;}#sk-container-id-3 label.sk-toggleable__label-arrow:before {content: \"▸\";float: left;margin-right: 0.25em;color: #696969;}#sk-container-id-3 label.sk-toggleable__label-arrow:hover:before {color: black;}#sk-container-id-3 div.sk-estimator:hover label.sk-toggleable__label-arrow:before {color: black;}#sk-container-id-3 div.sk-toggleable__content {max-height: 0;max-width: 0;overflow: hidden;text-align: left;background-color: #f0f8ff;}#sk-container-id-3 div.sk-toggleable__content pre {margin: 0.2em;color: black;border-radius: 0.25em;background-color: #f0f8ff;}#sk-container-id-3 input.sk-toggleable__control:checked~div.sk-toggleable__content {max-height: 200px;max-width: 100%;overflow: auto;}#sk-container-id-3 input.sk-toggleable__control:checked~label.sk-toggleable__label-arrow:before {content: \"▾\";}#sk-container-id-3 div.sk-estimator input.sk-toggleable__control:checked~label.sk-toggleable__label {background-color: #d4ebff;}#sk-container-id-3 div.sk-label input.sk-toggleable__control:checked~label.sk-toggleable__label {background-color: #d4ebff;}#sk-container-id-3 input.sk-hidden--visually {border: 0;clip: rect(1px 1px 1px 1px);clip: rect(1px, 1px, 1px, 1px);height: 1px;margin: -1px;overflow: hidden;padding: 0;position: absolute;width: 1px;}#sk-container-id-3 div.sk-estimator {font-family: monospace;background-color: #f0f8ff;border: 1px dotted black;border-radius: 0.25em;box-sizing: border-box;margin-bottom: 0.5em;}#sk-container-id-3 div.sk-estimator:hover {background-color: #d4ebff;}#sk-container-id-3 div.sk-parallel-item::after {content: \"\";width: 100%;border-bottom: 1px solid gray;flex-grow: 1;}#sk-container-id-3 div.sk-label:hover label.sk-toggleable__label {background-color: #d4ebff;}#sk-container-id-3 div.sk-serial::before {content: \"\";position: absolute;border-left: 1px solid gray;box-sizing: border-box;top: 0;bottom: 0;left: 50%;z-index: 0;}#sk-container-id-3 div.sk-serial {display: flex;flex-direction: column;align-items: center;background-color: white;padding-right: 0.2em;padding-left: 0.2em;position: relative;}#sk-container-id-3 div.sk-item {position: relative;z-index: 1;}#sk-container-id-3 div.sk-parallel {display: flex;align-items: stretch;justify-content: center;background-color: white;position: relative;}#sk-container-id-3 div.sk-item::before, #sk-container-id-3 div.sk-parallel-item::before {content: \"\";position: absolute;border-left: 1px solid gray;box-sizing: border-box;top: 0;bottom: 0;left: 50%;z-index: -1;}#sk-container-id-3 div.sk-parallel-item {display: flex;flex-direction: column;z-index: 1;position: relative;background-color: white;}#sk-container-id-3 div.sk-parallel-item:first-child::after {align-self: flex-end;width: 50%;}#sk-container-id-3 div.sk-parallel-item:last-child::after {align-self: flex-start;width: 50%;}#sk-container-id-3 div.sk-parallel-item:only-child::after {width: 0;}#sk-container-id-3 div.sk-dashed-wrapped {border: 1px dashed gray;margin: 0 0.4em 0.5em 0.4em;box-sizing: border-box;padding-bottom: 0.4em;background-color: white;}#sk-container-id-3 div.sk-label label {font-family: monospace;font-weight: bold;display: inline-block;line-height: 1.2em;}#sk-container-id-3 div.sk-label-container {text-align: center;}#sk-container-id-3 div.sk-container {/* jupyter's `normalize.less` sets `[hidden] { display: none; }` but bootstrap.min.css set `[hidden] { display: none !important; }` so we also need the `!important` here to be able to override the default hidden behavior on the sphinx rendered scikit-learn.org. See: https://github.com/scikit-learn/scikit-learn/issues/21755 */display: inline-block !important;position: relative;}#sk-container-id-3 div.sk-text-repr-fallback {display: none;}</style><div id=\"sk-container-id-3\" class=\"sk-top-container\"><div class=\"sk-text-repr-fallback\"><pre>LogisticRegression(max_iter=100000)</pre><b>In a Jupyter environment, please rerun this cell to show the HTML representation or trust the notebook. <br />On GitHub, the HTML representation is unable to render, please try loading this page with nbviewer.org.</b></div><div class=\"sk-container\" hidden><div class=\"sk-item\"><div class=\"sk-estimator sk-toggleable\"><input class=\"sk-toggleable__control sk-hidden--visually\" id=\"sk-estimator-id-3\" type=\"checkbox\" checked><label for=\"sk-estimator-id-3\" class=\"sk-toggleable__label sk-toggleable__label-arrow\">LogisticRegression</label><div class=\"sk-toggleable__content\"><pre>LogisticRegression(max_iter=100000)</pre></div></div></div></div></div>"
      ],
      "text/plain": [
       "LogisticRegression(max_iter=100000)"
      ]
     },
     "execution_count": 224,
     "metadata": {},
     "output_type": "execute_result"
    }
   ],
   "source": [
    "from sklearn.linear_model import LogisticRegression\n",
    "\n",
    "logistic = LogisticRegression(solver='lbfgs', max_iter=100000)\n",
    "logistic.fit(X,y)"
   ]
  },
  {
   "cell_type": "code",
   "execution_count": 225,
   "id": "0f182955-1284-40b9-b5a7-9d5fe35a2d97",
   "metadata": {},
   "outputs": [],
   "source": [
    "actors['propensity_score'] = [i[0] for i in list(logistic.predict_proba(X))]"
   ]
  },
  {
   "cell_type": "markdown",
   "id": "1d92f9da-6b0e-4a40-ba27-b63f5ac6e508",
   "metadata": {},
   "source": [
    "To further balance the two sub-groups of actors, the process will only match actors of the same gender. Indeed, the gender is a possible confounder for linking the actors to movie success.\n",
    "\n",
    "Given the extremely large size of the dataset and the matching exponential time needed to minimize the similarity difference between all the possible combinations, the matching is carried out on randomly chosen subsets of the balanced dataset. The statistical significance of the correlation will depend on the resulting p-value, corrected with the Bonferroni correction."
   ]
  },
  {
   "cell_type": "code",
   "execution_count": 226,
   "id": "55ab1b84-d8b5-4c81-a0d3-01dc6f4328eb",
   "metadata": {},
   "outputs": [],
   "source": [
    "#function to compute similarity (difference between propensity scores to be minimized in the matching)\n",
    "def get_similarity(prop1,prop2):\n",
    "    return 1-abs(prop1-prop2)"
   ]
  },
  {
   "cell_type": "code",
   "execution_count": 227,
   "id": "3023974f-66a6-48f4-bfb6-2b2923a29149",
   "metadata": {},
   "outputs": [],
   "source": [
    "import networkx as nx"
   ]
  },
  {
   "cell_type": "code",
   "execution_count": 268,
   "id": "523ab7be-6439-4de0-bc9b-56681f6b8861",
   "metadata": {},
   "outputs": [],
   "source": [
    "coefficients = []\n",
    "for i in range(10):\n",
    "    ran = actors.sample(frac=.05)\n",
    "\n",
    "    # Create an empty undirected graph\n",
    "    G = nx.Graph()\n",
    "\n",
    "    #define treatment and control groups\n",
    "    treat = ran[ran['appearances'] > 2]\n",
    "    contr = ran[ran['appearances'] <= 2]\n",
    "\n",
    "# Loop through all the pairs of instances\n",
    "    for i, j in contr.iterrows():\n",
    "        for k, l in treat.iterrows():\n",
    "            if j['gender'] == l['gender']:\n",
    "                # Calculate the similarity \n",
    "                similarity = get_similarity(j['propensity_score'],\n",
    "                                            l['propensity_score'])\n",
    "\n",
    "                # Add an edge between the two instances weighted by the similarity between them\n",
    "                G.add_weighted_edges_from([(i, k, similarity)])\n",
    "                \n",
    "                # Generate and return the maximum weight matching on the generated graph\n",
    "    matching = nx.max_weight_matching(G)\n",
    "\n",
    "    matched = [i[0] for i in list(matching)] + [i[1] for i in list(matching)] #create list with all indexes of people paired\n",
    "\n",
    "    balanced_df = actors.loc[matched] #extract only rows with paired subjects\n",
    "    \n",
    "    X1 = balanced_df[{'treatment','revenues','ratings'}]\n",
    "    X1['revenues'] = X1['revenues'].apply('log')\n",
    "    #X1['ratings'] = X1['ratings'].apply('log')\n",
    "    X1['revenues'] = (X1['revenues'] - X1['revenues'].mean())/X1['revenues'].std()\n",
    "    X1['ratings'] = (X1['ratings'] - X1['ratings'].mean())/X1['ratings'].std()\n",
    "    \n",
    "    mod = smf.ols(formula='treatment ~ revenues + ratings',\n",
    "              data=X1)\n",
    "    res = mod.fit()\n",
    "    coeff = res.params.values\n",
    "    p_values = res.pvalues\n",
    "    \n",
    "    coefficients.append({\"Int\": coeff[0], 'p_int': p_values[0], \"C1\": coeff[1], 'p1': p_values[1], \"C2\": coeff[2], 'p2': p_values[2]})"
   ]
  },
  {
   "cell_type": "markdown",
   "id": "959fdb50-cf14-45bc-be44-a6057ffb3b76",
   "metadata": {},
   "source": [
    "The results of the linear regression on the balanced datasets are shown below. In this case, given the number of randomly chosen samples (10), the Bonferroni correction would be given by:\n",
    "\n",
    "$\\alpha = \\frac{\\alpha_i}{n} = \\frac{0.05}{10} = 0.005$\n",
    "\n",
    "where $\\alpha$ is the overall alpha level, $\\alpha_i$ are the alpha levels for each hypothesis and $n$ is the number of hypothesis.\n",
    "\n",
    "From the results, it it possible to observe that there is alwaya a positive correlation with the revenues and a negative correlation with the ratings. The statistical significance of both correlation is enforced by Bonferroni correction, because of five samples showing statistical significance."
   ]
  },
  {
   "cell_type": "code",
   "execution_count": 270,
   "id": "01df8100-9e67-4211-b7a2-8956a9999497",
   "metadata": {},
   "outputs": [
    {
     "data": {
      "text/html": [
       "<div>\n",
       "<style scoped>\n",
       "    .dataframe tbody tr th:only-of-type {\n",
       "        vertical-align: middle;\n",
       "    }\n",
       "\n",
       "    .dataframe tbody tr th {\n",
       "        vertical-align: top;\n",
       "    }\n",
       "\n",
       "    .dataframe thead th {\n",
       "        text-align: right;\n",
       "    }\n",
       "</style>\n",
       "<table border=\"1\" class=\"dataframe\">\n",
       "  <thead>\n",
       "    <tr style=\"text-align: right;\">\n",
       "      <th></th>\n",
       "      <th>Int</th>\n",
       "      <th>p_int</th>\n",
       "      <th>C1</th>\n",
       "      <th>p1</th>\n",
       "      <th>C2</th>\n",
       "      <th>p2</th>\n",
       "    </tr>\n",
       "  </thead>\n",
       "  <tbody>\n",
       "    <tr>\n",
       "      <th>0</th>\n",
       "      <td>0.5</td>\n",
       "      <td>3.827165e-122</td>\n",
       "      <td>0.158496</td>\n",
       "      <td>3.196902e-14</td>\n",
       "      <td>-0.052112</td>\n",
       "      <td>0.011128</td>\n",
       "    </tr>\n",
       "    <tr>\n",
       "      <th>1</th>\n",
       "      <td>0.5</td>\n",
       "      <td>2.324830e-121</td>\n",
       "      <td>0.184698</td>\n",
       "      <td>4.180626e-19</td>\n",
       "      <td>-0.024554</td>\n",
       "      <td>0.222334</td>\n",
       "    </tr>\n",
       "    <tr>\n",
       "      <th>2</th>\n",
       "      <td>0.5</td>\n",
       "      <td>6.291929e-119</td>\n",
       "      <td>0.133337</td>\n",
       "      <td>7.838802e-11</td>\n",
       "      <td>-0.032100</td>\n",
       "      <td>0.112527</td>\n",
       "    </tr>\n",
       "    <tr>\n",
       "      <th>3</th>\n",
       "      <td>0.5</td>\n",
       "      <td>4.168961e-125</td>\n",
       "      <td>0.181668</td>\n",
       "      <td>6.356548e-20</td>\n",
       "      <td>-0.074933</td>\n",
       "      <td>0.000115</td>\n",
       "    </tr>\n",
       "    <tr>\n",
       "      <th>4</th>\n",
       "      <td>0.5</td>\n",
       "      <td>2.394616e-128</td>\n",
       "      <td>0.164251</td>\n",
       "      <td>1.717207e-17</td>\n",
       "      <td>-0.065031</td>\n",
       "      <td>0.000590</td>\n",
       "    </tr>\n",
       "    <tr>\n",
       "      <th>5</th>\n",
       "      <td>0.5</td>\n",
       "      <td>2.878947e-130</td>\n",
       "      <td>0.158259</td>\n",
       "      <td>1.664674e-15</td>\n",
       "      <td>-0.052154</td>\n",
       "      <td>0.007555</td>\n",
       "    </tr>\n",
       "    <tr>\n",
       "      <th>6</th>\n",
       "      <td>0.5</td>\n",
       "      <td>3.623435e-131</td>\n",
       "      <td>0.181438</td>\n",
       "      <td>7.131354e-21</td>\n",
       "      <td>-0.060039</td>\n",
       "      <td>0.001477</td>\n",
       "    </tr>\n",
       "    <tr>\n",
       "      <th>7</th>\n",
       "      <td>0.5</td>\n",
       "      <td>5.844758e-134</td>\n",
       "      <td>0.180770</td>\n",
       "      <td>9.981054e-21</td>\n",
       "      <td>-0.076043</td>\n",
       "      <td>0.000059</td>\n",
       "    </tr>\n",
       "    <tr>\n",
       "      <th>8</th>\n",
       "      <td>0.5</td>\n",
       "      <td>5.192754e-123</td>\n",
       "      <td>0.209407</td>\n",
       "      <td>5.710155e-24</td>\n",
       "      <td>-0.063296</td>\n",
       "      <td>0.001622</td>\n",
       "    </tr>\n",
       "    <tr>\n",
       "      <th>9</th>\n",
       "      <td>0.5</td>\n",
       "      <td>7.314468e-126</td>\n",
       "      <td>0.170345</td>\n",
       "      <td>2.073208e-19</td>\n",
       "      <td>-0.040918</td>\n",
       "      <td>0.026451</td>\n",
       "    </tr>\n",
       "  </tbody>\n",
       "</table>\n",
       "</div>"
      ],
      "text/plain": [
       "   Int          p_int        C1            p1        C2        p2\n",
       "0  0.5  3.827165e-122  0.158496  3.196902e-14 -0.052112  0.011128\n",
       "1  0.5  2.324830e-121  0.184698  4.180626e-19 -0.024554  0.222334\n",
       "2  0.5  6.291929e-119  0.133337  7.838802e-11 -0.032100  0.112527\n",
       "3  0.5  4.168961e-125  0.181668  6.356548e-20 -0.074933  0.000115\n",
       "4  0.5  2.394616e-128  0.164251  1.717207e-17 -0.065031  0.000590\n",
       "5  0.5  2.878947e-130  0.158259  1.664674e-15 -0.052154  0.007555\n",
       "6  0.5  3.623435e-131  0.181438  7.131354e-21 -0.060039  0.001477\n",
       "7  0.5  5.844758e-134  0.180770  9.981054e-21 -0.076043  0.000059\n",
       "8  0.5  5.192754e-123  0.209407  5.710155e-24 -0.063296  0.001622\n",
       "9  0.5  7.314468e-126  0.170345  2.073208e-19 -0.040918  0.026451"
      ]
     },
     "execution_count": 270,
     "metadata": {},
     "output_type": "execute_result"
    }
   ],
   "source": [
    "pd.DataFrame(coefficients)"
   ]
  },
  {
   "cell_type": "markdown",
   "id": "26bf26f6-a094-4212-bc28-54cc2b4770ad",
   "metadata": {},
   "source": [
    "The *star score* can eventually be defined based on the above analysis.\n",
    "\n",
    "$star\\ score = \\tilde{A} + \\log{(\\\\tilde{R} \\tilde{G} )}$\n",
    "\n",
    "where $\\tilde{A}$ is the median of the number of appearances in the actors career, $\\tilde{R}$, $\\tilde{G}$ are the medians of the revenues and ratings caused to the movies he starred in."
   ]
  },
  {
   "cell_type": "markdown",
   "id": "8c442c79-d6be-4f63-8665-d226b9f09c67",
   "metadata": {},
   "source": [
    "As a remainder, male actors were matched together, as well as female actresses, because of the will to tackle the possible confounder of gender disparity. A posteriori, it can be verified that the gender does not play a role in the actor's success on the balanced dataset. Two independent tests are carried out on the balanced dataset (investigating revenues and ratings) and the reslts show p-values larger than 0.05, implying the acceptance of the null-hypothesis that the samples have same averages.\n",
    "\n",
    "Therefore, the confounder was successfully tackled."
   ]
  },
  {
   "cell_type": "code",
   "execution_count": 82,
   "id": "6d64b665-3d38-4201-a8de-cb033cee4386",
   "metadata": {},
   "outputs": [],
   "source": [
    "df_m = balanced_df[balanced_df['gender'] == 'M']\n",
    "df_f = balanced_df[balanced_df['gender'] == 'F']"
   ]
  },
  {
   "cell_type": "code",
   "execution_count": 83,
   "id": "4cfd0806-ef8a-4a51-9dcf-3f6d318081b5",
   "metadata": {},
   "outputs": [
    {
     "name": "stdout",
     "output_type": "stream",
     "text": [
      "Ttest_indResult(statistic=1.2557731003167656, pvalue=0.2094005573762068)\n",
      "Ttest_indResult(statistic=0.5487491385163628, pvalue=0.5832621018055049)\n"
     ]
    }
   ],
   "source": [
    "print(stats.ttest_ind(df_m['revenues'], df_f['revenues'])) #independent test\n",
    "print(stats.ttest_ind(df_m['ratings'], df_f['ratings'])) #independent test"
   ]
  },
  {
   "cell_type": "code",
   "execution_count": null,
   "id": "773648cd-2eba-43bd-8b4b-7521957889eb",
   "metadata": {},
   "outputs": [],
   "source": []
  }
 ],
 "metadata": {
  "kernelspec": {
   "display_name": "Python [conda env:ada] *",
   "language": "python",
   "name": "conda-env-ada-py"
  },
  "language_info": {
   "codemirror_mode": {
    "name": "ipython",
    "version": 3
   },
   "file_extension": ".py",
   "mimetype": "text/x-python",
   "name": "python",
   "nbconvert_exporter": "python",
   "pygments_lexer": "ipython3",
   "version": "3.8.13"
  }
 },
 "nbformat": 4,
 "nbformat_minor": 5
}
